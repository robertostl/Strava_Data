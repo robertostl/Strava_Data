{
 "cells": [
  {
   "cell_type": "markdown",
   "metadata": {},
   "source": [
    "# Analisis de los datos de Strava"
   ]
  },
  {
   "cell_type": "code",
   "execution_count": 1,
   "metadata": {},
   "outputs": [],
   "source": [
    "%%capture\n",
    "# Install necessary packages\n",
    "!pip install fitdecode\n",
    "!pip install Path\n",
    "!pip install zipfile36\n",
    "!pip install dateparser"
   ]
  },
  {
   "cell_type": "markdown",
   "metadata": {},
   "source": [
    "Importing the necesary data"
   ]
  },
  {
   "cell_type": "code",
   "execution_count": 36,
   "metadata": {},
   "outputs": [
    {
     "name": "stderr",
     "output_type": "stream",
     "text": [
      "/tmp/ipykernel_1390/395550362.py:33: FutureWarning:\n",
      "\n",
      "The argument 'date_parser' is deprecated and will be removed in a future version. Please use 'date_format' instead, or read your data in as 'object' dtype and then call 'to_datetime'.\n",
      "\n"
     ]
    },
    {
     "name": "stdout",
     "output_type": "stream",
     "text": [
      "550 rows in raw file\n",
      "550 rows remaining after cleaning\n",
      "Ranges from 2018-09-09 to 2023-08-30\n"
     ]
    },
    {
     "data": {
      "text/html": [
       "<div>\n",
       "<style scoped>\n",
       "    .dataframe tbody tr th:only-of-type {\n",
       "        vertical-align: middle;\n",
       "    }\n",
       "\n",
       "    .dataframe tbody tr th {\n",
       "        vertical-align: top;\n",
       "    }\n",
       "\n",
       "    .dataframe thead th {\n",
       "        text-align: right;\n",
       "    }\n",
       "</style>\n",
       "<table border=\"1\" class=\"dataframe\">\n",
       "  <thead>\n",
       "    <tr style=\"text-align: right;\">\n",
       "      <th></th>\n",
       "      <th>Activity Date</th>\n",
       "      <th>Activity Name</th>\n",
       "      <th>Activity Type</th>\n",
       "      <th>Year</th>\n",
       "      <th>Quarter</th>\n",
       "      <th>Month</th>\n",
       "      <th>Week</th>\n",
       "      <th>Day</th>\n",
       "      <th>Activity Description</th>\n",
       "      <th>Elapsed Time</th>\n",
       "      <th>...</th>\n",
       "      <th>Filename</th>\n",
       "      <th>Moving Time (hr)</th>\n",
       "      <th>Moving Time</th>\n",
       "      <th>Distance</th>\n",
       "      <th>Distance (km)</th>\n",
       "      <th>Average Speed (km/hr)</th>\n",
       "      <th>Max Speed (km/hr)</th>\n",
       "      <th>Max Pace</th>\n",
       "      <th>Elevation Gain</th>\n",
       "      <th>Average Heart Rate</th>\n",
       "    </tr>\n",
       "    <tr>\n",
       "      <th>Activity ID</th>\n",
       "      <th></th>\n",
       "      <th></th>\n",
       "      <th></th>\n",
       "      <th></th>\n",
       "      <th></th>\n",
       "      <th></th>\n",
       "      <th></th>\n",
       "      <th></th>\n",
       "      <th></th>\n",
       "      <th></th>\n",
       "      <th></th>\n",
       "      <th></th>\n",
       "      <th></th>\n",
       "      <th></th>\n",
       "      <th></th>\n",
       "      <th></th>\n",
       "      <th></th>\n",
       "      <th></th>\n",
       "      <th></th>\n",
       "      <th></th>\n",
       "      <th></th>\n",
       "    </tr>\n",
       "  </thead>\n",
       "  <tbody>\n",
       "    <tr>\n",
       "      <th>9638976449</th>\n",
       "      <td>2023-08-13 09:34:26</td>\n",
       "      <td>Bicicleta a la hora del almuerzo</td>\n",
       "      <td>Bicicleta</td>\n",
       "      <td>2023</td>\n",
       "      <td>2023Q3</td>\n",
       "      <td>2023-08</td>\n",
       "      <td>2023-08-07/2023-08-13</td>\n",
       "      <td>2023-08-13</td>\n",
       "      <td>NaN</td>\n",
       "      <td>9806</td>\n",
       "      <td>...</td>\n",
       "      <td>activities/10334897911.fit.gz</td>\n",
       "      <td>2.180833</td>\n",
       "      <td>7851.0</td>\n",
       "      <td>44452.949219</td>\n",
       "      <td>44.452949</td>\n",
       "      <td>20.383469</td>\n",
       "      <td>55.281095</td>\n",
       "      <td>15.355860</td>\n",
       "      <td>1087.0</td>\n",
       "      <td>NaN</td>\n",
       "    </tr>\n",
       "    <tr>\n",
       "      <th>9644330136</th>\n",
       "      <td>2023-08-05 16:55:14</td>\n",
       "      <td>Carrera de noche</td>\n",
       "      <td>Carrera</td>\n",
       "      <td>2023</td>\n",
       "      <td>2023Q3</td>\n",
       "      <td>2023-08</td>\n",
       "      <td>2023-07-31/2023-08-06</td>\n",
       "      <td>2023-08-05</td>\n",
       "      <td>NaN</td>\n",
       "      <td>1870</td>\n",
       "      <td>...</td>\n",
       "      <td>activities/10340562580.fit.gz</td>\n",
       "      <td>0.516111</td>\n",
       "      <td>1858.0</td>\n",
       "      <td>6679.859863</td>\n",
       "      <td>6.679860</td>\n",
       "      <td>12.942678</td>\n",
       "      <td>26.819999</td>\n",
       "      <td>7.450000</td>\n",
       "      <td>0.0</td>\n",
       "      <td>185.839615</td>\n",
       "    </tr>\n",
       "    <tr>\n",
       "      <th>9683261634</th>\n",
       "      <td>2023-08-20 06:21:37</td>\n",
       "      <td>Bicicleta por la mañana</td>\n",
       "      <td>Bicicleta</td>\n",
       "      <td>2023</td>\n",
       "      <td>2023Q3</td>\n",
       "      <td>2023-08</td>\n",
       "      <td>2023-08-14/2023-08-20</td>\n",
       "      <td>2023-08-20</td>\n",
       "      <td>NaN</td>\n",
       "      <td>4957</td>\n",
       "      <td>...</td>\n",
       "      <td>activities/10381618854.fit.gz</td>\n",
       "      <td>1.183333</td>\n",
       "      <td>4260.0</td>\n",
       "      <td>24721.830078</td>\n",
       "      <td>24.721830</td>\n",
       "      <td>20.891687</td>\n",
       "      <td>49.886248</td>\n",
       "      <td>13.857291</td>\n",
       "      <td>535.0</td>\n",
       "      <td>NaN</td>\n",
       "    </tr>\n",
       "    <tr>\n",
       "      <th>9750863053</th>\n",
       "      <td>2023-08-21 17:16:47</td>\n",
       "      <td>Bicicleta al anochecer</td>\n",
       "      <td>Bicicleta</td>\n",
       "      <td>2023</td>\n",
       "      <td>2023Q3</td>\n",
       "      <td>2023-08</td>\n",
       "      <td>2023-08-21/2023-08-27</td>\n",
       "      <td>2023-08-21</td>\n",
       "      <td>NaN</td>\n",
       "      <td>6049</td>\n",
       "      <td>...</td>\n",
       "      <td>activities/10453731608.fit.gz</td>\n",
       "      <td>1.405556</td>\n",
       "      <td>5060.0</td>\n",
       "      <td>25067.339844</td>\n",
       "      <td>25.067340</td>\n",
       "      <td>17.834471</td>\n",
       "      <td>36.490079</td>\n",
       "      <td>10.136133</td>\n",
       "      <td>62.0</td>\n",
       "      <td>NaN</td>\n",
       "    </tr>\n",
       "    <tr>\n",
       "      <th>9750871220</th>\n",
       "      <td>2023-08-30 15:58:50</td>\n",
       "      <td>Bicicleta por la tarde</td>\n",
       "      <td>Bicicleta</td>\n",
       "      <td>2023</td>\n",
       "      <td>2023Q3</td>\n",
       "      <td>2023-08</td>\n",
       "      <td>2023-08-28/2023-09-03</td>\n",
       "      <td>2023-08-30</td>\n",
       "      <td>NaN</td>\n",
       "      <td>5646</td>\n",
       "      <td>...</td>\n",
       "      <td>activities/10453739983.fit.gz</td>\n",
       "      <td>1.412778</td>\n",
       "      <td>5086.0</td>\n",
       "      <td>29676.060547</td>\n",
       "      <td>29.676061</td>\n",
       "      <td>21.005470</td>\n",
       "      <td>54.762891</td>\n",
       "      <td>15.211914</td>\n",
       "      <td>667.0</td>\n",
       "      <td>NaN</td>\n",
       "    </tr>\n",
       "  </tbody>\n",
       "</table>\n",
       "<p>5 rows × 22 columns</p>\n",
       "</div>"
      ],
      "text/plain": [
       "                  Activity Date                     Activity Name  \\\n",
       "Activity ID                                                         \n",
       "9638976449  2023-08-13 09:34:26  Bicicleta a la hora del almuerzo   \n",
       "9644330136  2023-08-05 16:55:14                  Carrera de noche   \n",
       "9683261634  2023-08-20 06:21:37           Bicicleta por la mañana   \n",
       "9750863053  2023-08-21 17:16:47            Bicicleta al anochecer   \n",
       "9750871220  2023-08-30 15:58:50            Bicicleta por la tarde   \n",
       "\n",
       "            Activity Type  Year Quarter    Month                   Week  \\\n",
       "Activity ID                                                               \n",
       "9638976449      Bicicleta  2023  2023Q3  2023-08  2023-08-07/2023-08-13   \n",
       "9644330136        Carrera  2023  2023Q3  2023-08  2023-07-31/2023-08-06   \n",
       "9683261634      Bicicleta  2023  2023Q3  2023-08  2023-08-14/2023-08-20   \n",
       "9750863053      Bicicleta  2023  2023Q3  2023-08  2023-08-21/2023-08-27   \n",
       "9750871220      Bicicleta  2023  2023Q3  2023-08  2023-08-28/2023-09-03   \n",
       "\n",
       "                    Day Activity Description  Elapsed Time  ...  \\\n",
       "Activity ID                                                 ...   \n",
       "9638976449   2023-08-13                  NaN          9806  ...   \n",
       "9644330136   2023-08-05                  NaN          1870  ...   \n",
       "9683261634   2023-08-20                  NaN          4957  ...   \n",
       "9750863053   2023-08-21                  NaN          6049  ...   \n",
       "9750871220   2023-08-30                  NaN          5646  ...   \n",
       "\n",
       "                                  Filename  Moving Time (hr) Moving Time  \\\n",
       "Activity ID                                                                \n",
       "9638976449   activities/10334897911.fit.gz          2.180833      7851.0   \n",
       "9644330136   activities/10340562580.fit.gz          0.516111      1858.0   \n",
       "9683261634   activities/10381618854.fit.gz          1.183333      4260.0   \n",
       "9750863053   activities/10453731608.fit.gz          1.405556      5060.0   \n",
       "9750871220   activities/10453739983.fit.gz          1.412778      5086.0   \n",
       "\n",
       "                 Distance  Distance (km)  Average Speed (km/hr)  \\\n",
       "Activity ID                                                       \n",
       "9638976449   44452.949219      44.452949              20.383469   \n",
       "9644330136    6679.859863       6.679860              12.942678   \n",
       "9683261634   24721.830078      24.721830              20.891687   \n",
       "9750863053   25067.339844      25.067340              17.834471   \n",
       "9750871220   29676.060547      29.676061              21.005470   \n",
       "\n",
       "             Max Speed (km/hr)   Max Pace  Elevation Gain  Average Heart Rate  \n",
       "Activity ID                                                                    \n",
       "9638976449           55.281095  15.355860          1087.0                 NaN  \n",
       "9644330136           26.819999   7.450000             0.0          185.839615  \n",
       "9683261634           49.886248  13.857291           535.0                 NaN  \n",
       "9750863053           36.490079  10.136133            62.0                 NaN  \n",
       "9750871220           54.762891  15.211914           667.0                 NaN  \n",
       "\n",
       "[5 rows x 22 columns]"
      ]
     },
     "execution_count": 36,
     "metadata": {},
     "output_type": "execute_result"
    }
   ],
   "source": [
    "# Importing packages\n",
    "import pandas as pd\n",
    "import numpy as np\n",
    "import plotly.express as px\n",
    "import plotly.graph_objects as go\n",
    "import dateparser\n",
    "\n",
    "# Positions of relevant columns\n",
    "usecols = [0, 1, 2, 3, 4, 5, 7, 8, 12, 16, 17, 18, 20, 31]\n",
    "\n",
    "# English column names\n",
    "names = [\n",
    "    \"Activity ID\",\n",
    "    \"Activity Date\",\n",
    "    \"Activity Name\",\n",
    "    \"Activity Type\",\n",
    "    \"Activity Description\",\n",
    "    \"Elapsed Time\",\n",
    "    \"Max Heart Rate\",\n",
    "    \"Relative Effort\",\n",
    "    \"Filename\",\n",
    "    \"Moving Time\",\n",
    "    \"Distance\",\n",
    "    \"Max Pace\",\n",
    "    \"Elevation Gain\",\n",
    "    \"Average Heart Rate\",\n",
    "]\n",
    "\n",
    "# Reading the raw data for reference\n",
    "raw = pd.read_csv(\"activities.csv\")\n",
    "\n",
    "# Reading the raw data with preprocessing\n",
    "df = pd.read_csv(\n",
    "    \"activities.csv\",\n",
    "    index_col=0,\n",
    "    parse_dates=[1],\n",
    "    usecols=usecols,\n",
    "    names=names,\n",
    "    header=0,\n",
    "    date_parser=dateparser.parse,\n",
    ")\n",
    "\n",
    "print(f\"{raw.shape[0]} rows in raw file\")\n",
    "\n",
    "# Drop columns with missing values in Moving Time and Distance\n",
    "df = df.dropna(axis=0, subset=[\"Moving Time\", \"Distance\"])\n",
    "\n",
    "print(f\"{df.shape[0]} rows remaining after cleaning\")\n",
    "\n",
    "# Creating new columns:\n",
    "# Add day, week, month, quarter, year columns\n",
    "names = [\"Day\", \"Week\", \"Month\", \"Quarter\", \"Year\"]\n",
    "periods = [\"D\", \"W\", \"M\", \"Q\", \"y\"]\n",
    "for n, p in zip(names, periods):\n",
    "    df.insert(3, n, df[\"Activity Date\"].dt.to_period(p).astype(str))\n",
    "# Convert moving time from seconds to hours\n",
    "df.insert(13, \"Moving Time (hr)\", df[\"Moving Time\"] / 3600)\n",
    "# Convert distance from meters to kilometers\n",
    "df.insert(16, \"Distance (km)\", df[\"Distance\"] / 1000)\n",
    "# Calculate average speed\n",
    "df.insert(17, \"Average Speed (km/hr)\", df[\"Distance (km)\"] / df[\"Moving Time (hr)\"])\n",
    "\n",
    "# Calculate maximum speed\n",
    "df.insert(18, \"Max Speed (km/hr)\", df[\"Max Pace\"]*3.6)\n",
    "\n",
    "# Print date bounds of the data\n",
    "print(f\"Ranges from {df.Day.min()} to {df.Day.max()}\")\n",
    "\n",
    "# Preview the data\n",
    "df.tail()"
   ]
  },
  {
   "cell_type": "markdown",
   "metadata": {},
   "source": [
    "Calculating the cumulative sums"
   ]
  },
  {
   "cell_type": "code",
   "execution_count": 7,
   "metadata": {},
   "outputs": [
    {
     "data": {
      "text/html": [
       "<div>\n",
       "<style scoped>\n",
       "    .dataframe tbody tr th:only-of-type {\n",
       "        vertical-align: middle;\n",
       "    }\n",
       "\n",
       "    .dataframe tbody tr th {\n",
       "        vertical-align: top;\n",
       "    }\n",
       "\n",
       "    .dataframe thead th {\n",
       "        text-align: right;\n",
       "    }\n",
       "</style>\n",
       "<table border=\"1\" class=\"dataframe\">\n",
       "  <thead>\n",
       "    <tr style=\"text-align: right;\">\n",
       "      <th></th>\n",
       "      <th>Month</th>\n",
       "      <th>Activity Type</th>\n",
       "      <th>count</th>\n",
       "      <th>total_distance_km</th>\n",
       "      <th>avg_distance_km</th>\n",
       "      <th>csum_km</th>\n",
       "    </tr>\n",
       "  </thead>\n",
       "  <tbody>\n",
       "    <tr>\n",
       "      <th>0</th>\n",
       "      <td>2018-09</td>\n",
       "      <td>Bicicleta</td>\n",
       "      <td>6</td>\n",
       "      <td>159.075098</td>\n",
       "      <td>26.512516</td>\n",
       "      <td>159.075098</td>\n",
       "    </tr>\n",
       "    <tr>\n",
       "      <th>100</th>\n",
       "      <td>2018-10</td>\n",
       "      <td>Bicicleta</td>\n",
       "      <td>0</td>\n",
       "      <td>0.000000</td>\n",
       "      <td>0.000000</td>\n",
       "      <td>159.075098</td>\n",
       "    </tr>\n",
       "    <tr>\n",
       "      <th>2</th>\n",
       "      <td>2018-11</td>\n",
       "      <td>Bicicleta</td>\n",
       "      <td>1</td>\n",
       "      <td>25.858400</td>\n",
       "      <td>25.858400</td>\n",
       "      <td>184.933499</td>\n",
       "    </tr>\n",
       "    <tr>\n",
       "      <th>4</th>\n",
       "      <td>2018-12</td>\n",
       "      <td>Bicicleta</td>\n",
       "      <td>2</td>\n",
       "      <td>25.319801</td>\n",
       "      <td>12.659900</td>\n",
       "      <td>210.253299</td>\n",
       "    </tr>\n",
       "    <tr>\n",
       "      <th>5</th>\n",
       "      <td>2019-01</td>\n",
       "      <td>Bicicleta</td>\n",
       "      <td>1</td>\n",
       "      <td>44.595602</td>\n",
       "      <td>44.595602</td>\n",
       "      <td>254.848901</td>\n",
       "    </tr>\n",
       "    <tr>\n",
       "      <th>...</th>\n",
       "      <td>...</td>\n",
       "      <td>...</td>\n",
       "      <td>...</td>\n",
       "      <td>...</td>\n",
       "      <td>...</td>\n",
       "      <td>...</td>\n",
       "    </tr>\n",
       "    <tr>\n",
       "      <th>91</th>\n",
       "      <td>2023-04</td>\n",
       "      <td>Carrera</td>\n",
       "      <td>14</td>\n",
       "      <td>126.872651</td>\n",
       "      <td>9.062332</td>\n",
       "      <td>2063.925490</td>\n",
       "    </tr>\n",
       "    <tr>\n",
       "      <th>93</th>\n",
       "      <td>2023-05</td>\n",
       "      <td>Carrera</td>\n",
       "      <td>14</td>\n",
       "      <td>147.999292</td>\n",
       "      <td>10.571378</td>\n",
       "      <td>2211.924782</td>\n",
       "    </tr>\n",
       "    <tr>\n",
       "      <th>95</th>\n",
       "      <td>2023-06</td>\n",
       "      <td>Carrera</td>\n",
       "      <td>16</td>\n",
       "      <td>137.116259</td>\n",
       "      <td>8.569766</td>\n",
       "      <td>2349.041041</td>\n",
       "    </tr>\n",
       "    <tr>\n",
       "      <th>97</th>\n",
       "      <td>2023-07</td>\n",
       "      <td>Carrera</td>\n",
       "      <td>9</td>\n",
       "      <td>91.196648</td>\n",
       "      <td>10.132961</td>\n",
       "      <td>2440.237690</td>\n",
       "    </tr>\n",
       "    <tr>\n",
       "      <th>99</th>\n",
       "      <td>2023-08</td>\n",
       "      <td>Carrera</td>\n",
       "      <td>2</td>\n",
       "      <td>11.947680</td>\n",
       "      <td>5.973840</td>\n",
       "      <td>2452.185369</td>\n",
       "    </tr>\n",
       "  </tbody>\n",
       "</table>\n",
       "<p>165 rows × 6 columns</p>\n",
       "</div>"
      ],
      "text/plain": [
       "       Month Activity Type  count  total_distance_km  avg_distance_km  \\\n",
       "0    2018-09     Bicicleta      6         159.075098        26.512516   \n",
       "100  2018-10     Bicicleta      0           0.000000         0.000000   \n",
       "2    2018-11     Bicicleta      1          25.858400        25.858400   \n",
       "4    2018-12     Bicicleta      2          25.319801        12.659900   \n",
       "5    2019-01     Bicicleta      1          44.595602        44.595602   \n",
       "..       ...           ...    ...                ...              ...   \n",
       "91   2023-04       Carrera     14         126.872651         9.062332   \n",
       "93   2023-05       Carrera     14         147.999292        10.571378   \n",
       "95   2023-06       Carrera     16         137.116259         8.569766   \n",
       "97   2023-07       Carrera      9          91.196648        10.132961   \n",
       "99   2023-08       Carrera      2          11.947680         5.973840   \n",
       "\n",
       "         csum_km  \n",
       "0     159.075098  \n",
       "100   159.075098  \n",
       "2     184.933499  \n",
       "4     210.253299  \n",
       "5     254.848901  \n",
       "..           ...  \n",
       "91   2063.925490  \n",
       "93   2211.924782  \n",
       "95   2349.041041  \n",
       "97   2440.237690  \n",
       "99   2452.185369  \n",
       "\n",
       "[165 rows x 6 columns]"
      ]
     },
     "execution_count": 7,
     "metadata": {},
     "output_type": "execute_result"
    }
   ],
   "source": [
    "# Define a time unit: \"Year\", \"Quarter\", \"Month\", \"Week\", or \"Day\"\n",
    "time_unit_km = \"Month\"\n",
    "\n",
    "# Group by time_unit_km and activity type\n",
    "df_km = df.groupby(by=[time_unit_km, \"Activity Type\"], as_index=False).agg(\n",
    "    count=(\"Distance (km)\", \"count\"),\n",
    "    total_distance_km=(\"Distance (km)\", \"sum\"),\n",
    "    avg_distance_km=(\"Distance (km)\", \"mean\"),\n",
    ")\n",
    "\n",
    "# For each activity and time period, make sure there exists a row\n",
    "# This will ensure there is point on the plot for each combination\n",
    "acts = df_km[\"Activity Type\"].unique()\n",
    "times = df_km[time_unit_km].unique()\n",
    "\n",
    "# Create a list to store new rows\n",
    "new_rows = []\n",
    "\n",
    "for a in acts:\n",
    "    temp = df_km.loc[df_km[\"Activity Type\"] == a]\n",
    "    for t in times:\n",
    "        if not (temp[time_unit_km] == t).any():\n",
    "            new_row = {\n",
    "                time_unit_km: t,\n",
    "                \"Activity Type\": a,\n",
    "                \"count\": 0,\n",
    "                \"total_distance_km\": 0,\n",
    "                \"avg_distance_km\": 0,\n",
    "            }\n",
    "            new_rows.append(new_row)\n",
    "\n",
    "# Concatenate the new rows to the DataFrame\n",
    "df_km = pd.concat([df_km, pd.DataFrame(new_rows)], ignore_index=True)\n",
    "# Find and exclude activities with <= 1 km total covered (e.g., weight training)\n",
    "# You can increase or decrease this cutoff based on your data\n",
    "kms = df_km.groupby(by=[\"Activity Type\"], as_index=False).sum()\n",
    "kms = kms[kms[\"total_distance_km\"] > 1]\n",
    "\n",
    "# For each activity and time period, calculate the cumulative sum of kms\n",
    "csum = df_km.loc[df_km[\"Activity Type\"].isin(kms[\"Activity Type\"])]\n",
    "x = pd.Series(dtype=float)\n",
    "csum.sort_values(by=[\"Activity Type\", time_unit_km], inplace=True)\n",
    "csum[\"csum_km\"] = csum.groupby(\"Activity Type\")[\"total_distance_km\"].cumsum()\n",
    "\n",
    "csum"
   ]
  },
  {
   "cell_type": "markdown",
   "metadata": {},
   "source": [
    "## Análisis general"
   ]
  },
  {
   "cell_type": "markdown",
   "metadata": {},
   "source": [
    "Gráfica de los kilometros recorridos por tipo de actividad"
   ]
  },
  {
   "cell_type": "code",
   "execution_count": 11,
   "metadata": {},
   "outputs": [
    {
     "data": {
      "application/vnd.plotly.v1+json": {
       "config": {
        "plotlyServerURL": "https://plot.ly"
       },
       "data": [
        {
         "customdata": [
          [
           6,
           159.07509814453124,
           26.512516357421873
          ],
          [
           0,
           0,
           0
          ],
          [
           1,
           25.858400390625,
           25.858400390625
          ],
          [
           2,
           25.31980078125,
           12.659900390625
          ],
          [
           1,
           44.5956015625,
           44.5956015625
          ],
          [
           2,
           42.67930078125,
           21.339650390625
          ],
          [
           2,
           81.30919921875,
           40.654599609375
          ],
          [
           0,
           0,
           0
          ],
          [
           2,
           115.766203125,
           57.8831015625
          ],
          [
           4,
           131.394400390625,
           32.84860009765625
          ],
          [
           6,
           164.3474013671875,
           27.391233561197918
          ],
          [
           7,
           253.39899609375,
           36.199856584821426
          ],
          [
           3,
           216.77219921875,
           72.25739973958333
          ],
          [
           1,
           51.1936015625,
           51.1936015625
          ],
          [
           0,
           0,
           0
          ],
          [
           11,
           258.0407998046875,
           23.458254527698863
          ],
          [
           3,
           73.4170986328125,
           24.472366210937498
          ],
          [
           7,
           261.990201171875,
           37.427171595982145
          ],
          [
           11,
           577.845998046875,
           52.53145436789773
          ],
          [
           12,
           542.25010546875,
           45.1875087890625
          ],
          [
           7,
           344.67949609375,
           49.239928013392856
          ],
          [
           5,
           251.130296875,
           50.226059375
          ],
          [
           4,
           211.038904296875,
           52.75972607421875
          ],
          [
           7,
           229.0556015625,
           32.72222879464285
          ],
          [
           4,
           194.700298828125,
           48.67507470703125
          ],
          [
           6,
           292.60169824218747,
           48.766949707031245
          ],
          [
           8,
           346.244,
           43.2805
          ],
          [
           8,
           525.5745937500001,
           65.69682421875001
          ],
          [
           5,
           247.902296875,
           49.580459375
          ],
          [
           5,
           143.30530322265625,
           28.66106064453125
          ],
          [
           6,
           270.500900390625,
           45.0834833984375
          ],
          [
           3,
           243.419796875,
           81.13993229166667
          ],
          [
           6,
           233.6177687988281,
           38.936294799804685
          ],
          [
           3,
           159.72458203125,
           53.24152734375
          ],
          [
           2,
           93.11344921874999,
           46.556724609374996
          ],
          [
           3,
           105.555201171875,
           35.18506705729167
          ],
          [
           5,
           175.57350000000002,
           35.114700000000006
          ],
          [
           6,
           223.4977412109375,
           37.24962353515625
          ],
          [
           7,
           241.10971875,
           34.44424553571429
          ],
          [
           8,
           449.751640625,
           56.218955078125
          ],
          [
           5,
           302.10466796875,
           60.42093359375
          ],
          [
           5,
           185.76379296875,
           37.15275859375
          ],
          [
           6,
           289.60936718749997,
           48.26822786458333
          ],
          [
           5,
           181.425873046875,
           36.285174609375005
          ],
          [
           4,
           203.934412109375,
           50.98360302734375
          ],
          [
           1,
           36.4998515625,
           36.4998515625
          ],
          [
           1,
           45.02212109375,
           45.02212109375
          ],
          [
           3,
           123.22086132812501,
           41.07362044270834
          ],
          [
           3,
           90.15498828125,
           30.051662760416665
          ],
          [
           5,
           197.51716015625,
           39.50343203125
          ],
          [
           7,
           377.8114921875,
           53.9730703125
          ],
          [
           6,
           350.1636328125,
           58.36060546875
          ],
          [
           3,
           108.01587109375,
           36.00529036458333
          ],
          [
           5,
           264.299283203125,
           52.859856640625004
          ],
          [
           8,
           369.91820068359374,
           46.23977508544922
          ]
         ],
         "fillpattern": {
          "shape": ""
         },
         "hovertemplate": "Activity Type=Bicicleta<br>Month=%{x}<br>Cumulative kms covered=%{y:.1f}<br>Number of activities=%{customdata[0]:f}<br>Total kms covered=%{customdata[1]:.1f}<br>Average kms per activity=%{customdata[2]:.1f}<extra></extra>",
         "legendgroup": "Bicicleta",
         "line": {
          "color": "rgb(127, 60, 141)"
         },
         "marker": {
          "symbol": "circle"
         },
         "mode": "lines",
         "name": "Bicicleta",
         "orientation": "v",
         "showlegend": true,
         "stackgroup": "1",
         "type": "scatter",
         "x": [
          "2018-09",
          "2018-10",
          "2018-11",
          "2018-12",
          "2019-01",
          "2019-02",
          "2019-03",
          "2019-04",
          "2019-05",
          "2019-06",
          "2019-07",
          "2019-08",
          "2019-09",
          "2019-10",
          "2020-02",
          "2020-05",
          "2020-06",
          "2020-07",
          "2020-08",
          "2020-09",
          "2020-10",
          "2020-11",
          "2020-12",
          "2021-01",
          "2021-02",
          "2021-03",
          "2021-04",
          "2021-05",
          "2021-06",
          "2021-07",
          "2021-08",
          "2021-09",
          "2021-10",
          "2021-11",
          "2021-12",
          "2022-01",
          "2022-02",
          "2022-03",
          "2022-04",
          "2022-05",
          "2022-06",
          "2022-07",
          "2022-08",
          "2022-09",
          "2022-10",
          "2022-11",
          "2022-12",
          "2023-01",
          "2023-02",
          "2023-03",
          "2023-04",
          "2023-05",
          "2023-06",
          "2023-07",
          "2023-08"
         ],
         "xaxis": "x",
         "y": [
          159.07509814453124,
          159.07509814453124,
          184.93349853515625,
          210.25329931640624,
          254.84890087890625,
          297.52820166015624,
          378.83740087890624,
          378.83740087890624,
          494.60360400390624,
          625.9980043945312,
          790.3454057617188,
          1043.7444018554688,
          1260.5166010742187,
          1311.7102026367188,
          1311.7102026367188,
          1569.7510024414062,
          1643.1681010742186,
          1905.1583022460936,
          2483.0043002929688,
          3025.2544057617188,
          3369.933901855469,
          3621.064198730469,
          3832.103103027344,
          4061.1587045898436,
          4255.859003417969,
          4548.460701660157,
          4894.704701660156,
          5420.279295410156,
          5668.1815922851565,
          5811.486895507813,
          6081.987795898438,
          6325.4075927734375,
          6559.025361572266,
          6718.749943603516,
          6811.863392822266,
          6917.418593994141,
          7092.99209399414,
          7316.489835205079,
          7557.599553955079,
          8007.351194580078,
          8309.455862548828,
          8495.219655517578,
          8784.829022705078,
          8966.254895751954,
          9170.189307861328,
          9206.689159423828,
          9251.711280517578,
          9374.932141845704,
          9465.087130126953,
          9662.604290283203,
          10040.415782470704,
          10390.579415283204,
          10498.595286376953,
          10762.894569580078,
          11132.812770263672
         ],
         "yaxis": "y"
        },
        {
         "customdata": [
          [
           0,
           0,
           0
          ],
          [
           0,
           0,
           0
          ],
          [
           0,
           0,
           0
          ],
          [
           0,
           0,
           0
          ],
          [
           0,
           0,
           0
          ],
          [
           0,
           0,
           0
          ],
          [
           0,
           0,
           0
          ],
          [
           0,
           0,
           0
          ],
          [
           0,
           0,
           0
          ],
          [
           0,
           0,
           0
          ],
          [
           0,
           0,
           0
          ],
          [
           0,
           0,
           0
          ],
          [
           0,
           0,
           0
          ],
          [
           0,
           0,
           0
          ],
          [
           0,
           0,
           0
          ],
          [
           0,
           0,
           0
          ],
          [
           0,
           0,
           0
          ],
          [
           0,
           0,
           0
          ],
          [
           0,
           0,
           0
          ],
          [
           0,
           0,
           0
          ],
          [
           0,
           0,
           0
          ],
          [
           1,
           8.8442998046875,
           8.8442998046875
          ],
          [
           0,
           0,
           0
          ],
          [
           0,
           0,
           0
          ],
          [
           0,
           0,
           0
          ],
          [
           0,
           0,
           0
          ],
          [
           0,
           0,
           0
          ],
          [
           0,
           0,
           0
          ],
          [
           0,
           0,
           0
          ],
          [
           0,
           0,
           0
          ],
          [
           0,
           0,
           0
          ],
          [
           0,
           0,
           0
          ],
          [
           0,
           0,
           0
          ],
          [
           0,
           0,
           0
          ],
          [
           0,
           0,
           0
          ],
          [
           0,
           0,
           0
          ],
          [
           0,
           0,
           0
          ],
          [
           0,
           0,
           0
          ],
          [
           0,
           0,
           0
          ],
          [
           0,
           0,
           0
          ],
          [
           0,
           0,
           0
          ],
          [
           0,
           0,
           0
          ],
          [
           0,
           0,
           0
          ],
          [
           0,
           0,
           0
          ],
          [
           0,
           0,
           0
          ],
          [
           0,
           0,
           0
          ],
          [
           0,
           0,
           0
          ],
          [
           0,
           0,
           0
          ],
          [
           0,
           0,
           0
          ],
          [
           0,
           0,
           0
          ],
          [
           0,
           0,
           0
          ],
          [
           0,
           0,
           0
          ],
          [
           0,
           0,
           0
          ],
          [
           0,
           0,
           0
          ],
          [
           0,
           0,
           0
          ]
         ],
         "fillpattern": {
          "shape": ""
         },
         "hovertemplate": "Activity Type=Caminata<br>Month=%{x}<br>Cumulative kms covered=%{y:.1f}<br>Number of activities=%{customdata[0]:f}<br>Total kms covered=%{customdata[1]:.1f}<br>Average kms per activity=%{customdata[2]:.1f}<extra></extra>",
         "legendgroup": "Caminata",
         "line": {
          "color": "rgb(17, 165, 121)"
         },
         "marker": {
          "symbol": "circle"
         },
         "mode": "lines",
         "name": "Caminata",
         "orientation": "v",
         "showlegend": true,
         "stackgroup": "1",
         "type": "scatter",
         "x": [
          "2018-09",
          "2018-10",
          "2018-11",
          "2018-12",
          "2019-01",
          "2019-02",
          "2019-03",
          "2019-04",
          "2019-05",
          "2019-06",
          "2019-07",
          "2019-08",
          "2019-09",
          "2019-10",
          "2020-02",
          "2020-05",
          "2020-06",
          "2020-07",
          "2020-08",
          "2020-09",
          "2020-10",
          "2020-11",
          "2020-12",
          "2021-01",
          "2021-02",
          "2021-03",
          "2021-04",
          "2021-05",
          "2021-06",
          "2021-07",
          "2021-08",
          "2021-09",
          "2021-10",
          "2021-11",
          "2021-12",
          "2022-01",
          "2022-02",
          "2022-03",
          "2022-04",
          "2022-05",
          "2022-06",
          "2022-07",
          "2022-08",
          "2022-09",
          "2022-10",
          "2022-11",
          "2022-12",
          "2023-01",
          "2023-02",
          "2023-03",
          "2023-04",
          "2023-05",
          "2023-06",
          "2023-07",
          "2023-08"
         ],
         "xaxis": "x",
         "y": [
          0,
          0,
          0,
          0,
          0,
          0,
          0,
          0,
          0,
          0,
          0,
          0,
          0,
          0,
          0,
          0,
          0,
          0,
          0,
          0,
          0,
          8.8442998046875,
          8.8442998046875,
          8.8442998046875,
          8.8442998046875,
          8.8442998046875,
          8.8442998046875,
          8.8442998046875,
          8.8442998046875,
          8.8442998046875,
          8.8442998046875,
          8.8442998046875,
          8.8442998046875,
          8.8442998046875,
          8.8442998046875,
          8.8442998046875,
          8.8442998046875,
          8.8442998046875,
          8.8442998046875,
          8.8442998046875,
          8.8442998046875,
          8.8442998046875,
          8.8442998046875,
          8.8442998046875,
          8.8442998046875,
          8.8442998046875,
          8.8442998046875,
          8.8442998046875,
          8.8442998046875,
          8.8442998046875,
          8.8442998046875,
          8.8442998046875,
          8.8442998046875,
          8.8442998046875,
          8.8442998046875
         ],
         "yaxis": "y"
        },
        {
         "customdata": [
          [
           0,
           0,
           0
          ],
          [
           3,
           18.296099609375,
           6.098699869791666
          ],
          [
           3,
           19.455100341796875,
           6.485033447265625
          ],
          [
           0,
           0,
           0
          ],
          [
           1,
           4.1847001953125,
           4.1847001953125
          ],
          [
           4,
           18.6575,
           4.664375
          ],
          [
           2,
           15.244099609375,
           7.6220498046875
          ],
          [
           1,
           3.78810009765625,
           3.78810009765625
          ],
          [
           2,
           11.023900390625,
           5.5119501953125
          ],
          [
           2,
           23.611100097656248,
           11.805550048828124
          ],
          [
           0,
           0,
           0
          ],
          [
           0,
           0,
           0
          ],
          [
           1,
           4.55639990234375,
           4.55639990234375
          ],
          [
           0,
           0,
           0
          ],
          [
           2,
           4.974900146484375,
           2.4874500732421874
          ],
          [
           3,
           10.816199951171875,
           3.605399983723958
          ],
          [
           0,
           0,
           0
          ],
          [
           0,
           0,
           0
          ],
          [
           1,
           5.57960009765625,
           5.57960009765625
          ],
          [
           1,
           4.014199951171875,
           4.014199951171875
          ],
          [
           1,
           3.02410009765625,
           3.02410009765625
          ],
          [
           2,
           10.58410009765625,
           5.292050048828125
          ],
          [
           4,
           22.57310009765625,
           5.643275024414063
          ],
          [
           0,
           0,
           0
          ],
          [
           1,
           5.8887998046875,
           5.8887998046875
          ],
          [
           3,
           20.768700195312498,
           6.922900065104166
          ],
          [
           10,
           80.19169946289063,
           8.019169946289063
          ],
          [
           6,
           56.45329931640625,
           9.408883219401043
          ],
          [
           5,
           37.45710009765625,
           7.49142001953125
          ],
          [
           6,
           20.038300170898438,
           3.3397166951497397
          ],
          [
           2,
           6.60910009765625,
           3.304550048828125
          ],
          [
           6,
           36.21039990234375,
           6.035066650390625
          ],
          [
           8,
           52.09757067871094,
           6.512196334838867
          ],
          [
           15,
           122.292021484375,
           8.152801432291666
          ],
          [
           6,
           50.98811962890625,
           8.49801993815104
          ],
          [
           10,
           57.43583984375,
           5.743583984375
          ],
          [
           8,
           48.73991052246094,
           6.092488815307617
          ],
          [
           6,
           30.397038940429688,
           5.066173156738281
          ],
          [
           3,
           28.11294970703125,
           9.370983235677084
          ],
          [
           3,
           29.00035009765625,
           9.666783365885417
          ],
          [
           9,
           95.0971904296875,
           10.5663544921875
          ],
          [
           3,
           20.62877001953125,
           6.876256673177083
          ],
          [
           3,
           23.017279785156248,
           7.672426595052083
          ],
          [
           12,
           123.7548701171875,
           10.312905843098958
          ],
          [
           12,
           136.01539111328125,
           11.334615926106771
          ],
          [
           15,
           138.37043896484374,
           9.224695930989583
          ],
          [
           15,
           146.01694775390624,
           9.73446318359375
          ],
          [
           13,
           132.6398310546875,
           10.203063927283655
          ],
          [
           10,
           115.6301982421875,
           11.56301982421875
          ],
          [
           15,
           142.8175205078125,
           9.521168033854167
          ],
          [
           14,
           126.8726513671875,
           9.062332240513394
          ],
          [
           14,
           147.9992919921875,
           10.571377999441964
          ],
          [
           16,
           137.11625927734374,
           8.569766204833984
          ],
          [
           9,
           91.1966484375,
           10.1329609375
          ],
          [
           2,
           11.947679687499999,
           5.9738398437499995
          ]
         ],
         "fillpattern": {
          "shape": ""
         },
         "hovertemplate": "Activity Type=Carrera<br>Month=%{x}<br>Cumulative kms covered=%{y:.1f}<br>Number of activities=%{customdata[0]:f}<br>Total kms covered=%{customdata[1]:.1f}<br>Average kms per activity=%{customdata[2]:.1f}<extra></extra>",
         "legendgroup": "Carrera",
         "line": {
          "color": "rgb(57, 105, 172)"
         },
         "marker": {
          "symbol": "circle"
         },
         "mode": "lines",
         "name": "Carrera",
         "orientation": "v",
         "showlegend": true,
         "stackgroup": "1",
         "type": "scatter",
         "x": [
          "2018-09",
          "2018-10",
          "2018-11",
          "2018-12",
          "2019-01",
          "2019-02",
          "2019-03",
          "2019-04",
          "2019-05",
          "2019-06",
          "2019-07",
          "2019-08",
          "2019-09",
          "2019-10",
          "2020-02",
          "2020-05",
          "2020-06",
          "2020-07",
          "2020-08",
          "2020-09",
          "2020-10",
          "2020-11",
          "2020-12",
          "2021-01",
          "2021-02",
          "2021-03",
          "2021-04",
          "2021-05",
          "2021-06",
          "2021-07",
          "2021-08",
          "2021-09",
          "2021-10",
          "2021-11",
          "2021-12",
          "2022-01",
          "2022-02",
          "2022-03",
          "2022-04",
          "2022-05",
          "2022-06",
          "2022-07",
          "2022-08",
          "2022-09",
          "2022-10",
          "2022-11",
          "2022-12",
          "2023-01",
          "2023-02",
          "2023-03",
          "2023-04",
          "2023-05",
          "2023-06",
          "2023-07",
          "2023-08"
         ],
         "xaxis": "x",
         "y": [
          0,
          18.296099609375,
          37.75119995117187,
          37.75119995117187,
          41.93590014648437,
          60.59340014648437,
          75.83749975585937,
          79.62559985351562,
          90.64950024414063,
          114.26060034179687,
          114.26060034179687,
          114.26060034179687,
          118.81700024414062,
          118.81700024414062,
          123.79190039062499,
          134.60810034179687,
          134.60810034179687,
          134.60810034179687,
          140.18770043945312,
          144.20190039062498,
          147.22600048828124,
          157.8101005859375,
          180.38320068359374,
          180.38320068359374,
          186.27200048828124,
          207.04070068359374,
          287.23240014648434,
          343.6856994628906,
          381.14279956054685,
          401.18109973144533,
          407.79019982910154,
          444.00059973144533,
          496.09817041015623,
          618.3901918945312,
          669.3783115234376,
          726.8141513671875,
          775.5540618896484,
          805.9511008300781,
          834.0640505371094,
          863.0644006347657,
          958.1615910644531,
          978.7903610839844,
          1001.8076408691406,
          1125.562510986328,
          1261.5779020996094,
          1399.9483410644532,
          1545.9652888183593,
          1678.605119873047,
          1794.2353181152343,
          1937.052838623047,
          2063.9254899902344,
          2211.924781982422,
          2349.0410412597657,
          2440.2376896972655,
          2452.1853693847656
         ],
         "yaxis": "y"
        }
       ],
       "layout": {
        "autosize": false,
        "height": 500,
        "legend": {
         "title": {
          "text": "Activity Type"
         },
         "tracegroupgap": 0
        },
        "template": {
         "data": {
          "bar": [
           {
            "error_x": {
             "color": "#2a3f5f"
            },
            "error_y": {
             "color": "#2a3f5f"
            },
            "marker": {
             "line": {
              "color": "white",
              "width": 0.5
             },
             "pattern": {
              "fillmode": "overlay",
              "size": 10,
              "solidity": 0.2
             }
            },
            "type": "bar"
           }
          ],
          "barpolar": [
           {
            "marker": {
             "line": {
              "color": "white",
              "width": 0.5
             },
             "pattern": {
              "fillmode": "overlay",
              "size": 10,
              "solidity": 0.2
             }
            },
            "type": "barpolar"
           }
          ],
          "carpet": [
           {
            "aaxis": {
             "endlinecolor": "#2a3f5f",
             "gridcolor": "#C8D4E3",
             "linecolor": "#C8D4E3",
             "minorgridcolor": "#C8D4E3",
             "startlinecolor": "#2a3f5f"
            },
            "baxis": {
             "endlinecolor": "#2a3f5f",
             "gridcolor": "#C8D4E3",
             "linecolor": "#C8D4E3",
             "minorgridcolor": "#C8D4E3",
             "startlinecolor": "#2a3f5f"
            },
            "type": "carpet"
           }
          ],
          "choropleth": [
           {
            "colorbar": {
             "outlinewidth": 0,
             "ticks": ""
            },
            "type": "choropleth"
           }
          ],
          "contour": [
           {
            "colorbar": {
             "outlinewidth": 0,
             "ticks": ""
            },
            "colorscale": [
             [
              0,
              "#0d0887"
             ],
             [
              0.1111111111111111,
              "#46039f"
             ],
             [
              0.2222222222222222,
              "#7201a8"
             ],
             [
              0.3333333333333333,
              "#9c179e"
             ],
             [
              0.4444444444444444,
              "#bd3786"
             ],
             [
              0.5555555555555556,
              "#d8576b"
             ],
             [
              0.6666666666666666,
              "#ed7953"
             ],
             [
              0.7777777777777778,
              "#fb9f3a"
             ],
             [
              0.8888888888888888,
              "#fdca26"
             ],
             [
              1,
              "#f0f921"
             ]
            ],
            "type": "contour"
           }
          ],
          "contourcarpet": [
           {
            "colorbar": {
             "outlinewidth": 0,
             "ticks": ""
            },
            "type": "contourcarpet"
           }
          ],
          "heatmap": [
           {
            "colorbar": {
             "outlinewidth": 0,
             "ticks": ""
            },
            "colorscale": [
             [
              0,
              "#0d0887"
             ],
             [
              0.1111111111111111,
              "#46039f"
             ],
             [
              0.2222222222222222,
              "#7201a8"
             ],
             [
              0.3333333333333333,
              "#9c179e"
             ],
             [
              0.4444444444444444,
              "#bd3786"
             ],
             [
              0.5555555555555556,
              "#d8576b"
             ],
             [
              0.6666666666666666,
              "#ed7953"
             ],
             [
              0.7777777777777778,
              "#fb9f3a"
             ],
             [
              0.8888888888888888,
              "#fdca26"
             ],
             [
              1,
              "#f0f921"
             ]
            ],
            "type": "heatmap"
           }
          ],
          "heatmapgl": [
           {
            "colorbar": {
             "outlinewidth": 0,
             "ticks": ""
            },
            "colorscale": [
             [
              0,
              "#0d0887"
             ],
             [
              0.1111111111111111,
              "#46039f"
             ],
             [
              0.2222222222222222,
              "#7201a8"
             ],
             [
              0.3333333333333333,
              "#9c179e"
             ],
             [
              0.4444444444444444,
              "#bd3786"
             ],
             [
              0.5555555555555556,
              "#d8576b"
             ],
             [
              0.6666666666666666,
              "#ed7953"
             ],
             [
              0.7777777777777778,
              "#fb9f3a"
             ],
             [
              0.8888888888888888,
              "#fdca26"
             ],
             [
              1,
              "#f0f921"
             ]
            ],
            "type": "heatmapgl"
           }
          ],
          "histogram": [
           {
            "marker": {
             "pattern": {
              "fillmode": "overlay",
              "size": 10,
              "solidity": 0.2
             }
            },
            "type": "histogram"
           }
          ],
          "histogram2d": [
           {
            "colorbar": {
             "outlinewidth": 0,
             "ticks": ""
            },
            "colorscale": [
             [
              0,
              "#0d0887"
             ],
             [
              0.1111111111111111,
              "#46039f"
             ],
             [
              0.2222222222222222,
              "#7201a8"
             ],
             [
              0.3333333333333333,
              "#9c179e"
             ],
             [
              0.4444444444444444,
              "#bd3786"
             ],
             [
              0.5555555555555556,
              "#d8576b"
             ],
             [
              0.6666666666666666,
              "#ed7953"
             ],
             [
              0.7777777777777778,
              "#fb9f3a"
             ],
             [
              0.8888888888888888,
              "#fdca26"
             ],
             [
              1,
              "#f0f921"
             ]
            ],
            "type": "histogram2d"
           }
          ],
          "histogram2dcontour": [
           {
            "colorbar": {
             "outlinewidth": 0,
             "ticks": ""
            },
            "colorscale": [
             [
              0,
              "#0d0887"
             ],
             [
              0.1111111111111111,
              "#46039f"
             ],
             [
              0.2222222222222222,
              "#7201a8"
             ],
             [
              0.3333333333333333,
              "#9c179e"
             ],
             [
              0.4444444444444444,
              "#bd3786"
             ],
             [
              0.5555555555555556,
              "#d8576b"
             ],
             [
              0.6666666666666666,
              "#ed7953"
             ],
             [
              0.7777777777777778,
              "#fb9f3a"
             ],
             [
              0.8888888888888888,
              "#fdca26"
             ],
             [
              1,
              "#f0f921"
             ]
            ],
            "type": "histogram2dcontour"
           }
          ],
          "mesh3d": [
           {
            "colorbar": {
             "outlinewidth": 0,
             "ticks": ""
            },
            "type": "mesh3d"
           }
          ],
          "parcoords": [
           {
            "line": {
             "colorbar": {
              "outlinewidth": 0,
              "ticks": ""
             }
            },
            "type": "parcoords"
           }
          ],
          "pie": [
           {
            "automargin": true,
            "type": "pie"
           }
          ],
          "scatter": [
           {
            "fillpattern": {
             "fillmode": "overlay",
             "size": 10,
             "solidity": 0.2
            },
            "type": "scatter"
           }
          ],
          "scatter3d": [
           {
            "line": {
             "colorbar": {
              "outlinewidth": 0,
              "ticks": ""
             }
            },
            "marker": {
             "colorbar": {
              "outlinewidth": 0,
              "ticks": ""
             }
            },
            "type": "scatter3d"
           }
          ],
          "scattercarpet": [
           {
            "marker": {
             "colorbar": {
              "outlinewidth": 0,
              "ticks": ""
             }
            },
            "type": "scattercarpet"
           }
          ],
          "scattergeo": [
           {
            "marker": {
             "colorbar": {
              "outlinewidth": 0,
              "ticks": ""
             }
            },
            "type": "scattergeo"
           }
          ],
          "scattergl": [
           {
            "marker": {
             "colorbar": {
              "outlinewidth": 0,
              "ticks": ""
             }
            },
            "type": "scattergl"
           }
          ],
          "scattermapbox": [
           {
            "marker": {
             "colorbar": {
              "outlinewidth": 0,
              "ticks": ""
             }
            },
            "type": "scattermapbox"
           }
          ],
          "scatterpolar": [
           {
            "marker": {
             "colorbar": {
              "outlinewidth": 0,
              "ticks": ""
             }
            },
            "type": "scatterpolar"
           }
          ],
          "scatterpolargl": [
           {
            "marker": {
             "colorbar": {
              "outlinewidth": 0,
              "ticks": ""
             }
            },
            "type": "scatterpolargl"
           }
          ],
          "scatterternary": [
           {
            "marker": {
             "colorbar": {
              "outlinewidth": 0,
              "ticks": ""
             }
            },
            "type": "scatterternary"
           }
          ],
          "surface": [
           {
            "colorbar": {
             "outlinewidth": 0,
             "ticks": ""
            },
            "colorscale": [
             [
              0,
              "#0d0887"
             ],
             [
              0.1111111111111111,
              "#46039f"
             ],
             [
              0.2222222222222222,
              "#7201a8"
             ],
             [
              0.3333333333333333,
              "#9c179e"
             ],
             [
              0.4444444444444444,
              "#bd3786"
             ],
             [
              0.5555555555555556,
              "#d8576b"
             ],
             [
              0.6666666666666666,
              "#ed7953"
             ],
             [
              0.7777777777777778,
              "#fb9f3a"
             ],
             [
              0.8888888888888888,
              "#fdca26"
             ],
             [
              1,
              "#f0f921"
             ]
            ],
            "type": "surface"
           }
          ],
          "table": [
           {
            "cells": {
             "fill": {
              "color": "#EBF0F8"
             },
             "line": {
              "color": "white"
             }
            },
            "header": {
             "fill": {
              "color": "#C8D4E3"
             },
             "line": {
              "color": "white"
             }
            },
            "type": "table"
           }
          ]
         },
         "layout": {
          "annotationdefaults": {
           "arrowcolor": "#2a3f5f",
           "arrowhead": 0,
           "arrowwidth": 1
          },
          "autotypenumbers": "strict",
          "coloraxis": {
           "colorbar": {
            "outlinewidth": 0,
            "ticks": ""
           }
          },
          "colorscale": {
           "diverging": [
            [
             0,
             "#8e0152"
            ],
            [
             0.1,
             "#c51b7d"
            ],
            [
             0.2,
             "#de77ae"
            ],
            [
             0.3,
             "#f1b6da"
            ],
            [
             0.4,
             "#fde0ef"
            ],
            [
             0.5,
             "#f7f7f7"
            ],
            [
             0.6,
             "#e6f5d0"
            ],
            [
             0.7,
             "#b8e186"
            ],
            [
             0.8,
             "#7fbc41"
            ],
            [
             0.9,
             "#4d9221"
            ],
            [
             1,
             "#276419"
            ]
           ],
           "sequential": [
            [
             0,
             "#0d0887"
            ],
            [
             0.1111111111111111,
             "#46039f"
            ],
            [
             0.2222222222222222,
             "#7201a8"
            ],
            [
             0.3333333333333333,
             "#9c179e"
            ],
            [
             0.4444444444444444,
             "#bd3786"
            ],
            [
             0.5555555555555556,
             "#d8576b"
            ],
            [
             0.6666666666666666,
             "#ed7953"
            ],
            [
             0.7777777777777778,
             "#fb9f3a"
            ],
            [
             0.8888888888888888,
             "#fdca26"
            ],
            [
             1,
             "#f0f921"
            ]
           ],
           "sequentialminus": [
            [
             0,
             "#0d0887"
            ],
            [
             0.1111111111111111,
             "#46039f"
            ],
            [
             0.2222222222222222,
             "#7201a8"
            ],
            [
             0.3333333333333333,
             "#9c179e"
            ],
            [
             0.4444444444444444,
             "#bd3786"
            ],
            [
             0.5555555555555556,
             "#d8576b"
            ],
            [
             0.6666666666666666,
             "#ed7953"
            ],
            [
             0.7777777777777778,
             "#fb9f3a"
            ],
            [
             0.8888888888888888,
             "#fdca26"
            ],
            [
             1,
             "#f0f921"
            ]
           ]
          },
          "colorway": [
           "#636efa",
           "#EF553B",
           "#00cc96",
           "#ab63fa",
           "#FFA15A",
           "#19d3f3",
           "#FF6692",
           "#B6E880",
           "#FF97FF",
           "#FECB52"
          ],
          "font": {
           "color": "#2a3f5f"
          },
          "geo": {
           "bgcolor": "white",
           "lakecolor": "white",
           "landcolor": "white",
           "showlakes": true,
           "showland": true,
           "subunitcolor": "#C8D4E3"
          },
          "hoverlabel": {
           "align": "left"
          },
          "hovermode": "closest",
          "mapbox": {
           "style": "light"
          },
          "paper_bgcolor": "white",
          "plot_bgcolor": "white",
          "polar": {
           "angularaxis": {
            "gridcolor": "#EBF0F8",
            "linecolor": "#EBF0F8",
            "ticks": ""
           },
           "bgcolor": "white",
           "radialaxis": {
            "gridcolor": "#EBF0F8",
            "linecolor": "#EBF0F8",
            "ticks": ""
           }
          },
          "scene": {
           "xaxis": {
            "backgroundcolor": "white",
            "gridcolor": "#DFE8F3",
            "gridwidth": 2,
            "linecolor": "#EBF0F8",
            "showbackground": true,
            "ticks": "",
            "zerolinecolor": "#EBF0F8"
           },
           "yaxis": {
            "backgroundcolor": "white",
            "gridcolor": "#DFE8F3",
            "gridwidth": 2,
            "linecolor": "#EBF0F8",
            "showbackground": true,
            "ticks": "",
            "zerolinecolor": "#EBF0F8"
           },
           "zaxis": {
            "backgroundcolor": "white",
            "gridcolor": "#DFE8F3",
            "gridwidth": 2,
            "linecolor": "#EBF0F8",
            "showbackground": true,
            "ticks": "",
            "zerolinecolor": "#EBF0F8"
           }
          },
          "shapedefaults": {
           "line": {
            "color": "#2a3f5f"
           }
          },
          "ternary": {
           "aaxis": {
            "gridcolor": "#DFE8F3",
            "linecolor": "#A2B1C6",
            "ticks": ""
           },
           "baxis": {
            "gridcolor": "#DFE8F3",
            "linecolor": "#A2B1C6",
            "ticks": ""
           },
           "bgcolor": "white",
           "caxis": {
            "gridcolor": "#DFE8F3",
            "linecolor": "#A2B1C6",
            "ticks": ""
           }
          },
          "title": {
           "x": 0.05
          },
          "xaxis": {
           "automargin": true,
           "gridcolor": "#EBF0F8",
           "linecolor": "#EBF0F8",
           "ticks": "",
           "title": {
            "standoff": 15
           },
           "zerolinecolor": "#EBF0F8",
           "zerolinewidth": 2
          },
          "yaxis": {
           "automargin": true,
           "gridcolor": "#EBF0F8",
           "linecolor": "#EBF0F8",
           "ticks": "",
           "title": {
            "standoff": 15
           },
           "zerolinecolor": "#EBF0F8",
           "zerolinewidth": 2
          }
         }
        },
        "title": {
         "text": "My 13594 Kilometers on Strava!",
         "x": 0.5,
         "xanchor": "center",
         "y": 0.9,
         "yanchor": "top"
        },
        "width": 700,
        "xaxis": {
         "anchor": "y",
         "domain": [
          0,
          1
         ],
         "nticks": 20,
         "title": {
          "text": "Month"
         }
        },
        "yaxis": {
         "anchor": "x",
         "domain": [
          0,
          1
         ],
         "nticks": 15,
         "title": {
          "text": "Cumulative kms covered"
         }
        }
       }
      },
      "text/html": [
       "<div>                            <div id=\"eaa553b6-9a35-4c13-b406-e1ea71f06dfb\" class=\"plotly-graph-div\" style=\"height:500px; width:700px;\"></div>            <script type=\"text/javascript\">                require([\"plotly\"], function(Plotly) {                    window.PLOTLYENV=window.PLOTLYENV || {};                                    if (document.getElementById(\"eaa553b6-9a35-4c13-b406-e1ea71f06dfb\")) {                    Plotly.newPlot(                        \"eaa553b6-9a35-4c13-b406-e1ea71f06dfb\",                        [{\"customdata\":[[6.0,159.07509814453124,26.512516357421873],[0.0,0.0,0.0],[1.0,25.858400390625,25.858400390625],[2.0,25.31980078125,12.659900390625],[1.0,44.5956015625,44.5956015625],[2.0,42.67930078125,21.339650390625],[2.0,81.30919921875,40.654599609375],[0.0,0.0,0.0],[2.0,115.766203125,57.8831015625],[4.0,131.394400390625,32.84860009765625],[6.0,164.3474013671875,27.391233561197918],[7.0,253.39899609375,36.199856584821426],[3.0,216.77219921875,72.25739973958333],[1.0,51.1936015625,51.1936015625],[0.0,0.0,0.0],[11.0,258.0407998046875,23.458254527698863],[3.0,73.4170986328125,24.472366210937498],[7.0,261.990201171875,37.427171595982145],[11.0,577.845998046875,52.53145436789773],[12.0,542.25010546875,45.1875087890625],[7.0,344.67949609375,49.239928013392856],[5.0,251.130296875,50.226059375],[4.0,211.038904296875,52.75972607421875],[7.0,229.0556015625,32.72222879464285],[4.0,194.700298828125,48.67507470703125],[6.0,292.60169824218747,48.766949707031245],[8.0,346.244,43.2805],[8.0,525.5745937500001,65.69682421875001],[5.0,247.902296875,49.580459375],[5.0,143.30530322265625,28.66106064453125],[6.0,270.500900390625,45.0834833984375],[3.0,243.419796875,81.13993229166667],[6.0,233.6177687988281,38.936294799804685],[3.0,159.72458203125,53.24152734375],[2.0,93.11344921874999,46.556724609374996],[3.0,105.555201171875,35.18506705729167],[5.0,175.57350000000002,35.114700000000006],[6.0,223.4977412109375,37.24962353515625],[7.0,241.10971875,34.44424553571429],[8.0,449.751640625,56.218955078125],[5.0,302.10466796875,60.42093359375],[5.0,185.76379296875,37.15275859375],[6.0,289.60936718749997,48.26822786458333],[5.0,181.425873046875,36.285174609375005],[4.0,203.934412109375,50.98360302734375],[1.0,36.4998515625,36.4998515625],[1.0,45.02212109375,45.02212109375],[3.0,123.22086132812501,41.07362044270834],[3.0,90.15498828125,30.051662760416665],[5.0,197.51716015625,39.50343203125],[7.0,377.8114921875,53.9730703125],[6.0,350.1636328125,58.36060546875],[3.0,108.01587109375,36.00529036458333],[5.0,264.299283203125,52.859856640625004],[8.0,369.91820068359374,46.23977508544922]],\"fillpattern\":{\"shape\":\"\"},\"hovertemplate\":\"Activity Type=Bicicleta\\u003cbr\\u003eMonth=%{x}\\u003cbr\\u003eCumulative kms covered=%{y:.1f}\\u003cbr\\u003eNumber of activities=%{customdata[0]:f}\\u003cbr\\u003eTotal kms covered=%{customdata[1]:.1f}\\u003cbr\\u003eAverage kms per activity=%{customdata[2]:.1f}\\u003cextra\\u003e\\u003c\\u002fextra\\u003e\",\"legendgroup\":\"Bicicleta\",\"line\":{\"color\":\"rgb(127, 60, 141)\"},\"marker\":{\"symbol\":\"circle\"},\"mode\":\"lines\",\"name\":\"Bicicleta\",\"orientation\":\"v\",\"showlegend\":true,\"stackgroup\":\"1\",\"x\":[\"2018-09\",\"2018-10\",\"2018-11\",\"2018-12\",\"2019-01\",\"2019-02\",\"2019-03\",\"2019-04\",\"2019-05\",\"2019-06\",\"2019-07\",\"2019-08\",\"2019-09\",\"2019-10\",\"2020-02\",\"2020-05\",\"2020-06\",\"2020-07\",\"2020-08\",\"2020-09\",\"2020-10\",\"2020-11\",\"2020-12\",\"2021-01\",\"2021-02\",\"2021-03\",\"2021-04\",\"2021-05\",\"2021-06\",\"2021-07\",\"2021-08\",\"2021-09\",\"2021-10\",\"2021-11\",\"2021-12\",\"2022-01\",\"2022-02\",\"2022-03\",\"2022-04\",\"2022-05\",\"2022-06\",\"2022-07\",\"2022-08\",\"2022-09\",\"2022-10\",\"2022-11\",\"2022-12\",\"2023-01\",\"2023-02\",\"2023-03\",\"2023-04\",\"2023-05\",\"2023-06\",\"2023-07\",\"2023-08\"],\"xaxis\":\"x\",\"y\":[159.07509814453124,159.07509814453124,184.93349853515625,210.25329931640624,254.84890087890625,297.52820166015624,378.83740087890624,378.83740087890624,494.60360400390624,625.9980043945312,790.3454057617188,1043.7444018554688,1260.5166010742187,1311.7102026367188,1311.7102026367188,1569.7510024414062,1643.1681010742186,1905.1583022460936,2483.0043002929688,3025.2544057617188,3369.933901855469,3621.064198730469,3832.103103027344,4061.1587045898436,4255.859003417969,4548.460701660157,4894.704701660156,5420.279295410156,5668.1815922851565,5811.486895507813,6081.987795898438,6325.4075927734375,6559.025361572266,6718.749943603516,6811.863392822266,6917.418593994141,7092.99209399414,7316.489835205079,7557.599553955079,8007.351194580078,8309.455862548828,8495.219655517578,8784.829022705078,8966.254895751954,9170.189307861328,9206.689159423828,9251.711280517578,9374.932141845704,9465.087130126953,9662.604290283203,10040.415782470704,10390.579415283204,10498.595286376953,10762.894569580078,11132.812770263672],\"yaxis\":\"y\",\"type\":\"scatter\"},{\"customdata\":[[0.0,0.0,0.0],[0.0,0.0,0.0],[0.0,0.0,0.0],[0.0,0.0,0.0],[0.0,0.0,0.0],[0.0,0.0,0.0],[0.0,0.0,0.0],[0.0,0.0,0.0],[0.0,0.0,0.0],[0.0,0.0,0.0],[0.0,0.0,0.0],[0.0,0.0,0.0],[0.0,0.0,0.0],[0.0,0.0,0.0],[0.0,0.0,0.0],[0.0,0.0,0.0],[0.0,0.0,0.0],[0.0,0.0,0.0],[0.0,0.0,0.0],[0.0,0.0,0.0],[0.0,0.0,0.0],[1.0,8.8442998046875,8.8442998046875],[0.0,0.0,0.0],[0.0,0.0,0.0],[0.0,0.0,0.0],[0.0,0.0,0.0],[0.0,0.0,0.0],[0.0,0.0,0.0],[0.0,0.0,0.0],[0.0,0.0,0.0],[0.0,0.0,0.0],[0.0,0.0,0.0],[0.0,0.0,0.0],[0.0,0.0,0.0],[0.0,0.0,0.0],[0.0,0.0,0.0],[0.0,0.0,0.0],[0.0,0.0,0.0],[0.0,0.0,0.0],[0.0,0.0,0.0],[0.0,0.0,0.0],[0.0,0.0,0.0],[0.0,0.0,0.0],[0.0,0.0,0.0],[0.0,0.0,0.0],[0.0,0.0,0.0],[0.0,0.0,0.0],[0.0,0.0,0.0],[0.0,0.0,0.0],[0.0,0.0,0.0],[0.0,0.0,0.0],[0.0,0.0,0.0],[0.0,0.0,0.0],[0.0,0.0,0.0],[0.0,0.0,0.0]],\"fillpattern\":{\"shape\":\"\"},\"hovertemplate\":\"Activity Type=Caminata\\u003cbr\\u003eMonth=%{x}\\u003cbr\\u003eCumulative kms covered=%{y:.1f}\\u003cbr\\u003eNumber of activities=%{customdata[0]:f}\\u003cbr\\u003eTotal kms covered=%{customdata[1]:.1f}\\u003cbr\\u003eAverage kms per activity=%{customdata[2]:.1f}\\u003cextra\\u003e\\u003c\\u002fextra\\u003e\",\"legendgroup\":\"Caminata\",\"line\":{\"color\":\"rgb(17, 165, 121)\"},\"marker\":{\"symbol\":\"circle\"},\"mode\":\"lines\",\"name\":\"Caminata\",\"orientation\":\"v\",\"showlegend\":true,\"stackgroup\":\"1\",\"x\":[\"2018-09\",\"2018-10\",\"2018-11\",\"2018-12\",\"2019-01\",\"2019-02\",\"2019-03\",\"2019-04\",\"2019-05\",\"2019-06\",\"2019-07\",\"2019-08\",\"2019-09\",\"2019-10\",\"2020-02\",\"2020-05\",\"2020-06\",\"2020-07\",\"2020-08\",\"2020-09\",\"2020-10\",\"2020-11\",\"2020-12\",\"2021-01\",\"2021-02\",\"2021-03\",\"2021-04\",\"2021-05\",\"2021-06\",\"2021-07\",\"2021-08\",\"2021-09\",\"2021-10\",\"2021-11\",\"2021-12\",\"2022-01\",\"2022-02\",\"2022-03\",\"2022-04\",\"2022-05\",\"2022-06\",\"2022-07\",\"2022-08\",\"2022-09\",\"2022-10\",\"2022-11\",\"2022-12\",\"2023-01\",\"2023-02\",\"2023-03\",\"2023-04\",\"2023-05\",\"2023-06\",\"2023-07\",\"2023-08\"],\"xaxis\":\"x\",\"y\":[0.0,0.0,0.0,0.0,0.0,0.0,0.0,0.0,0.0,0.0,0.0,0.0,0.0,0.0,0.0,0.0,0.0,0.0,0.0,0.0,0.0,8.8442998046875,8.8442998046875,8.8442998046875,8.8442998046875,8.8442998046875,8.8442998046875,8.8442998046875,8.8442998046875,8.8442998046875,8.8442998046875,8.8442998046875,8.8442998046875,8.8442998046875,8.8442998046875,8.8442998046875,8.8442998046875,8.8442998046875,8.8442998046875,8.8442998046875,8.8442998046875,8.8442998046875,8.8442998046875,8.8442998046875,8.8442998046875,8.8442998046875,8.8442998046875,8.8442998046875,8.8442998046875,8.8442998046875,8.8442998046875,8.8442998046875,8.8442998046875,8.8442998046875,8.8442998046875],\"yaxis\":\"y\",\"type\":\"scatter\"},{\"customdata\":[[0.0,0.0,0.0],[3.0,18.296099609375,6.098699869791666],[3.0,19.455100341796875,6.485033447265625],[0.0,0.0,0.0],[1.0,4.1847001953125,4.1847001953125],[4.0,18.6575,4.664375],[2.0,15.244099609375,7.6220498046875],[1.0,3.78810009765625,3.78810009765625],[2.0,11.023900390625,5.5119501953125],[2.0,23.611100097656248,11.805550048828124],[0.0,0.0,0.0],[0.0,0.0,0.0],[1.0,4.55639990234375,4.55639990234375],[0.0,0.0,0.0],[2.0,4.974900146484375,2.4874500732421874],[3.0,10.816199951171875,3.605399983723958],[0.0,0.0,0.0],[0.0,0.0,0.0],[1.0,5.57960009765625,5.57960009765625],[1.0,4.014199951171875,4.014199951171875],[1.0,3.02410009765625,3.02410009765625],[2.0,10.58410009765625,5.292050048828125],[4.0,22.57310009765625,5.643275024414063],[0.0,0.0,0.0],[1.0,5.8887998046875,5.8887998046875],[3.0,20.768700195312498,6.922900065104166],[10.0,80.19169946289063,8.019169946289063],[6.0,56.45329931640625,9.408883219401043],[5.0,37.45710009765625,7.49142001953125],[6.0,20.038300170898438,3.3397166951497397],[2.0,6.60910009765625,3.304550048828125],[6.0,36.21039990234375,6.035066650390625],[8.0,52.09757067871094,6.512196334838867],[15.0,122.292021484375,8.152801432291666],[6.0,50.98811962890625,8.49801993815104],[10.0,57.43583984375,5.743583984375],[8.0,48.73991052246094,6.092488815307617],[6.0,30.397038940429688,5.066173156738281],[3.0,28.11294970703125,9.370983235677084],[3.0,29.00035009765625,9.666783365885417],[9.0,95.0971904296875,10.5663544921875],[3.0,20.62877001953125,6.876256673177083],[3.0,23.017279785156248,7.672426595052083],[12.0,123.7548701171875,10.312905843098958],[12.0,136.01539111328125,11.334615926106771],[15.0,138.37043896484374,9.224695930989583],[15.0,146.01694775390624,9.73446318359375],[13.0,132.6398310546875,10.203063927283655],[10.0,115.6301982421875,11.56301982421875],[15.0,142.8175205078125,9.521168033854167],[14.0,126.8726513671875,9.062332240513394],[14.0,147.9992919921875,10.571377999441964],[16.0,137.11625927734374,8.569766204833984],[9.0,91.1966484375,10.1329609375],[2.0,11.947679687499999,5.9738398437499995]],\"fillpattern\":{\"shape\":\"\"},\"hovertemplate\":\"Activity Type=Carrera\\u003cbr\\u003eMonth=%{x}\\u003cbr\\u003eCumulative kms covered=%{y:.1f}\\u003cbr\\u003eNumber of activities=%{customdata[0]:f}\\u003cbr\\u003eTotal kms covered=%{customdata[1]:.1f}\\u003cbr\\u003eAverage kms per activity=%{customdata[2]:.1f}\\u003cextra\\u003e\\u003c\\u002fextra\\u003e\",\"legendgroup\":\"Carrera\",\"line\":{\"color\":\"rgb(57, 105, 172)\"},\"marker\":{\"symbol\":\"circle\"},\"mode\":\"lines\",\"name\":\"Carrera\",\"orientation\":\"v\",\"showlegend\":true,\"stackgroup\":\"1\",\"x\":[\"2018-09\",\"2018-10\",\"2018-11\",\"2018-12\",\"2019-01\",\"2019-02\",\"2019-03\",\"2019-04\",\"2019-05\",\"2019-06\",\"2019-07\",\"2019-08\",\"2019-09\",\"2019-10\",\"2020-02\",\"2020-05\",\"2020-06\",\"2020-07\",\"2020-08\",\"2020-09\",\"2020-10\",\"2020-11\",\"2020-12\",\"2021-01\",\"2021-02\",\"2021-03\",\"2021-04\",\"2021-05\",\"2021-06\",\"2021-07\",\"2021-08\",\"2021-09\",\"2021-10\",\"2021-11\",\"2021-12\",\"2022-01\",\"2022-02\",\"2022-03\",\"2022-04\",\"2022-05\",\"2022-06\",\"2022-07\",\"2022-08\",\"2022-09\",\"2022-10\",\"2022-11\",\"2022-12\",\"2023-01\",\"2023-02\",\"2023-03\",\"2023-04\",\"2023-05\",\"2023-06\",\"2023-07\",\"2023-08\"],\"xaxis\":\"x\",\"y\":[0.0,18.296099609375,37.75119995117187,37.75119995117187,41.93590014648437,60.59340014648437,75.83749975585937,79.62559985351562,90.64950024414063,114.26060034179687,114.26060034179687,114.26060034179687,118.81700024414062,118.81700024414062,123.79190039062499,134.60810034179687,134.60810034179687,134.60810034179687,140.18770043945312,144.20190039062498,147.22600048828124,157.8101005859375,180.38320068359374,180.38320068359374,186.27200048828124,207.04070068359374,287.23240014648434,343.6856994628906,381.14279956054685,401.18109973144533,407.79019982910154,444.00059973144533,496.09817041015623,618.3901918945312,669.3783115234376,726.8141513671875,775.5540618896484,805.9511008300781,834.0640505371094,863.0644006347657,958.1615910644531,978.7903610839844,1001.8076408691406,1125.562510986328,1261.5779020996094,1399.9483410644532,1545.9652888183593,1678.605119873047,1794.2353181152343,1937.052838623047,2063.9254899902344,2211.924781982422,2349.0410412597657,2440.2376896972655,2452.1853693847656],\"yaxis\":\"y\",\"type\":\"scatter\"}],                        {\"template\":{\"data\":{\"barpolar\":[{\"marker\":{\"line\":{\"color\":\"white\",\"width\":0.5},\"pattern\":{\"fillmode\":\"overlay\",\"size\":10,\"solidity\":0.2}},\"type\":\"barpolar\"}],\"bar\":[{\"error_x\":{\"color\":\"#2a3f5f\"},\"error_y\":{\"color\":\"#2a3f5f\"},\"marker\":{\"line\":{\"color\":\"white\",\"width\":0.5},\"pattern\":{\"fillmode\":\"overlay\",\"size\":10,\"solidity\":0.2}},\"type\":\"bar\"}],\"carpet\":[{\"aaxis\":{\"endlinecolor\":\"#2a3f5f\",\"gridcolor\":\"#C8D4E3\",\"linecolor\":\"#C8D4E3\",\"minorgridcolor\":\"#C8D4E3\",\"startlinecolor\":\"#2a3f5f\"},\"baxis\":{\"endlinecolor\":\"#2a3f5f\",\"gridcolor\":\"#C8D4E3\",\"linecolor\":\"#C8D4E3\",\"minorgridcolor\":\"#C8D4E3\",\"startlinecolor\":\"#2a3f5f\"},\"type\":\"carpet\"}],\"choropleth\":[{\"colorbar\":{\"outlinewidth\":0,\"ticks\":\"\"},\"type\":\"choropleth\"}],\"contourcarpet\":[{\"colorbar\":{\"outlinewidth\":0,\"ticks\":\"\"},\"type\":\"contourcarpet\"}],\"contour\":[{\"colorbar\":{\"outlinewidth\":0,\"ticks\":\"\"},\"colorscale\":[[0.0,\"#0d0887\"],[0.1111111111111111,\"#46039f\"],[0.2222222222222222,\"#7201a8\"],[0.3333333333333333,\"#9c179e\"],[0.4444444444444444,\"#bd3786\"],[0.5555555555555556,\"#d8576b\"],[0.6666666666666666,\"#ed7953\"],[0.7777777777777778,\"#fb9f3a\"],[0.8888888888888888,\"#fdca26\"],[1.0,\"#f0f921\"]],\"type\":\"contour\"}],\"heatmapgl\":[{\"colorbar\":{\"outlinewidth\":0,\"ticks\":\"\"},\"colorscale\":[[0.0,\"#0d0887\"],[0.1111111111111111,\"#46039f\"],[0.2222222222222222,\"#7201a8\"],[0.3333333333333333,\"#9c179e\"],[0.4444444444444444,\"#bd3786\"],[0.5555555555555556,\"#d8576b\"],[0.6666666666666666,\"#ed7953\"],[0.7777777777777778,\"#fb9f3a\"],[0.8888888888888888,\"#fdca26\"],[1.0,\"#f0f921\"]],\"type\":\"heatmapgl\"}],\"heatmap\":[{\"colorbar\":{\"outlinewidth\":0,\"ticks\":\"\"},\"colorscale\":[[0.0,\"#0d0887\"],[0.1111111111111111,\"#46039f\"],[0.2222222222222222,\"#7201a8\"],[0.3333333333333333,\"#9c179e\"],[0.4444444444444444,\"#bd3786\"],[0.5555555555555556,\"#d8576b\"],[0.6666666666666666,\"#ed7953\"],[0.7777777777777778,\"#fb9f3a\"],[0.8888888888888888,\"#fdca26\"],[1.0,\"#f0f921\"]],\"type\":\"heatmap\"}],\"histogram2dcontour\":[{\"colorbar\":{\"outlinewidth\":0,\"ticks\":\"\"},\"colorscale\":[[0.0,\"#0d0887\"],[0.1111111111111111,\"#46039f\"],[0.2222222222222222,\"#7201a8\"],[0.3333333333333333,\"#9c179e\"],[0.4444444444444444,\"#bd3786\"],[0.5555555555555556,\"#d8576b\"],[0.6666666666666666,\"#ed7953\"],[0.7777777777777778,\"#fb9f3a\"],[0.8888888888888888,\"#fdca26\"],[1.0,\"#f0f921\"]],\"type\":\"histogram2dcontour\"}],\"histogram2d\":[{\"colorbar\":{\"outlinewidth\":0,\"ticks\":\"\"},\"colorscale\":[[0.0,\"#0d0887\"],[0.1111111111111111,\"#46039f\"],[0.2222222222222222,\"#7201a8\"],[0.3333333333333333,\"#9c179e\"],[0.4444444444444444,\"#bd3786\"],[0.5555555555555556,\"#d8576b\"],[0.6666666666666666,\"#ed7953\"],[0.7777777777777778,\"#fb9f3a\"],[0.8888888888888888,\"#fdca26\"],[1.0,\"#f0f921\"]],\"type\":\"histogram2d\"}],\"histogram\":[{\"marker\":{\"pattern\":{\"fillmode\":\"overlay\",\"size\":10,\"solidity\":0.2}},\"type\":\"histogram\"}],\"mesh3d\":[{\"colorbar\":{\"outlinewidth\":0,\"ticks\":\"\"},\"type\":\"mesh3d\"}],\"parcoords\":[{\"line\":{\"colorbar\":{\"outlinewidth\":0,\"ticks\":\"\"}},\"type\":\"parcoords\"}],\"pie\":[{\"automargin\":true,\"type\":\"pie\"}],\"scatter3d\":[{\"line\":{\"colorbar\":{\"outlinewidth\":0,\"ticks\":\"\"}},\"marker\":{\"colorbar\":{\"outlinewidth\":0,\"ticks\":\"\"}},\"type\":\"scatter3d\"}],\"scattercarpet\":[{\"marker\":{\"colorbar\":{\"outlinewidth\":0,\"ticks\":\"\"}},\"type\":\"scattercarpet\"}],\"scattergeo\":[{\"marker\":{\"colorbar\":{\"outlinewidth\":0,\"ticks\":\"\"}},\"type\":\"scattergeo\"}],\"scattergl\":[{\"marker\":{\"colorbar\":{\"outlinewidth\":0,\"ticks\":\"\"}},\"type\":\"scattergl\"}],\"scattermapbox\":[{\"marker\":{\"colorbar\":{\"outlinewidth\":0,\"ticks\":\"\"}},\"type\":\"scattermapbox\"}],\"scatterpolargl\":[{\"marker\":{\"colorbar\":{\"outlinewidth\":0,\"ticks\":\"\"}},\"type\":\"scatterpolargl\"}],\"scatterpolar\":[{\"marker\":{\"colorbar\":{\"outlinewidth\":0,\"ticks\":\"\"}},\"type\":\"scatterpolar\"}],\"scatter\":[{\"fillpattern\":{\"fillmode\":\"overlay\",\"size\":10,\"solidity\":0.2},\"type\":\"scatter\"}],\"scatterternary\":[{\"marker\":{\"colorbar\":{\"outlinewidth\":0,\"ticks\":\"\"}},\"type\":\"scatterternary\"}],\"surface\":[{\"colorbar\":{\"outlinewidth\":0,\"ticks\":\"\"},\"colorscale\":[[0.0,\"#0d0887\"],[0.1111111111111111,\"#46039f\"],[0.2222222222222222,\"#7201a8\"],[0.3333333333333333,\"#9c179e\"],[0.4444444444444444,\"#bd3786\"],[0.5555555555555556,\"#d8576b\"],[0.6666666666666666,\"#ed7953\"],[0.7777777777777778,\"#fb9f3a\"],[0.8888888888888888,\"#fdca26\"],[1.0,\"#f0f921\"]],\"type\":\"surface\"}],\"table\":[{\"cells\":{\"fill\":{\"color\":\"#EBF0F8\"},\"line\":{\"color\":\"white\"}},\"header\":{\"fill\":{\"color\":\"#C8D4E3\"},\"line\":{\"color\":\"white\"}},\"type\":\"table\"}]},\"layout\":{\"annotationdefaults\":{\"arrowcolor\":\"#2a3f5f\",\"arrowhead\":0,\"arrowwidth\":1},\"autotypenumbers\":\"strict\",\"coloraxis\":{\"colorbar\":{\"outlinewidth\":0,\"ticks\":\"\"}},\"colorscale\":{\"diverging\":[[0,\"#8e0152\"],[0.1,\"#c51b7d\"],[0.2,\"#de77ae\"],[0.3,\"#f1b6da\"],[0.4,\"#fde0ef\"],[0.5,\"#f7f7f7\"],[0.6,\"#e6f5d0\"],[0.7,\"#b8e186\"],[0.8,\"#7fbc41\"],[0.9,\"#4d9221\"],[1,\"#276419\"]],\"sequential\":[[0.0,\"#0d0887\"],[0.1111111111111111,\"#46039f\"],[0.2222222222222222,\"#7201a8\"],[0.3333333333333333,\"#9c179e\"],[0.4444444444444444,\"#bd3786\"],[0.5555555555555556,\"#d8576b\"],[0.6666666666666666,\"#ed7953\"],[0.7777777777777778,\"#fb9f3a\"],[0.8888888888888888,\"#fdca26\"],[1.0,\"#f0f921\"]],\"sequentialminus\":[[0.0,\"#0d0887\"],[0.1111111111111111,\"#46039f\"],[0.2222222222222222,\"#7201a8\"],[0.3333333333333333,\"#9c179e\"],[0.4444444444444444,\"#bd3786\"],[0.5555555555555556,\"#d8576b\"],[0.6666666666666666,\"#ed7953\"],[0.7777777777777778,\"#fb9f3a\"],[0.8888888888888888,\"#fdca26\"],[1.0,\"#f0f921\"]]},\"colorway\":[\"#636efa\",\"#EF553B\",\"#00cc96\",\"#ab63fa\",\"#FFA15A\",\"#19d3f3\",\"#FF6692\",\"#B6E880\",\"#FF97FF\",\"#FECB52\"],\"font\":{\"color\":\"#2a3f5f\"},\"geo\":{\"bgcolor\":\"white\",\"lakecolor\":\"white\",\"landcolor\":\"white\",\"showlakes\":true,\"showland\":true,\"subunitcolor\":\"#C8D4E3\"},\"hoverlabel\":{\"align\":\"left\"},\"hovermode\":\"closest\",\"mapbox\":{\"style\":\"light\"},\"paper_bgcolor\":\"white\",\"plot_bgcolor\":\"white\",\"polar\":{\"angularaxis\":{\"gridcolor\":\"#EBF0F8\",\"linecolor\":\"#EBF0F8\",\"ticks\":\"\"},\"bgcolor\":\"white\",\"radialaxis\":{\"gridcolor\":\"#EBF0F8\",\"linecolor\":\"#EBF0F8\",\"ticks\":\"\"}},\"scene\":{\"xaxis\":{\"backgroundcolor\":\"white\",\"gridcolor\":\"#DFE8F3\",\"gridwidth\":2,\"linecolor\":\"#EBF0F8\",\"showbackground\":true,\"ticks\":\"\",\"zerolinecolor\":\"#EBF0F8\"},\"yaxis\":{\"backgroundcolor\":\"white\",\"gridcolor\":\"#DFE8F3\",\"gridwidth\":2,\"linecolor\":\"#EBF0F8\",\"showbackground\":true,\"ticks\":\"\",\"zerolinecolor\":\"#EBF0F8\"},\"zaxis\":{\"backgroundcolor\":\"white\",\"gridcolor\":\"#DFE8F3\",\"gridwidth\":2,\"linecolor\":\"#EBF0F8\",\"showbackground\":true,\"ticks\":\"\",\"zerolinecolor\":\"#EBF0F8\"}},\"shapedefaults\":{\"line\":{\"color\":\"#2a3f5f\"}},\"ternary\":{\"aaxis\":{\"gridcolor\":\"#DFE8F3\",\"linecolor\":\"#A2B1C6\",\"ticks\":\"\"},\"baxis\":{\"gridcolor\":\"#DFE8F3\",\"linecolor\":\"#A2B1C6\",\"ticks\":\"\"},\"bgcolor\":\"white\",\"caxis\":{\"gridcolor\":\"#DFE8F3\",\"linecolor\":\"#A2B1C6\",\"ticks\":\"\"}},\"title\":{\"x\":0.05},\"xaxis\":{\"automargin\":true,\"gridcolor\":\"#EBF0F8\",\"linecolor\":\"#EBF0F8\",\"ticks\":\"\",\"title\":{\"standoff\":15},\"zerolinecolor\":\"#EBF0F8\",\"zerolinewidth\":2},\"yaxis\":{\"automargin\":true,\"gridcolor\":\"#EBF0F8\",\"linecolor\":\"#EBF0F8\",\"ticks\":\"\",\"title\":{\"standoff\":15},\"zerolinecolor\":\"#EBF0F8\",\"zerolinewidth\":2}}},\"xaxis\":{\"anchor\":\"y\",\"domain\":[0.0,1.0],\"title\":{\"text\":\"Month\"},\"nticks\":20},\"yaxis\":{\"anchor\":\"x\",\"domain\":[0.0,1.0],\"title\":{\"text\":\"Cumulative kms covered\"},\"nticks\":15},\"legend\":{\"title\":{\"text\":\"Activity Type\"},\"tracegroupgap\":0},\"title\":{\"text\":\"My 13594 Kilometers on Strava!\",\"y\":0.9,\"x\":0.5,\"xanchor\":\"center\",\"yanchor\":\"top\"},\"autosize\":false,\"width\":700,\"height\":500},                        {\"responsive\": true}                    ).then(function(){\n",
       "                            \n",
       "var gd = document.getElementById('eaa553b6-9a35-4c13-b406-e1ea71f06dfb');\n",
       "var x = new MutationObserver(function (mutations, observer) {{\n",
       "        var display = window.getComputedStyle(gd).display;\n",
       "        if (!display || display === 'none') {{\n",
       "            console.log([gd, 'removed!']);\n",
       "            Plotly.purge(gd);\n",
       "            observer.disconnect();\n",
       "        }}\n",
       "}});\n",
       "\n",
       "// Listen for the removal of the full notebook cells\n",
       "var notebookContainer = gd.closest('#notebook-container');\n",
       "if (notebookContainer) {{\n",
       "    x.observe(notebookContainer, {childList: true});\n",
       "}}\n",
       "\n",
       "// Listen for the clearing of the current output cell\n",
       "var outputEl = gd.closest('.output');\n",
       "if (outputEl) {{\n",
       "    x.observe(outputEl, {childList: true});\n",
       "}}\n",
       "\n",
       "                        })                };                });            </script>        </div>"
      ]
     },
     "metadata": {},
     "output_type": "display_data"
    }
   ],
   "source": [
    "# For the plot tile\n",
    "total_km = round(df_km[\"total_distance_km\"].sum())\n",
    "\n",
    "# Plot a stacked area plot\n",
    "fig_km = px.area(\n",
    "    csum,\n",
    "    x=time_unit_km,\n",
    "    y=\"csum_km\",\n",
    "    color=\"Activity Type\",\n",
    "    title=f\"My {total_km} Kilometers on Strava!\",  # Set title text\n",
    "    hover_data={  # Define variables for hover text\n",
    "        \"csum_km\": \":.1f\",\n",
    "        \"count\": \":f\",\n",
    "        \"total_distance_km\": \":.1f\",\n",
    "        \"avg_distance_km\": \":.1f\",\n",
    "    },\n",
    "    labels=dict(  # Define labels for variables\n",
    "        count=\"Number of activities\",\n",
    "        avg_distance_km=\"Average kms per activity\",\n",
    "        total_distance_km=\"Total kms covered\",\n",
    "        csum_km=\"Cumulative kms covered\",\n",
    "    ),\n",
    "    color_discrete_sequence=px.colors.qualitative.Bold,  # Define color swatch\n",
    ")\n",
    "\n",
    "# Set max allowed of ticks on x and y axes\n",
    "fig_km.update_xaxes(nticks=20)\n",
    "fig_km.update_yaxes(nticks=15)\n",
    "\n",
    "# Adjust the size and layout\n",
    "fig_km.update_layout(\n",
    "    autosize=False,\n",
    "    width=700,\n",
    "    height=500,\n",
    "    template=\"plotly_white\",  # Others options: \"plotly\", \"plotly_dark\", \"ggplot2\", \"seaborn\", \"simple_white\"\n",
    "    title={\"y\": 0.9, \"x\": 0.5, \"xanchor\": \"center\", \"yanchor\": \"top\"},  # Center title\n",
    ")\n",
    "\n",
    "fig_km.show()"
   ]
  },
  {
   "cell_type": "markdown",
   "metadata": {},
   "source": [
    "* Las salidas en bicicleta acumulan la gran parte de los kilometros recorridos"
   ]
  },
  {
   "cell_type": "markdown",
   "metadata": {},
   "source": [
    "Horas dedicadas a cada tipo de actividad"
   ]
  },
  {
   "cell_type": "code",
   "execution_count": 12,
   "metadata": {},
   "outputs": [
    {
     "data": {
      "application/vnd.plotly.v1+json": {
       "config": {
        "plotlyServerURL": "https://plot.ly"
       },
       "data": [
        {
         "alignmentgroup": "True",
         "customdata": [
          [
           6,
           0.9951851851851852
          ],
          [
           1,
           0.9780555555555556
          ],
          [
           2,
           0.5115277777777778
          ],
          [
           1,
           1.8733333333333333
          ],
          [
           2,
           1.0202777777777778
          ],
          [
           2,
           2.03625
          ],
          [
           2,
           2.538333333333333
          ],
          [
           4,
           1.3511111111111112
          ],
          [
           6,
           1.6326851851851851
          ],
          [
           7,
           1.7504761904761905
          ],
          [
           3,
           3.0685185185185184
          ],
          [
           1,
           1.8675
          ],
          [
           11,
           0.8687878787878788
          ],
          [
           3,
           0.9249999999999999
          ],
          [
           7,
           1.3581746031746031
          ],
          [
           11,
           2.0725
          ],
          [
           12,
           2.1231712962962965
          ],
          [
           7,
           2.063253968253968
          ],
          [
           5,
           2.539833333333333
          ],
          [
           4,
           2.7691666666666666
          ],
          [
           7,
           1.4963492063492063
          ],
          [
           4,
           1.977291666666667
          ],
          [
           6,
           2.060787037037037
          ],
          [
           8,
           2.060763888888889
          ],
          [
           8,
           2.7360069444444446
          ],
          [
           5,
           2.0685555555555557
          ],
          [
           5,
           1.316611111111111
          ],
          [
           6,
           2.229074074074074
          ],
          [
           3,
           3.6467592592592593
          ],
          [
           6,
           2.1031944444444446
          ],
          [
           3,
           2.080740740740741
          ],
          [
           2,
           1.8945833333333333
          ],
          [
           3,
           1.3845370370370371
          ],
          [
           5,
           1.4701666666666666
          ],
          [
           6,
           1.5137962962962963
          ],
          [
           7,
           1.905079365079365
          ],
          [
           8,
           2.2880902777777776
          ],
          [
           5,
           3.113
          ],
          [
           5,
           2.0725555555555557
          ],
          [
           6,
           2.1037962962962964
          ],
          [
           5,
           1.5471666666666668
          ],
          [
           4,
           2.4009722222222223
          ],
          [
           1,
           1.5811111111111111
          ],
          [
           1,
           2.0369444444444444
          ],
          [
           3,
           1.9879629629629632
          ],
          [
           3,
           1.538703703703704
          ],
          [
           5,
           1.8936111111111114
          ],
          [
           7,
           2.332301587301587
          ],
          [
           6,
           2.247962962962963
          ],
          [
           3,
           1.637685185185185
          ],
          [
           5,
           2.0829444444444443
          ],
          [
           8,
           2.2240625
          ]
         ],
         "hovertemplate": "Activity Type=Bicicleta<br>Month=%{x}<br>Total hrs spent=%{y:.1f}<br>Number of activities=%{customdata[0]:f}<br>Average hrs spent per activity=%{customdata[1]:.1f}<extra></extra>",
         "legendgroup": "Bicicleta",
         "marker": {
          "color": "rgb(127, 60, 141)",
          "pattern": {
           "shape": ""
          }
         },
         "name": "Bicicleta",
         "offsetgroup": "Bicicleta",
         "orientation": "v",
         "showlegend": true,
         "textposition": "auto",
         "type": "bar",
         "x": [
          "2018-09",
          "2018-11",
          "2018-12",
          "2019-01",
          "2019-02",
          "2019-03",
          "2019-05",
          "2019-06",
          "2019-07",
          "2019-08",
          "2019-09",
          "2019-10",
          "2020-05",
          "2020-06",
          "2020-07",
          "2020-08",
          "2020-09",
          "2020-10",
          "2020-11",
          "2020-12",
          "2021-01",
          "2021-02",
          "2021-03",
          "2021-04",
          "2021-05",
          "2021-06",
          "2021-07",
          "2021-08",
          "2021-09",
          "2021-10",
          "2021-11",
          "2021-12",
          "2022-01",
          "2022-02",
          "2022-03",
          "2022-04",
          "2022-05",
          "2022-06",
          "2022-07",
          "2022-08",
          "2022-09",
          "2022-10",
          "2022-11",
          "2022-12",
          "2023-01",
          "2023-02",
          "2023-03",
          "2023-04",
          "2023-05",
          "2023-06",
          "2023-07",
          "2023-08"
         ],
         "xaxis": "x",
         "y": [
          5.971111111111111,
          0.9780555555555556,
          1.0230555555555556,
          1.8733333333333333,
          2.0405555555555557,
          4.0725,
          5.076666666666666,
          5.404444444444445,
          9.796111111111111,
          12.253333333333334,
          9.205555555555556,
          1.8675,
          9.556666666666667,
          2.775,
          9.507222222222222,
          22.7975,
          25.478055555555557,
          14.442777777777778,
          12.699166666666667,
          11.076666666666666,
          10.474444444444444,
          7.909166666666668,
          12.364722222222222,
          16.48611111111111,
          21.888055555555557,
          10.342777777777778,
          6.583055555555555,
          13.374444444444444,
          10.940277777777778,
          12.619166666666667,
          6.242222222222222,
          3.7891666666666666,
          4.153611111111111,
          7.350833333333333,
          9.082777777777778,
          13.335555555555555,
          18.30472222222222,
          15.565,
          10.362777777777778,
          12.622777777777777,
          7.735833333333334,
          9.60388888888889,
          1.5811111111111111,
          2.0369444444444444,
          5.9638888888888895,
          4.6161111111111115,
          9.468055555555557,
          16.32611111111111,
          13.487777777777778,
          4.913055555555555,
          10.414722222222222,
          17.7925
         ],
         "yaxis": "y"
        },
        {
         "alignmentgroup": "True",
         "customdata": [
          [
           3,
           0.4846296296296296
          ],
          [
           3,
           0.5662037037037037
          ],
          [
           1,
           0.29888888888888887
          ],
          [
           4,
           0.39381944444444444
          ],
          [
           2,
           0.65375
          ],
          [
           1,
           0.26305555555555554
          ],
          [
           2,
           0.47055555555555556
          ],
          [
           2,
           0.9983333333333333
          ],
          [
           1,
           0.4463888888888889
          ],
          [
           2,
           0.17722222222222223
          ],
          [
           3,
           0.27685185185185185
          ],
          [
           1,
           0.46111111111111114
          ],
          [
           1,
           0.28694444444444445
          ],
          [
           1,
           0.18861111111111112
          ],
          [
           2,
           0.4079166666666667
          ],
          [
           4,
           0.4660416666666667
          ],
          [
           1,
           0.6058333333333333
          ],
          [
           3,
           0.5375925925925925
          ],
          [
           10,
           0.7118055555555556
          ],
          [
           6,
           0.7547222222222222
          ],
          [
           5,
           0.7279444444444445
          ],
          [
           6,
           0.25194444444444447
          ],
          [
           2,
           0.21
          ],
          [
           6,
           0.5017592592592592
          ],
          [
           8,
           0.5352083333333333
          ],
          [
           15,
           0.6578518518518519
          ],
          [
           6,
           0.7089351851851852
          ],
          [
           10,
           0.43261111111111117
          ],
          [
           8,
           0.49069444444444443
          ],
          [
           6,
           0.39601851851851855
          ],
          [
           3,
           0.7964814814814815
          ],
          [
           3,
           0.8264814814814815
          ],
          [
           9,
           0.8746604938271605
          ],
          [
           3,
           0.5853703703703704
          ],
          [
           3,
           0.6938888888888889
          ],
          [
           12,
           0.8484722222222222
          ],
          [
           12,
           0.9569907407407406
          ],
          [
           15,
           0.7193888888888889
          ],
          [
           15,
           0.7925925925925926
          ],
          [
           13,
           0.833974358974359
          ],
          [
           10,
           0.9140833333333334
          ],
          [
           15,
           0.7766666666666667
          ],
          [
           14,
           0.737718253968254
          ],
          [
           14,
           0.8691468253968254
          ],
          [
           16,
           0.6885590277777778
          ],
          [
           9,
           0.9313271604938271
          ],
          [
           2,
           0.4705555555555555
          ]
         ],
         "hovertemplate": "Activity Type=Carrera<br>Month=%{x}<br>Total hrs spent=%{y:.1f}<br>Number of activities=%{customdata[0]:f}<br>Average hrs spent per activity=%{customdata[1]:.1f}<extra></extra>",
         "legendgroup": "Carrera",
         "marker": {
          "color": "rgb(17, 165, 121)",
          "pattern": {
           "shape": ""
          }
         },
         "name": "Carrera",
         "offsetgroup": "Carrera",
         "orientation": "v",
         "showlegend": true,
         "textposition": "auto",
         "type": "bar",
         "x": [
          "2018-10",
          "2018-11",
          "2019-01",
          "2019-02",
          "2019-03",
          "2019-04",
          "2019-05",
          "2019-06",
          "2019-09",
          "2020-02",
          "2020-05",
          "2020-08",
          "2020-09",
          "2020-10",
          "2020-11",
          "2020-12",
          "2021-02",
          "2021-03",
          "2021-04",
          "2021-05",
          "2021-06",
          "2021-07",
          "2021-08",
          "2021-09",
          "2021-10",
          "2021-11",
          "2021-12",
          "2022-01",
          "2022-02",
          "2022-03",
          "2022-04",
          "2022-05",
          "2022-06",
          "2022-07",
          "2022-08",
          "2022-09",
          "2022-10",
          "2022-11",
          "2022-12",
          "2023-01",
          "2023-02",
          "2023-03",
          "2023-04",
          "2023-05",
          "2023-06",
          "2023-07",
          "2023-08"
         ],
         "xaxis": "x",
         "y": [
          1.4538888888888888,
          1.698611111111111,
          0.29888888888888887,
          1.5752777777777778,
          1.3075,
          0.26305555555555554,
          0.9411111111111111,
          1.9966666666666666,
          0.4463888888888889,
          0.35444444444444445,
          0.8305555555555556,
          0.46111111111111114,
          0.28694444444444445,
          0.18861111111111112,
          0.8158333333333334,
          1.8641666666666667,
          0.6058333333333333,
          1.6127777777777776,
          7.118055555555555,
          4.528333333333333,
          3.6397222222222223,
          1.5116666666666667,
          0.42,
          3.0105555555555554,
          4.281666666666666,
          9.867777777777778,
          4.253611111111111,
          4.3261111111111115,
          3.9255555555555555,
          2.3761111111111113,
          2.3894444444444445,
          2.4794444444444443,
          7.871944444444444,
          1.7561111111111112,
          2.0816666666666666,
          10.181666666666667,
          11.483888888888888,
          10.790833333333333,
          11.88888888888889,
          10.841666666666667,
          9.140833333333333,
          11.65,
          10.328055555555556,
          12.168055555555556,
          11.016944444444444,
          8.381944444444445,
          0.941111111111111
         ],
         "yaxis": "y"
        },
        {
         "alignmentgroup": "True",
         "customdata": [
          [
           1,
           1.593611111111111
          ]
         ],
         "hovertemplate": "Activity Type=Caminata<br>Month=%{x}<br>Total hrs spent=%{y:.1f}<br>Number of activities=%{customdata[0]:f}<br>Average hrs spent per activity=%{customdata[1]:.1f}<extra></extra>",
         "legendgroup": "Caminata",
         "marker": {
          "color": "rgb(57, 105, 172)",
          "pattern": {
           "shape": ""
          }
         },
         "name": "Caminata",
         "offsetgroup": "Caminata",
         "orientation": "v",
         "showlegend": true,
         "textposition": "auto",
         "type": "bar",
         "x": [
          "2020-11"
         ],
         "xaxis": "x",
         "y": [
          1.593611111111111
         ],
         "yaxis": "y"
        }
       ],
       "layout": {
        "autosize": false,
        "barmode": "relative",
        "height": 500,
        "legend": {
         "orientation": "h",
         "title": {},
         "tracegroupgap": 0,
         "x": 1,
         "xanchor": "right",
         "y": -0.6,
         "yanchor": "bottom"
        },
        "template": {
         "data": {
          "bar": [
           {
            "error_x": {
             "color": "#2a3f5f"
            },
            "error_y": {
             "color": "#2a3f5f"
            },
            "marker": {
             "line": {
              "color": "white",
              "width": 0.5
             },
             "pattern": {
              "fillmode": "overlay",
              "size": 10,
              "solidity": 0.2
             }
            },
            "type": "bar"
           }
          ],
          "barpolar": [
           {
            "marker": {
             "line": {
              "color": "white",
              "width": 0.5
             },
             "pattern": {
              "fillmode": "overlay",
              "size": 10,
              "solidity": 0.2
             }
            },
            "type": "barpolar"
           }
          ],
          "carpet": [
           {
            "aaxis": {
             "endlinecolor": "#2a3f5f",
             "gridcolor": "#C8D4E3",
             "linecolor": "#C8D4E3",
             "minorgridcolor": "#C8D4E3",
             "startlinecolor": "#2a3f5f"
            },
            "baxis": {
             "endlinecolor": "#2a3f5f",
             "gridcolor": "#C8D4E3",
             "linecolor": "#C8D4E3",
             "minorgridcolor": "#C8D4E3",
             "startlinecolor": "#2a3f5f"
            },
            "type": "carpet"
           }
          ],
          "choropleth": [
           {
            "colorbar": {
             "outlinewidth": 0,
             "ticks": ""
            },
            "type": "choropleth"
           }
          ],
          "contour": [
           {
            "colorbar": {
             "outlinewidth": 0,
             "ticks": ""
            },
            "colorscale": [
             [
              0,
              "#0d0887"
             ],
             [
              0.1111111111111111,
              "#46039f"
             ],
             [
              0.2222222222222222,
              "#7201a8"
             ],
             [
              0.3333333333333333,
              "#9c179e"
             ],
             [
              0.4444444444444444,
              "#bd3786"
             ],
             [
              0.5555555555555556,
              "#d8576b"
             ],
             [
              0.6666666666666666,
              "#ed7953"
             ],
             [
              0.7777777777777778,
              "#fb9f3a"
             ],
             [
              0.8888888888888888,
              "#fdca26"
             ],
             [
              1,
              "#f0f921"
             ]
            ],
            "type": "contour"
           }
          ],
          "contourcarpet": [
           {
            "colorbar": {
             "outlinewidth": 0,
             "ticks": ""
            },
            "type": "contourcarpet"
           }
          ],
          "heatmap": [
           {
            "colorbar": {
             "outlinewidth": 0,
             "ticks": ""
            },
            "colorscale": [
             [
              0,
              "#0d0887"
             ],
             [
              0.1111111111111111,
              "#46039f"
             ],
             [
              0.2222222222222222,
              "#7201a8"
             ],
             [
              0.3333333333333333,
              "#9c179e"
             ],
             [
              0.4444444444444444,
              "#bd3786"
             ],
             [
              0.5555555555555556,
              "#d8576b"
             ],
             [
              0.6666666666666666,
              "#ed7953"
             ],
             [
              0.7777777777777778,
              "#fb9f3a"
             ],
             [
              0.8888888888888888,
              "#fdca26"
             ],
             [
              1,
              "#f0f921"
             ]
            ],
            "type": "heatmap"
           }
          ],
          "heatmapgl": [
           {
            "colorbar": {
             "outlinewidth": 0,
             "ticks": ""
            },
            "colorscale": [
             [
              0,
              "#0d0887"
             ],
             [
              0.1111111111111111,
              "#46039f"
             ],
             [
              0.2222222222222222,
              "#7201a8"
             ],
             [
              0.3333333333333333,
              "#9c179e"
             ],
             [
              0.4444444444444444,
              "#bd3786"
             ],
             [
              0.5555555555555556,
              "#d8576b"
             ],
             [
              0.6666666666666666,
              "#ed7953"
             ],
             [
              0.7777777777777778,
              "#fb9f3a"
             ],
             [
              0.8888888888888888,
              "#fdca26"
             ],
             [
              1,
              "#f0f921"
             ]
            ],
            "type": "heatmapgl"
           }
          ],
          "histogram": [
           {
            "marker": {
             "pattern": {
              "fillmode": "overlay",
              "size": 10,
              "solidity": 0.2
             }
            },
            "type": "histogram"
           }
          ],
          "histogram2d": [
           {
            "colorbar": {
             "outlinewidth": 0,
             "ticks": ""
            },
            "colorscale": [
             [
              0,
              "#0d0887"
             ],
             [
              0.1111111111111111,
              "#46039f"
             ],
             [
              0.2222222222222222,
              "#7201a8"
             ],
             [
              0.3333333333333333,
              "#9c179e"
             ],
             [
              0.4444444444444444,
              "#bd3786"
             ],
             [
              0.5555555555555556,
              "#d8576b"
             ],
             [
              0.6666666666666666,
              "#ed7953"
             ],
             [
              0.7777777777777778,
              "#fb9f3a"
             ],
             [
              0.8888888888888888,
              "#fdca26"
             ],
             [
              1,
              "#f0f921"
             ]
            ],
            "type": "histogram2d"
           }
          ],
          "histogram2dcontour": [
           {
            "colorbar": {
             "outlinewidth": 0,
             "ticks": ""
            },
            "colorscale": [
             [
              0,
              "#0d0887"
             ],
             [
              0.1111111111111111,
              "#46039f"
             ],
             [
              0.2222222222222222,
              "#7201a8"
             ],
             [
              0.3333333333333333,
              "#9c179e"
             ],
             [
              0.4444444444444444,
              "#bd3786"
             ],
             [
              0.5555555555555556,
              "#d8576b"
             ],
             [
              0.6666666666666666,
              "#ed7953"
             ],
             [
              0.7777777777777778,
              "#fb9f3a"
             ],
             [
              0.8888888888888888,
              "#fdca26"
             ],
             [
              1,
              "#f0f921"
             ]
            ],
            "type": "histogram2dcontour"
           }
          ],
          "mesh3d": [
           {
            "colorbar": {
             "outlinewidth": 0,
             "ticks": ""
            },
            "type": "mesh3d"
           }
          ],
          "parcoords": [
           {
            "line": {
             "colorbar": {
              "outlinewidth": 0,
              "ticks": ""
             }
            },
            "type": "parcoords"
           }
          ],
          "pie": [
           {
            "automargin": true,
            "type": "pie"
           }
          ],
          "scatter": [
           {
            "fillpattern": {
             "fillmode": "overlay",
             "size": 10,
             "solidity": 0.2
            },
            "type": "scatter"
           }
          ],
          "scatter3d": [
           {
            "line": {
             "colorbar": {
              "outlinewidth": 0,
              "ticks": ""
             }
            },
            "marker": {
             "colorbar": {
              "outlinewidth": 0,
              "ticks": ""
             }
            },
            "type": "scatter3d"
           }
          ],
          "scattercarpet": [
           {
            "marker": {
             "colorbar": {
              "outlinewidth": 0,
              "ticks": ""
             }
            },
            "type": "scattercarpet"
           }
          ],
          "scattergeo": [
           {
            "marker": {
             "colorbar": {
              "outlinewidth": 0,
              "ticks": ""
             }
            },
            "type": "scattergeo"
           }
          ],
          "scattergl": [
           {
            "marker": {
             "colorbar": {
              "outlinewidth": 0,
              "ticks": ""
             }
            },
            "type": "scattergl"
           }
          ],
          "scattermapbox": [
           {
            "marker": {
             "colorbar": {
              "outlinewidth": 0,
              "ticks": ""
             }
            },
            "type": "scattermapbox"
           }
          ],
          "scatterpolar": [
           {
            "marker": {
             "colorbar": {
              "outlinewidth": 0,
              "ticks": ""
             }
            },
            "type": "scatterpolar"
           }
          ],
          "scatterpolargl": [
           {
            "marker": {
             "colorbar": {
              "outlinewidth": 0,
              "ticks": ""
             }
            },
            "type": "scatterpolargl"
           }
          ],
          "scatterternary": [
           {
            "marker": {
             "colorbar": {
              "outlinewidth": 0,
              "ticks": ""
             }
            },
            "type": "scatterternary"
           }
          ],
          "surface": [
           {
            "colorbar": {
             "outlinewidth": 0,
             "ticks": ""
            },
            "colorscale": [
             [
              0,
              "#0d0887"
             ],
             [
              0.1111111111111111,
              "#46039f"
             ],
             [
              0.2222222222222222,
              "#7201a8"
             ],
             [
              0.3333333333333333,
              "#9c179e"
             ],
             [
              0.4444444444444444,
              "#bd3786"
             ],
             [
              0.5555555555555556,
              "#d8576b"
             ],
             [
              0.6666666666666666,
              "#ed7953"
             ],
             [
              0.7777777777777778,
              "#fb9f3a"
             ],
             [
              0.8888888888888888,
              "#fdca26"
             ],
             [
              1,
              "#f0f921"
             ]
            ],
            "type": "surface"
           }
          ],
          "table": [
           {
            "cells": {
             "fill": {
              "color": "#EBF0F8"
             },
             "line": {
              "color": "white"
             }
            },
            "header": {
             "fill": {
              "color": "#C8D4E3"
             },
             "line": {
              "color": "white"
             }
            },
            "type": "table"
           }
          ]
         },
         "layout": {
          "annotationdefaults": {
           "arrowcolor": "#2a3f5f",
           "arrowhead": 0,
           "arrowwidth": 1
          },
          "autotypenumbers": "strict",
          "coloraxis": {
           "colorbar": {
            "outlinewidth": 0,
            "ticks": ""
           }
          },
          "colorscale": {
           "diverging": [
            [
             0,
             "#8e0152"
            ],
            [
             0.1,
             "#c51b7d"
            ],
            [
             0.2,
             "#de77ae"
            ],
            [
             0.3,
             "#f1b6da"
            ],
            [
             0.4,
             "#fde0ef"
            ],
            [
             0.5,
             "#f7f7f7"
            ],
            [
             0.6,
             "#e6f5d0"
            ],
            [
             0.7,
             "#b8e186"
            ],
            [
             0.8,
             "#7fbc41"
            ],
            [
             0.9,
             "#4d9221"
            ],
            [
             1,
             "#276419"
            ]
           ],
           "sequential": [
            [
             0,
             "#0d0887"
            ],
            [
             0.1111111111111111,
             "#46039f"
            ],
            [
             0.2222222222222222,
             "#7201a8"
            ],
            [
             0.3333333333333333,
             "#9c179e"
            ],
            [
             0.4444444444444444,
             "#bd3786"
            ],
            [
             0.5555555555555556,
             "#d8576b"
            ],
            [
             0.6666666666666666,
             "#ed7953"
            ],
            [
             0.7777777777777778,
             "#fb9f3a"
            ],
            [
             0.8888888888888888,
             "#fdca26"
            ],
            [
             1,
             "#f0f921"
            ]
           ],
           "sequentialminus": [
            [
             0,
             "#0d0887"
            ],
            [
             0.1111111111111111,
             "#46039f"
            ],
            [
             0.2222222222222222,
             "#7201a8"
            ],
            [
             0.3333333333333333,
             "#9c179e"
            ],
            [
             0.4444444444444444,
             "#bd3786"
            ],
            [
             0.5555555555555556,
             "#d8576b"
            ],
            [
             0.6666666666666666,
             "#ed7953"
            ],
            [
             0.7777777777777778,
             "#fb9f3a"
            ],
            [
             0.8888888888888888,
             "#fdca26"
            ],
            [
             1,
             "#f0f921"
            ]
           ]
          },
          "colorway": [
           "#636efa",
           "#EF553B",
           "#00cc96",
           "#ab63fa",
           "#FFA15A",
           "#19d3f3",
           "#FF6692",
           "#B6E880",
           "#FF97FF",
           "#FECB52"
          ],
          "font": {
           "color": "#2a3f5f"
          },
          "geo": {
           "bgcolor": "white",
           "lakecolor": "white",
           "landcolor": "white",
           "showlakes": true,
           "showland": true,
           "subunitcolor": "#C8D4E3"
          },
          "hoverlabel": {
           "align": "left"
          },
          "hovermode": "closest",
          "mapbox": {
           "style": "light"
          },
          "paper_bgcolor": "white",
          "plot_bgcolor": "white",
          "polar": {
           "angularaxis": {
            "gridcolor": "#EBF0F8",
            "linecolor": "#EBF0F8",
            "ticks": ""
           },
           "bgcolor": "white",
           "radialaxis": {
            "gridcolor": "#EBF0F8",
            "linecolor": "#EBF0F8",
            "ticks": ""
           }
          },
          "scene": {
           "xaxis": {
            "backgroundcolor": "white",
            "gridcolor": "#DFE8F3",
            "gridwidth": 2,
            "linecolor": "#EBF0F8",
            "showbackground": true,
            "ticks": "",
            "zerolinecolor": "#EBF0F8"
           },
           "yaxis": {
            "backgroundcolor": "white",
            "gridcolor": "#DFE8F3",
            "gridwidth": 2,
            "linecolor": "#EBF0F8",
            "showbackground": true,
            "ticks": "",
            "zerolinecolor": "#EBF0F8"
           },
           "zaxis": {
            "backgroundcolor": "white",
            "gridcolor": "#DFE8F3",
            "gridwidth": 2,
            "linecolor": "#EBF0F8",
            "showbackground": true,
            "ticks": "",
            "zerolinecolor": "#EBF0F8"
           }
          },
          "shapedefaults": {
           "line": {
            "color": "#2a3f5f"
           }
          },
          "ternary": {
           "aaxis": {
            "gridcolor": "#DFE8F3",
            "linecolor": "#A2B1C6",
            "ticks": ""
           },
           "baxis": {
            "gridcolor": "#DFE8F3",
            "linecolor": "#A2B1C6",
            "ticks": ""
           },
           "bgcolor": "white",
           "caxis": {
            "gridcolor": "#DFE8F3",
            "linecolor": "#A2B1C6",
            "ticks": ""
           }
          },
          "title": {
           "x": 0.05
          },
          "xaxis": {
           "automargin": true,
           "gridcolor": "#EBF0F8",
           "linecolor": "#EBF0F8",
           "ticks": "",
           "title": {
            "standoff": 15
           },
           "zerolinecolor": "#EBF0F8",
           "zerolinewidth": 2
          },
          "yaxis": {
           "automargin": true,
           "gridcolor": "#EBF0F8",
           "linecolor": "#EBF0F8",
           "ticks": "",
           "title": {
            "standoff": 15
           },
           "zerolinecolor": "#EBF0F8",
           "zerolinewidth": 2
          }
         }
        },
        "title": {
         "text": "My 699 hours on Strava!",
         "x": 0.5,
         "xanchor": "center",
         "y": 0.9,
         "yanchor": "top"
        },
        "width": 700,
        "xaxis": {
         "anchor": "y",
         "domain": [
          0,
          1
         ],
         "nticks": 20,
         "title": {
          "text": "Month"
         }
        },
        "yaxis": {
         "anchor": "x",
         "domain": [
          0,
          1
         ],
         "nticks": 15,
         "title": {
          "text": "Total hrs spent"
         }
        }
       }
      },
      "text/html": [
       "<div>                            <div id=\"72a32fd6-fe7b-4df1-942a-b474ab178b78\" class=\"plotly-graph-div\" style=\"height:500px; width:700px;\"></div>            <script type=\"text/javascript\">                require([\"plotly\"], function(Plotly) {                    window.PLOTLYENV=window.PLOTLYENV || {};                                    if (document.getElementById(\"72a32fd6-fe7b-4df1-942a-b474ab178b78\")) {                    Plotly.newPlot(                        \"72a32fd6-fe7b-4df1-942a-b474ab178b78\",                        [{\"alignmentgroup\":\"True\",\"customdata\":[[6.0,0.9951851851851852],[1.0,0.9780555555555556],[2.0,0.5115277777777778],[1.0,1.8733333333333333],[2.0,1.0202777777777778],[2.0,2.03625],[2.0,2.538333333333333],[4.0,1.3511111111111112],[6.0,1.6326851851851851],[7.0,1.7504761904761905],[3.0,3.0685185185185184],[1.0,1.8675],[11.0,0.8687878787878788],[3.0,0.9249999999999999],[7.0,1.3581746031746031],[11.0,2.0725],[12.0,2.1231712962962965],[7.0,2.063253968253968],[5.0,2.539833333333333],[4.0,2.7691666666666666],[7.0,1.4963492063492063],[4.0,1.977291666666667],[6.0,2.060787037037037],[8.0,2.060763888888889],[8.0,2.7360069444444446],[5.0,2.0685555555555557],[5.0,1.316611111111111],[6.0,2.229074074074074],[3.0,3.6467592592592593],[6.0,2.1031944444444446],[3.0,2.080740740740741],[2.0,1.8945833333333333],[3.0,1.3845370370370371],[5.0,1.4701666666666666],[6.0,1.5137962962962963],[7.0,1.905079365079365],[8.0,2.2880902777777776],[5.0,3.113],[5.0,2.0725555555555557],[6.0,2.1037962962962964],[5.0,1.5471666666666668],[4.0,2.4009722222222223],[1.0,1.5811111111111111],[1.0,2.0369444444444444],[3.0,1.9879629629629632],[3.0,1.538703703703704],[5.0,1.8936111111111114],[7.0,2.332301587301587],[6.0,2.247962962962963],[3.0,1.637685185185185],[5.0,2.0829444444444443],[8.0,2.2240625]],\"hovertemplate\":\"Activity Type=Bicicleta\\u003cbr\\u003eMonth=%{x}\\u003cbr\\u003eTotal hrs spent=%{y:.1f}\\u003cbr\\u003eNumber of activities=%{customdata[0]:f}\\u003cbr\\u003eAverage hrs spent per activity=%{customdata[1]:.1f}\\u003cextra\\u003e\\u003c\\u002fextra\\u003e\",\"legendgroup\":\"Bicicleta\",\"marker\":{\"color\":\"rgb(127, 60, 141)\",\"pattern\":{\"shape\":\"\"}},\"name\":\"Bicicleta\",\"offsetgroup\":\"Bicicleta\",\"orientation\":\"v\",\"showlegend\":true,\"textposition\":\"auto\",\"x\":[\"2018-09\",\"2018-11\",\"2018-12\",\"2019-01\",\"2019-02\",\"2019-03\",\"2019-05\",\"2019-06\",\"2019-07\",\"2019-08\",\"2019-09\",\"2019-10\",\"2020-05\",\"2020-06\",\"2020-07\",\"2020-08\",\"2020-09\",\"2020-10\",\"2020-11\",\"2020-12\",\"2021-01\",\"2021-02\",\"2021-03\",\"2021-04\",\"2021-05\",\"2021-06\",\"2021-07\",\"2021-08\",\"2021-09\",\"2021-10\",\"2021-11\",\"2021-12\",\"2022-01\",\"2022-02\",\"2022-03\",\"2022-04\",\"2022-05\",\"2022-06\",\"2022-07\",\"2022-08\",\"2022-09\",\"2022-10\",\"2022-11\",\"2022-12\",\"2023-01\",\"2023-02\",\"2023-03\",\"2023-04\",\"2023-05\",\"2023-06\",\"2023-07\",\"2023-08\"],\"xaxis\":\"x\",\"y\":[5.971111111111111,0.9780555555555556,1.0230555555555556,1.8733333333333333,2.0405555555555557,4.0725,5.076666666666666,5.404444444444445,9.796111111111111,12.253333333333334,9.205555555555556,1.8675,9.556666666666667,2.775,9.507222222222222,22.7975,25.478055555555557,14.442777777777778,12.699166666666667,11.076666666666666,10.474444444444444,7.909166666666668,12.364722222222222,16.48611111111111,21.888055555555557,10.342777777777778,6.583055555555555,13.374444444444444,10.940277777777778,12.619166666666667,6.242222222222222,3.7891666666666666,4.153611111111111,7.350833333333333,9.082777777777778,13.335555555555555,18.30472222222222,15.565,10.362777777777778,12.622777777777777,7.735833333333334,9.60388888888889,1.5811111111111111,2.0369444444444444,5.9638888888888895,4.6161111111111115,9.468055555555557,16.32611111111111,13.487777777777778,4.913055555555555,10.414722222222222,17.7925],\"yaxis\":\"y\",\"type\":\"bar\"},{\"alignmentgroup\":\"True\",\"customdata\":[[3.0,0.4846296296296296],[3.0,0.5662037037037037],[1.0,0.29888888888888887],[4.0,0.39381944444444444],[2.0,0.65375],[1.0,0.26305555555555554],[2.0,0.47055555555555556],[2.0,0.9983333333333333],[1.0,0.4463888888888889],[2.0,0.17722222222222223],[3.0,0.27685185185185185],[1.0,0.46111111111111114],[1.0,0.28694444444444445],[1.0,0.18861111111111112],[2.0,0.4079166666666667],[4.0,0.4660416666666667],[1.0,0.6058333333333333],[3.0,0.5375925925925925],[10.0,0.7118055555555556],[6.0,0.7547222222222222],[5.0,0.7279444444444445],[6.0,0.25194444444444447],[2.0,0.21],[6.0,0.5017592592592592],[8.0,0.5352083333333333],[15.0,0.6578518518518519],[6.0,0.7089351851851852],[10.0,0.43261111111111117],[8.0,0.49069444444444443],[6.0,0.39601851851851855],[3.0,0.7964814814814815],[3.0,0.8264814814814815],[9.0,0.8746604938271605],[3.0,0.5853703703703704],[3.0,0.6938888888888889],[12.0,0.8484722222222222],[12.0,0.9569907407407406],[15.0,0.7193888888888889],[15.0,0.7925925925925926],[13.0,0.833974358974359],[10.0,0.9140833333333334],[15.0,0.7766666666666667],[14.0,0.737718253968254],[14.0,0.8691468253968254],[16.0,0.6885590277777778],[9.0,0.9313271604938271],[2.0,0.4705555555555555]],\"hovertemplate\":\"Activity Type=Carrera\\u003cbr\\u003eMonth=%{x}\\u003cbr\\u003eTotal hrs spent=%{y:.1f}\\u003cbr\\u003eNumber of activities=%{customdata[0]:f}\\u003cbr\\u003eAverage hrs spent per activity=%{customdata[1]:.1f}\\u003cextra\\u003e\\u003c\\u002fextra\\u003e\",\"legendgroup\":\"Carrera\",\"marker\":{\"color\":\"rgb(17, 165, 121)\",\"pattern\":{\"shape\":\"\"}},\"name\":\"Carrera\",\"offsetgroup\":\"Carrera\",\"orientation\":\"v\",\"showlegend\":true,\"textposition\":\"auto\",\"x\":[\"2018-10\",\"2018-11\",\"2019-01\",\"2019-02\",\"2019-03\",\"2019-04\",\"2019-05\",\"2019-06\",\"2019-09\",\"2020-02\",\"2020-05\",\"2020-08\",\"2020-09\",\"2020-10\",\"2020-11\",\"2020-12\",\"2021-02\",\"2021-03\",\"2021-04\",\"2021-05\",\"2021-06\",\"2021-07\",\"2021-08\",\"2021-09\",\"2021-10\",\"2021-11\",\"2021-12\",\"2022-01\",\"2022-02\",\"2022-03\",\"2022-04\",\"2022-05\",\"2022-06\",\"2022-07\",\"2022-08\",\"2022-09\",\"2022-10\",\"2022-11\",\"2022-12\",\"2023-01\",\"2023-02\",\"2023-03\",\"2023-04\",\"2023-05\",\"2023-06\",\"2023-07\",\"2023-08\"],\"xaxis\":\"x\",\"y\":[1.4538888888888888,1.698611111111111,0.29888888888888887,1.5752777777777778,1.3075,0.26305555555555554,0.9411111111111111,1.9966666666666666,0.4463888888888889,0.35444444444444445,0.8305555555555556,0.46111111111111114,0.28694444444444445,0.18861111111111112,0.8158333333333334,1.8641666666666667,0.6058333333333333,1.6127777777777776,7.118055555555555,4.528333333333333,3.6397222222222223,1.5116666666666667,0.42,3.0105555555555554,4.281666666666666,9.867777777777778,4.253611111111111,4.3261111111111115,3.9255555555555555,2.3761111111111113,2.3894444444444445,2.4794444444444443,7.871944444444444,1.7561111111111112,2.0816666666666666,10.181666666666667,11.483888888888888,10.790833333333333,11.88888888888889,10.841666666666667,9.140833333333333,11.65,10.328055555555556,12.168055555555556,11.016944444444444,8.381944444444445,0.941111111111111],\"yaxis\":\"y\",\"type\":\"bar\"},{\"alignmentgroup\":\"True\",\"customdata\":[[1.0,1.593611111111111]],\"hovertemplate\":\"Activity Type=Caminata\\u003cbr\\u003eMonth=%{x}\\u003cbr\\u003eTotal hrs spent=%{y:.1f}\\u003cbr\\u003eNumber of activities=%{customdata[0]:f}\\u003cbr\\u003eAverage hrs spent per activity=%{customdata[1]:.1f}\\u003cextra\\u003e\\u003c\\u002fextra\\u003e\",\"legendgroup\":\"Caminata\",\"marker\":{\"color\":\"rgb(57, 105, 172)\",\"pattern\":{\"shape\":\"\"}},\"name\":\"Caminata\",\"offsetgroup\":\"Caminata\",\"orientation\":\"v\",\"showlegend\":true,\"textposition\":\"auto\",\"x\":[\"2020-11\"],\"xaxis\":\"x\",\"y\":[1.593611111111111],\"yaxis\":\"y\",\"type\":\"bar\"}],                        {\"template\":{\"data\":{\"barpolar\":[{\"marker\":{\"line\":{\"color\":\"white\",\"width\":0.5},\"pattern\":{\"fillmode\":\"overlay\",\"size\":10,\"solidity\":0.2}},\"type\":\"barpolar\"}],\"bar\":[{\"error_x\":{\"color\":\"#2a3f5f\"},\"error_y\":{\"color\":\"#2a3f5f\"},\"marker\":{\"line\":{\"color\":\"white\",\"width\":0.5},\"pattern\":{\"fillmode\":\"overlay\",\"size\":10,\"solidity\":0.2}},\"type\":\"bar\"}],\"carpet\":[{\"aaxis\":{\"endlinecolor\":\"#2a3f5f\",\"gridcolor\":\"#C8D4E3\",\"linecolor\":\"#C8D4E3\",\"minorgridcolor\":\"#C8D4E3\",\"startlinecolor\":\"#2a3f5f\"},\"baxis\":{\"endlinecolor\":\"#2a3f5f\",\"gridcolor\":\"#C8D4E3\",\"linecolor\":\"#C8D4E3\",\"minorgridcolor\":\"#C8D4E3\",\"startlinecolor\":\"#2a3f5f\"},\"type\":\"carpet\"}],\"choropleth\":[{\"colorbar\":{\"outlinewidth\":0,\"ticks\":\"\"},\"type\":\"choropleth\"}],\"contourcarpet\":[{\"colorbar\":{\"outlinewidth\":0,\"ticks\":\"\"},\"type\":\"contourcarpet\"}],\"contour\":[{\"colorbar\":{\"outlinewidth\":0,\"ticks\":\"\"},\"colorscale\":[[0.0,\"#0d0887\"],[0.1111111111111111,\"#46039f\"],[0.2222222222222222,\"#7201a8\"],[0.3333333333333333,\"#9c179e\"],[0.4444444444444444,\"#bd3786\"],[0.5555555555555556,\"#d8576b\"],[0.6666666666666666,\"#ed7953\"],[0.7777777777777778,\"#fb9f3a\"],[0.8888888888888888,\"#fdca26\"],[1.0,\"#f0f921\"]],\"type\":\"contour\"}],\"heatmapgl\":[{\"colorbar\":{\"outlinewidth\":0,\"ticks\":\"\"},\"colorscale\":[[0.0,\"#0d0887\"],[0.1111111111111111,\"#46039f\"],[0.2222222222222222,\"#7201a8\"],[0.3333333333333333,\"#9c179e\"],[0.4444444444444444,\"#bd3786\"],[0.5555555555555556,\"#d8576b\"],[0.6666666666666666,\"#ed7953\"],[0.7777777777777778,\"#fb9f3a\"],[0.8888888888888888,\"#fdca26\"],[1.0,\"#f0f921\"]],\"type\":\"heatmapgl\"}],\"heatmap\":[{\"colorbar\":{\"outlinewidth\":0,\"ticks\":\"\"},\"colorscale\":[[0.0,\"#0d0887\"],[0.1111111111111111,\"#46039f\"],[0.2222222222222222,\"#7201a8\"],[0.3333333333333333,\"#9c179e\"],[0.4444444444444444,\"#bd3786\"],[0.5555555555555556,\"#d8576b\"],[0.6666666666666666,\"#ed7953\"],[0.7777777777777778,\"#fb9f3a\"],[0.8888888888888888,\"#fdca26\"],[1.0,\"#f0f921\"]],\"type\":\"heatmap\"}],\"histogram2dcontour\":[{\"colorbar\":{\"outlinewidth\":0,\"ticks\":\"\"},\"colorscale\":[[0.0,\"#0d0887\"],[0.1111111111111111,\"#46039f\"],[0.2222222222222222,\"#7201a8\"],[0.3333333333333333,\"#9c179e\"],[0.4444444444444444,\"#bd3786\"],[0.5555555555555556,\"#d8576b\"],[0.6666666666666666,\"#ed7953\"],[0.7777777777777778,\"#fb9f3a\"],[0.8888888888888888,\"#fdca26\"],[1.0,\"#f0f921\"]],\"type\":\"histogram2dcontour\"}],\"histogram2d\":[{\"colorbar\":{\"outlinewidth\":0,\"ticks\":\"\"},\"colorscale\":[[0.0,\"#0d0887\"],[0.1111111111111111,\"#46039f\"],[0.2222222222222222,\"#7201a8\"],[0.3333333333333333,\"#9c179e\"],[0.4444444444444444,\"#bd3786\"],[0.5555555555555556,\"#d8576b\"],[0.6666666666666666,\"#ed7953\"],[0.7777777777777778,\"#fb9f3a\"],[0.8888888888888888,\"#fdca26\"],[1.0,\"#f0f921\"]],\"type\":\"histogram2d\"}],\"histogram\":[{\"marker\":{\"pattern\":{\"fillmode\":\"overlay\",\"size\":10,\"solidity\":0.2}},\"type\":\"histogram\"}],\"mesh3d\":[{\"colorbar\":{\"outlinewidth\":0,\"ticks\":\"\"},\"type\":\"mesh3d\"}],\"parcoords\":[{\"line\":{\"colorbar\":{\"outlinewidth\":0,\"ticks\":\"\"}},\"type\":\"parcoords\"}],\"pie\":[{\"automargin\":true,\"type\":\"pie\"}],\"scatter3d\":[{\"line\":{\"colorbar\":{\"outlinewidth\":0,\"ticks\":\"\"}},\"marker\":{\"colorbar\":{\"outlinewidth\":0,\"ticks\":\"\"}},\"type\":\"scatter3d\"}],\"scattercarpet\":[{\"marker\":{\"colorbar\":{\"outlinewidth\":0,\"ticks\":\"\"}},\"type\":\"scattercarpet\"}],\"scattergeo\":[{\"marker\":{\"colorbar\":{\"outlinewidth\":0,\"ticks\":\"\"}},\"type\":\"scattergeo\"}],\"scattergl\":[{\"marker\":{\"colorbar\":{\"outlinewidth\":0,\"ticks\":\"\"}},\"type\":\"scattergl\"}],\"scattermapbox\":[{\"marker\":{\"colorbar\":{\"outlinewidth\":0,\"ticks\":\"\"}},\"type\":\"scattermapbox\"}],\"scatterpolargl\":[{\"marker\":{\"colorbar\":{\"outlinewidth\":0,\"ticks\":\"\"}},\"type\":\"scatterpolargl\"}],\"scatterpolar\":[{\"marker\":{\"colorbar\":{\"outlinewidth\":0,\"ticks\":\"\"}},\"type\":\"scatterpolar\"}],\"scatter\":[{\"fillpattern\":{\"fillmode\":\"overlay\",\"size\":10,\"solidity\":0.2},\"type\":\"scatter\"}],\"scatterternary\":[{\"marker\":{\"colorbar\":{\"outlinewidth\":0,\"ticks\":\"\"}},\"type\":\"scatterternary\"}],\"surface\":[{\"colorbar\":{\"outlinewidth\":0,\"ticks\":\"\"},\"colorscale\":[[0.0,\"#0d0887\"],[0.1111111111111111,\"#46039f\"],[0.2222222222222222,\"#7201a8\"],[0.3333333333333333,\"#9c179e\"],[0.4444444444444444,\"#bd3786\"],[0.5555555555555556,\"#d8576b\"],[0.6666666666666666,\"#ed7953\"],[0.7777777777777778,\"#fb9f3a\"],[0.8888888888888888,\"#fdca26\"],[1.0,\"#f0f921\"]],\"type\":\"surface\"}],\"table\":[{\"cells\":{\"fill\":{\"color\":\"#EBF0F8\"},\"line\":{\"color\":\"white\"}},\"header\":{\"fill\":{\"color\":\"#C8D4E3\"},\"line\":{\"color\":\"white\"}},\"type\":\"table\"}]},\"layout\":{\"annotationdefaults\":{\"arrowcolor\":\"#2a3f5f\",\"arrowhead\":0,\"arrowwidth\":1},\"autotypenumbers\":\"strict\",\"coloraxis\":{\"colorbar\":{\"outlinewidth\":0,\"ticks\":\"\"}},\"colorscale\":{\"diverging\":[[0,\"#8e0152\"],[0.1,\"#c51b7d\"],[0.2,\"#de77ae\"],[0.3,\"#f1b6da\"],[0.4,\"#fde0ef\"],[0.5,\"#f7f7f7\"],[0.6,\"#e6f5d0\"],[0.7,\"#b8e186\"],[0.8,\"#7fbc41\"],[0.9,\"#4d9221\"],[1,\"#276419\"]],\"sequential\":[[0.0,\"#0d0887\"],[0.1111111111111111,\"#46039f\"],[0.2222222222222222,\"#7201a8\"],[0.3333333333333333,\"#9c179e\"],[0.4444444444444444,\"#bd3786\"],[0.5555555555555556,\"#d8576b\"],[0.6666666666666666,\"#ed7953\"],[0.7777777777777778,\"#fb9f3a\"],[0.8888888888888888,\"#fdca26\"],[1.0,\"#f0f921\"]],\"sequentialminus\":[[0.0,\"#0d0887\"],[0.1111111111111111,\"#46039f\"],[0.2222222222222222,\"#7201a8\"],[0.3333333333333333,\"#9c179e\"],[0.4444444444444444,\"#bd3786\"],[0.5555555555555556,\"#d8576b\"],[0.6666666666666666,\"#ed7953\"],[0.7777777777777778,\"#fb9f3a\"],[0.8888888888888888,\"#fdca26\"],[1.0,\"#f0f921\"]]},\"colorway\":[\"#636efa\",\"#EF553B\",\"#00cc96\",\"#ab63fa\",\"#FFA15A\",\"#19d3f3\",\"#FF6692\",\"#B6E880\",\"#FF97FF\",\"#FECB52\"],\"font\":{\"color\":\"#2a3f5f\"},\"geo\":{\"bgcolor\":\"white\",\"lakecolor\":\"white\",\"landcolor\":\"white\",\"showlakes\":true,\"showland\":true,\"subunitcolor\":\"#C8D4E3\"},\"hoverlabel\":{\"align\":\"left\"},\"hovermode\":\"closest\",\"mapbox\":{\"style\":\"light\"},\"paper_bgcolor\":\"white\",\"plot_bgcolor\":\"white\",\"polar\":{\"angularaxis\":{\"gridcolor\":\"#EBF0F8\",\"linecolor\":\"#EBF0F8\",\"ticks\":\"\"},\"bgcolor\":\"white\",\"radialaxis\":{\"gridcolor\":\"#EBF0F8\",\"linecolor\":\"#EBF0F8\",\"ticks\":\"\"}},\"scene\":{\"xaxis\":{\"backgroundcolor\":\"white\",\"gridcolor\":\"#DFE8F3\",\"gridwidth\":2,\"linecolor\":\"#EBF0F8\",\"showbackground\":true,\"ticks\":\"\",\"zerolinecolor\":\"#EBF0F8\"},\"yaxis\":{\"backgroundcolor\":\"white\",\"gridcolor\":\"#DFE8F3\",\"gridwidth\":2,\"linecolor\":\"#EBF0F8\",\"showbackground\":true,\"ticks\":\"\",\"zerolinecolor\":\"#EBF0F8\"},\"zaxis\":{\"backgroundcolor\":\"white\",\"gridcolor\":\"#DFE8F3\",\"gridwidth\":2,\"linecolor\":\"#EBF0F8\",\"showbackground\":true,\"ticks\":\"\",\"zerolinecolor\":\"#EBF0F8\"}},\"shapedefaults\":{\"line\":{\"color\":\"#2a3f5f\"}},\"ternary\":{\"aaxis\":{\"gridcolor\":\"#DFE8F3\",\"linecolor\":\"#A2B1C6\",\"ticks\":\"\"},\"baxis\":{\"gridcolor\":\"#DFE8F3\",\"linecolor\":\"#A2B1C6\",\"ticks\":\"\"},\"bgcolor\":\"white\",\"caxis\":{\"gridcolor\":\"#DFE8F3\",\"linecolor\":\"#A2B1C6\",\"ticks\":\"\"}},\"title\":{\"x\":0.05},\"xaxis\":{\"automargin\":true,\"gridcolor\":\"#EBF0F8\",\"linecolor\":\"#EBF0F8\",\"ticks\":\"\",\"title\":{\"standoff\":15},\"zerolinecolor\":\"#EBF0F8\",\"zerolinewidth\":2},\"yaxis\":{\"automargin\":true,\"gridcolor\":\"#EBF0F8\",\"linecolor\":\"#EBF0F8\",\"ticks\":\"\",\"title\":{\"standoff\":15},\"zerolinecolor\":\"#EBF0F8\",\"zerolinewidth\":2}}},\"xaxis\":{\"anchor\":\"y\",\"domain\":[0.0,1.0],\"title\":{\"text\":\"Month\"},\"nticks\":20},\"yaxis\":{\"anchor\":\"x\",\"domain\":[0.0,1.0],\"title\":{\"text\":\"Total hrs spent\"},\"nticks\":15},\"legend\":{\"title\":{},\"tracegroupgap\":0,\"orientation\":\"h\",\"yanchor\":\"bottom\",\"y\":-0.6,\"xanchor\":\"right\",\"x\":1},\"title\":{\"text\":\"My 699 hours on Strava!\",\"y\":0.9,\"x\":0.5,\"xanchor\":\"center\",\"yanchor\":\"top\"},\"barmode\":\"relative\",\"autosize\":false,\"width\":700,\"height\":500},                        {\"responsive\": true}                    ).then(function(){\n",
       "                            \n",
       "var gd = document.getElementById('72a32fd6-fe7b-4df1-942a-b474ab178b78');\n",
       "var x = new MutationObserver(function (mutations, observer) {{\n",
       "        var display = window.getComputedStyle(gd).display;\n",
       "        if (!display || display === 'none') {{\n",
       "            console.log([gd, 'removed!']);\n",
       "            Plotly.purge(gd);\n",
       "            observer.disconnect();\n",
       "        }}\n",
       "}});\n",
       "\n",
       "// Listen for the removal of the full notebook cells\n",
       "var notebookContainer = gd.closest('#notebook-container');\n",
       "if (notebookContainer) {{\n",
       "    x.observe(notebookContainer, {childList: true});\n",
       "}}\n",
       "\n",
       "// Listen for the clearing of the current output cell\n",
       "var outputEl = gd.closest('.output');\n",
       "if (outputEl) {{\n",
       "    x.observe(outputEl, {childList: true});\n",
       "}}\n",
       "\n",
       "                        })                };                });            </script>        </div>"
      ]
     },
     "metadata": {},
     "output_type": "display_data"
    }
   ],
   "source": [
    "# Define a time unit: \"Year\", \"Quarter\", \"Month\", \"Week\", or \"Day\"\n",
    "time_unit_bar = \"Month\"\n",
    "\n",
    "# Group by time_unit_bar and activity type\n",
    "df_hr = df.groupby(by=[time_unit_bar, \"Activity Type\"], as_index=False).agg(\n",
    "    count=(\"Moving Time (hr)\", \"count\"),\n",
    "    total_hr_spent=(\"Moving Time (hr)\", \"sum\"),\n",
    "    avg_hr_spent=(\"Moving Time (hr)\", \"mean\"),\n",
    ")\n",
    "\n",
    "# For the plot tile\n",
    "total_hr = round(df_hr[\"total_hr_spent\"].sum())\n",
    "\n",
    "# Plot a stacked bar plot\n",
    "fig_hr = px.bar(\n",
    "    df_hr,\n",
    "    x=time_unit_bar,\n",
    "    y=\"total_hr_spent\",\n",
    "    color=\"Activity Type\",\n",
    "    title=f\"My {total_hr} hours on Strava!\",  # Set title text\n",
    "    hover_data={  # Define variables for hover text\n",
    "        \"count\": \":f\",\n",
    "        \"total_hr_spent\": \":.1f\",\n",
    "        \"avg_hr_spent\": \":.1f\",\n",
    "    },\n",
    "    labels=dict(  # Define labels for variables\n",
    "        total_hr_spent=\"Total hrs spent\",\n",
    "        count=\"Number of activities\",\n",
    "        avg_hr_spent=\"Average hrs spent per activity\",\n",
    "    ),\n",
    "    color_discrete_sequence=px.colors.qualitative.Bold,  # Define color swatch\n",
    ")\n",
    "\n",
    "# Set max allowed of ticks on x and y axes\n",
    "fig_hr.update_xaxes(nticks=20)\n",
    "fig_hr.update_yaxes(nticks=15)\n",
    "\n",
    "# Adjust the size and layout\n",
    "fig_hr.update_layout(\n",
    "    autosize=False,\n",
    "    width=700,\n",
    "    height=500,\n",
    "    template=\"plotly_white\",  # Others options: \"plotly\", \"plotly_dark\", \"ggplot2\", \"seaborn\", \"simple_white\"\n",
    "    legend=dict(  # Move the legend to the bottom\n",
    "        orientation=\"h\",\n",
    "        yanchor=\"bottom\",\n",
    "        y=-0.6,\n",
    "        xanchor=\"right\",\n",
    "        x=1,\n",
    "        title=None,  # Remove legend title\n",
    "    ),\n",
    "    title={\"y\": 0.9, \"x\": 0.5, \"xanchor\": \"center\", \"yanchor\": \"top\"},  # Center title\n",
    ")\n",
    "\n",
    "fig_hr.show()"
   ]
  },
  {
   "cell_type": "markdown",
   "metadata": {},
   "source": [
    "* Se observa una evolución histórica desde más horas de bicicleta a más horas de correr\n",
    "* La estacionalidad muestra que los meses de verano hay más horas dedicadas a la bicicleta"
   ]
  },
  {
   "cell_type": "markdown",
   "metadata": {},
   "source": [
    "## Análisis de las actividades de carrera"
   ]
  },
  {
   "cell_type": "code",
   "execution_count": 14,
   "metadata": {},
   "outputs": [
    {
     "data": {
      "application/vnd.plotly.v1+json": {
       "config": {
        "plotlyServerURL": "https://plot.ly"
       },
       "data": [
        {
         "customdata": [
          [
           "Ciclismo al anochecer",
           5.26189990234375,
           28.617555618286133
          ],
          [
           "Atletismo al anochecer",
           4.28160009765625,
           103.44881439208984
          ],
          [
           "Atletismo a la hora del almuerzo",
           2.427300048828125,
           11.300000190734863
          ],
          [
           "Atletismo al anochecer",
           5.91710009765625,
           32.95210266113281
          ],
          [
           "Entrenamiento a la hora del almuerzo",
           4.1847001953125,
           38
          ],
          [
           "Ciclismo por la tarde",
           4.34489990234375,
           40.44500732421875
          ],
          [
           "Atletismo al anochecer",
           4.62589990234375,
           45.31432723999024
          ],
          [
           "Atletismo por la mañana",
           5.6722001953125,
           83.10859680175781
          ],
          [
           "Atletismo al anochecer",
           4.0145,
           48.08650207519531
          ],
          [
           "Atletismo al anochecer",
           6.1232998046875,
           93.14146423339844
          ],
          [
           "Atletismo al anochecer",
           3.78810009765625,
           49.91963577270508
          ],
          [
           "Atletismo al anochecer",
           1.0075,
           9.830769538879396
          ],
          [
           "Atletismo al anochecer",
           2.40460009765625,
           32.06739807128906
          ],
          [
           "Atletismo al anochecer",
           4.55639990234375,
           37.68727111816406
          ],
          [
           "Atletismo al anochecer",
           2.467300048828125,
           24.11103057861328
          ],
          [
           "Atletismo al anochecer",
           2.50760009765625,
           14.316001892089844
          ],
          [
           "Atletismo al anochecer",
           2.80560009765625,
           23.38500022888184
          ],
          [
           "Atletismo al anochecer",
           4.00439990234375,
           26.148611068725582
          ],
          [
           "Atletismo al anochecer",
           4.006199951171875,
           28.170000076293945
          ],
          [
           "Carrera de noche",
           5.57960009765625,
           47.24615478515625
          ],
          [
           "Carrera de noche",
           4.014199951171875,
           24.80257606506348
          ],
          [
           "Carrera de noche",
           3.02410009765625,
           10.397424697875977
          ],
          [
           "Carrera de noche",
           5.24960009765625,
           3.1616666316986084
          ],
          [
           "Carrera de noche",
           5.3345,
           3.15984845161438
          ],
          [
           "Carrera por la tarde",
           4.6442998046875,
           53
          ],
          [
           "Carrera a la hora del almuerzo",
           7.51360009765625,
           45.47075653076172
          ],
          [
           "Carrera de tarde",
           4.01710009765625,
           23.18000030517578
          ],
          [
           "Entrenamiento a la hora del almuerzo",
           6.39810009765625,
           166
          ],
          [
           "Carrera de tarde",
           5.8887998046875,
           278.9647521972656
          ],
          [
           "Carrera de noche",
           5.00860009765625,
           14.766111373901367
          ],
          [
           "Carrera de noche",
           5.75389990234375,
           48.11558151245117
          ],
          [
           "Carrera de noche",
           3.005699951171875,
           22.90724754333496
          ],
          [
           "Carrera de noche",
           6.3685,
           55.79000473022461
          ],
          [
           "Carrera de noche",
           5.27160009765625,
           43.73936462402344
          ],
          [
           "Carrera de noche",
           4.7237001953125,
           69.52436065673828
          ],
          [
           "Carrera de tarde",
           5.231,
           29.57999992370605
          ],
          [
           "Carrera de noche",
           6.7732001953125,
           34.1971435546875
          ],
          [
           "Carrera a la hora del almuerzo",
           4.51010009765625,
           21.12666702270508
          ],
          [
           "Carrera de noche",
           5.54939990234375,
           8.019047737121582
          ],
          [
           "Carrera de noche",
           7.83189990234375,
           111.23345184326172
          ],
          [
           "Carrera nocturna",
           5.0135,
           11.0600004196167
          ],
          [
           "Carrera a la hora del almuerzo",
           5.587,
           8.680000305175781
          ],
          [
           "Carrera de tarde",
           4.33060009765625,
           362.956787109375
          ],
          [
           "Carrera de noche",
           7.4027998046875,
           71.38987731933594
          ],
          [
           "Carrera de noche",
           6.2707998046875,
           35.92408752441406
          ],
          [
           "Carrera de mañana",
           2.0145,
           0
          ],
          [
           "Carrera de noche",
           6.6747001953125,
           38.92333221435547
          ],
          [
           "Carrera de noche",
           2.0905,
           25.34000015258789
          ],
          [
           "Carrera de noche",
           1.6144000244140626,
           7.462500095367432
          ],
          [
           "Carrera de noche",
           4.034300048828125,
           19.513334274291992
          ],
          [
           "Carrera de noche",
           3.60989990234375,
           4.746666431427002
          ],
          [
           "Carrera a la hora del almuerzo",
           3.006300048828125,
           0
          ],
          [
           "Carrera de noche",
           3.602800048828125,
           15.137857437133787
          ],
          [
           "Carrera de noche",
           5.8132998046875,
           37.310001373291016
          ],
          [
           "Carrera de noche",
           7.0612998046875,
           53.63833236694336
          ],
          [
           "Carrera a la hora del almuerzo",
           3.20489990234375,
           5.313333511352539
          ],
          [
           "Carrera de noche",
           4.2382998046875,
           13.720000267028809
          ],
          [
           "Carrera de noche",
           6.7547001953125,
           51.81142807006836
          ],
          [
           "Carrera a la hora del almuerzo",
           5.9035,
           23.459999084472656
          ],
          [
           "Carrera de mañana",
           4.482,
           30.9233341217041
          ],
          [
           "Carrera de noche",
           7.238,
           39.84603118896485
          ],
          [
           "Carrera de noche",
           1.7574000244140624,
           0
          ],
          [
           "Carrera de noche",
           4.25910009765625,
           23.57999992370605
          ],
          [
           "Carrera de noche",
           3.659090087890625,
           5.473333358764648
          ],
          [
           "Carrera de tarde",
           6.01756982421875,
           50.26666641235352
          ],
          [
           "Carrera de tarde",
           7.80460009765625,
           50.56380844116211
          ],
          [
           "Carrera de tarde",
           6.73714013671875,
           42.459999084472656
          ],
          [
           "Carrera de noche",
           7.1307900390625,
           3.422222137451172
          ],
          [
           "Carrera de tarde",
           6.463740234375,
           47.18999862670898
          ],
          [
           "Carrera de tarde",
           5.0171298828125,
           12.420000076293944
          ],
          [
           "Carrera de tarde",
           7.60547021484375,
           42.58000183105469
          ],
          [
           "Carrera de tarde",
           6.00280029296875,
           42.03206253051758
          ],
          [
           "Carrera de tarde",
           7.24677001953125,
           40.90666580200195
          ],
          [
           "Carrera a la hora del almuerzo",
           3.00493994140625,
           5.019999980926514
          ],
          [
           "Carrera de tarde",
           5.00194970703125,
           17.136667251586914
          ],
          [
           "Carrera de tarde",
           4.95581982421875,
           34.25666809082031
          ],
          [
           "Carrera de tarde",
           7.27908984375,
           36.08000183105469
          ],
          [
           "Carrera a la hora del almuerzo",
           5.50766015625,
           19.09666633605957
          ],
          [
           "Carrera de tarde",
           5.00268017578125,
           26.996665954589844
          ],
          [
           "Carrera de tarde",
           5.50493994140625,
           37.68999862670898
          ],
          [
           "Carrera de tarde",
           4.54358984375,
           13.943333625793455
          ],
          [
           "Carrera de tarde",
           4.48793017578125,
           30.98095321655273
          ],
          [
           "Carrera de tarde",
           5.15243017578125,
           34.967498779296875
          ],
          [
           "Carrera de tarde",
           5.0237099609375,
           34.45333480834961
          ],
          [
           "Carrera de tarde",
           5.271240234375,
           47.25968170166016
          ],
          [
           "Carrera de tarde",
           5.507240234375,
           19
          ],
          [
           "Carrera de tarde",
           3.64639990234375,
           11.512380599975586
          ],
          [
           "Carrera de noche",
           1.5916199951171874,
           0
          ],
          [
           "Carrera de tarde",
           5.35966015625,
           20.80238151550293
          ],
          [
           "Carrera de noche",
           2.638719970703125,
           13.359999656677246
          ],
          [
           "Carrera nocturna",
           1.917010009765625,
           0
          ],
          [
           "Carrera de tarde",
           1.8604100341796874,
           19.459999084472656
          ],
          [
           "Carrera de noche",
           6.8617197265625,
           45.123077392578125
          ],
          [
           "Carrera de noche",
           4.61902978515625,
           36.51380920410156
          ],
          [
           "Carrera de noche",
           6.29531982421875,
           26.002857208251957
          ],
          [
           "Carrera de tarde",
           6.95667041015625,
           51.84464263916016
          ],
          [
           "Carrera de tarde",
           6.85952978515625,
           51.10219955444336
          ],
          [
           "Carrera de mañana",
           6.89702978515625,
           50.94278717041016
          ],
          [
           "Carrera nocturna",
           4.99502001953125,
           34.72999954223633
          ],
          [
           "Carrera de mañana",
           6.04089990234375,
           38.73666763305664
          ],
          [
           "Carrera de noche",
           6.807330078125,
           35.50539779663086
          ],
          [
           "Carrera de noche",
           4.81803955078125,
           36.58821487426758
          ],
          [
           "Carrera de noche",
           4.31889013671875,
           0
          ],
          [
           "Carrera de noche",
           5.9808701171875,
           40.18952560424805
          ],
          [
           "Carrera de tarde",
           8,
           null
          ],
          [
           "Carrera de tarde",
           7.3583798828125,
           18.239999771118164
          ],
          [
           "Carrera de tarde",
           6.256240234375,
           40.220001220703125
          ],
          [
           "Carrera de tarde",
           6.01072021484375,
           39.02999877929688
          ],
          [
           "Carrera de noche",
           7.0205400390625,
           48.6875
          ],
          [
           "Carrera de tarde",
           7.4926298828125,
           20.28469657897949
          ],
          [
           "Carrera de tarde",
           7.00039990234375,
           23.25
          ],
          [
           "Carrera de tarde",
           5.5,
           0
          ],
          [
           "Carrera de tarde",
           5.0097099609375,
           5.154285907745361
          ],
          [
           "Carrera de tarde",
           7.039,
           50.70000076293945
          ],
          [
           "Carrera a la hora del almuerzo",
           7.61491015625,
           13.148571014404297
          ],
          [
           "Carrera de noche",
           5.685080078125,
           0
          ],
          [
           "Carrera de tarde",
           5.05464013671875,
           0
          ],
          [
           "Carrera de noche",
           8.06251953125,
           0
          ],
          [
           "Carrera de tarde",
           5.00238037109375,
           0
          ],
          [
           "Carrera de noche",
           4.69847998046875,
           0
          ],
          [
           "Carrera de noche",
           5.01935986328125,
           25.409048080444336
          ],
          [
           "Carrera de tarde",
           5.35472998046875,
           0
          ],
          [
           "Carrera de noche",
           6.59608984375,
           0
          ],
          [
           "Carrera de noche",
           7.77164990234375,
           47.361427307128906
          ],
          [
           "Carrera de tarde",
           8.145099609375,
           0
          ],
          [
           "Carrera de noche",
           7.87589013671875,
           0
          ],
          [
           "Carrera de tarde",
           5.578740234375,
           31.80476188659668
          ],
          [
           "Carrera a la hora del almuerzo",
           6.6061298828125,
           41.31330108642578
          ],
          [
           "Carrera a la hora del almuerzo",
           7.00481005859375,
           49.01714324951172
          ],
          [
           "Carrera de noche",
           5.50793994140625,
           30.638334274291992
          ],
          [
           "Carrera de noche",
           8.01497021484375,
           22.20571517944336
          ],
          [
           "Carrera de mañana",
           6.07510009765625,
           0
          ],
          [
           "Carrera de noche",
           5.0273798828125,
           21.59000015258789
          ],
          [
           "Carrera de tarde",
           5.617740234375,
           31.46333312988281
          ],
          [
           "Carrera de noche",
           5.05189013671875,
           0
          ],
          [
           "Carrera de noche",
           5.00201025390625,
           45.25249862670898
          ],
          [
           "Carrera de tarde",
           6.428490234375,
           19.983333587646484
          ],
          [
           "Carrera de tarde",
           7.45889013671875,
           42.22999954223633
          ],
          [
           "Carrera de tarde",
           7.00597998046875,
           38.43714141845703
          ],
          [
           "Carrera de noche",
           6.99139013671875,
           25.68857192993164
          ],
          [
           "Carrera de tarde",
           5.00793017578125,
           25.169523239135746
          ],
          [
           "Carrera de mañana",
           6.01502978515625,
           3.200000047683716
          ],
          [
           "Carrera de mañana",
           6.51081982421875,
           42.27999877929688
          ],
          [
           "Carrera de noche",
           7.40597998046875,
           40.26737976074219
          ],
          [
           "Carrera nocturna",
           7.0354599609375,
           11
          ],
          [
           "Carrera de noche",
           4.2146201171875,
           0
          ],
          [
           "Carrera nocturna",
           6.22364013671875,
           45.6205940246582
          ],
          [
           "Carrera de noche",
           6.00189013671875,
           29.418333053588867
          ],
          [
           "Carrera de tarde",
           5.08118017578125,
           33.31666564941406
          ],
          [
           "Carrera de tarde",
           5.0627099609375,
           29.020000457763672
          ],
          [
           "Carrera de noche",
           5.00981982421875,
           25.09749984741211
          ],
          [
           "Carrera de noche",
           5.4570498046875,
           33.14409255981445
          ],
          [
           "Carrera de tarde",
           5.109330078125,
           47.39666748046875
          ],
          [
           "Carrera de mañana",
           5.26781982421875,
           14.426190376281738
          ],
          [
           "Carrera de noche",
           6.67985986328125,
           0
          ]
         ],
         "hovertemplate": "Activity Name: %{customdata[0]}<br>Activity date: %{x|%Y-%m-%d}<br>Distance (km): %{customdata[1]:.1f}<br>Average speed (km/hr): %{y:.1f}<br>Elevation gain: %{customdata[2]:.1f}",
         "legendgroup": "",
         "marker": {
          "color": [
           5.26189990234375,
           4.28160009765625,
           2.427300048828125,
           5.91710009765625,
           4.1847001953125,
           4.34489990234375,
           4.62589990234375,
           5.6722001953125,
           4.0145,
           6.1232998046875,
           3.78810009765625,
           1.0075,
           2.40460009765625,
           4.55639990234375,
           2.467300048828125,
           2.50760009765625,
           2.80560009765625,
           4.00439990234375,
           4.006199951171875,
           5.57960009765625,
           4.014199951171875,
           3.02410009765625,
           5.24960009765625,
           5.3345,
           4.6442998046875,
           7.51360009765625,
           4.01710009765625,
           6.39810009765625,
           5.8887998046875,
           5.00860009765625,
           5.75389990234375,
           3.005699951171875,
           6.3685,
           5.27160009765625,
           4.7237001953125,
           5.231,
           6.7732001953125,
           4.51010009765625,
           5.54939990234375,
           7.83189990234375,
           5.0135,
           5.587,
           4.33060009765625,
           7.4027998046875,
           6.2707998046875,
           2.0145,
           6.6747001953125,
           2.0905,
           1.6144000244140626,
           4.034300048828125,
           3.60989990234375,
           3.006300048828125,
           3.602800048828125,
           5.8132998046875,
           7.0612998046875,
           3.20489990234375,
           4.2382998046875,
           6.7547001953125,
           5.9035,
           4.482,
           7.238,
           1.7574000244140624,
           4.25910009765625,
           3.659090087890625,
           6.01756982421875,
           7.80460009765625,
           6.73714013671875,
           7.1307900390625,
           6.463740234375,
           5.0171298828125,
           7.60547021484375,
           6.00280029296875,
           7.24677001953125,
           3.00493994140625,
           5.00194970703125,
           4.95581982421875,
           7.27908984375,
           5.50766015625,
           5.00268017578125,
           5.50493994140625,
           4.54358984375,
           4.48793017578125,
           5.15243017578125,
           5.0237099609375,
           5.271240234375,
           5.507240234375,
           3.64639990234375,
           1.5916199951171874,
           5.35966015625,
           2.638719970703125,
           1.917010009765625,
           1.8604100341796874,
           6.8617197265625,
           4.61902978515625,
           6.29531982421875,
           6.95667041015625,
           6.85952978515625,
           6.89702978515625,
           4.99502001953125,
           6.04089990234375,
           6.807330078125,
           4.81803955078125,
           4.31889013671875,
           5.9808701171875,
           8,
           7.3583798828125,
           6.256240234375,
           6.01072021484375,
           7.0205400390625,
           7.4926298828125,
           7.00039990234375,
           5.5,
           5.0097099609375,
           7.039,
           7.61491015625,
           5.685080078125,
           5.05464013671875,
           8.06251953125,
           5.00238037109375,
           4.69847998046875,
           5.01935986328125,
           5.35472998046875,
           6.59608984375,
           7.77164990234375,
           8.145099609375,
           7.87589013671875,
           5.578740234375,
           6.6061298828125,
           7.00481005859375,
           5.50793994140625,
           8.01497021484375,
           6.07510009765625,
           5.0273798828125,
           5.617740234375,
           5.05189013671875,
           5.00201025390625,
           6.428490234375,
           7.45889013671875,
           7.00597998046875,
           6.99139013671875,
           5.00793017578125,
           6.01502978515625,
           6.51081982421875,
           7.40597998046875,
           7.0354599609375,
           4.2146201171875,
           6.22364013671875,
           6.00189013671875,
           5.08118017578125,
           5.0627099609375,
           5.00981982421875,
           5.4570498046875,
           5.109330078125,
           5.26781982421875,
           6.67985986328125
          ],
          "coloraxis": "coloraxis",
          "symbol": "circle"
         },
         "mode": "markers",
         "name": "",
         "orientation": "v",
         "showlegend": false,
         "type": "scatter",
         "x": [
          "2018-10-14T18:27:31",
          "2018-10-19T18:11:19",
          "2018-11-02T11:31:16",
          "2018-11-11T19:16:41",
          "2019-01-15T11:37:32",
          "2019-02-01T16:22:36",
          "2019-02-05T19:04:46",
          "2019-02-13T09:02:08",
          "2019-02-28T19:14:32",
          "2019-03-05T19:10:21",
          "2019-04-25T18:32:15",
          "2019-05-08T18:41:09",
          "2019-06-18T18:44:37",
          "2019-09-12T18:02:41",
          "2020-02-05T18:55:03",
          "2020-02-14T19:04:06",
          "2020-05-05T17:59:49",
          "2020-05-07T17:57:18",
          "2020-05-14T17:58:42",
          "2020-08-24T18:04:45",
          "2020-09-19T17:20:02",
          "2020-10-26T19:10:44",
          "2020-11-02T18:59:58",
          "2020-11-11T18:47:41",
          "2020-12-22T16:13:40",
          "2020-12-24T11:56:34",
          "2020-12-28T12:22:30",
          "2020-12-31T11:32:36",
          "2021-02-28T14:42:59",
          "2021-03-29T17:46:47",
          "2021-03-31T17:31:59",
          "2021-04-01T16:08:48",
          "2021-04-09T17:05:05",
          "2021-04-11T16:54:39",
          "2021-04-14T16:57:10",
          "2021-04-23T15:01:14",
          "2021-04-28T16:53:08",
          "2021-05-01T10:08:06",
          "2021-05-10T17:36:13",
          "2021-05-17T17:35:36",
          "2021-05-25T19:13:38",
          "2021-06-12T10:13:05",
          "2021-06-14T15:55:24",
          "2021-06-16T18:35:49",
          "2021-06-20T18:11:25",
          "2021-07-03T06:53:20",
          "2021-07-05T17:18:55",
          "2021-07-06T17:15:25",
          "2021-07-18T18:52:17",
          "2021-07-19T18:35:59",
          "2021-07-20T18:43:25",
          "2021-08-24T10:11:27",
          "2021-08-31T18:38:34",
          "2021-09-01T17:26:43",
          "2021-09-13T17:03:25",
          "2021-09-19T10:29:28",
          "2021-09-26T17:48:44",
          "2021-09-27T16:54:51",
          "2021-10-02T09:21:01",
          "2021-10-03T07:33:46",
          "2021-10-13T16:27:46",
          "2021-10-14T17:33:38",
          "2021-10-18T16:05:08",
          "2021-10-21T17:42:01",
          "2021-11-09T15:39:27",
          "2021-11-16T16:02:00",
          "2021-11-17T15:56:18",
          "2021-11-22T17:50:48",
          "2021-11-24T16:12:23",
          "2021-11-26T15:58:05",
          "2021-11-29T15:56:00",
          "2021-12-07T12:30:16",
          "2021-12-17T15:10:45",
          "2021-12-19T11:25:59",
          "2022-01-04T15:33:11",
          "2022-01-05T15:17:36",
          "2022-01-08T14:59:34",
          "2022-01-09T11:09:13",
          "2022-01-17T16:37:44",
          "2022-01-18T16:37:27",
          "2022-01-20T16:21:20",
          "2022-01-27T16:22:03",
          "2022-01-28T15:23:52",
          "2022-02-01T16:20:10",
          "2022-02-03T16:42:31",
          "2022-02-04T15:38:11",
          "2022-02-07T16:56:57",
          "2022-02-09T17:24:04",
          "2022-02-19T16:10:23",
          "2022-03-02T19:06:06",
          "2022-03-10T23:15:11",
          "2022-03-25T14:33:32",
          "2022-03-28T16:11:42",
          "2022-03-29T17:06:01",
          "2022-04-05T18:07:04",
          "2022-05-31T11:43:27",
          "2022-06-02T15:35:41",
          "2022-06-03T05:14:17",
          "2022-06-15T20:21:06",
          "2022-06-16T07:00:48",
          "2022-07-03T16:12:12",
          "2022-07-11T18:14:39",
          "2022-08-07T17:02:59",
          "2022-09-19T17:31:42",
          "2022-09-30T15:02:38",
          "2022-09-22T11:27:45",
          "2022-10-08T11:02:34",
          "2022-10-11T11:31:28",
          "2022-10-13T16:13:28",
          "2022-10-19T15:46:02",
          "2022-11-03T16:44:06",
          "2022-11-07T12:33:28",
          "2022-11-06T13:44:26",
          "2022-11-18T15:26:24",
          "2022-11-20T10:08:32",
          "2022-12-14T18:09:13",
          "2022-12-13T12:27:34",
          "2022-12-20T17:35:03",
          "2022-12-27T13:21:33",
          "2022-12-31T17:34:21",
          "2023-01-03T17:44:11",
          "2023-01-11T16:47:53",
          "2023-02-02T17:29:36",
          "2023-02-15T18:16:53",
          "2023-02-22T16:59:44",
          "2023-02-23T18:06:59",
          "2023-03-02T12:46:19",
          "2023-03-04T11:02:08",
          "2023-03-04T11:41:22",
          "2023-04-01T16:38:42",
          "2023-03-30T16:22:15",
          "2023-04-01T06:01:41",
          "2023-04-13T16:59:20",
          "2023-04-11T15:27:51",
          "2023-05-04T18:53:45",
          "2023-05-15T16:32:59",
          "2023-05-09T11:41:20",
          "2023-05-25T11:41:27",
          "2023-05-30T11:34:20",
          "2023-06-05T17:14:53",
          "2023-06-06T15:49:22",
          "2023-06-07T04:30:26",
          "2023-06-09T05:30:17",
          "2023-06-09T18:01:20",
          "2023-06-13T19:11:45",
          "2023-06-21T18:18:21",
          "2023-06-25T19:04:29",
          "2023-07-02T17:54:11",
          "2023-07-03T14:52:29",
          "2023-07-05T15:37:29",
          "2023-06-24T17:47:14",
          "2023-06-30T18:19:48",
          "2023-07-26T14:06:03",
          "2023-08-01T07:38:02",
          "2023-08-05T16:55:14"
         ],
         "xaxis": "x",
         "y": [
          13.321265575553795,
          12.941864275031488,
          13.892337322386725,
          11.940336519934135,
          14.000855672049257,
          11.967589631551261,
          11.802437738084693,
          11.331809491190343,
          12.556211989574283,
          11.928506113027598,
          14.40038051907339,
          14.925925925925926,
          13.236330812786697,
          10.207243091747044,
          13.665046424278845,
          14.420703437000796,
          11.39972951643623,
          13.914903135557433,
          13.50404477923104,
          12.10033756118223,
          13.989467400018151,
          16.03352039994477,
          12.786576692532138,
          13.162577107607952,
          10.75899568653475,
          13.390574431466582,
          15.032807018256237,
          10.589958782327587,
          9.720164739511693,
          15.076053805654265,
          11.029840068390575,
          13.005432481032152,
          7.102416356877324,
          12.601434496389441,
          10.275118249622357,
          12.587967914438503,
          12.29627872068835,
          11.680834785296762,
          12.2638671875,
          13.84815306897716,
          15.804378283712783,
          12.079999999999998,
          7.657249681513997,
          11.73495345525099,
          12.833927968661172,
          16.944392523364485,
          11.94280353038022,
          14.528571428571428,
          16.652836928053368,
          11.275993925296001,
          15.34314008079988,
          16.472876979880137,
          15.169684416118422,
          11.014673314144737,
          12.364143626884728,
          15.676140826681385,
          11.957585655858152,
          11.679596879502881,
          11.256673728813558,
          12.068212415856395,
          11.28,
          16.871040234375,
          10.975490588090553,
          13.055227270967542,
          11.137918440713369,
          11.519704941190037,
          12.765107627467106,
          13.861146944181964,
          11.86612179691484,
          15.81582099660683,
          11.862951808248484,
          11.261115713750653,
          14.056234951676995,
          16.341063125472054,
          15.893220604865402,
          12.890860814441837,
          13.431431797796002,
          12.993169438073394,
          13.83229541690668,
          13.063799465433423,
          12.107271234270913,
          11.104157135953608,
          13.935949386034935,
          11.10212146063536,
          11.295514787946429,
          13.12115476091992,
          12.64647364974711,
          12.537925563286379,
          14.672833887832702,
          13.64855157260237,
          13.220758688038794,
          15.575525867550871,
          12.102984329066633,
          14.510041209914919,
          10.88005346480437,
          11.621351961281903,
          11.108550259362346,
          12.08238794479927,
          11.526969275841346,
          12.983426655783582,
          11.581468941989604,
          13.260659314076834,
          10.700622499784927,
          10.61169661009118,
          13.333333333333334,
          12.602363262666508,
          11.278149646344517,
          11.252518342921217,
          11.582925820634738,
          10.880785630546592,
          12.215918394783083,
          14.102564102564102,
          13.704373753324468,
          12.307139388052452,
          12.834118240870785,
          11.816563672777136,
          11.408592158111286,
          11.504189580856124,
          12.549525669642856,
          13.329021221187944,
          12.419034713273195,
          10.971558298057767,
          13.162928734756099,
          11.111175396520055,
          13.113756079494635,
          13.824088002041687,
          11.588842956578189,
          11.861380338216957,
          12.10043964056502,
          13.827464288049164,
          11.592564392702892,
          12.849800441576086,
          11.227399242013028,
          10.644139391447368,
          17.30428591073977,
          11.933225257828031,
          12.231799600290698,
          12.222123118883705,
          13.225761892861824,
          13.088405872172387,
          11.892182475469987,
          13.408115929760063,
          14.052129117018884,
          13.871762710555412,
          13.008554627311247,
          17.663134367724098,
          12.928508073968551,
          13.31288015538355,
          13.499814489160515,
          13.28407861470481,
          11.321626721398307,
          12.410220655006317,
          12.124975795154912,
          12.394870174632354,
          12.942677883645048
         ],
         "yaxis": "y"
        },
        {
         "hovertemplate": "Activity Name: %{customdata[0]}<br>Activity date: %{x|%Y-%m-%d}<br>Distance (km): %{customdata[1]:.1f}<br>Average speed (km/hr): %{y:.1f}<br>Elevation gain: %{customdata[2]:.1f}",
         "legendgroup": "",
         "line": {
          "color": "black"
         },
         "marker": {
          "symbol": "circle"
         },
         "mode": "lines",
         "name": "",
         "showlegend": false,
         "type": "scatter",
         "x": [
          "2018-10-14T18:27:31",
          "2018-10-19T18:11:19",
          "2018-11-02T11:31:16",
          "2018-11-11T19:16:41",
          "2019-01-15T11:37:32",
          "2019-02-01T16:22:36",
          "2019-02-05T19:04:46",
          "2019-02-13T09:02:08",
          "2019-02-28T19:14:32",
          "2019-03-05T19:10:21",
          "2019-04-25T18:32:15",
          "2019-05-08T18:41:09",
          "2019-06-18T18:44:37",
          "2019-09-12T18:02:41",
          "2020-02-05T18:55:03",
          "2020-02-14T19:04:06",
          "2020-05-05T17:59:49",
          "2020-05-07T17:57:18",
          "2020-05-14T17:58:42",
          "2020-08-24T18:04:45",
          "2020-09-19T17:20:02",
          "2020-10-26T19:10:44",
          "2020-11-02T18:59:58",
          "2020-11-11T18:47:41",
          "2020-12-22T16:13:40",
          "2020-12-24T11:56:34",
          "2020-12-28T12:22:30",
          "2020-12-31T11:32:36",
          "2021-02-28T14:42:59",
          "2021-03-29T17:46:47",
          "2021-03-31T17:31:59",
          "2021-04-01T16:08:48",
          "2021-04-09T17:05:05",
          "2021-04-11T16:54:39",
          "2021-04-14T16:57:10",
          "2021-04-23T15:01:14",
          "2021-04-28T16:53:08",
          "2021-05-01T10:08:06",
          "2021-05-10T17:36:13",
          "2021-05-17T17:35:36",
          "2021-05-25T19:13:38",
          "2021-06-12T10:13:05",
          "2021-06-14T15:55:24",
          "2021-06-16T18:35:49",
          "2021-06-20T18:11:25",
          "2021-07-03T06:53:20",
          "2021-07-05T17:18:55",
          "2021-07-06T17:15:25",
          "2021-07-18T18:52:17",
          "2021-07-19T18:35:59",
          "2021-07-20T18:43:25",
          "2021-08-24T10:11:27",
          "2021-08-31T18:38:34",
          "2021-09-01T17:26:43",
          "2021-09-13T17:03:25",
          "2021-09-19T10:29:28",
          "2021-09-26T17:48:44",
          "2021-09-27T16:54:51",
          "2021-10-02T09:21:01",
          "2021-10-03T07:33:46",
          "2021-10-13T16:27:46",
          "2021-10-14T17:33:38",
          "2021-10-18T16:05:08",
          "2021-10-21T17:42:01",
          "2021-11-09T15:39:27",
          "2021-11-16T16:02:00",
          "2021-11-17T15:56:18",
          "2021-11-22T17:50:48",
          "2021-11-24T16:12:23",
          "2021-11-26T15:58:05",
          "2021-11-29T15:56:00",
          "2021-12-07T12:30:16",
          "2021-12-17T15:10:45",
          "2021-12-19T11:25:59",
          "2022-01-04T15:33:11",
          "2022-01-05T15:17:36",
          "2022-01-08T14:59:34",
          "2022-01-09T11:09:13",
          "2022-01-17T16:37:44",
          "2022-01-18T16:37:27",
          "2022-01-20T16:21:20",
          "2022-01-27T16:22:03",
          "2022-01-28T15:23:52",
          "2022-02-01T16:20:10",
          "2022-02-03T16:42:31",
          "2022-02-04T15:38:11",
          "2022-02-07T16:56:57",
          "2022-02-09T17:24:04",
          "2022-02-19T16:10:23",
          "2022-03-02T19:06:06",
          "2022-03-10T23:15:11",
          "2022-03-25T14:33:32",
          "2022-03-28T16:11:42",
          "2022-03-29T17:06:01",
          "2022-04-05T18:07:04",
          "2022-05-31T11:43:27",
          "2022-06-02T15:35:41",
          "2022-06-03T05:14:17",
          "2022-06-15T20:21:06",
          "2022-06-16T07:00:48",
          "2022-07-03T16:12:12",
          "2022-07-11T18:14:39",
          "2022-08-07T17:02:59",
          "2022-09-19T17:31:42",
          "2022-09-22T11:27:45",
          "2022-09-30T15:02:38",
          "2022-10-08T11:02:34",
          "2022-10-11T11:31:28",
          "2022-10-13T16:13:28",
          "2022-10-19T15:46:02",
          "2022-11-03T16:44:06",
          "2022-11-06T13:44:26",
          "2022-11-07T12:33:28",
          "2022-11-18T15:26:24",
          "2022-11-20T10:08:32",
          "2022-12-13T12:27:34",
          "2022-12-14T18:09:13",
          "2022-12-20T17:35:03",
          "2022-12-27T13:21:33",
          "2022-12-31T17:34:21",
          "2023-01-03T17:44:11",
          "2023-01-11T16:47:53",
          "2023-02-02T17:29:36",
          "2023-02-15T18:16:53",
          "2023-02-22T16:59:44",
          "2023-02-23T18:06:59",
          "2023-03-02T12:46:19",
          "2023-03-04T11:02:08",
          "2023-03-04T11:41:22",
          "2023-03-30T16:22:15",
          "2023-04-01T06:01:41",
          "2023-04-01T16:38:42",
          "2023-04-11T15:27:51",
          "2023-04-13T16:59:20",
          "2023-05-04T18:53:45",
          "2023-05-09T11:41:20",
          "2023-05-15T16:32:59",
          "2023-05-25T11:41:27",
          "2023-05-30T11:34:20",
          "2023-06-05T17:14:53",
          "2023-06-06T15:49:22",
          "2023-06-07T04:30:26",
          "2023-06-09T05:30:17",
          "2023-06-09T18:01:20",
          "2023-06-13T19:11:45",
          "2023-06-21T18:18:21",
          "2023-06-24T17:47:14",
          "2023-06-25T19:04:29",
          "2023-06-30T18:19:48",
          "2023-07-02T17:54:11",
          "2023-07-03T14:52:29",
          "2023-07-05T15:37:29",
          "2023-07-26T14:06:03",
          "2023-08-01T07:38:02",
          "2023-08-05T16:55:14"
         ],
         "xaxis": "x",
         "y": [
          12.913055654646612,
          12.912368865703359,
          12.910479765898348,
          12.909196263055113,
          12.900291768783946,
          12.897924167519212,
          12.897357993824683,
          12.896314266728144,
          12.894190706673143,
          12.89350276890701,
          12.88648536678922,
          12.884694837899318,
          12.879050137312161,
          12.867214737748867,
          12.84711027043669,
          12.845870397368886,
          12.834725472223631,
          12.834450377741918,
          12.833486571114156,
          12.819443903576344,
          12.815868822543582,
          12.810764540348567,
          12.809801896884053,
          12.80856406333537,
          12.802934418542094,
          12.802683662853008,
          12.80213051340011,
          12.80172228134095,
          12.793581695329772,
          12.789571764919957,
          12.789297844755113,
          12.78916812974569,
          12.7880614085957,
          12.787787070966786,
          12.787373827745414,
          12.78614590339158,
          12.78544686777336,
          12.785072587334055,
          12.783790738413357,
          12.782827124583887,
          12.781716412031244,
          12.779290074209221,
          12.778982012812978,
          12.778691341503984,
          12.77814300404151,
          12.7764181524474,
          12.77608301006134,
          12.775945677129329,
          12.774284405950418,
          12.77414829672988,
          12.77400991854432,
          12.76924049989486,
          12.768228345510328,
          12.768097547006374,
          12.766447764056258,
          12.765659421401185,
          12.764653753643481,
          12.764521237482017,
          12.763876287361466,
          12.763748873184552,
          12.762321146065403,
          12.762177181509502,
          12.761634972164634,
          12.761212707257902,
          12.758608741660876,
          12.75764291304111,
          12.757505790434509,
          12.756806506249895,
          12.756540580043978,
          12.756266612077905,
          12.755853808627842,
          12.754772136915422,
          12.753380118907995,
          12.753126272072741,
          12.750899958495063,
          12.750763780759428,
          12.750352502168584,
          12.750236856654343,
          12.749104109328329,
          12.748966468875075,
          12.7486926745868,
          12.747728933287387,
          12.747596828216494,
          12.747040775635599,
          12.746763303839412,
          12.746631786723642,
          12.746211253814788,
          12.745933326313548,
          12.744563695215213,
          12.743032553323047,
          12.741907400019008,
          12.739892257932366,
          12.739469870335814,
          12.739327009988312,
          12.738357500673885,
          12.730684793095886,
          12.730387255936979,
          12.730308995764236,
          12.728570291373853,
          12.728509134480984,
          12.726116071094731,
          12.72500302424872,
          12.721292852161605,
          12.715370402531132,
          12.714992194424147,
          12.713870310724197,
          12.71279192136286,
          12.712376155829952,
          12.712073860855348,
          12.711250478305764,
          12.709179913880403,
          12.708784087833642,
          12.70865320488085,
          12.707122329082193,
          12.70687738283585,
          12.703697737473142,
          12.703527407352489,
          12.702704668526128,
          12.701765230965105,
          12.701190392501061,
          12.700776449788368,
          12.699680491881859,
          12.69664781777238,
          12.694853619341433,
          12.693897322286807,
          12.693753225480839,
          12.692820209218295,
          12.69255483431989,
          12.692551083516758,
          12.688944874323424,
          12.688728866941348,
          12.688667966581743,
          12.687298064609775,
          12.68701398349694,
          12.684112026629325,
          12.683465029022782,
          12.682611141321983,
          12.681262337219291,
          12.680574679887037,
          12.679716117226004,
          12.679586625288984,
          12.67951386544437,
          12.679232808555978,
          12.679161006329325,
          12.678603604160386,
          12.677507369006747,
          12.677097341214738,
          12.676952288384182,
          12.67626822251763,
          12.675995336452715,
          12.675875039878854,
          12.675595402686977,
          12.672713125585497,
          12.671924215689168,
          12.67132027583668
         ],
         "yaxis": "y"
        },
        {
         "customdata": [
          [
           "Atletismo al anochecer",
           8.752599609375,
           98.2482681274414
          ],
          [
           "Atletismo al anochecer",
           11.1107001953125,
           125.0374526977539
          ],
          [
           "Atletismo al anochecer",
           9.1207998046875,
           81.48837280273438
          ],
          [
           "Atletismo al anochecer",
           10.016400390625,
           100.79295349121094
          ],
          [
           "Carrera de noche",
           10.0062001953125,
           109.58441162109376
          ],
          [
           "Carrera de tarde",
           11.287099609375,
           120.94450378417967
          ],
          [
           "Carrera de noche",
           11.085599609375,
           126.68578338623048
          ],
          [
           "Carrera de tarde",
           12.279,
           28.867143630981445
          ],
          [
           "Carrera de noche",
           14.1662998046875,
           54.02000045776367
          ],
          [
           "Carrera de noche",
           12.0237001953125,
           47.61333465576172
          ],
          [
           "Carrera de noche",
           13.865900390625,
           610.6956787109375
          ],
          [
           "Carrera de noche",
           9.137900390625,
           61.18000030517578
          ],
          [
           "Carrera de noche",
           9.1898603515625,
           40.13846206665039
          ],
          [
           "Carrera de tarde",
           9.39555078125,
           67.22190856933594
          ],
          [
           "Carrera de tarde",
           9.095470703125,
           88.49571228027344
          ],
          [
           "Carrera de tarde",
           8.501900390625,
           48.18505096435547
          ],
          [
           "Carrera de tarde",
           8.903669921875,
           64.63333129882812
          ],
          [
           "Carrera de tarde",
           10.082830078125,
           65.03904724121094
          ],
          [
           "Carrera de tarde",
           9.41344921875,
           47.21833419799805
          ],
          [
           "Carrera de tarde",
           10.087330078125,
           59.377777099609375
          ],
          [
           "Carrera de tarde",
           10.0353798828125,
           63.1678581237793
          ],
          [
           "Carrera de mañana",
           15.2812197265625,
           32.62190628051758
          ],
          [
           "Carrera de tarde",
           8.84825,
           54.8466682434082
          ],
          [
           "Carrera de tarde",
           10.6041396484375,
           79.73238372802734
          ],
          [
           "Carrera de tarde",
           9.99975,
           52.68000030517578
          ],
          [
           "Carrera de noche",
           10.3025,
           30.691429138183597
          ],
          [
           "Carrera de noche",
           12.0375400390625,
           46.71666717529297
          ],
          [
           "Carrera a la hora del almuerzo",
           12.5001494140625,
           63.18381118774414
          ],
          [
           "Carrera de noche",
           10.4987197265625,
           51.12333297729492
          ],
          [
           "Carrera de tarde",
           11.31891015625,
           52.9900016784668
          ],
          [
           "Carrera de noche",
           12.0341796875,
           40.72666549682617
          ],
          [
           "Carrera de noche",
           10.0095,
           151.10848999023438
          ],
          [
           "Carrera a la hora del almuerzo",
           9.046900390625,
           32.18589782714844
          ],
          [
           "Carrera de noche",
           15.097310546875,
           44.43169021606445
          ],
          [
           "Carrera de mañana",
           15.02058984375,
           53.185001373291016
          ],
          [
           "Carrera de noche",
           11.54541015625,
           34.81999969482422
          ],
          [
           "Carrera de mañana",
           9.003400390625,
           65.48619079589844
          ],
          [
           "Carrera de noche",
           10.04475,
           66.87666320800781
          ],
          [
           "Carrera de noche",
           8.6536396484375,
           66.15523529052734
          ],
          [
           "Carrera de mañana",
           12.50441015625,
           70.30500030517578
          ],
          [
           "Carrera de noche",
           11.6324599609375,
           55.40999984741211
          ],
          [
           "Carrera de noche",
           10.607669921875,
           62.24333190917969
          ],
          [
           "Carrera de mañana",
           13.1060400390625,
           69.33333587646484
          ],
          [
           "Carrera de tarde",
           10.0191796875,
           32.82857131958008
          ],
          [
           "Carrera de noche",
           13.5081103515625,
           51.31416702270508
          ],
          [
           "Carrera de mañana",
           11.5037998046875,
           69.12999725341797
          ],
          [
           "Carrera de tarde",
           9.0339501953125,
           42.17761993408203
          ],
          [
           "Carrera de noche",
           10.5,
           null
          ],
          [
           "Carrera de noche",
           10.3778896484375,
           55.829193115234375
          ],
          [
           "Carrera de tarde",
           9.0028798828125,
           46.23301696777344
          ],
          [
           "Carrera de mañana",
           12.5199404296875,
           64.62000274658203
          ],
          [
           "Carrera de tarde",
           10.008330078125,
           3.220000028610229
          ],
          [
           "Carrera de noche",
           10.0071103515625,
           59.58000183105469
          ],
          [
           "Carrera de tarde",
           10.501009765625,
           42.54666519165039
          ],
          [
           "Carrera a la hora del almuerzo",
           12.0045498046875,
           29.763334274291992
          ],
          [
           "Carrera de noche",
           11.5725595703125,
           31.08623313903809
          ],
          [
           "Carrera de noche",
           11.522169921875,
           36.52888870239258
          ],
          [
           "Carrera a la hora del almuerzo",
           11.0026904296875,
           30.286666870117188
          ],
          [
           "Carrera de tarde",
           10.44033984375,
           58.51333236694336
          ],
          [
           "Carrera de noche",
           10.01833984375,
           7.12333345413208
          ],
          [
           "Carrera de tarde",
           8.882,
           43.13999938964844
          ],
          [
           "Carrera de noche",
           10.262759765625,
           64.16952514648438
          ],
          [
           "Carrera a la hora del almuerzo",
           10.707349609375,
           73.2646484375
          ],
          [
           "Carrera a la hora del almuerzo",
           13.0004296875,
           73.48628234863281
          ],
          [
           "Carrera de tarde",
           10.8998095703125,
           60.59066009521485
          ],
          [
           "Carrera de mañana",
           11.0800498046875,
           436.3106994628906
          ],
          [
           "Carrera nocturna",
           11.015259765625,
           77.67361450195312
          ],
          [
           "Carrera de noche",
           9.3242099609375,
           10.68333339691162
          ],
          [
           "Carrera a la hora del almuerzo",
           13.5041494140625,
           29.75428581237793
          ],
          [
           "Carrera de mañana",
           14.0033896484375,
           19.492143630981445
          ],
          [
           "Carrera de tarde",
           13.5028896484375,
           43.119998931884766
          ],
          [
           "Carrera de noche",
           10.1132705078125,
           14.039047241210938
          ],
          [
           "Carrera de tarde",
           11.44308984375,
           48.47999954223633
          ],
          [
           "Carrera de tarde",
           8.71076953125,
           50.45428466796875
          ],
          [
           "Carrera de tarde",
           10.1538701171875,
           42.08000183105469
          ],
          [
           "Carrera a la hora del almuerzo",
           14.333970703125,
           12.489999771118164
          ],
          [
           "Carrera de tarde",
           10.017220703125,
           0
          ],
          [
           "Carrera de noche",
           12.018169921875,
           10.876667022705078
          ],
          [
           "Carrera de tarde",
           10.0181396484375,
           0
          ],
          [
           "Carrera de noche",
           10.1387099609375,
           0
          ],
          [
           "Carrera a la hora del almuerzo",
           13.016,
           52.43571472167969
          ],
          [
           "Carrera de tarde",
           13.6032900390625,
           0
          ],
          [
           "Carrera de tarde",
           10.248240234375,
           12.949999809265137
          ],
          [
           "Carrera de noche",
           10.53925,
           9.276666641235352
          ],
          [
           "Carrera de tarde",
           10.0073603515625,
           43.84222412109375
          ],
          [
           "Carrera de tarde",
           12.0687802734375,
           27.94253921508789
          ],
          [
           "Carrera de noche",
           12.426689453125,
           33.189842224121094
          ],
          [
           "Carrera de mañana",
           10,
           null
          ],
          [
           "Carrera de tarde",
           10.4680595703125,
           44.345001220703125
          ],
          [
           "Carrera de noche",
           9.998259765625,
           9.119999885559082
          ],
          [
           "Carrera de noche",
           9.1124404296875,
           56.36158752441406
          ],
          [
           "Carrera de tarde",
           10.656779296875,
           63.15285873413086
          ],
          [
           "Carrera de tarde",
           10.0132001953125,
           0
          ],
          [
           "Carrera de tarde",
           10.03425,
           25.98785781860352
          ],
          [
           "Carrera a la hora del almuerzo",
           14.0075703125,
           28.6200008392334
          ],
          [
           "Carrera de noche",
           8.308919921875,
           31.25333404541016
          ],
          [
           "Carrera de tarde",
           10.006,
           28.70916748046875
          ],
          [
           "Carrera de tarde",
           10.00416015625,
           6.385714054107666
          ],
          [
           "Carrera de mañana",
           13.00323046875,
           59.02333450317383
          ],
          [
           "Carrera de noche",
           8.638490234375,
           52.060001373291016
          ],
          [
           "Carrera de noche",
           12.676,
           87.95999908447266
          ],
          [
           "Carrera de mañana",
           13.0088095703125,
           56.18999862670898
          ],
          [
           "Carrera de mañana",
           10.0676201171875,
           52.4477767944336
          ],
          [
           "Carrera de tarde",
           10.0649404296875,
           20.280000686645508
          ],
          [
           "Carrera de tarde",
           9.8713505859375,
           63.36333465576172
          ],
          [
           "Carrera de noche",
           11.00308984375,
           14.65333366394043
          ],
          [
           "Carrera nocturna",
           9.749240234375,
           0
          ],
          [
           "Carrera de noche",
           9.5205400390625,
           0
          ],
          [
           "Carrera de tarde",
           10.04441015625,
           27.049091339111328
          ],
          [
           "Carrera de tarde",
           12.18098046875,
           23.16428565979004
          ],
          [
           "Carrera de tarde",
           9.5728095703125,
           0
          ],
          [
           "Carrera de mañana",
           9.2334697265625,
           0
          ],
          [
           "Carrera de noche",
           12.5121796875,
           24.8125
          ],
          [
           "Carrera de noche",
           11.0155302734375,
           373.9812622070313
          ],
          [
           "Carrera de noche",
           12.5198203125,
           6.833333492279053
          ],
          [
           "Carrera de tarde",
           10.0055703125,
           24.24333381652832
          ],
          [
           "Carrera de noche",
           10.0026201171875,
           34.84000015258789
          ],
          [
           "Carrera a la hora del almuerzo",
           13.568400390625,
           384.7000122070313
          ],
          [
           "Carrera nocturna",
           8.501130859375,
           43.658573150634766
          ],
          [
           "Carrera de noche",
           9.6349296875,
           22.8700008392334
          ],
          [
           "Carrera nocturna",
           9.9971796875,
           13.039999961853027
          ],
          [
           "Carrera de noche",
           10.0079599609375,
           23.46571350097656
          ],
          [
           "Carrera de noche",
           15.050919921875,
           42.18833160400391
          ],
          [
           "Carrera de noche",
           10.001609375,
           43.33631134033203
          ],
          [
           "Carrera de mañana",
           8.50376953125,
           65.25428771972656
          ]
         ],
         "hovertemplate": "Activity Name: %{customdata[0]}<br>Activity date: %{x|%Y-%m-%d}<br>Distance (km): %{customdata[1]:.1f}<br>Average speed (km/hr): %{y:.1f}<br>Elevation gain: %{customdata[2]:.1f}",
         "legendgroup": "",
         "marker": {
          "color": [
           8.752599609375,
           11.1107001953125,
           9.1207998046875,
           10.016400390625,
           10.0062001953125,
           11.287099609375,
           11.085599609375,
           12.279,
           14.1662998046875,
           12.0237001953125,
           13.865900390625,
           9.137900390625,
           9.1898603515625,
           9.39555078125,
           9.095470703125,
           8.501900390625,
           8.903669921875,
           10.082830078125,
           9.41344921875,
           10.087330078125,
           10.0353798828125,
           15.2812197265625,
           8.84825,
           10.6041396484375,
           9.99975,
           10.3025,
           12.0375400390625,
           12.5001494140625,
           10.4987197265625,
           11.31891015625,
           12.0341796875,
           10.0095,
           9.046900390625,
           15.097310546875,
           15.02058984375,
           11.54541015625,
           9.003400390625,
           10.04475,
           8.6536396484375,
           12.50441015625,
           11.6324599609375,
           10.607669921875,
           13.1060400390625,
           10.0191796875,
           13.5081103515625,
           11.5037998046875,
           9.0339501953125,
           10.5,
           10.3778896484375,
           9.0028798828125,
           12.5199404296875,
           10.008330078125,
           10.0071103515625,
           10.501009765625,
           12.0045498046875,
           11.5725595703125,
           11.522169921875,
           11.0026904296875,
           10.44033984375,
           10.01833984375,
           8.882,
           10.262759765625,
           10.707349609375,
           13.0004296875,
           10.8998095703125,
           11.0800498046875,
           11.015259765625,
           9.3242099609375,
           13.5041494140625,
           14.0033896484375,
           13.5028896484375,
           10.1132705078125,
           11.44308984375,
           8.71076953125,
           10.1538701171875,
           14.333970703125,
           10.017220703125,
           12.018169921875,
           10.0181396484375,
           10.1387099609375,
           13.016,
           13.6032900390625,
           10.248240234375,
           10.53925,
           10.0073603515625,
           12.0687802734375,
           12.426689453125,
           10,
           10.4680595703125,
           9.998259765625,
           9.1124404296875,
           10.656779296875,
           10.0132001953125,
           10.03425,
           14.0075703125,
           8.308919921875,
           10.006,
           10.00416015625,
           13.00323046875,
           8.638490234375,
           12.676,
           13.0088095703125,
           10.0676201171875,
           10.0649404296875,
           9.8713505859375,
           11.00308984375,
           9.749240234375,
           9.5205400390625,
           10.04441015625,
           12.18098046875,
           9.5728095703125,
           9.2334697265625,
           12.5121796875,
           11.0155302734375,
           12.5198203125,
           10.0055703125,
           10.0026201171875,
           13.568400390625,
           8.501130859375,
           9.6349296875,
           9.9971796875,
           10.0079599609375,
           15.050919921875,
           10.001609375,
           8.50376953125
          ],
          "coloraxis": "coloraxis",
          "symbol": "circle"
         },
         "mode": "markers",
         "name": "",
         "orientation": "v",
         "showlegend": false,
         "type": "scatter",
         "x": [
          "2018-10-17T17:05:02",
          "2018-11-07T19:13:43",
          "2019-03-20T17:57:36",
          "2019-05-16T18:09:32",
          "2021-03-15T18:15:20",
          "2021-04-16T15:35:46",
          "2021-04-19T17:05:10",
          "2021-04-21T15:06:10",
          "2021-04-26T16:55:22",
          "2021-05-03T16:25:36",
          "2021-06-09T16:58:05",
          "2021-09-14T17:09:02",
          "2021-10-25T16:35:10",
          "2021-11-02T16:02:25",
          "2021-11-03T15:32:53",
          "2021-11-05T15:31:42",
          "2021-11-08T15:52:43",
          "2021-11-10T15:51:24",
          "2021-11-12T15:23:27",
          "2021-11-15T15:41:10",
          "2021-11-19T15:33:32",
          "2021-12-05T09:54:44",
          "2021-12-14T15:28:31",
          "2021-12-15T15:09:54",
          "2022-01-21T15:39:58",
          "2022-02-25T17:55:26",
          "2022-02-28T17:29:08",
          "2022-03-26T10:07:58",
          "2022-04-04T17:34:08",
          "2022-04-22T14:13:28",
          "2022-05-12T17:36:43",
          "2022-05-25T16:14:54",
          "2022-06-05T09:57:48",
          "2022-06-07T16:52:44",
          "2022-06-11T06:15:03",
          "2022-06-14T17:56:14",
          "2022-07-09T06:59:38",
          "2022-08-29T17:42:33",
          "2022-08-30T16:52:57",
          "2022-09-03T07:49:29",
          "2022-09-05T17:44:43",
          "2022-09-08T16:00:29",
          "2022-09-10T07:59:47",
          "2022-09-12T15:23:45",
          "2022-09-14T17:09:26",
          "2022-09-18T08:32:00",
          "2022-09-21T14:37:39",
          "2022-09-25T17:00:07",
          "2022-10-06T17:01:59",
          "2022-10-10T15:23:15",
          "2022-10-15T07:59:02",
          "2022-10-26T11:29:33",
          "2022-10-27T16:46:11",
          "2022-11-02T16:03:30",
          "2022-11-05T10:42:59",
          "2022-11-09T18:04:53",
          "2022-11-10T17:55:48",
          "2022-11-12T10:00:34",
          "2022-11-15T12:29:43",
          "2022-11-16T18:01:55",
          "2022-11-23T12:22:23",
          "2022-11-30T17:55:17",
          "2022-12-03T11:29:44",
          "2022-12-06T10:45:42",
          "2022-12-08T15:24:56",
          "2023-02-04T09:17:02",
          "2022-12-03T00:35:32",
          "2022-12-02T18:54:39",
          "2022-12-18T10:20:28",
          "2022-12-17T09:55:54",
          "2022-12-23T15:37:32",
          "2022-12-21T17:37:19",
          "2022-12-29T12:02:08",
          "2023-01-07T15:06:24",
          "2023-01-04T12:03:45",
          "2023-01-14T10:16:43",
          "2023-01-09T16:45:33",
          "2023-01-12T18:04:06",
          "2023-01-16T16:26:39",
          "2023-01-26T17:15:31",
          "2023-01-22T11:00:02",
          "2023-01-25T16:16:43",
          "2023-01-31T12:38:28",
          "2023-02-06T19:00:35",
          "2023-01-23T12:32:18",
          "2023-02-08T12:30:16",
          "2023-02-01T17:45:03",
          "2022-11-27T08:15:47",
          "2023-03-01T12:36:23",
          "2023-03-09T17:16:24",
          "2023-03-07T17:14:09",
          "2023-03-06T16:35:46",
          "2023-03-14T16:31:23",
          "2023-03-15T16:28:45",
          "2023-03-19T11:52:03",
          "2023-03-23T18:10:28",
          "2023-03-21T12:33:45",
          "2023-03-28T11:33:29",
          "2023-03-26T08:09:43",
          "2023-04-03T16:16:52",
          "2023-04-05T16:30:06",
          "2023-04-08T07:25:56",
          "2023-04-16T06:52:54",
          "2023-04-19T11:32:48",
          "2023-04-17T15:44:46",
          "2023-04-21T16:28:10",
          "2023-04-27T19:18:00",
          "2023-04-24T18:15:16",
          "2023-04-25T15:14:41",
          "2023-05-02T11:33:44",
          "2023-05-18T15:19:31",
          "2023-05-17T04:42:46",
          "2023-05-10T16:41:26",
          "2023-05-11T16:16:42",
          "2023-05-28T18:00:57",
          "2023-05-22T11:27:20",
          "2023-05-31T16:35:36",
          "2023-06-04T09:05:25",
          "2023-06-12T19:11:00",
          "2023-06-14T16:44:08",
          "2023-06-29T19:22:21",
          "2023-07-11T17:33:51",
          "2023-07-10T17:14:48",
          "2023-07-27T17:24:40",
          "2023-07-31T06:50:29"
         ],
         "xaxis": "x2",
         "y": [
          12.02188424027089,
          10.804570692362237,
          11.48474267116999,
          11.465513960651828,
          13.18532968635615,
          12.158455593581687,
          11.574291935542345,
          11.876518001074691,
          11.556464830472468,
          11.502875552252194,
          9.292114930426285,
          11.799297491481347,
          13.492454023501223,
          11.528283167177914,
          11.476934641167194,
          12.477309990317977,
          11.529932272931655,
          12.848916205752213,
          13.837655037770517,
          11.929825322355454,
          13.689794459312239,
          11.37559781133685,
          11.71522618609783,
          11.495002328929539,
          13.719169207317073,
          12.922996515679442,
          11.931482417572962,
          12.10017152208255,
          12.125566575433108,
          11.977682705026456,
          13.06485128920386,
          10.429580318379159,
          13.001533495508982,
          11.348991014564628,
          11.674033557318653,
          12.765195504453317,
          11.184348311335404,
          11.254621848739497,
          11.015948633088755,
          11.927895220588235,
          11.60666736678908,
          12.475534700669716,
          11.783652382773475,
          11.657739778603748,
          12.304958822273534,
          12.180493910845588,
          13.166890972925101,
          12.6,
          11.307627946239407,
          13.021441373292486,
          11.920599192508595,
          11.611340084192719,
          12.105375425277218,
          11.507955907534246,
          13.458853720608845,
          12.366047626335709,
          12.814276094763668,
          14.166554201314378,
          11.578935131700554,
          14.300564408207771,
          12.326599845797995,
          11.42775600255181,
          12.650626384558581,
          11.785834015361372,
          12.122123711190918,
          9.354638671875,
          12.212791855943948,
          12.64299655720339,
          11.814079681804374,
          12.410685065084932,
          12.832735674333422,
          12.924307358226837,
          12.456946911853644,
          12.17816322815534,
          11.879731043833278,
          13.077114681006083,
          11.878127315958498,
          13.094858268386803,
          11.797612932409226,
          11.869709222560976,
          13.074107142857143,
          12.020580299613403,
          11.579932468220338,
          13.933639368343737,
          12.405818617639463,
          12.9733081470215,
          12.734438380657558,
          15.15151515151515,
          11.59895797264543,
          13.24760219221568,
          11.60820436902866,
          11.458902469758064,
          12.516500244140625,
          10.747783397798274,
          13.811901705012327,
          11.540166558159724,
          13.29700996677741,
          14.195891431809223,
          12.453213537509976,
          11.333296225856413,
          12.729037656903765,
          13.814665030420354,
          15.952214974416815,
          12.311853736620796,
          11.210366596017352,
          12.363022296348316,
          12.027849500942425,
          10.985238506610576,
          11.346054773297773,
          12.554116715574006,
          12.820727103097099,
          12.682369712180465,
          12.134657024515086,
          10.449514883893281,
          13.132678649475524,
          12.528714130434782,
          12.657093997144115,
          9.109705596092876,
          12.635867503612715,
          12.752112821691176,
          12.789568896588486,
          12.363986224905629,
          12.58613512630662,
          13.928740328820115,
          13.027051196808511
         ],
         "yaxis": "y2"
        },
        {
         "hovertemplate": "Activity Name: %{customdata[0]}<br>Activity date: %{x|%Y-%m-%d}<br>Distance (km): %{customdata[1]:.1f}<br>Average speed (km/hr): %{y:.1f}<br>Elevation gain: %{customdata[2]:.1f}",
         "legendgroup": "",
         "line": {
          "color": "black"
         },
         "marker": {
          "symbol": "circle"
         },
         "mode": "lines",
         "name": "",
         "showlegend": false,
         "type": "scatter",
         "x": [
          "2018-10-17T17:05:02",
          "2018-11-07T19:13:43",
          "2019-03-20T17:57:36",
          "2019-05-16T18:09:32",
          "2021-03-15T18:15:20",
          "2021-04-16T15:35:46",
          "2021-04-19T17:05:10",
          "2021-04-21T15:06:10",
          "2021-04-26T16:55:22",
          "2021-05-03T16:25:36",
          "2021-06-09T16:58:05",
          "2021-09-14T17:09:02",
          "2021-10-25T16:35:10",
          "2021-11-02T16:02:25",
          "2021-11-03T15:32:53",
          "2021-11-05T15:31:42",
          "2021-11-08T15:52:43",
          "2021-11-10T15:51:24",
          "2021-11-12T15:23:27",
          "2021-11-15T15:41:10",
          "2021-11-19T15:33:32",
          "2021-12-05T09:54:44",
          "2021-12-14T15:28:31",
          "2021-12-15T15:09:54",
          "2022-01-21T15:39:58",
          "2022-02-25T17:55:26",
          "2022-02-28T17:29:08",
          "2022-03-26T10:07:58",
          "2022-04-04T17:34:08",
          "2022-04-22T14:13:28",
          "2022-05-12T17:36:43",
          "2022-05-25T16:14:54",
          "2022-06-05T09:57:48",
          "2022-06-07T16:52:44",
          "2022-06-11T06:15:03",
          "2022-06-14T17:56:14",
          "2022-07-09T06:59:38",
          "2022-08-29T17:42:33",
          "2022-08-30T16:52:57",
          "2022-09-03T07:49:29",
          "2022-09-05T17:44:43",
          "2022-09-08T16:00:29",
          "2022-09-10T07:59:47",
          "2022-09-12T15:23:45",
          "2022-09-14T17:09:26",
          "2022-09-18T08:32:00",
          "2022-09-21T14:37:39",
          "2022-09-25T17:00:07",
          "2022-10-06T17:01:59",
          "2022-10-10T15:23:15",
          "2022-10-15T07:59:02",
          "2022-10-26T11:29:33",
          "2022-10-27T16:46:11",
          "2022-11-02T16:03:30",
          "2022-11-05T10:42:59",
          "2022-11-09T18:04:53",
          "2022-11-10T17:55:48",
          "2022-11-12T10:00:34",
          "2022-11-15T12:29:43",
          "2022-11-16T18:01:55",
          "2022-11-23T12:22:23",
          "2022-11-27T08:15:47",
          "2022-11-30T17:55:17",
          "2022-12-02T18:54:39",
          "2022-12-03T00:35:32",
          "2022-12-03T11:29:44",
          "2022-12-06T10:45:42",
          "2022-12-08T15:24:56",
          "2022-12-17T09:55:54",
          "2022-12-18T10:20:28",
          "2022-12-21T17:37:19",
          "2022-12-23T15:37:32",
          "2022-12-29T12:02:08",
          "2023-01-04T12:03:45",
          "2023-01-07T15:06:24",
          "2023-01-09T16:45:33",
          "2023-01-12T18:04:06",
          "2023-01-14T10:16:43",
          "2023-01-16T16:26:39",
          "2023-01-22T11:00:02",
          "2023-01-23T12:32:18",
          "2023-01-25T16:16:43",
          "2023-01-26T17:15:31",
          "2023-01-31T12:38:28",
          "2023-02-01T17:45:03",
          "2023-02-04T09:17:02",
          "2023-02-06T19:00:35",
          "2023-02-08T12:30:16",
          "2023-03-01T12:36:23",
          "2023-03-06T16:35:46",
          "2023-03-07T17:14:09",
          "2023-03-09T17:16:24",
          "2023-03-14T16:31:23",
          "2023-03-15T16:28:45",
          "2023-03-19T11:52:03",
          "2023-03-21T12:33:45",
          "2023-03-23T18:10:28",
          "2023-03-26T08:09:43",
          "2023-03-28T11:33:29",
          "2023-04-03T16:16:52",
          "2023-04-05T16:30:06",
          "2023-04-08T07:25:56",
          "2023-04-16T06:52:54",
          "2023-04-17T15:44:46",
          "2023-04-19T11:32:48",
          "2023-04-21T16:28:10",
          "2023-04-24T18:15:16",
          "2023-04-25T15:14:41",
          "2023-04-27T19:18:00",
          "2023-05-02T11:33:44",
          "2023-05-10T16:41:26",
          "2023-05-11T16:16:42",
          "2023-05-17T04:42:46",
          "2023-05-18T15:19:31",
          "2023-05-22T11:27:20",
          "2023-05-28T18:00:57",
          "2023-05-31T16:35:36",
          "2023-06-04T09:05:25",
          "2023-06-12T19:11:00",
          "2023-06-14T16:44:08",
          "2023-06-29T19:22:21",
          "2023-07-10T17:14:48",
          "2023-07-11T17:33:51",
          "2023-07-27T17:24:40",
          "2023-07-31T06:50:29"
         ],
         "xaxis": "x2",
         "y": [
          11.339918191049296,
          11.353628755120853,
          11.440060017212106,
          11.477122101839575,
          11.912053322935693,
          11.93278504306,
          11.934775756998881,
          11.936022266996897,
          11.939322155036555,
          11.943859538713625,
          11.967928551206942,
          12.030994891593508,
          12.057634418990917,
          12.06282057327368,
          12.0634573573381,
          12.064757058083284,
          12.066716898965774,
          12.068016539514895,
          12.069304155900204,
          12.071262506930106,
          12.073859530675941,
          12.084108452359011,
          12.0901102031147,
          12.090751915731872,
          12.114819837171524,
          12.13763510861462,
          12.139573587418852,
          12.156277468499951,
          12.162329957013194,
          12.173941476803957,
          12.187035588031755,
          12.19545017762605,
          12.202431220526563,
          12.203918785663395,
          12.206231360432684,
          12.208498276487326,
          12.224454778285178,
          12.257901028305882,
          12.25852875286265,
          12.260883863675756,
          12.262452828940312,
          12.264356123145056,
          12.265439336270099,
          12.266940009099896,
          12.268287956990482,
          12.270654821085108,
          12.272770253744364,
          12.275435043209395,
          12.282587178373188,
          12.285143073158205,
          12.288193109909175,
          12.295439444388826,
          12.296232512484751,
          12.30011394717548,
          12.301919595839696,
          12.304719570615754,
          12.305365587251512,
          12.306451268415183,
          12.308468957715302,
          12.309269053701714,
          12.31366658687279,
          12.316155724222684,
          12.318367703844299,
          12.319694741127106,
          12.31984863988957,
          12.320143991878233,
          12.322074464605933,
          12.323500765198496,
          12.329203273794874,
          12.329864482412319,
          12.33201205976982,
          12.333258216115958,
          12.337061674330114,
          12.340963109163152,
          12.342995922724386,
          12.344340921007829,
          12.346326736491992,
          12.347415961698939,
          12.348883210664127,
          12.352636457836288,
          12.353328231005294,
          12.35472978349099,
          12.3554064474479,
          12.358531955014275,
          12.359320485831866,
          12.361041483780895,
          12.36260517436533,
          12.363729192897345,
          12.377384421736949,
          12.380743083708724,
          12.381410530143313,
          12.38271178093715,
          12.38594204470413,
          12.386590973324491,
          12.389066521412907,
          12.390385582717219,
          12.39183783533793,
          12.393516966924356,
          12.394909196544619,
          12.398937840710184,
          12.400244050154804,
          12.401948727445944,
          12.40713475381207,
          12.408024993404519,
          12.40921147287758,
          12.410645057193902,
          12.412643762160297,
          12.413212351608564,
          12.41462243688635,
          12.417663421654177,
          12.423003279062192,
          12.423642230184923,
          12.427229644724907,
          12.428167236046306,
          12.430662882095634,
          12.434741293357222,
          12.43665311282955,
          12.439050338314022,
          12.444524681253817,
          12.445758610274428,
          12.45558180281843,
          12.462675510177476,
          12.463334228182765,
          12.473731962060878,
          12.476046116976848
         ],
         "yaxis": "y2"
        },
        {
         "customdata": [
          [
           "Atletismo al anochecer",
           21.2065,
           137.08749389648438
          ],
          [
           "Carrera a la hora del almuerzo",
           21.52469921875,
           88.20047760009766
          ],
          [
           "Carrera de tarde",
           15.6086201171875,
           123.82809448242188
          ],
          [
           "Carrera de noche",
           19.5945,
           153.17393493652344
          ],
          [
           "Carrera a la hora del almuerzo",
           20.65241015625,
           92.6114273071289
          ],
          [
           "Carrera de noche",
           15.5667001953125,
           39.06571578979492
          ],
          [
           "Media maratón bilbao",
           21.1,
           null
          ],
          [
           "Carrera de mañana",
           18.02669921875,
           70.63714599609375
          ],
          [
           "Media maratón Barcelona ",
           21.1,
           0
          ],
          [
           "Carrera de mañana",
           18.0086796875,
           36.611427307128906
          ],
          [
           "Carrera de tarde",
           17.53419921875,
           37.17250061035156
          ]
         ],
         "hovertemplate": "Activity Name: %{customdata[0]}<br>Activity date: %{x|%Y-%m-%d}<br>Distance (km): %{customdata[1]:.1f}<br>Average speed (km/hr): %{y:.1f}<br>Elevation gain: %{customdata[2]:.1f}",
         "legendgroup": "",
         "marker": {
          "color": [
           21.2065,
           21.52469921875,
           15.6086201171875,
           19.5945,
           20.65241015625,
           15.5667001953125,
           21.1,
           18.02669921875,
           21.1,
           18.0086796875,
           17.53419921875
          ],
          "coloraxis": "coloraxis",
          "symbol": "circle"
         },
         "mode": "markers",
         "name": "",
         "orientation": "v",
         "showlegend": false,
         "type": "scatter",
         "x": [
          "2019-06-06T17:39:16",
          "2021-05-22T09:34:09",
          "2021-10-30T15:10:20",
          "2022-06-25T16:42:45",
          "2022-10-02T09:56:02",
          "2022-10-05T16:56:08",
          "2022-10-22T17:00:10",
          "2023-02-11T09:52:38",
          "2023-02-19T07:30:06",
          "2023-06-11T08:29:34",
          "2023-06-20T14:28:36"
         ],
         "xaxis": "x3",
         "y": [
          11.684022038567493,
          12.21837230960265,
          12.094496862220192,
          12.49826364280652,
          11.45235313655268,
          12.55097888087906,
          12.349211510323526,
          12.22609592831575,
          14.775335537833106,
          13.153022291539866,
          12.487263538575668
         ],
         "yaxis": "y3"
        },
        {
         "hovertemplate": "Activity Name: %{customdata[0]}<br>Activity date: %{x|%Y-%m-%d}<br>Distance (km): %{customdata[1]:.1f}<br>Average speed (km/hr): %{y:.1f}<br>Elevation gain: %{customdata[2]:.1f}",
         "legendgroup": "",
         "line": {
          "color": "black"
         },
         "marker": {
          "symbol": "circle"
         },
         "mode": "lines",
         "name": "",
         "showlegend": false,
         "type": "scatter",
         "x": [
          "2019-06-06T17:39:16",
          "2021-05-22T09:34:09",
          "2021-10-30T15:10:20",
          "2022-06-25T16:42:45",
          "2022-10-02T09:56:02",
          "2022-10-05T16:56:08",
          "2022-10-22T17:00:10",
          "2023-02-11T09:52:38",
          "2023-02-19T07:30:06",
          "2023-06-11T08:29:34",
          "2023-06-20T14:28:36"
         ],
         "xaxis": "x3",
         "y": [
          11.491978707158733,
          12.151980733550989,
          12.300674174296596,
          12.520222781878367,
          12.61126252811182,
          12.614298247660479,
          12.629978646517053,
          12.732993979001634,
          12.74028049151703,
          12.843607715189602,
          12.852137672333807
         ],
         "yaxis": "y3"
        },
        {
         "customdata": [
          [
           "Carrera de mañana",
           30.00905078125,
           149.42572021484375
          ],
          [
           "Carrera de mañana",
           26.377279296875,
           1268.1348876953125
          ]
         ],
         "hovertemplate": "Activity Name: %{customdata[0]}<br>Activity date: %{x|%Y-%m-%d}<br>Distance (km): %{customdata[1]:.1f}<br>Average speed (km/hr): %{y:.1f}<br>Elevation gain: %{customdata[2]:.1f}",
         "legendgroup": "",
         "marker": {
          "color": [
           30.00905078125,
           26.377279296875
          ],
          "coloraxis": "coloraxis",
          "symbol": "circle"
         },
         "mode": "markers",
         "name": "",
         "orientation": "v",
         "showlegend": false,
         "type": "scatter",
         "x": [
          "2023-05-06T07:22:12",
          "2023-07-23T06:00:29"
         ],
         "xaxis": "x4",
         "y": [
          11.03724793752554,
          7.8129180079603415
         ],
         "yaxis": "y4"
        },
        {
         "hovertemplate": "Activity Name: %{customdata[0]}<br>Activity date: %{x|%Y-%m-%d}<br>Distance (km): %{customdata[1]:.1f}<br>Average speed (km/hr): %{y:.1f}<br>Elevation gain: %{customdata[2]:.1f}",
         "legendgroup": "",
         "line": {
          "color": "black"
         },
         "marker": {
          "symbol": "circle"
         },
         "mode": "lines",
         "name": "",
         "showlegend": false,
         "type": "scatter",
         "x": [
          "2023-05-06T07:22:12",
          "2023-07-23T06:00:29"
         ],
         "xaxis": "x4",
         "y": [
          11.037247937524967,
          7.8129180079598655
         ],
         "yaxis": "y4"
        }
       ],
       "layout": {
        "annotations": [
         {
          "font": {
           "size": 10
          },
          "showarrow": false,
          "text": "1-8km carreras",
          "x": 0.1175,
          "xanchor": "center",
          "xref": "paper",
          "y": 1,
          "yanchor": "bottom",
          "yref": "paper"
         },
         {
          "font": {
           "size": 10
          },
          "showarrow": false,
          "text": "8-16km carreras",
          "x": 0.3725,
          "xanchor": "center",
          "xref": "paper",
          "y": 1,
          "yanchor": "bottom",
          "yref": "paper"
         },
         {
          "font": {
           "size": 10
          },
          "showarrow": false,
          "text": "16-23km carreras",
          "x": 0.6275,
          "xanchor": "center",
          "xref": "paper",
          "y": 1,
          "yanchor": "bottom",
          "yref": "paper"
         },
         {
          "font": {
           "size": 10
          },
          "showarrow": false,
          "text": "23-30km carreras",
          "x": 0.8824999999999998,
          "xanchor": "center",
          "xref": "paper",
          "y": 1,
          "yanchor": "bottom",
          "yref": "paper"
         }
        ],
        "autosize": false,
        "coloraxis": {
         "colorbar": {
          "thickness": 15,
          "tickfont": {
           "size": 10
          },
          "ticklen": 3,
          "title": {
           "font": {
            "size": 12
           },
           "text": "km"
          }
         },
         "colorscale": [
          [
           0,
           "rgb(3, 35, 51)"
          ],
          [
           0.09090909090909091,
           "rgb(13, 48, 100)"
          ],
          [
           0.18181818181818182,
           "rgb(53, 50, 155)"
          ],
          [
           0.2727272727272727,
           "rgb(93, 62, 153)"
          ],
          [
           0.36363636363636365,
           "rgb(126, 77, 143)"
          ],
          [
           0.45454545454545453,
           "rgb(158, 89, 135)"
          ],
          [
           0.5454545454545454,
           "rgb(193, 100, 121)"
          ],
          [
           0.6363636363636364,
           "rgb(225, 113, 97)"
          ],
          [
           0.7272727272727273,
           "rgb(246, 139, 69)"
          ],
          [
           0.8181818181818182,
           "rgb(251, 173, 60)"
          ],
          [
           0.9090909090909091,
           "rgb(246, 211, 70)"
          ],
          [
           1,
           "rgb(231, 250, 90)"
          ]
         ]
        },
        "height": 600,
        "legend": {
         "tracegroupgap": 0
        },
        "template": {
         "data": {
          "bar": [
           {
            "error_x": {
             "color": "rgb(36,36,36)"
            },
            "error_y": {
             "color": "rgb(36,36,36)"
            },
            "marker": {
             "line": {
              "color": "rgb(234,234,242)",
              "width": 0.5
             },
             "pattern": {
              "fillmode": "overlay",
              "size": 10,
              "solidity": 0.2
             }
            },
            "type": "bar"
           }
          ],
          "barpolar": [
           {
            "marker": {
             "line": {
              "color": "rgb(234,234,242)",
              "width": 0.5
             },
             "pattern": {
              "fillmode": "overlay",
              "size": 10,
              "solidity": 0.2
             }
            },
            "type": "barpolar"
           }
          ],
          "carpet": [
           {
            "aaxis": {
             "endlinecolor": "rgb(36,36,36)",
             "gridcolor": "white",
             "linecolor": "white",
             "minorgridcolor": "white",
             "startlinecolor": "rgb(36,36,36)"
            },
            "baxis": {
             "endlinecolor": "rgb(36,36,36)",
             "gridcolor": "white",
             "linecolor": "white",
             "minorgridcolor": "white",
             "startlinecolor": "rgb(36,36,36)"
            },
            "type": "carpet"
           }
          ],
          "choropleth": [
           {
            "colorbar": {
             "outlinewidth": 0,
             "tickcolor": "rgb(36,36,36)",
             "ticklen": 8,
             "ticks": "outside",
             "tickwidth": 2
            },
            "type": "choropleth"
           }
          ],
          "contour": [
           {
            "colorbar": {
             "outlinewidth": 0,
             "tickcolor": "rgb(36,36,36)",
             "ticklen": 8,
             "ticks": "outside",
             "tickwidth": 2
            },
            "colorscale": [
             [
              0,
              "rgb(2,4,25)"
             ],
             [
              0.06274509803921569,
              "rgb(24,15,41)"
             ],
             [
              0.12549019607843137,
              "rgb(47,23,57)"
             ],
             [
              0.18823529411764706,
              "rgb(71,28,72)"
             ],
             [
              0.25098039215686274,
              "rgb(97,30,82)"
             ],
             [
              0.3137254901960784,
              "rgb(123,30,89)"
             ],
             [
              0.3764705882352941,
              "rgb(150,27,91)"
             ],
             [
              0.4392156862745098,
              "rgb(177,22,88)"
             ],
             [
              0.5019607843137255,
              "rgb(203,26,79)"
             ],
             [
              0.5647058823529412,
              "rgb(223,47,67)"
             ],
             [
              0.6274509803921569,
              "rgb(236,76,61)"
             ],
             [
              0.6901960784313725,
              "rgb(242,107,73)"
             ],
             [
              0.7529411764705882,
              "rgb(244,135,95)"
             ],
             [
              0.8156862745098039,
              "rgb(245,162,122)"
             ],
             [
              0.8784313725490196,
              "rgb(246,188,153)"
             ],
             [
              0.9411764705882353,
              "rgb(247,212,187)"
             ],
             [
              1,
              "rgb(250,234,220)"
             ]
            ],
            "type": "contour"
           }
          ],
          "contourcarpet": [
           {
            "colorbar": {
             "outlinewidth": 0,
             "tickcolor": "rgb(36,36,36)",
             "ticklen": 8,
             "ticks": "outside",
             "tickwidth": 2
            },
            "type": "contourcarpet"
           }
          ],
          "heatmap": [
           {
            "colorbar": {
             "outlinewidth": 0,
             "tickcolor": "rgb(36,36,36)",
             "ticklen": 8,
             "ticks": "outside",
             "tickwidth": 2
            },
            "colorscale": [
             [
              0,
              "rgb(2,4,25)"
             ],
             [
              0.06274509803921569,
              "rgb(24,15,41)"
             ],
             [
              0.12549019607843137,
              "rgb(47,23,57)"
             ],
             [
              0.18823529411764706,
              "rgb(71,28,72)"
             ],
             [
              0.25098039215686274,
              "rgb(97,30,82)"
             ],
             [
              0.3137254901960784,
              "rgb(123,30,89)"
             ],
             [
              0.3764705882352941,
              "rgb(150,27,91)"
             ],
             [
              0.4392156862745098,
              "rgb(177,22,88)"
             ],
             [
              0.5019607843137255,
              "rgb(203,26,79)"
             ],
             [
              0.5647058823529412,
              "rgb(223,47,67)"
             ],
             [
              0.6274509803921569,
              "rgb(236,76,61)"
             ],
             [
              0.6901960784313725,
              "rgb(242,107,73)"
             ],
             [
              0.7529411764705882,
              "rgb(244,135,95)"
             ],
             [
              0.8156862745098039,
              "rgb(245,162,122)"
             ],
             [
              0.8784313725490196,
              "rgb(246,188,153)"
             ],
             [
              0.9411764705882353,
              "rgb(247,212,187)"
             ],
             [
              1,
              "rgb(250,234,220)"
             ]
            ],
            "type": "heatmap"
           }
          ],
          "heatmapgl": [
           {
            "colorbar": {
             "outlinewidth": 0,
             "tickcolor": "rgb(36,36,36)",
             "ticklen": 8,
             "ticks": "outside",
             "tickwidth": 2
            },
            "colorscale": [
             [
              0,
              "rgb(2,4,25)"
             ],
             [
              0.06274509803921569,
              "rgb(24,15,41)"
             ],
             [
              0.12549019607843137,
              "rgb(47,23,57)"
             ],
             [
              0.18823529411764706,
              "rgb(71,28,72)"
             ],
             [
              0.25098039215686274,
              "rgb(97,30,82)"
             ],
             [
              0.3137254901960784,
              "rgb(123,30,89)"
             ],
             [
              0.3764705882352941,
              "rgb(150,27,91)"
             ],
             [
              0.4392156862745098,
              "rgb(177,22,88)"
             ],
             [
              0.5019607843137255,
              "rgb(203,26,79)"
             ],
             [
              0.5647058823529412,
              "rgb(223,47,67)"
             ],
             [
              0.6274509803921569,
              "rgb(236,76,61)"
             ],
             [
              0.6901960784313725,
              "rgb(242,107,73)"
             ],
             [
              0.7529411764705882,
              "rgb(244,135,95)"
             ],
             [
              0.8156862745098039,
              "rgb(245,162,122)"
             ],
             [
              0.8784313725490196,
              "rgb(246,188,153)"
             ],
             [
              0.9411764705882353,
              "rgb(247,212,187)"
             ],
             [
              1,
              "rgb(250,234,220)"
             ]
            ],
            "type": "heatmapgl"
           }
          ],
          "histogram": [
           {
            "marker": {
             "pattern": {
              "fillmode": "overlay",
              "size": 10,
              "solidity": 0.2
             }
            },
            "type": "histogram"
           }
          ],
          "histogram2d": [
           {
            "colorbar": {
             "outlinewidth": 0,
             "tickcolor": "rgb(36,36,36)",
             "ticklen": 8,
             "ticks": "outside",
             "tickwidth": 2
            },
            "colorscale": [
             [
              0,
              "rgb(2,4,25)"
             ],
             [
              0.06274509803921569,
              "rgb(24,15,41)"
             ],
             [
              0.12549019607843137,
              "rgb(47,23,57)"
             ],
             [
              0.18823529411764706,
              "rgb(71,28,72)"
             ],
             [
              0.25098039215686274,
              "rgb(97,30,82)"
             ],
             [
              0.3137254901960784,
              "rgb(123,30,89)"
             ],
             [
              0.3764705882352941,
              "rgb(150,27,91)"
             ],
             [
              0.4392156862745098,
              "rgb(177,22,88)"
             ],
             [
              0.5019607843137255,
              "rgb(203,26,79)"
             ],
             [
              0.5647058823529412,
              "rgb(223,47,67)"
             ],
             [
              0.6274509803921569,
              "rgb(236,76,61)"
             ],
             [
              0.6901960784313725,
              "rgb(242,107,73)"
             ],
             [
              0.7529411764705882,
              "rgb(244,135,95)"
             ],
             [
              0.8156862745098039,
              "rgb(245,162,122)"
             ],
             [
              0.8784313725490196,
              "rgb(246,188,153)"
             ],
             [
              0.9411764705882353,
              "rgb(247,212,187)"
             ],
             [
              1,
              "rgb(250,234,220)"
             ]
            ],
            "type": "histogram2d"
           }
          ],
          "histogram2dcontour": [
           {
            "colorbar": {
             "outlinewidth": 0,
             "tickcolor": "rgb(36,36,36)",
             "ticklen": 8,
             "ticks": "outside",
             "tickwidth": 2
            },
            "colorscale": [
             [
              0,
              "rgb(2,4,25)"
             ],
             [
              0.06274509803921569,
              "rgb(24,15,41)"
             ],
             [
              0.12549019607843137,
              "rgb(47,23,57)"
             ],
             [
              0.18823529411764706,
              "rgb(71,28,72)"
             ],
             [
              0.25098039215686274,
              "rgb(97,30,82)"
             ],
             [
              0.3137254901960784,
              "rgb(123,30,89)"
             ],
             [
              0.3764705882352941,
              "rgb(150,27,91)"
             ],
             [
              0.4392156862745098,
              "rgb(177,22,88)"
             ],
             [
              0.5019607843137255,
              "rgb(203,26,79)"
             ],
             [
              0.5647058823529412,
              "rgb(223,47,67)"
             ],
             [
              0.6274509803921569,
              "rgb(236,76,61)"
             ],
             [
              0.6901960784313725,
              "rgb(242,107,73)"
             ],
             [
              0.7529411764705882,
              "rgb(244,135,95)"
             ],
             [
              0.8156862745098039,
              "rgb(245,162,122)"
             ],
             [
              0.8784313725490196,
              "rgb(246,188,153)"
             ],
             [
              0.9411764705882353,
              "rgb(247,212,187)"
             ],
             [
              1,
              "rgb(250,234,220)"
             ]
            ],
            "type": "histogram2dcontour"
           }
          ],
          "mesh3d": [
           {
            "colorbar": {
             "outlinewidth": 0,
             "tickcolor": "rgb(36,36,36)",
             "ticklen": 8,
             "ticks": "outside",
             "tickwidth": 2
            },
            "type": "mesh3d"
           }
          ],
          "parcoords": [
           {
            "line": {
             "colorbar": {
              "outlinewidth": 0,
              "tickcolor": "rgb(36,36,36)",
              "ticklen": 8,
              "ticks": "outside",
              "tickwidth": 2
             }
            },
            "type": "parcoords"
           }
          ],
          "pie": [
           {
            "automargin": true,
            "type": "pie"
           }
          ],
          "scatter": [
           {
            "fillpattern": {
             "fillmode": "overlay",
             "size": 10,
             "solidity": 0.2
            },
            "type": "scatter"
           }
          ],
          "scatter3d": [
           {
            "line": {
             "colorbar": {
              "outlinewidth": 0,
              "tickcolor": "rgb(36,36,36)",
              "ticklen": 8,
              "ticks": "outside",
              "tickwidth": 2
             }
            },
            "marker": {
             "colorbar": {
              "outlinewidth": 0,
              "tickcolor": "rgb(36,36,36)",
              "ticklen": 8,
              "ticks": "outside",
              "tickwidth": 2
             }
            },
            "type": "scatter3d"
           }
          ],
          "scattercarpet": [
           {
            "marker": {
             "colorbar": {
              "outlinewidth": 0,
              "tickcolor": "rgb(36,36,36)",
              "ticklen": 8,
              "ticks": "outside",
              "tickwidth": 2
             }
            },
            "type": "scattercarpet"
           }
          ],
          "scattergeo": [
           {
            "marker": {
             "colorbar": {
              "outlinewidth": 0,
              "tickcolor": "rgb(36,36,36)",
              "ticklen": 8,
              "ticks": "outside",
              "tickwidth": 2
             }
            },
            "type": "scattergeo"
           }
          ],
          "scattergl": [
           {
            "marker": {
             "colorbar": {
              "outlinewidth": 0,
              "tickcolor": "rgb(36,36,36)",
              "ticklen": 8,
              "ticks": "outside",
              "tickwidth": 2
             }
            },
            "type": "scattergl"
           }
          ],
          "scattermapbox": [
           {
            "marker": {
             "colorbar": {
              "outlinewidth": 0,
              "tickcolor": "rgb(36,36,36)",
              "ticklen": 8,
              "ticks": "outside",
              "tickwidth": 2
             }
            },
            "type": "scattermapbox"
           }
          ],
          "scatterpolar": [
           {
            "marker": {
             "colorbar": {
              "outlinewidth": 0,
              "tickcolor": "rgb(36,36,36)",
              "ticklen": 8,
              "ticks": "outside",
              "tickwidth": 2
             }
            },
            "type": "scatterpolar"
           }
          ],
          "scatterpolargl": [
           {
            "marker": {
             "colorbar": {
              "outlinewidth": 0,
              "tickcolor": "rgb(36,36,36)",
              "ticklen": 8,
              "ticks": "outside",
              "tickwidth": 2
             }
            },
            "type": "scatterpolargl"
           }
          ],
          "scatterternary": [
           {
            "marker": {
             "colorbar": {
              "outlinewidth": 0,
              "tickcolor": "rgb(36,36,36)",
              "ticklen": 8,
              "ticks": "outside",
              "tickwidth": 2
             }
            },
            "type": "scatterternary"
           }
          ],
          "surface": [
           {
            "colorbar": {
             "outlinewidth": 0,
             "tickcolor": "rgb(36,36,36)",
             "ticklen": 8,
             "ticks": "outside",
             "tickwidth": 2
            },
            "colorscale": [
             [
              0,
              "rgb(2,4,25)"
             ],
             [
              0.06274509803921569,
              "rgb(24,15,41)"
             ],
             [
              0.12549019607843137,
              "rgb(47,23,57)"
             ],
             [
              0.18823529411764706,
              "rgb(71,28,72)"
             ],
             [
              0.25098039215686274,
              "rgb(97,30,82)"
             ],
             [
              0.3137254901960784,
              "rgb(123,30,89)"
             ],
             [
              0.3764705882352941,
              "rgb(150,27,91)"
             ],
             [
              0.4392156862745098,
              "rgb(177,22,88)"
             ],
             [
              0.5019607843137255,
              "rgb(203,26,79)"
             ],
             [
              0.5647058823529412,
              "rgb(223,47,67)"
             ],
             [
              0.6274509803921569,
              "rgb(236,76,61)"
             ],
             [
              0.6901960784313725,
              "rgb(242,107,73)"
             ],
             [
              0.7529411764705882,
              "rgb(244,135,95)"
             ],
             [
              0.8156862745098039,
              "rgb(245,162,122)"
             ],
             [
              0.8784313725490196,
              "rgb(246,188,153)"
             ],
             [
              0.9411764705882353,
              "rgb(247,212,187)"
             ],
             [
              1,
              "rgb(250,234,220)"
             ]
            ],
            "type": "surface"
           }
          ],
          "table": [
           {
            "cells": {
             "fill": {
              "color": "rgb(231,231,240)"
             },
             "line": {
              "color": "white"
             }
            },
            "header": {
             "fill": {
              "color": "rgb(183,183,191)"
             },
             "line": {
              "color": "white"
             }
            },
            "type": "table"
           }
          ]
         },
         "layout": {
          "annotationdefaults": {
           "arrowcolor": "rgb(67,103,167)"
          },
          "autotypenumbers": "strict",
          "coloraxis": {
           "colorbar": {
            "outlinewidth": 0,
            "tickcolor": "rgb(36,36,36)",
            "ticklen": 8,
            "ticks": "outside",
            "tickwidth": 2
           }
          },
          "colorscale": {
           "sequential": [
            [
             0,
             "rgb(2,4,25)"
            ],
            [
             0.06274509803921569,
             "rgb(24,15,41)"
            ],
            [
             0.12549019607843137,
             "rgb(47,23,57)"
            ],
            [
             0.18823529411764706,
             "rgb(71,28,72)"
            ],
            [
             0.25098039215686274,
             "rgb(97,30,82)"
            ],
            [
             0.3137254901960784,
             "rgb(123,30,89)"
            ],
            [
             0.3764705882352941,
             "rgb(150,27,91)"
            ],
            [
             0.4392156862745098,
             "rgb(177,22,88)"
            ],
            [
             0.5019607843137255,
             "rgb(203,26,79)"
            ],
            [
             0.5647058823529412,
             "rgb(223,47,67)"
            ],
            [
             0.6274509803921569,
             "rgb(236,76,61)"
            ],
            [
             0.6901960784313725,
             "rgb(242,107,73)"
            ],
            [
             0.7529411764705882,
             "rgb(244,135,95)"
            ],
            [
             0.8156862745098039,
             "rgb(245,162,122)"
            ],
            [
             0.8784313725490196,
             "rgb(246,188,153)"
            ],
            [
             0.9411764705882353,
             "rgb(247,212,187)"
            ],
            [
             1,
             "rgb(250,234,220)"
            ]
           ],
           "sequentialminus": [
            [
             0,
             "rgb(2,4,25)"
            ],
            [
             0.06274509803921569,
             "rgb(24,15,41)"
            ],
            [
             0.12549019607843137,
             "rgb(47,23,57)"
            ],
            [
             0.18823529411764706,
             "rgb(71,28,72)"
            ],
            [
             0.25098039215686274,
             "rgb(97,30,82)"
            ],
            [
             0.3137254901960784,
             "rgb(123,30,89)"
            ],
            [
             0.3764705882352941,
             "rgb(150,27,91)"
            ],
            [
             0.4392156862745098,
             "rgb(177,22,88)"
            ],
            [
             0.5019607843137255,
             "rgb(203,26,79)"
            ],
            [
             0.5647058823529412,
             "rgb(223,47,67)"
            ],
            [
             0.6274509803921569,
             "rgb(236,76,61)"
            ],
            [
             0.6901960784313725,
             "rgb(242,107,73)"
            ],
            [
             0.7529411764705882,
             "rgb(244,135,95)"
            ],
            [
             0.8156862745098039,
             "rgb(245,162,122)"
            ],
            [
             0.8784313725490196,
             "rgb(246,188,153)"
            ],
            [
             0.9411764705882353,
             "rgb(247,212,187)"
            ],
            [
             1,
             "rgb(250,234,220)"
            ]
           ]
          },
          "colorway": [
           "rgb(76,114,176)",
           "rgb(221,132,82)",
           "rgb(85,168,104)",
           "rgb(196,78,82)",
           "rgb(129,114,179)",
           "rgb(147,120,96)",
           "rgb(218,139,195)",
           "rgb(140,140,140)",
           "rgb(204,185,116)",
           "rgb(100,181,205)"
          ],
          "font": {
           "color": "rgb(36,36,36)"
          },
          "geo": {
           "bgcolor": "white",
           "lakecolor": "white",
           "landcolor": "rgb(234,234,242)",
           "showlakes": true,
           "showland": true,
           "subunitcolor": "white"
          },
          "hoverlabel": {
           "align": "left"
          },
          "hovermode": "closest",
          "paper_bgcolor": "white",
          "plot_bgcolor": "rgb(234,234,242)",
          "polar": {
           "angularaxis": {
            "gridcolor": "white",
            "linecolor": "white",
            "showgrid": true,
            "ticks": ""
           },
           "bgcolor": "rgb(234,234,242)",
           "radialaxis": {
            "gridcolor": "white",
            "linecolor": "white",
            "showgrid": true,
            "ticks": ""
           }
          },
          "scene": {
           "xaxis": {
            "backgroundcolor": "rgb(234,234,242)",
            "gridcolor": "white",
            "gridwidth": 2,
            "linecolor": "white",
            "showbackground": true,
            "showgrid": true,
            "ticks": "",
            "zerolinecolor": "white"
           },
           "yaxis": {
            "backgroundcolor": "rgb(234,234,242)",
            "gridcolor": "white",
            "gridwidth": 2,
            "linecolor": "white",
            "showbackground": true,
            "showgrid": true,
            "ticks": "",
            "zerolinecolor": "white"
           },
           "zaxis": {
            "backgroundcolor": "rgb(234,234,242)",
            "gridcolor": "white",
            "gridwidth": 2,
            "linecolor": "white",
            "showbackground": true,
            "showgrid": true,
            "ticks": "",
            "zerolinecolor": "white"
           }
          },
          "shapedefaults": {
           "fillcolor": "rgb(67,103,167)",
           "line": {
            "width": 0
           },
           "opacity": 0.5
          },
          "ternary": {
           "aaxis": {
            "gridcolor": "white",
            "linecolor": "white",
            "showgrid": true,
            "ticks": ""
           },
           "baxis": {
            "gridcolor": "white",
            "linecolor": "white",
            "showgrid": true,
            "ticks": ""
           },
           "bgcolor": "rgb(234,234,242)",
           "caxis": {
            "gridcolor": "white",
            "linecolor": "white",
            "showgrid": true,
            "ticks": ""
           }
          },
          "xaxis": {
           "automargin": true,
           "gridcolor": "white",
           "linecolor": "white",
           "showgrid": true,
           "ticks": "",
           "title": {
            "standoff": 15
           },
           "zerolinecolor": "white"
          },
          "yaxis": {
           "automargin": true,
           "gridcolor": "white",
           "linecolor": "white",
           "showgrid": true,
           "ticks": "",
           "title": {
            "standoff": 15
           },
           "zerolinecolor": "white"
          }
         }
        },
        "title": {
         "text": "My average speed on carreras"
        },
        "width": 700,
        "xaxis": {
         "anchor": "y",
         "domain": [
          0,
          0.235
         ],
         "tickangle": -45,
         "title": {
          "text": ""
         }
        },
        "xaxis2": {
         "anchor": "y2",
         "domain": [
          0.255,
          0.49
         ],
         "matches": "x",
         "tickangle": -45,
         "title": {
          "text": ""
         }
        },
        "xaxis3": {
         "anchor": "y3",
         "domain": [
          0.51,
          0.745
         ],
         "matches": "x",
         "tickangle": -45,
         "title": {
          "text": ""
         }
        },
        "xaxis4": {
         "anchor": "y4",
         "domain": [
          0.7649999999999999,
          0.9999999999999999
         ],
         "matches": "x",
         "tickangle": -45,
         "title": {
          "text": ""
         }
        },
        "yaxis": {
         "anchor": "x",
         "domain": [
          0,
          1
         ],
         "title": {
          "text": "Average Speed (km/hr)"
         }
        },
        "yaxis2": {
         "anchor": "x2",
         "domain": [
          0,
          1
         ],
         "matches": "y",
         "showticklabels": false
        },
        "yaxis3": {
         "anchor": "x3",
         "domain": [
          0,
          1
         ],
         "matches": "y",
         "showticklabels": false
        },
        "yaxis4": {
         "anchor": "x4",
         "domain": [
          0,
          1
         ],
         "matches": "y",
         "showticklabels": false
        }
       }
      },
      "text/html": [
       "<div>                            <div id=\"52ebf2e4-7e61-4e4a-ba8a-3af4c66748d0\" class=\"plotly-graph-div\" style=\"height:600px; width:700px;\"></div>            <script type=\"text/javascript\">                require([\"plotly\"], function(Plotly) {                    window.PLOTLYENV=window.PLOTLYENV || {};                                    if (document.getElementById(\"52ebf2e4-7e61-4e4a-ba8a-3af4c66748d0\")) {                    Plotly.newPlot(                        \"52ebf2e4-7e61-4e4a-ba8a-3af4c66748d0\",                        [{\"customdata\":[[\"Ciclismo al anochecer\",5.26189990234375,28.617555618286133],[\"Atletismo al anochecer\",4.28160009765625,103.44881439208984],[\"Atletismo a la hora del almuerzo\",2.427300048828125,11.300000190734863],[\"Atletismo al anochecer\",5.91710009765625,32.95210266113281],[\"Entrenamiento a la hora del almuerzo\",4.1847001953125,38.0],[\"Ciclismo por la tarde\",4.34489990234375,40.44500732421875],[\"Atletismo al anochecer\",4.62589990234375,45.31432723999024],[\"Atletismo por la ma\\u00f1ana\",5.6722001953125,83.10859680175781],[\"Atletismo al anochecer\",4.0145,48.08650207519531],[\"Atletismo al anochecer\",6.1232998046875,93.14146423339844],[\"Atletismo al anochecer\",3.78810009765625,49.91963577270508],[\"Atletismo al anochecer\",1.0075,9.830769538879396],[\"Atletismo al anochecer\",2.40460009765625,32.06739807128906],[\"Atletismo al anochecer\",4.55639990234375,37.68727111816406],[\"Atletismo al anochecer\",2.467300048828125,24.11103057861328],[\"Atletismo al anochecer\",2.50760009765625,14.316001892089844],[\"Atletismo al anochecer\",2.80560009765625,23.38500022888184],[\"Atletismo al anochecer\",4.00439990234375,26.148611068725582],[\"Atletismo al anochecer\",4.006199951171875,28.170000076293945],[\"Carrera de noche\",5.57960009765625,47.24615478515625],[\"Carrera de noche\",4.014199951171875,24.80257606506348],[\"Carrera de noche\",3.02410009765625,10.397424697875977],[\"Carrera de noche\",5.24960009765625,3.1616666316986084],[\"Carrera de noche\",5.3345,3.15984845161438],[\"Carrera por la tarde\",4.6442998046875,53.0],[\"Carrera a la hora del almuerzo\",7.51360009765625,45.47075653076172],[\"Carrera de tarde\",4.01710009765625,23.18000030517578],[\"Entrenamiento a la hora del almuerzo\",6.39810009765625,166.0],[\"Carrera de tarde\",5.8887998046875,278.9647521972656],[\"Carrera de noche\",5.00860009765625,14.766111373901367],[\"Carrera de noche\",5.75389990234375,48.11558151245117],[\"Carrera de noche\",3.005699951171875,22.90724754333496],[\"Carrera de noche\",6.3685,55.79000473022461],[\"Carrera de noche\",5.27160009765625,43.73936462402344],[\"Carrera de noche\",4.7237001953125,69.52436065673828],[\"Carrera de tarde\",5.231,29.57999992370605],[\"Carrera de noche\",6.7732001953125,34.1971435546875],[\"Carrera a la hora del almuerzo\",4.51010009765625,21.12666702270508],[\"Carrera de noche\",5.54939990234375,8.019047737121582],[\"Carrera de noche\",7.83189990234375,111.23345184326172],[\"Carrera nocturna\",5.0135,11.0600004196167],[\"Carrera a la hora del almuerzo\",5.587,8.680000305175781],[\"Carrera de tarde\",4.33060009765625,362.956787109375],[\"Carrera de noche\",7.4027998046875,71.38987731933594],[\"Carrera de noche\",6.2707998046875,35.92408752441406],[\"Carrera de ma\\u00f1ana\",2.0145,0.0],[\"Carrera de noche\",6.6747001953125,38.92333221435547],[\"Carrera de noche\",2.0905,25.34000015258789],[\"Carrera de noche\",1.6144000244140626,7.462500095367432],[\"Carrera de noche\",4.034300048828125,19.513334274291992],[\"Carrera de noche\",3.60989990234375,4.746666431427002],[\"Carrera a la hora del almuerzo\",3.006300048828125,0.0],[\"Carrera de noche\",3.602800048828125,15.137857437133787],[\"Carrera de noche\",5.8132998046875,37.310001373291016],[\"Carrera de noche\",7.0612998046875,53.63833236694336],[\"Carrera a la hora del almuerzo\",3.20489990234375,5.313333511352539],[\"Carrera de noche\",4.2382998046875,13.720000267028809],[\"Carrera de noche\",6.7547001953125,51.81142807006836],[\"Carrera a la hora del almuerzo\",5.9035,23.459999084472656],[\"Carrera de ma\\u00f1ana\",4.482,30.9233341217041],[\"Carrera de noche\",7.238,39.84603118896485],[\"Carrera de noche\",1.7574000244140624,0.0],[\"Carrera de noche\",4.25910009765625,23.57999992370605],[\"Carrera de noche\",3.659090087890625,5.473333358764648],[\"Carrera de tarde\",6.01756982421875,50.26666641235352],[\"Carrera de tarde\",7.80460009765625,50.56380844116211],[\"Carrera de tarde\",6.73714013671875,42.459999084472656],[\"Carrera de noche\",7.1307900390625,3.422222137451172],[\"Carrera de tarde\",6.463740234375,47.18999862670898],[\"Carrera de tarde\",5.0171298828125,12.420000076293944],[\"Carrera de tarde\",7.60547021484375,42.58000183105469],[\"Carrera de tarde\",6.00280029296875,42.03206253051758],[\"Carrera de tarde\",7.24677001953125,40.90666580200195],[\"Carrera a la hora del almuerzo\",3.00493994140625,5.019999980926514],[\"Carrera de tarde\",5.00194970703125,17.136667251586914],[\"Carrera de tarde\",4.95581982421875,34.25666809082031],[\"Carrera de tarde\",7.27908984375,36.08000183105469],[\"Carrera a la hora del almuerzo\",5.50766015625,19.09666633605957],[\"Carrera de tarde\",5.00268017578125,26.996665954589844],[\"Carrera de tarde\",5.50493994140625,37.68999862670898],[\"Carrera de tarde\",4.54358984375,13.943333625793455],[\"Carrera de tarde\",4.48793017578125,30.98095321655273],[\"Carrera de tarde\",5.15243017578125,34.967498779296875],[\"Carrera de tarde\",5.0237099609375,34.45333480834961],[\"Carrera de tarde\",5.271240234375,47.25968170166016],[\"Carrera de tarde\",5.507240234375,19.0],[\"Carrera de tarde\",3.64639990234375,11.512380599975586],[\"Carrera de noche\",1.5916199951171874,0.0],[\"Carrera de tarde\",5.35966015625,20.80238151550293],[\"Carrera de noche\",2.638719970703125,13.359999656677246],[\"Carrera nocturna\",1.917010009765625,0.0],[\"Carrera de tarde\",1.8604100341796874,19.459999084472656],[\"Carrera de noche\",6.8617197265625,45.123077392578125],[\"Carrera de noche\",4.61902978515625,36.51380920410156],[\"Carrera de noche\",6.29531982421875,26.002857208251957],[\"Carrera de tarde\",6.95667041015625,51.84464263916016],[\"Carrera de tarde\",6.85952978515625,51.10219955444336],[\"Carrera de ma\\u00f1ana\",6.89702978515625,50.94278717041016],[\"Carrera nocturna\",4.99502001953125,34.72999954223633],[\"Carrera de ma\\u00f1ana\",6.04089990234375,38.73666763305664],[\"Carrera de noche\",6.807330078125,35.50539779663086],[\"Carrera de noche\",4.81803955078125,36.58821487426758],[\"Carrera de noche\",4.31889013671875,0.0],[\"Carrera de noche\",5.9808701171875,40.18952560424805],[\"Carrera de tarde\",8.0,null],[\"Carrera de tarde\",7.3583798828125,18.239999771118164],[\"Carrera de tarde\",6.256240234375,40.220001220703125],[\"Carrera de tarde\",6.01072021484375,39.02999877929688],[\"Carrera de noche\",7.0205400390625,48.6875],[\"Carrera de tarde\",7.4926298828125,20.28469657897949],[\"Carrera de tarde\",7.00039990234375,23.25],[\"Carrera de tarde\",5.5,0.0],[\"Carrera de tarde\",5.0097099609375,5.154285907745361],[\"Carrera de tarde\",7.039,50.70000076293945],[\"Carrera a la hora del almuerzo\",7.61491015625,13.148571014404297],[\"Carrera de noche\",5.685080078125,0.0],[\"Carrera de tarde\",5.05464013671875,0.0],[\"Carrera de noche\",8.06251953125,0.0],[\"Carrera de tarde\",5.00238037109375,0.0],[\"Carrera de noche\",4.69847998046875,0.0],[\"Carrera de noche\",5.01935986328125,25.409048080444336],[\"Carrera de tarde\",5.35472998046875,0.0],[\"Carrera de noche\",6.59608984375,0.0],[\"Carrera de noche\",7.77164990234375,47.361427307128906],[\"Carrera de tarde\",8.145099609375,0.0],[\"Carrera de noche\",7.87589013671875,0.0],[\"Carrera de tarde\",5.578740234375,31.80476188659668],[\"Carrera a la hora del almuerzo\",6.6061298828125,41.31330108642578],[\"Carrera a la hora del almuerzo\",7.00481005859375,49.01714324951172],[\"Carrera de noche\",5.50793994140625,30.638334274291992],[\"Carrera de noche\",8.01497021484375,22.20571517944336],[\"Carrera de ma\\u00f1ana\",6.07510009765625,0.0],[\"Carrera de noche\",5.0273798828125,21.59000015258789],[\"Carrera de tarde\",5.617740234375,31.46333312988281],[\"Carrera de noche\",5.05189013671875,0.0],[\"Carrera de noche\",5.00201025390625,45.25249862670898],[\"Carrera de tarde\",6.428490234375,19.983333587646484],[\"Carrera de tarde\",7.45889013671875,42.22999954223633],[\"Carrera de tarde\",7.00597998046875,38.43714141845703],[\"Carrera de noche\",6.99139013671875,25.68857192993164],[\"Carrera de tarde\",5.00793017578125,25.169523239135746],[\"Carrera de ma\\u00f1ana\",6.01502978515625,3.200000047683716],[\"Carrera de ma\\u00f1ana\",6.51081982421875,42.27999877929688],[\"Carrera de noche\",7.40597998046875,40.26737976074219],[\"Carrera nocturna\",7.0354599609375,11.0],[\"Carrera de noche\",4.2146201171875,0.0],[\"Carrera nocturna\",6.22364013671875,45.6205940246582],[\"Carrera de noche\",6.00189013671875,29.418333053588867],[\"Carrera de tarde\",5.08118017578125,33.31666564941406],[\"Carrera de tarde\",5.0627099609375,29.020000457763672],[\"Carrera de noche\",5.00981982421875,25.09749984741211],[\"Carrera de noche\",5.4570498046875,33.14409255981445],[\"Carrera de tarde\",5.109330078125,47.39666748046875],[\"Carrera de ma\\u00f1ana\",5.26781982421875,14.426190376281738],[\"Carrera de noche\",6.67985986328125,0.0]],\"hovertemplate\":\"Activity Name: %{customdata[0]}\\u003cbr\\u003eActivity date: %{x|%Y-%m-%d}\\u003cbr\\u003eDistance (km): %{customdata[1]:.1f}\\u003cbr\\u003eAverage speed (km\\u002fhr): %{y:.1f}\\u003cbr\\u003eElevation gain: %{customdata[2]:.1f}\",\"legendgroup\":\"\",\"marker\":{\"color\":[5.26189990234375,4.28160009765625,2.427300048828125,5.91710009765625,4.1847001953125,4.34489990234375,4.62589990234375,5.6722001953125,4.0145,6.1232998046875,3.78810009765625,1.0075,2.40460009765625,4.55639990234375,2.467300048828125,2.50760009765625,2.80560009765625,4.00439990234375,4.006199951171875,5.57960009765625,4.014199951171875,3.02410009765625,5.24960009765625,5.3345,4.6442998046875,7.51360009765625,4.01710009765625,6.39810009765625,5.8887998046875,5.00860009765625,5.75389990234375,3.005699951171875,6.3685,5.27160009765625,4.7237001953125,5.231,6.7732001953125,4.51010009765625,5.54939990234375,7.83189990234375,5.0135,5.587,4.33060009765625,7.4027998046875,6.2707998046875,2.0145,6.6747001953125,2.0905,1.6144000244140626,4.034300048828125,3.60989990234375,3.006300048828125,3.602800048828125,5.8132998046875,7.0612998046875,3.20489990234375,4.2382998046875,6.7547001953125,5.9035,4.482,7.238,1.7574000244140624,4.25910009765625,3.659090087890625,6.01756982421875,7.80460009765625,6.73714013671875,7.1307900390625,6.463740234375,5.0171298828125,7.60547021484375,6.00280029296875,7.24677001953125,3.00493994140625,5.00194970703125,4.95581982421875,7.27908984375,5.50766015625,5.00268017578125,5.50493994140625,4.54358984375,4.48793017578125,5.15243017578125,5.0237099609375,5.271240234375,5.507240234375,3.64639990234375,1.5916199951171874,5.35966015625,2.638719970703125,1.917010009765625,1.8604100341796874,6.8617197265625,4.61902978515625,6.29531982421875,6.95667041015625,6.85952978515625,6.89702978515625,4.99502001953125,6.04089990234375,6.807330078125,4.81803955078125,4.31889013671875,5.9808701171875,8.0,7.3583798828125,6.256240234375,6.01072021484375,7.0205400390625,7.4926298828125,7.00039990234375,5.5,5.0097099609375,7.039,7.61491015625,5.685080078125,5.05464013671875,8.06251953125,5.00238037109375,4.69847998046875,5.01935986328125,5.35472998046875,6.59608984375,7.77164990234375,8.145099609375,7.87589013671875,5.578740234375,6.6061298828125,7.00481005859375,5.50793994140625,8.01497021484375,6.07510009765625,5.0273798828125,5.617740234375,5.05189013671875,5.00201025390625,6.428490234375,7.45889013671875,7.00597998046875,6.99139013671875,5.00793017578125,6.01502978515625,6.51081982421875,7.40597998046875,7.0354599609375,4.2146201171875,6.22364013671875,6.00189013671875,5.08118017578125,5.0627099609375,5.00981982421875,5.4570498046875,5.109330078125,5.26781982421875,6.67985986328125],\"coloraxis\":\"coloraxis\",\"symbol\":\"circle\"},\"mode\":\"markers\",\"name\":\"\",\"orientation\":\"v\",\"showlegend\":false,\"x\":[\"2018-10-14T18:27:31\",\"2018-10-19T18:11:19\",\"2018-11-02T11:31:16\",\"2018-11-11T19:16:41\",\"2019-01-15T11:37:32\",\"2019-02-01T16:22:36\",\"2019-02-05T19:04:46\",\"2019-02-13T09:02:08\",\"2019-02-28T19:14:32\",\"2019-03-05T19:10:21\",\"2019-04-25T18:32:15\",\"2019-05-08T18:41:09\",\"2019-06-18T18:44:37\",\"2019-09-12T18:02:41\",\"2020-02-05T18:55:03\",\"2020-02-14T19:04:06\",\"2020-05-05T17:59:49\",\"2020-05-07T17:57:18\",\"2020-05-14T17:58:42\",\"2020-08-24T18:04:45\",\"2020-09-19T17:20:02\",\"2020-10-26T19:10:44\",\"2020-11-02T18:59:58\",\"2020-11-11T18:47:41\",\"2020-12-22T16:13:40\",\"2020-12-24T11:56:34\",\"2020-12-28T12:22:30\",\"2020-12-31T11:32:36\",\"2021-02-28T14:42:59\",\"2021-03-29T17:46:47\",\"2021-03-31T17:31:59\",\"2021-04-01T16:08:48\",\"2021-04-09T17:05:05\",\"2021-04-11T16:54:39\",\"2021-04-14T16:57:10\",\"2021-04-23T15:01:14\",\"2021-04-28T16:53:08\",\"2021-05-01T10:08:06\",\"2021-05-10T17:36:13\",\"2021-05-17T17:35:36\",\"2021-05-25T19:13:38\",\"2021-06-12T10:13:05\",\"2021-06-14T15:55:24\",\"2021-06-16T18:35:49\",\"2021-06-20T18:11:25\",\"2021-07-03T06:53:20\",\"2021-07-05T17:18:55\",\"2021-07-06T17:15:25\",\"2021-07-18T18:52:17\",\"2021-07-19T18:35:59\",\"2021-07-20T18:43:25\",\"2021-08-24T10:11:27\",\"2021-08-31T18:38:34\",\"2021-09-01T17:26:43\",\"2021-09-13T17:03:25\",\"2021-09-19T10:29:28\",\"2021-09-26T17:48:44\",\"2021-09-27T16:54:51\",\"2021-10-02T09:21:01\",\"2021-10-03T07:33:46\",\"2021-10-13T16:27:46\",\"2021-10-14T17:33:38\",\"2021-10-18T16:05:08\",\"2021-10-21T17:42:01\",\"2021-11-09T15:39:27\",\"2021-11-16T16:02:00\",\"2021-11-17T15:56:18\",\"2021-11-22T17:50:48\",\"2021-11-24T16:12:23\",\"2021-11-26T15:58:05\",\"2021-11-29T15:56:00\",\"2021-12-07T12:30:16\",\"2021-12-17T15:10:45\",\"2021-12-19T11:25:59\",\"2022-01-04T15:33:11\",\"2022-01-05T15:17:36\",\"2022-01-08T14:59:34\",\"2022-01-09T11:09:13\",\"2022-01-17T16:37:44\",\"2022-01-18T16:37:27\",\"2022-01-20T16:21:20\",\"2022-01-27T16:22:03\",\"2022-01-28T15:23:52\",\"2022-02-01T16:20:10\",\"2022-02-03T16:42:31\",\"2022-02-04T15:38:11\",\"2022-02-07T16:56:57\",\"2022-02-09T17:24:04\",\"2022-02-19T16:10:23\",\"2022-03-02T19:06:06\",\"2022-03-10T23:15:11\",\"2022-03-25T14:33:32\",\"2022-03-28T16:11:42\",\"2022-03-29T17:06:01\",\"2022-04-05T18:07:04\",\"2022-05-31T11:43:27\",\"2022-06-02T15:35:41\",\"2022-06-03T05:14:17\",\"2022-06-15T20:21:06\",\"2022-06-16T07:00:48\",\"2022-07-03T16:12:12\",\"2022-07-11T18:14:39\",\"2022-08-07T17:02:59\",\"2022-09-19T17:31:42\",\"2022-09-30T15:02:38\",\"2022-09-22T11:27:45\",\"2022-10-08T11:02:34\",\"2022-10-11T11:31:28\",\"2022-10-13T16:13:28\",\"2022-10-19T15:46:02\",\"2022-11-03T16:44:06\",\"2022-11-07T12:33:28\",\"2022-11-06T13:44:26\",\"2022-11-18T15:26:24\",\"2022-11-20T10:08:32\",\"2022-12-14T18:09:13\",\"2022-12-13T12:27:34\",\"2022-12-20T17:35:03\",\"2022-12-27T13:21:33\",\"2022-12-31T17:34:21\",\"2023-01-03T17:44:11\",\"2023-01-11T16:47:53\",\"2023-02-02T17:29:36\",\"2023-02-15T18:16:53\",\"2023-02-22T16:59:44\",\"2023-02-23T18:06:59\",\"2023-03-02T12:46:19\",\"2023-03-04T11:02:08\",\"2023-03-04T11:41:22\",\"2023-04-01T16:38:42\",\"2023-03-30T16:22:15\",\"2023-04-01T06:01:41\",\"2023-04-13T16:59:20\",\"2023-04-11T15:27:51\",\"2023-05-04T18:53:45\",\"2023-05-15T16:32:59\",\"2023-05-09T11:41:20\",\"2023-05-25T11:41:27\",\"2023-05-30T11:34:20\",\"2023-06-05T17:14:53\",\"2023-06-06T15:49:22\",\"2023-06-07T04:30:26\",\"2023-06-09T05:30:17\",\"2023-06-09T18:01:20\",\"2023-06-13T19:11:45\",\"2023-06-21T18:18:21\",\"2023-06-25T19:04:29\",\"2023-07-02T17:54:11\",\"2023-07-03T14:52:29\",\"2023-07-05T15:37:29\",\"2023-06-24T17:47:14\",\"2023-06-30T18:19:48\",\"2023-07-26T14:06:03\",\"2023-08-01T07:38:02\",\"2023-08-05T16:55:14\"],\"xaxis\":\"x\",\"y\":[13.321265575553795,12.941864275031488,13.892337322386725,11.940336519934135,14.000855672049257,11.967589631551261,11.802437738084693,11.331809491190343,12.556211989574283,11.928506113027598,14.40038051907339,14.925925925925926,13.236330812786697,10.207243091747044,13.665046424278845,14.420703437000796,11.39972951643623,13.914903135557433,13.50404477923104,12.10033756118223,13.989467400018151,16.03352039994477,12.786576692532138,13.162577107607952,10.75899568653475,13.390574431466582,15.032807018256237,10.589958782327587,9.720164739511693,15.076053805654265,11.029840068390575,13.005432481032152,7.102416356877324,12.601434496389441,10.275118249622357,12.587967914438503,12.29627872068835,11.680834785296762,12.2638671875,13.84815306897716,15.804378283712783,12.079999999999998,7.657249681513997,11.73495345525099,12.833927968661172,16.944392523364485,11.94280353038022,14.528571428571428,16.652836928053368,11.275993925296001,15.34314008079988,16.472876979880137,15.169684416118422,11.014673314144737,12.364143626884728,15.676140826681385,11.957585655858152,11.679596879502881,11.256673728813558,12.068212415856395,11.28,16.871040234375,10.975490588090553,13.055227270967542,11.137918440713369,11.519704941190037,12.765107627467106,13.861146944181964,11.86612179691484,15.81582099660683,11.862951808248484,11.261115713750653,14.056234951676995,16.341063125472054,15.893220604865402,12.890860814441837,13.431431797796002,12.993169438073394,13.83229541690668,13.063799465433423,12.107271234270913,11.104157135953608,13.935949386034935,11.10212146063536,11.295514787946429,13.12115476091992,12.64647364974711,12.537925563286379,14.672833887832702,13.64855157260237,13.220758688038794,15.575525867550871,12.102984329066633,14.510041209914919,10.88005346480437,11.621351961281903,11.108550259362346,12.08238794479927,11.526969275841346,12.983426655783582,11.581468941989604,13.260659314076834,10.700622499784927,10.61169661009118,13.333333333333334,12.602363262666508,11.278149646344517,11.252518342921217,11.582925820634738,10.880785630546592,12.215918394783083,14.102564102564102,13.704373753324468,12.307139388052452,12.834118240870785,11.816563672777136,11.408592158111286,11.504189580856124,12.549525669642856,13.329021221187944,12.419034713273195,10.971558298057767,13.162928734756099,11.111175396520055,13.113756079494635,13.824088002041687,11.588842956578189,11.861380338216957,12.10043964056502,13.827464288049164,11.592564392702892,12.849800441576086,11.227399242013028,10.644139391447368,17.30428591073977,11.933225257828031,12.231799600290698,12.222123118883705,13.225761892861824,13.088405872172387,11.892182475469987,13.408115929760063,14.052129117018884,13.871762710555412,13.008554627311247,17.663134367724098,12.928508073968551,13.31288015538355,13.499814489160515,13.28407861470481,11.321626721398307,12.410220655006317,12.124975795154912,12.394870174632354,12.942677883645048],\"yaxis\":\"y\",\"type\":\"scatter\"},{\"hovertemplate\":\"Activity Name: %{customdata[0]}\\u003cbr\\u003eActivity date: %{x|%Y-%m-%d}\\u003cbr\\u003eDistance (km): %{customdata[1]:.1f}\\u003cbr\\u003eAverage speed (km\\u002fhr): %{y:.1f}\\u003cbr\\u003eElevation gain: %{customdata[2]:.1f}\",\"legendgroup\":\"\",\"line\":{\"color\":\"black\"},\"marker\":{\"symbol\":\"circle\"},\"mode\":\"lines\",\"name\":\"\",\"showlegend\":false,\"x\":[\"2018-10-14T18:27:31\",\"2018-10-19T18:11:19\",\"2018-11-02T11:31:16\",\"2018-11-11T19:16:41\",\"2019-01-15T11:37:32\",\"2019-02-01T16:22:36\",\"2019-02-05T19:04:46\",\"2019-02-13T09:02:08\",\"2019-02-28T19:14:32\",\"2019-03-05T19:10:21\",\"2019-04-25T18:32:15\",\"2019-05-08T18:41:09\",\"2019-06-18T18:44:37\",\"2019-09-12T18:02:41\",\"2020-02-05T18:55:03\",\"2020-02-14T19:04:06\",\"2020-05-05T17:59:49\",\"2020-05-07T17:57:18\",\"2020-05-14T17:58:42\",\"2020-08-24T18:04:45\",\"2020-09-19T17:20:02\",\"2020-10-26T19:10:44\",\"2020-11-02T18:59:58\",\"2020-11-11T18:47:41\",\"2020-12-22T16:13:40\",\"2020-12-24T11:56:34\",\"2020-12-28T12:22:30\",\"2020-12-31T11:32:36\",\"2021-02-28T14:42:59\",\"2021-03-29T17:46:47\",\"2021-03-31T17:31:59\",\"2021-04-01T16:08:48\",\"2021-04-09T17:05:05\",\"2021-04-11T16:54:39\",\"2021-04-14T16:57:10\",\"2021-04-23T15:01:14\",\"2021-04-28T16:53:08\",\"2021-05-01T10:08:06\",\"2021-05-10T17:36:13\",\"2021-05-17T17:35:36\",\"2021-05-25T19:13:38\",\"2021-06-12T10:13:05\",\"2021-06-14T15:55:24\",\"2021-06-16T18:35:49\",\"2021-06-20T18:11:25\",\"2021-07-03T06:53:20\",\"2021-07-05T17:18:55\",\"2021-07-06T17:15:25\",\"2021-07-18T18:52:17\",\"2021-07-19T18:35:59\",\"2021-07-20T18:43:25\",\"2021-08-24T10:11:27\",\"2021-08-31T18:38:34\",\"2021-09-01T17:26:43\",\"2021-09-13T17:03:25\",\"2021-09-19T10:29:28\",\"2021-09-26T17:48:44\",\"2021-09-27T16:54:51\",\"2021-10-02T09:21:01\",\"2021-10-03T07:33:46\",\"2021-10-13T16:27:46\",\"2021-10-14T17:33:38\",\"2021-10-18T16:05:08\",\"2021-10-21T17:42:01\",\"2021-11-09T15:39:27\",\"2021-11-16T16:02:00\",\"2021-11-17T15:56:18\",\"2021-11-22T17:50:48\",\"2021-11-24T16:12:23\",\"2021-11-26T15:58:05\",\"2021-11-29T15:56:00\",\"2021-12-07T12:30:16\",\"2021-12-17T15:10:45\",\"2021-12-19T11:25:59\",\"2022-01-04T15:33:11\",\"2022-01-05T15:17:36\",\"2022-01-08T14:59:34\",\"2022-01-09T11:09:13\",\"2022-01-17T16:37:44\",\"2022-01-18T16:37:27\",\"2022-01-20T16:21:20\",\"2022-01-27T16:22:03\",\"2022-01-28T15:23:52\",\"2022-02-01T16:20:10\",\"2022-02-03T16:42:31\",\"2022-02-04T15:38:11\",\"2022-02-07T16:56:57\",\"2022-02-09T17:24:04\",\"2022-02-19T16:10:23\",\"2022-03-02T19:06:06\",\"2022-03-10T23:15:11\",\"2022-03-25T14:33:32\",\"2022-03-28T16:11:42\",\"2022-03-29T17:06:01\",\"2022-04-05T18:07:04\",\"2022-05-31T11:43:27\",\"2022-06-02T15:35:41\",\"2022-06-03T05:14:17\",\"2022-06-15T20:21:06\",\"2022-06-16T07:00:48\",\"2022-07-03T16:12:12\",\"2022-07-11T18:14:39\",\"2022-08-07T17:02:59\",\"2022-09-19T17:31:42\",\"2022-09-22T11:27:45\",\"2022-09-30T15:02:38\",\"2022-10-08T11:02:34\",\"2022-10-11T11:31:28\",\"2022-10-13T16:13:28\",\"2022-10-19T15:46:02\",\"2022-11-03T16:44:06\",\"2022-11-06T13:44:26\",\"2022-11-07T12:33:28\",\"2022-11-18T15:26:24\",\"2022-11-20T10:08:32\",\"2022-12-13T12:27:34\",\"2022-12-14T18:09:13\",\"2022-12-20T17:35:03\",\"2022-12-27T13:21:33\",\"2022-12-31T17:34:21\",\"2023-01-03T17:44:11\",\"2023-01-11T16:47:53\",\"2023-02-02T17:29:36\",\"2023-02-15T18:16:53\",\"2023-02-22T16:59:44\",\"2023-02-23T18:06:59\",\"2023-03-02T12:46:19\",\"2023-03-04T11:02:08\",\"2023-03-04T11:41:22\",\"2023-03-30T16:22:15\",\"2023-04-01T06:01:41\",\"2023-04-01T16:38:42\",\"2023-04-11T15:27:51\",\"2023-04-13T16:59:20\",\"2023-05-04T18:53:45\",\"2023-05-09T11:41:20\",\"2023-05-15T16:32:59\",\"2023-05-25T11:41:27\",\"2023-05-30T11:34:20\",\"2023-06-05T17:14:53\",\"2023-06-06T15:49:22\",\"2023-06-07T04:30:26\",\"2023-06-09T05:30:17\",\"2023-06-09T18:01:20\",\"2023-06-13T19:11:45\",\"2023-06-21T18:18:21\",\"2023-06-24T17:47:14\",\"2023-06-25T19:04:29\",\"2023-06-30T18:19:48\",\"2023-07-02T17:54:11\",\"2023-07-03T14:52:29\",\"2023-07-05T15:37:29\",\"2023-07-26T14:06:03\",\"2023-08-01T07:38:02\",\"2023-08-05T16:55:14\"],\"xaxis\":\"x\",\"y\":[12.913055654646612,12.912368865703359,12.910479765898348,12.909196263055113,12.900291768783946,12.897924167519212,12.897357993824683,12.896314266728144,12.894190706673143,12.89350276890701,12.88648536678922,12.884694837899318,12.879050137312161,12.867214737748867,12.84711027043669,12.845870397368886,12.834725472223631,12.834450377741918,12.833486571114156,12.819443903576344,12.815868822543582,12.810764540348567,12.809801896884053,12.80856406333537,12.802934418542094,12.802683662853008,12.80213051340011,12.80172228134095,12.793581695329772,12.789571764919957,12.789297844755113,12.78916812974569,12.7880614085957,12.787787070966786,12.787373827745414,12.78614590339158,12.78544686777336,12.785072587334055,12.783790738413357,12.782827124583887,12.781716412031244,12.779290074209221,12.778982012812978,12.778691341503984,12.77814300404151,12.7764181524474,12.77608301006134,12.775945677129329,12.774284405950418,12.77414829672988,12.77400991854432,12.76924049989486,12.768228345510328,12.768097547006374,12.766447764056258,12.765659421401185,12.764653753643481,12.764521237482017,12.763876287361466,12.763748873184552,12.762321146065403,12.762177181509502,12.761634972164634,12.761212707257902,12.758608741660876,12.75764291304111,12.757505790434509,12.756806506249895,12.756540580043978,12.756266612077905,12.755853808627842,12.754772136915422,12.753380118907995,12.753126272072741,12.750899958495063,12.750763780759428,12.750352502168584,12.750236856654343,12.749104109328329,12.748966468875075,12.7486926745868,12.747728933287387,12.747596828216494,12.747040775635599,12.746763303839412,12.746631786723642,12.746211253814788,12.745933326313548,12.744563695215213,12.743032553323047,12.741907400019008,12.739892257932366,12.739469870335814,12.739327009988312,12.738357500673885,12.730684793095886,12.730387255936979,12.730308995764236,12.728570291373853,12.728509134480984,12.726116071094731,12.72500302424872,12.721292852161605,12.715370402531132,12.714992194424147,12.713870310724197,12.71279192136286,12.712376155829952,12.712073860855348,12.711250478305764,12.709179913880403,12.708784087833642,12.70865320488085,12.707122329082193,12.70687738283585,12.703697737473142,12.703527407352489,12.702704668526128,12.701765230965105,12.701190392501061,12.700776449788368,12.699680491881859,12.69664781777238,12.694853619341433,12.693897322286807,12.693753225480839,12.692820209218295,12.69255483431989,12.692551083516758,12.688944874323424,12.688728866941348,12.688667966581743,12.687298064609775,12.68701398349694,12.684112026629325,12.683465029022782,12.682611141321983,12.681262337219291,12.680574679887037,12.679716117226004,12.679586625288984,12.67951386544437,12.679232808555978,12.679161006329325,12.678603604160386,12.677507369006747,12.677097341214738,12.676952288384182,12.67626822251763,12.675995336452715,12.675875039878854,12.675595402686977,12.672713125585497,12.671924215689168,12.67132027583668],\"yaxis\":\"y\",\"type\":\"scatter\"},{\"customdata\":[[\"Atletismo al anochecer\",8.752599609375,98.2482681274414],[\"Atletismo al anochecer\",11.1107001953125,125.0374526977539],[\"Atletismo al anochecer\",9.1207998046875,81.48837280273438],[\"Atletismo al anochecer\",10.016400390625,100.79295349121094],[\"Carrera de noche\",10.0062001953125,109.58441162109376],[\"Carrera de tarde\",11.287099609375,120.94450378417967],[\"Carrera de noche\",11.085599609375,126.68578338623048],[\"Carrera de tarde\",12.279,28.867143630981445],[\"Carrera de noche\",14.1662998046875,54.02000045776367],[\"Carrera de noche\",12.0237001953125,47.61333465576172],[\"Carrera de noche\",13.865900390625,610.6956787109375],[\"Carrera de noche\",9.137900390625,61.18000030517578],[\"Carrera de noche\",9.1898603515625,40.13846206665039],[\"Carrera de tarde\",9.39555078125,67.22190856933594],[\"Carrera de tarde\",9.095470703125,88.49571228027344],[\"Carrera de tarde\",8.501900390625,48.18505096435547],[\"Carrera de tarde\",8.903669921875,64.63333129882812],[\"Carrera de tarde\",10.082830078125,65.03904724121094],[\"Carrera de tarde\",9.41344921875,47.21833419799805],[\"Carrera de tarde\",10.087330078125,59.377777099609375],[\"Carrera de tarde\",10.0353798828125,63.1678581237793],[\"Carrera de ma\\u00f1ana\",15.2812197265625,32.62190628051758],[\"Carrera de tarde\",8.84825,54.8466682434082],[\"Carrera de tarde\",10.6041396484375,79.73238372802734],[\"Carrera de tarde\",9.99975,52.68000030517578],[\"Carrera de noche\",10.3025,30.691429138183597],[\"Carrera de noche\",12.0375400390625,46.71666717529297],[\"Carrera a la hora del almuerzo\",12.5001494140625,63.18381118774414],[\"Carrera de noche\",10.4987197265625,51.12333297729492],[\"Carrera de tarde\",11.31891015625,52.9900016784668],[\"Carrera de noche\",12.0341796875,40.72666549682617],[\"Carrera de noche\",10.0095,151.10848999023438],[\"Carrera a la hora del almuerzo\",9.046900390625,32.18589782714844],[\"Carrera de noche\",15.097310546875,44.43169021606445],[\"Carrera de ma\\u00f1ana\",15.02058984375,53.185001373291016],[\"Carrera de noche\",11.54541015625,34.81999969482422],[\"Carrera de ma\\u00f1ana\",9.003400390625,65.48619079589844],[\"Carrera de noche\",10.04475,66.87666320800781],[\"Carrera de noche\",8.6536396484375,66.15523529052734],[\"Carrera de ma\\u00f1ana\",12.50441015625,70.30500030517578],[\"Carrera de noche\",11.6324599609375,55.40999984741211],[\"Carrera de noche\",10.607669921875,62.24333190917969],[\"Carrera de ma\\u00f1ana\",13.1060400390625,69.33333587646484],[\"Carrera de tarde\",10.0191796875,32.82857131958008],[\"Carrera de noche\",13.5081103515625,51.31416702270508],[\"Carrera de ma\\u00f1ana\",11.5037998046875,69.12999725341797],[\"Carrera de tarde\",9.0339501953125,42.17761993408203],[\"Carrera de noche\",10.5,null],[\"Carrera de noche\",10.3778896484375,55.829193115234375],[\"Carrera de tarde\",9.0028798828125,46.23301696777344],[\"Carrera de ma\\u00f1ana\",12.5199404296875,64.62000274658203],[\"Carrera de tarde\",10.008330078125,3.220000028610229],[\"Carrera de noche\",10.0071103515625,59.58000183105469],[\"Carrera de tarde\",10.501009765625,42.54666519165039],[\"Carrera a la hora del almuerzo\",12.0045498046875,29.763334274291992],[\"Carrera de noche\",11.5725595703125,31.08623313903809],[\"Carrera de noche\",11.522169921875,36.52888870239258],[\"Carrera a la hora del almuerzo\",11.0026904296875,30.286666870117188],[\"Carrera de tarde\",10.44033984375,58.51333236694336],[\"Carrera de noche\",10.01833984375,7.12333345413208],[\"Carrera de tarde\",8.882,43.13999938964844],[\"Carrera de noche\",10.262759765625,64.16952514648438],[\"Carrera a la hora del almuerzo\",10.707349609375,73.2646484375],[\"Carrera a la hora del almuerzo\",13.0004296875,73.48628234863281],[\"Carrera de tarde\",10.8998095703125,60.59066009521485],[\"Carrera de ma\\u00f1ana\",11.0800498046875,436.3106994628906],[\"Carrera nocturna\",11.015259765625,77.67361450195312],[\"Carrera de noche\",9.3242099609375,10.68333339691162],[\"Carrera a la hora del almuerzo\",13.5041494140625,29.75428581237793],[\"Carrera de ma\\u00f1ana\",14.0033896484375,19.492143630981445],[\"Carrera de tarde\",13.5028896484375,43.119998931884766],[\"Carrera de noche\",10.1132705078125,14.039047241210938],[\"Carrera de tarde\",11.44308984375,48.47999954223633],[\"Carrera de tarde\",8.71076953125,50.45428466796875],[\"Carrera de tarde\",10.1538701171875,42.08000183105469],[\"Carrera a la hora del almuerzo\",14.333970703125,12.489999771118164],[\"Carrera de tarde\",10.017220703125,0.0],[\"Carrera de noche\",12.018169921875,10.876667022705078],[\"Carrera de tarde\",10.0181396484375,0.0],[\"Carrera de noche\",10.1387099609375,0.0],[\"Carrera a la hora del almuerzo\",13.016,52.43571472167969],[\"Carrera de tarde\",13.6032900390625,0.0],[\"Carrera de tarde\",10.248240234375,12.949999809265137],[\"Carrera de noche\",10.53925,9.276666641235352],[\"Carrera de tarde\",10.0073603515625,43.84222412109375],[\"Carrera de tarde\",12.0687802734375,27.94253921508789],[\"Carrera de noche\",12.426689453125,33.189842224121094],[\"Carrera de ma\\u00f1ana\",10.0,null],[\"Carrera de tarde\",10.4680595703125,44.345001220703125],[\"Carrera de noche\",9.998259765625,9.119999885559082],[\"Carrera de noche\",9.1124404296875,56.36158752441406],[\"Carrera de tarde\",10.656779296875,63.15285873413086],[\"Carrera de tarde\",10.0132001953125,0.0],[\"Carrera de tarde\",10.03425,25.98785781860352],[\"Carrera a la hora del almuerzo\",14.0075703125,28.6200008392334],[\"Carrera de noche\",8.308919921875,31.25333404541016],[\"Carrera de tarde\",10.006,28.70916748046875],[\"Carrera de tarde\",10.00416015625,6.385714054107666],[\"Carrera de ma\\u00f1ana\",13.00323046875,59.02333450317383],[\"Carrera de noche\",8.638490234375,52.060001373291016],[\"Carrera de noche\",12.676,87.95999908447266],[\"Carrera de ma\\u00f1ana\",13.0088095703125,56.18999862670898],[\"Carrera de ma\\u00f1ana\",10.0676201171875,52.4477767944336],[\"Carrera de tarde\",10.0649404296875,20.280000686645508],[\"Carrera de tarde\",9.8713505859375,63.36333465576172],[\"Carrera de noche\",11.00308984375,14.65333366394043],[\"Carrera nocturna\",9.749240234375,0.0],[\"Carrera de noche\",9.5205400390625,0.0],[\"Carrera de tarde\",10.04441015625,27.049091339111328],[\"Carrera de tarde\",12.18098046875,23.16428565979004],[\"Carrera de tarde\",9.5728095703125,0.0],[\"Carrera de ma\\u00f1ana\",9.2334697265625,0.0],[\"Carrera de noche\",12.5121796875,24.8125],[\"Carrera de noche\",11.0155302734375,373.9812622070313],[\"Carrera de noche\",12.5198203125,6.833333492279053],[\"Carrera de tarde\",10.0055703125,24.24333381652832],[\"Carrera de noche\",10.0026201171875,34.84000015258789],[\"Carrera a la hora del almuerzo\",13.568400390625,384.7000122070313],[\"Carrera nocturna\",8.501130859375,43.658573150634766],[\"Carrera de noche\",9.6349296875,22.8700008392334],[\"Carrera nocturna\",9.9971796875,13.039999961853027],[\"Carrera de noche\",10.0079599609375,23.46571350097656],[\"Carrera de noche\",15.050919921875,42.18833160400391],[\"Carrera de noche\",10.001609375,43.33631134033203],[\"Carrera de ma\\u00f1ana\",8.50376953125,65.25428771972656]],\"hovertemplate\":\"Activity Name: %{customdata[0]}\\u003cbr\\u003eActivity date: %{x|%Y-%m-%d}\\u003cbr\\u003eDistance (km): %{customdata[1]:.1f}\\u003cbr\\u003eAverage speed (km\\u002fhr): %{y:.1f}\\u003cbr\\u003eElevation gain: %{customdata[2]:.1f}\",\"legendgroup\":\"\",\"marker\":{\"color\":[8.752599609375,11.1107001953125,9.1207998046875,10.016400390625,10.0062001953125,11.287099609375,11.085599609375,12.279,14.1662998046875,12.0237001953125,13.865900390625,9.137900390625,9.1898603515625,9.39555078125,9.095470703125,8.501900390625,8.903669921875,10.082830078125,9.41344921875,10.087330078125,10.0353798828125,15.2812197265625,8.84825,10.6041396484375,9.99975,10.3025,12.0375400390625,12.5001494140625,10.4987197265625,11.31891015625,12.0341796875,10.0095,9.046900390625,15.097310546875,15.02058984375,11.54541015625,9.003400390625,10.04475,8.6536396484375,12.50441015625,11.6324599609375,10.607669921875,13.1060400390625,10.0191796875,13.5081103515625,11.5037998046875,9.0339501953125,10.5,10.3778896484375,9.0028798828125,12.5199404296875,10.008330078125,10.0071103515625,10.501009765625,12.0045498046875,11.5725595703125,11.522169921875,11.0026904296875,10.44033984375,10.01833984375,8.882,10.262759765625,10.707349609375,13.0004296875,10.8998095703125,11.0800498046875,11.015259765625,9.3242099609375,13.5041494140625,14.0033896484375,13.5028896484375,10.1132705078125,11.44308984375,8.71076953125,10.1538701171875,14.333970703125,10.017220703125,12.018169921875,10.0181396484375,10.1387099609375,13.016,13.6032900390625,10.248240234375,10.53925,10.0073603515625,12.0687802734375,12.426689453125,10.0,10.4680595703125,9.998259765625,9.1124404296875,10.656779296875,10.0132001953125,10.03425,14.0075703125,8.308919921875,10.006,10.00416015625,13.00323046875,8.638490234375,12.676,13.0088095703125,10.0676201171875,10.0649404296875,9.8713505859375,11.00308984375,9.749240234375,9.5205400390625,10.04441015625,12.18098046875,9.5728095703125,9.2334697265625,12.5121796875,11.0155302734375,12.5198203125,10.0055703125,10.0026201171875,13.568400390625,8.501130859375,9.6349296875,9.9971796875,10.0079599609375,15.050919921875,10.001609375,8.50376953125],\"coloraxis\":\"coloraxis\",\"symbol\":\"circle\"},\"mode\":\"markers\",\"name\":\"\",\"orientation\":\"v\",\"showlegend\":false,\"x\":[\"2018-10-17T17:05:02\",\"2018-11-07T19:13:43\",\"2019-03-20T17:57:36\",\"2019-05-16T18:09:32\",\"2021-03-15T18:15:20\",\"2021-04-16T15:35:46\",\"2021-04-19T17:05:10\",\"2021-04-21T15:06:10\",\"2021-04-26T16:55:22\",\"2021-05-03T16:25:36\",\"2021-06-09T16:58:05\",\"2021-09-14T17:09:02\",\"2021-10-25T16:35:10\",\"2021-11-02T16:02:25\",\"2021-11-03T15:32:53\",\"2021-11-05T15:31:42\",\"2021-11-08T15:52:43\",\"2021-11-10T15:51:24\",\"2021-11-12T15:23:27\",\"2021-11-15T15:41:10\",\"2021-11-19T15:33:32\",\"2021-12-05T09:54:44\",\"2021-12-14T15:28:31\",\"2021-12-15T15:09:54\",\"2022-01-21T15:39:58\",\"2022-02-25T17:55:26\",\"2022-02-28T17:29:08\",\"2022-03-26T10:07:58\",\"2022-04-04T17:34:08\",\"2022-04-22T14:13:28\",\"2022-05-12T17:36:43\",\"2022-05-25T16:14:54\",\"2022-06-05T09:57:48\",\"2022-06-07T16:52:44\",\"2022-06-11T06:15:03\",\"2022-06-14T17:56:14\",\"2022-07-09T06:59:38\",\"2022-08-29T17:42:33\",\"2022-08-30T16:52:57\",\"2022-09-03T07:49:29\",\"2022-09-05T17:44:43\",\"2022-09-08T16:00:29\",\"2022-09-10T07:59:47\",\"2022-09-12T15:23:45\",\"2022-09-14T17:09:26\",\"2022-09-18T08:32:00\",\"2022-09-21T14:37:39\",\"2022-09-25T17:00:07\",\"2022-10-06T17:01:59\",\"2022-10-10T15:23:15\",\"2022-10-15T07:59:02\",\"2022-10-26T11:29:33\",\"2022-10-27T16:46:11\",\"2022-11-02T16:03:30\",\"2022-11-05T10:42:59\",\"2022-11-09T18:04:53\",\"2022-11-10T17:55:48\",\"2022-11-12T10:00:34\",\"2022-11-15T12:29:43\",\"2022-11-16T18:01:55\",\"2022-11-23T12:22:23\",\"2022-11-30T17:55:17\",\"2022-12-03T11:29:44\",\"2022-12-06T10:45:42\",\"2022-12-08T15:24:56\",\"2023-02-04T09:17:02\",\"2022-12-03T00:35:32\",\"2022-12-02T18:54:39\",\"2022-12-18T10:20:28\",\"2022-12-17T09:55:54\",\"2022-12-23T15:37:32\",\"2022-12-21T17:37:19\",\"2022-12-29T12:02:08\",\"2023-01-07T15:06:24\",\"2023-01-04T12:03:45\",\"2023-01-14T10:16:43\",\"2023-01-09T16:45:33\",\"2023-01-12T18:04:06\",\"2023-01-16T16:26:39\",\"2023-01-26T17:15:31\",\"2023-01-22T11:00:02\",\"2023-01-25T16:16:43\",\"2023-01-31T12:38:28\",\"2023-02-06T19:00:35\",\"2023-01-23T12:32:18\",\"2023-02-08T12:30:16\",\"2023-02-01T17:45:03\",\"2022-11-27T08:15:47\",\"2023-03-01T12:36:23\",\"2023-03-09T17:16:24\",\"2023-03-07T17:14:09\",\"2023-03-06T16:35:46\",\"2023-03-14T16:31:23\",\"2023-03-15T16:28:45\",\"2023-03-19T11:52:03\",\"2023-03-23T18:10:28\",\"2023-03-21T12:33:45\",\"2023-03-28T11:33:29\",\"2023-03-26T08:09:43\",\"2023-04-03T16:16:52\",\"2023-04-05T16:30:06\",\"2023-04-08T07:25:56\",\"2023-04-16T06:52:54\",\"2023-04-19T11:32:48\",\"2023-04-17T15:44:46\",\"2023-04-21T16:28:10\",\"2023-04-27T19:18:00\",\"2023-04-24T18:15:16\",\"2023-04-25T15:14:41\",\"2023-05-02T11:33:44\",\"2023-05-18T15:19:31\",\"2023-05-17T04:42:46\",\"2023-05-10T16:41:26\",\"2023-05-11T16:16:42\",\"2023-05-28T18:00:57\",\"2023-05-22T11:27:20\",\"2023-05-31T16:35:36\",\"2023-06-04T09:05:25\",\"2023-06-12T19:11:00\",\"2023-06-14T16:44:08\",\"2023-06-29T19:22:21\",\"2023-07-11T17:33:51\",\"2023-07-10T17:14:48\",\"2023-07-27T17:24:40\",\"2023-07-31T06:50:29\"],\"xaxis\":\"x2\",\"y\":[12.02188424027089,10.804570692362237,11.48474267116999,11.465513960651828,13.18532968635615,12.158455593581687,11.574291935542345,11.876518001074691,11.556464830472468,11.502875552252194,9.292114930426285,11.799297491481347,13.492454023501223,11.528283167177914,11.476934641167194,12.477309990317977,11.529932272931655,12.848916205752213,13.837655037770517,11.929825322355454,13.689794459312239,11.37559781133685,11.71522618609783,11.495002328929539,13.719169207317073,12.922996515679442,11.931482417572962,12.10017152208255,12.125566575433108,11.977682705026456,13.06485128920386,10.429580318379159,13.001533495508982,11.348991014564628,11.674033557318653,12.765195504453317,11.184348311335404,11.254621848739497,11.015948633088755,11.927895220588235,11.60666736678908,12.475534700669716,11.783652382773475,11.657739778603748,12.304958822273534,12.180493910845588,13.166890972925101,12.6,11.307627946239407,13.021441373292486,11.920599192508595,11.611340084192719,12.105375425277218,11.507955907534246,13.458853720608845,12.366047626335709,12.814276094763668,14.166554201314378,11.578935131700554,14.300564408207771,12.326599845797995,11.42775600255181,12.650626384558581,11.785834015361372,12.122123711190918,9.354638671875,12.212791855943948,12.64299655720339,11.814079681804374,12.410685065084932,12.832735674333422,12.924307358226837,12.456946911853644,12.17816322815534,11.879731043833278,13.077114681006083,11.878127315958498,13.094858268386803,11.797612932409226,11.869709222560976,13.074107142857143,12.020580299613403,11.579932468220338,13.933639368343737,12.405818617639463,12.9733081470215,12.734438380657558,15.15151515151515,11.59895797264543,13.24760219221568,11.60820436902866,11.458902469758064,12.516500244140625,10.747783397798274,13.811901705012327,11.540166558159724,13.29700996677741,14.195891431809223,12.453213537509976,11.333296225856413,12.729037656903765,13.814665030420354,15.952214974416815,12.311853736620796,11.210366596017352,12.363022296348316,12.027849500942425,10.985238506610576,11.346054773297773,12.554116715574006,12.820727103097099,12.682369712180465,12.134657024515086,10.449514883893281,13.132678649475524,12.528714130434782,12.657093997144115,9.109705596092876,12.635867503612715,12.752112821691176,12.789568896588486,12.363986224905629,12.58613512630662,13.928740328820115,13.027051196808511],\"yaxis\":\"y2\",\"type\":\"scatter\"},{\"hovertemplate\":\"Activity Name: %{customdata[0]}\\u003cbr\\u003eActivity date: %{x|%Y-%m-%d}\\u003cbr\\u003eDistance (km): %{customdata[1]:.1f}\\u003cbr\\u003eAverage speed (km\\u002fhr): %{y:.1f}\\u003cbr\\u003eElevation gain: %{customdata[2]:.1f}\",\"legendgroup\":\"\",\"line\":{\"color\":\"black\"},\"marker\":{\"symbol\":\"circle\"},\"mode\":\"lines\",\"name\":\"\",\"showlegend\":false,\"x\":[\"2018-10-17T17:05:02\",\"2018-11-07T19:13:43\",\"2019-03-20T17:57:36\",\"2019-05-16T18:09:32\",\"2021-03-15T18:15:20\",\"2021-04-16T15:35:46\",\"2021-04-19T17:05:10\",\"2021-04-21T15:06:10\",\"2021-04-26T16:55:22\",\"2021-05-03T16:25:36\",\"2021-06-09T16:58:05\",\"2021-09-14T17:09:02\",\"2021-10-25T16:35:10\",\"2021-11-02T16:02:25\",\"2021-11-03T15:32:53\",\"2021-11-05T15:31:42\",\"2021-11-08T15:52:43\",\"2021-11-10T15:51:24\",\"2021-11-12T15:23:27\",\"2021-11-15T15:41:10\",\"2021-11-19T15:33:32\",\"2021-12-05T09:54:44\",\"2021-12-14T15:28:31\",\"2021-12-15T15:09:54\",\"2022-01-21T15:39:58\",\"2022-02-25T17:55:26\",\"2022-02-28T17:29:08\",\"2022-03-26T10:07:58\",\"2022-04-04T17:34:08\",\"2022-04-22T14:13:28\",\"2022-05-12T17:36:43\",\"2022-05-25T16:14:54\",\"2022-06-05T09:57:48\",\"2022-06-07T16:52:44\",\"2022-06-11T06:15:03\",\"2022-06-14T17:56:14\",\"2022-07-09T06:59:38\",\"2022-08-29T17:42:33\",\"2022-08-30T16:52:57\",\"2022-09-03T07:49:29\",\"2022-09-05T17:44:43\",\"2022-09-08T16:00:29\",\"2022-09-10T07:59:47\",\"2022-09-12T15:23:45\",\"2022-09-14T17:09:26\",\"2022-09-18T08:32:00\",\"2022-09-21T14:37:39\",\"2022-09-25T17:00:07\",\"2022-10-06T17:01:59\",\"2022-10-10T15:23:15\",\"2022-10-15T07:59:02\",\"2022-10-26T11:29:33\",\"2022-10-27T16:46:11\",\"2022-11-02T16:03:30\",\"2022-11-05T10:42:59\",\"2022-11-09T18:04:53\",\"2022-11-10T17:55:48\",\"2022-11-12T10:00:34\",\"2022-11-15T12:29:43\",\"2022-11-16T18:01:55\",\"2022-11-23T12:22:23\",\"2022-11-27T08:15:47\",\"2022-11-30T17:55:17\",\"2022-12-02T18:54:39\",\"2022-12-03T00:35:32\",\"2022-12-03T11:29:44\",\"2022-12-06T10:45:42\",\"2022-12-08T15:24:56\",\"2022-12-17T09:55:54\",\"2022-12-18T10:20:28\",\"2022-12-21T17:37:19\",\"2022-12-23T15:37:32\",\"2022-12-29T12:02:08\",\"2023-01-04T12:03:45\",\"2023-01-07T15:06:24\",\"2023-01-09T16:45:33\",\"2023-01-12T18:04:06\",\"2023-01-14T10:16:43\",\"2023-01-16T16:26:39\",\"2023-01-22T11:00:02\",\"2023-01-23T12:32:18\",\"2023-01-25T16:16:43\",\"2023-01-26T17:15:31\",\"2023-01-31T12:38:28\",\"2023-02-01T17:45:03\",\"2023-02-04T09:17:02\",\"2023-02-06T19:00:35\",\"2023-02-08T12:30:16\",\"2023-03-01T12:36:23\",\"2023-03-06T16:35:46\",\"2023-03-07T17:14:09\",\"2023-03-09T17:16:24\",\"2023-03-14T16:31:23\",\"2023-03-15T16:28:45\",\"2023-03-19T11:52:03\",\"2023-03-21T12:33:45\",\"2023-03-23T18:10:28\",\"2023-03-26T08:09:43\",\"2023-03-28T11:33:29\",\"2023-04-03T16:16:52\",\"2023-04-05T16:30:06\",\"2023-04-08T07:25:56\",\"2023-04-16T06:52:54\",\"2023-04-17T15:44:46\",\"2023-04-19T11:32:48\",\"2023-04-21T16:28:10\",\"2023-04-24T18:15:16\",\"2023-04-25T15:14:41\",\"2023-04-27T19:18:00\",\"2023-05-02T11:33:44\",\"2023-05-10T16:41:26\",\"2023-05-11T16:16:42\",\"2023-05-17T04:42:46\",\"2023-05-18T15:19:31\",\"2023-05-22T11:27:20\",\"2023-05-28T18:00:57\",\"2023-05-31T16:35:36\",\"2023-06-04T09:05:25\",\"2023-06-12T19:11:00\",\"2023-06-14T16:44:08\",\"2023-06-29T19:22:21\",\"2023-07-10T17:14:48\",\"2023-07-11T17:33:51\",\"2023-07-27T17:24:40\",\"2023-07-31T06:50:29\"],\"xaxis\":\"x2\",\"y\":[11.339918191049296,11.353628755120853,11.440060017212106,11.477122101839575,11.912053322935693,11.93278504306,11.934775756998881,11.936022266996897,11.939322155036555,11.943859538713625,11.967928551206942,12.030994891593508,12.057634418990917,12.06282057327368,12.0634573573381,12.064757058083284,12.066716898965774,12.068016539514895,12.069304155900204,12.071262506930106,12.073859530675941,12.084108452359011,12.0901102031147,12.090751915731872,12.114819837171524,12.13763510861462,12.139573587418852,12.156277468499951,12.162329957013194,12.173941476803957,12.187035588031755,12.19545017762605,12.202431220526563,12.203918785663395,12.206231360432684,12.208498276487326,12.224454778285178,12.257901028305882,12.25852875286265,12.260883863675756,12.262452828940312,12.264356123145056,12.265439336270099,12.266940009099896,12.268287956990482,12.270654821085108,12.272770253744364,12.275435043209395,12.282587178373188,12.285143073158205,12.288193109909175,12.295439444388826,12.296232512484751,12.30011394717548,12.301919595839696,12.304719570615754,12.305365587251512,12.306451268415183,12.308468957715302,12.309269053701714,12.31366658687279,12.316155724222684,12.318367703844299,12.319694741127106,12.31984863988957,12.320143991878233,12.322074464605933,12.323500765198496,12.329203273794874,12.329864482412319,12.33201205976982,12.333258216115958,12.337061674330114,12.340963109163152,12.342995922724386,12.344340921007829,12.346326736491992,12.347415961698939,12.348883210664127,12.352636457836288,12.353328231005294,12.35472978349099,12.3554064474479,12.358531955014275,12.359320485831866,12.361041483780895,12.36260517436533,12.363729192897345,12.377384421736949,12.380743083708724,12.381410530143313,12.38271178093715,12.38594204470413,12.386590973324491,12.389066521412907,12.390385582717219,12.39183783533793,12.393516966924356,12.394909196544619,12.398937840710184,12.400244050154804,12.401948727445944,12.40713475381207,12.408024993404519,12.40921147287758,12.410645057193902,12.412643762160297,12.413212351608564,12.41462243688635,12.417663421654177,12.423003279062192,12.423642230184923,12.427229644724907,12.428167236046306,12.430662882095634,12.434741293357222,12.43665311282955,12.439050338314022,12.444524681253817,12.445758610274428,12.45558180281843,12.462675510177476,12.463334228182765,12.473731962060878,12.476046116976848],\"yaxis\":\"y2\",\"type\":\"scatter\"},{\"customdata\":[[\"Atletismo al anochecer\",21.2065,137.08749389648438],[\"Carrera a la hora del almuerzo\",21.52469921875,88.20047760009766],[\"Carrera de tarde\",15.6086201171875,123.82809448242188],[\"Carrera de noche\",19.5945,153.17393493652344],[\"Carrera a la hora del almuerzo\",20.65241015625,92.6114273071289],[\"Carrera de noche\",15.5667001953125,39.06571578979492],[\"Media marat\\u00f3n bilbao\",21.1,null],[\"Carrera de ma\\u00f1ana\",18.02669921875,70.63714599609375],[\"Media marat\\u00f3n Barcelona \",21.1,0.0],[\"Carrera de ma\\u00f1ana\",18.0086796875,36.611427307128906],[\"Carrera de tarde\",17.53419921875,37.17250061035156]],\"hovertemplate\":\"Activity Name: %{customdata[0]}\\u003cbr\\u003eActivity date: %{x|%Y-%m-%d}\\u003cbr\\u003eDistance (km): %{customdata[1]:.1f}\\u003cbr\\u003eAverage speed (km\\u002fhr): %{y:.1f}\\u003cbr\\u003eElevation gain: %{customdata[2]:.1f}\",\"legendgroup\":\"\",\"marker\":{\"color\":[21.2065,21.52469921875,15.6086201171875,19.5945,20.65241015625,15.5667001953125,21.1,18.02669921875,21.1,18.0086796875,17.53419921875],\"coloraxis\":\"coloraxis\",\"symbol\":\"circle\"},\"mode\":\"markers\",\"name\":\"\",\"orientation\":\"v\",\"showlegend\":false,\"x\":[\"2019-06-06T17:39:16\",\"2021-05-22T09:34:09\",\"2021-10-30T15:10:20\",\"2022-06-25T16:42:45\",\"2022-10-02T09:56:02\",\"2022-10-05T16:56:08\",\"2022-10-22T17:00:10\",\"2023-02-11T09:52:38\",\"2023-02-19T07:30:06\",\"2023-06-11T08:29:34\",\"2023-06-20T14:28:36\"],\"xaxis\":\"x3\",\"y\":[11.684022038567493,12.21837230960265,12.094496862220192,12.49826364280652,11.45235313655268,12.55097888087906,12.349211510323526,12.22609592831575,14.775335537833106,13.153022291539866,12.487263538575668],\"yaxis\":\"y3\",\"type\":\"scatter\"},{\"hovertemplate\":\"Activity Name: %{customdata[0]}\\u003cbr\\u003eActivity date: %{x|%Y-%m-%d}\\u003cbr\\u003eDistance (km): %{customdata[1]:.1f}\\u003cbr\\u003eAverage speed (km\\u002fhr): %{y:.1f}\\u003cbr\\u003eElevation gain: %{customdata[2]:.1f}\",\"legendgroup\":\"\",\"line\":{\"color\":\"black\"},\"marker\":{\"symbol\":\"circle\"},\"mode\":\"lines\",\"name\":\"\",\"showlegend\":false,\"x\":[\"2019-06-06T17:39:16\",\"2021-05-22T09:34:09\",\"2021-10-30T15:10:20\",\"2022-06-25T16:42:45\",\"2022-10-02T09:56:02\",\"2022-10-05T16:56:08\",\"2022-10-22T17:00:10\",\"2023-02-11T09:52:38\",\"2023-02-19T07:30:06\",\"2023-06-11T08:29:34\",\"2023-06-20T14:28:36\"],\"xaxis\":\"x3\",\"y\":[11.491978707158733,12.151980733550989,12.300674174296596,12.520222781878367,12.61126252811182,12.614298247660479,12.629978646517053,12.732993979001634,12.74028049151703,12.843607715189602,12.852137672333807],\"yaxis\":\"y3\",\"type\":\"scatter\"},{\"customdata\":[[\"Carrera de ma\\u00f1ana\",30.00905078125,149.42572021484375],[\"Carrera de ma\\u00f1ana\",26.377279296875,1268.1348876953125]],\"hovertemplate\":\"Activity Name: %{customdata[0]}\\u003cbr\\u003eActivity date: %{x|%Y-%m-%d}\\u003cbr\\u003eDistance (km): %{customdata[1]:.1f}\\u003cbr\\u003eAverage speed (km\\u002fhr): %{y:.1f}\\u003cbr\\u003eElevation gain: %{customdata[2]:.1f}\",\"legendgroup\":\"\",\"marker\":{\"color\":[30.00905078125,26.377279296875],\"coloraxis\":\"coloraxis\",\"symbol\":\"circle\"},\"mode\":\"markers\",\"name\":\"\",\"orientation\":\"v\",\"showlegend\":false,\"x\":[\"2023-05-06T07:22:12\",\"2023-07-23T06:00:29\"],\"xaxis\":\"x4\",\"y\":[11.03724793752554,7.8129180079603415],\"yaxis\":\"y4\",\"type\":\"scatter\"},{\"hovertemplate\":\"Activity Name: %{customdata[0]}\\u003cbr\\u003eActivity date: %{x|%Y-%m-%d}\\u003cbr\\u003eDistance (km): %{customdata[1]:.1f}\\u003cbr\\u003eAverage speed (km\\u002fhr): %{y:.1f}\\u003cbr\\u003eElevation gain: %{customdata[2]:.1f}\",\"legendgroup\":\"\",\"line\":{\"color\":\"black\"},\"marker\":{\"symbol\":\"circle\"},\"mode\":\"lines\",\"name\":\"\",\"showlegend\":false,\"x\":[\"2023-05-06T07:22:12\",\"2023-07-23T06:00:29\"],\"xaxis\":\"x4\",\"y\":[11.037247937524967,7.8129180079598655],\"yaxis\":\"y4\",\"type\":\"scatter\"}],                        {\"template\":{\"data\":{\"barpolar\":[{\"marker\":{\"line\":{\"color\":\"rgb(234,234,242)\",\"width\":0.5},\"pattern\":{\"fillmode\":\"overlay\",\"size\":10,\"solidity\":0.2}},\"type\":\"barpolar\"}],\"bar\":[{\"error_x\":{\"color\":\"rgb(36,36,36)\"},\"error_y\":{\"color\":\"rgb(36,36,36)\"},\"marker\":{\"line\":{\"color\":\"rgb(234,234,242)\",\"width\":0.5},\"pattern\":{\"fillmode\":\"overlay\",\"size\":10,\"solidity\":0.2}},\"type\":\"bar\"}],\"carpet\":[{\"aaxis\":{\"endlinecolor\":\"rgb(36,36,36)\",\"gridcolor\":\"white\",\"linecolor\":\"white\",\"minorgridcolor\":\"white\",\"startlinecolor\":\"rgb(36,36,36)\"},\"baxis\":{\"endlinecolor\":\"rgb(36,36,36)\",\"gridcolor\":\"white\",\"linecolor\":\"white\",\"minorgridcolor\":\"white\",\"startlinecolor\":\"rgb(36,36,36)\"},\"type\":\"carpet\"}],\"choropleth\":[{\"colorbar\":{\"outlinewidth\":0,\"tickcolor\":\"rgb(36,36,36)\",\"ticklen\":8,\"ticks\":\"outside\",\"tickwidth\":2},\"type\":\"choropleth\"}],\"contourcarpet\":[{\"colorbar\":{\"outlinewidth\":0,\"tickcolor\":\"rgb(36,36,36)\",\"ticklen\":8,\"ticks\":\"outside\",\"tickwidth\":2},\"type\":\"contourcarpet\"}],\"contour\":[{\"colorbar\":{\"outlinewidth\":0,\"tickcolor\":\"rgb(36,36,36)\",\"ticklen\":8,\"ticks\":\"outside\",\"tickwidth\":2},\"colorscale\":[[0.0,\"rgb(2,4,25)\"],[0.06274509803921569,\"rgb(24,15,41)\"],[0.12549019607843137,\"rgb(47,23,57)\"],[0.18823529411764706,\"rgb(71,28,72)\"],[0.25098039215686274,\"rgb(97,30,82)\"],[0.3137254901960784,\"rgb(123,30,89)\"],[0.3764705882352941,\"rgb(150,27,91)\"],[0.4392156862745098,\"rgb(177,22,88)\"],[0.5019607843137255,\"rgb(203,26,79)\"],[0.5647058823529412,\"rgb(223,47,67)\"],[0.6274509803921569,\"rgb(236,76,61)\"],[0.6901960784313725,\"rgb(242,107,73)\"],[0.7529411764705882,\"rgb(244,135,95)\"],[0.8156862745098039,\"rgb(245,162,122)\"],[0.8784313725490196,\"rgb(246,188,153)\"],[0.9411764705882353,\"rgb(247,212,187)\"],[1.0,\"rgb(250,234,220)\"]],\"type\":\"contour\"}],\"heatmapgl\":[{\"colorbar\":{\"outlinewidth\":0,\"tickcolor\":\"rgb(36,36,36)\",\"ticklen\":8,\"ticks\":\"outside\",\"tickwidth\":2},\"colorscale\":[[0.0,\"rgb(2,4,25)\"],[0.06274509803921569,\"rgb(24,15,41)\"],[0.12549019607843137,\"rgb(47,23,57)\"],[0.18823529411764706,\"rgb(71,28,72)\"],[0.25098039215686274,\"rgb(97,30,82)\"],[0.3137254901960784,\"rgb(123,30,89)\"],[0.3764705882352941,\"rgb(150,27,91)\"],[0.4392156862745098,\"rgb(177,22,88)\"],[0.5019607843137255,\"rgb(203,26,79)\"],[0.5647058823529412,\"rgb(223,47,67)\"],[0.6274509803921569,\"rgb(236,76,61)\"],[0.6901960784313725,\"rgb(242,107,73)\"],[0.7529411764705882,\"rgb(244,135,95)\"],[0.8156862745098039,\"rgb(245,162,122)\"],[0.8784313725490196,\"rgb(246,188,153)\"],[0.9411764705882353,\"rgb(247,212,187)\"],[1.0,\"rgb(250,234,220)\"]],\"type\":\"heatmapgl\"}],\"heatmap\":[{\"colorbar\":{\"outlinewidth\":0,\"tickcolor\":\"rgb(36,36,36)\",\"ticklen\":8,\"ticks\":\"outside\",\"tickwidth\":2},\"colorscale\":[[0.0,\"rgb(2,4,25)\"],[0.06274509803921569,\"rgb(24,15,41)\"],[0.12549019607843137,\"rgb(47,23,57)\"],[0.18823529411764706,\"rgb(71,28,72)\"],[0.25098039215686274,\"rgb(97,30,82)\"],[0.3137254901960784,\"rgb(123,30,89)\"],[0.3764705882352941,\"rgb(150,27,91)\"],[0.4392156862745098,\"rgb(177,22,88)\"],[0.5019607843137255,\"rgb(203,26,79)\"],[0.5647058823529412,\"rgb(223,47,67)\"],[0.6274509803921569,\"rgb(236,76,61)\"],[0.6901960784313725,\"rgb(242,107,73)\"],[0.7529411764705882,\"rgb(244,135,95)\"],[0.8156862745098039,\"rgb(245,162,122)\"],[0.8784313725490196,\"rgb(246,188,153)\"],[0.9411764705882353,\"rgb(247,212,187)\"],[1.0,\"rgb(250,234,220)\"]],\"type\":\"heatmap\"}],\"histogram2dcontour\":[{\"colorbar\":{\"outlinewidth\":0,\"tickcolor\":\"rgb(36,36,36)\",\"ticklen\":8,\"ticks\":\"outside\",\"tickwidth\":2},\"colorscale\":[[0.0,\"rgb(2,4,25)\"],[0.06274509803921569,\"rgb(24,15,41)\"],[0.12549019607843137,\"rgb(47,23,57)\"],[0.18823529411764706,\"rgb(71,28,72)\"],[0.25098039215686274,\"rgb(97,30,82)\"],[0.3137254901960784,\"rgb(123,30,89)\"],[0.3764705882352941,\"rgb(150,27,91)\"],[0.4392156862745098,\"rgb(177,22,88)\"],[0.5019607843137255,\"rgb(203,26,79)\"],[0.5647058823529412,\"rgb(223,47,67)\"],[0.6274509803921569,\"rgb(236,76,61)\"],[0.6901960784313725,\"rgb(242,107,73)\"],[0.7529411764705882,\"rgb(244,135,95)\"],[0.8156862745098039,\"rgb(245,162,122)\"],[0.8784313725490196,\"rgb(246,188,153)\"],[0.9411764705882353,\"rgb(247,212,187)\"],[1.0,\"rgb(250,234,220)\"]],\"type\":\"histogram2dcontour\"}],\"histogram2d\":[{\"colorbar\":{\"outlinewidth\":0,\"tickcolor\":\"rgb(36,36,36)\",\"ticklen\":8,\"ticks\":\"outside\",\"tickwidth\":2},\"colorscale\":[[0.0,\"rgb(2,4,25)\"],[0.06274509803921569,\"rgb(24,15,41)\"],[0.12549019607843137,\"rgb(47,23,57)\"],[0.18823529411764706,\"rgb(71,28,72)\"],[0.25098039215686274,\"rgb(97,30,82)\"],[0.3137254901960784,\"rgb(123,30,89)\"],[0.3764705882352941,\"rgb(150,27,91)\"],[0.4392156862745098,\"rgb(177,22,88)\"],[0.5019607843137255,\"rgb(203,26,79)\"],[0.5647058823529412,\"rgb(223,47,67)\"],[0.6274509803921569,\"rgb(236,76,61)\"],[0.6901960784313725,\"rgb(242,107,73)\"],[0.7529411764705882,\"rgb(244,135,95)\"],[0.8156862745098039,\"rgb(245,162,122)\"],[0.8784313725490196,\"rgb(246,188,153)\"],[0.9411764705882353,\"rgb(247,212,187)\"],[1.0,\"rgb(250,234,220)\"]],\"type\":\"histogram2d\"}],\"histogram\":[{\"marker\":{\"pattern\":{\"fillmode\":\"overlay\",\"size\":10,\"solidity\":0.2}},\"type\":\"histogram\"}],\"mesh3d\":[{\"colorbar\":{\"outlinewidth\":0,\"tickcolor\":\"rgb(36,36,36)\",\"ticklen\":8,\"ticks\":\"outside\",\"tickwidth\":2},\"type\":\"mesh3d\"}],\"parcoords\":[{\"line\":{\"colorbar\":{\"outlinewidth\":0,\"tickcolor\":\"rgb(36,36,36)\",\"ticklen\":8,\"ticks\":\"outside\",\"tickwidth\":2}},\"type\":\"parcoords\"}],\"pie\":[{\"automargin\":true,\"type\":\"pie\"}],\"scatter3d\":[{\"line\":{\"colorbar\":{\"outlinewidth\":0,\"tickcolor\":\"rgb(36,36,36)\",\"ticklen\":8,\"ticks\":\"outside\",\"tickwidth\":2}},\"marker\":{\"colorbar\":{\"outlinewidth\":0,\"tickcolor\":\"rgb(36,36,36)\",\"ticklen\":8,\"ticks\":\"outside\",\"tickwidth\":2}},\"type\":\"scatter3d\"}],\"scattercarpet\":[{\"marker\":{\"colorbar\":{\"outlinewidth\":0,\"tickcolor\":\"rgb(36,36,36)\",\"ticklen\":8,\"ticks\":\"outside\",\"tickwidth\":2}},\"type\":\"scattercarpet\"}],\"scattergeo\":[{\"marker\":{\"colorbar\":{\"outlinewidth\":0,\"tickcolor\":\"rgb(36,36,36)\",\"ticklen\":8,\"ticks\":\"outside\",\"tickwidth\":2}},\"type\":\"scattergeo\"}],\"scattergl\":[{\"marker\":{\"colorbar\":{\"outlinewidth\":0,\"tickcolor\":\"rgb(36,36,36)\",\"ticklen\":8,\"ticks\":\"outside\",\"tickwidth\":2}},\"type\":\"scattergl\"}],\"scattermapbox\":[{\"marker\":{\"colorbar\":{\"outlinewidth\":0,\"tickcolor\":\"rgb(36,36,36)\",\"ticklen\":8,\"ticks\":\"outside\",\"tickwidth\":2}},\"type\":\"scattermapbox\"}],\"scatterpolargl\":[{\"marker\":{\"colorbar\":{\"outlinewidth\":0,\"tickcolor\":\"rgb(36,36,36)\",\"ticklen\":8,\"ticks\":\"outside\",\"tickwidth\":2}},\"type\":\"scatterpolargl\"}],\"scatterpolar\":[{\"marker\":{\"colorbar\":{\"outlinewidth\":0,\"tickcolor\":\"rgb(36,36,36)\",\"ticklen\":8,\"ticks\":\"outside\",\"tickwidth\":2}},\"type\":\"scatterpolar\"}],\"scatter\":[{\"fillpattern\":{\"fillmode\":\"overlay\",\"size\":10,\"solidity\":0.2},\"type\":\"scatter\"}],\"scatterternary\":[{\"marker\":{\"colorbar\":{\"outlinewidth\":0,\"tickcolor\":\"rgb(36,36,36)\",\"ticklen\":8,\"ticks\":\"outside\",\"tickwidth\":2}},\"type\":\"scatterternary\"}],\"surface\":[{\"colorbar\":{\"outlinewidth\":0,\"tickcolor\":\"rgb(36,36,36)\",\"ticklen\":8,\"ticks\":\"outside\",\"tickwidth\":2},\"colorscale\":[[0.0,\"rgb(2,4,25)\"],[0.06274509803921569,\"rgb(24,15,41)\"],[0.12549019607843137,\"rgb(47,23,57)\"],[0.18823529411764706,\"rgb(71,28,72)\"],[0.25098039215686274,\"rgb(97,30,82)\"],[0.3137254901960784,\"rgb(123,30,89)\"],[0.3764705882352941,\"rgb(150,27,91)\"],[0.4392156862745098,\"rgb(177,22,88)\"],[0.5019607843137255,\"rgb(203,26,79)\"],[0.5647058823529412,\"rgb(223,47,67)\"],[0.6274509803921569,\"rgb(236,76,61)\"],[0.6901960784313725,\"rgb(242,107,73)\"],[0.7529411764705882,\"rgb(244,135,95)\"],[0.8156862745098039,\"rgb(245,162,122)\"],[0.8784313725490196,\"rgb(246,188,153)\"],[0.9411764705882353,\"rgb(247,212,187)\"],[1.0,\"rgb(250,234,220)\"]],\"type\":\"surface\"}],\"table\":[{\"cells\":{\"fill\":{\"color\":\"rgb(231,231,240)\"},\"line\":{\"color\":\"white\"}},\"header\":{\"fill\":{\"color\":\"rgb(183,183,191)\"},\"line\":{\"color\":\"white\"}},\"type\":\"table\"}]},\"layout\":{\"annotationdefaults\":{\"arrowcolor\":\"rgb(67,103,167)\"},\"autotypenumbers\":\"strict\",\"coloraxis\":{\"colorbar\":{\"outlinewidth\":0,\"tickcolor\":\"rgb(36,36,36)\",\"ticklen\":8,\"ticks\":\"outside\",\"tickwidth\":2}},\"colorscale\":{\"sequential\":[[0.0,\"rgb(2,4,25)\"],[0.06274509803921569,\"rgb(24,15,41)\"],[0.12549019607843137,\"rgb(47,23,57)\"],[0.18823529411764706,\"rgb(71,28,72)\"],[0.25098039215686274,\"rgb(97,30,82)\"],[0.3137254901960784,\"rgb(123,30,89)\"],[0.3764705882352941,\"rgb(150,27,91)\"],[0.4392156862745098,\"rgb(177,22,88)\"],[0.5019607843137255,\"rgb(203,26,79)\"],[0.5647058823529412,\"rgb(223,47,67)\"],[0.6274509803921569,\"rgb(236,76,61)\"],[0.6901960784313725,\"rgb(242,107,73)\"],[0.7529411764705882,\"rgb(244,135,95)\"],[0.8156862745098039,\"rgb(245,162,122)\"],[0.8784313725490196,\"rgb(246,188,153)\"],[0.9411764705882353,\"rgb(247,212,187)\"],[1.0,\"rgb(250,234,220)\"]],\"sequentialminus\":[[0.0,\"rgb(2,4,25)\"],[0.06274509803921569,\"rgb(24,15,41)\"],[0.12549019607843137,\"rgb(47,23,57)\"],[0.18823529411764706,\"rgb(71,28,72)\"],[0.25098039215686274,\"rgb(97,30,82)\"],[0.3137254901960784,\"rgb(123,30,89)\"],[0.3764705882352941,\"rgb(150,27,91)\"],[0.4392156862745098,\"rgb(177,22,88)\"],[0.5019607843137255,\"rgb(203,26,79)\"],[0.5647058823529412,\"rgb(223,47,67)\"],[0.6274509803921569,\"rgb(236,76,61)\"],[0.6901960784313725,\"rgb(242,107,73)\"],[0.7529411764705882,\"rgb(244,135,95)\"],[0.8156862745098039,\"rgb(245,162,122)\"],[0.8784313725490196,\"rgb(246,188,153)\"],[0.9411764705882353,\"rgb(247,212,187)\"],[1.0,\"rgb(250,234,220)\"]]},\"colorway\":[\"rgb(76,114,176)\",\"rgb(221,132,82)\",\"rgb(85,168,104)\",\"rgb(196,78,82)\",\"rgb(129,114,179)\",\"rgb(147,120,96)\",\"rgb(218,139,195)\",\"rgb(140,140,140)\",\"rgb(204,185,116)\",\"rgb(100,181,205)\"],\"font\":{\"color\":\"rgb(36,36,36)\"},\"geo\":{\"bgcolor\":\"white\",\"lakecolor\":\"white\",\"landcolor\":\"rgb(234,234,242)\",\"showlakes\":true,\"showland\":true,\"subunitcolor\":\"white\"},\"hoverlabel\":{\"align\":\"left\"},\"hovermode\":\"closest\",\"paper_bgcolor\":\"white\",\"plot_bgcolor\":\"rgb(234,234,242)\",\"polar\":{\"angularaxis\":{\"gridcolor\":\"white\",\"linecolor\":\"white\",\"showgrid\":true,\"ticks\":\"\"},\"bgcolor\":\"rgb(234,234,242)\",\"radialaxis\":{\"gridcolor\":\"white\",\"linecolor\":\"white\",\"showgrid\":true,\"ticks\":\"\"}},\"scene\":{\"xaxis\":{\"backgroundcolor\":\"rgb(234,234,242)\",\"gridcolor\":\"white\",\"gridwidth\":2,\"linecolor\":\"white\",\"showbackground\":true,\"showgrid\":true,\"ticks\":\"\",\"zerolinecolor\":\"white\"},\"yaxis\":{\"backgroundcolor\":\"rgb(234,234,242)\",\"gridcolor\":\"white\",\"gridwidth\":2,\"linecolor\":\"white\",\"showbackground\":true,\"showgrid\":true,\"ticks\":\"\",\"zerolinecolor\":\"white\"},\"zaxis\":{\"backgroundcolor\":\"rgb(234,234,242)\",\"gridcolor\":\"white\",\"gridwidth\":2,\"linecolor\":\"white\",\"showbackground\":true,\"showgrid\":true,\"ticks\":\"\",\"zerolinecolor\":\"white\"}},\"shapedefaults\":{\"fillcolor\":\"rgb(67,103,167)\",\"line\":{\"width\":0},\"opacity\":0.5},\"ternary\":{\"aaxis\":{\"gridcolor\":\"white\",\"linecolor\":\"white\",\"showgrid\":true,\"ticks\":\"\"},\"baxis\":{\"gridcolor\":\"white\",\"linecolor\":\"white\",\"showgrid\":true,\"ticks\":\"\"},\"bgcolor\":\"rgb(234,234,242)\",\"caxis\":{\"gridcolor\":\"white\",\"linecolor\":\"white\",\"showgrid\":true,\"ticks\":\"\"}},\"xaxis\":{\"automargin\":true,\"gridcolor\":\"white\",\"linecolor\":\"white\",\"showgrid\":true,\"ticks\":\"\",\"title\":{\"standoff\":15},\"zerolinecolor\":\"white\"},\"yaxis\":{\"automargin\":true,\"gridcolor\":\"white\",\"linecolor\":\"white\",\"showgrid\":true,\"ticks\":\"\",\"title\":{\"standoff\":15},\"zerolinecolor\":\"white\"}}},\"xaxis\":{\"anchor\":\"y\",\"domain\":[0.0,0.235],\"title\":{\"text\":\"\"},\"tickangle\":-45},\"yaxis\":{\"anchor\":\"x\",\"domain\":[0.0,1.0],\"title\":{\"text\":\"Average Speed (km\\u002fhr)\"}},\"xaxis2\":{\"anchor\":\"y2\",\"domain\":[0.255,0.49],\"matches\":\"x\",\"title\":{\"text\":\"\"},\"tickangle\":-45},\"yaxis2\":{\"anchor\":\"x2\",\"domain\":[0.0,1.0],\"matches\":\"y\",\"showticklabels\":false},\"xaxis3\":{\"anchor\":\"y3\",\"domain\":[0.51,0.745],\"matches\":\"x\",\"title\":{\"text\":\"\"},\"tickangle\":-45},\"yaxis3\":{\"anchor\":\"x3\",\"domain\":[0.0,1.0],\"matches\":\"y\",\"showticklabels\":false},\"xaxis4\":{\"anchor\":\"y4\",\"domain\":[0.7649999999999999,0.9999999999999999],\"matches\":\"x\",\"title\":{\"text\":\"\"},\"tickangle\":-45},\"yaxis4\":{\"anchor\":\"x4\",\"domain\":[0.0,1.0],\"matches\":\"y\",\"showticklabels\":false},\"annotations\":[{\"font\":{\"size\":10},\"showarrow\":false,\"text\":\"1-8km carreras\",\"x\":0.1175,\"xanchor\":\"center\",\"xref\":\"paper\",\"y\":1.0,\"yanchor\":\"bottom\",\"yref\":\"paper\"},{\"font\":{\"size\":10},\"showarrow\":false,\"text\":\"8-16km carreras\",\"x\":0.3725,\"xanchor\":\"center\",\"xref\":\"paper\",\"y\":1.0,\"yanchor\":\"bottom\",\"yref\":\"paper\"},{\"font\":{\"size\":10},\"showarrow\":false,\"text\":\"16-23km carreras\",\"x\":0.6275,\"xanchor\":\"center\",\"xref\":\"paper\",\"y\":1.0,\"yanchor\":\"bottom\",\"yref\":\"paper\"},{\"font\":{\"size\":10},\"showarrow\":false,\"text\":\"23-30km carreras\",\"x\":0.8824999999999998,\"xanchor\":\"center\",\"xref\":\"paper\",\"y\":1.0,\"yanchor\":\"bottom\",\"yref\":\"paper\"}],\"coloraxis\":{\"colorbar\":{\"title\":{\"text\":\"km\",\"font\":{\"size\":12}},\"tickfont\":{\"size\":10},\"thickness\":15,\"ticklen\":3},\"colorscale\":[[0.0,\"rgb(3, 35, 51)\"],[0.09090909090909091,\"rgb(13, 48, 100)\"],[0.18181818181818182,\"rgb(53, 50, 155)\"],[0.2727272727272727,\"rgb(93, 62, 153)\"],[0.36363636363636365,\"rgb(126, 77, 143)\"],[0.45454545454545453,\"rgb(158, 89, 135)\"],[0.5454545454545454,\"rgb(193, 100, 121)\"],[0.6363636363636364,\"rgb(225, 113, 97)\"],[0.7272727272727273,\"rgb(246, 139, 69)\"],[0.8181818181818182,\"rgb(251, 173, 60)\"],[0.9090909090909091,\"rgb(246, 211, 70)\"],[1.0,\"rgb(231, 250, 90)\"]]},\"legend\":{\"tracegroupgap\":0},\"title\":{\"text\":\"My average speed on carreras\"},\"autosize\":false,\"width\":700,\"height\":600},                        {\"responsive\": true}                    ).then(function(){\n",
       "                            \n",
       "var gd = document.getElementById('52ebf2e4-7e61-4e4a-ba8a-3af4c66748d0');\n",
       "var x = new MutationObserver(function (mutations, observer) {{\n",
       "        var display = window.getComputedStyle(gd).display;\n",
       "        if (!display || display === 'none') {{\n",
       "            console.log([gd, 'removed!']);\n",
       "            Plotly.purge(gd);\n",
       "            observer.disconnect();\n",
       "        }}\n",
       "}});\n",
       "\n",
       "// Listen for the removal of the full notebook cells\n",
       "var notebookContainer = gd.closest('#notebook-container');\n",
       "if (notebookContainer) {{\n",
       "    x.observe(notebookContainer, {childList: true});\n",
       "}}\n",
       "\n",
       "// Listen for the clearing of the current output cell\n",
       "var outputEl = gd.closest('.output');\n",
       "if (outputEl) {{\n",
       "    x.observe(outputEl, {childList: true});\n",
       "}}\n",
       "\n",
       "                        })                };                });            </script>        </div>"
      ]
     },
     "metadata": {},
     "output_type": "display_data"
    }
   ],
   "source": [
    "# Find the activity with the most kms\n",
    "most_kms = (\n",
    "    df_km.groupby(by=[\"Activity Type\"], as_index=False)\n",
    "    .sum()\n",
    "    .sort_values(by=\"total_distance_km\")\n",
    ")\n",
    "\n",
    "# Define an activity here\n",
    "activity = most_kms[\"Activity Type\"].values[1]\n",
    "\n",
    "# Generating four bins based on the Distance column\n",
    "speed = df.loc[df[\"Activity Type\"] == activity]\n",
    "cats, bins = pd.cut(speed[\"Distance (km)\"], 4, precision=0, retbins=True)\n",
    "bins = np.around(bins, 0).astype(int)\n",
    "bin_labels = []\n",
    "for i in range(0, 4):\n",
    "    bin_labels.append(\n",
    "        f\"{bins[i]}-{str(bins[i + 1])}km {activity.lower()}s\"\n",
    "    )\n",
    "speed.insert(\n",
    "    0, \"distance_bin\", pd.cut(speed[\"Distance (km)\"], 4, precision=0, labels=bin_labels)\n",
    ")\n",
    "\n",
    "# Create a scatter plot with four subplots\n",
    "fig_s = px.scatter(\n",
    "    speed,\n",
    "    x=\"Activity Date\",\n",
    "    y=\"Average Speed (km/hr)\",\n",
    "    facet_col=\"distance_bin\",\n",
    "    color=\"Distance (km)\",\n",
    "    trendline=\"ols\",  # Add a black trend line\n",
    "    trendline_color_override=\"black\",\n",
    "    color_continuous_scale=\"thermal\",  # Define a color scale\n",
    "    title=\"My average speed on \" + activity.lower() + \"s\",  # Set title text\n",
    "    category_orders={\"distance_bin\": bin_labels},  # Ascending order\n",
    "    custom_data=[\"Activity Name\", \"Distance (km)\", \"Elevation Gain\"],  # Variables for the hover text\n",
    ")\n",
    "\n",
    "# Customize the hover text\n",
    "fig_s.update_traces(\n",
    "    hovertemplate=\"Activity Name: %{customdata[0]}<br>\"\n",
    "    \"Activity date: %{x|%Y-%m-%d}<br>\"\n",
    "    \"Distance (km): %{customdata[1]:.1f}<br>\"\n",
    "    \"Average speed (km/hr): %{y:.1f}<br>\"\n",
    "    \"Elevation gain: %{customdata[2]:.1f}\"\n",
    ")\n",
    "\n",
    "# Adjust the size and layout\n",
    "fig_s.update_layout(\n",
    "    autosize=False,\n",
    "    width=700,\n",
    "    height=600,\n",
    "    template=\"seaborn\",  # Others options: \"plotly\", \"plotly_dark\", \"ggplot2\", \"seaborn\", \"simple_white\"\n",
    ")\n",
    "\n",
    "# Hide subplot annotations and x-axis titles\n",
    "fig_s.for_each_annotation(lambda a: a.update(text=a.text.split(\"=\")[-1]))\n",
    "for axis in fig_s.layout:\n",
    "    if type(fig_s.layout[axis]) == go.layout.XAxis:\n",
    "        fig_s.layout[axis].title.text = \"\"\n",
    "\n",
    "# Rotate xtick labels\n",
    "fig_s.update_xaxes(tickangle=-45)\n",
    "\n",
    "# Set size of bin labels\n",
    "fig_s.update_annotations(font=dict(size=10))\n",
    "\n",
    "# Make the color bar smaller\n",
    "fig_s.update_coloraxes(\n",
    "    colorbar_thickness=15,\n",
    "    colorbar_title_text=\"km\",\n",
    "    colorbar_title_font_size=12,\n",
    "    colorbar_tickfont_size=10,\n",
    "    colorbar_ticklen=3,\n",
    ")\n",
    "\n",
    "fig_s.show()"
   ]
  },
  {
   "cell_type": "code",
   "execution_count": 24,
   "metadata": {},
   "outputs": [
    {
     "data": {
      "application/vnd.plotly.v1+json": {
       "config": {
        "plotlyServerURL": "https://plot.ly"
       },
       "data": [
        {
         "customdata": [
          [
           28.617555618286133,
           "2018-10-14T18:27:31"
          ],
          [
           98.2482681274414,
           "2018-10-17T17:05:02"
          ],
          [
           103.44881439208984,
           "2018-10-19T18:11:19"
          ],
          [
           11.300000190734863,
           "2018-11-02T11:31:16"
          ],
          [
           125.0374526977539,
           "2018-11-07T19:13:43"
          ],
          [
           32.95210266113281,
           "2018-11-11T19:16:41"
          ],
          [
           38,
           "2019-01-15T11:37:32"
          ],
          [
           40.44500732421875,
           "2019-02-01T16:22:36"
          ],
          [
           45.31432723999024,
           "2019-02-05T19:04:46"
          ],
          [
           83.10859680175781,
           "2019-02-13T09:02:08"
          ],
          [
           48.08650207519531,
           "2019-02-28T19:14:32"
          ],
          [
           93.14146423339844,
           "2019-03-05T19:10:21"
          ],
          [
           81.48837280273438,
           "2019-03-20T17:57:36"
          ],
          [
           49.91963577270508,
           "2019-04-25T18:32:15"
          ],
          [
           9.830769538879396,
           "2019-05-08T18:41:09"
          ],
          [
           100.79295349121094,
           "2019-05-16T18:09:32"
          ],
          [
           137.08749389648438,
           "2019-06-06T17:39:16"
          ],
          [
           32.06739807128906,
           "2019-06-18T18:44:37"
          ],
          [
           37.68727111816406,
           "2019-09-12T18:02:41"
          ],
          [
           24.11103057861328,
           "2020-02-05T18:55:03"
          ],
          [
           14.316001892089844,
           "2020-02-14T19:04:06"
          ],
          [
           23.38500022888184,
           "2020-05-05T17:59:49"
          ],
          [
           26.148611068725582,
           "2020-05-07T17:57:18"
          ],
          [
           28.170000076293945,
           "2020-05-14T17:58:42"
          ],
          [
           47.24615478515625,
           "2020-08-24T18:04:45"
          ],
          [
           24.80257606506348,
           "2020-09-19T17:20:02"
          ],
          [
           10.397424697875977,
           "2020-10-26T19:10:44"
          ],
          [
           3.1616666316986084,
           "2020-11-02T18:59:58"
          ],
          [
           3.15984845161438,
           "2020-11-11T18:47:41"
          ],
          [
           53,
           "2020-12-22T16:13:40"
          ],
          [
           45.47075653076172,
           "2020-12-24T11:56:34"
          ],
          [
           23.18000030517578,
           "2020-12-28T12:22:30"
          ],
          [
           166,
           "2020-12-31T11:32:36"
          ],
          [
           278.9647521972656,
           "2021-02-28T14:42:59"
          ],
          [
           109.58441162109376,
           "2021-03-15T18:15:20"
          ],
          [
           14.766111373901367,
           "2021-03-29T17:46:47"
          ],
          [
           48.11558151245117,
           "2021-03-31T17:31:59"
          ],
          [
           22.90724754333496,
           "2021-04-01T16:08:48"
          ],
          [
           55.79000473022461,
           "2021-04-09T17:05:05"
          ],
          [
           43.73936462402344,
           "2021-04-11T16:54:39"
          ],
          [
           69.52436065673828,
           "2021-04-14T16:57:10"
          ],
          [
           120.94450378417967,
           "2021-04-16T15:35:46"
          ],
          [
           126.68578338623048,
           "2021-04-19T17:05:10"
          ],
          [
           28.867143630981445,
           "2021-04-21T15:06:10"
          ],
          [
           29.57999992370605,
           "2021-04-23T15:01:14"
          ],
          [
           54.02000045776367,
           "2021-04-26T16:55:22"
          ],
          [
           34.1971435546875,
           "2021-04-28T16:53:08"
          ],
          [
           21.12666702270508,
           "2021-05-01T10:08:06"
          ],
          [
           47.61333465576172,
           "2021-05-03T16:25:36"
          ],
          [
           8.019047737121582,
           "2021-05-10T17:36:13"
          ],
          [
           111.23345184326172,
           "2021-05-17T17:35:36"
          ],
          [
           88.20047760009766,
           "2021-05-22T09:34:09"
          ],
          [
           11.0600004196167,
           "2021-05-25T19:13:38"
          ],
          [
           610.6956787109375,
           "2021-06-09T16:58:05"
          ],
          [
           8.680000305175781,
           "2021-06-12T10:13:05"
          ],
          [
           362.956787109375,
           "2021-06-14T15:55:24"
          ],
          [
           71.38987731933594,
           "2021-06-16T18:35:49"
          ],
          [
           35.92408752441406,
           "2021-06-20T18:11:25"
          ],
          [
           0,
           "2021-07-03T06:53:20"
          ],
          [
           38.92333221435547,
           "2021-07-05T17:18:55"
          ],
          [
           25.34000015258789,
           "2021-07-06T17:15:25"
          ],
          [
           7.462500095367432,
           "2021-07-18T18:52:17"
          ],
          [
           19.513334274291992,
           "2021-07-19T18:35:59"
          ],
          [
           4.746666431427002,
           "2021-07-20T18:43:25"
          ],
          [
           0,
           "2021-08-24T10:11:27"
          ],
          [
           15.137857437133787,
           "2021-08-31T18:38:34"
          ],
          [
           37.310001373291016,
           "2021-09-01T17:26:43"
          ],
          [
           53.63833236694336,
           "2021-09-13T17:03:25"
          ],
          [
           61.18000030517578,
           "2021-09-14T17:09:02"
          ],
          [
           5.313333511352539,
           "2021-09-19T10:29:28"
          ],
          [
           13.720000267028809,
           "2021-09-26T17:48:44"
          ],
          [
           51.81142807006836,
           "2021-09-27T16:54:51"
          ],
          [
           23.459999084472656,
           "2021-10-02T09:21:01"
          ],
          [
           30.9233341217041,
           "2021-10-03T07:33:46"
          ],
          [
           39.84603118896485,
           "2021-10-13T16:27:46"
          ],
          [
           0,
           "2021-10-14T17:33:38"
          ],
          [
           23.57999992370605,
           "2021-10-18T16:05:08"
          ],
          [
           5.473333358764648,
           "2021-10-21T17:42:01"
          ],
          [
           40.13846206665039,
           "2021-10-25T16:35:10"
          ],
          [
           123.82809448242188,
           "2021-10-30T15:10:20"
          ],
          [
           67.22190856933594,
           "2021-11-02T16:02:25"
          ],
          [
           88.49571228027344,
           "2021-11-03T15:32:53"
          ],
          [
           48.18505096435547,
           "2021-11-05T15:31:42"
          ],
          [
           64.63333129882812,
           "2021-11-08T15:52:43"
          ],
          [
           50.26666641235352,
           "2021-11-09T15:39:27"
          ],
          [
           65.03904724121094,
           "2021-11-10T15:51:24"
          ],
          [
           47.21833419799805,
           "2021-11-12T15:23:27"
          ],
          [
           59.377777099609375,
           "2021-11-15T15:41:10"
          ],
          [
           50.56380844116211,
           "2021-11-16T16:02:00"
          ],
          [
           42.459999084472656,
           "2021-11-17T15:56:18"
          ],
          [
           63.1678581237793,
           "2021-11-19T15:33:32"
          ],
          [
           3.422222137451172,
           "2021-11-22T17:50:48"
          ],
          [
           47.18999862670898,
           "2021-11-24T16:12:23"
          ],
          [
           12.420000076293944,
           "2021-11-26T15:58:05"
          ],
          [
           42.58000183105469,
           "2021-11-29T15:56:00"
          ],
          [
           32.62190628051758,
           "2021-12-05T09:54:44"
          ],
          [
           42.03206253051758,
           "2021-12-07T12:30:16"
          ],
          [
           54.8466682434082,
           "2021-12-14T15:28:31"
          ],
          [
           79.73238372802734,
           "2021-12-15T15:09:54"
          ],
          [
           40.90666580200195,
           "2021-12-17T15:10:45"
          ],
          [
           5.019999980926514,
           "2021-12-19T11:25:59"
          ],
          [
           17.136667251586914,
           "2022-01-04T15:33:11"
          ],
          [
           34.25666809082031,
           "2022-01-05T15:17:36"
          ],
          [
           36.08000183105469,
           "2022-01-08T14:59:34"
          ],
          [
           19.09666633605957,
           "2022-01-09T11:09:13"
          ],
          [
           26.996665954589844,
           "2022-01-17T16:37:44"
          ],
          [
           37.68999862670898,
           "2022-01-18T16:37:27"
          ],
          [
           13.943333625793455,
           "2022-01-20T16:21:20"
          ],
          [
           52.68000030517578,
           "2022-01-21T15:39:58"
          ],
          [
           30.98095321655273,
           "2022-01-27T16:22:03"
          ],
          [
           34.967498779296875,
           "2022-01-28T15:23:52"
          ],
          [
           34.45333480834961,
           "2022-02-01T16:20:10"
          ],
          [
           47.25968170166016,
           "2022-02-03T16:42:31"
          ],
          [
           19,
           "2022-02-04T15:38:11"
          ],
          [
           11.512380599975586,
           "2022-02-07T16:56:57"
          ],
          [
           0,
           "2022-02-09T17:24:04"
          ],
          [
           20.80238151550293,
           "2022-02-19T16:10:23"
          ],
          [
           30.691429138183597,
           "2022-02-25T17:55:26"
          ],
          [
           46.71666717529297,
           "2022-02-28T17:29:08"
          ],
          [
           13.359999656677246,
           "2022-03-02T19:06:06"
          ],
          [
           0,
           "2022-03-10T23:15:11"
          ],
          [
           19.459999084472656,
           "2022-03-25T14:33:32"
          ],
          [
           63.18381118774414,
           "2022-03-26T10:07:58"
          ],
          [
           45.123077392578125,
           "2022-03-28T16:11:42"
          ],
          [
           36.51380920410156,
           "2022-03-29T17:06:01"
          ],
          [
           51.12333297729492,
           "2022-04-04T17:34:08"
          ],
          [
           26.002857208251957,
           "2022-04-05T18:07:04"
          ],
          [
           52.9900016784668,
           "2022-04-22T14:13:28"
          ],
          [
           40.72666549682617,
           "2022-05-12T17:36:43"
          ],
          [
           151.10848999023438,
           "2022-05-25T16:14:54"
          ],
          [
           51.84464263916016,
           "2022-05-31T11:43:27"
          ],
          [
           51.10219955444336,
           "2022-06-02T15:35:41"
          ],
          [
           50.94278717041016,
           "2022-06-03T05:14:17"
          ],
          [
           32.18589782714844,
           "2022-06-05T09:57:48"
          ],
          [
           44.43169021606445,
           "2022-06-07T16:52:44"
          ],
          [
           53.185001373291016,
           "2022-06-11T06:15:03"
          ],
          [
           34.81999969482422,
           "2022-06-14T17:56:14"
          ],
          [
           34.72999954223633,
           "2022-06-15T20:21:06"
          ],
          [
           38.73666763305664,
           "2022-06-16T07:00:48"
          ],
          [
           153.17393493652344,
           "2022-06-25T16:42:45"
          ],
          [
           35.50539779663086,
           "2022-07-03T16:12:12"
          ],
          [
           65.48619079589844,
           "2022-07-09T06:59:38"
          ],
          [
           36.58821487426758,
           "2022-07-11T18:14:39"
          ],
          [
           0,
           "2022-08-07T17:02:59"
          ],
          [
           66.87666320800781,
           "2022-08-29T17:42:33"
          ],
          [
           66.15523529052734,
           "2022-08-30T16:52:57"
          ],
          [
           70.30500030517578,
           "2022-09-03T07:49:29"
          ],
          [
           55.40999984741211,
           "2022-09-05T17:44:43"
          ],
          [
           62.24333190917969,
           "2022-09-08T16:00:29"
          ],
          [
           69.33333587646484,
           "2022-09-10T07:59:47"
          ],
          [
           32.82857131958008,
           "2022-09-12T15:23:45"
          ],
          [
           51.31416702270508,
           "2022-09-14T17:09:26"
          ],
          [
           69.12999725341797,
           "2022-09-18T08:32:00"
          ],
          [
           40.18952560424805,
           "2022-09-19T17:31:42"
          ],
          [
           42.17761993408203,
           "2022-09-21T14:37:39"
          ],
          [
           null,
           "2022-09-25T17:00:07"
          ],
          [
           null,
           "2022-09-30T15:02:38"
          ],
          [
           18.239999771118164,
           "2022-09-22T11:27:45"
          ],
          [
           92.6114273071289,
           "2022-10-02T09:56:02"
          ],
          [
           39.06571578979492,
           "2022-10-05T16:56:08"
          ],
          [
           55.829193115234375,
           "2022-10-06T17:01:59"
          ],
          [
           40.220001220703125,
           "2022-10-08T11:02:34"
          ],
          [
           46.23301696777344,
           "2022-10-10T15:23:15"
          ],
          [
           39.02999877929688,
           "2022-10-11T11:31:28"
          ],
          [
           48.6875,
           "2022-10-13T16:13:28"
          ],
          [
           64.62000274658203,
           "2022-10-15T07:59:02"
          ],
          [
           null,
           "2022-10-22T17:00:10"
          ],
          [
           20.28469657897949,
           "2022-10-19T15:46:02"
          ],
          [
           3.220000028610229,
           "2022-10-26T11:29:33"
          ],
          [
           59.58000183105469,
           "2022-10-27T16:46:11"
          ],
          [
           42.54666519165039,
           "2022-11-02T16:03:30"
          ],
          [
           23.25,
           "2022-11-03T16:44:06"
          ],
          [
           29.763334274291992,
           "2022-11-05T10:42:59"
          ],
          [
           0,
           "2022-11-07T12:33:28"
          ],
          [
           5.154285907745361,
           "2022-11-06T13:44:26"
          ],
          [
           31.08623313903809,
           "2022-11-09T18:04:53"
          ],
          [
           36.52888870239258,
           "2022-11-10T17:55:48"
          ],
          [
           30.286666870117188,
           "2022-11-12T10:00:34"
          ],
          [
           58.51333236694336,
           "2022-11-15T12:29:43"
          ],
          [
           7.12333345413208,
           "2022-11-16T18:01:55"
          ],
          [
           50.70000076293945,
           "2022-11-18T15:26:24"
          ],
          [
           13.148571014404297,
           "2022-11-20T10:08:32"
          ],
          [
           43.13999938964844,
           "2022-11-23T12:22:23"
          ],
          [
           64.16952514648438,
           "2022-11-30T17:55:17"
          ],
          [
           73.2646484375,
           "2022-12-03T11:29:44"
          ],
          [
           73.48628234863281,
           "2022-12-06T10:45:42"
          ],
          [
           60.59066009521485,
           "2022-12-08T15:24:56"
          ],
          [
           436.3106994628906,
           "2023-02-04T09:17:02"
          ],
          [
           0,
           "2022-12-14T18:09:13"
          ],
          [
           0,
           "2022-12-13T12:27:34"
          ],
          [
           77.67361450195312,
           "2022-12-03T00:35:32"
          ],
          [
           0,
           "2022-12-20T17:35:03"
          ],
          [
           10.68333339691162,
           "2022-12-02T18:54:39"
          ],
          [
           29.75428581237793,
           "2022-12-18T10:20:28"
          ],
          [
           19.492143630981445,
           "2022-12-17T09:55:54"
          ],
          [
           0,
           "2022-12-27T13:21:33"
          ],
          [
           43.119998931884766,
           "2022-12-23T15:37:32"
          ],
          [
           0,
           "2022-12-31T17:34:21"
          ],
          [
           14.039047241210938,
           "2022-12-21T17:37:19"
          ],
          [
           48.47999954223633,
           "2022-12-29T12:02:08"
          ],
          [
           25.409048080444336,
           "2023-01-03T17:44:11"
          ],
          [
           50.45428466796875,
           "2023-01-07T15:06:24"
          ],
          [
           42.08000183105469,
           "2023-01-04T12:03:45"
          ],
          [
           12.489999771118164,
           "2023-01-14T10:16:43"
          ],
          [
           0,
           "2023-01-09T16:45:33"
          ],
          [
           0,
           "2023-01-11T16:47:53"
          ],
          [
           10.876667022705078,
           "2023-01-12T18:04:06"
          ],
          [
           0,
           "2023-01-16T16:26:39"
          ],
          [
           0,
           "2023-01-26T17:15:31"
          ],
          [
           52.43571472167969,
           "2023-01-22T11:00:02"
          ],
          [
           0,
           "2023-01-25T16:16:43"
          ],
          [
           12.949999809265137,
           "2023-01-31T12:38:28"
          ],
          [
           0,
           "2023-02-02T17:29:36"
          ],
          [
           9.276666641235352,
           "2023-02-06T19:00:35"
          ],
          [
           43.84222412109375,
           "2023-01-23T12:32:18"
          ],
          [
           27.94253921508789,
           "2023-02-08T12:30:16"
          ],
          [
           33.189842224121094,
           "2023-02-01T17:45:03"
          ],
          [
           null,
           "2022-11-27T08:15:47"
          ],
          [
           70.63714599609375,
           "2023-02-11T09:52:38"
          ],
          [
           47.361427307128906,
           "2023-02-15T18:16:53"
          ],
          [
           0,
           "2023-02-19T07:30:06"
          ],
          [
           0,
           "2023-02-22T16:59:44"
          ],
          [
           0,
           "2023-02-23T18:06:59"
          ],
          [
           44.345001220703125,
           "2023-03-01T12:36:23"
          ],
          [
           9.119999885559082,
           "2023-03-09T17:16:24"
          ],
          [
           31.80476188659668,
           "2023-03-02T12:46:19"
          ],
          [
           56.36158752441406,
           "2023-03-07T17:14:09"
          ],
          [
           41.31330108642578,
           "2023-03-04T11:02:08"
          ],
          [
           63.15285873413086,
           "2023-03-06T16:35:46"
          ],
          [
           49.01714324951172,
           "2023-03-04T11:41:22"
          ],
          [
           0,
           "2023-03-14T16:31:23"
          ],
          [
           25.98785781860352,
           "2023-03-15T16:28:45"
          ],
          [
           28.6200008392334,
           "2023-03-19T11:52:03"
          ],
          [
           31.25333404541016,
           "2023-03-23T18:10:28"
          ],
          [
           28.70916748046875,
           "2023-03-21T12:33:45"
          ],
          [
           30.638334274291992,
           "2023-04-01T16:38:42"
          ],
          [
           6.385714054107666,
           "2023-03-28T11:33:29"
          ],
          [
           59.02333450317383,
           "2023-03-26T08:09:43"
          ],
          [
           22.20571517944336,
           "2023-03-30T16:22:15"
          ],
          [
           0,
           "2023-04-01T06:01:41"
          ],
          [
           52.060001373291016,
           "2023-04-03T16:16:52"
          ],
          [
           87.95999908447266,
           "2023-04-05T16:30:06"
          ],
          [
           56.18999862670898,
           "2023-04-08T07:25:56"
          ],
          [
           21.59000015258789,
           "2023-04-13T16:59:20"
          ],
          [
           31.46333312988281,
           "2023-04-11T15:27:51"
          ],
          [
           52.4477767944336,
           "2023-04-16T06:52:54"
          ],
          [
           20.280000686645508,
           "2023-04-19T11:32:48"
          ],
          [
           63.36333465576172,
           "2023-04-17T15:44:46"
          ],
          [
           14.65333366394043,
           "2023-04-21T16:28:10"
          ],
          [
           0,
           "2023-04-27T19:18:00"
          ],
          [
           0,
           "2023-04-24T18:15:16"
          ],
          [
           27.049091339111328,
           "2023-04-25T15:14:41"
          ],
          [
           0,
           "2023-05-04T18:53:45"
          ],
          [
           23.16428565979004,
           "2023-05-02T11:33:44"
          ],
          [
           149.42572021484375,
           "2023-05-06T07:22:12"
          ],
          [
           0,
           "2023-05-18T15:19:31"
          ],
          [
           45.25249862670898,
           "2023-05-15T16:32:59"
          ],
          [
           0,
           "2023-05-17T04:42:46"
          ],
          [
           24.8125,
           "2023-05-10T16:41:26"
          ],
          [
           373.9812622070313,
           "2023-05-11T16:16:42"
          ],
          [
           19.983333587646484,
           "2023-05-09T11:41:20"
          ],
          [
           42.22999954223633,
           "2023-05-25T11:41:27"
          ],
          [
           6.833333492279053,
           "2023-05-28T18:00:57"
          ],
          [
           24.24333381652832,
           "2023-05-22T11:27:20"
          ],
          [
           38.43714141845703,
           "2023-05-30T11:34:20"
          ],
          [
           34.84000015258789,
           "2023-05-31T16:35:36"
          ],
          [
           384.7000122070313,
           "2023-06-04T09:05:25"
          ],
          [
           25.68857192993164,
           "2023-06-05T17:14:53"
          ],
          [
           25.169523239135746,
           "2023-06-06T15:49:22"
          ],
          [
           3.200000047683716,
           "2023-06-07T04:30:26"
          ],
          [
           42.27999877929688,
           "2023-06-09T05:30:17"
          ],
          [
           40.26737976074219,
           "2023-06-09T18:01:20"
          ],
          [
           36.611427307128906,
           "2023-06-11T08:29:34"
          ],
          [
           43.658573150634766,
           "2023-06-12T19:11:00"
          ],
          [
           11,
           "2023-06-13T19:11:45"
          ],
          [
           22.8700008392334,
           "2023-06-14T16:44:08"
          ],
          [
           37.17250061035156,
           "2023-06-20T14:28:36"
          ],
          [
           0,
           "2023-06-21T18:18:21"
          ],
          [
           45.6205940246582,
           "2023-06-25T19:04:29"
          ],
          [
           29.418333053588867,
           "2023-07-02T17:54:11"
          ],
          [
           33.31666564941406,
           "2023-07-03T14:52:29"
          ],
          [
           29.020000457763672,
           "2023-07-05T15:37:29"
          ],
          [
           25.09749984741211,
           "2023-06-24T17:47:14"
          ],
          [
           13.039999961853027,
           "2023-06-29T19:22:21"
          ],
          [
           33.14409255981445,
           "2023-06-30T18:19:48"
          ],
          [
           23.46571350097656,
           "2023-07-11T17:33:51"
          ],
          [
           42.18833160400391,
           "2023-07-10T17:14:48"
          ],
          [
           1268.1348876953125,
           "2023-07-23T06:00:29"
          ],
          [
           47.39666748046875,
           "2023-07-26T14:06:03"
          ],
          [
           43.33631134033203,
           "2023-07-27T17:24:40"
          ],
          [
           14.426190376281738,
           "2023-08-01T07:38:02"
          ],
          [
           65.25428771972656,
           "2023-07-31T06:50:29"
          ],
          [
           0,
           "2023-08-05T16:55:14"
          ]
         ],
         "hovertemplate": "Activity Date: %{customdata[1]|%Y-%m-%d}<br>Distance (km): %{x:.1f}<br>Average speed (km/hr): %{y:.1f}<br>Elevation gain: %{customdata[0]:.1f}",
         "legendgroup": "",
         "marker": {
          "color": [
           28.617555618286133,
           98.2482681274414,
           103.44881439208984,
           11.300000190734863,
           125.0374526977539,
           32.95210266113281,
           38,
           40.44500732421875,
           45.31432723999024,
           83.10859680175781,
           48.08650207519531,
           93.14146423339844,
           81.48837280273438,
           49.91963577270508,
           9.830769538879396,
           100.79295349121094,
           137.08749389648438,
           32.06739807128906,
           37.68727111816406,
           24.11103057861328,
           14.316001892089844,
           23.38500022888184,
           26.148611068725582,
           28.170000076293945,
           47.24615478515625,
           24.80257606506348,
           10.397424697875977,
           3.1616666316986084,
           3.15984845161438,
           53,
           45.47075653076172,
           23.18000030517578,
           166,
           278.9647521972656,
           109.58441162109376,
           14.766111373901367,
           48.11558151245117,
           22.90724754333496,
           55.79000473022461,
           43.73936462402344,
           69.52436065673828,
           120.94450378417967,
           126.68578338623048,
           28.867143630981445,
           29.57999992370605,
           54.02000045776367,
           34.1971435546875,
           21.12666702270508,
           47.61333465576172,
           8.019047737121582,
           111.23345184326172,
           88.20047760009766,
           11.0600004196167,
           610.6956787109375,
           8.680000305175781,
           362.956787109375,
           71.38987731933594,
           35.92408752441406,
           0,
           38.92333221435547,
           25.34000015258789,
           7.462500095367432,
           19.513334274291992,
           4.746666431427002,
           0,
           15.137857437133787,
           37.310001373291016,
           53.63833236694336,
           61.18000030517578,
           5.313333511352539,
           13.720000267028809,
           51.81142807006836,
           23.459999084472656,
           30.9233341217041,
           39.84603118896485,
           0,
           23.57999992370605,
           5.473333358764648,
           40.13846206665039,
           123.82809448242188,
           67.22190856933594,
           88.49571228027344,
           48.18505096435547,
           64.63333129882812,
           50.26666641235352,
           65.03904724121094,
           47.21833419799805,
           59.377777099609375,
           50.56380844116211,
           42.459999084472656,
           63.1678581237793,
           3.422222137451172,
           47.18999862670898,
           12.420000076293944,
           42.58000183105469,
           32.62190628051758,
           42.03206253051758,
           54.8466682434082,
           79.73238372802734,
           40.90666580200195,
           5.019999980926514,
           17.136667251586914,
           34.25666809082031,
           36.08000183105469,
           19.09666633605957,
           26.996665954589844,
           37.68999862670898,
           13.943333625793455,
           52.68000030517578,
           30.98095321655273,
           34.967498779296875,
           34.45333480834961,
           47.25968170166016,
           19,
           11.512380599975586,
           0,
           20.80238151550293,
           30.691429138183597,
           46.71666717529297,
           13.359999656677246,
           0,
           19.459999084472656,
           63.18381118774414,
           45.123077392578125,
           36.51380920410156,
           51.12333297729492,
           26.002857208251957,
           52.9900016784668,
           40.72666549682617,
           151.10848999023438,
           51.84464263916016,
           51.10219955444336,
           50.94278717041016,
           32.18589782714844,
           44.43169021606445,
           53.185001373291016,
           34.81999969482422,
           34.72999954223633,
           38.73666763305664,
           153.17393493652344,
           35.50539779663086,
           65.48619079589844,
           36.58821487426758,
           0,
           66.87666320800781,
           66.15523529052734,
           70.30500030517578,
           55.40999984741211,
           62.24333190917969,
           69.33333587646484,
           32.82857131958008,
           51.31416702270508,
           69.12999725341797,
           40.18952560424805,
           42.17761993408203,
           null,
           null,
           18.239999771118164,
           92.6114273071289,
           39.06571578979492,
           55.829193115234375,
           40.220001220703125,
           46.23301696777344,
           39.02999877929688,
           48.6875,
           64.62000274658203,
           null,
           20.28469657897949,
           3.220000028610229,
           59.58000183105469,
           42.54666519165039,
           23.25,
           29.763334274291992,
           0,
           5.154285907745361,
           31.08623313903809,
           36.52888870239258,
           30.286666870117188,
           58.51333236694336,
           7.12333345413208,
           50.70000076293945,
           13.148571014404297,
           43.13999938964844,
           64.16952514648438,
           73.2646484375,
           73.48628234863281,
           60.59066009521485,
           436.3106994628906,
           0,
           0,
           77.67361450195312,
           0,
           10.68333339691162,
           29.75428581237793,
           19.492143630981445,
           0,
           43.119998931884766,
           0,
           14.039047241210938,
           48.47999954223633,
           25.409048080444336,
           50.45428466796875,
           42.08000183105469,
           12.489999771118164,
           0,
           0,
           10.876667022705078,
           0,
           0,
           52.43571472167969,
           0,
           12.949999809265137,
           0,
           9.276666641235352,
           43.84222412109375,
           27.94253921508789,
           33.189842224121094,
           null,
           70.63714599609375,
           47.361427307128906,
           0,
           0,
           0,
           44.345001220703125,
           9.119999885559082,
           31.80476188659668,
           56.36158752441406,
           41.31330108642578,
           63.15285873413086,
           49.01714324951172,
           0,
           25.98785781860352,
           28.6200008392334,
           31.25333404541016,
           28.70916748046875,
           30.638334274291992,
           6.385714054107666,
           59.02333450317383,
           22.20571517944336,
           0,
           52.060001373291016,
           87.95999908447266,
           56.18999862670898,
           21.59000015258789,
           31.46333312988281,
           52.4477767944336,
           20.280000686645508,
           63.36333465576172,
           14.65333366394043,
           0,
           0,
           27.049091339111328,
           0,
           23.16428565979004,
           149.42572021484375,
           0,
           45.25249862670898,
           0,
           24.8125,
           373.9812622070313,
           19.983333587646484,
           42.22999954223633,
           6.833333492279053,
           24.24333381652832,
           38.43714141845703,
           34.84000015258789,
           384.7000122070313,
           25.68857192993164,
           25.169523239135746,
           3.200000047683716,
           42.27999877929688,
           40.26737976074219,
           36.611427307128906,
           43.658573150634766,
           11,
           22.8700008392334,
           37.17250061035156,
           0,
           45.6205940246582,
           29.418333053588867,
           33.31666564941406,
           29.020000457763672,
           25.09749984741211,
           13.039999961853027,
           33.14409255981445,
           23.46571350097656,
           42.18833160400391,
           1268.1348876953125,
           47.39666748046875,
           43.33631134033203,
           14.426190376281738,
           65.25428771972656,
           0
          ],
          "coloraxis": "coloraxis",
          "symbol": "circle"
         },
         "mode": "markers",
         "name": "",
         "orientation": "v",
         "showlegend": false,
         "type": "scatter",
         "x": [
          5.26189990234375,
          8.752599609375,
          4.28160009765625,
          2.427300048828125,
          11.1107001953125,
          5.91710009765625,
          4.1847001953125,
          4.34489990234375,
          4.62589990234375,
          5.6722001953125,
          4.0145,
          6.1232998046875,
          9.1207998046875,
          3.78810009765625,
          1.0075,
          10.016400390625,
          21.2065,
          2.40460009765625,
          4.55639990234375,
          2.467300048828125,
          2.50760009765625,
          2.80560009765625,
          4.00439990234375,
          4.006199951171875,
          5.57960009765625,
          4.014199951171875,
          3.02410009765625,
          5.24960009765625,
          5.3345,
          4.6442998046875,
          7.51360009765625,
          4.01710009765625,
          6.39810009765625,
          5.8887998046875,
          10.0062001953125,
          5.00860009765625,
          5.75389990234375,
          3.005699951171875,
          6.3685,
          5.27160009765625,
          4.7237001953125,
          11.287099609375,
          11.085599609375,
          12.279,
          5.231,
          14.1662998046875,
          6.7732001953125,
          4.51010009765625,
          12.0237001953125,
          5.54939990234375,
          7.83189990234375,
          21.52469921875,
          5.0135,
          13.865900390625,
          5.587,
          4.33060009765625,
          7.4027998046875,
          6.2707998046875,
          2.0145,
          6.6747001953125,
          2.0905,
          1.6144000244140626,
          4.034300048828125,
          3.60989990234375,
          3.006300048828125,
          3.602800048828125,
          5.8132998046875,
          7.0612998046875,
          9.137900390625,
          3.20489990234375,
          4.2382998046875,
          6.7547001953125,
          5.9035,
          4.482,
          7.238,
          1.7574000244140624,
          4.25910009765625,
          3.659090087890625,
          9.1898603515625,
          15.6086201171875,
          9.39555078125,
          9.095470703125,
          8.501900390625,
          8.903669921875,
          6.01756982421875,
          10.082830078125,
          9.41344921875,
          10.087330078125,
          7.80460009765625,
          6.73714013671875,
          10.0353798828125,
          7.1307900390625,
          6.463740234375,
          5.0171298828125,
          7.60547021484375,
          15.2812197265625,
          6.00280029296875,
          8.84825,
          10.6041396484375,
          7.24677001953125,
          3.00493994140625,
          5.00194970703125,
          4.95581982421875,
          7.27908984375,
          5.50766015625,
          5.00268017578125,
          5.50493994140625,
          4.54358984375,
          9.99975,
          4.48793017578125,
          5.15243017578125,
          5.0237099609375,
          5.271240234375,
          5.507240234375,
          3.64639990234375,
          1.5916199951171874,
          5.35966015625,
          10.3025,
          12.0375400390625,
          2.638719970703125,
          1.917010009765625,
          1.8604100341796874,
          12.5001494140625,
          6.8617197265625,
          4.61902978515625,
          10.4987197265625,
          6.29531982421875,
          11.31891015625,
          12.0341796875,
          10.0095,
          6.95667041015625,
          6.85952978515625,
          6.89702978515625,
          9.046900390625,
          15.097310546875,
          15.02058984375,
          11.54541015625,
          4.99502001953125,
          6.04089990234375,
          19.5945,
          6.807330078125,
          9.003400390625,
          4.81803955078125,
          4.31889013671875,
          10.04475,
          8.6536396484375,
          12.50441015625,
          11.6324599609375,
          10.607669921875,
          13.1060400390625,
          10.0191796875,
          13.5081103515625,
          11.5037998046875,
          5.9808701171875,
          9.0339501953125,
          10.5,
          8,
          7.3583798828125,
          20.65241015625,
          15.5667001953125,
          10.3778896484375,
          6.256240234375,
          9.0028798828125,
          6.01072021484375,
          7.0205400390625,
          12.5199404296875,
          21.1,
          7.4926298828125,
          10.008330078125,
          10.0071103515625,
          10.501009765625,
          7.00039990234375,
          12.0045498046875,
          5.5,
          5.0097099609375,
          11.5725595703125,
          11.522169921875,
          11.0026904296875,
          10.44033984375,
          10.01833984375,
          7.039,
          7.61491015625,
          8.882,
          10.262759765625,
          10.707349609375,
          13.0004296875,
          10.8998095703125,
          11.0800498046875,
          5.685080078125,
          5.05464013671875,
          11.015259765625,
          8.06251953125,
          9.3242099609375,
          13.5041494140625,
          14.0033896484375,
          5.00238037109375,
          13.5028896484375,
          4.69847998046875,
          10.1132705078125,
          11.44308984375,
          5.01935986328125,
          8.71076953125,
          10.1538701171875,
          14.333970703125,
          10.017220703125,
          5.35472998046875,
          12.018169921875,
          10.0181396484375,
          10.1387099609375,
          13.016,
          13.6032900390625,
          10.248240234375,
          6.59608984375,
          10.53925,
          10.0073603515625,
          12.0687802734375,
          12.426689453125,
          10,
          18.02669921875,
          7.77164990234375,
          21.1,
          8.145099609375,
          7.87589013671875,
          10.4680595703125,
          9.998259765625,
          5.578740234375,
          9.1124404296875,
          6.6061298828125,
          10.656779296875,
          7.00481005859375,
          10.0132001953125,
          10.03425,
          14.0075703125,
          8.308919921875,
          10.006,
          5.50793994140625,
          10.00416015625,
          13.00323046875,
          8.01497021484375,
          6.07510009765625,
          8.638490234375,
          12.676,
          13.0088095703125,
          5.0273798828125,
          5.617740234375,
          10.0676201171875,
          10.0649404296875,
          9.8713505859375,
          11.00308984375,
          9.749240234375,
          9.5205400390625,
          10.04441015625,
          5.05189013671875,
          12.18098046875,
          30.00905078125,
          9.5728095703125,
          5.00201025390625,
          9.2334697265625,
          12.5121796875,
          11.0155302734375,
          6.428490234375,
          7.45889013671875,
          12.5198203125,
          10.0055703125,
          7.00597998046875,
          10.0026201171875,
          13.568400390625,
          6.99139013671875,
          5.00793017578125,
          6.01502978515625,
          6.51081982421875,
          7.40597998046875,
          18.0086796875,
          8.501130859375,
          7.0354599609375,
          9.6349296875,
          17.53419921875,
          4.2146201171875,
          6.22364013671875,
          6.00189013671875,
          5.08118017578125,
          5.0627099609375,
          5.00981982421875,
          9.9971796875,
          5.4570498046875,
          10.0079599609375,
          15.050919921875,
          26.377279296875,
          5.109330078125,
          10.001609375,
          5.26781982421875,
          8.50376953125,
          6.67985986328125
         ],
         "xaxis": "x",
         "y": [
          13.321265575553795,
          12.02188424027089,
          12.941864275031488,
          13.892337322386725,
          10.804570692362237,
          11.940336519934135,
          14.000855672049257,
          11.967589631551261,
          11.802437738084693,
          11.331809491190343,
          12.556211989574283,
          11.928506113027598,
          11.48474267116999,
          14.40038051907339,
          14.925925925925926,
          11.465513960651828,
          11.684022038567493,
          13.236330812786697,
          10.207243091747044,
          13.665046424278845,
          14.420703437000796,
          11.39972951643623,
          13.914903135557433,
          13.50404477923104,
          12.10033756118223,
          13.989467400018151,
          16.03352039994477,
          12.786576692532138,
          13.162577107607952,
          10.75899568653475,
          13.390574431466582,
          15.032807018256237,
          10.589958782327587,
          9.720164739511693,
          13.18532968635615,
          15.076053805654265,
          11.029840068390575,
          13.005432481032152,
          7.102416356877324,
          12.601434496389441,
          10.275118249622357,
          12.158455593581687,
          11.574291935542345,
          11.876518001074691,
          12.587967914438503,
          11.556464830472468,
          12.29627872068835,
          11.680834785296762,
          11.502875552252194,
          12.2638671875,
          13.84815306897716,
          12.21837230960265,
          15.804378283712783,
          9.292114930426285,
          12.079999999999998,
          7.657249681513997,
          11.73495345525099,
          12.833927968661172,
          16.944392523364485,
          11.94280353038022,
          14.528571428571428,
          16.652836928053368,
          11.275993925296001,
          15.34314008079988,
          16.472876979880137,
          15.169684416118422,
          11.014673314144737,
          12.364143626884728,
          11.799297491481347,
          15.676140826681385,
          11.957585655858152,
          11.679596879502881,
          11.256673728813558,
          12.068212415856395,
          11.28,
          16.871040234375,
          10.975490588090553,
          13.055227270967542,
          13.492454023501223,
          12.094496862220192,
          11.528283167177914,
          11.476934641167194,
          12.477309990317977,
          11.529932272931655,
          11.137918440713369,
          12.848916205752213,
          13.837655037770517,
          11.929825322355454,
          11.519704941190037,
          12.765107627467106,
          13.689794459312239,
          13.861146944181964,
          11.86612179691484,
          15.81582099660683,
          11.862951808248484,
          11.37559781133685,
          11.261115713750653,
          11.71522618609783,
          11.495002328929539,
          14.056234951676995,
          16.341063125472054,
          15.893220604865402,
          12.890860814441837,
          13.431431797796002,
          12.993169438073394,
          13.83229541690668,
          13.063799465433423,
          12.107271234270913,
          13.719169207317073,
          11.104157135953608,
          13.935949386034935,
          11.10212146063536,
          11.295514787946429,
          13.12115476091992,
          12.64647364974711,
          12.537925563286379,
          14.672833887832702,
          12.922996515679442,
          11.931482417572962,
          13.64855157260237,
          13.220758688038794,
          15.575525867550871,
          12.10017152208255,
          12.102984329066633,
          14.510041209914919,
          12.125566575433108,
          10.88005346480437,
          11.977682705026456,
          13.06485128920386,
          10.429580318379159,
          11.621351961281903,
          11.108550259362346,
          12.08238794479927,
          13.001533495508982,
          11.348991014564628,
          11.674033557318653,
          12.765195504453317,
          11.526969275841346,
          12.983426655783582,
          12.49826364280652,
          11.581468941989604,
          11.184348311335404,
          13.260659314076834,
          10.700622499784927,
          11.254621848739497,
          11.015948633088755,
          11.927895220588235,
          11.60666736678908,
          12.475534700669716,
          11.783652382773475,
          11.657739778603748,
          12.304958822273534,
          12.180493910845588,
          10.61169661009118,
          13.166890972925101,
          12.6,
          13.333333333333334,
          12.602363262666508,
          11.45235313655268,
          12.55097888087906,
          11.307627946239407,
          11.278149646344517,
          13.021441373292486,
          11.252518342921217,
          11.582925820634738,
          11.920599192508595,
          12.349211510323526,
          10.880785630546592,
          11.611340084192719,
          12.105375425277218,
          11.507955907534246,
          12.215918394783083,
          13.458853720608845,
          14.102564102564102,
          13.704373753324468,
          12.366047626335709,
          12.814276094763668,
          14.166554201314378,
          11.578935131700554,
          14.300564408207771,
          12.307139388052452,
          12.834118240870785,
          12.326599845797995,
          11.42775600255181,
          12.650626384558581,
          11.785834015361372,
          12.122123711190918,
          9.354638671875,
          11.816563672777136,
          11.408592158111286,
          12.212791855943948,
          11.504189580856124,
          12.64299655720339,
          11.814079681804374,
          12.410685065084932,
          12.549525669642856,
          12.832735674333422,
          13.329021221187944,
          12.924307358226837,
          12.456946911853644,
          12.419034713273195,
          12.17816322815534,
          11.879731043833278,
          13.077114681006083,
          11.878127315958498,
          10.971558298057767,
          13.094858268386803,
          11.797612932409226,
          11.869709222560976,
          13.074107142857143,
          12.020580299613403,
          11.579932468220338,
          13.162928734756099,
          13.933639368343737,
          12.405818617639463,
          12.9733081470215,
          12.734438380657558,
          15.15151515151515,
          12.22609592831575,
          11.111175396520055,
          14.775335537833106,
          13.113756079494635,
          13.824088002041687,
          11.59895797264543,
          13.24760219221568,
          11.588842956578189,
          11.60820436902866,
          11.861380338216957,
          11.458902469758064,
          12.10043964056502,
          12.516500244140625,
          10.747783397798274,
          13.811901705012327,
          11.540166558159724,
          13.29700996677741,
          13.827464288049164,
          14.195891431809223,
          12.453213537509976,
          11.592564392702892,
          12.849800441576086,
          11.333296225856413,
          12.729037656903765,
          13.814665030420354,
          11.227399242013028,
          10.644139391447368,
          15.952214974416815,
          12.311853736620796,
          11.210366596017352,
          12.363022296348316,
          12.027849500942425,
          10.985238506610576,
          11.346054773297773,
          17.30428591073977,
          12.554116715574006,
          11.03724793752554,
          12.820727103097099,
          11.933225257828031,
          12.682369712180465,
          12.134657024515086,
          10.449514883893281,
          12.231799600290698,
          12.222123118883705,
          13.132678649475524,
          12.528714130434782,
          13.225761892861824,
          12.657093997144115,
          9.109705596092876,
          13.088405872172387,
          11.892182475469987,
          13.408115929760063,
          14.052129117018884,
          13.871762710555412,
          13.153022291539866,
          12.635867503612715,
          13.008554627311247,
          12.752112821691176,
          12.487263538575668,
          17.663134367724098,
          12.928508073968551,
          13.31288015538355,
          13.499814489160515,
          13.28407861470481,
          11.321626721398307,
          12.789568896588486,
          12.410220655006317,
          12.363986224905629,
          12.58613512630662,
          7.8129180079603415,
          12.124975795154912,
          13.928740328820115,
          12.394870174632354,
          13.027051196808511,
          12.942677883645048
         ],
         "yaxis": "y"
        },
        {
         "hovertemplate": "Activity Date: %{customdata[1]|%Y-%m-%d}<br>Distance (km): %{x:.1f}<br>Average speed (km/hr): %{y:.1f}<br>Elevation gain: %{customdata[0]:.1f}",
         "legendgroup": "",
         "line": {
          "color": "black"
         },
         "marker": {
          "symbol": "circle"
         },
         "mode": "lines",
         "name": "",
         "showlegend": false,
         "type": "scatter",
         "x": [
          1.0075,
          1.5916199951171874,
          1.6144000244140626,
          1.7574000244140624,
          1.8604100341796874,
          1.917010009765625,
          2.0145,
          2.0905,
          2.40460009765625,
          2.427300048828125,
          2.467300048828125,
          2.50760009765625,
          2.638719970703125,
          2.80560009765625,
          3.00493994140625,
          3.005699951171875,
          3.006300048828125,
          3.02410009765625,
          3.20489990234375,
          3.602800048828125,
          3.60989990234375,
          3.64639990234375,
          3.659090087890625,
          3.78810009765625,
          4.00439990234375,
          4.006199951171875,
          4.014199951171875,
          4.0145,
          4.01710009765625,
          4.034300048828125,
          4.1847001953125,
          4.2146201171875,
          4.2382998046875,
          4.25910009765625,
          4.28160009765625,
          4.31889013671875,
          4.33060009765625,
          4.34489990234375,
          4.482,
          4.48793017578125,
          4.51010009765625,
          4.54358984375,
          4.55639990234375,
          4.61902978515625,
          4.62589990234375,
          4.6442998046875,
          4.69847998046875,
          4.7237001953125,
          4.81803955078125,
          4.95581982421875,
          4.99502001953125,
          5.00194970703125,
          5.00201025390625,
          5.00238037109375,
          5.00268017578125,
          5.00793017578125,
          5.00860009765625,
          5.0097099609375,
          5.00981982421875,
          5.0135,
          5.0171298828125,
          5.01935986328125,
          5.0237099609375,
          5.0273798828125,
          5.05189013671875,
          5.05464013671875,
          5.0627099609375,
          5.08118017578125,
          5.109330078125,
          5.15243017578125,
          5.231,
          5.24960009765625,
          5.26189990234375,
          5.26781982421875,
          5.271240234375,
          5.27160009765625,
          5.3345,
          5.35472998046875,
          5.35966015625,
          5.4570498046875,
          5.5,
          5.50493994140625,
          5.507240234375,
          5.50766015625,
          5.50793994140625,
          5.54939990234375,
          5.578740234375,
          5.57960009765625,
          5.587,
          5.617740234375,
          5.6722001953125,
          5.685080078125,
          5.75389990234375,
          5.8132998046875,
          5.8887998046875,
          5.9035,
          5.91710009765625,
          5.9808701171875,
          6.00189013671875,
          6.00280029296875,
          6.01072021484375,
          6.01502978515625,
          6.01756982421875,
          6.04089990234375,
          6.07510009765625,
          6.1232998046875,
          6.22364013671875,
          6.256240234375,
          6.2707998046875,
          6.29531982421875,
          6.3685,
          6.39810009765625,
          6.428490234375,
          6.463740234375,
          6.51081982421875,
          6.59608984375,
          6.6061298828125,
          6.6747001953125,
          6.67985986328125,
          6.73714013671875,
          6.7547001953125,
          6.7732001953125,
          6.807330078125,
          6.85952978515625,
          6.8617197265625,
          6.89702978515625,
          6.95667041015625,
          6.99139013671875,
          7.00039990234375,
          7.00481005859375,
          7.00597998046875,
          7.0205400390625,
          7.0354599609375,
          7.039,
          7.0612998046875,
          7.1307900390625,
          7.238,
          7.24677001953125,
          7.27908984375,
          7.3583798828125,
          7.4027998046875,
          7.40597998046875,
          7.45889013671875,
          7.4926298828125,
          7.51360009765625,
          7.60547021484375,
          7.61491015625,
          7.77164990234375,
          7.80460009765625,
          7.83189990234375,
          7.87589013671875,
          8,
          8.01497021484375,
          8.06251953125,
          8.145099609375,
          8.308919921875,
          8.501130859375,
          8.501900390625,
          8.50376953125,
          8.638490234375,
          8.6536396484375,
          8.71076953125,
          8.752599609375,
          8.84825,
          8.882,
          8.903669921875,
          9.0028798828125,
          9.003400390625,
          9.0339501953125,
          9.046900390625,
          9.095470703125,
          9.1124404296875,
          9.1207998046875,
          9.137900390625,
          9.1898603515625,
          9.2334697265625,
          9.3242099609375,
          9.39555078125,
          9.41344921875,
          9.5205400390625,
          9.5728095703125,
          9.6349296875,
          9.749240234375,
          9.8713505859375,
          9.9971796875,
          9.998259765625,
          9.99975,
          10,
          10.001609375,
          10.0026201171875,
          10.00416015625,
          10.0055703125,
          10.006,
          10.0062001953125,
          10.0071103515625,
          10.0073603515625,
          10.0079599609375,
          10.008330078125,
          10.0095,
          10.0132001953125,
          10.016400390625,
          10.017220703125,
          10.0181396484375,
          10.01833984375,
          10.0191796875,
          10.03425,
          10.0353798828125,
          10.04441015625,
          10.04475,
          10.0649404296875,
          10.0676201171875,
          10.082830078125,
          10.087330078125,
          10.1132705078125,
          10.1387099609375,
          10.1538701171875,
          10.248240234375,
          10.262759765625,
          10.3025,
          10.3778896484375,
          10.44033984375,
          10.4680595703125,
          10.4987197265625,
          10.5,
          10.501009765625,
          10.53925,
          10.6041396484375,
          10.607669921875,
          10.656779296875,
          10.707349609375,
          10.8998095703125,
          11.0026904296875,
          11.00308984375,
          11.015259765625,
          11.0155302734375,
          11.0800498046875,
          11.085599609375,
          11.1107001953125,
          11.287099609375,
          11.31891015625,
          11.44308984375,
          11.5037998046875,
          11.522169921875,
          11.54541015625,
          11.5725595703125,
          11.6324599609375,
          12.0045498046875,
          12.018169921875,
          12.0237001953125,
          12.0341796875,
          12.0375400390625,
          12.0687802734375,
          12.18098046875,
          12.279,
          12.426689453125,
          12.5001494140625,
          12.50441015625,
          12.5121796875,
          12.5198203125,
          12.5199404296875,
          12.676,
          13.0004296875,
          13.00323046875,
          13.0088095703125,
          13.016,
          13.1060400390625,
          13.5028896484375,
          13.5041494140625,
          13.5081103515625,
          13.568400390625,
          13.6032900390625,
          13.865900390625,
          14.0033896484375,
          14.0075703125,
          14.1662998046875,
          14.333970703125,
          15.02058984375,
          15.050919921875,
          15.097310546875,
          15.2812197265625,
          15.5667001953125,
          15.6086201171875,
          17.53419921875,
          18.0086796875,
          18.02669921875,
          19.5945,
          20.65241015625,
          21.1,
          21.1,
          21.2065,
          21.52469921875,
          26.377279296875,
          30.00905078125
         ],
         "xaxis": "x",
         "y": [
          13.229592080040936,
          13.172414322722126,
          13.170184453863433,
          13.156186612041651,
          13.146103270623753,
          13.140562868488308,
          13.13101986525399,
          13.123580452817238,
          13.092834134752914,
          13.090612104502103,
          13.086696624272236,
          13.082751773161004,
          13.069916841394555,
          13.05358144544848,
          13.034068665017774,
          13.033994269937478,
          13.033935528174752,
          13.032193134692822,
          13.01449518317237,
          12.975545929246833,
          12.974850945844949,
          12.971278070135194,
          12.970035865869638,
          12.957407462302326,
          12.936234522077868,
          12.936058320687884,
          12.93527522464191,
          12.935245853760547,
          12.934991337986327,
          12.933307686267124,
          12.918585466263899,
          12.915656694699381,
          12.913338760992987,
          12.911302682595622,
          12.90910022496632,
          12.905450014698314,
          12.904303761684732,
          12.90290399662111,
          12.889483678573955,
          12.888903191423177,
          12.886733044153194,
          12.88345483318486,
          12.882200894905678,
          12.876070243206893,
          12.87539774800628,
          12.87359663665982,
          12.868293101481761,
          12.865824370166417,
          12.856589773135505,
          12.843102874717744,
          12.839265684973917,
          12.83858735861378,
          12.838581431861481,
          12.83854520219822,
          12.838515855215052,
          12.838001948434883,
          12.837936371788455,
          12.837827730595064,
          12.83781697640742,
          12.837456735019574,
          12.837101416659847,
          12.836883130548888,
          12.83645731251461,
          12.836098074850943,
          12.833698839485967,
          12.833429650220165,
          12.832639719290489,
          12.830831725263934,
          12.828076215611443,
          12.823857276104482,
          12.816166311269662,
          12.814345603403495,
          12.813141612351366,
          12.812562128924768,
          12.812227315216147,
          12.812192089277067,
          12.806035006174875,
          12.804054753960475,
          12.803572153815443,
          12.794038972739171,
          12.789834706723793,
          12.789351150650972,
          12.78912598185992,
          12.78908487696493,
          12.78905748963373,
          12.784999098199183,
          12.78212706094903,
          12.782042891507077,
          12.781318537223829,
          12.778309467724908,
          12.772978545215652,
          12.771717772052769,
          12.764981205523979,
          12.759166726941903,
          12.751776258008025,
          12.750337299904992,
          12.749006027067558,
          12.742763770799234,
          12.740706184026584,
          12.740617091556508,
          12.739841834118417,
          12.739419983184472,
          12.739171346366163,
          12.73688763487467,
          12.733539880159576,
          12.728821755160418,
          12.718999740502248,
          12.715808614555627,
          12.714383421812776,
          12.711983230520012,
          12.704819842232766,
          12.701922377303386,
          12.698947577815755,
          12.695497060863183,
          12.690888580781593,
          12.682541753889716,
          12.681558964528307,
          12.674846821954565,
          12.674341757506458,
          12.668734763051306,
          12.667015861494827,
          12.665204951888512,
          12.661864079853512,
          12.656754406831366,
          12.656540040024348,
          12.653083644115863,
          12.64724560191375,
          12.643846991840203,
          12.642965052860692,
          12.642533355870505,
          12.642418835721204,
          12.640993595181964,
          12.639533128703645,
          12.63918660487959,
          12.637003743769995,
          12.630201552798388,
          12.619707090735993,
          12.618848619783739,
          12.615684928964704,
          12.607923464455336,
          12.60357533130749,
          12.603264033422514,
          12.59808481665361,
          12.594782133933839,
          12.59272942239292,
          12.583736531703835,
          12.582812484105151,
          12.567469699678533,
          12.564244303720622,
          12.561572007582294,
          12.557265935257227,
          12.545117192356992,
          12.543651802850553,
          12.53899734264224,
          12.530913826060255,
          12.514877946189138,
          12.496062993045491,
          12.495987665935601,
          12.4958047013565,
          12.482617295115501,
          12.481134364334105,
          12.475542091166929,
          12.471447470069121,
          12.462084539732336,
          12.458780853288385,
          12.456659649521274,
          12.446948283504854,
          12.44689733255362,
          12.443906903646614,
          12.442639247803639,
          12.437884845344831,
          12.436223729623286,
          12.435405455434623,
          12.433731530280687,
          12.428645325285798,
          12.424376534144562,
          12.415494244300838,
          12.408510905012932,
          12.406758880558513,
          12.396276080815163,
          12.391159572909315,
          12.385078820641194,
          12.373889303482331,
          12.3619362867972,
          12.349619252809445,
          12.349513527195816,
          12.349367652614987,
          12.349343180863551,
          12.349185643963677,
          12.34908670543736,
          12.3489359556248,
          12.348797919651853,
          12.34875585882907,
          12.348736262309364,
          12.34864716983929,
          12.348622698087855,
          12.348564004121517,
          12.348527774458258,
          12.348413254308957,
          12.348051053269138,
          12.347737795732193,
          12.34765749779779,
          12.347567544992705,
          12.347547948473,
          12.347465738683018,
          12.345990550916726,
          12.345879950071366,
          12.344996003643494,
          12.344962737356385,
          12.342986356649536,
          12.342724050063824,
          12.341235192530128,
          12.340794701004267,
          12.338255470014374,
          12.335765278120133,
          12.334281295818169,
          12.325043687614718,
          12.323622414175809,
          12.319732361625167,
          12.312352694675322,
          12.306239632047884,
          12.303526231014564,
          12.300525000123525,
          12.30039967799019,
          12.300300835056653,
          12.296557613014631,
          12.290205759625128,
          12.289860191728863,
          12.28505302205602,
          12.28010284558572,
          12.261263516283416,
          12.251192817010548,
          12.251153719563916,
          12.249962442351402,
          12.249935963151605,
          12.24362033942536,
          12.243077085662023,
          12.240620064462112,
          12.223352854004057,
          12.220239014819299,
          12.20808343703536,
          12.202140720740188,
          12.200342524973486,
          12.198067608017666,
          12.19541003316731,
          12.189546563285969,
          12.153123802612518,
          12.151790570123113,
          12.151249228215356,
          12.150223422103375,
          12.149894487350666,
          12.146836474348872,
          12.135853533185534,
          12.126258694766774,
          12.111801816419996,
          12.104611040801554,
          12.10419396950656,
          12.103433433356443,
          12.102685515453159,
          12.102673757541336,
          12.087397553485326,
          12.055640102800606,
          12.055365942710292,
          12.054819821163582,
          12.054115971531441,
          12.045302221710294,
          12.00645580171682,
          12.006332487031846,
          12.005944762720022,
          12.00004315131984,
          11.996627908102738,
          11.970921767110191,
          11.957463355340586,
          11.957054122653476,
          11.941516567939544,
          11.925103765740634,
          11.857892673976465,
          11.854923753444746,
          11.850382714068777,
          11.832380395139833,
          11.804435566854725,
          11.800332151221244,
          11.61184297864083,
          11.565397506269592,
          11.563633628310571,
          11.410166304226639,
          11.30661064668228,
          11.26279741707495,
          11.26279741707495,
          11.252372450962925,
          11.221224882208542,
          10.746220348214697,
          10.390717112052904
         ],
         "yaxis": "y"
        }
       ],
       "layout": {
        "autosize": false,
        "coloraxis": {
         "colorbar": {
          "thickness": 15,
          "tickfont": {
           "size": 10
          },
          "ticklen": 3,
          "title": {
           "font": {
            "size": 12
           },
           "text": "Elevation gain"
          }
         },
         "colorscale": [
          [
           0,
           "rgb(3, 35, 51)"
          ],
          [
           0.09090909090909091,
           "rgb(13, 48, 100)"
          ],
          [
           0.18181818181818182,
           "rgb(53, 50, 155)"
          ],
          [
           0.2727272727272727,
           "rgb(93, 62, 153)"
          ],
          [
           0.36363636363636365,
           "rgb(126, 77, 143)"
          ],
          [
           0.45454545454545453,
           "rgb(158, 89, 135)"
          ],
          [
           0.5454545454545454,
           "rgb(193, 100, 121)"
          ],
          [
           0.6363636363636364,
           "rgb(225, 113, 97)"
          ],
          [
           0.7272727272727273,
           "rgb(246, 139, 69)"
          ],
          [
           0.8181818181818182,
           "rgb(251, 173, 60)"
          ],
          [
           0.9090909090909091,
           "rgb(246, 211, 70)"
          ],
          [
           1,
           "rgb(231, 250, 90)"
          ]
         ]
        },
        "height": 600,
        "legend": {
         "tracegroupgap": 0
        },
        "template": {
         "data": {
          "bar": [
           {
            "error_x": {
             "color": "rgb(36,36,36)"
            },
            "error_y": {
             "color": "rgb(36,36,36)"
            },
            "marker": {
             "line": {
              "color": "rgb(234,234,242)",
              "width": 0.5
             },
             "pattern": {
              "fillmode": "overlay",
              "size": 10,
              "solidity": 0.2
             }
            },
            "type": "bar"
           }
          ],
          "barpolar": [
           {
            "marker": {
             "line": {
              "color": "rgb(234,234,242)",
              "width": 0.5
             },
             "pattern": {
              "fillmode": "overlay",
              "size": 10,
              "solidity": 0.2
             }
            },
            "type": "barpolar"
           }
          ],
          "carpet": [
           {
            "aaxis": {
             "endlinecolor": "rgb(36,36,36)",
             "gridcolor": "white",
             "linecolor": "white",
             "minorgridcolor": "white",
             "startlinecolor": "rgb(36,36,36)"
            },
            "baxis": {
             "endlinecolor": "rgb(36,36,36)",
             "gridcolor": "white",
             "linecolor": "white",
             "minorgridcolor": "white",
             "startlinecolor": "rgb(36,36,36)"
            },
            "type": "carpet"
           }
          ],
          "choropleth": [
           {
            "colorbar": {
             "outlinewidth": 0,
             "tickcolor": "rgb(36,36,36)",
             "ticklen": 8,
             "ticks": "outside",
             "tickwidth": 2
            },
            "type": "choropleth"
           }
          ],
          "contour": [
           {
            "colorbar": {
             "outlinewidth": 0,
             "tickcolor": "rgb(36,36,36)",
             "ticklen": 8,
             "ticks": "outside",
             "tickwidth": 2
            },
            "colorscale": [
             [
              0,
              "rgb(2,4,25)"
             ],
             [
              0.06274509803921569,
              "rgb(24,15,41)"
             ],
             [
              0.12549019607843137,
              "rgb(47,23,57)"
             ],
             [
              0.18823529411764706,
              "rgb(71,28,72)"
             ],
             [
              0.25098039215686274,
              "rgb(97,30,82)"
             ],
             [
              0.3137254901960784,
              "rgb(123,30,89)"
             ],
             [
              0.3764705882352941,
              "rgb(150,27,91)"
             ],
             [
              0.4392156862745098,
              "rgb(177,22,88)"
             ],
             [
              0.5019607843137255,
              "rgb(203,26,79)"
             ],
             [
              0.5647058823529412,
              "rgb(223,47,67)"
             ],
             [
              0.6274509803921569,
              "rgb(236,76,61)"
             ],
             [
              0.6901960784313725,
              "rgb(242,107,73)"
             ],
             [
              0.7529411764705882,
              "rgb(244,135,95)"
             ],
             [
              0.8156862745098039,
              "rgb(245,162,122)"
             ],
             [
              0.8784313725490196,
              "rgb(246,188,153)"
             ],
             [
              0.9411764705882353,
              "rgb(247,212,187)"
             ],
             [
              1,
              "rgb(250,234,220)"
             ]
            ],
            "type": "contour"
           }
          ],
          "contourcarpet": [
           {
            "colorbar": {
             "outlinewidth": 0,
             "tickcolor": "rgb(36,36,36)",
             "ticklen": 8,
             "ticks": "outside",
             "tickwidth": 2
            },
            "type": "contourcarpet"
           }
          ],
          "heatmap": [
           {
            "colorbar": {
             "outlinewidth": 0,
             "tickcolor": "rgb(36,36,36)",
             "ticklen": 8,
             "ticks": "outside",
             "tickwidth": 2
            },
            "colorscale": [
             [
              0,
              "rgb(2,4,25)"
             ],
             [
              0.06274509803921569,
              "rgb(24,15,41)"
             ],
             [
              0.12549019607843137,
              "rgb(47,23,57)"
             ],
             [
              0.18823529411764706,
              "rgb(71,28,72)"
             ],
             [
              0.25098039215686274,
              "rgb(97,30,82)"
             ],
             [
              0.3137254901960784,
              "rgb(123,30,89)"
             ],
             [
              0.3764705882352941,
              "rgb(150,27,91)"
             ],
             [
              0.4392156862745098,
              "rgb(177,22,88)"
             ],
             [
              0.5019607843137255,
              "rgb(203,26,79)"
             ],
             [
              0.5647058823529412,
              "rgb(223,47,67)"
             ],
             [
              0.6274509803921569,
              "rgb(236,76,61)"
             ],
             [
              0.6901960784313725,
              "rgb(242,107,73)"
             ],
             [
              0.7529411764705882,
              "rgb(244,135,95)"
             ],
             [
              0.8156862745098039,
              "rgb(245,162,122)"
             ],
             [
              0.8784313725490196,
              "rgb(246,188,153)"
             ],
             [
              0.9411764705882353,
              "rgb(247,212,187)"
             ],
             [
              1,
              "rgb(250,234,220)"
             ]
            ],
            "type": "heatmap"
           }
          ],
          "heatmapgl": [
           {
            "colorbar": {
             "outlinewidth": 0,
             "tickcolor": "rgb(36,36,36)",
             "ticklen": 8,
             "ticks": "outside",
             "tickwidth": 2
            },
            "colorscale": [
             [
              0,
              "rgb(2,4,25)"
             ],
             [
              0.06274509803921569,
              "rgb(24,15,41)"
             ],
             [
              0.12549019607843137,
              "rgb(47,23,57)"
             ],
             [
              0.18823529411764706,
              "rgb(71,28,72)"
             ],
             [
              0.25098039215686274,
              "rgb(97,30,82)"
             ],
             [
              0.3137254901960784,
              "rgb(123,30,89)"
             ],
             [
              0.3764705882352941,
              "rgb(150,27,91)"
             ],
             [
              0.4392156862745098,
              "rgb(177,22,88)"
             ],
             [
              0.5019607843137255,
              "rgb(203,26,79)"
             ],
             [
              0.5647058823529412,
              "rgb(223,47,67)"
             ],
             [
              0.6274509803921569,
              "rgb(236,76,61)"
             ],
             [
              0.6901960784313725,
              "rgb(242,107,73)"
             ],
             [
              0.7529411764705882,
              "rgb(244,135,95)"
             ],
             [
              0.8156862745098039,
              "rgb(245,162,122)"
             ],
             [
              0.8784313725490196,
              "rgb(246,188,153)"
             ],
             [
              0.9411764705882353,
              "rgb(247,212,187)"
             ],
             [
              1,
              "rgb(250,234,220)"
             ]
            ],
            "type": "heatmapgl"
           }
          ],
          "histogram": [
           {
            "marker": {
             "pattern": {
              "fillmode": "overlay",
              "size": 10,
              "solidity": 0.2
             }
            },
            "type": "histogram"
           }
          ],
          "histogram2d": [
           {
            "colorbar": {
             "outlinewidth": 0,
             "tickcolor": "rgb(36,36,36)",
             "ticklen": 8,
             "ticks": "outside",
             "tickwidth": 2
            },
            "colorscale": [
             [
              0,
              "rgb(2,4,25)"
             ],
             [
              0.06274509803921569,
              "rgb(24,15,41)"
             ],
             [
              0.12549019607843137,
              "rgb(47,23,57)"
             ],
             [
              0.18823529411764706,
              "rgb(71,28,72)"
             ],
             [
              0.25098039215686274,
              "rgb(97,30,82)"
             ],
             [
              0.3137254901960784,
              "rgb(123,30,89)"
             ],
             [
              0.3764705882352941,
              "rgb(150,27,91)"
             ],
             [
              0.4392156862745098,
              "rgb(177,22,88)"
             ],
             [
              0.5019607843137255,
              "rgb(203,26,79)"
             ],
             [
              0.5647058823529412,
              "rgb(223,47,67)"
             ],
             [
              0.6274509803921569,
              "rgb(236,76,61)"
             ],
             [
              0.6901960784313725,
              "rgb(242,107,73)"
             ],
             [
              0.7529411764705882,
              "rgb(244,135,95)"
             ],
             [
              0.8156862745098039,
              "rgb(245,162,122)"
             ],
             [
              0.8784313725490196,
              "rgb(246,188,153)"
             ],
             [
              0.9411764705882353,
              "rgb(247,212,187)"
             ],
             [
              1,
              "rgb(250,234,220)"
             ]
            ],
            "type": "histogram2d"
           }
          ],
          "histogram2dcontour": [
           {
            "colorbar": {
             "outlinewidth": 0,
             "tickcolor": "rgb(36,36,36)",
             "ticklen": 8,
             "ticks": "outside",
             "tickwidth": 2
            },
            "colorscale": [
             [
              0,
              "rgb(2,4,25)"
             ],
             [
              0.06274509803921569,
              "rgb(24,15,41)"
             ],
             [
              0.12549019607843137,
              "rgb(47,23,57)"
             ],
             [
              0.18823529411764706,
              "rgb(71,28,72)"
             ],
             [
              0.25098039215686274,
              "rgb(97,30,82)"
             ],
             [
              0.3137254901960784,
              "rgb(123,30,89)"
             ],
             [
              0.3764705882352941,
              "rgb(150,27,91)"
             ],
             [
              0.4392156862745098,
              "rgb(177,22,88)"
             ],
             [
              0.5019607843137255,
              "rgb(203,26,79)"
             ],
             [
              0.5647058823529412,
              "rgb(223,47,67)"
             ],
             [
              0.6274509803921569,
              "rgb(236,76,61)"
             ],
             [
              0.6901960784313725,
              "rgb(242,107,73)"
             ],
             [
              0.7529411764705882,
              "rgb(244,135,95)"
             ],
             [
              0.8156862745098039,
              "rgb(245,162,122)"
             ],
             [
              0.8784313725490196,
              "rgb(246,188,153)"
             ],
             [
              0.9411764705882353,
              "rgb(247,212,187)"
             ],
             [
              1,
              "rgb(250,234,220)"
             ]
            ],
            "type": "histogram2dcontour"
           }
          ],
          "mesh3d": [
           {
            "colorbar": {
             "outlinewidth": 0,
             "tickcolor": "rgb(36,36,36)",
             "ticklen": 8,
             "ticks": "outside",
             "tickwidth": 2
            },
            "type": "mesh3d"
           }
          ],
          "parcoords": [
           {
            "line": {
             "colorbar": {
              "outlinewidth": 0,
              "tickcolor": "rgb(36,36,36)",
              "ticklen": 8,
              "ticks": "outside",
              "tickwidth": 2
             }
            },
            "type": "parcoords"
           }
          ],
          "pie": [
           {
            "automargin": true,
            "type": "pie"
           }
          ],
          "scatter": [
           {
            "fillpattern": {
             "fillmode": "overlay",
             "size": 10,
             "solidity": 0.2
            },
            "type": "scatter"
           }
          ],
          "scatter3d": [
           {
            "line": {
             "colorbar": {
              "outlinewidth": 0,
              "tickcolor": "rgb(36,36,36)",
              "ticklen": 8,
              "ticks": "outside",
              "tickwidth": 2
             }
            },
            "marker": {
             "colorbar": {
              "outlinewidth": 0,
              "tickcolor": "rgb(36,36,36)",
              "ticklen": 8,
              "ticks": "outside",
              "tickwidth": 2
             }
            },
            "type": "scatter3d"
           }
          ],
          "scattercarpet": [
           {
            "marker": {
             "colorbar": {
              "outlinewidth": 0,
              "tickcolor": "rgb(36,36,36)",
              "ticklen": 8,
              "ticks": "outside",
              "tickwidth": 2
             }
            },
            "type": "scattercarpet"
           }
          ],
          "scattergeo": [
           {
            "marker": {
             "colorbar": {
              "outlinewidth": 0,
              "tickcolor": "rgb(36,36,36)",
              "ticklen": 8,
              "ticks": "outside",
              "tickwidth": 2
             }
            },
            "type": "scattergeo"
           }
          ],
          "scattergl": [
           {
            "marker": {
             "colorbar": {
              "outlinewidth": 0,
              "tickcolor": "rgb(36,36,36)",
              "ticklen": 8,
              "ticks": "outside",
              "tickwidth": 2
             }
            },
            "type": "scattergl"
           }
          ],
          "scattermapbox": [
           {
            "marker": {
             "colorbar": {
              "outlinewidth": 0,
              "tickcolor": "rgb(36,36,36)",
              "ticklen": 8,
              "ticks": "outside",
              "tickwidth": 2
             }
            },
            "type": "scattermapbox"
           }
          ],
          "scatterpolar": [
           {
            "marker": {
             "colorbar": {
              "outlinewidth": 0,
              "tickcolor": "rgb(36,36,36)",
              "ticklen": 8,
              "ticks": "outside",
              "tickwidth": 2
             }
            },
            "type": "scatterpolar"
           }
          ],
          "scatterpolargl": [
           {
            "marker": {
             "colorbar": {
              "outlinewidth": 0,
              "tickcolor": "rgb(36,36,36)",
              "ticklen": 8,
              "ticks": "outside",
              "tickwidth": 2
             }
            },
            "type": "scatterpolargl"
           }
          ],
          "scatterternary": [
           {
            "marker": {
             "colorbar": {
              "outlinewidth": 0,
              "tickcolor": "rgb(36,36,36)",
              "ticklen": 8,
              "ticks": "outside",
              "tickwidth": 2
             }
            },
            "type": "scatterternary"
           }
          ],
          "surface": [
           {
            "colorbar": {
             "outlinewidth": 0,
             "tickcolor": "rgb(36,36,36)",
             "ticklen": 8,
             "ticks": "outside",
             "tickwidth": 2
            },
            "colorscale": [
             [
              0,
              "rgb(2,4,25)"
             ],
             [
              0.06274509803921569,
              "rgb(24,15,41)"
             ],
             [
              0.12549019607843137,
              "rgb(47,23,57)"
             ],
             [
              0.18823529411764706,
              "rgb(71,28,72)"
             ],
             [
              0.25098039215686274,
              "rgb(97,30,82)"
             ],
             [
              0.3137254901960784,
              "rgb(123,30,89)"
             ],
             [
              0.3764705882352941,
              "rgb(150,27,91)"
             ],
             [
              0.4392156862745098,
              "rgb(177,22,88)"
             ],
             [
              0.5019607843137255,
              "rgb(203,26,79)"
             ],
             [
              0.5647058823529412,
              "rgb(223,47,67)"
             ],
             [
              0.6274509803921569,
              "rgb(236,76,61)"
             ],
             [
              0.6901960784313725,
              "rgb(242,107,73)"
             ],
             [
              0.7529411764705882,
              "rgb(244,135,95)"
             ],
             [
              0.8156862745098039,
              "rgb(245,162,122)"
             ],
             [
              0.8784313725490196,
              "rgb(246,188,153)"
             ],
             [
              0.9411764705882353,
              "rgb(247,212,187)"
             ],
             [
              1,
              "rgb(250,234,220)"
             ]
            ],
            "type": "surface"
           }
          ],
          "table": [
           {
            "cells": {
             "fill": {
              "color": "rgb(231,231,240)"
             },
             "line": {
              "color": "white"
             }
            },
            "header": {
             "fill": {
              "color": "rgb(183,183,191)"
             },
             "line": {
              "color": "white"
             }
            },
            "type": "table"
           }
          ]
         },
         "layout": {
          "annotationdefaults": {
           "arrowcolor": "rgb(67,103,167)"
          },
          "autotypenumbers": "strict",
          "coloraxis": {
           "colorbar": {
            "outlinewidth": 0,
            "tickcolor": "rgb(36,36,36)",
            "ticklen": 8,
            "ticks": "outside",
            "tickwidth": 2
           }
          },
          "colorscale": {
           "sequential": [
            [
             0,
             "rgb(2,4,25)"
            ],
            [
             0.06274509803921569,
             "rgb(24,15,41)"
            ],
            [
             0.12549019607843137,
             "rgb(47,23,57)"
            ],
            [
             0.18823529411764706,
             "rgb(71,28,72)"
            ],
            [
             0.25098039215686274,
             "rgb(97,30,82)"
            ],
            [
             0.3137254901960784,
             "rgb(123,30,89)"
            ],
            [
             0.3764705882352941,
             "rgb(150,27,91)"
            ],
            [
             0.4392156862745098,
             "rgb(177,22,88)"
            ],
            [
             0.5019607843137255,
             "rgb(203,26,79)"
            ],
            [
             0.5647058823529412,
             "rgb(223,47,67)"
            ],
            [
             0.6274509803921569,
             "rgb(236,76,61)"
            ],
            [
             0.6901960784313725,
             "rgb(242,107,73)"
            ],
            [
             0.7529411764705882,
             "rgb(244,135,95)"
            ],
            [
             0.8156862745098039,
             "rgb(245,162,122)"
            ],
            [
             0.8784313725490196,
             "rgb(246,188,153)"
            ],
            [
             0.9411764705882353,
             "rgb(247,212,187)"
            ],
            [
             1,
             "rgb(250,234,220)"
            ]
           ],
           "sequentialminus": [
            [
             0,
             "rgb(2,4,25)"
            ],
            [
             0.06274509803921569,
             "rgb(24,15,41)"
            ],
            [
             0.12549019607843137,
             "rgb(47,23,57)"
            ],
            [
             0.18823529411764706,
             "rgb(71,28,72)"
            ],
            [
             0.25098039215686274,
             "rgb(97,30,82)"
            ],
            [
             0.3137254901960784,
             "rgb(123,30,89)"
            ],
            [
             0.3764705882352941,
             "rgb(150,27,91)"
            ],
            [
             0.4392156862745098,
             "rgb(177,22,88)"
            ],
            [
             0.5019607843137255,
             "rgb(203,26,79)"
            ],
            [
             0.5647058823529412,
             "rgb(223,47,67)"
            ],
            [
             0.6274509803921569,
             "rgb(236,76,61)"
            ],
            [
             0.6901960784313725,
             "rgb(242,107,73)"
            ],
            [
             0.7529411764705882,
             "rgb(244,135,95)"
            ],
            [
             0.8156862745098039,
             "rgb(245,162,122)"
            ],
            [
             0.8784313725490196,
             "rgb(246,188,153)"
            ],
            [
             0.9411764705882353,
             "rgb(247,212,187)"
            ],
            [
             1,
             "rgb(250,234,220)"
            ]
           ]
          },
          "colorway": [
           "rgb(76,114,176)",
           "rgb(221,132,82)",
           "rgb(85,168,104)",
           "rgb(196,78,82)",
           "rgb(129,114,179)",
           "rgb(147,120,96)",
           "rgb(218,139,195)",
           "rgb(140,140,140)",
           "rgb(204,185,116)",
           "rgb(100,181,205)"
          ],
          "font": {
           "color": "rgb(36,36,36)"
          },
          "geo": {
           "bgcolor": "white",
           "lakecolor": "white",
           "landcolor": "rgb(234,234,242)",
           "showlakes": true,
           "showland": true,
           "subunitcolor": "white"
          },
          "hoverlabel": {
           "align": "left"
          },
          "hovermode": "closest",
          "paper_bgcolor": "white",
          "plot_bgcolor": "rgb(234,234,242)",
          "polar": {
           "angularaxis": {
            "gridcolor": "white",
            "linecolor": "white",
            "showgrid": true,
            "ticks": ""
           },
           "bgcolor": "rgb(234,234,242)",
           "radialaxis": {
            "gridcolor": "white",
            "linecolor": "white",
            "showgrid": true,
            "ticks": ""
           }
          },
          "scene": {
           "xaxis": {
            "backgroundcolor": "rgb(234,234,242)",
            "gridcolor": "white",
            "gridwidth": 2,
            "linecolor": "white",
            "showbackground": true,
            "showgrid": true,
            "ticks": "",
            "zerolinecolor": "white"
           },
           "yaxis": {
            "backgroundcolor": "rgb(234,234,242)",
            "gridcolor": "white",
            "gridwidth": 2,
            "linecolor": "white",
            "showbackground": true,
            "showgrid": true,
            "ticks": "",
            "zerolinecolor": "white"
           },
           "zaxis": {
            "backgroundcolor": "rgb(234,234,242)",
            "gridcolor": "white",
            "gridwidth": 2,
            "linecolor": "white",
            "showbackground": true,
            "showgrid": true,
            "ticks": "",
            "zerolinecolor": "white"
           }
          },
          "shapedefaults": {
           "fillcolor": "rgb(67,103,167)",
           "line": {
            "width": 0
           },
           "opacity": 0.5
          },
          "ternary": {
           "aaxis": {
            "gridcolor": "white",
            "linecolor": "white",
            "showgrid": true,
            "ticks": ""
           },
           "baxis": {
            "gridcolor": "white",
            "linecolor": "white",
            "showgrid": true,
            "ticks": ""
           },
           "bgcolor": "rgb(234,234,242)",
           "caxis": {
            "gridcolor": "white",
            "linecolor": "white",
            "showgrid": true,
            "ticks": ""
           }
          },
          "xaxis": {
           "automargin": true,
           "gridcolor": "white",
           "linecolor": "white",
           "showgrid": true,
           "ticks": "",
           "title": {
            "standoff": 15
           },
           "zerolinecolor": "white"
          },
          "yaxis": {
           "automargin": true,
           "gridcolor": "white",
           "linecolor": "white",
           "showgrid": true,
           "ticks": "",
           "title": {
            "standoff": 15
           },
           "zerolinecolor": "white"
          }
         }
        },
        "title": {
         "text": "My average speed on carreras"
        },
        "width": 700,
        "xaxis": {
         "anchor": "y",
         "domain": [
          0,
          1
         ],
         "tickangle": -45,
         "title": {
          "text": "Distance (km)"
         }
        },
        "yaxis": {
         "anchor": "x",
         "domain": [
          0,
          1
         ],
         "title": {
          "text": "Average Speed (km/hr)"
         }
        }
       }
      },
      "text/html": [
       "<div>                            <div id=\"07f2fe59-cdd4-43ae-824f-5bf4fcb74702\" class=\"plotly-graph-div\" style=\"height:600px; width:700px;\"></div>            <script type=\"text/javascript\">                require([\"plotly\"], function(Plotly) {                    window.PLOTLYENV=window.PLOTLYENV || {};                                    if (document.getElementById(\"07f2fe59-cdd4-43ae-824f-5bf4fcb74702\")) {                    Plotly.newPlot(                        \"07f2fe59-cdd4-43ae-824f-5bf4fcb74702\",                        [{\"customdata\":[[28.617555618286133,\"2018-10-14T18:27:31\"],[98.2482681274414,\"2018-10-17T17:05:02\"],[103.44881439208984,\"2018-10-19T18:11:19\"],[11.300000190734863,\"2018-11-02T11:31:16\"],[125.0374526977539,\"2018-11-07T19:13:43\"],[32.95210266113281,\"2018-11-11T19:16:41\"],[38.0,\"2019-01-15T11:37:32\"],[40.44500732421875,\"2019-02-01T16:22:36\"],[45.31432723999024,\"2019-02-05T19:04:46\"],[83.10859680175781,\"2019-02-13T09:02:08\"],[48.08650207519531,\"2019-02-28T19:14:32\"],[93.14146423339844,\"2019-03-05T19:10:21\"],[81.48837280273438,\"2019-03-20T17:57:36\"],[49.91963577270508,\"2019-04-25T18:32:15\"],[9.830769538879396,\"2019-05-08T18:41:09\"],[100.79295349121094,\"2019-05-16T18:09:32\"],[137.08749389648438,\"2019-06-06T17:39:16\"],[32.06739807128906,\"2019-06-18T18:44:37\"],[37.68727111816406,\"2019-09-12T18:02:41\"],[24.11103057861328,\"2020-02-05T18:55:03\"],[14.316001892089844,\"2020-02-14T19:04:06\"],[23.38500022888184,\"2020-05-05T17:59:49\"],[26.148611068725582,\"2020-05-07T17:57:18\"],[28.170000076293945,\"2020-05-14T17:58:42\"],[47.24615478515625,\"2020-08-24T18:04:45\"],[24.80257606506348,\"2020-09-19T17:20:02\"],[10.397424697875977,\"2020-10-26T19:10:44\"],[3.1616666316986084,\"2020-11-02T18:59:58\"],[3.15984845161438,\"2020-11-11T18:47:41\"],[53.0,\"2020-12-22T16:13:40\"],[45.47075653076172,\"2020-12-24T11:56:34\"],[23.18000030517578,\"2020-12-28T12:22:30\"],[166.0,\"2020-12-31T11:32:36\"],[278.9647521972656,\"2021-02-28T14:42:59\"],[109.58441162109376,\"2021-03-15T18:15:20\"],[14.766111373901367,\"2021-03-29T17:46:47\"],[48.11558151245117,\"2021-03-31T17:31:59\"],[22.90724754333496,\"2021-04-01T16:08:48\"],[55.79000473022461,\"2021-04-09T17:05:05\"],[43.73936462402344,\"2021-04-11T16:54:39\"],[69.52436065673828,\"2021-04-14T16:57:10\"],[120.94450378417967,\"2021-04-16T15:35:46\"],[126.68578338623048,\"2021-04-19T17:05:10\"],[28.867143630981445,\"2021-04-21T15:06:10\"],[29.57999992370605,\"2021-04-23T15:01:14\"],[54.02000045776367,\"2021-04-26T16:55:22\"],[34.1971435546875,\"2021-04-28T16:53:08\"],[21.12666702270508,\"2021-05-01T10:08:06\"],[47.61333465576172,\"2021-05-03T16:25:36\"],[8.019047737121582,\"2021-05-10T17:36:13\"],[111.23345184326172,\"2021-05-17T17:35:36\"],[88.20047760009766,\"2021-05-22T09:34:09\"],[11.0600004196167,\"2021-05-25T19:13:38\"],[610.6956787109375,\"2021-06-09T16:58:05\"],[8.680000305175781,\"2021-06-12T10:13:05\"],[362.956787109375,\"2021-06-14T15:55:24\"],[71.38987731933594,\"2021-06-16T18:35:49\"],[35.92408752441406,\"2021-06-20T18:11:25\"],[0.0,\"2021-07-03T06:53:20\"],[38.92333221435547,\"2021-07-05T17:18:55\"],[25.34000015258789,\"2021-07-06T17:15:25\"],[7.462500095367432,\"2021-07-18T18:52:17\"],[19.513334274291992,\"2021-07-19T18:35:59\"],[4.746666431427002,\"2021-07-20T18:43:25\"],[0.0,\"2021-08-24T10:11:27\"],[15.137857437133787,\"2021-08-31T18:38:34\"],[37.310001373291016,\"2021-09-01T17:26:43\"],[53.63833236694336,\"2021-09-13T17:03:25\"],[61.18000030517578,\"2021-09-14T17:09:02\"],[5.313333511352539,\"2021-09-19T10:29:28\"],[13.720000267028809,\"2021-09-26T17:48:44\"],[51.81142807006836,\"2021-09-27T16:54:51\"],[23.459999084472656,\"2021-10-02T09:21:01\"],[30.9233341217041,\"2021-10-03T07:33:46\"],[39.84603118896485,\"2021-10-13T16:27:46\"],[0.0,\"2021-10-14T17:33:38\"],[23.57999992370605,\"2021-10-18T16:05:08\"],[5.473333358764648,\"2021-10-21T17:42:01\"],[40.13846206665039,\"2021-10-25T16:35:10\"],[123.82809448242188,\"2021-10-30T15:10:20\"],[67.22190856933594,\"2021-11-02T16:02:25\"],[88.49571228027344,\"2021-11-03T15:32:53\"],[48.18505096435547,\"2021-11-05T15:31:42\"],[64.63333129882812,\"2021-11-08T15:52:43\"],[50.26666641235352,\"2021-11-09T15:39:27\"],[65.03904724121094,\"2021-11-10T15:51:24\"],[47.21833419799805,\"2021-11-12T15:23:27\"],[59.377777099609375,\"2021-11-15T15:41:10\"],[50.56380844116211,\"2021-11-16T16:02:00\"],[42.459999084472656,\"2021-11-17T15:56:18\"],[63.1678581237793,\"2021-11-19T15:33:32\"],[3.422222137451172,\"2021-11-22T17:50:48\"],[47.18999862670898,\"2021-11-24T16:12:23\"],[12.420000076293944,\"2021-11-26T15:58:05\"],[42.58000183105469,\"2021-11-29T15:56:00\"],[32.62190628051758,\"2021-12-05T09:54:44\"],[42.03206253051758,\"2021-12-07T12:30:16\"],[54.8466682434082,\"2021-12-14T15:28:31\"],[79.73238372802734,\"2021-12-15T15:09:54\"],[40.90666580200195,\"2021-12-17T15:10:45\"],[5.019999980926514,\"2021-12-19T11:25:59\"],[17.136667251586914,\"2022-01-04T15:33:11\"],[34.25666809082031,\"2022-01-05T15:17:36\"],[36.08000183105469,\"2022-01-08T14:59:34\"],[19.09666633605957,\"2022-01-09T11:09:13\"],[26.996665954589844,\"2022-01-17T16:37:44\"],[37.68999862670898,\"2022-01-18T16:37:27\"],[13.943333625793455,\"2022-01-20T16:21:20\"],[52.68000030517578,\"2022-01-21T15:39:58\"],[30.98095321655273,\"2022-01-27T16:22:03\"],[34.967498779296875,\"2022-01-28T15:23:52\"],[34.45333480834961,\"2022-02-01T16:20:10\"],[47.25968170166016,\"2022-02-03T16:42:31\"],[19.0,\"2022-02-04T15:38:11\"],[11.512380599975586,\"2022-02-07T16:56:57\"],[0.0,\"2022-02-09T17:24:04\"],[20.80238151550293,\"2022-02-19T16:10:23\"],[30.691429138183597,\"2022-02-25T17:55:26\"],[46.71666717529297,\"2022-02-28T17:29:08\"],[13.359999656677246,\"2022-03-02T19:06:06\"],[0.0,\"2022-03-10T23:15:11\"],[19.459999084472656,\"2022-03-25T14:33:32\"],[63.18381118774414,\"2022-03-26T10:07:58\"],[45.123077392578125,\"2022-03-28T16:11:42\"],[36.51380920410156,\"2022-03-29T17:06:01\"],[51.12333297729492,\"2022-04-04T17:34:08\"],[26.002857208251957,\"2022-04-05T18:07:04\"],[52.9900016784668,\"2022-04-22T14:13:28\"],[40.72666549682617,\"2022-05-12T17:36:43\"],[151.10848999023438,\"2022-05-25T16:14:54\"],[51.84464263916016,\"2022-05-31T11:43:27\"],[51.10219955444336,\"2022-06-02T15:35:41\"],[50.94278717041016,\"2022-06-03T05:14:17\"],[32.18589782714844,\"2022-06-05T09:57:48\"],[44.43169021606445,\"2022-06-07T16:52:44\"],[53.185001373291016,\"2022-06-11T06:15:03\"],[34.81999969482422,\"2022-06-14T17:56:14\"],[34.72999954223633,\"2022-06-15T20:21:06\"],[38.73666763305664,\"2022-06-16T07:00:48\"],[153.17393493652344,\"2022-06-25T16:42:45\"],[35.50539779663086,\"2022-07-03T16:12:12\"],[65.48619079589844,\"2022-07-09T06:59:38\"],[36.58821487426758,\"2022-07-11T18:14:39\"],[0.0,\"2022-08-07T17:02:59\"],[66.87666320800781,\"2022-08-29T17:42:33\"],[66.15523529052734,\"2022-08-30T16:52:57\"],[70.30500030517578,\"2022-09-03T07:49:29\"],[55.40999984741211,\"2022-09-05T17:44:43\"],[62.24333190917969,\"2022-09-08T16:00:29\"],[69.33333587646484,\"2022-09-10T07:59:47\"],[32.82857131958008,\"2022-09-12T15:23:45\"],[51.31416702270508,\"2022-09-14T17:09:26\"],[69.12999725341797,\"2022-09-18T08:32:00\"],[40.18952560424805,\"2022-09-19T17:31:42\"],[42.17761993408203,\"2022-09-21T14:37:39\"],[null,\"2022-09-25T17:00:07\"],[null,\"2022-09-30T15:02:38\"],[18.239999771118164,\"2022-09-22T11:27:45\"],[92.6114273071289,\"2022-10-02T09:56:02\"],[39.06571578979492,\"2022-10-05T16:56:08\"],[55.829193115234375,\"2022-10-06T17:01:59\"],[40.220001220703125,\"2022-10-08T11:02:34\"],[46.23301696777344,\"2022-10-10T15:23:15\"],[39.02999877929688,\"2022-10-11T11:31:28\"],[48.6875,\"2022-10-13T16:13:28\"],[64.62000274658203,\"2022-10-15T07:59:02\"],[null,\"2022-10-22T17:00:10\"],[20.28469657897949,\"2022-10-19T15:46:02\"],[3.220000028610229,\"2022-10-26T11:29:33\"],[59.58000183105469,\"2022-10-27T16:46:11\"],[42.54666519165039,\"2022-11-02T16:03:30\"],[23.25,\"2022-11-03T16:44:06\"],[29.763334274291992,\"2022-11-05T10:42:59\"],[0.0,\"2022-11-07T12:33:28\"],[5.154285907745361,\"2022-11-06T13:44:26\"],[31.08623313903809,\"2022-11-09T18:04:53\"],[36.52888870239258,\"2022-11-10T17:55:48\"],[30.286666870117188,\"2022-11-12T10:00:34\"],[58.51333236694336,\"2022-11-15T12:29:43\"],[7.12333345413208,\"2022-11-16T18:01:55\"],[50.70000076293945,\"2022-11-18T15:26:24\"],[13.148571014404297,\"2022-11-20T10:08:32\"],[43.13999938964844,\"2022-11-23T12:22:23\"],[64.16952514648438,\"2022-11-30T17:55:17\"],[73.2646484375,\"2022-12-03T11:29:44\"],[73.48628234863281,\"2022-12-06T10:45:42\"],[60.59066009521485,\"2022-12-08T15:24:56\"],[436.3106994628906,\"2023-02-04T09:17:02\"],[0.0,\"2022-12-14T18:09:13\"],[0.0,\"2022-12-13T12:27:34\"],[77.67361450195312,\"2022-12-03T00:35:32\"],[0.0,\"2022-12-20T17:35:03\"],[10.68333339691162,\"2022-12-02T18:54:39\"],[29.75428581237793,\"2022-12-18T10:20:28\"],[19.492143630981445,\"2022-12-17T09:55:54\"],[0.0,\"2022-12-27T13:21:33\"],[43.119998931884766,\"2022-12-23T15:37:32\"],[0.0,\"2022-12-31T17:34:21\"],[14.039047241210938,\"2022-12-21T17:37:19\"],[48.47999954223633,\"2022-12-29T12:02:08\"],[25.409048080444336,\"2023-01-03T17:44:11\"],[50.45428466796875,\"2023-01-07T15:06:24\"],[42.08000183105469,\"2023-01-04T12:03:45\"],[12.489999771118164,\"2023-01-14T10:16:43\"],[0.0,\"2023-01-09T16:45:33\"],[0.0,\"2023-01-11T16:47:53\"],[10.876667022705078,\"2023-01-12T18:04:06\"],[0.0,\"2023-01-16T16:26:39\"],[0.0,\"2023-01-26T17:15:31\"],[52.43571472167969,\"2023-01-22T11:00:02\"],[0.0,\"2023-01-25T16:16:43\"],[12.949999809265137,\"2023-01-31T12:38:28\"],[0.0,\"2023-02-02T17:29:36\"],[9.276666641235352,\"2023-02-06T19:00:35\"],[43.84222412109375,\"2023-01-23T12:32:18\"],[27.94253921508789,\"2023-02-08T12:30:16\"],[33.189842224121094,\"2023-02-01T17:45:03\"],[null,\"2022-11-27T08:15:47\"],[70.63714599609375,\"2023-02-11T09:52:38\"],[47.361427307128906,\"2023-02-15T18:16:53\"],[0.0,\"2023-02-19T07:30:06\"],[0.0,\"2023-02-22T16:59:44\"],[0.0,\"2023-02-23T18:06:59\"],[44.345001220703125,\"2023-03-01T12:36:23\"],[9.119999885559082,\"2023-03-09T17:16:24\"],[31.80476188659668,\"2023-03-02T12:46:19\"],[56.36158752441406,\"2023-03-07T17:14:09\"],[41.31330108642578,\"2023-03-04T11:02:08\"],[63.15285873413086,\"2023-03-06T16:35:46\"],[49.01714324951172,\"2023-03-04T11:41:22\"],[0.0,\"2023-03-14T16:31:23\"],[25.98785781860352,\"2023-03-15T16:28:45\"],[28.6200008392334,\"2023-03-19T11:52:03\"],[31.25333404541016,\"2023-03-23T18:10:28\"],[28.70916748046875,\"2023-03-21T12:33:45\"],[30.638334274291992,\"2023-04-01T16:38:42\"],[6.385714054107666,\"2023-03-28T11:33:29\"],[59.02333450317383,\"2023-03-26T08:09:43\"],[22.20571517944336,\"2023-03-30T16:22:15\"],[0.0,\"2023-04-01T06:01:41\"],[52.060001373291016,\"2023-04-03T16:16:52\"],[87.95999908447266,\"2023-04-05T16:30:06\"],[56.18999862670898,\"2023-04-08T07:25:56\"],[21.59000015258789,\"2023-04-13T16:59:20\"],[31.46333312988281,\"2023-04-11T15:27:51\"],[52.4477767944336,\"2023-04-16T06:52:54\"],[20.280000686645508,\"2023-04-19T11:32:48\"],[63.36333465576172,\"2023-04-17T15:44:46\"],[14.65333366394043,\"2023-04-21T16:28:10\"],[0.0,\"2023-04-27T19:18:00\"],[0.0,\"2023-04-24T18:15:16\"],[27.049091339111328,\"2023-04-25T15:14:41\"],[0.0,\"2023-05-04T18:53:45\"],[23.16428565979004,\"2023-05-02T11:33:44\"],[149.42572021484375,\"2023-05-06T07:22:12\"],[0.0,\"2023-05-18T15:19:31\"],[45.25249862670898,\"2023-05-15T16:32:59\"],[0.0,\"2023-05-17T04:42:46\"],[24.8125,\"2023-05-10T16:41:26\"],[373.9812622070313,\"2023-05-11T16:16:42\"],[19.983333587646484,\"2023-05-09T11:41:20\"],[42.22999954223633,\"2023-05-25T11:41:27\"],[6.833333492279053,\"2023-05-28T18:00:57\"],[24.24333381652832,\"2023-05-22T11:27:20\"],[38.43714141845703,\"2023-05-30T11:34:20\"],[34.84000015258789,\"2023-05-31T16:35:36\"],[384.7000122070313,\"2023-06-04T09:05:25\"],[25.68857192993164,\"2023-06-05T17:14:53\"],[25.169523239135746,\"2023-06-06T15:49:22\"],[3.200000047683716,\"2023-06-07T04:30:26\"],[42.27999877929688,\"2023-06-09T05:30:17\"],[40.26737976074219,\"2023-06-09T18:01:20\"],[36.611427307128906,\"2023-06-11T08:29:34\"],[43.658573150634766,\"2023-06-12T19:11:00\"],[11.0,\"2023-06-13T19:11:45\"],[22.8700008392334,\"2023-06-14T16:44:08\"],[37.17250061035156,\"2023-06-20T14:28:36\"],[0.0,\"2023-06-21T18:18:21\"],[45.6205940246582,\"2023-06-25T19:04:29\"],[29.418333053588867,\"2023-07-02T17:54:11\"],[33.31666564941406,\"2023-07-03T14:52:29\"],[29.020000457763672,\"2023-07-05T15:37:29\"],[25.09749984741211,\"2023-06-24T17:47:14\"],[13.039999961853027,\"2023-06-29T19:22:21\"],[33.14409255981445,\"2023-06-30T18:19:48\"],[23.46571350097656,\"2023-07-11T17:33:51\"],[42.18833160400391,\"2023-07-10T17:14:48\"],[1268.1348876953125,\"2023-07-23T06:00:29\"],[47.39666748046875,\"2023-07-26T14:06:03\"],[43.33631134033203,\"2023-07-27T17:24:40\"],[14.426190376281738,\"2023-08-01T07:38:02\"],[65.25428771972656,\"2023-07-31T06:50:29\"],[0.0,\"2023-08-05T16:55:14\"]],\"hovertemplate\":\"Activity Date: %{customdata[1]|%Y-%m-%d}\\u003cbr\\u003eDistance (km): %{x:.1f}\\u003cbr\\u003eAverage speed (km\\u002fhr): %{y:.1f}\\u003cbr\\u003eElevation gain: %{customdata[0]:.1f}\",\"legendgroup\":\"\",\"marker\":{\"color\":[28.617555618286133,98.2482681274414,103.44881439208984,11.300000190734863,125.0374526977539,32.95210266113281,38.0,40.44500732421875,45.31432723999024,83.10859680175781,48.08650207519531,93.14146423339844,81.48837280273438,49.91963577270508,9.830769538879396,100.79295349121094,137.08749389648438,32.06739807128906,37.68727111816406,24.11103057861328,14.316001892089844,23.38500022888184,26.148611068725582,28.170000076293945,47.24615478515625,24.80257606506348,10.397424697875977,3.1616666316986084,3.15984845161438,53.0,45.47075653076172,23.18000030517578,166.0,278.9647521972656,109.58441162109376,14.766111373901367,48.11558151245117,22.90724754333496,55.79000473022461,43.73936462402344,69.52436065673828,120.94450378417967,126.68578338623048,28.867143630981445,29.57999992370605,54.02000045776367,34.1971435546875,21.12666702270508,47.61333465576172,8.019047737121582,111.23345184326172,88.20047760009766,11.0600004196167,610.6956787109375,8.680000305175781,362.956787109375,71.38987731933594,35.92408752441406,0.0,38.92333221435547,25.34000015258789,7.462500095367432,19.513334274291992,4.746666431427002,0.0,15.137857437133787,37.310001373291016,53.63833236694336,61.18000030517578,5.313333511352539,13.720000267028809,51.81142807006836,23.459999084472656,30.9233341217041,39.84603118896485,0.0,23.57999992370605,5.473333358764648,40.13846206665039,123.82809448242188,67.22190856933594,88.49571228027344,48.18505096435547,64.63333129882812,50.26666641235352,65.03904724121094,47.21833419799805,59.377777099609375,50.56380844116211,42.459999084472656,63.1678581237793,3.422222137451172,47.18999862670898,12.420000076293944,42.58000183105469,32.62190628051758,42.03206253051758,54.8466682434082,79.73238372802734,40.90666580200195,5.019999980926514,17.136667251586914,34.25666809082031,36.08000183105469,19.09666633605957,26.996665954589844,37.68999862670898,13.943333625793455,52.68000030517578,30.98095321655273,34.967498779296875,34.45333480834961,47.25968170166016,19.0,11.512380599975586,0.0,20.80238151550293,30.691429138183597,46.71666717529297,13.359999656677246,0.0,19.459999084472656,63.18381118774414,45.123077392578125,36.51380920410156,51.12333297729492,26.002857208251957,52.9900016784668,40.72666549682617,151.10848999023438,51.84464263916016,51.10219955444336,50.94278717041016,32.18589782714844,44.43169021606445,53.185001373291016,34.81999969482422,34.72999954223633,38.73666763305664,153.17393493652344,35.50539779663086,65.48619079589844,36.58821487426758,0.0,66.87666320800781,66.15523529052734,70.30500030517578,55.40999984741211,62.24333190917969,69.33333587646484,32.82857131958008,51.31416702270508,69.12999725341797,40.18952560424805,42.17761993408203,null,null,18.239999771118164,92.6114273071289,39.06571578979492,55.829193115234375,40.220001220703125,46.23301696777344,39.02999877929688,48.6875,64.62000274658203,null,20.28469657897949,3.220000028610229,59.58000183105469,42.54666519165039,23.25,29.763334274291992,0.0,5.154285907745361,31.08623313903809,36.52888870239258,30.286666870117188,58.51333236694336,7.12333345413208,50.70000076293945,13.148571014404297,43.13999938964844,64.16952514648438,73.2646484375,73.48628234863281,60.59066009521485,436.3106994628906,0.0,0.0,77.67361450195312,0.0,10.68333339691162,29.75428581237793,19.492143630981445,0.0,43.119998931884766,0.0,14.039047241210938,48.47999954223633,25.409048080444336,50.45428466796875,42.08000183105469,12.489999771118164,0.0,0.0,10.876667022705078,0.0,0.0,52.43571472167969,0.0,12.949999809265137,0.0,9.276666641235352,43.84222412109375,27.94253921508789,33.189842224121094,null,70.63714599609375,47.361427307128906,0.0,0.0,0.0,44.345001220703125,9.119999885559082,31.80476188659668,56.36158752441406,41.31330108642578,63.15285873413086,49.01714324951172,0.0,25.98785781860352,28.6200008392334,31.25333404541016,28.70916748046875,30.638334274291992,6.385714054107666,59.02333450317383,22.20571517944336,0.0,52.060001373291016,87.95999908447266,56.18999862670898,21.59000015258789,31.46333312988281,52.4477767944336,20.280000686645508,63.36333465576172,14.65333366394043,0.0,0.0,27.049091339111328,0.0,23.16428565979004,149.42572021484375,0.0,45.25249862670898,0.0,24.8125,373.9812622070313,19.983333587646484,42.22999954223633,6.833333492279053,24.24333381652832,38.43714141845703,34.84000015258789,384.7000122070313,25.68857192993164,25.169523239135746,3.200000047683716,42.27999877929688,40.26737976074219,36.611427307128906,43.658573150634766,11.0,22.8700008392334,37.17250061035156,0.0,45.6205940246582,29.418333053588867,33.31666564941406,29.020000457763672,25.09749984741211,13.039999961853027,33.14409255981445,23.46571350097656,42.18833160400391,1268.1348876953125,47.39666748046875,43.33631134033203,14.426190376281738,65.25428771972656,0.0],\"coloraxis\":\"coloraxis\",\"symbol\":\"circle\"},\"mode\":\"markers\",\"name\":\"\",\"orientation\":\"v\",\"showlegend\":false,\"x\":[5.26189990234375,8.752599609375,4.28160009765625,2.427300048828125,11.1107001953125,5.91710009765625,4.1847001953125,4.34489990234375,4.62589990234375,5.6722001953125,4.0145,6.1232998046875,9.1207998046875,3.78810009765625,1.0075,10.016400390625,21.2065,2.40460009765625,4.55639990234375,2.467300048828125,2.50760009765625,2.80560009765625,4.00439990234375,4.006199951171875,5.57960009765625,4.014199951171875,3.02410009765625,5.24960009765625,5.3345,4.6442998046875,7.51360009765625,4.01710009765625,6.39810009765625,5.8887998046875,10.0062001953125,5.00860009765625,5.75389990234375,3.005699951171875,6.3685,5.27160009765625,4.7237001953125,11.287099609375,11.085599609375,12.279,5.231,14.1662998046875,6.7732001953125,4.51010009765625,12.0237001953125,5.54939990234375,7.83189990234375,21.52469921875,5.0135,13.865900390625,5.587,4.33060009765625,7.4027998046875,6.2707998046875,2.0145,6.6747001953125,2.0905,1.6144000244140626,4.034300048828125,3.60989990234375,3.006300048828125,3.602800048828125,5.8132998046875,7.0612998046875,9.137900390625,3.20489990234375,4.2382998046875,6.7547001953125,5.9035,4.482,7.238,1.7574000244140624,4.25910009765625,3.659090087890625,9.1898603515625,15.6086201171875,9.39555078125,9.095470703125,8.501900390625,8.903669921875,6.01756982421875,10.082830078125,9.41344921875,10.087330078125,7.80460009765625,6.73714013671875,10.0353798828125,7.1307900390625,6.463740234375,5.0171298828125,7.60547021484375,15.2812197265625,6.00280029296875,8.84825,10.6041396484375,7.24677001953125,3.00493994140625,5.00194970703125,4.95581982421875,7.27908984375,5.50766015625,5.00268017578125,5.50493994140625,4.54358984375,9.99975,4.48793017578125,5.15243017578125,5.0237099609375,5.271240234375,5.507240234375,3.64639990234375,1.5916199951171874,5.35966015625,10.3025,12.0375400390625,2.638719970703125,1.917010009765625,1.8604100341796874,12.5001494140625,6.8617197265625,4.61902978515625,10.4987197265625,6.29531982421875,11.31891015625,12.0341796875,10.0095,6.95667041015625,6.85952978515625,6.89702978515625,9.046900390625,15.097310546875,15.02058984375,11.54541015625,4.99502001953125,6.04089990234375,19.5945,6.807330078125,9.003400390625,4.81803955078125,4.31889013671875,10.04475,8.6536396484375,12.50441015625,11.6324599609375,10.607669921875,13.1060400390625,10.0191796875,13.5081103515625,11.5037998046875,5.9808701171875,9.0339501953125,10.5,8.0,7.3583798828125,20.65241015625,15.5667001953125,10.3778896484375,6.256240234375,9.0028798828125,6.01072021484375,7.0205400390625,12.5199404296875,21.1,7.4926298828125,10.008330078125,10.0071103515625,10.501009765625,7.00039990234375,12.0045498046875,5.5,5.0097099609375,11.5725595703125,11.522169921875,11.0026904296875,10.44033984375,10.01833984375,7.039,7.61491015625,8.882,10.262759765625,10.707349609375,13.0004296875,10.8998095703125,11.0800498046875,5.685080078125,5.05464013671875,11.015259765625,8.06251953125,9.3242099609375,13.5041494140625,14.0033896484375,5.00238037109375,13.5028896484375,4.69847998046875,10.1132705078125,11.44308984375,5.01935986328125,8.71076953125,10.1538701171875,14.333970703125,10.017220703125,5.35472998046875,12.018169921875,10.0181396484375,10.1387099609375,13.016,13.6032900390625,10.248240234375,6.59608984375,10.53925,10.0073603515625,12.0687802734375,12.426689453125,10.0,18.02669921875,7.77164990234375,21.1,8.145099609375,7.87589013671875,10.4680595703125,9.998259765625,5.578740234375,9.1124404296875,6.6061298828125,10.656779296875,7.00481005859375,10.0132001953125,10.03425,14.0075703125,8.308919921875,10.006,5.50793994140625,10.00416015625,13.00323046875,8.01497021484375,6.07510009765625,8.638490234375,12.676,13.0088095703125,5.0273798828125,5.617740234375,10.0676201171875,10.0649404296875,9.8713505859375,11.00308984375,9.749240234375,9.5205400390625,10.04441015625,5.05189013671875,12.18098046875,30.00905078125,9.5728095703125,5.00201025390625,9.2334697265625,12.5121796875,11.0155302734375,6.428490234375,7.45889013671875,12.5198203125,10.0055703125,7.00597998046875,10.0026201171875,13.568400390625,6.99139013671875,5.00793017578125,6.01502978515625,6.51081982421875,7.40597998046875,18.0086796875,8.501130859375,7.0354599609375,9.6349296875,17.53419921875,4.2146201171875,6.22364013671875,6.00189013671875,5.08118017578125,5.0627099609375,5.00981982421875,9.9971796875,5.4570498046875,10.0079599609375,15.050919921875,26.377279296875,5.109330078125,10.001609375,5.26781982421875,8.50376953125,6.67985986328125],\"xaxis\":\"x\",\"y\":[13.321265575553795,12.02188424027089,12.941864275031488,13.892337322386725,10.804570692362237,11.940336519934135,14.000855672049257,11.967589631551261,11.802437738084693,11.331809491190343,12.556211989574283,11.928506113027598,11.48474267116999,14.40038051907339,14.925925925925926,11.465513960651828,11.684022038567493,13.236330812786697,10.207243091747044,13.665046424278845,14.420703437000796,11.39972951643623,13.914903135557433,13.50404477923104,12.10033756118223,13.989467400018151,16.03352039994477,12.786576692532138,13.162577107607952,10.75899568653475,13.390574431466582,15.032807018256237,10.589958782327587,9.720164739511693,13.18532968635615,15.076053805654265,11.029840068390575,13.005432481032152,7.102416356877324,12.601434496389441,10.275118249622357,12.158455593581687,11.574291935542345,11.876518001074691,12.587967914438503,11.556464830472468,12.29627872068835,11.680834785296762,11.502875552252194,12.2638671875,13.84815306897716,12.21837230960265,15.804378283712783,9.292114930426285,12.079999999999998,7.657249681513997,11.73495345525099,12.833927968661172,16.944392523364485,11.94280353038022,14.528571428571428,16.652836928053368,11.275993925296001,15.34314008079988,16.472876979880137,15.169684416118422,11.014673314144737,12.364143626884728,11.799297491481347,15.676140826681385,11.957585655858152,11.679596879502881,11.256673728813558,12.068212415856395,11.28,16.871040234375,10.975490588090553,13.055227270967542,13.492454023501223,12.094496862220192,11.528283167177914,11.476934641167194,12.477309990317977,11.529932272931655,11.137918440713369,12.848916205752213,13.837655037770517,11.929825322355454,11.519704941190037,12.765107627467106,13.689794459312239,13.861146944181964,11.86612179691484,15.81582099660683,11.862951808248484,11.37559781133685,11.261115713750653,11.71522618609783,11.495002328929539,14.056234951676995,16.341063125472054,15.893220604865402,12.890860814441837,13.431431797796002,12.993169438073394,13.83229541690668,13.063799465433423,12.107271234270913,13.719169207317073,11.104157135953608,13.935949386034935,11.10212146063536,11.295514787946429,13.12115476091992,12.64647364974711,12.537925563286379,14.672833887832702,12.922996515679442,11.931482417572962,13.64855157260237,13.220758688038794,15.575525867550871,12.10017152208255,12.102984329066633,14.510041209914919,12.125566575433108,10.88005346480437,11.977682705026456,13.06485128920386,10.429580318379159,11.621351961281903,11.108550259362346,12.08238794479927,13.001533495508982,11.348991014564628,11.674033557318653,12.765195504453317,11.526969275841346,12.983426655783582,12.49826364280652,11.581468941989604,11.184348311335404,13.260659314076834,10.700622499784927,11.254621848739497,11.015948633088755,11.927895220588235,11.60666736678908,12.475534700669716,11.783652382773475,11.657739778603748,12.304958822273534,12.180493910845588,10.61169661009118,13.166890972925101,12.6,13.333333333333334,12.602363262666508,11.45235313655268,12.55097888087906,11.307627946239407,11.278149646344517,13.021441373292486,11.252518342921217,11.582925820634738,11.920599192508595,12.349211510323526,10.880785630546592,11.611340084192719,12.105375425277218,11.507955907534246,12.215918394783083,13.458853720608845,14.102564102564102,13.704373753324468,12.366047626335709,12.814276094763668,14.166554201314378,11.578935131700554,14.300564408207771,12.307139388052452,12.834118240870785,12.326599845797995,11.42775600255181,12.650626384558581,11.785834015361372,12.122123711190918,9.354638671875,11.816563672777136,11.408592158111286,12.212791855943948,11.504189580856124,12.64299655720339,11.814079681804374,12.410685065084932,12.549525669642856,12.832735674333422,13.329021221187944,12.924307358226837,12.456946911853644,12.419034713273195,12.17816322815534,11.879731043833278,13.077114681006083,11.878127315958498,10.971558298057767,13.094858268386803,11.797612932409226,11.869709222560976,13.074107142857143,12.020580299613403,11.579932468220338,13.162928734756099,13.933639368343737,12.405818617639463,12.9733081470215,12.734438380657558,15.15151515151515,12.22609592831575,11.111175396520055,14.775335537833106,13.113756079494635,13.824088002041687,11.59895797264543,13.24760219221568,11.588842956578189,11.60820436902866,11.861380338216957,11.458902469758064,12.10043964056502,12.516500244140625,10.747783397798274,13.811901705012327,11.540166558159724,13.29700996677741,13.827464288049164,14.195891431809223,12.453213537509976,11.592564392702892,12.849800441576086,11.333296225856413,12.729037656903765,13.814665030420354,11.227399242013028,10.644139391447368,15.952214974416815,12.311853736620796,11.210366596017352,12.363022296348316,12.027849500942425,10.985238506610576,11.346054773297773,17.30428591073977,12.554116715574006,11.03724793752554,12.820727103097099,11.933225257828031,12.682369712180465,12.134657024515086,10.449514883893281,12.231799600290698,12.222123118883705,13.132678649475524,12.528714130434782,13.225761892861824,12.657093997144115,9.109705596092876,13.088405872172387,11.892182475469987,13.408115929760063,14.052129117018884,13.871762710555412,13.153022291539866,12.635867503612715,13.008554627311247,12.752112821691176,12.487263538575668,17.663134367724098,12.928508073968551,13.31288015538355,13.499814489160515,13.28407861470481,11.321626721398307,12.789568896588486,12.410220655006317,12.363986224905629,12.58613512630662,7.8129180079603415,12.124975795154912,13.928740328820115,12.394870174632354,13.027051196808511,12.942677883645048],\"yaxis\":\"y\",\"type\":\"scatter\"},{\"hovertemplate\":\"Activity Date: %{customdata[1]|%Y-%m-%d}\\u003cbr\\u003eDistance (km): %{x:.1f}\\u003cbr\\u003eAverage speed (km\\u002fhr): %{y:.1f}\\u003cbr\\u003eElevation gain: %{customdata[0]:.1f}\",\"legendgroup\":\"\",\"line\":{\"color\":\"black\"},\"marker\":{\"symbol\":\"circle\"},\"mode\":\"lines\",\"name\":\"\",\"showlegend\":false,\"x\":[1.0075,1.5916199951171874,1.6144000244140626,1.7574000244140624,1.8604100341796874,1.917010009765625,2.0145,2.0905,2.40460009765625,2.427300048828125,2.467300048828125,2.50760009765625,2.638719970703125,2.80560009765625,3.00493994140625,3.005699951171875,3.006300048828125,3.02410009765625,3.20489990234375,3.602800048828125,3.60989990234375,3.64639990234375,3.659090087890625,3.78810009765625,4.00439990234375,4.006199951171875,4.014199951171875,4.0145,4.01710009765625,4.034300048828125,4.1847001953125,4.2146201171875,4.2382998046875,4.25910009765625,4.28160009765625,4.31889013671875,4.33060009765625,4.34489990234375,4.482,4.48793017578125,4.51010009765625,4.54358984375,4.55639990234375,4.61902978515625,4.62589990234375,4.6442998046875,4.69847998046875,4.7237001953125,4.81803955078125,4.95581982421875,4.99502001953125,5.00194970703125,5.00201025390625,5.00238037109375,5.00268017578125,5.00793017578125,5.00860009765625,5.0097099609375,5.00981982421875,5.0135,5.0171298828125,5.01935986328125,5.0237099609375,5.0273798828125,5.05189013671875,5.05464013671875,5.0627099609375,5.08118017578125,5.109330078125,5.15243017578125,5.231,5.24960009765625,5.26189990234375,5.26781982421875,5.271240234375,5.27160009765625,5.3345,5.35472998046875,5.35966015625,5.4570498046875,5.5,5.50493994140625,5.507240234375,5.50766015625,5.50793994140625,5.54939990234375,5.578740234375,5.57960009765625,5.587,5.617740234375,5.6722001953125,5.685080078125,5.75389990234375,5.8132998046875,5.8887998046875,5.9035,5.91710009765625,5.9808701171875,6.00189013671875,6.00280029296875,6.01072021484375,6.01502978515625,6.01756982421875,6.04089990234375,6.07510009765625,6.1232998046875,6.22364013671875,6.256240234375,6.2707998046875,6.29531982421875,6.3685,6.39810009765625,6.428490234375,6.463740234375,6.51081982421875,6.59608984375,6.6061298828125,6.6747001953125,6.67985986328125,6.73714013671875,6.7547001953125,6.7732001953125,6.807330078125,6.85952978515625,6.8617197265625,6.89702978515625,6.95667041015625,6.99139013671875,7.00039990234375,7.00481005859375,7.00597998046875,7.0205400390625,7.0354599609375,7.039,7.0612998046875,7.1307900390625,7.238,7.24677001953125,7.27908984375,7.3583798828125,7.4027998046875,7.40597998046875,7.45889013671875,7.4926298828125,7.51360009765625,7.60547021484375,7.61491015625,7.77164990234375,7.80460009765625,7.83189990234375,7.87589013671875,8.0,8.01497021484375,8.06251953125,8.145099609375,8.308919921875,8.501130859375,8.501900390625,8.50376953125,8.638490234375,8.6536396484375,8.71076953125,8.752599609375,8.84825,8.882,8.903669921875,9.0028798828125,9.003400390625,9.0339501953125,9.046900390625,9.095470703125,9.1124404296875,9.1207998046875,9.137900390625,9.1898603515625,9.2334697265625,9.3242099609375,9.39555078125,9.41344921875,9.5205400390625,9.5728095703125,9.6349296875,9.749240234375,9.8713505859375,9.9971796875,9.998259765625,9.99975,10.0,10.001609375,10.0026201171875,10.00416015625,10.0055703125,10.006,10.0062001953125,10.0071103515625,10.0073603515625,10.0079599609375,10.008330078125,10.0095,10.0132001953125,10.016400390625,10.017220703125,10.0181396484375,10.01833984375,10.0191796875,10.03425,10.0353798828125,10.04441015625,10.04475,10.0649404296875,10.0676201171875,10.082830078125,10.087330078125,10.1132705078125,10.1387099609375,10.1538701171875,10.248240234375,10.262759765625,10.3025,10.3778896484375,10.44033984375,10.4680595703125,10.4987197265625,10.5,10.501009765625,10.53925,10.6041396484375,10.607669921875,10.656779296875,10.707349609375,10.8998095703125,11.0026904296875,11.00308984375,11.015259765625,11.0155302734375,11.0800498046875,11.085599609375,11.1107001953125,11.287099609375,11.31891015625,11.44308984375,11.5037998046875,11.522169921875,11.54541015625,11.5725595703125,11.6324599609375,12.0045498046875,12.018169921875,12.0237001953125,12.0341796875,12.0375400390625,12.0687802734375,12.18098046875,12.279,12.426689453125,12.5001494140625,12.50441015625,12.5121796875,12.5198203125,12.5199404296875,12.676,13.0004296875,13.00323046875,13.0088095703125,13.016,13.1060400390625,13.5028896484375,13.5041494140625,13.5081103515625,13.568400390625,13.6032900390625,13.865900390625,14.0033896484375,14.0075703125,14.1662998046875,14.333970703125,15.02058984375,15.050919921875,15.097310546875,15.2812197265625,15.5667001953125,15.6086201171875,17.53419921875,18.0086796875,18.02669921875,19.5945,20.65241015625,21.1,21.1,21.2065,21.52469921875,26.377279296875,30.00905078125],\"xaxis\":\"x\",\"y\":[13.229592080040936,13.172414322722126,13.170184453863433,13.156186612041651,13.146103270623753,13.140562868488308,13.13101986525399,13.123580452817238,13.092834134752914,13.090612104502103,13.086696624272236,13.082751773161004,13.069916841394555,13.05358144544848,13.034068665017774,13.033994269937478,13.033935528174752,13.032193134692822,13.01449518317237,12.975545929246833,12.974850945844949,12.971278070135194,12.970035865869638,12.957407462302326,12.936234522077868,12.936058320687884,12.93527522464191,12.935245853760547,12.934991337986327,12.933307686267124,12.918585466263899,12.915656694699381,12.913338760992987,12.911302682595622,12.90910022496632,12.905450014698314,12.904303761684732,12.90290399662111,12.889483678573955,12.888903191423177,12.886733044153194,12.88345483318486,12.882200894905678,12.876070243206893,12.87539774800628,12.87359663665982,12.868293101481761,12.865824370166417,12.856589773135505,12.843102874717744,12.839265684973917,12.83858735861378,12.838581431861481,12.83854520219822,12.838515855215052,12.838001948434883,12.837936371788455,12.837827730595064,12.83781697640742,12.837456735019574,12.837101416659847,12.836883130548888,12.83645731251461,12.836098074850943,12.833698839485967,12.833429650220165,12.832639719290489,12.830831725263934,12.828076215611443,12.823857276104482,12.816166311269662,12.814345603403495,12.813141612351366,12.812562128924768,12.812227315216147,12.812192089277067,12.806035006174875,12.804054753960475,12.803572153815443,12.794038972739171,12.789834706723793,12.789351150650972,12.78912598185992,12.78908487696493,12.78905748963373,12.784999098199183,12.78212706094903,12.782042891507077,12.781318537223829,12.778309467724908,12.772978545215652,12.771717772052769,12.764981205523979,12.759166726941903,12.751776258008025,12.750337299904992,12.749006027067558,12.742763770799234,12.740706184026584,12.740617091556508,12.739841834118417,12.739419983184472,12.739171346366163,12.73688763487467,12.733539880159576,12.728821755160418,12.718999740502248,12.715808614555627,12.714383421812776,12.711983230520012,12.704819842232766,12.701922377303386,12.698947577815755,12.695497060863183,12.690888580781593,12.682541753889716,12.681558964528307,12.674846821954565,12.674341757506458,12.668734763051306,12.667015861494827,12.665204951888512,12.661864079853512,12.656754406831366,12.656540040024348,12.653083644115863,12.64724560191375,12.643846991840203,12.642965052860692,12.642533355870505,12.642418835721204,12.640993595181964,12.639533128703645,12.63918660487959,12.637003743769995,12.630201552798388,12.619707090735993,12.618848619783739,12.615684928964704,12.607923464455336,12.60357533130749,12.603264033422514,12.59808481665361,12.594782133933839,12.59272942239292,12.583736531703835,12.582812484105151,12.567469699678533,12.564244303720622,12.561572007582294,12.557265935257227,12.545117192356992,12.543651802850553,12.53899734264224,12.530913826060255,12.514877946189138,12.496062993045491,12.495987665935601,12.4958047013565,12.482617295115501,12.481134364334105,12.475542091166929,12.471447470069121,12.462084539732336,12.458780853288385,12.456659649521274,12.446948283504854,12.44689733255362,12.443906903646614,12.442639247803639,12.437884845344831,12.436223729623286,12.435405455434623,12.433731530280687,12.428645325285798,12.424376534144562,12.415494244300838,12.408510905012932,12.406758880558513,12.396276080815163,12.391159572909315,12.385078820641194,12.373889303482331,12.3619362867972,12.349619252809445,12.349513527195816,12.349367652614987,12.349343180863551,12.349185643963677,12.34908670543736,12.3489359556248,12.348797919651853,12.34875585882907,12.348736262309364,12.34864716983929,12.348622698087855,12.348564004121517,12.348527774458258,12.348413254308957,12.348051053269138,12.347737795732193,12.34765749779779,12.347567544992705,12.347547948473,12.347465738683018,12.345990550916726,12.345879950071366,12.344996003643494,12.344962737356385,12.342986356649536,12.342724050063824,12.341235192530128,12.340794701004267,12.338255470014374,12.335765278120133,12.334281295818169,12.325043687614718,12.323622414175809,12.319732361625167,12.312352694675322,12.306239632047884,12.303526231014564,12.300525000123525,12.30039967799019,12.300300835056653,12.296557613014631,12.290205759625128,12.289860191728863,12.28505302205602,12.28010284558572,12.261263516283416,12.251192817010548,12.251153719563916,12.249962442351402,12.249935963151605,12.24362033942536,12.243077085662023,12.240620064462112,12.223352854004057,12.220239014819299,12.20808343703536,12.202140720740188,12.200342524973486,12.198067608017666,12.19541003316731,12.189546563285969,12.153123802612518,12.151790570123113,12.151249228215356,12.150223422103375,12.149894487350666,12.146836474348872,12.135853533185534,12.126258694766774,12.111801816419996,12.104611040801554,12.10419396950656,12.103433433356443,12.102685515453159,12.102673757541336,12.087397553485326,12.055640102800606,12.055365942710292,12.054819821163582,12.054115971531441,12.045302221710294,12.00645580171682,12.006332487031846,12.005944762720022,12.00004315131984,11.996627908102738,11.970921767110191,11.957463355340586,11.957054122653476,11.941516567939544,11.925103765740634,11.857892673976465,11.854923753444746,11.850382714068777,11.832380395139833,11.804435566854725,11.800332151221244,11.61184297864083,11.565397506269592,11.563633628310571,11.410166304226639,11.30661064668228,11.26279741707495,11.26279741707495,11.252372450962925,11.221224882208542,10.746220348214697,10.390717112052904],\"yaxis\":\"y\",\"type\":\"scatter\"}],                        {\"template\":{\"data\":{\"barpolar\":[{\"marker\":{\"line\":{\"color\":\"rgb(234,234,242)\",\"width\":0.5},\"pattern\":{\"fillmode\":\"overlay\",\"size\":10,\"solidity\":0.2}},\"type\":\"barpolar\"}],\"bar\":[{\"error_x\":{\"color\":\"rgb(36,36,36)\"},\"error_y\":{\"color\":\"rgb(36,36,36)\"},\"marker\":{\"line\":{\"color\":\"rgb(234,234,242)\",\"width\":0.5},\"pattern\":{\"fillmode\":\"overlay\",\"size\":10,\"solidity\":0.2}},\"type\":\"bar\"}],\"carpet\":[{\"aaxis\":{\"endlinecolor\":\"rgb(36,36,36)\",\"gridcolor\":\"white\",\"linecolor\":\"white\",\"minorgridcolor\":\"white\",\"startlinecolor\":\"rgb(36,36,36)\"},\"baxis\":{\"endlinecolor\":\"rgb(36,36,36)\",\"gridcolor\":\"white\",\"linecolor\":\"white\",\"minorgridcolor\":\"white\",\"startlinecolor\":\"rgb(36,36,36)\"},\"type\":\"carpet\"}],\"choropleth\":[{\"colorbar\":{\"outlinewidth\":0,\"tickcolor\":\"rgb(36,36,36)\",\"ticklen\":8,\"ticks\":\"outside\",\"tickwidth\":2},\"type\":\"choropleth\"}],\"contourcarpet\":[{\"colorbar\":{\"outlinewidth\":0,\"tickcolor\":\"rgb(36,36,36)\",\"ticklen\":8,\"ticks\":\"outside\",\"tickwidth\":2},\"type\":\"contourcarpet\"}],\"contour\":[{\"colorbar\":{\"outlinewidth\":0,\"tickcolor\":\"rgb(36,36,36)\",\"ticklen\":8,\"ticks\":\"outside\",\"tickwidth\":2},\"colorscale\":[[0.0,\"rgb(2,4,25)\"],[0.06274509803921569,\"rgb(24,15,41)\"],[0.12549019607843137,\"rgb(47,23,57)\"],[0.18823529411764706,\"rgb(71,28,72)\"],[0.25098039215686274,\"rgb(97,30,82)\"],[0.3137254901960784,\"rgb(123,30,89)\"],[0.3764705882352941,\"rgb(150,27,91)\"],[0.4392156862745098,\"rgb(177,22,88)\"],[0.5019607843137255,\"rgb(203,26,79)\"],[0.5647058823529412,\"rgb(223,47,67)\"],[0.6274509803921569,\"rgb(236,76,61)\"],[0.6901960784313725,\"rgb(242,107,73)\"],[0.7529411764705882,\"rgb(244,135,95)\"],[0.8156862745098039,\"rgb(245,162,122)\"],[0.8784313725490196,\"rgb(246,188,153)\"],[0.9411764705882353,\"rgb(247,212,187)\"],[1.0,\"rgb(250,234,220)\"]],\"type\":\"contour\"}],\"heatmapgl\":[{\"colorbar\":{\"outlinewidth\":0,\"tickcolor\":\"rgb(36,36,36)\",\"ticklen\":8,\"ticks\":\"outside\",\"tickwidth\":2},\"colorscale\":[[0.0,\"rgb(2,4,25)\"],[0.06274509803921569,\"rgb(24,15,41)\"],[0.12549019607843137,\"rgb(47,23,57)\"],[0.18823529411764706,\"rgb(71,28,72)\"],[0.25098039215686274,\"rgb(97,30,82)\"],[0.3137254901960784,\"rgb(123,30,89)\"],[0.3764705882352941,\"rgb(150,27,91)\"],[0.4392156862745098,\"rgb(177,22,88)\"],[0.5019607843137255,\"rgb(203,26,79)\"],[0.5647058823529412,\"rgb(223,47,67)\"],[0.6274509803921569,\"rgb(236,76,61)\"],[0.6901960784313725,\"rgb(242,107,73)\"],[0.7529411764705882,\"rgb(244,135,95)\"],[0.8156862745098039,\"rgb(245,162,122)\"],[0.8784313725490196,\"rgb(246,188,153)\"],[0.9411764705882353,\"rgb(247,212,187)\"],[1.0,\"rgb(250,234,220)\"]],\"type\":\"heatmapgl\"}],\"heatmap\":[{\"colorbar\":{\"outlinewidth\":0,\"tickcolor\":\"rgb(36,36,36)\",\"ticklen\":8,\"ticks\":\"outside\",\"tickwidth\":2},\"colorscale\":[[0.0,\"rgb(2,4,25)\"],[0.06274509803921569,\"rgb(24,15,41)\"],[0.12549019607843137,\"rgb(47,23,57)\"],[0.18823529411764706,\"rgb(71,28,72)\"],[0.25098039215686274,\"rgb(97,30,82)\"],[0.3137254901960784,\"rgb(123,30,89)\"],[0.3764705882352941,\"rgb(150,27,91)\"],[0.4392156862745098,\"rgb(177,22,88)\"],[0.5019607843137255,\"rgb(203,26,79)\"],[0.5647058823529412,\"rgb(223,47,67)\"],[0.6274509803921569,\"rgb(236,76,61)\"],[0.6901960784313725,\"rgb(242,107,73)\"],[0.7529411764705882,\"rgb(244,135,95)\"],[0.8156862745098039,\"rgb(245,162,122)\"],[0.8784313725490196,\"rgb(246,188,153)\"],[0.9411764705882353,\"rgb(247,212,187)\"],[1.0,\"rgb(250,234,220)\"]],\"type\":\"heatmap\"}],\"histogram2dcontour\":[{\"colorbar\":{\"outlinewidth\":0,\"tickcolor\":\"rgb(36,36,36)\",\"ticklen\":8,\"ticks\":\"outside\",\"tickwidth\":2},\"colorscale\":[[0.0,\"rgb(2,4,25)\"],[0.06274509803921569,\"rgb(24,15,41)\"],[0.12549019607843137,\"rgb(47,23,57)\"],[0.18823529411764706,\"rgb(71,28,72)\"],[0.25098039215686274,\"rgb(97,30,82)\"],[0.3137254901960784,\"rgb(123,30,89)\"],[0.3764705882352941,\"rgb(150,27,91)\"],[0.4392156862745098,\"rgb(177,22,88)\"],[0.5019607843137255,\"rgb(203,26,79)\"],[0.5647058823529412,\"rgb(223,47,67)\"],[0.6274509803921569,\"rgb(236,76,61)\"],[0.6901960784313725,\"rgb(242,107,73)\"],[0.7529411764705882,\"rgb(244,135,95)\"],[0.8156862745098039,\"rgb(245,162,122)\"],[0.8784313725490196,\"rgb(246,188,153)\"],[0.9411764705882353,\"rgb(247,212,187)\"],[1.0,\"rgb(250,234,220)\"]],\"type\":\"histogram2dcontour\"}],\"histogram2d\":[{\"colorbar\":{\"outlinewidth\":0,\"tickcolor\":\"rgb(36,36,36)\",\"ticklen\":8,\"ticks\":\"outside\",\"tickwidth\":2},\"colorscale\":[[0.0,\"rgb(2,4,25)\"],[0.06274509803921569,\"rgb(24,15,41)\"],[0.12549019607843137,\"rgb(47,23,57)\"],[0.18823529411764706,\"rgb(71,28,72)\"],[0.25098039215686274,\"rgb(97,30,82)\"],[0.3137254901960784,\"rgb(123,30,89)\"],[0.3764705882352941,\"rgb(150,27,91)\"],[0.4392156862745098,\"rgb(177,22,88)\"],[0.5019607843137255,\"rgb(203,26,79)\"],[0.5647058823529412,\"rgb(223,47,67)\"],[0.6274509803921569,\"rgb(236,76,61)\"],[0.6901960784313725,\"rgb(242,107,73)\"],[0.7529411764705882,\"rgb(244,135,95)\"],[0.8156862745098039,\"rgb(245,162,122)\"],[0.8784313725490196,\"rgb(246,188,153)\"],[0.9411764705882353,\"rgb(247,212,187)\"],[1.0,\"rgb(250,234,220)\"]],\"type\":\"histogram2d\"}],\"histogram\":[{\"marker\":{\"pattern\":{\"fillmode\":\"overlay\",\"size\":10,\"solidity\":0.2}},\"type\":\"histogram\"}],\"mesh3d\":[{\"colorbar\":{\"outlinewidth\":0,\"tickcolor\":\"rgb(36,36,36)\",\"ticklen\":8,\"ticks\":\"outside\",\"tickwidth\":2},\"type\":\"mesh3d\"}],\"parcoords\":[{\"line\":{\"colorbar\":{\"outlinewidth\":0,\"tickcolor\":\"rgb(36,36,36)\",\"ticklen\":8,\"ticks\":\"outside\",\"tickwidth\":2}},\"type\":\"parcoords\"}],\"pie\":[{\"automargin\":true,\"type\":\"pie\"}],\"scatter3d\":[{\"line\":{\"colorbar\":{\"outlinewidth\":0,\"tickcolor\":\"rgb(36,36,36)\",\"ticklen\":8,\"ticks\":\"outside\",\"tickwidth\":2}},\"marker\":{\"colorbar\":{\"outlinewidth\":0,\"tickcolor\":\"rgb(36,36,36)\",\"ticklen\":8,\"ticks\":\"outside\",\"tickwidth\":2}},\"type\":\"scatter3d\"}],\"scattercarpet\":[{\"marker\":{\"colorbar\":{\"outlinewidth\":0,\"tickcolor\":\"rgb(36,36,36)\",\"ticklen\":8,\"ticks\":\"outside\",\"tickwidth\":2}},\"type\":\"scattercarpet\"}],\"scattergeo\":[{\"marker\":{\"colorbar\":{\"outlinewidth\":0,\"tickcolor\":\"rgb(36,36,36)\",\"ticklen\":8,\"ticks\":\"outside\",\"tickwidth\":2}},\"type\":\"scattergeo\"}],\"scattergl\":[{\"marker\":{\"colorbar\":{\"outlinewidth\":0,\"tickcolor\":\"rgb(36,36,36)\",\"ticklen\":8,\"ticks\":\"outside\",\"tickwidth\":2}},\"type\":\"scattergl\"}],\"scattermapbox\":[{\"marker\":{\"colorbar\":{\"outlinewidth\":0,\"tickcolor\":\"rgb(36,36,36)\",\"ticklen\":8,\"ticks\":\"outside\",\"tickwidth\":2}},\"type\":\"scattermapbox\"}],\"scatterpolargl\":[{\"marker\":{\"colorbar\":{\"outlinewidth\":0,\"tickcolor\":\"rgb(36,36,36)\",\"ticklen\":8,\"ticks\":\"outside\",\"tickwidth\":2}},\"type\":\"scatterpolargl\"}],\"scatterpolar\":[{\"marker\":{\"colorbar\":{\"outlinewidth\":0,\"tickcolor\":\"rgb(36,36,36)\",\"ticklen\":8,\"ticks\":\"outside\",\"tickwidth\":2}},\"type\":\"scatterpolar\"}],\"scatter\":[{\"fillpattern\":{\"fillmode\":\"overlay\",\"size\":10,\"solidity\":0.2},\"type\":\"scatter\"}],\"scatterternary\":[{\"marker\":{\"colorbar\":{\"outlinewidth\":0,\"tickcolor\":\"rgb(36,36,36)\",\"ticklen\":8,\"ticks\":\"outside\",\"tickwidth\":2}},\"type\":\"scatterternary\"}],\"surface\":[{\"colorbar\":{\"outlinewidth\":0,\"tickcolor\":\"rgb(36,36,36)\",\"ticklen\":8,\"ticks\":\"outside\",\"tickwidth\":2},\"colorscale\":[[0.0,\"rgb(2,4,25)\"],[0.06274509803921569,\"rgb(24,15,41)\"],[0.12549019607843137,\"rgb(47,23,57)\"],[0.18823529411764706,\"rgb(71,28,72)\"],[0.25098039215686274,\"rgb(97,30,82)\"],[0.3137254901960784,\"rgb(123,30,89)\"],[0.3764705882352941,\"rgb(150,27,91)\"],[0.4392156862745098,\"rgb(177,22,88)\"],[0.5019607843137255,\"rgb(203,26,79)\"],[0.5647058823529412,\"rgb(223,47,67)\"],[0.6274509803921569,\"rgb(236,76,61)\"],[0.6901960784313725,\"rgb(242,107,73)\"],[0.7529411764705882,\"rgb(244,135,95)\"],[0.8156862745098039,\"rgb(245,162,122)\"],[0.8784313725490196,\"rgb(246,188,153)\"],[0.9411764705882353,\"rgb(247,212,187)\"],[1.0,\"rgb(250,234,220)\"]],\"type\":\"surface\"}],\"table\":[{\"cells\":{\"fill\":{\"color\":\"rgb(231,231,240)\"},\"line\":{\"color\":\"white\"}},\"header\":{\"fill\":{\"color\":\"rgb(183,183,191)\"},\"line\":{\"color\":\"white\"}},\"type\":\"table\"}]},\"layout\":{\"annotationdefaults\":{\"arrowcolor\":\"rgb(67,103,167)\"},\"autotypenumbers\":\"strict\",\"coloraxis\":{\"colorbar\":{\"outlinewidth\":0,\"tickcolor\":\"rgb(36,36,36)\",\"ticklen\":8,\"ticks\":\"outside\",\"tickwidth\":2}},\"colorscale\":{\"sequential\":[[0.0,\"rgb(2,4,25)\"],[0.06274509803921569,\"rgb(24,15,41)\"],[0.12549019607843137,\"rgb(47,23,57)\"],[0.18823529411764706,\"rgb(71,28,72)\"],[0.25098039215686274,\"rgb(97,30,82)\"],[0.3137254901960784,\"rgb(123,30,89)\"],[0.3764705882352941,\"rgb(150,27,91)\"],[0.4392156862745098,\"rgb(177,22,88)\"],[0.5019607843137255,\"rgb(203,26,79)\"],[0.5647058823529412,\"rgb(223,47,67)\"],[0.6274509803921569,\"rgb(236,76,61)\"],[0.6901960784313725,\"rgb(242,107,73)\"],[0.7529411764705882,\"rgb(244,135,95)\"],[0.8156862745098039,\"rgb(245,162,122)\"],[0.8784313725490196,\"rgb(246,188,153)\"],[0.9411764705882353,\"rgb(247,212,187)\"],[1.0,\"rgb(250,234,220)\"]],\"sequentialminus\":[[0.0,\"rgb(2,4,25)\"],[0.06274509803921569,\"rgb(24,15,41)\"],[0.12549019607843137,\"rgb(47,23,57)\"],[0.18823529411764706,\"rgb(71,28,72)\"],[0.25098039215686274,\"rgb(97,30,82)\"],[0.3137254901960784,\"rgb(123,30,89)\"],[0.3764705882352941,\"rgb(150,27,91)\"],[0.4392156862745098,\"rgb(177,22,88)\"],[0.5019607843137255,\"rgb(203,26,79)\"],[0.5647058823529412,\"rgb(223,47,67)\"],[0.6274509803921569,\"rgb(236,76,61)\"],[0.6901960784313725,\"rgb(242,107,73)\"],[0.7529411764705882,\"rgb(244,135,95)\"],[0.8156862745098039,\"rgb(245,162,122)\"],[0.8784313725490196,\"rgb(246,188,153)\"],[0.9411764705882353,\"rgb(247,212,187)\"],[1.0,\"rgb(250,234,220)\"]]},\"colorway\":[\"rgb(76,114,176)\",\"rgb(221,132,82)\",\"rgb(85,168,104)\",\"rgb(196,78,82)\",\"rgb(129,114,179)\",\"rgb(147,120,96)\",\"rgb(218,139,195)\",\"rgb(140,140,140)\",\"rgb(204,185,116)\",\"rgb(100,181,205)\"],\"font\":{\"color\":\"rgb(36,36,36)\"},\"geo\":{\"bgcolor\":\"white\",\"lakecolor\":\"white\",\"landcolor\":\"rgb(234,234,242)\",\"showlakes\":true,\"showland\":true,\"subunitcolor\":\"white\"},\"hoverlabel\":{\"align\":\"left\"},\"hovermode\":\"closest\",\"paper_bgcolor\":\"white\",\"plot_bgcolor\":\"rgb(234,234,242)\",\"polar\":{\"angularaxis\":{\"gridcolor\":\"white\",\"linecolor\":\"white\",\"showgrid\":true,\"ticks\":\"\"},\"bgcolor\":\"rgb(234,234,242)\",\"radialaxis\":{\"gridcolor\":\"white\",\"linecolor\":\"white\",\"showgrid\":true,\"ticks\":\"\"}},\"scene\":{\"xaxis\":{\"backgroundcolor\":\"rgb(234,234,242)\",\"gridcolor\":\"white\",\"gridwidth\":2,\"linecolor\":\"white\",\"showbackground\":true,\"showgrid\":true,\"ticks\":\"\",\"zerolinecolor\":\"white\"},\"yaxis\":{\"backgroundcolor\":\"rgb(234,234,242)\",\"gridcolor\":\"white\",\"gridwidth\":2,\"linecolor\":\"white\",\"showbackground\":true,\"showgrid\":true,\"ticks\":\"\",\"zerolinecolor\":\"white\"},\"zaxis\":{\"backgroundcolor\":\"rgb(234,234,242)\",\"gridcolor\":\"white\",\"gridwidth\":2,\"linecolor\":\"white\",\"showbackground\":true,\"showgrid\":true,\"ticks\":\"\",\"zerolinecolor\":\"white\"}},\"shapedefaults\":{\"fillcolor\":\"rgb(67,103,167)\",\"line\":{\"width\":0},\"opacity\":0.5},\"ternary\":{\"aaxis\":{\"gridcolor\":\"white\",\"linecolor\":\"white\",\"showgrid\":true,\"ticks\":\"\"},\"baxis\":{\"gridcolor\":\"white\",\"linecolor\":\"white\",\"showgrid\":true,\"ticks\":\"\"},\"bgcolor\":\"rgb(234,234,242)\",\"caxis\":{\"gridcolor\":\"white\",\"linecolor\":\"white\",\"showgrid\":true,\"ticks\":\"\"}},\"xaxis\":{\"automargin\":true,\"gridcolor\":\"white\",\"linecolor\":\"white\",\"showgrid\":true,\"ticks\":\"\",\"title\":{\"standoff\":15},\"zerolinecolor\":\"white\"},\"yaxis\":{\"automargin\":true,\"gridcolor\":\"white\",\"linecolor\":\"white\",\"showgrid\":true,\"ticks\":\"\",\"title\":{\"standoff\":15},\"zerolinecolor\":\"white\"}}},\"xaxis\":{\"anchor\":\"y\",\"domain\":[0.0,1.0],\"title\":{\"text\":\"Distance (km)\"},\"tickangle\":-45},\"yaxis\":{\"anchor\":\"x\",\"domain\":[0.0,1.0],\"title\":{\"text\":\"Average Speed (km\\u002fhr)\"}},\"coloraxis\":{\"colorbar\":{\"title\":{\"text\":\"Elevation gain\",\"font\":{\"size\":12}},\"tickfont\":{\"size\":10},\"thickness\":15,\"ticklen\":3},\"colorscale\":[[0.0,\"rgb(3, 35, 51)\"],[0.09090909090909091,\"rgb(13, 48, 100)\"],[0.18181818181818182,\"rgb(53, 50, 155)\"],[0.2727272727272727,\"rgb(93, 62, 153)\"],[0.36363636363636365,\"rgb(126, 77, 143)\"],[0.45454545454545453,\"rgb(158, 89, 135)\"],[0.5454545454545454,\"rgb(193, 100, 121)\"],[0.6363636363636364,\"rgb(225, 113, 97)\"],[0.7272727272727273,\"rgb(246, 139, 69)\"],[0.8181818181818182,\"rgb(251, 173, 60)\"],[0.9090909090909091,\"rgb(246, 211, 70)\"],[1.0,\"rgb(231, 250, 90)\"]]},\"legend\":{\"tracegroupgap\":0},\"title\":{\"text\":\"My average speed on carreras\"},\"autosize\":false,\"width\":700,\"height\":600},                        {\"responsive\": true}                    ).then(function(){\n",
       "                            \n",
       "var gd = document.getElementById('07f2fe59-cdd4-43ae-824f-5bf4fcb74702');\n",
       "var x = new MutationObserver(function (mutations, observer) {{\n",
       "        var display = window.getComputedStyle(gd).display;\n",
       "        if (!display || display === 'none') {{\n",
       "            console.log([gd, 'removed!']);\n",
       "            Plotly.purge(gd);\n",
       "            observer.disconnect();\n",
       "        }}\n",
       "}});\n",
       "\n",
       "// Listen for the removal of the full notebook cells\n",
       "var notebookContainer = gd.closest('#notebook-container');\n",
       "if (notebookContainer) {{\n",
       "    x.observe(notebookContainer, {childList: true});\n",
       "}}\n",
       "\n",
       "// Listen for the clearing of the current output cell\n",
       "var outputEl = gd.closest('.output');\n",
       "if (outputEl) {{\n",
       "    x.observe(outputEl, {childList: true});\n",
       "}}\n",
       "\n",
       "                        })                };                });            </script>        </div>"
      ]
     },
     "metadata": {},
     "output_type": "display_data"
    }
   ],
   "source": [
    "# Find the activity with the most kms\n",
    "most_kms = (\n",
    "    df_km.groupby(by=[\"Activity Type\"], as_index=False)\n",
    "    .sum()\n",
    "    .sort_values(by=\"total_distance_km\")\n",
    ")\n",
    "\n",
    "# Define an activity here\n",
    "activity = most_kms[\"Activity Type\"].values[1]\n",
    "\n",
    "# Generating four bins based on the Distance column\n",
    "speed = df.loc[df[\"Activity Type\"] == activity]\n",
    "cats, bins = pd.cut(speed[\"Distance (km)\"], 4, precision=0, retbins=True)\n",
    "bins = np.around(bins, 0).astype(int)\n",
    "bin_labels = []\n",
    "for i in range(0, 4):\n",
    "    bin_labels.append(\n",
    "        f\"{bins[i]}-{str(bins[i + 1])}km {activity.lower()}s\"\n",
    "    )\n",
    "speed.insert(\n",
    "    0, \"distance_bin\", pd.cut(speed[\"Distance (km)\"], 4, precision=0, labels=bin_labels)\n",
    ")\n",
    "\n",
    "# Create a scatter plot with four subplots\n",
    "fig_s = px.scatter(\n",
    "    speed,\n",
    "    x=\"Distance (km)\",\n",
    "    y=\"Average Speed (km/hr)\",\n",
    "    color=\"Elevation Gain\",\n",
    "    trendline=\"ols\",  # Add a black trend line\n",
    "    trendline_color_override=\"black\",\n",
    "    color_continuous_scale=\"thermal\",  # Define a color scale\n",
    "    title=\"My average speed on \" + activity.lower() + \"s\",  # Set title text\n",
    "    custom_data=[\"Elevation Gain\", \"Activity Date\"],  # Variables for the hover text\n",
    ")\n",
    "\n",
    "# Customize the hover text\n",
    "fig_s.update_traces(\n",
    "    hovertemplate=\n",
    "    \"Activity Date: %{customdata[1]|%Y-%m-%d}<br>\"\n",
    "    \"Distance (km): %{x:.1f}<br>\"\n",
    "    \"Average speed (km/hr): %{y:.1f}<br>\"\n",
    "    \"Elevation gain: %{customdata[0]:.1f}\"\n",
    ")\n",
    "\n",
    "# Adjust the size and layout\n",
    "fig_s.update_layout(\n",
    "    autosize=False,\n",
    "    width=700,\n",
    "    height=600,\n",
    "    template=\"seaborn\",  # Others options: \"plotly\", \"plotly_dark\", \"ggplot2\", \"seaborn\", \"simple_white\"\n",
    ")\n",
    "\n",
    "\n",
    "# Rotate xtick labels\n",
    "fig_s.update_xaxes(tickangle=-45)\n",
    "\n",
    "# Set size of bin labels\n",
    "fig_s.update_annotations(font=dict(size=10))\n",
    "\n",
    "# Make the color bar smaller\n",
    "fig_s.update_coloraxes(\n",
    "    colorbar_thickness=15,\n",
    "    colorbar_title_text=\"Elevation gain\",\n",
    "    colorbar_title_font_size=12,\n",
    "    colorbar_tickfont_size=10,\n",
    "    colorbar_ticklen=3,\n",
    ")\n",
    "\n",
    "fig_s.show()"
   ]
  },
  {
   "cell_type": "code",
   "execution_count": 30,
   "metadata": {},
   "outputs": [
    {
     "data": {
      "application/vnd.plotly.v1+json": {
       "config": {
        "plotlyServerURL": "https://plot.ly"
       },
       "data": [
        {
         "alignmentgroup": "True",
         "customdata": [
          [
           1,
           12.50441015625
          ],
          [
           3,
           11.782056640625001
          ],
          [
           3,
           11.677029947916665
          ],
          [
           4,
           8.218300048828125
          ],
          [
           2,
           14.326205078125
          ],
          [
           3,
           10.733610026041667
          ],
          [
           4,
           8.638520141601562
          ],
          [
           2,
           14.296314941406251
          ],
          [
           2,
           10.00772021484375
          ],
          [
           4,
           8.628917358398438
          ],
          [
           4,
           9.89935498046875
          ],
          [
           4,
           8.7781474609375
          ],
          [
           2,
           9.440999999999999
          ],
          [
           4,
           10.327394775390625
          ],
          [
           2,
           11.95011962890625
          ],
          [
           4,
           9.561814819335938
          ],
          [
           3,
           10.559559895833333
          ],
          [
           3,
           7.047983398437499
          ],
          [
           3,
           7.9613331705729165
          ],
          [
           4,
           10.431022827148437
          ],
          [
           2,
           11.517069824218751
          ],
          [
           3,
           11.249786783854168
          ],
          [
           4,
           10.087767333984374
          ],
          [
           3,
           13.544909830729168
          ],
          [
           2,
           14.435824951171876
          ],
          [
           2,
           8.010494873046875
          ],
          [
           4,
           7.414434936523437
          ],
          [
           3,
           9.9224931640625
          ],
          [
           3,
           11.351673502604166
          ],
          [
           3,
           10.439383463541667
          ],
          [
           4,
           7.400542602539062
          ],
          [
           3,
           11.441099934895833
          ],
          [
           3,
           6.904246744791667
          ],
          [
           3,
           10.313126953125
          ],
          [
           3,
           9.771396809895833
          ],
          [
           3,
           15.74730712890625
          ],
          [
           3,
           9.985400065104168
          ],
          [
           3,
           7.936096516927083
          ],
          [
           3,
           9.99476025390625
          ],
          [
           3,
           10.19233349609375
          ],
          [
           6,
           8.323304931640626
          ],
          [
           3,
           8.390506835937499
          ],
          [
           4,
           8.24556982421875
          ],
          [
           3,
           7.152039876302084
          ],
          [
           2,
           5.0719450683593745
          ],
          [
           2,
           12.529439941406249
          ],
          [
           1,
           26.377279296875
          ],
          [
           2,
           7.5554697265624995
          ],
          [
           3,
           6.817149739583333
          ]
         ],
         "hovertemplate": "Week=%{x}<br>Total hrs spent=%{y:.1f}<br>Number of activities=%{customdata[0]:f}<br>Average hrs spent per activity=%{marker.color:.1f}<extra></extra>",
         "legendgroup": "",
         "marker": {
          "color": [
           12.50441015625,
           11.782056640625001,
           11.677029947916665,
           8.218300048828125,
           14.326205078125,
           10.733610026041667,
           8.638520141601562,
           14.296314941406251,
           10.00772021484375,
           8.628917358398438,
           9.89935498046875,
           8.7781474609375,
           9.440999999999999,
           10.327394775390625,
           11.95011962890625,
           9.561814819335938,
           10.559559895833333,
           7.047983398437499,
           7.9613331705729165,
           10.431022827148437,
           11.517069824218751,
           11.249786783854168,
           10.087767333984374,
           13.544909830729168,
           14.435824951171876,
           8.010494873046875,
           7.414434936523437,
           9.9224931640625,
           11.351673502604166,
           10.439383463541667,
           7.400542602539062,
           11.441099934895833,
           6.904246744791667,
           10.313126953125,
           9.771396809895833,
           15.74730712890625,
           9.985400065104168,
           7.936096516927083,
           9.99476025390625,
           10.19233349609375,
           8.323304931640626,
           8.390506835937499,
           8.24556982421875,
           7.152039876302084,
           5.0719450683593745,
           12.529439941406249,
           26.377279296875,
           7.5554697265624995,
           6.817149739583333
          ],
          "coloraxis": "coloraxis",
          "pattern": {
           "shape": ""
          }
         },
         "name": "",
         "offsetgroup": "",
         "orientation": "v",
         "showlegend": false,
         "textposition": "auto",
         "type": "bar",
         "x": [
          "2022-08-29/2022-09-04",
          "2022-09-05/2022-09-11",
          "2022-09-12/2022-09-18",
          "2022-09-19/2022-09-25",
          "2022-09-26/2022-10-02",
          "2022-10-03/2022-10-09",
          "2022-10-10/2022-10-16",
          "2022-10-17/2022-10-23",
          "2022-10-24/2022-10-30",
          "2022-10-31/2022-11-06",
          "2022-11-07/2022-11-13",
          "2022-11-14/2022-11-20",
          "2022-11-21/2022-11-27",
          "2022-11-28/2022-12-04",
          "2022-12-05/2022-12-11",
          "2022-12-12/2022-12-18",
          "2022-12-19/2022-12-25",
          "2022-12-26/2023-01-01",
          "2023-01-02/2023-01-08",
          "2023-01-09/2023-01-15",
          "2023-01-16/2023-01-22",
          "2023-01-23/2023-01-29",
          "2023-01-30/2023-02-05",
          "2023-02-06/2023-02-12",
          "2023-02-13/2023-02-19",
          "2023-02-20/2023-02-26",
          "2023-02-27/2023-03-05",
          "2023-03-06/2023-03-12",
          "2023-03-13/2023-03-19",
          "2023-03-20/2023-03-26",
          "2023-03-27/2023-04-02",
          "2023-04-03/2023-04-09",
          "2023-04-10/2023-04-16",
          "2023-04-17/2023-04-23",
          "2023-04-24/2023-04-30",
          "2023-05-01/2023-05-07",
          "2023-05-08/2023-05-14",
          "2023-05-15/2023-05-21",
          "2023-05-22/2023-05-28",
          "2023-05-29/2023-06-04",
          "2023-06-05/2023-06-11",
          "2023-06-12/2023-06-18",
          "2023-06-19/2023-06-25",
          "2023-06-26/2023-07-02",
          "2023-07-03/2023-07-09",
          "2023-07-10/2023-07-16",
          "2023-07-17/2023-07-23",
          "2023-07-24/2023-07-30",
          "2023-07-31/2023-08-06"
         ],
         "xaxis": "x",
         "y": [
          12.50441015625,
          35.346169921875,
          35.031089843749996,
          32.8732001953125,
          28.65241015625,
          32.200830078125,
          34.55408056640625,
          28.592629882812503,
          20.0154404296875,
          34.51566943359375,
          39.597419921875,
          35.11258984375,
          18.881999999999998,
          41.3095791015625,
          23.9002392578125,
          38.24725927734375,
          31.6786796875,
          21.1439501953125,
          23.88399951171875,
          41.72409130859375,
          23.034139648437503,
          33.7493603515625,
          40.351069335937495,
          40.6347294921875,
          28.87164990234375,
          16.02098974609375,
          29.65773974609375,
          29.767479492187498,
          34.0550205078125,
          31.318150390625,
          29.602170410156248,
          34.3232998046875,
          20.712740234375,
          30.939380859375,
          29.3141904296875,
          47.24192138671875,
          29.9562001953125,
          23.80828955078125,
          29.98428076171875,
          30.57700048828125,
          49.939829589843754,
          25.1715205078125,
          32.982279296875,
          21.45611962890625,
          10.143890136718749,
          25.058879882812498,
          26.377279296875,
          15.110939453124999,
          20.45144921875
         ],
         "yaxis": "y"
        }
       ],
       "layout": {
        "autosize": false,
        "barmode": "relative",
        "coloraxis": {
         "colorbar": {
          "title": {
           "text": "Average hrs spent per activity"
          }
         },
         "colorscale": [
          [
           0,
           "#0d0887"
          ],
          [
           0.1111111111111111,
           "#46039f"
          ],
          [
           0.2222222222222222,
           "#7201a8"
          ],
          [
           0.3333333333333333,
           "#9c179e"
          ],
          [
           0.4444444444444444,
           "#bd3786"
          ],
          [
           0.5555555555555556,
           "#d8576b"
          ],
          [
           0.6666666666666666,
           "#ed7953"
          ],
          [
           0.7777777777777778,
           "#fb9f3a"
          ],
          [
           0.8888888888888888,
           "#fdca26"
          ],
          [
           1,
           "#f0f921"
          ]
         ]
        },
        "height": 500,
        "legend": {
         "orientation": "h",
         "title": {},
         "tracegroupgap": 0,
         "x": 1,
         "xanchor": "right",
         "y": -0.6,
         "yanchor": "bottom"
        },
        "template": {
         "data": {
          "bar": [
           {
            "error_x": {
             "color": "#2a3f5f"
            },
            "error_y": {
             "color": "#2a3f5f"
            },
            "marker": {
             "line": {
              "color": "white",
              "width": 0.5
             },
             "pattern": {
              "fillmode": "overlay",
              "size": 10,
              "solidity": 0.2
             }
            },
            "type": "bar"
           }
          ],
          "barpolar": [
           {
            "marker": {
             "line": {
              "color": "white",
              "width": 0.5
             },
             "pattern": {
              "fillmode": "overlay",
              "size": 10,
              "solidity": 0.2
             }
            },
            "type": "barpolar"
           }
          ],
          "carpet": [
           {
            "aaxis": {
             "endlinecolor": "#2a3f5f",
             "gridcolor": "#C8D4E3",
             "linecolor": "#C8D4E3",
             "minorgridcolor": "#C8D4E3",
             "startlinecolor": "#2a3f5f"
            },
            "baxis": {
             "endlinecolor": "#2a3f5f",
             "gridcolor": "#C8D4E3",
             "linecolor": "#C8D4E3",
             "minorgridcolor": "#C8D4E3",
             "startlinecolor": "#2a3f5f"
            },
            "type": "carpet"
           }
          ],
          "choropleth": [
           {
            "colorbar": {
             "outlinewidth": 0,
             "ticks": ""
            },
            "type": "choropleth"
           }
          ],
          "contour": [
           {
            "colorbar": {
             "outlinewidth": 0,
             "ticks": ""
            },
            "colorscale": [
             [
              0,
              "#0d0887"
             ],
             [
              0.1111111111111111,
              "#46039f"
             ],
             [
              0.2222222222222222,
              "#7201a8"
             ],
             [
              0.3333333333333333,
              "#9c179e"
             ],
             [
              0.4444444444444444,
              "#bd3786"
             ],
             [
              0.5555555555555556,
              "#d8576b"
             ],
             [
              0.6666666666666666,
              "#ed7953"
             ],
             [
              0.7777777777777778,
              "#fb9f3a"
             ],
             [
              0.8888888888888888,
              "#fdca26"
             ],
             [
              1,
              "#f0f921"
             ]
            ],
            "type": "contour"
           }
          ],
          "contourcarpet": [
           {
            "colorbar": {
             "outlinewidth": 0,
             "ticks": ""
            },
            "type": "contourcarpet"
           }
          ],
          "heatmap": [
           {
            "colorbar": {
             "outlinewidth": 0,
             "ticks": ""
            },
            "colorscale": [
             [
              0,
              "#0d0887"
             ],
             [
              0.1111111111111111,
              "#46039f"
             ],
             [
              0.2222222222222222,
              "#7201a8"
             ],
             [
              0.3333333333333333,
              "#9c179e"
             ],
             [
              0.4444444444444444,
              "#bd3786"
             ],
             [
              0.5555555555555556,
              "#d8576b"
             ],
             [
              0.6666666666666666,
              "#ed7953"
             ],
             [
              0.7777777777777778,
              "#fb9f3a"
             ],
             [
              0.8888888888888888,
              "#fdca26"
             ],
             [
              1,
              "#f0f921"
             ]
            ],
            "type": "heatmap"
           }
          ],
          "heatmapgl": [
           {
            "colorbar": {
             "outlinewidth": 0,
             "ticks": ""
            },
            "colorscale": [
             [
              0,
              "#0d0887"
             ],
             [
              0.1111111111111111,
              "#46039f"
             ],
             [
              0.2222222222222222,
              "#7201a8"
             ],
             [
              0.3333333333333333,
              "#9c179e"
             ],
             [
              0.4444444444444444,
              "#bd3786"
             ],
             [
              0.5555555555555556,
              "#d8576b"
             ],
             [
              0.6666666666666666,
              "#ed7953"
             ],
             [
              0.7777777777777778,
              "#fb9f3a"
             ],
             [
              0.8888888888888888,
              "#fdca26"
             ],
             [
              1,
              "#f0f921"
             ]
            ],
            "type": "heatmapgl"
           }
          ],
          "histogram": [
           {
            "marker": {
             "pattern": {
              "fillmode": "overlay",
              "size": 10,
              "solidity": 0.2
             }
            },
            "type": "histogram"
           }
          ],
          "histogram2d": [
           {
            "colorbar": {
             "outlinewidth": 0,
             "ticks": ""
            },
            "colorscale": [
             [
              0,
              "#0d0887"
             ],
             [
              0.1111111111111111,
              "#46039f"
             ],
             [
              0.2222222222222222,
              "#7201a8"
             ],
             [
              0.3333333333333333,
              "#9c179e"
             ],
             [
              0.4444444444444444,
              "#bd3786"
             ],
             [
              0.5555555555555556,
              "#d8576b"
             ],
             [
              0.6666666666666666,
              "#ed7953"
             ],
             [
              0.7777777777777778,
              "#fb9f3a"
             ],
             [
              0.8888888888888888,
              "#fdca26"
             ],
             [
              1,
              "#f0f921"
             ]
            ],
            "type": "histogram2d"
           }
          ],
          "histogram2dcontour": [
           {
            "colorbar": {
             "outlinewidth": 0,
             "ticks": ""
            },
            "colorscale": [
             [
              0,
              "#0d0887"
             ],
             [
              0.1111111111111111,
              "#46039f"
             ],
             [
              0.2222222222222222,
              "#7201a8"
             ],
             [
              0.3333333333333333,
              "#9c179e"
             ],
             [
              0.4444444444444444,
              "#bd3786"
             ],
             [
              0.5555555555555556,
              "#d8576b"
             ],
             [
              0.6666666666666666,
              "#ed7953"
             ],
             [
              0.7777777777777778,
              "#fb9f3a"
             ],
             [
              0.8888888888888888,
              "#fdca26"
             ],
             [
              1,
              "#f0f921"
             ]
            ],
            "type": "histogram2dcontour"
           }
          ],
          "mesh3d": [
           {
            "colorbar": {
             "outlinewidth": 0,
             "ticks": ""
            },
            "type": "mesh3d"
           }
          ],
          "parcoords": [
           {
            "line": {
             "colorbar": {
              "outlinewidth": 0,
              "ticks": ""
             }
            },
            "type": "parcoords"
           }
          ],
          "pie": [
           {
            "automargin": true,
            "type": "pie"
           }
          ],
          "scatter": [
           {
            "fillpattern": {
             "fillmode": "overlay",
             "size": 10,
             "solidity": 0.2
            },
            "type": "scatter"
           }
          ],
          "scatter3d": [
           {
            "line": {
             "colorbar": {
              "outlinewidth": 0,
              "ticks": ""
             }
            },
            "marker": {
             "colorbar": {
              "outlinewidth": 0,
              "ticks": ""
             }
            },
            "type": "scatter3d"
           }
          ],
          "scattercarpet": [
           {
            "marker": {
             "colorbar": {
              "outlinewidth": 0,
              "ticks": ""
             }
            },
            "type": "scattercarpet"
           }
          ],
          "scattergeo": [
           {
            "marker": {
             "colorbar": {
              "outlinewidth": 0,
              "ticks": ""
             }
            },
            "type": "scattergeo"
           }
          ],
          "scattergl": [
           {
            "marker": {
             "colorbar": {
              "outlinewidth": 0,
              "ticks": ""
             }
            },
            "type": "scattergl"
           }
          ],
          "scattermapbox": [
           {
            "marker": {
             "colorbar": {
              "outlinewidth": 0,
              "ticks": ""
             }
            },
            "type": "scattermapbox"
           }
          ],
          "scatterpolar": [
           {
            "marker": {
             "colorbar": {
              "outlinewidth": 0,
              "ticks": ""
             }
            },
            "type": "scatterpolar"
           }
          ],
          "scatterpolargl": [
           {
            "marker": {
             "colorbar": {
              "outlinewidth": 0,
              "ticks": ""
             }
            },
            "type": "scatterpolargl"
           }
          ],
          "scatterternary": [
           {
            "marker": {
             "colorbar": {
              "outlinewidth": 0,
              "ticks": ""
             }
            },
            "type": "scatterternary"
           }
          ],
          "surface": [
           {
            "colorbar": {
             "outlinewidth": 0,
             "ticks": ""
            },
            "colorscale": [
             [
              0,
              "#0d0887"
             ],
             [
              0.1111111111111111,
              "#46039f"
             ],
             [
              0.2222222222222222,
              "#7201a8"
             ],
             [
              0.3333333333333333,
              "#9c179e"
             ],
             [
              0.4444444444444444,
              "#bd3786"
             ],
             [
              0.5555555555555556,
              "#d8576b"
             ],
             [
              0.6666666666666666,
              "#ed7953"
             ],
             [
              0.7777777777777778,
              "#fb9f3a"
             ],
             [
              0.8888888888888888,
              "#fdca26"
             ],
             [
              1,
              "#f0f921"
             ]
            ],
            "type": "surface"
           }
          ],
          "table": [
           {
            "cells": {
             "fill": {
              "color": "#EBF0F8"
             },
             "line": {
              "color": "white"
             }
            },
            "header": {
             "fill": {
              "color": "#C8D4E3"
             },
             "line": {
              "color": "white"
             }
            },
            "type": "table"
           }
          ]
         },
         "layout": {
          "annotationdefaults": {
           "arrowcolor": "#2a3f5f",
           "arrowhead": 0,
           "arrowwidth": 1
          },
          "autotypenumbers": "strict",
          "coloraxis": {
           "colorbar": {
            "outlinewidth": 0,
            "ticks": ""
           }
          },
          "colorscale": {
           "diverging": [
            [
             0,
             "#8e0152"
            ],
            [
             0.1,
             "#c51b7d"
            ],
            [
             0.2,
             "#de77ae"
            ],
            [
             0.3,
             "#f1b6da"
            ],
            [
             0.4,
             "#fde0ef"
            ],
            [
             0.5,
             "#f7f7f7"
            ],
            [
             0.6,
             "#e6f5d0"
            ],
            [
             0.7,
             "#b8e186"
            ],
            [
             0.8,
             "#7fbc41"
            ],
            [
             0.9,
             "#4d9221"
            ],
            [
             1,
             "#276419"
            ]
           ],
           "sequential": [
            [
             0,
             "#0d0887"
            ],
            [
             0.1111111111111111,
             "#46039f"
            ],
            [
             0.2222222222222222,
             "#7201a8"
            ],
            [
             0.3333333333333333,
             "#9c179e"
            ],
            [
             0.4444444444444444,
             "#bd3786"
            ],
            [
             0.5555555555555556,
             "#d8576b"
            ],
            [
             0.6666666666666666,
             "#ed7953"
            ],
            [
             0.7777777777777778,
             "#fb9f3a"
            ],
            [
             0.8888888888888888,
             "#fdca26"
            ],
            [
             1,
             "#f0f921"
            ]
           ],
           "sequentialminus": [
            [
             0,
             "#0d0887"
            ],
            [
             0.1111111111111111,
             "#46039f"
            ],
            [
             0.2222222222222222,
             "#7201a8"
            ],
            [
             0.3333333333333333,
             "#9c179e"
            ],
            [
             0.4444444444444444,
             "#bd3786"
            ],
            [
             0.5555555555555556,
             "#d8576b"
            ],
            [
             0.6666666666666666,
             "#ed7953"
            ],
            [
             0.7777777777777778,
             "#fb9f3a"
            ],
            [
             0.8888888888888888,
             "#fdca26"
            ],
            [
             1,
             "#f0f921"
            ]
           ]
          },
          "colorway": [
           "#636efa",
           "#EF553B",
           "#00cc96",
           "#ab63fa",
           "#FFA15A",
           "#19d3f3",
           "#FF6692",
           "#B6E880",
           "#FF97FF",
           "#FECB52"
          ],
          "font": {
           "color": "#2a3f5f"
          },
          "geo": {
           "bgcolor": "white",
           "lakecolor": "white",
           "landcolor": "white",
           "showlakes": true,
           "showland": true,
           "subunitcolor": "#C8D4E3"
          },
          "hoverlabel": {
           "align": "left"
          },
          "hovermode": "closest",
          "mapbox": {
           "style": "light"
          },
          "paper_bgcolor": "white",
          "plot_bgcolor": "white",
          "polar": {
           "angularaxis": {
            "gridcolor": "#EBF0F8",
            "linecolor": "#EBF0F8",
            "ticks": ""
           },
           "bgcolor": "white",
           "radialaxis": {
            "gridcolor": "#EBF0F8",
            "linecolor": "#EBF0F8",
            "ticks": ""
           }
          },
          "scene": {
           "xaxis": {
            "backgroundcolor": "white",
            "gridcolor": "#DFE8F3",
            "gridwidth": 2,
            "linecolor": "#EBF0F8",
            "showbackground": true,
            "ticks": "",
            "zerolinecolor": "#EBF0F8"
           },
           "yaxis": {
            "backgroundcolor": "white",
            "gridcolor": "#DFE8F3",
            "gridwidth": 2,
            "linecolor": "#EBF0F8",
            "showbackground": true,
            "ticks": "",
            "zerolinecolor": "#EBF0F8"
           },
           "zaxis": {
            "backgroundcolor": "white",
            "gridcolor": "#DFE8F3",
            "gridwidth": 2,
            "linecolor": "#EBF0F8",
            "showbackground": true,
            "ticks": "",
            "zerolinecolor": "#EBF0F8"
           }
          },
          "shapedefaults": {
           "line": {
            "color": "#2a3f5f"
           }
          },
          "ternary": {
           "aaxis": {
            "gridcolor": "#DFE8F3",
            "linecolor": "#A2B1C6",
            "ticks": ""
           },
           "baxis": {
            "gridcolor": "#DFE8F3",
            "linecolor": "#A2B1C6",
            "ticks": ""
           },
           "bgcolor": "white",
           "caxis": {
            "gridcolor": "#DFE8F3",
            "linecolor": "#A2B1C6",
            "ticks": ""
           }
          },
          "title": {
           "x": 0.05
          },
          "xaxis": {
           "automargin": true,
           "gridcolor": "#EBF0F8",
           "linecolor": "#EBF0F8",
           "ticks": "",
           "title": {
            "standoff": 15
           },
           "zerolinecolor": "#EBF0F8",
           "zerolinewidth": 2
          },
          "yaxis": {
           "automargin": true,
           "gridcolor": "#EBF0F8",
           "linecolor": "#EBF0F8",
           "ticks": "",
           "title": {
            "standoff": 15
           },
           "zerolinecolor": "#EBF0F8",
           "zerolinewidth": 2
          }
         }
        },
        "title": {
         "text": "My 1450 hours on Strava!",
         "x": 0.5,
         "xanchor": "center",
         "y": 0.9,
         "yanchor": "top"
        },
        "width": 700,
        "xaxis": {
         "anchor": "y",
         "domain": [
          0,
          1
         ],
         "nticks": 20,
         "title": {
          "text": "Week"
         }
        },
        "yaxis": {
         "anchor": "x",
         "domain": [
          0,
          1
         ],
         "nticks": 15,
         "title": {
          "text": "Total hrs spent"
         }
        }
       }
      },
      "text/html": [
       "<div>                            <div id=\"1807fc5b-0f12-4a5b-aea4-e3fef59930d5\" class=\"plotly-graph-div\" style=\"height:500px; width:700px;\"></div>            <script type=\"text/javascript\">                require([\"plotly\"], function(Plotly) {                    window.PLOTLYENV=window.PLOTLYENV || {};                                    if (document.getElementById(\"1807fc5b-0f12-4a5b-aea4-e3fef59930d5\")) {                    Plotly.newPlot(                        \"1807fc5b-0f12-4a5b-aea4-e3fef59930d5\",                        [{\"alignmentgroup\":\"True\",\"customdata\":[[1.0,12.50441015625],[3.0,11.782056640625001],[3.0,11.677029947916665],[4.0,8.218300048828125],[2.0,14.326205078125],[3.0,10.733610026041667],[4.0,8.638520141601562],[2.0,14.296314941406251],[2.0,10.00772021484375],[4.0,8.628917358398438],[4.0,9.89935498046875],[4.0,8.7781474609375],[2.0,9.440999999999999],[4.0,10.327394775390625],[2.0,11.95011962890625],[4.0,9.561814819335938],[3.0,10.559559895833333],[3.0,7.047983398437499],[3.0,7.9613331705729165],[4.0,10.431022827148437],[2.0,11.517069824218751],[3.0,11.249786783854168],[4.0,10.087767333984374],[3.0,13.544909830729168],[2.0,14.435824951171876],[2.0,8.010494873046875],[4.0,7.414434936523437],[3.0,9.9224931640625],[3.0,11.351673502604166],[3.0,10.439383463541667],[4.0,7.400542602539062],[3.0,11.441099934895833],[3.0,6.904246744791667],[3.0,10.313126953125],[3.0,9.771396809895833],[3.0,15.74730712890625],[3.0,9.985400065104168],[3.0,7.936096516927083],[3.0,9.99476025390625],[3.0,10.19233349609375],[6.0,8.323304931640626],[3.0,8.390506835937499],[4.0,8.24556982421875],[3.0,7.152039876302084],[2.0,5.0719450683593745],[2.0,12.529439941406249],[1.0,26.377279296875],[2.0,7.5554697265624995],[3.0,6.817149739583333]],\"hovertemplate\":\"Week=%{x}\\u003cbr\\u003eTotal hrs spent=%{y:.1f}\\u003cbr\\u003eNumber of activities=%{customdata[0]:f}\\u003cbr\\u003eAverage hrs spent per activity=%{marker.color:.1f}\\u003cextra\\u003e\\u003c\\u002fextra\\u003e\",\"legendgroup\":\"\",\"marker\":{\"color\":[12.50441015625,11.782056640625001,11.677029947916665,8.218300048828125,14.326205078125,10.733610026041667,8.638520141601562,14.296314941406251,10.00772021484375,8.628917358398438,9.89935498046875,8.7781474609375,9.440999999999999,10.327394775390625,11.95011962890625,9.561814819335938,10.559559895833333,7.047983398437499,7.9613331705729165,10.431022827148437,11.517069824218751,11.249786783854168,10.087767333984374,13.544909830729168,14.435824951171876,8.010494873046875,7.414434936523437,9.9224931640625,11.351673502604166,10.439383463541667,7.400542602539062,11.441099934895833,6.904246744791667,10.313126953125,9.771396809895833,15.74730712890625,9.985400065104168,7.936096516927083,9.99476025390625,10.19233349609375,8.323304931640626,8.390506835937499,8.24556982421875,7.152039876302084,5.0719450683593745,12.529439941406249,26.377279296875,7.5554697265624995,6.817149739583333],\"coloraxis\":\"coloraxis\",\"pattern\":{\"shape\":\"\"}},\"name\":\"\",\"offsetgroup\":\"\",\"orientation\":\"v\",\"showlegend\":false,\"textposition\":\"auto\",\"x\":[\"2022-08-29\\u002f2022-09-04\",\"2022-09-05\\u002f2022-09-11\",\"2022-09-12\\u002f2022-09-18\",\"2022-09-19\\u002f2022-09-25\",\"2022-09-26\\u002f2022-10-02\",\"2022-10-03\\u002f2022-10-09\",\"2022-10-10\\u002f2022-10-16\",\"2022-10-17\\u002f2022-10-23\",\"2022-10-24\\u002f2022-10-30\",\"2022-10-31\\u002f2022-11-06\",\"2022-11-07\\u002f2022-11-13\",\"2022-11-14\\u002f2022-11-20\",\"2022-11-21\\u002f2022-11-27\",\"2022-11-28\\u002f2022-12-04\",\"2022-12-05\\u002f2022-12-11\",\"2022-12-12\\u002f2022-12-18\",\"2022-12-19\\u002f2022-12-25\",\"2022-12-26\\u002f2023-01-01\",\"2023-01-02\\u002f2023-01-08\",\"2023-01-09\\u002f2023-01-15\",\"2023-01-16\\u002f2023-01-22\",\"2023-01-23\\u002f2023-01-29\",\"2023-01-30\\u002f2023-02-05\",\"2023-02-06\\u002f2023-02-12\",\"2023-02-13\\u002f2023-02-19\",\"2023-02-20\\u002f2023-02-26\",\"2023-02-27\\u002f2023-03-05\",\"2023-03-06\\u002f2023-03-12\",\"2023-03-13\\u002f2023-03-19\",\"2023-03-20\\u002f2023-03-26\",\"2023-03-27\\u002f2023-04-02\",\"2023-04-03\\u002f2023-04-09\",\"2023-04-10\\u002f2023-04-16\",\"2023-04-17\\u002f2023-04-23\",\"2023-04-24\\u002f2023-04-30\",\"2023-05-01\\u002f2023-05-07\",\"2023-05-08\\u002f2023-05-14\",\"2023-05-15\\u002f2023-05-21\",\"2023-05-22\\u002f2023-05-28\",\"2023-05-29\\u002f2023-06-04\",\"2023-06-05\\u002f2023-06-11\",\"2023-06-12\\u002f2023-06-18\",\"2023-06-19\\u002f2023-06-25\",\"2023-06-26\\u002f2023-07-02\",\"2023-07-03\\u002f2023-07-09\",\"2023-07-10\\u002f2023-07-16\",\"2023-07-17\\u002f2023-07-23\",\"2023-07-24\\u002f2023-07-30\",\"2023-07-31\\u002f2023-08-06\"],\"xaxis\":\"x\",\"y\":[12.50441015625,35.346169921875,35.031089843749996,32.8732001953125,28.65241015625,32.200830078125,34.55408056640625,28.592629882812503,20.0154404296875,34.51566943359375,39.597419921875,35.11258984375,18.881999999999998,41.3095791015625,23.9002392578125,38.24725927734375,31.6786796875,21.1439501953125,23.88399951171875,41.72409130859375,23.034139648437503,33.7493603515625,40.351069335937495,40.6347294921875,28.87164990234375,16.02098974609375,29.65773974609375,29.767479492187498,34.0550205078125,31.318150390625,29.602170410156248,34.3232998046875,20.712740234375,30.939380859375,29.3141904296875,47.24192138671875,29.9562001953125,23.80828955078125,29.98428076171875,30.57700048828125,49.939829589843754,25.1715205078125,32.982279296875,21.45611962890625,10.143890136718749,25.058879882812498,26.377279296875,15.110939453124999,20.45144921875],\"yaxis\":\"y\",\"type\":\"bar\"}],                        {\"template\":{\"data\":{\"barpolar\":[{\"marker\":{\"line\":{\"color\":\"white\",\"width\":0.5},\"pattern\":{\"fillmode\":\"overlay\",\"size\":10,\"solidity\":0.2}},\"type\":\"barpolar\"}],\"bar\":[{\"error_x\":{\"color\":\"#2a3f5f\"},\"error_y\":{\"color\":\"#2a3f5f\"},\"marker\":{\"line\":{\"color\":\"white\",\"width\":0.5},\"pattern\":{\"fillmode\":\"overlay\",\"size\":10,\"solidity\":0.2}},\"type\":\"bar\"}],\"carpet\":[{\"aaxis\":{\"endlinecolor\":\"#2a3f5f\",\"gridcolor\":\"#C8D4E3\",\"linecolor\":\"#C8D4E3\",\"minorgridcolor\":\"#C8D4E3\",\"startlinecolor\":\"#2a3f5f\"},\"baxis\":{\"endlinecolor\":\"#2a3f5f\",\"gridcolor\":\"#C8D4E3\",\"linecolor\":\"#C8D4E3\",\"minorgridcolor\":\"#C8D4E3\",\"startlinecolor\":\"#2a3f5f\"},\"type\":\"carpet\"}],\"choropleth\":[{\"colorbar\":{\"outlinewidth\":0,\"ticks\":\"\"},\"type\":\"choropleth\"}],\"contourcarpet\":[{\"colorbar\":{\"outlinewidth\":0,\"ticks\":\"\"},\"type\":\"contourcarpet\"}],\"contour\":[{\"colorbar\":{\"outlinewidth\":0,\"ticks\":\"\"},\"colorscale\":[[0.0,\"#0d0887\"],[0.1111111111111111,\"#46039f\"],[0.2222222222222222,\"#7201a8\"],[0.3333333333333333,\"#9c179e\"],[0.4444444444444444,\"#bd3786\"],[0.5555555555555556,\"#d8576b\"],[0.6666666666666666,\"#ed7953\"],[0.7777777777777778,\"#fb9f3a\"],[0.8888888888888888,\"#fdca26\"],[1.0,\"#f0f921\"]],\"type\":\"contour\"}],\"heatmapgl\":[{\"colorbar\":{\"outlinewidth\":0,\"ticks\":\"\"},\"colorscale\":[[0.0,\"#0d0887\"],[0.1111111111111111,\"#46039f\"],[0.2222222222222222,\"#7201a8\"],[0.3333333333333333,\"#9c179e\"],[0.4444444444444444,\"#bd3786\"],[0.5555555555555556,\"#d8576b\"],[0.6666666666666666,\"#ed7953\"],[0.7777777777777778,\"#fb9f3a\"],[0.8888888888888888,\"#fdca26\"],[1.0,\"#f0f921\"]],\"type\":\"heatmapgl\"}],\"heatmap\":[{\"colorbar\":{\"outlinewidth\":0,\"ticks\":\"\"},\"colorscale\":[[0.0,\"#0d0887\"],[0.1111111111111111,\"#46039f\"],[0.2222222222222222,\"#7201a8\"],[0.3333333333333333,\"#9c179e\"],[0.4444444444444444,\"#bd3786\"],[0.5555555555555556,\"#d8576b\"],[0.6666666666666666,\"#ed7953\"],[0.7777777777777778,\"#fb9f3a\"],[0.8888888888888888,\"#fdca26\"],[1.0,\"#f0f921\"]],\"type\":\"heatmap\"}],\"histogram2dcontour\":[{\"colorbar\":{\"outlinewidth\":0,\"ticks\":\"\"},\"colorscale\":[[0.0,\"#0d0887\"],[0.1111111111111111,\"#46039f\"],[0.2222222222222222,\"#7201a8\"],[0.3333333333333333,\"#9c179e\"],[0.4444444444444444,\"#bd3786\"],[0.5555555555555556,\"#d8576b\"],[0.6666666666666666,\"#ed7953\"],[0.7777777777777778,\"#fb9f3a\"],[0.8888888888888888,\"#fdca26\"],[1.0,\"#f0f921\"]],\"type\":\"histogram2dcontour\"}],\"histogram2d\":[{\"colorbar\":{\"outlinewidth\":0,\"ticks\":\"\"},\"colorscale\":[[0.0,\"#0d0887\"],[0.1111111111111111,\"#46039f\"],[0.2222222222222222,\"#7201a8\"],[0.3333333333333333,\"#9c179e\"],[0.4444444444444444,\"#bd3786\"],[0.5555555555555556,\"#d8576b\"],[0.6666666666666666,\"#ed7953\"],[0.7777777777777778,\"#fb9f3a\"],[0.8888888888888888,\"#fdca26\"],[1.0,\"#f0f921\"]],\"type\":\"histogram2d\"}],\"histogram\":[{\"marker\":{\"pattern\":{\"fillmode\":\"overlay\",\"size\":10,\"solidity\":0.2}},\"type\":\"histogram\"}],\"mesh3d\":[{\"colorbar\":{\"outlinewidth\":0,\"ticks\":\"\"},\"type\":\"mesh3d\"}],\"parcoords\":[{\"line\":{\"colorbar\":{\"outlinewidth\":0,\"ticks\":\"\"}},\"type\":\"parcoords\"}],\"pie\":[{\"automargin\":true,\"type\":\"pie\"}],\"scatter3d\":[{\"line\":{\"colorbar\":{\"outlinewidth\":0,\"ticks\":\"\"}},\"marker\":{\"colorbar\":{\"outlinewidth\":0,\"ticks\":\"\"}},\"type\":\"scatter3d\"}],\"scattercarpet\":[{\"marker\":{\"colorbar\":{\"outlinewidth\":0,\"ticks\":\"\"}},\"type\":\"scattercarpet\"}],\"scattergeo\":[{\"marker\":{\"colorbar\":{\"outlinewidth\":0,\"ticks\":\"\"}},\"type\":\"scattergeo\"}],\"scattergl\":[{\"marker\":{\"colorbar\":{\"outlinewidth\":0,\"ticks\":\"\"}},\"type\":\"scattergl\"}],\"scattermapbox\":[{\"marker\":{\"colorbar\":{\"outlinewidth\":0,\"ticks\":\"\"}},\"type\":\"scattermapbox\"}],\"scatterpolargl\":[{\"marker\":{\"colorbar\":{\"outlinewidth\":0,\"ticks\":\"\"}},\"type\":\"scatterpolargl\"}],\"scatterpolar\":[{\"marker\":{\"colorbar\":{\"outlinewidth\":0,\"ticks\":\"\"}},\"type\":\"scatterpolar\"}],\"scatter\":[{\"fillpattern\":{\"fillmode\":\"overlay\",\"size\":10,\"solidity\":0.2},\"type\":\"scatter\"}],\"scatterternary\":[{\"marker\":{\"colorbar\":{\"outlinewidth\":0,\"ticks\":\"\"}},\"type\":\"scatterternary\"}],\"surface\":[{\"colorbar\":{\"outlinewidth\":0,\"ticks\":\"\"},\"colorscale\":[[0.0,\"#0d0887\"],[0.1111111111111111,\"#46039f\"],[0.2222222222222222,\"#7201a8\"],[0.3333333333333333,\"#9c179e\"],[0.4444444444444444,\"#bd3786\"],[0.5555555555555556,\"#d8576b\"],[0.6666666666666666,\"#ed7953\"],[0.7777777777777778,\"#fb9f3a\"],[0.8888888888888888,\"#fdca26\"],[1.0,\"#f0f921\"]],\"type\":\"surface\"}],\"table\":[{\"cells\":{\"fill\":{\"color\":\"#EBF0F8\"},\"line\":{\"color\":\"white\"}},\"header\":{\"fill\":{\"color\":\"#C8D4E3\"},\"line\":{\"color\":\"white\"}},\"type\":\"table\"}]},\"layout\":{\"annotationdefaults\":{\"arrowcolor\":\"#2a3f5f\",\"arrowhead\":0,\"arrowwidth\":1},\"autotypenumbers\":\"strict\",\"coloraxis\":{\"colorbar\":{\"outlinewidth\":0,\"ticks\":\"\"}},\"colorscale\":{\"diverging\":[[0,\"#8e0152\"],[0.1,\"#c51b7d\"],[0.2,\"#de77ae\"],[0.3,\"#f1b6da\"],[0.4,\"#fde0ef\"],[0.5,\"#f7f7f7\"],[0.6,\"#e6f5d0\"],[0.7,\"#b8e186\"],[0.8,\"#7fbc41\"],[0.9,\"#4d9221\"],[1,\"#276419\"]],\"sequential\":[[0.0,\"#0d0887\"],[0.1111111111111111,\"#46039f\"],[0.2222222222222222,\"#7201a8\"],[0.3333333333333333,\"#9c179e\"],[0.4444444444444444,\"#bd3786\"],[0.5555555555555556,\"#d8576b\"],[0.6666666666666666,\"#ed7953\"],[0.7777777777777778,\"#fb9f3a\"],[0.8888888888888888,\"#fdca26\"],[1.0,\"#f0f921\"]],\"sequentialminus\":[[0.0,\"#0d0887\"],[0.1111111111111111,\"#46039f\"],[0.2222222222222222,\"#7201a8\"],[0.3333333333333333,\"#9c179e\"],[0.4444444444444444,\"#bd3786\"],[0.5555555555555556,\"#d8576b\"],[0.6666666666666666,\"#ed7953\"],[0.7777777777777778,\"#fb9f3a\"],[0.8888888888888888,\"#fdca26\"],[1.0,\"#f0f921\"]]},\"colorway\":[\"#636efa\",\"#EF553B\",\"#00cc96\",\"#ab63fa\",\"#FFA15A\",\"#19d3f3\",\"#FF6692\",\"#B6E880\",\"#FF97FF\",\"#FECB52\"],\"font\":{\"color\":\"#2a3f5f\"},\"geo\":{\"bgcolor\":\"white\",\"lakecolor\":\"white\",\"landcolor\":\"white\",\"showlakes\":true,\"showland\":true,\"subunitcolor\":\"#C8D4E3\"},\"hoverlabel\":{\"align\":\"left\"},\"hovermode\":\"closest\",\"mapbox\":{\"style\":\"light\"},\"paper_bgcolor\":\"white\",\"plot_bgcolor\":\"white\",\"polar\":{\"angularaxis\":{\"gridcolor\":\"#EBF0F8\",\"linecolor\":\"#EBF0F8\",\"ticks\":\"\"},\"bgcolor\":\"white\",\"radialaxis\":{\"gridcolor\":\"#EBF0F8\",\"linecolor\":\"#EBF0F8\",\"ticks\":\"\"}},\"scene\":{\"xaxis\":{\"backgroundcolor\":\"white\",\"gridcolor\":\"#DFE8F3\",\"gridwidth\":2,\"linecolor\":\"#EBF0F8\",\"showbackground\":true,\"ticks\":\"\",\"zerolinecolor\":\"#EBF0F8\"},\"yaxis\":{\"backgroundcolor\":\"white\",\"gridcolor\":\"#DFE8F3\",\"gridwidth\":2,\"linecolor\":\"#EBF0F8\",\"showbackground\":true,\"ticks\":\"\",\"zerolinecolor\":\"#EBF0F8\"},\"zaxis\":{\"backgroundcolor\":\"white\",\"gridcolor\":\"#DFE8F3\",\"gridwidth\":2,\"linecolor\":\"#EBF0F8\",\"showbackground\":true,\"ticks\":\"\",\"zerolinecolor\":\"#EBF0F8\"}},\"shapedefaults\":{\"line\":{\"color\":\"#2a3f5f\"}},\"ternary\":{\"aaxis\":{\"gridcolor\":\"#DFE8F3\",\"linecolor\":\"#A2B1C6\",\"ticks\":\"\"},\"baxis\":{\"gridcolor\":\"#DFE8F3\",\"linecolor\":\"#A2B1C6\",\"ticks\":\"\"},\"bgcolor\":\"white\",\"caxis\":{\"gridcolor\":\"#DFE8F3\",\"linecolor\":\"#A2B1C6\",\"ticks\":\"\"}},\"title\":{\"x\":0.05},\"xaxis\":{\"automargin\":true,\"gridcolor\":\"#EBF0F8\",\"linecolor\":\"#EBF0F8\",\"ticks\":\"\",\"title\":{\"standoff\":15},\"zerolinecolor\":\"#EBF0F8\",\"zerolinewidth\":2},\"yaxis\":{\"automargin\":true,\"gridcolor\":\"#EBF0F8\",\"linecolor\":\"#EBF0F8\",\"ticks\":\"\",\"title\":{\"standoff\":15},\"zerolinecolor\":\"#EBF0F8\",\"zerolinewidth\":2}}},\"xaxis\":{\"anchor\":\"y\",\"domain\":[0.0,1.0],\"title\":{\"text\":\"Week\"},\"nticks\":20},\"yaxis\":{\"anchor\":\"x\",\"domain\":[0.0,1.0],\"title\":{\"text\":\"Total hrs spent\"},\"nticks\":15},\"coloraxis\":{\"colorbar\":{\"title\":{\"text\":\"Average hrs spent per activity\"}},\"colorscale\":[[0.0,\"#0d0887\"],[0.1111111111111111,\"#46039f\"],[0.2222222222222222,\"#7201a8\"],[0.3333333333333333,\"#9c179e\"],[0.4444444444444444,\"#bd3786\"],[0.5555555555555556,\"#d8576b\"],[0.6666666666666666,\"#ed7953\"],[0.7777777777777778,\"#fb9f3a\"],[0.8888888888888888,\"#fdca26\"],[1.0,\"#f0f921\"]]},\"legend\":{\"tracegroupgap\":0,\"orientation\":\"h\",\"yanchor\":\"bottom\",\"y\":-0.6,\"xanchor\":\"right\",\"x\":1,\"title\":{}},\"title\":{\"text\":\"My 1450 hours on Strava!\",\"y\":0.9,\"x\":0.5,\"xanchor\":\"center\",\"yanchor\":\"top\"},\"barmode\":\"relative\",\"autosize\":false,\"width\":700,\"height\":500},                        {\"responsive\": true}                    ).then(function(){\n",
       "                            \n",
       "var gd = document.getElementById('1807fc5b-0f12-4a5b-aea4-e3fef59930d5');\n",
       "var x = new MutationObserver(function (mutations, observer) {{\n",
       "        var display = window.getComputedStyle(gd).display;\n",
       "        if (!display || display === 'none') {{\n",
       "            console.log([gd, 'removed!']);\n",
       "            Plotly.purge(gd);\n",
       "            observer.disconnect();\n",
       "        }}\n",
       "}});\n",
       "\n",
       "// Listen for the removal of the full notebook cells\n",
       "var notebookContainer = gd.closest('#notebook-container');\n",
       "if (notebookContainer) {{\n",
       "    x.observe(notebookContainer, {childList: true});\n",
       "}}\n",
       "\n",
       "// Listen for the clearing of the current output cell\n",
       "var outputEl = gd.closest('.output');\n",
       "if (outputEl) {{\n",
       "    x.observe(outputEl, {childList: true});\n",
       "}}\n",
       "\n",
       "                        })                };                });            </script>        </div>"
      ]
     },
     "metadata": {},
     "output_type": "display_data"
    }
   ],
   "source": [
    "# Define a time unit: \"Year\", \"Quarter\", \"Month\", \"Week\", or \"Day\"\n",
    "time_unit_bar = \"Week\"\n",
    "df_carrera=df[(df['Activity Type']=='Carrera') & (df['Activity Date']>\"2022-09-01 00:00:00\")]\n",
    "# Group by time_unit_bar and activity type\n",
    "df_hr = df_carrera.groupby(by=[time_unit_bar, \"Activity Type\"], as_index=False).agg(\n",
    "    count=(\"Moving Time (hr)\", \"count\"),\n",
    "    total_hr_spent=(\"Distance (km)\", \"sum\"),\n",
    "    avg_hr_spent=(\"Distance (km)\", \"mean\"),\n",
    ")\n",
    "\n",
    "# For the plot tile\n",
    "total_hr = round(df_hr[\"total_hr_spent\"].sum())\n",
    "\n",
    "# Plot a stacked bar plot\n",
    "fig_hr = px.bar(\n",
    "    df_hr,\n",
    "    x=time_unit_bar,\n",
    "    y=\"total_hr_spent\",\n",
    "    color=\"avg_hr_spent\",\n",
    "    title=f\"My {total_hr} hours on Strava!\",  # Set title text\n",
    "    hover_data={  # Define variables for hover text\n",
    "        \"count\": \":f\",\n",
    "        \"total_hr_spent\": \":.1f\",\n",
    "        \"avg_hr_spent\": \":.1f\",\n",
    "    },\n",
    "    labels=dict(  # Define labels for variables\n",
    "        total_hr_spent=\"Total hrs spent\",\n",
    "        count=\"Number of activities\",\n",
    "        avg_hr_spent=\"Average hrs spent per activity\",\n",
    "    ),\n",
    "    color_discrete_sequence=px.colors.qualitative.Bold,  # Define color swatch\n",
    ")\n",
    "\n",
    "# Set max allowed of ticks on x and y axes\n",
    "fig_hr.update_xaxes(nticks=20)\n",
    "fig_hr.update_yaxes(nticks=15)\n",
    "\n",
    "# Adjust the size and layout\n",
    "fig_hr.update_layout(\n",
    "    autosize=False,\n",
    "    width=700,\n",
    "    height=500,\n",
    "    template=\"plotly_white\",  # Others options: \"plotly\", \"plotly_dark\", \"ggplot2\", \"seaborn\", \"simple_white\"\n",
    "    legend=dict(  # Move the legend to the bottom\n",
    "        orientation=\"h\",\n",
    "        yanchor=\"bottom\",\n",
    "        y=-0.6,\n",
    "        xanchor=\"right\",\n",
    "        x=1,\n",
    "        title=None,  # Remove legend title\n",
    "    ),\n",
    "    title={\"y\": 0.9, \"x\": 0.5, \"xanchor\": \"center\", \"yanchor\": \"top\"},  # Center title\n",
    ")\n",
    "\n",
    "fig_hr.show()"
   ]
  },
  {
   "cell_type": "markdown",
   "metadata": {},
   "source": [
    "## Análisis de las actividades de bicicleta"
   ]
  },
  {
   "cell_type": "code",
   "execution_count": 31,
   "metadata": {},
   "outputs": [
    {
     "data": {
      "application/vnd.plotly.v1+json": {
       "config": {
        "plotlyServerURL": "https://plot.ly"
       },
       "data": [
        {
         "customdata": [
          [
           "Ciclismo al anochecer",
           2.54410009765625,
           40.8667106628418
          ],
          [
           "Ciclismo al anochecer",
           1.271,
           17.375
          ],
          [
           "Ciclismo por la tarde",
           25.858400390625,
           133.75616455078125
          ],
          [
           "Ciclismo al anochecer",
           1.296,
           27.51551818847656
          ],
          [
           "Ciclismo a la hora del almuerzo",
           24.02380078125,
           109.98186492919922
          ],
          [
           "Entrenamiento a la hora del almuerzo",
           12.888900390625,
           172
          ],
          [
           "Ciclismo por la tarde",
           9.7805,
           45
          ],
          [
           "Ciclismo por la mañana",
           25.105599609375,
           1161
          ],
          [
           "Entrenamiento a la hora del almuerzo",
           14.607,
           518
          ],
          [
           "Ciclismo por la tarde",
           13.7212001953125,
           64
          ],
          [
           "Entrenamiento a la hora del almuerzo",
           18.23280078125,
           788
          ],
          [
           "Ciclismo al anochecer",
           18.39480078125,
           90
          ],
          [
           "Ciclismo al anochecer",
           9.992,
           29
          ],
          [
           "Entrenamiento a la hora del almuerzo",
           20.30369921875,
           129
          ],
          [
           "Ciclismo por la tarde",
           12.4655,
           108
          ],
          [
           "Ciclismo al anochecer",
           15.0322001953125,
           53
          ],
          [
           "Ciclismo al anochecer",
           21.19419921875,
           105
          ],
          [
           "Ciclismo por la tarde",
           9.000400390625,
           32
          ],
          [
           "Entrenamiento a la hora del almuerzo",
           8.3495,
           70
          ],
          [
           "Ciclismo al anochecer",
           6.8172001953125,
           33
          ],
          [
           "Ciclismo al anochecer",
           11.8765,
           58
          ],
          [
           "Entrenamiento a la hora del almuerzo",
           22.067900390625,
           107
          ],
          [
           "Ciclismo al anochecer",
           26.187400390625,
           769
          ],
          [
           "Ciclismo al anochecer",
           28.84519921875,
           724
          ],
          [
           "Ciclismo al anochecer",
           24.42719921875,
           135
          ],
          [
           "Ciclismo por la tarde",
           25.54030078125,
           586
          ],
          [
           "Entrenamiento a la hora del almuerzo",
           21.63969921875,
           502.6546936035156
          ],
          [
           "Ciclismo por la tarde",
           17.324900390625,
           100.1999969482422
          ],
          [
           "Ciclismo por la mañana",
           25.8655,
           727
          ],
          [
           "Entrenamiento a la hora del almuerzo",
           4.3195,
           44
          ],
          [
           "Ciclismo por la tarde",
           22.99269921875,
           99
          ],
          [
           "Ciclismo por la tarde",
           23.22030078125,
           724
          ],
          [
           "Ciclismo por la tarde",
           19.401599609375,
           395
          ],
          [
           "Ciclismo por la tarde",
           28.8555,
           177
          ],
          [
           "Bicicleta por la tarde",
           14.2677998046875,
           104
          ],
          [
           "Bicicleta por la mañana",
           23.623400390625,
           436
          ],
          [
           "Bicicleta al anochecer",
           5.17960009765625,
           43.28333282470703
          ],
          [
           "Bicicleta por la mañana",
           28.05980078125,
           1407
          ],
          [
           "Bicicleta por la mañana",
           17.477900390625,
           729
          ],
          [
           "Bicicleta por la tarde",
           15.491490234375,
           95
          ],
          [
           "Bicicleta por la tarde",
           14.3784892578125,
           62.31476211547852
          ],
          [
           "Bicicleta por la mañana",
           15.0199404296875,
           45
          ],
          [
           "Bicicleta por la tarde",
           15.3052900390625,
           55.77190399169922
          ],
          [
           "Bicicleta por la tarde",
           10.04076953125,
           29
          ],
          [
           "Bicicleta al anochecer",
           22.519419921875,
           109
          ],
          [
           "Bicicleta al anochecer",
           18.955490234375,
           150
          ],
          [
           "Bicicleta por la mañana",
           20.023,
           1385
          ],
          [
           "Bicicleta al anochecer",
           22.754109375,
           106
          ],
          [
           "Bicicleta al anochecer",
           3.289550048828125,
           31
          ],
          [
           "Bicicleta por la tarde",
           10.399080078125,
           674
          ],
          [
           "Bicicleta al anochecer",
           25.100720703125,
           146
          ],
          [
           "Bicicleta por la tarde",
           22.749080078125,
           98.47000122070312
          ],
          [
           "Bicicleta por la tarde",
           24.118029296875,
           384.8787841796875
          ],
          [
           "Bicicleta por la tarde",
           27.615140625,
           185.98838806152344
          ],
          [
           "Bicicleta por la mañana",
           28.683490234375,
           203.52932739257807
          ],
          [
           "Bicicleta por la mañana",
           28.1405390625,
           583.3316650390625
          ],
          [
           "Bicicleta por la tarde",
           20.008271484375,
           386.4044494628906
          ],
          [
           "Bicicleta al anochecer",
           25.56583984375,
           567.7510375976562
          ],
          [
           "Bicicleta por la tarde",
           22.86941015625,
           42.50785827636719
          ],
          [
           "Bicicleta al anochecer",
           15.57008984375,
           92.38333129882812
          ],
          [
           "Bicicleta al anochecer",
           27.338478515625,
           68
          ],
          [
           "Bicicleta al anochecer",
           4.06381005859375,
           54
          ],
          [
           "Bicicleta por la mañana",
           24.721830078125,
           535
          ],
          [
           "Bicicleta al anochecer",
           25.06733984375,
           62
          ],
          [
           "Bicicleta por la tarde",
           29.676060546875,
           667
          ]
         ],
         "hovertemplate": "Activity Name: %{customdata[0]}<br>Activity date: %{x|%Y-%m-%d}<br>Distance (km): %{customdata[1]:.1f}<br>Average speed (km/hr): %{y:.1f}<br>Elevation gain: %{customdata[2]:.1f}",
         "legendgroup": "",
         "marker": {
          "color": [
           2.54410009765625,
           1.271,
           25.858400390625,
           1.296,
           24.02380078125,
           12.888900390625,
           9.7805,
           25.105599609375,
           14.607,
           13.7212001953125,
           18.23280078125,
           18.39480078125,
           9.992,
           20.30369921875,
           12.4655,
           15.0322001953125,
           21.19419921875,
           9.000400390625,
           8.3495,
           6.8172001953125,
           11.8765,
           22.067900390625,
           26.187400390625,
           28.84519921875,
           24.42719921875,
           25.54030078125,
           21.63969921875,
           17.324900390625,
           25.8655,
           4.3195,
           22.99269921875,
           23.22030078125,
           19.401599609375,
           28.8555,
           14.2677998046875,
           23.623400390625,
           5.17960009765625,
           28.05980078125,
           17.477900390625,
           15.491490234375,
           14.3784892578125,
           15.0199404296875,
           15.3052900390625,
           10.04076953125,
           22.519419921875,
           18.955490234375,
           20.023,
           22.754109375,
           3.289550048828125,
           10.399080078125,
           25.100720703125,
           22.749080078125,
           24.118029296875,
           27.615140625,
           28.683490234375,
           28.1405390625,
           20.008271484375,
           25.56583984375,
           22.86941015625,
           15.57008984375,
           27.338478515625,
           4.06381005859375,
           24.721830078125,
           25.06733984375,
           29.676060546875
          ],
          "coloraxis": "coloraxis",
          "symbol": "circle"
         },
         "mode": "markers",
         "name": "",
         "orientation": "v",
         "showlegend": false,
         "type": "scatter",
         "x": [
          "2018-09-09T17:26:30",
          "2018-09-09T17:38:17",
          "2018-11-18T15:07:01",
          "2018-12-04T19:47:47",
          "2018-12-18T11:11:37",
          "2019-02-02T11:01:21",
          "2019-06-02T15:51:58",
          "2019-07-20T06:53:03",
          "2019-07-19T09:53:37",
          "2019-07-18T14:49:27",
          "2019-07-18T09:43:31",
          "2019-08-09T18:17:23",
          "2019-08-08T18:30:57",
          "2020-05-02T10:16:58",
          "2020-05-03T15:25:05",
          "2020-05-05T17:18:54",
          "2020-05-08T16:40:07",
          "2020-05-09T14:35:35",
          "2020-05-16T10:40:28",
          "2020-06-12T17:50:34",
          "2020-06-09T16:39:25",
          "2020-05-30T10:34:37",
          "2020-09-01T16:28:15",
          "2020-09-09T16:09:58",
          "2020-10-05T16:52:21",
          "2020-10-28T15:26:38",
          "2020-11-21T11:00:19",
          "2020-12-23T15:23:47",
          "2021-01-02T08:51:34",
          "2021-01-06T10:18:08",
          "2021-01-11T15:39:23",
          "2021-01-23T15:14:22",
          "2021-02-13T14:34:47",
          "2021-02-17T15:50:03",
          "2021-03-24T16:20:53",
          "2021-04-18T08:06:03",
          "2021-07-06T16:51:04",
          "2021-07-17T08:38:13",
          "2021-10-11T07:42:00",
          "2022-01-07T14:22:18",
          "2022-02-09T16:34:47",
          "2022-02-19T09:38:20",
          "2022-03-30T15:56:40",
          "2022-04-12T15:43:11",
          "2022-04-24T17:21:13",
          "2022-05-06T16:09:21",
          "2022-07-22T07:54:00",
          "2022-08-25T17:27:59",
          "2021-10-27T16:06:28",
          "2022-07-20T11:04:35",
          "2022-09-01T16:40:10",
          "2022-10-25T15:31:18",
          "2023-01-08T14:18:44",
          "2023-02-05T14:42:47",
          "2023-03-05T09:42:52",
          "2023-02-25T08:56:55",
          "2023-03-22T16:19:07",
          "2023-03-29T16:05:01",
          "2023-04-12T15:21:28",
          "2023-06-04T16:44:19",
          "2023-07-28T17:16:41",
          "2023-08-08T17:14:14",
          "2023-08-20T06:21:37",
          "2023-08-21T17:16:47",
          "2023-08-30T15:58:50"
         ],
         "xaxis": "x",
         "y": [
          21.151871481668593,
          20.98899082568807,
          26.43858034826754,
          12.817582417582418,
          26.057753182434467,
          16.58921752100465,
          29.78832487309645,
          12.42509741459307,
          14.655852842809363,
          24.202018962824596,
          12.04368491972477,
          24.150723126367616,
          31.333797909407668,
          23.654795206310684,
          16.794835329341318,
          30.097842437778084,
          29.72306863556681,
          29.75338972107438,
          15.234769386720732,
          26.70502796857998,
          25.209551886792454,
          29.478456922541742,
          17.89571780680524,
          19.70450041508539,
          30.29208308215639,
          19.888618389033095,
          20.12995276162791,
          18.414420255757307,
          14.179351301964367,
          22.569230769230767,
          26.857143798669696,
          18.081999310512654,
          19.88208328885568,
          29.261915492957744,
          28.23753672175646,
          20.267931698343663,
          20.904215640765134,
          12.191079267740767,
          14.952576379812262,
          26.182800396126762,
          22.158630705532964,
          24.5334780158235,
          16.253405351216813,
          28.26174379397967,
          29.151352649676376,
          19.825614422937242,
          9.426284817575521,
          33.217677919708024,
          19.903159959296218,
          9.317244470196615,
          17.971876398418853,
          28.24997871033115,
          19.00720347389448,
          20.523225898018165,
          21.186000173112433,
          19.006743081613507,
          18.910416735035444,
          18.925976442011102,
          20.582469140625,
          23.821641919889505,
          15.220928341517165,
          27.919305746063934,
          20.891687389964787,
          17.83447103507905,
          21.005469518039718
         ],
         "yaxis": "y"
        },
        {
         "hovertemplate": "Activity Name: %{customdata[0]}<br>Activity date: %{x|%Y-%m-%d}<br>Distance (km): %{customdata[1]:.1f}<br>Average speed (km/hr): %{y:.1f}<br>Elevation gain: %{customdata[2]:.1f}",
         "legendgroup": "",
         "line": {
          "color": "black"
         },
         "marker": {
          "symbol": "circle"
         },
         "mode": "lines",
         "name": "",
         "showlegend": false,
         "type": "scatter",
         "x": [
          "2018-09-09T17:26:30",
          "2018-09-09T17:38:17",
          "2018-11-18T15:07:01",
          "2018-12-04T19:47:47",
          "2018-12-18T11:11:37",
          "2019-02-02T11:01:21",
          "2019-06-02T15:51:58",
          "2019-07-18T09:43:31",
          "2019-07-18T14:49:27",
          "2019-07-19T09:53:37",
          "2019-07-20T06:53:03",
          "2019-08-08T18:30:57",
          "2019-08-09T18:17:23",
          "2020-05-02T10:16:58",
          "2020-05-03T15:25:05",
          "2020-05-05T17:18:54",
          "2020-05-08T16:40:07",
          "2020-05-09T14:35:35",
          "2020-05-16T10:40:28",
          "2020-05-30T10:34:37",
          "2020-06-09T16:39:25",
          "2020-06-12T17:50:34",
          "2020-09-01T16:28:15",
          "2020-09-09T16:09:58",
          "2020-10-05T16:52:21",
          "2020-10-28T15:26:38",
          "2020-11-21T11:00:19",
          "2020-12-23T15:23:47",
          "2021-01-02T08:51:34",
          "2021-01-06T10:18:08",
          "2021-01-11T15:39:23",
          "2021-01-23T15:14:22",
          "2021-02-13T14:34:47",
          "2021-02-17T15:50:03",
          "2021-03-24T16:20:53",
          "2021-04-18T08:06:03",
          "2021-07-06T16:51:04",
          "2021-07-17T08:38:13",
          "2021-10-11T07:42:00",
          "2021-10-27T16:06:28",
          "2022-01-07T14:22:18",
          "2022-02-09T16:34:47",
          "2022-02-19T09:38:20",
          "2022-03-30T15:56:40",
          "2022-04-12T15:43:11",
          "2022-04-24T17:21:13",
          "2022-05-06T16:09:21",
          "2022-07-20T11:04:35",
          "2022-07-22T07:54:00",
          "2022-08-25T17:27:59",
          "2022-09-01T16:40:10",
          "2022-10-25T15:31:18",
          "2023-01-08T14:18:44",
          "2023-02-05T14:42:47",
          "2023-02-25T08:56:55",
          "2023-03-05T09:42:52",
          "2023-03-22T16:19:07",
          "2023-03-29T16:05:01",
          "2023-04-12T15:21:28",
          "2023-06-04T16:44:19",
          "2023-07-28T17:16:41",
          "2023-08-08T17:14:14",
          "2023-08-20T06:21:37",
          "2023-08-21T17:16:47",
          "2023-08-30T15:58:50"
         ],
         "xaxis": "x",
         "y": [
          22.447402296459856,
          22.44739487160188,
          22.383974570289922,
          22.36927979967689,
          22.356901920813815,
          22.315169556136162,
          22.20610251972432,
          22.164595851825677,
          22.16440307856824,
          22.1636821217082,
          22.162888533564196,
          22.14520882301794,
          22.14431000562794,
          21.902346013910215,
          21.901244498947666,
          21.899358049423814,
          21.89666038953293,
          21.895831493931336,
          21.889628082852997,
          21.87692864567823,
          21.867625120101714,
          21.864858189541508,
          21.791413416294912,
          21.78416600927401,
          21.760547788098613,
          21.739732382546652,
          21.718123409854527,
          21.688921684979295,
          21.68009516714553,
          21.676411156355126,
          21.671671902065032,
          21.66079927400613,
          21.641769531044503,
          21.638092640556376,
          21.606315403630592,
          21.583943056820488,
          21.51193032548846,
          21.502259852298735,
          21.42426180327675,
          21.4094260758833,
          21.34416136423629,
          21.314134808002798,
          21.305323559961813,
          21.26969789417424,
          21.25791063283268,
          21.246960469092823,
          21.23611736193317,
          21.168256953543914,
          21.16656231110079,
          21.13535019303292,
          21.1290287613691,
          21.080074393816858,
          21.012067672667598,
          20.986646271698042,
          20.968716888487684,
          20.96142900706418,
          20.945754102688717,
          20.939411425639204,
          20.926735743809193,
          20.878593143225785,
          20.82957498700686,
          20.81959550530075,
          20.809118337569917,
          20.80779814111142,
          20.799680965013337
         ],
         "yaxis": "y"
        },
        {
         "customdata": [
          [
           "Ciclismo a la hora del almuerzo",
           32.21930078125,
           160.089599609375
          ],
          [
           "Ciclismo por la tarde",
           53.6323984375,
           433.38873291015625
          ],
          [
           "Ciclismo al anochecer",
           38.82719921875,
           222.1921844482422
          ],
          [
           "Ciclismo al anochecer",
           30.581099609375,
           190.3143615722656
          ],
          [
           "Entrenamiento a la hora del almuerzo",
           44.5956015625,
           290
          ],
          [
           "Ciclismo a la hora del almuerzo",
           35.64919921875,
           219.6205902099609
          ],
          [
           "Entrenamiento a la hora del almuerzo",
           48.4255,
           445
          ],
          [
           "Entrenamiento a la hora del almuerzo",
           45.66,
           306
          ],
          [
           "Entrenamiento a la hora del almuerzo",
           29.790400390625,
           192
          ],
          [
           "Ciclismo por la mañana",
           35.00719921875,
           280
          ],
          [
           "Ciclismo al anochecer",
           55.6026015625,
           463
          ],
          [
           "Ciclismo al anochecer",
           32.40330078125,
           157
          ],
          [
           "Ciclismo al anochecer",
           31.004099609375,
           164
          ],
          [
           "Ciclismo al anochecer",
           30.962,
           141
          ],
          [
           "Entrenamiento a la hora del almuerzo",
           52.82419921875,
           1579
          ],
          [
           "Ciclismo al anochecer",
           30.65969921875,
           150
          ],
          [
           "Ciclismo al anochecer",
           42.711,
           234
          ],
          [
           "Ciclismo al anochecer",
           30.66869921875,
           151
          ],
          [
           "Ciclismo al anochecer",
           30.77019921875,
           156
          ],
          [
           "Ciclismo por la mañana",
           51.1936015625,
           193
          ],
          [
           "Ciclismo al anochecer",
           31.19880078125,
           157
          ],
          [
           "Ciclismo al anochecer",
           31.000900390625,
           139
          ],
          [
           "Ciclismo al anochecer",
           56.6575,
           416
          ],
          [
           "Ciclismo por la tarde",
           46.05780078125,
           263
          ],
          [
           "Ciclismo al anochecer",
           30.927099609375,
           144
          ],
          [
           "Ciclismo al anochecer",
           54.7233984375,
           282
          ],
          [
           "Ciclismo al anochecer",
           32.232599609375,
           204
          ],
          [
           "Ciclismo al anochecer",
           33.67619921875,
           184
          ],
          [
           "Ciclismo al anochecer",
           30.036599609375,
           169
          ],
          [
           "Ciclismo al anochecer",
           42.69980078125,
           230
          ],
          [
           "Ciclismo por la mañana",
           46.3601015625,
           279
          ],
          [
           "Ciclismo por la mañana",
           50.9595,
           197
          ],
          [
           "Ciclismo por la mañana",
           54.45930078125,
           358
          ],
          [
           "Actividad",
           32.152099609375,
           172
          ],
          [
           "Ciclismo al anochecer",
           45.044,
           277
          ],
          [
           "Ciclismo al anochecer",
           37.6678984375,
           205
          ],
          [
           "Ciclismo por la tarde",
           53.0186015625,
           391
          ],
          [
           "Ciclismo por la mañana",
           36.0363984375,
           163
          ],
          [
           "Ciclismo al anochecer",
           34.87680078125,
           195
          ],
          [
           "Ciclismo al anochecer",
           32.76119921875,
           661
          ],
          [
           "Ciclismo por la mañana",
           56.3845,
           1414
          ],
          [
           "Ciclismo por la mañana",
           39.33530078125,
           1329
          ],
          [
           "Ciclismo al anochecer",
           41.3451015625,
           1260
          ],
          [
           "Ciclismo por la tarde",
           43.0446015625,
           776
          ],
          [
           "Entrenamiento a la hora del almuerzo",
           35.3788984375,
           281
          ],
          [
           "Ciclismo por la tarde",
           50.887,
           193
          ],
          [
           "Ciclismo al anochecer",
           53.56730078125,
           409
          ],
          [
           "Ciclismo al anochecer",
           31.008900390625,
           148
          ],
          [
           "Ciclismo por la tarde",
           33.14819921875,
           507
          ],
          [
           "Ciclismo por la mañana",
           48.80869921875,
           577
          ],
          [
           "Ciclismo por la mañana",
           51.48069921875,
           1236
          ],
          [
           "Ciclismo por la mañana",
           49.2525,
           1358
          ],
          [
           "Ciclismo a la hora del almuerzo",
           34.41230078125,
           161.90960693359375
          ],
          [
           "Ciclismo por la mañana",
           50.8405,
           758
          ],
          [
           "Ciclismo por la tarde",
           35.4308984375,
           285
          ],
          [
           "Ciclismo por la mañana",
           47.81,
           511
          ],
          [
           "Ciclismo por la tarde",
           32.40280078125,
           257
          ],
          [
           "Bicicleta por la tarde",
           46.7696015625,
           490
          ],
          [
           "Bicicleta por la mañana",
           35.91819921875,
           937
          ],
          [
           "Bicicleta por la tarde",
           38.0711015625,
           764
          ],
          [
           "Bicicleta por la mañana",
           50.30969921875,
           416
          ],
          [
           "Bicicleta a la hora del almuerzo",
           39.0088984375,
           274
          ],
          [
           "Bicicleta por la mañana",
           45.8948984375,
           1306
          ],
          [
           "Bicicleta por la mañana",
           56.7711015625,
           370
          ],
          [
           "Bicicleta al anochecer",
           31.975900390625,
           721
          ],
          [
           "Bicicleta por la mañana",
           45.6306015625,
           1028.66552734375
          ],
          [
           "Bicicleta al anochecer",
           35.62980078125,
           335.7300109863281
          ],
          [
           "Bicicleta por la mañana",
           55.08369921875,
           273.6499938964844
          ],
          [
           "Bicicleta al anochecer",
           34.3328984375,
           179.9199981689453
          ],
          [
           "Bicicleta al anochecer",
           52.52069921875,
           420
          ],
          [
           "Bicicleta al anochecer",
           43.5828984375,
           268
          ],
          [
           "Bicicleta al anochecer",
           47.43530078125,
           300
          ],
          [
           "Bicicleta al anochecer",
           37.0003984375,
           211
          ],
          [
           "Bicicleta al anochecer",
           35.69780078125,
           210
          ],
          [
           "Bicicleta por la tarde",
           31.00380078125,
           155
          ],
          [
           "Bicicleta por la mañana",
           43.36430078125,
           262
          ],
          [
           "Bicicleta al anochecer",
           51.02180078125,
           421
          ],
          [
           "Bicicleta por la mañana",
           31.3465,
           1111
          ],
          [
           "Bicicleta por la mañana",
           38.7355,
           1203
          ],
          [
           "Bicicleta al anochecer",
           30.604099609375,
           153
          ],
          [
           "Bicicleta por la tarde",
           31.231099609375,
           1242
          ],
          [
           "Bicicleta por la mañana",
           55.6443515625,
           308
          ],
          [
           "Bicicleta por la mañana",
           52.575609375,
           396.320556640625
          ],
          [
           "Bicicleta por la mañana",
           51.50462109375,
           191.6266632080078
          ],
          [
           "Bicicleta por la mañana",
           53.201109375,
           456
          ],
          [
           "Bicicleta por la tarde",
           39.91233984375,
           409
          ],
          [
           "Bicicleta por la tarde",
           53.4072890625,
           410
          ],
          [
           "Bicicleta por la tarde",
           36.656421875,
           192
          ],
          [
           "Bicicleta por la mañana",
           47.6435,
           379
          ],
          [
           "Bicicleta a la hora del almuerzo",
           45.5241484375,
           296
          ],
          [
           "Bicicleta a la hora del almuerzo",
           53.007421875,
           430
          ],
          [
           "Bicicleta por la tarde",
           53.014421875,
           365
          ],
          [
           "Bicicleta por la mañana",
           37.24248828125,
           240
          ],
          [
           "Bicicleta por la tarde",
           35.22501171875,
           269
          ],
          [
           "Bicicleta por la mañana",
           51.00826953125,
           220
          ],
          [
           "Bicicleta por la tarde",
           31.702259765625,
           202
          ],
          [
           "Bicicleta por la mañana",
           30.632220703125,
           943
          ],
          [
           "Bicicleta por la mañana",
           32.2244296875,
           699
          ],
          [
           "Bicicleta por la mañana",
           31.31916015625,
           296
          ],
          [
           "Bicicleta por la tarde",
           36.9294296875,
           218
          ],
          [
           "Bicicleta al anochecer",
           32.079970703125,
           166
          ],
          [
           "Bicicleta al anochecer",
           55.6470390625,
           414
          ],
          [
           "Bicicleta a la hora del almuerzo",
           55.51246875,
           549
          ],
          [
           "Bicicleta por la mañana",
           54.0318984375,
           1560
          ],
          [
           "Bicicleta al anochecer",
           40.08766015625,
           507
          ],
          [
           "Bicicleta por la tarde",
           37.35826953125,
           601
          ],
          [
           "Bicicleta al anochecer",
           43.80475,
           265
          ],
          [
           "Bicicleta al anochecer",
           41.10048828125,
           327
          ],
          [
           "Bicicleta al anochecer",
           34.49412109375,
           263
          ],
          [
           "Bicicleta a la hora del almuerzo",
           30.507330078125,
           799
          ],
          [
           "Bicicleta al anochecer",
           36.241390625,
           206
          ],
          [
           "Bicicleta al anochecer",
           46.1795,
           357
          ],
          [
           "Bicicleta al anochecer",
           51.84251171875,
           414
          ],
          [
           "Bicicleta por la tarde",
           40.25337890625,
           246
          ],
          [
           "Bicicleta al anochecer",
           33.3977109375,
           311
          ],
          [
           "Bicicleta al anochecer",
           30.83155078125,
           190
          ],
          [
           "Bicicleta por la mañana",
           45.89155078125,
           251
          ],
          [
           "Bicicleta por la mañana",
           53.28678125,
           395.26666259765625
          ],
          [
           "Bicicleta a la hora del almuerzo",
           36.4998515625,
           174.53500366210938
          ],
          [
           "Carrera de mañana",
           45.02212109375,
           287.50225830078125
          ],
          [
           "Bicicleta por la mañana",
           49.98901171875,
           388.336669921875
          ],
          [
           "Bicicleta por la mañana",
           49.1138203125,
           1060.2401123046875
          ],
          [
           "Bicicleta por la mañana",
           34.39930859375,
           367.8414611816406
          ],
          [
           "Bicicleta por la mañana",
           40.72021875,
           315.1576232910156
          ],
          [
           "Bicicleta al anochecer",
           39.7340625,
           184.50582885742188
          ],
          [
           "Bicicleta por la mañana",
           49.50704296875,
           774
          ],
          [
           "Bicicleta al anochecer",
           36.858078125,
           814
          ],
          [
           "Bicicleta por la tarde",
           55.4427578125,
           1353
          ],
          [
           "Bicicleta por la tarde",
           32.4074609375,
           162
          ],
          [
           "Bicicleta por la mañana",
           56.7165625,
           467
          ],
          [
           "Bicicleta al anochecer",
           40.73880078125,
           921
          ],
          [
           "Bicicleta por la mañana",
           36.87551171875,
           176.75999450683594
          ],
          [
           "Bicicleta por la tarde",
           55.57026953125,
           1230
          ],
          [
           "Bicicleta por la mañana",
           53.2650703125,
           418
          ],
          [
           "Bicicleta al anochecer",
           37.99469921875,
           205
          ],
          [
           "Bicicleta por la tarde",
           50.06526953125,
           240
          ],
          [
           "Bicicleta a la hora del almuerzo",
           44.45294921875,
           1087
          ]
         ],
         "hovertemplate": "Activity Name: %{customdata[0]}<br>Activity date: %{x|%Y-%m-%d}<br>Distance (km): %{customdata[1]:.1f}<br>Average speed (km/hr): %{y:.1f}<br>Elevation gain: %{customdata[2]:.1f}",
         "legendgroup": "",
         "marker": {
          "color": [
           32.21930078125,
           53.6323984375,
           38.82719921875,
           30.581099609375,
           44.5956015625,
           35.64919921875,
           48.4255,
           45.66,
           29.790400390625,
           35.00719921875,
           55.6026015625,
           32.40330078125,
           31.004099609375,
           30.962,
           52.82419921875,
           30.65969921875,
           42.711,
           30.66869921875,
           30.77019921875,
           51.1936015625,
           31.19880078125,
           31.000900390625,
           56.6575,
           46.05780078125,
           30.927099609375,
           54.7233984375,
           32.232599609375,
           33.67619921875,
           30.036599609375,
           42.69980078125,
           46.3601015625,
           50.9595,
           54.45930078125,
           32.152099609375,
           45.044,
           37.6678984375,
           53.0186015625,
           36.0363984375,
           34.87680078125,
           32.76119921875,
           56.3845,
           39.33530078125,
           41.3451015625,
           43.0446015625,
           35.3788984375,
           50.887,
           53.56730078125,
           31.008900390625,
           33.14819921875,
           48.80869921875,
           51.48069921875,
           49.2525,
           34.41230078125,
           50.8405,
           35.4308984375,
           47.81,
           32.40280078125,
           46.7696015625,
           35.91819921875,
           38.0711015625,
           50.30969921875,
           39.0088984375,
           45.8948984375,
           56.7711015625,
           31.975900390625,
           45.6306015625,
           35.62980078125,
           55.08369921875,
           34.3328984375,
           52.52069921875,
           43.5828984375,
           47.43530078125,
           37.0003984375,
           35.69780078125,
           31.00380078125,
           43.36430078125,
           51.02180078125,
           31.3465,
           38.7355,
           30.604099609375,
           31.231099609375,
           55.6443515625,
           52.575609375,
           51.50462109375,
           53.201109375,
           39.91233984375,
           53.4072890625,
           36.656421875,
           47.6435,
           45.5241484375,
           53.007421875,
           53.014421875,
           37.24248828125,
           35.22501171875,
           51.00826953125,
           31.702259765625,
           30.632220703125,
           32.2244296875,
           31.31916015625,
           36.9294296875,
           32.079970703125,
           55.6470390625,
           55.51246875,
           54.0318984375,
           40.08766015625,
           37.35826953125,
           43.80475,
           41.10048828125,
           34.49412109375,
           30.507330078125,
           36.241390625,
           46.1795,
           51.84251171875,
           40.25337890625,
           33.3977109375,
           30.83155078125,
           45.89155078125,
           53.28678125,
           36.4998515625,
           45.02212109375,
           49.98901171875,
           49.1138203125,
           34.39930859375,
           40.72021875,
           39.7340625,
           49.50704296875,
           36.858078125,
           55.4427578125,
           32.4074609375,
           56.7165625,
           40.73880078125,
           36.87551171875,
           55.57026953125,
           53.2650703125,
           37.99469921875,
           50.06526953125,
           44.45294921875
          ],
          "coloraxis": "coloraxis",
          "symbol": "circle"
         },
         "mode": "markers",
         "name": "",
         "orientation": "v",
         "showlegend": false,
         "type": "scatter",
         "x": [
          "2018-09-10T09:44:29",
          "2018-09-14T15:54:16",
          "2018-09-23T16:27:56",
          "2018-09-29T17:00:38",
          "2019-01-31T11:01:02",
          "2019-03-31T09:10:27",
          "2019-05-19T09:00:27",
          "2019-03-03T10:29:08",
          "2019-02-09T10:14:33",
          "2019-06-01T07:55:05",
          "2019-06-21T16:34:11",
          "2019-07-07T17:38:56",
          "2019-06-23T16:40:57",
          "2019-08-06T16:12:44",
          "2019-08-10T09:15:44",
          "2019-08-12T17:46:43",
          "2019-08-18T17:05:22",
          "2019-09-21T16:24:33",
          "2020-05-13T16:09:15",
          "2019-10-19T08:43:29",
          "2020-05-18T16:28:32",
          "2020-05-22T17:51:43",
          "2020-05-25T16:32:34",
          "2020-07-05T13:51:38",
          "2020-07-02T16:31:52",
          "2020-06-15T16:37:09",
          "2020-07-11T17:13:54",
          "2020-07-09T17:24:01",
          "2020-07-07T18:14:50",
          "2020-07-14T17:10:28",
          "2020-07-25T08:29:11",
          "2020-08-03T07:10:15",
          "2020-08-04T07:19:02",
          "2020-08-17T17:45:55",
          "2020-08-14T16:53:38",
          "2020-08-12T17:47:51",
          "2020-08-19T15:56:13",
          "2020-08-23T08:44:13",
          "2020-08-25T17:08:04",
          "2020-09-02T16:10:10",
          "2020-09-05T08:11:04",
          "2020-09-06T07:08:23",
          "2020-09-15T16:01:44",
          "2020-09-17T15:32:00",
          "2020-09-19T09:40:42",
          "2020-09-20T14:51:27",
          "2020-09-22T16:16:19",
          "2020-09-29T16:18:03",
          "2020-10-17T15:50:36",
          "2020-10-24T08:11:27",
          "2020-11-01T09:12:53",
          "2020-11-08T09:09:23",
          "2020-12-06T10:35:52",
          "2020-12-29T08:50:07",
          "2021-01-06T15:09:36",
          "2021-01-16T09:23:39",
          "2021-02-02T15:22:21",
          "2021-03-09T15:40:51",
          "2021-03-06T09:59:51",
          "2021-03-17T15:47:00",
          "2021-03-28T08:36:02",
          "2021-04-02T10:00:59",
          "2021-04-03T08:07:20",
          "2021-04-05T07:06:32",
          "2021-04-13T16:16:23",
          "2021-04-25T07:55:08",
          "2021-04-30T16:22:18",
          "2021-05-01T07:24:08",
          "2021-05-04T17:11:52",
          "2021-05-31T16:50:37",
          "2021-06-03T17:10:37",
          "2021-06-06T16:28:15",
          "2021-06-07T17:12:38",
          "2021-07-07T16:59:09",
          "2021-07-21T15:20:46",
          "2021-07-24T08:52:03",
          "2021-08-10T16:51:41",
          "2021-08-15T08:50:07",
          "2021-08-22T08:38:16",
          "2021-08-24T16:33:29",
          "2021-10-09T13:07:15",
          "2021-11-06T09:05:10",
          "2021-11-13T09:14:59",
          "2021-11-21T09:32:29",
          "2021-12-04T09:24:42",
          "2021-12-13T15:06:25",
          "2022-01-29T14:45:46",
          "2022-01-30T15:05:49",
          "2022-02-05T09:36:49",
          "2022-02-13T10:02:13",
          "2022-02-20T10:02:52",
          "2022-03-05T14:31:24",
          "2022-03-06T09:19:43",
          "2022-03-09T16:16:55",
          "2022-03-12T09:36:44",
          "2022-03-27T14:02:22",
          "2022-04-16T07:30:15",
          "2022-04-15T07:13:57",
          "2022-04-23T08:22:25",
          "2022-04-21T15:59:01",
          "2022-05-03T16:02:46",
          "2022-05-19T16:25:05",
          "2022-05-21T09:22:53",
          "2022-06-12T07:39:05",
          "2022-06-23T16:34:26",
          "2022-06-20T14:03:45",
          "2022-07-07T16:34:33",
          "2022-08-22T16:37:27",
          "2022-08-17T16:35:54",
          "2022-07-21T09:41:29",
          "2022-08-31T16:59:57",
          "2022-08-26T16:34:38",
          "2022-09-06T16:27:35",
          "2022-09-20T15:59:41",
          "2022-09-17T16:25:18",
          "2022-09-11T16:27:13",
          "2022-10-01T08:14:08",
          "2022-10-16T08:54:17",
          "2022-11-19T10:12:09",
          "2022-12-04T09:20:02",
          "2023-01-02T09:17:15",
          "2023-01-15T09:58:26",
          "2023-02-12T09:16:33",
          "2023-04-02T07:05:02",
          "2023-04-04T16:34:37",
          "2023-04-23T08:59:21",
          "2023-04-26T16:11:46",
          "2023-05-03T15:46:05",
          "2023-05-14T13:00:58",
          "2023-05-20T08:51:05",
          "2023-05-29T16:05:55",
          "2023-06-10T08:01:09",
          "2023-06-26T15:03:15",
          "2023-07-01T08:35:01",
          "2023-07-04T16:52:58",
          "2023-07-24T15:07:07",
          "2023-08-13T09:34:26"
         ],
         "xaxis": "x2",
         "y": [
          26.89923070790816,
          27.20922130425592,
          24.94252626472163,
          28.722138949582572,
          23.805481261121,
          16.153192849276273,
          22.905242412297987,
          24.475282906491955,
          23.57560813502968,
          23.50352800960463,
          25.22295433782762,
          24.909648262331842,
          22.430618688454583,
          26.633978494623655,
          15.99925266595154,
          26.001158348056535,
          26.999051799824407,
          30.157693850723845,
          29.634220756420547,
          27.41290578982597,
          29.839448143597238,
          30.434480885260427,
          27.746837165011563,
          28.22265239361702,
          27.88318522257701,
          26.712438559322035,
          27.907012648809523,
          25.474746204559782,
          26.451017268529842,
          30.08205143101761,
          26.733359863046612,
          27.054151305117237,
          24.92416511727689,
          26.30626331676136,
          25.78854961832061,
          27.472535327188005,
          28.52166252615063,
          20.88057852486721,
          24.503607106264635,
          19.725759690165578,
          18.952773109243697,
          15.66970043294235,
          18.528864138553466,
          22.22931654353751,
          24.26906142816311,
          26.751343457943925,
          26.0175772817728,
          33.41276306682131,
          24.8352793314256,
          18.21031373069748,
          19.582683557428147,
          18.494732450192966,
          18.130291645324164,
          17.46929464541376,
          24.690521559233446,
          23.83547985043623,
          27.356961259967168,
          25.93108973124904,
          18.879473965177397,
          21.604029890447666,
          26.195388658880532,
          28.17657190509631,
          17.44684629091869,
          24.769841913101445,
          18.797067505919333,
          19.710843007559394,
          23.03237256464356,
          23.556820763542408,
          25.46321268541409,
          24.635116245928337,
          25.47466055772041,
          25.34388287511131,
          23.315497002450552,
          24.948958029994177,
          31.7445059193686,
          26.667489376921765,
          24.267206079072533,
          14.774469756480753,
          17.19454993834772,
          27.647367275721454,
          13.097851653512349,
          26.192424898666317,
          24.12339966224828,
          26.571601596087707,
          22.90135044242497,
          27.223270829386127,
          26.23004646998636,
          24.023870152921898,
          23.146639676113363,
          25.599333704311153,
          23.526904050055478,
          27.33484943425952,
          24.20089491200361,
          24.1819302417048,
          25.603704728457892,
          26.116278067791765,
          12.197322700060834,
          14.192310603743577,
          18.63311461948438,
          23.50945125994695,
          25.155280882433022,
          23.501799697911775,
          26.448502845420858,
          17.468777222721148,
          18.120991532207437,
          22.91918376150307,
          25.398147849895313,
          18.75069798663034,
          16.519733395969137,
          14.637663372151142,
          26.528874796665313,
          24.868541510845173,
          26.815092268318967,
          27.44028859354289,
          18.389684823340474,
          27.46006502041069,
          16.052233075446946,
          28.907837929475587,
          23.08493774156711,
          22.102773208441295,
          22.57972925815558,
          19.795091035042542,
          19.217490834497205,
          23.686021570528357,
          24.020591939546602,
          21.779952913051446,
          21.322365619476138,
          20.963546699401324,
          34.103145096463024,
          26.662264951684516,
          20.749813640704584,
          24.34473540940766,
          20.24622713414634,
          31.189696344339623,
          25.619201570987077,
          28.87455467999039,
          20.383469263469625
         ],
         "yaxis": "y2"
        },
        {
         "hovertemplate": "Activity Name: %{customdata[0]}<br>Activity date: %{x|%Y-%m-%d}<br>Distance (km): %{customdata[1]:.1f}<br>Average speed (km/hr): %{y:.1f}<br>Elevation gain: %{customdata[2]:.1f}",
         "legendgroup": "",
         "line": {
          "color": "black"
         },
         "marker": {
          "symbol": "circle"
         },
         "mode": "lines",
         "name": "",
         "showlegend": false,
         "type": "scatter",
         "x": [
          "2018-09-10T09:44:29",
          "2018-09-14T15:54:16",
          "2018-09-23T16:27:56",
          "2018-09-29T17:00:38",
          "2019-01-31T11:01:02",
          "2019-02-09T10:14:33",
          "2019-03-03T10:29:08",
          "2019-03-31T09:10:27",
          "2019-05-19T09:00:27",
          "2019-06-01T07:55:05",
          "2019-06-21T16:34:11",
          "2019-06-23T16:40:57",
          "2019-07-07T17:38:56",
          "2019-08-06T16:12:44",
          "2019-08-10T09:15:44",
          "2019-08-12T17:46:43",
          "2019-08-18T17:05:22",
          "2019-09-21T16:24:33",
          "2019-10-19T08:43:29",
          "2020-05-13T16:09:15",
          "2020-05-18T16:28:32",
          "2020-05-22T17:51:43",
          "2020-05-25T16:32:34",
          "2020-06-15T16:37:09",
          "2020-07-02T16:31:52",
          "2020-07-05T13:51:38",
          "2020-07-07T18:14:50",
          "2020-07-09T17:24:01",
          "2020-07-11T17:13:54",
          "2020-07-14T17:10:28",
          "2020-07-25T08:29:11",
          "2020-08-03T07:10:15",
          "2020-08-04T07:19:02",
          "2020-08-12T17:47:51",
          "2020-08-14T16:53:38",
          "2020-08-17T17:45:55",
          "2020-08-19T15:56:13",
          "2020-08-23T08:44:13",
          "2020-08-25T17:08:04",
          "2020-09-02T16:10:10",
          "2020-09-05T08:11:04",
          "2020-09-06T07:08:23",
          "2020-09-15T16:01:44",
          "2020-09-17T15:32:00",
          "2020-09-19T09:40:42",
          "2020-09-20T14:51:27",
          "2020-09-22T16:16:19",
          "2020-09-29T16:18:03",
          "2020-10-17T15:50:36",
          "2020-10-24T08:11:27",
          "2020-11-01T09:12:53",
          "2020-11-08T09:09:23",
          "2020-12-06T10:35:52",
          "2020-12-29T08:50:07",
          "2021-01-06T15:09:36",
          "2021-01-16T09:23:39",
          "2021-02-02T15:22:21",
          "2021-03-06T09:59:51",
          "2021-03-09T15:40:51",
          "2021-03-17T15:47:00",
          "2021-03-28T08:36:02",
          "2021-04-02T10:00:59",
          "2021-04-03T08:07:20",
          "2021-04-05T07:06:32",
          "2021-04-13T16:16:23",
          "2021-04-25T07:55:08",
          "2021-04-30T16:22:18",
          "2021-05-01T07:24:08",
          "2021-05-04T17:11:52",
          "2021-05-31T16:50:37",
          "2021-06-03T17:10:37",
          "2021-06-06T16:28:15",
          "2021-06-07T17:12:38",
          "2021-07-07T16:59:09",
          "2021-07-21T15:20:46",
          "2021-07-24T08:52:03",
          "2021-08-10T16:51:41",
          "2021-08-15T08:50:07",
          "2021-08-22T08:38:16",
          "2021-08-24T16:33:29",
          "2021-10-09T13:07:15",
          "2021-11-06T09:05:10",
          "2021-11-13T09:14:59",
          "2021-11-21T09:32:29",
          "2021-12-04T09:24:42",
          "2021-12-13T15:06:25",
          "2022-01-29T14:45:46",
          "2022-01-30T15:05:49",
          "2022-02-05T09:36:49",
          "2022-02-13T10:02:13",
          "2022-02-20T10:02:52",
          "2022-03-05T14:31:24",
          "2022-03-06T09:19:43",
          "2022-03-09T16:16:55",
          "2022-03-12T09:36:44",
          "2022-03-27T14:02:22",
          "2022-04-15T07:13:57",
          "2022-04-16T07:30:15",
          "2022-04-21T15:59:01",
          "2022-04-23T08:22:25",
          "2022-05-03T16:02:46",
          "2022-05-19T16:25:05",
          "2022-05-21T09:22:53",
          "2022-06-12T07:39:05",
          "2022-06-20T14:03:45",
          "2022-06-23T16:34:26",
          "2022-07-07T16:34:33",
          "2022-07-21T09:41:29",
          "2022-08-17T16:35:54",
          "2022-08-22T16:37:27",
          "2022-08-26T16:34:38",
          "2022-08-31T16:59:57",
          "2022-09-06T16:27:35",
          "2022-09-11T16:27:13",
          "2022-09-17T16:25:18",
          "2022-09-20T15:59:41",
          "2022-10-01T08:14:08",
          "2022-10-16T08:54:17",
          "2022-11-19T10:12:09",
          "2022-12-04T09:20:02",
          "2023-01-02T09:17:15",
          "2023-01-15T09:58:26",
          "2023-02-12T09:16:33",
          "2023-04-02T07:05:02",
          "2023-04-04T16:34:37",
          "2023-04-23T08:59:21",
          "2023-04-26T16:11:46",
          "2023-05-03T15:46:05",
          "2023-05-14T13:00:58",
          "2023-05-20T08:51:05",
          "2023-05-29T16:05:55",
          "2023-06-10T08:01:09",
          "2023-06-26T15:03:15",
          "2023-07-01T08:35:01",
          "2023-07-04T16:52:58",
          "2023-07-24T15:07:07",
          "2023-08-13T09:34:26"
         ],
         "xaxis": "x2",
         "y": [
          25.284099980162562,
          25.277845449685483,
          25.264587349071437,
          25.255738151062502,
          25.07391119695692,
          25.06073487747452,
          25.028395278073255,
          24.98733501087577,
          24.91534924871054,
          24.896314975168192,
          24.86639920253178,
          24.863453687312884,
          24.84282424805429,
          24.798833039651182,
          24.793381304325187,
          24.789921311132566,
          24.78114767011425,
          24.731232933094397,
          24.69056283110867,
          24.385961770308395,
          24.37859556743048,
          24.37263346954641,
          24.368306314061247,
          24.337446223591794,
          24.312473422273182,
          24.308229000247252,
          24.30502183302347,
          24.3021350730156,
          24.299206784722543,
          24.294802371661778,
          24.279171903984338,
          24.26602869489148,
          24.2645504273867,
          24.252154370304407,
          24.249271079489898,
          24.24480981587328,
          24.24198313753272,
          24.23654670747154,
          24.233093992782628,
          24.221398627729275,
          24.217479561621545,
          24.216074215200667,
          24.202306262204036,
          24.199397989796182,
          24.196817828254193,
          24.1950314487629,
          24.192006244131882,
          24.18171933756992,
          24.155299848609587,
          24.145483204811892,
          24.133666077874036,
          24.123384511148906,
          24.082155715979997,
          24.04846959339228,
          24.03632794382286,
          24.021987880027563,
          23.996643687955366,
          23.949954977646712,
          23.945199121694166,
          23.933438403160068,
          23.91771578078261,
          23.910282574856524,
          23.908929232324308,
          23.906052658820464,
          23.893737175454483,
          23.876616961323656,
          23.86875294620481,
          23.86783275967262,
          23.862825149119768,
          23.823175585185847,
          23.818747261900274,
          23.81438257450462,
          23.812867982504688,
          23.768802577578942,
          23.748332687203085,
          23.744321398371937,
          23.718853811853656,
          23.71199865176781,
          23.701725604973426,
          23.698302106334456,
          23.630924487310487,
          23.590030945464356,
          23.579735791065243,
          23.567963491547435,
          23.548870462794056,
          23.535298043058322,
          23.466261758474992,
          23.464771995015752,
          23.45629185795898,
          23.444511497668373,
          23.434225696486646,
          23.41485072774958,
          23.41369944872458,
          23.40886584202679,
          23.4048662532203,
          23.382555632657215,
          23.355055557989466,
          23.35356962084643,
          23.345703973166007,
          23.343231254583,
          23.328068481786513,
          23.30453682420259,
          23.302029005545613,
          23.26981019869541,
          23.257663260306707,
          23.253101594152923,
          23.232531199204804,
          23.212382396278848,
          23.172288299431393,
          23.164940190777656,
          23.15906584307851,
          23.151693484082973,
          23.14291067691162,
          23.13556452393061,
          23.12675064707169,
          23.122368868796997,
          23.106681533557857,
          23.0846009851366,
          23.034565149460384,
          23.012578745423568,
          22.969971728164197,
          22.950828736224132,
          22.90973092011031,
          22.837869147595907,
          22.834349361835418,
          22.806897090611432,
          22.802047957572782,
          22.791789025633722,
          22.775795142946254,
          22.767234279120522,
          22.753566847702007,
          22.736429814785737,
          22.71249023788288,
          22.705539845038203,
          22.700623844998177,
          22.67134574071138,
          22.64229908604024
         ],
         "yaxis": "y2"
        },
        {
         "customdata": [
          [
           "Ciclismo por la mañana",
           67.340703125,
           542
          ],
          [
           "Entrenamiento a la hora del almuerzo",
           60.2775,
           1584
          ],
          [
           "Ciclismo por la mañana",
           67.855296875,
           1746
          ],
          [
           "Ciclismo por la mañana",
           58.6798984375,
           534
          ],
          [
           "Ciclismo por la mañana",
           71.770703125,
           1377
          ],
          [
           "Ciclismo por la mañana",
           74.7453984375,
           581
          ],
          [
           "Ciclismo por la mañana",
           73.25,
           536
          ],
          [
           "Ciclismo por la mañana",
           64.75969921875,
           746
          ],
          [
           "Ciclismo por la mañana",
           65.3668984375,
           1551.408203125
          ],
          [
           "Ciclismo por la mañana",
           63.3905,
           1100
          ],
          [
           "Ciclismo por la mañana",
           69.416703125,
           573
          ],
          [
           "Bicicleta por la mañana",
           67.7093984375,
           575
          ],
          [
           "Bicicleta por la mañana",
           74.258296875,
           437.73779296875
          ],
          [
           "Bicicleta por la mañana",
           73.5313984375,
           1187
          ],
          [
           "Bicicleta por la tarde",
           73.558,
           1243
          ],
          [
           "Bicicleta por la mañana",
           71.1341015625,
           565
          ],
          [
           "Bicicleta por la mañana",
           60.87530078125,
           1100
          ],
          [
           "Bicicleta por la tarde",
           59.0083984375,
           306
          ],
          [
           "Bicicleta por la tarde",
           60.3531015625,
           1243
          ],
          [
           "Bicicleta a la hora del almuerzo",
           58.4398984375,
           1489
          ],
          [
           "Bicicleta por la mañana",
           83.199296875,
           1824
          ],
          [
           "Bicicleta por la mañana",
           61.352,
           1476
          ],
          [
           "Bicicleta por la mañana",
           60.3568984375,
           2117
          ],
          [
           "Bicicleta por la mañana",
           58.254,
           487.8233337402344
          ],
          [
           "Bicicleta por la mañana",
           63.0083203125,
           564
          ],
          [
           "Bicicleta por la mañana",
           77.4442890625,
           2203
          ],
          [
           "Bicicleta por la mañana",
           70.00478125,
           387
          ],
          [
           "Bicicleta por la mañana",
           73.8341015625,
           425
          ],
          [
           "Bicicleta por la mañana",
           74.2136796875,
           583
          ],
          [
           "Bicicleta por la mañana",
           62.43001171875,
           1529
          ],
          [
           "Bicicleta por la mañana",
           69.504109375,
           392
          ],
          [
           "Bicicleta por la mañana",
           81.0296328125,
           551
          ],
          [
           "Bicicleta por la mañana",
           82.007,
           1634
          ],
          [
           "Bicicleta por la mañana",
           61.9149296875,
           1039.22607421875
          ],
          [
           "Bicicleta por la mañana",
           61.34462890625,
           835.37939453125
          ],
          [
           "Bicicleta por la mañana",
           73.076,
           1457.8424072265625
          ],
          [
           "Bicicleta por la mañana",
           63.25069140625,
           791
          ],
          [
           "Bicicleta por la mañana",
           75.441765625,
           1516
          ],
          [
           "Bicicleta por la mañana",
           66.4242265625,
           1425
          ]
         ],
         "hovertemplate": "Activity Name: %{customdata[0]}<br>Activity date: %{x|%Y-%m-%d}<br>Distance (km): %{customdata[1]:.1f}<br>Average speed (km/hr): %{y:.1f}<br>Elevation gain: %{customdata[2]:.1f}",
         "legendgroup": "",
         "marker": {
          "color": [
           67.340703125,
           60.2775,
           67.855296875,
           58.6798984375,
           71.770703125,
           74.7453984375,
           73.25,
           64.75969921875,
           65.3668984375,
           63.3905,
           69.416703125,
           67.7093984375,
           74.258296875,
           73.5313984375,
           73.558,
           71.1341015625,
           60.87530078125,
           59.0083984375,
           60.3531015625,
           58.4398984375,
           83.199296875,
           61.352,
           60.3568984375,
           58.254,
           63.0083203125,
           77.4442890625,
           70.00478125,
           73.8341015625,
           74.2136796875,
           62.43001171875,
           69.504109375,
           81.0296328125,
           82.007,
           61.9149296875,
           61.34462890625,
           73.076,
           63.25069140625,
           75.441765625,
           66.4242265625
          ],
          "coloraxis": "coloraxis",
          "symbol": "circle"
         },
         "mode": "markers",
         "name": "",
         "orientation": "v",
         "showlegend": false,
         "type": "scatter",
         "x": [
          "2019-05-26T08:58:36",
          "2019-07-14T09:54:30",
          "2019-08-25T08:06:33",
          "2020-08-21T08:22:20",
          "2020-08-29T07:23:09",
          "2020-10-03T08:25:13",
          "2020-10-10T07:01:46",
          "2020-10-18T08:18:43",
          "2020-11-14T09:04:17",
          "2020-11-28T09:06:30",
          "2021-01-30T09:17:11",
          "2021-04-10T07:51:51",
          "2021-05-02T07:35:41",
          "2021-05-09T08:03:57",
          "2021-05-19T14:04:05",
          "2021-05-29T07:13:17",
          "2021-06-26T08:18:16",
          "2021-06-30T15:38:50",
          "2021-08-05T14:27:28",
          "2021-08-21T09:18:29",
          "2021-09-18T07:57:21",
          "2021-09-25T07:03:24",
          "2021-10-10T08:33:03",
          "2021-10-16T08:08:27",
          "2021-10-24T07:53:42",
          "2022-04-30T07:55:23",
          "2022-05-07T08:30:19",
          "2022-05-15T07:15:04",
          "2022-05-22T08:03:07",
          "2022-06-04T07:44:28",
          "2022-05-29T07:45:22",
          "2022-07-10T07:19:56",
          "2022-10-12T07:27:32",
          "2023-03-18T09:00:10",
          "2023-03-25T06:27:06",
          "2023-04-09T06:30:27",
          "2023-05-20T05:36:32",
          "2023-08-10T08:56:44",
          "2023-08-12T08:01:28"
         ],
         "xaxis": "x3",
         "y": [
          22.731039029535868,
          17.743172526574,
          17.189435560481318,
          24.730465274525873,
          21.488234468562876,
          23.74754517474186,
          28.619492077273716,
          24.62085935024818,
          19.340908553875238,
          21.470110076206605,
          24.12163429054054,
          19.622752727016586,
          25.58180562200957,
          22.706556388317036,
          21.702081625962958,
          25.61083764626463,
          20.700017267639556,
          26.431533454647255,
          19.805940348678213,
          21.302514618772783,
          18.535643836252245,
          24.043892880470278,
          15.847482632557801,
          24.844734036251626,
          22.935283430232555,
          18.553233554601718,
          26.325834377937948,
          25.11838646994897,
          24.47053003068328,
          20.346554606871265,
          23.360544650359444,
          24.45357348688071,
          20.019339526683396,
          21.88236274052621,
          21.33107930672269,
          24.86048006048006,
          26.178717988330646,
          21.58048122765197,
          22.354605555295876
         ],
         "yaxis": "y3"
        },
        {
         "hovertemplate": "Activity Name: %{customdata[0]}<br>Activity date: %{x|%Y-%m-%d}<br>Distance (km): %{customdata[1]:.1f}<br>Average speed (km/hr): %{y:.1f}<br>Elevation gain: %{customdata[2]:.1f}",
         "legendgroup": "",
         "line": {
          "color": "black"
         },
         "marker": {
          "symbol": "circle"
         },
         "mode": "lines",
         "name": "",
         "showlegend": false,
         "type": "scatter",
         "x": [
          "2019-05-26T08:58:36",
          "2019-07-14T09:54:30",
          "2019-08-25T08:06:33",
          "2020-08-21T08:22:20",
          "2020-08-29T07:23:09",
          "2020-10-03T08:25:13",
          "2020-10-10T07:01:46",
          "2020-10-18T08:18:43",
          "2020-11-14T09:04:17",
          "2020-11-28T09:06:30",
          "2021-01-30T09:17:11",
          "2021-04-10T07:51:51",
          "2021-05-02T07:35:41",
          "2021-05-09T08:03:57",
          "2021-05-19T14:04:05",
          "2021-05-29T07:13:17",
          "2021-06-26T08:18:16",
          "2021-06-30T15:38:50",
          "2021-08-05T14:27:28",
          "2021-08-21T09:18:29",
          "2021-09-18T07:57:21",
          "2021-09-25T07:03:24",
          "2021-10-10T08:33:03",
          "2021-10-16T08:08:27",
          "2021-10-24T07:53:42",
          "2022-04-30T07:55:23",
          "2022-05-07T08:30:19",
          "2022-05-15T07:15:04",
          "2022-05-22T08:03:07",
          "2022-05-29T07:45:22",
          "2022-06-04T07:44:28",
          "2022-07-10T07:19:56",
          "2022-10-12T07:27:32",
          "2023-03-18T09:00:10",
          "2023-03-25T06:27:06",
          "2023-04-09T06:30:27",
          "2023-05-20T05:36:32",
          "2023-08-10T08:56:44",
          "2023-08-12T08:01:28"
         ],
         "xaxis": "x3",
         "y": [
          21.487070157315213,
          21.544103692317517,
          21.592863694340235,
          22.013892687885537,
          22.023149114391657,
          22.063905233700794,
          22.07197903272236,
          22.081345408478317,
          22.112783974990503,
          22.12906816155447,
          22.20234757318379,
          22.28369063425897,
          22.309264199797664,
          22.317428227739615,
          22.329349375542098,
          22.340647872450784,
          22.373265149303577,
          22.378273089951755,
          22.420084468992993,
          22.4384433688257,
          22.470942633304183,
          22.479040258252812,
          22.49655808939938,
          22.503516390822412,
          22.512808704289853,
          22.731459384976137,
          22.739628797308384,
          22.748872247433887,
          22.75705225355404,
          22.765179115741976,
          22.77215655867251,
          22.814005763055576,
          22.92333656182438,
          23.10600682163528,
          23.114024394161184,
          23.131472524375372,
          23.179113138577566,
          23.274643152735564,
          23.276924572747753
         ],
         "yaxis": "y3"
        },
        {
         "customdata": [
          [
           "Ciclismo por la mañana",
           87.3881015625,
           546
          ],
          [
           "Ciclismo por la mañana",
           98.7153984375,
           2120
          ],
          [
           "Ciclismo por la tarde",
           103.180796875,
           448
          ],
          [
           "Ciclismo por la mañana",
           103.504703125,
           2254
          ],
          [
           "Ciclismo por la mañana",
           108.461203125,
           1285.653564453125
          ],
          [
           "Ciclismo por la mañana",
           114.0403984375,
           980
          ],
          [
           "Bicicleta por la mañana",
           107.265296875,
           959
          ],
          [
           "Bicicleta por la tarde",
           91.1555,
           1169
          ],
          [
           "Bicicleta por la mañana",
           98.8685,
           793
          ],
          [
           "Bicicleta por la mañana",
           108.196828125,
           2826
          ],
          [
           "Bicicleta por la mañana",
           108.8397578125,
           1348
          ],
          [
           "Bicicleta por la mañana",
           115.0466796875,
           1940
          ],
          [
           "Bicicleta por la mañana",
           101.607359375,
           688
          ],
          [
           "Bicicleta por la tarde",
           95.635765625,
           1154
          ],
          [
           "Bicicleta por la mañana",
           100.07021875,
           2136
          ]
         ],
         "hovertemplate": "Activity Name: %{customdata[0]}<br>Activity date: %{x|%Y-%m-%d}<br>Distance (km): %{customdata[1]:.1f}<br>Average speed (km/hr): %{y:.1f}<br>Elevation gain: %{customdata[2]:.1f}",
         "legendgroup": "",
         "marker": {
          "color": [
           87.3881015625,
           98.7153984375,
           103.180796875,
           103.504703125,
           108.461203125,
           114.0403984375,
           107.265296875,
           91.1555,
           98.8685,
           108.196828125,
           108.8397578125,
           115.0466796875,
           101.607359375,
           95.635765625,
           100.07021875
          ],
          "coloraxis": "coloraxis",
          "symbol": "circle"
         },
         "mode": "markers",
         "name": "",
         "orientation": "v",
         "showlegend": false,
         "type": "scatter",
         "x": [
          "2019-09-01T06:28:57",
          "2019-09-08T05:03:13",
          "2020-08-27T14:09:38",
          "2020-09-26T07:14:56",
          "2020-12-10T07:51:48",
          "2021-02-20T08:53:47",
          "2021-03-20T08:30:40",
          "2021-05-12T13:55:44",
          "2021-09-11T06:04:41",
          "2022-06-19T08:19:31",
          "2022-08-15T06:18:48",
          "2023-04-22T06:00:42",
          "2023-05-07T07:50:44",
          "2023-07-29T11:39:03",
          "2023-08-11T08:16:33"
         ],
         "xaxis": "x4",
         "y": [
          25.41172581785137,
          20.78340454851161,
          28.129562192351383,
          21.166605956032722,
          20.35874296105115,
          23.944093921322757,
          23.99372864110849,
          24.234532161583342,
          25.350897435897437,
          19.455001311123322,
          24.542632516442218,
          23.476252515304385,
          30.00709546759639,
          25.890265923447135,
          20.025168843802113
         ],
         "yaxis": "y4"
        },
        {
         "hovertemplate": "Activity Name: %{customdata[0]}<br>Activity date: %{x|%Y-%m-%d}<br>Distance (km): %{customdata[1]:.1f}<br>Average speed (km/hr): %{y:.1f}<br>Elevation gain: %{customdata[2]:.1f}",
         "legendgroup": "",
         "line": {
          "color": "black"
         },
         "marker": {
          "symbol": "circle"
         },
         "mode": "lines",
         "name": "",
         "showlegend": false,
         "type": "scatter",
         "x": [
          "2019-09-01T06:28:57",
          "2019-09-08T05:03:13",
          "2020-08-27T14:09:38",
          "2020-09-26T07:14:56",
          "2020-12-10T07:51:48",
          "2021-02-20T08:53:47",
          "2021-03-20T08:30:40",
          "2021-05-12T13:55:44",
          "2021-09-11T06:04:41",
          "2022-06-19T08:19:31",
          "2022-08-15T06:18:48",
          "2023-04-22T06:00:42",
          "2023-05-07T07:50:44",
          "2023-07-29T11:39:03",
          "2023-08-11T08:16:33"
         ],
         "xaxis": "x4",
         "y": [
          23.223128402249564,
          23.228287422554324,
          23.49170656605313,
          23.513792251657392,
          23.569560664426966,
          23.623112067078413,
          23.64391323701603,
          23.683477265911886,
          23.773919772678312,
          23.982863725613527,
          24.02517094243919,
          24.210992873490888,
          24.222199548929837,
          24.28401338857897,
          24.293572084747446
         ],
         "yaxis": "y4"
        }
       ],
       "layout": {
        "annotations": [
         {
          "font": {
           "size": 10
          },
          "showarrow": false,
          "text": "1-30km bicicletas",
          "x": 0.1175,
          "xanchor": "center",
          "xref": "paper",
          "y": 1,
          "yanchor": "bottom",
          "yref": "paper"
         },
         {
          "font": {
           "size": 10
          },
          "showarrow": false,
          "text": "30-58km bicicletas",
          "x": 0.3725,
          "xanchor": "center",
          "xref": "paper",
          "y": 1,
          "yanchor": "bottom",
          "yref": "paper"
         },
         {
          "font": {
           "size": 10
          },
          "showarrow": false,
          "text": "58-87km bicicletas",
          "x": 0.6275,
          "xanchor": "center",
          "xref": "paper",
          "y": 1,
          "yanchor": "bottom",
          "yref": "paper"
         },
         {
          "font": {
           "size": 10
          },
          "showarrow": false,
          "text": "87-115km bicicletas",
          "x": 0.8824999999999998,
          "xanchor": "center",
          "xref": "paper",
          "y": 1,
          "yanchor": "bottom",
          "yref": "paper"
         }
        ],
        "autosize": false,
        "coloraxis": {
         "colorbar": {
          "thickness": 15,
          "tickfont": {
           "size": 10
          },
          "ticklen": 3,
          "title": {
           "font": {
            "size": 12
           },
           "text": "km"
          }
         },
         "colorscale": [
          [
           0,
           "rgb(3, 35, 51)"
          ],
          [
           0.09090909090909091,
           "rgb(13, 48, 100)"
          ],
          [
           0.18181818181818182,
           "rgb(53, 50, 155)"
          ],
          [
           0.2727272727272727,
           "rgb(93, 62, 153)"
          ],
          [
           0.36363636363636365,
           "rgb(126, 77, 143)"
          ],
          [
           0.45454545454545453,
           "rgb(158, 89, 135)"
          ],
          [
           0.5454545454545454,
           "rgb(193, 100, 121)"
          ],
          [
           0.6363636363636364,
           "rgb(225, 113, 97)"
          ],
          [
           0.7272727272727273,
           "rgb(246, 139, 69)"
          ],
          [
           0.8181818181818182,
           "rgb(251, 173, 60)"
          ],
          [
           0.9090909090909091,
           "rgb(246, 211, 70)"
          ],
          [
           1,
           "rgb(231, 250, 90)"
          ]
         ]
        },
        "height": 600,
        "legend": {
         "tracegroupgap": 0
        },
        "template": {
         "data": {
          "bar": [
           {
            "error_x": {
             "color": "rgb(36,36,36)"
            },
            "error_y": {
             "color": "rgb(36,36,36)"
            },
            "marker": {
             "line": {
              "color": "rgb(234,234,242)",
              "width": 0.5
             },
             "pattern": {
              "fillmode": "overlay",
              "size": 10,
              "solidity": 0.2
             }
            },
            "type": "bar"
           }
          ],
          "barpolar": [
           {
            "marker": {
             "line": {
              "color": "rgb(234,234,242)",
              "width": 0.5
             },
             "pattern": {
              "fillmode": "overlay",
              "size": 10,
              "solidity": 0.2
             }
            },
            "type": "barpolar"
           }
          ],
          "carpet": [
           {
            "aaxis": {
             "endlinecolor": "rgb(36,36,36)",
             "gridcolor": "white",
             "linecolor": "white",
             "minorgridcolor": "white",
             "startlinecolor": "rgb(36,36,36)"
            },
            "baxis": {
             "endlinecolor": "rgb(36,36,36)",
             "gridcolor": "white",
             "linecolor": "white",
             "minorgridcolor": "white",
             "startlinecolor": "rgb(36,36,36)"
            },
            "type": "carpet"
           }
          ],
          "choropleth": [
           {
            "colorbar": {
             "outlinewidth": 0,
             "tickcolor": "rgb(36,36,36)",
             "ticklen": 8,
             "ticks": "outside",
             "tickwidth": 2
            },
            "type": "choropleth"
           }
          ],
          "contour": [
           {
            "colorbar": {
             "outlinewidth": 0,
             "tickcolor": "rgb(36,36,36)",
             "ticklen": 8,
             "ticks": "outside",
             "tickwidth": 2
            },
            "colorscale": [
             [
              0,
              "rgb(2,4,25)"
             ],
             [
              0.06274509803921569,
              "rgb(24,15,41)"
             ],
             [
              0.12549019607843137,
              "rgb(47,23,57)"
             ],
             [
              0.18823529411764706,
              "rgb(71,28,72)"
             ],
             [
              0.25098039215686274,
              "rgb(97,30,82)"
             ],
             [
              0.3137254901960784,
              "rgb(123,30,89)"
             ],
             [
              0.3764705882352941,
              "rgb(150,27,91)"
             ],
             [
              0.4392156862745098,
              "rgb(177,22,88)"
             ],
             [
              0.5019607843137255,
              "rgb(203,26,79)"
             ],
             [
              0.5647058823529412,
              "rgb(223,47,67)"
             ],
             [
              0.6274509803921569,
              "rgb(236,76,61)"
             ],
             [
              0.6901960784313725,
              "rgb(242,107,73)"
             ],
             [
              0.7529411764705882,
              "rgb(244,135,95)"
             ],
             [
              0.8156862745098039,
              "rgb(245,162,122)"
             ],
             [
              0.8784313725490196,
              "rgb(246,188,153)"
             ],
             [
              0.9411764705882353,
              "rgb(247,212,187)"
             ],
             [
              1,
              "rgb(250,234,220)"
             ]
            ],
            "type": "contour"
           }
          ],
          "contourcarpet": [
           {
            "colorbar": {
             "outlinewidth": 0,
             "tickcolor": "rgb(36,36,36)",
             "ticklen": 8,
             "ticks": "outside",
             "tickwidth": 2
            },
            "type": "contourcarpet"
           }
          ],
          "heatmap": [
           {
            "colorbar": {
             "outlinewidth": 0,
             "tickcolor": "rgb(36,36,36)",
             "ticklen": 8,
             "ticks": "outside",
             "tickwidth": 2
            },
            "colorscale": [
             [
              0,
              "rgb(2,4,25)"
             ],
             [
              0.06274509803921569,
              "rgb(24,15,41)"
             ],
             [
              0.12549019607843137,
              "rgb(47,23,57)"
             ],
             [
              0.18823529411764706,
              "rgb(71,28,72)"
             ],
             [
              0.25098039215686274,
              "rgb(97,30,82)"
             ],
             [
              0.3137254901960784,
              "rgb(123,30,89)"
             ],
             [
              0.3764705882352941,
              "rgb(150,27,91)"
             ],
             [
              0.4392156862745098,
              "rgb(177,22,88)"
             ],
             [
              0.5019607843137255,
              "rgb(203,26,79)"
             ],
             [
              0.5647058823529412,
              "rgb(223,47,67)"
             ],
             [
              0.6274509803921569,
              "rgb(236,76,61)"
             ],
             [
              0.6901960784313725,
              "rgb(242,107,73)"
             ],
             [
              0.7529411764705882,
              "rgb(244,135,95)"
             ],
             [
              0.8156862745098039,
              "rgb(245,162,122)"
             ],
             [
              0.8784313725490196,
              "rgb(246,188,153)"
             ],
             [
              0.9411764705882353,
              "rgb(247,212,187)"
             ],
             [
              1,
              "rgb(250,234,220)"
             ]
            ],
            "type": "heatmap"
           }
          ],
          "heatmapgl": [
           {
            "colorbar": {
             "outlinewidth": 0,
             "tickcolor": "rgb(36,36,36)",
             "ticklen": 8,
             "ticks": "outside",
             "tickwidth": 2
            },
            "colorscale": [
             [
              0,
              "rgb(2,4,25)"
             ],
             [
              0.06274509803921569,
              "rgb(24,15,41)"
             ],
             [
              0.12549019607843137,
              "rgb(47,23,57)"
             ],
             [
              0.18823529411764706,
              "rgb(71,28,72)"
             ],
             [
              0.25098039215686274,
              "rgb(97,30,82)"
             ],
             [
              0.3137254901960784,
              "rgb(123,30,89)"
             ],
             [
              0.3764705882352941,
              "rgb(150,27,91)"
             ],
             [
              0.4392156862745098,
              "rgb(177,22,88)"
             ],
             [
              0.5019607843137255,
              "rgb(203,26,79)"
             ],
             [
              0.5647058823529412,
              "rgb(223,47,67)"
             ],
             [
              0.6274509803921569,
              "rgb(236,76,61)"
             ],
             [
              0.6901960784313725,
              "rgb(242,107,73)"
             ],
             [
              0.7529411764705882,
              "rgb(244,135,95)"
             ],
             [
              0.8156862745098039,
              "rgb(245,162,122)"
             ],
             [
              0.8784313725490196,
              "rgb(246,188,153)"
             ],
             [
              0.9411764705882353,
              "rgb(247,212,187)"
             ],
             [
              1,
              "rgb(250,234,220)"
             ]
            ],
            "type": "heatmapgl"
           }
          ],
          "histogram": [
           {
            "marker": {
             "pattern": {
              "fillmode": "overlay",
              "size": 10,
              "solidity": 0.2
             }
            },
            "type": "histogram"
           }
          ],
          "histogram2d": [
           {
            "colorbar": {
             "outlinewidth": 0,
             "tickcolor": "rgb(36,36,36)",
             "ticklen": 8,
             "ticks": "outside",
             "tickwidth": 2
            },
            "colorscale": [
             [
              0,
              "rgb(2,4,25)"
             ],
             [
              0.06274509803921569,
              "rgb(24,15,41)"
             ],
             [
              0.12549019607843137,
              "rgb(47,23,57)"
             ],
             [
              0.18823529411764706,
              "rgb(71,28,72)"
             ],
             [
              0.25098039215686274,
              "rgb(97,30,82)"
             ],
             [
              0.3137254901960784,
              "rgb(123,30,89)"
             ],
             [
              0.3764705882352941,
              "rgb(150,27,91)"
             ],
             [
              0.4392156862745098,
              "rgb(177,22,88)"
             ],
             [
              0.5019607843137255,
              "rgb(203,26,79)"
             ],
             [
              0.5647058823529412,
              "rgb(223,47,67)"
             ],
             [
              0.6274509803921569,
              "rgb(236,76,61)"
             ],
             [
              0.6901960784313725,
              "rgb(242,107,73)"
             ],
             [
              0.7529411764705882,
              "rgb(244,135,95)"
             ],
             [
              0.8156862745098039,
              "rgb(245,162,122)"
             ],
             [
              0.8784313725490196,
              "rgb(246,188,153)"
             ],
             [
              0.9411764705882353,
              "rgb(247,212,187)"
             ],
             [
              1,
              "rgb(250,234,220)"
             ]
            ],
            "type": "histogram2d"
           }
          ],
          "histogram2dcontour": [
           {
            "colorbar": {
             "outlinewidth": 0,
             "tickcolor": "rgb(36,36,36)",
             "ticklen": 8,
             "ticks": "outside",
             "tickwidth": 2
            },
            "colorscale": [
             [
              0,
              "rgb(2,4,25)"
             ],
             [
              0.06274509803921569,
              "rgb(24,15,41)"
             ],
             [
              0.12549019607843137,
              "rgb(47,23,57)"
             ],
             [
              0.18823529411764706,
              "rgb(71,28,72)"
             ],
             [
              0.25098039215686274,
              "rgb(97,30,82)"
             ],
             [
              0.3137254901960784,
              "rgb(123,30,89)"
             ],
             [
              0.3764705882352941,
              "rgb(150,27,91)"
             ],
             [
              0.4392156862745098,
              "rgb(177,22,88)"
             ],
             [
              0.5019607843137255,
              "rgb(203,26,79)"
             ],
             [
              0.5647058823529412,
              "rgb(223,47,67)"
             ],
             [
              0.6274509803921569,
              "rgb(236,76,61)"
             ],
             [
              0.6901960784313725,
              "rgb(242,107,73)"
             ],
             [
              0.7529411764705882,
              "rgb(244,135,95)"
             ],
             [
              0.8156862745098039,
              "rgb(245,162,122)"
             ],
             [
              0.8784313725490196,
              "rgb(246,188,153)"
             ],
             [
              0.9411764705882353,
              "rgb(247,212,187)"
             ],
             [
              1,
              "rgb(250,234,220)"
             ]
            ],
            "type": "histogram2dcontour"
           }
          ],
          "mesh3d": [
           {
            "colorbar": {
             "outlinewidth": 0,
             "tickcolor": "rgb(36,36,36)",
             "ticklen": 8,
             "ticks": "outside",
             "tickwidth": 2
            },
            "type": "mesh3d"
           }
          ],
          "parcoords": [
           {
            "line": {
             "colorbar": {
              "outlinewidth": 0,
              "tickcolor": "rgb(36,36,36)",
              "ticklen": 8,
              "ticks": "outside",
              "tickwidth": 2
             }
            },
            "type": "parcoords"
           }
          ],
          "pie": [
           {
            "automargin": true,
            "type": "pie"
           }
          ],
          "scatter": [
           {
            "fillpattern": {
             "fillmode": "overlay",
             "size": 10,
             "solidity": 0.2
            },
            "type": "scatter"
           }
          ],
          "scatter3d": [
           {
            "line": {
             "colorbar": {
              "outlinewidth": 0,
              "tickcolor": "rgb(36,36,36)",
              "ticklen": 8,
              "ticks": "outside",
              "tickwidth": 2
             }
            },
            "marker": {
             "colorbar": {
              "outlinewidth": 0,
              "tickcolor": "rgb(36,36,36)",
              "ticklen": 8,
              "ticks": "outside",
              "tickwidth": 2
             }
            },
            "type": "scatter3d"
           }
          ],
          "scattercarpet": [
           {
            "marker": {
             "colorbar": {
              "outlinewidth": 0,
              "tickcolor": "rgb(36,36,36)",
              "ticklen": 8,
              "ticks": "outside",
              "tickwidth": 2
             }
            },
            "type": "scattercarpet"
           }
          ],
          "scattergeo": [
           {
            "marker": {
             "colorbar": {
              "outlinewidth": 0,
              "tickcolor": "rgb(36,36,36)",
              "ticklen": 8,
              "ticks": "outside",
              "tickwidth": 2
             }
            },
            "type": "scattergeo"
           }
          ],
          "scattergl": [
           {
            "marker": {
             "colorbar": {
              "outlinewidth": 0,
              "tickcolor": "rgb(36,36,36)",
              "ticklen": 8,
              "ticks": "outside",
              "tickwidth": 2
             }
            },
            "type": "scattergl"
           }
          ],
          "scattermapbox": [
           {
            "marker": {
             "colorbar": {
              "outlinewidth": 0,
              "tickcolor": "rgb(36,36,36)",
              "ticklen": 8,
              "ticks": "outside",
              "tickwidth": 2
             }
            },
            "type": "scattermapbox"
           }
          ],
          "scatterpolar": [
           {
            "marker": {
             "colorbar": {
              "outlinewidth": 0,
              "tickcolor": "rgb(36,36,36)",
              "ticklen": 8,
              "ticks": "outside",
              "tickwidth": 2
             }
            },
            "type": "scatterpolar"
           }
          ],
          "scatterpolargl": [
           {
            "marker": {
             "colorbar": {
              "outlinewidth": 0,
              "tickcolor": "rgb(36,36,36)",
              "ticklen": 8,
              "ticks": "outside",
              "tickwidth": 2
             }
            },
            "type": "scatterpolargl"
           }
          ],
          "scatterternary": [
           {
            "marker": {
             "colorbar": {
              "outlinewidth": 0,
              "tickcolor": "rgb(36,36,36)",
              "ticklen": 8,
              "ticks": "outside",
              "tickwidth": 2
             }
            },
            "type": "scatterternary"
           }
          ],
          "surface": [
           {
            "colorbar": {
             "outlinewidth": 0,
             "tickcolor": "rgb(36,36,36)",
             "ticklen": 8,
             "ticks": "outside",
             "tickwidth": 2
            },
            "colorscale": [
             [
              0,
              "rgb(2,4,25)"
             ],
             [
              0.06274509803921569,
              "rgb(24,15,41)"
             ],
             [
              0.12549019607843137,
              "rgb(47,23,57)"
             ],
             [
              0.18823529411764706,
              "rgb(71,28,72)"
             ],
             [
              0.25098039215686274,
              "rgb(97,30,82)"
             ],
             [
              0.3137254901960784,
              "rgb(123,30,89)"
             ],
             [
              0.3764705882352941,
              "rgb(150,27,91)"
             ],
             [
              0.4392156862745098,
              "rgb(177,22,88)"
             ],
             [
              0.5019607843137255,
              "rgb(203,26,79)"
             ],
             [
              0.5647058823529412,
              "rgb(223,47,67)"
             ],
             [
              0.6274509803921569,
              "rgb(236,76,61)"
             ],
             [
              0.6901960784313725,
              "rgb(242,107,73)"
             ],
             [
              0.7529411764705882,
              "rgb(244,135,95)"
             ],
             [
              0.8156862745098039,
              "rgb(245,162,122)"
             ],
             [
              0.8784313725490196,
              "rgb(246,188,153)"
             ],
             [
              0.9411764705882353,
              "rgb(247,212,187)"
             ],
             [
              1,
              "rgb(250,234,220)"
             ]
            ],
            "type": "surface"
           }
          ],
          "table": [
           {
            "cells": {
             "fill": {
              "color": "rgb(231,231,240)"
             },
             "line": {
              "color": "white"
             }
            },
            "header": {
             "fill": {
              "color": "rgb(183,183,191)"
             },
             "line": {
              "color": "white"
             }
            },
            "type": "table"
           }
          ]
         },
         "layout": {
          "annotationdefaults": {
           "arrowcolor": "rgb(67,103,167)"
          },
          "autotypenumbers": "strict",
          "coloraxis": {
           "colorbar": {
            "outlinewidth": 0,
            "tickcolor": "rgb(36,36,36)",
            "ticklen": 8,
            "ticks": "outside",
            "tickwidth": 2
           }
          },
          "colorscale": {
           "sequential": [
            [
             0,
             "rgb(2,4,25)"
            ],
            [
             0.06274509803921569,
             "rgb(24,15,41)"
            ],
            [
             0.12549019607843137,
             "rgb(47,23,57)"
            ],
            [
             0.18823529411764706,
             "rgb(71,28,72)"
            ],
            [
             0.25098039215686274,
             "rgb(97,30,82)"
            ],
            [
             0.3137254901960784,
             "rgb(123,30,89)"
            ],
            [
             0.3764705882352941,
             "rgb(150,27,91)"
            ],
            [
             0.4392156862745098,
             "rgb(177,22,88)"
            ],
            [
             0.5019607843137255,
             "rgb(203,26,79)"
            ],
            [
             0.5647058823529412,
             "rgb(223,47,67)"
            ],
            [
             0.6274509803921569,
             "rgb(236,76,61)"
            ],
            [
             0.6901960784313725,
             "rgb(242,107,73)"
            ],
            [
             0.7529411764705882,
             "rgb(244,135,95)"
            ],
            [
             0.8156862745098039,
             "rgb(245,162,122)"
            ],
            [
             0.8784313725490196,
             "rgb(246,188,153)"
            ],
            [
             0.9411764705882353,
             "rgb(247,212,187)"
            ],
            [
             1,
             "rgb(250,234,220)"
            ]
           ],
           "sequentialminus": [
            [
             0,
             "rgb(2,4,25)"
            ],
            [
             0.06274509803921569,
             "rgb(24,15,41)"
            ],
            [
             0.12549019607843137,
             "rgb(47,23,57)"
            ],
            [
             0.18823529411764706,
             "rgb(71,28,72)"
            ],
            [
             0.25098039215686274,
             "rgb(97,30,82)"
            ],
            [
             0.3137254901960784,
             "rgb(123,30,89)"
            ],
            [
             0.3764705882352941,
             "rgb(150,27,91)"
            ],
            [
             0.4392156862745098,
             "rgb(177,22,88)"
            ],
            [
             0.5019607843137255,
             "rgb(203,26,79)"
            ],
            [
             0.5647058823529412,
             "rgb(223,47,67)"
            ],
            [
             0.6274509803921569,
             "rgb(236,76,61)"
            ],
            [
             0.6901960784313725,
             "rgb(242,107,73)"
            ],
            [
             0.7529411764705882,
             "rgb(244,135,95)"
            ],
            [
             0.8156862745098039,
             "rgb(245,162,122)"
            ],
            [
             0.8784313725490196,
             "rgb(246,188,153)"
            ],
            [
             0.9411764705882353,
             "rgb(247,212,187)"
            ],
            [
             1,
             "rgb(250,234,220)"
            ]
           ]
          },
          "colorway": [
           "rgb(76,114,176)",
           "rgb(221,132,82)",
           "rgb(85,168,104)",
           "rgb(196,78,82)",
           "rgb(129,114,179)",
           "rgb(147,120,96)",
           "rgb(218,139,195)",
           "rgb(140,140,140)",
           "rgb(204,185,116)",
           "rgb(100,181,205)"
          ],
          "font": {
           "color": "rgb(36,36,36)"
          },
          "geo": {
           "bgcolor": "white",
           "lakecolor": "white",
           "landcolor": "rgb(234,234,242)",
           "showlakes": true,
           "showland": true,
           "subunitcolor": "white"
          },
          "hoverlabel": {
           "align": "left"
          },
          "hovermode": "closest",
          "paper_bgcolor": "white",
          "plot_bgcolor": "rgb(234,234,242)",
          "polar": {
           "angularaxis": {
            "gridcolor": "white",
            "linecolor": "white",
            "showgrid": true,
            "ticks": ""
           },
           "bgcolor": "rgb(234,234,242)",
           "radialaxis": {
            "gridcolor": "white",
            "linecolor": "white",
            "showgrid": true,
            "ticks": ""
           }
          },
          "scene": {
           "xaxis": {
            "backgroundcolor": "rgb(234,234,242)",
            "gridcolor": "white",
            "gridwidth": 2,
            "linecolor": "white",
            "showbackground": true,
            "showgrid": true,
            "ticks": "",
            "zerolinecolor": "white"
           },
           "yaxis": {
            "backgroundcolor": "rgb(234,234,242)",
            "gridcolor": "white",
            "gridwidth": 2,
            "linecolor": "white",
            "showbackground": true,
            "showgrid": true,
            "ticks": "",
            "zerolinecolor": "white"
           },
           "zaxis": {
            "backgroundcolor": "rgb(234,234,242)",
            "gridcolor": "white",
            "gridwidth": 2,
            "linecolor": "white",
            "showbackground": true,
            "showgrid": true,
            "ticks": "",
            "zerolinecolor": "white"
           }
          },
          "shapedefaults": {
           "fillcolor": "rgb(67,103,167)",
           "line": {
            "width": 0
           },
           "opacity": 0.5
          },
          "ternary": {
           "aaxis": {
            "gridcolor": "white",
            "linecolor": "white",
            "showgrid": true,
            "ticks": ""
           },
           "baxis": {
            "gridcolor": "white",
            "linecolor": "white",
            "showgrid": true,
            "ticks": ""
           },
           "bgcolor": "rgb(234,234,242)",
           "caxis": {
            "gridcolor": "white",
            "linecolor": "white",
            "showgrid": true,
            "ticks": ""
           }
          },
          "xaxis": {
           "automargin": true,
           "gridcolor": "white",
           "linecolor": "white",
           "showgrid": true,
           "ticks": "",
           "title": {
            "standoff": 15
           },
           "zerolinecolor": "white"
          },
          "yaxis": {
           "automargin": true,
           "gridcolor": "white",
           "linecolor": "white",
           "showgrid": true,
           "ticks": "",
           "title": {
            "standoff": 15
           },
           "zerolinecolor": "white"
          }
         }
        },
        "title": {
         "text": "My average speed on bicicletas"
        },
        "width": 700,
        "xaxis": {
         "anchor": "y",
         "domain": [
          0,
          0.235
         ],
         "tickangle": -45,
         "title": {
          "text": ""
         }
        },
        "xaxis2": {
         "anchor": "y2",
         "domain": [
          0.255,
          0.49
         ],
         "matches": "x",
         "tickangle": -45,
         "title": {
          "text": ""
         }
        },
        "xaxis3": {
         "anchor": "y3",
         "domain": [
          0.51,
          0.745
         ],
         "matches": "x",
         "tickangle": -45,
         "title": {
          "text": ""
         }
        },
        "xaxis4": {
         "anchor": "y4",
         "domain": [
          0.7649999999999999,
          0.9999999999999999
         ],
         "matches": "x",
         "tickangle": -45,
         "title": {
          "text": ""
         }
        },
        "yaxis": {
         "anchor": "x",
         "domain": [
          0,
          1
         ],
         "title": {
          "text": "Average Speed (km/hr)"
         }
        },
        "yaxis2": {
         "anchor": "x2",
         "domain": [
          0,
          1
         ],
         "matches": "y",
         "showticklabels": false
        },
        "yaxis3": {
         "anchor": "x3",
         "domain": [
          0,
          1
         ],
         "matches": "y",
         "showticklabels": false
        },
        "yaxis4": {
         "anchor": "x4",
         "domain": [
          0,
          1
         ],
         "matches": "y",
         "showticklabels": false
        }
       }
      },
      "text/html": [
       "<div>                            <div id=\"e71e15fd-15c4-43ed-9acd-7e22f3fdd298\" class=\"plotly-graph-div\" style=\"height:600px; width:700px;\"></div>            <script type=\"text/javascript\">                require([\"plotly\"], function(Plotly) {                    window.PLOTLYENV=window.PLOTLYENV || {};                                    if (document.getElementById(\"e71e15fd-15c4-43ed-9acd-7e22f3fdd298\")) {                    Plotly.newPlot(                        \"e71e15fd-15c4-43ed-9acd-7e22f3fdd298\",                        [{\"customdata\":[[\"Ciclismo al anochecer\",2.54410009765625,40.8667106628418],[\"Ciclismo al anochecer\",1.271,17.375],[\"Ciclismo por la tarde\",25.858400390625,133.75616455078125],[\"Ciclismo al anochecer\",1.296,27.51551818847656],[\"Ciclismo a la hora del almuerzo\",24.02380078125,109.98186492919922],[\"Entrenamiento a la hora del almuerzo\",12.888900390625,172.0],[\"Ciclismo por la tarde\",9.7805,45.0],[\"Ciclismo por la ma\\u00f1ana\",25.105599609375,1161.0],[\"Entrenamiento a la hora del almuerzo\",14.607,518.0],[\"Ciclismo por la tarde\",13.7212001953125,64.0],[\"Entrenamiento a la hora del almuerzo\",18.23280078125,788.0],[\"Ciclismo al anochecer\",18.39480078125,90.0],[\"Ciclismo al anochecer\",9.992,29.0],[\"Entrenamiento a la hora del almuerzo\",20.30369921875,129.0],[\"Ciclismo por la tarde\",12.4655,108.0],[\"Ciclismo al anochecer\",15.0322001953125,53.0],[\"Ciclismo al anochecer\",21.19419921875,105.0],[\"Ciclismo por la tarde\",9.000400390625,32.0],[\"Entrenamiento a la hora del almuerzo\",8.3495,70.0],[\"Ciclismo al anochecer\",6.8172001953125,33.0],[\"Ciclismo al anochecer\",11.8765,58.0],[\"Entrenamiento a la hora del almuerzo\",22.067900390625,107.0],[\"Ciclismo al anochecer\",26.187400390625,769.0],[\"Ciclismo al anochecer\",28.84519921875,724.0],[\"Ciclismo al anochecer\",24.42719921875,135.0],[\"Ciclismo por la tarde\",25.54030078125,586.0],[\"Entrenamiento a la hora del almuerzo\",21.63969921875,502.6546936035156],[\"Ciclismo por la tarde\",17.324900390625,100.1999969482422],[\"Ciclismo por la ma\\u00f1ana\",25.8655,727.0],[\"Entrenamiento a la hora del almuerzo\",4.3195,44.0],[\"Ciclismo por la tarde\",22.99269921875,99.0],[\"Ciclismo por la tarde\",23.22030078125,724.0],[\"Ciclismo por la tarde\",19.401599609375,395.0],[\"Ciclismo por la tarde\",28.8555,177.0],[\"Bicicleta por la tarde\",14.2677998046875,104.0],[\"Bicicleta por la ma\\u00f1ana\",23.623400390625,436.0],[\"Bicicleta al anochecer\",5.17960009765625,43.28333282470703],[\"Bicicleta por la ma\\u00f1ana\",28.05980078125,1407.0],[\"Bicicleta por la ma\\u00f1ana\",17.477900390625,729.0],[\"Bicicleta por la tarde\",15.491490234375,95.0],[\"Bicicleta por la tarde\",14.3784892578125,62.31476211547852],[\"Bicicleta por la ma\\u00f1ana\",15.0199404296875,45.0],[\"Bicicleta por la tarde\",15.3052900390625,55.77190399169922],[\"Bicicleta por la tarde\",10.04076953125,29.0],[\"Bicicleta al anochecer\",22.519419921875,109.0],[\"Bicicleta al anochecer\",18.955490234375,150.0],[\"Bicicleta por la ma\\u00f1ana\",20.023,1385.0],[\"Bicicleta al anochecer\",22.754109375,106.0],[\"Bicicleta al anochecer\",3.289550048828125,31.0],[\"Bicicleta por la tarde\",10.399080078125,674.0],[\"Bicicleta al anochecer\",25.100720703125,146.0],[\"Bicicleta por la tarde\",22.749080078125,98.47000122070312],[\"Bicicleta por la tarde\",24.118029296875,384.8787841796875],[\"Bicicleta por la tarde\",27.615140625,185.98838806152344],[\"Bicicleta por la ma\\u00f1ana\",28.683490234375,203.52932739257807],[\"Bicicleta por la ma\\u00f1ana\",28.1405390625,583.3316650390625],[\"Bicicleta por la tarde\",20.008271484375,386.4044494628906],[\"Bicicleta al anochecer\",25.56583984375,567.7510375976562],[\"Bicicleta por la tarde\",22.86941015625,42.50785827636719],[\"Bicicleta al anochecer\",15.57008984375,92.38333129882812],[\"Bicicleta al anochecer\",27.338478515625,68.0],[\"Bicicleta al anochecer\",4.06381005859375,54.0],[\"Bicicleta por la ma\\u00f1ana\",24.721830078125,535.0],[\"Bicicleta al anochecer\",25.06733984375,62.0],[\"Bicicleta por la tarde\",29.676060546875,667.0]],\"hovertemplate\":\"Activity Name: %{customdata[0]}\\u003cbr\\u003eActivity date: %{x|%Y-%m-%d}\\u003cbr\\u003eDistance (km): %{customdata[1]:.1f}\\u003cbr\\u003eAverage speed (km\\u002fhr): %{y:.1f}\\u003cbr\\u003eElevation gain: %{customdata[2]:.1f}\",\"legendgroup\":\"\",\"marker\":{\"color\":[2.54410009765625,1.271,25.858400390625,1.296,24.02380078125,12.888900390625,9.7805,25.105599609375,14.607,13.7212001953125,18.23280078125,18.39480078125,9.992,20.30369921875,12.4655,15.0322001953125,21.19419921875,9.000400390625,8.3495,6.8172001953125,11.8765,22.067900390625,26.187400390625,28.84519921875,24.42719921875,25.54030078125,21.63969921875,17.324900390625,25.8655,4.3195,22.99269921875,23.22030078125,19.401599609375,28.8555,14.2677998046875,23.623400390625,5.17960009765625,28.05980078125,17.477900390625,15.491490234375,14.3784892578125,15.0199404296875,15.3052900390625,10.04076953125,22.519419921875,18.955490234375,20.023,22.754109375,3.289550048828125,10.399080078125,25.100720703125,22.749080078125,24.118029296875,27.615140625,28.683490234375,28.1405390625,20.008271484375,25.56583984375,22.86941015625,15.57008984375,27.338478515625,4.06381005859375,24.721830078125,25.06733984375,29.676060546875],\"coloraxis\":\"coloraxis\",\"symbol\":\"circle\"},\"mode\":\"markers\",\"name\":\"\",\"orientation\":\"v\",\"showlegend\":false,\"x\":[\"2018-09-09T17:26:30\",\"2018-09-09T17:38:17\",\"2018-11-18T15:07:01\",\"2018-12-04T19:47:47\",\"2018-12-18T11:11:37\",\"2019-02-02T11:01:21\",\"2019-06-02T15:51:58\",\"2019-07-20T06:53:03\",\"2019-07-19T09:53:37\",\"2019-07-18T14:49:27\",\"2019-07-18T09:43:31\",\"2019-08-09T18:17:23\",\"2019-08-08T18:30:57\",\"2020-05-02T10:16:58\",\"2020-05-03T15:25:05\",\"2020-05-05T17:18:54\",\"2020-05-08T16:40:07\",\"2020-05-09T14:35:35\",\"2020-05-16T10:40:28\",\"2020-06-12T17:50:34\",\"2020-06-09T16:39:25\",\"2020-05-30T10:34:37\",\"2020-09-01T16:28:15\",\"2020-09-09T16:09:58\",\"2020-10-05T16:52:21\",\"2020-10-28T15:26:38\",\"2020-11-21T11:00:19\",\"2020-12-23T15:23:47\",\"2021-01-02T08:51:34\",\"2021-01-06T10:18:08\",\"2021-01-11T15:39:23\",\"2021-01-23T15:14:22\",\"2021-02-13T14:34:47\",\"2021-02-17T15:50:03\",\"2021-03-24T16:20:53\",\"2021-04-18T08:06:03\",\"2021-07-06T16:51:04\",\"2021-07-17T08:38:13\",\"2021-10-11T07:42:00\",\"2022-01-07T14:22:18\",\"2022-02-09T16:34:47\",\"2022-02-19T09:38:20\",\"2022-03-30T15:56:40\",\"2022-04-12T15:43:11\",\"2022-04-24T17:21:13\",\"2022-05-06T16:09:21\",\"2022-07-22T07:54:00\",\"2022-08-25T17:27:59\",\"2021-10-27T16:06:28\",\"2022-07-20T11:04:35\",\"2022-09-01T16:40:10\",\"2022-10-25T15:31:18\",\"2023-01-08T14:18:44\",\"2023-02-05T14:42:47\",\"2023-03-05T09:42:52\",\"2023-02-25T08:56:55\",\"2023-03-22T16:19:07\",\"2023-03-29T16:05:01\",\"2023-04-12T15:21:28\",\"2023-06-04T16:44:19\",\"2023-07-28T17:16:41\",\"2023-08-08T17:14:14\",\"2023-08-20T06:21:37\",\"2023-08-21T17:16:47\",\"2023-08-30T15:58:50\"],\"xaxis\":\"x\",\"y\":[21.151871481668593,20.98899082568807,26.43858034826754,12.817582417582418,26.057753182434467,16.58921752100465,29.78832487309645,12.42509741459307,14.655852842809363,24.202018962824596,12.04368491972477,24.150723126367616,31.333797909407668,23.654795206310684,16.794835329341318,30.097842437778084,29.72306863556681,29.75338972107438,15.234769386720732,26.70502796857998,25.209551886792454,29.478456922541742,17.89571780680524,19.70450041508539,30.29208308215639,19.888618389033095,20.12995276162791,18.414420255757307,14.179351301964367,22.569230769230767,26.857143798669696,18.081999310512654,19.88208328885568,29.261915492957744,28.23753672175646,20.267931698343663,20.904215640765134,12.191079267740767,14.952576379812262,26.182800396126762,22.158630705532964,24.5334780158235,16.253405351216813,28.26174379397967,29.151352649676376,19.825614422937242,9.426284817575521,33.217677919708024,19.903159959296218,9.317244470196615,17.971876398418853,28.24997871033115,19.00720347389448,20.523225898018165,21.186000173112433,19.006743081613507,18.910416735035444,18.925976442011102,20.582469140625,23.821641919889505,15.220928341517165,27.919305746063934,20.891687389964787,17.83447103507905,21.005469518039718],\"yaxis\":\"y\",\"type\":\"scatter\"},{\"hovertemplate\":\"Activity Name: %{customdata[0]}\\u003cbr\\u003eActivity date: %{x|%Y-%m-%d}\\u003cbr\\u003eDistance (km): %{customdata[1]:.1f}\\u003cbr\\u003eAverage speed (km\\u002fhr): %{y:.1f}\\u003cbr\\u003eElevation gain: %{customdata[2]:.1f}\",\"legendgroup\":\"\",\"line\":{\"color\":\"black\"},\"marker\":{\"symbol\":\"circle\"},\"mode\":\"lines\",\"name\":\"\",\"showlegend\":false,\"x\":[\"2018-09-09T17:26:30\",\"2018-09-09T17:38:17\",\"2018-11-18T15:07:01\",\"2018-12-04T19:47:47\",\"2018-12-18T11:11:37\",\"2019-02-02T11:01:21\",\"2019-06-02T15:51:58\",\"2019-07-18T09:43:31\",\"2019-07-18T14:49:27\",\"2019-07-19T09:53:37\",\"2019-07-20T06:53:03\",\"2019-08-08T18:30:57\",\"2019-08-09T18:17:23\",\"2020-05-02T10:16:58\",\"2020-05-03T15:25:05\",\"2020-05-05T17:18:54\",\"2020-05-08T16:40:07\",\"2020-05-09T14:35:35\",\"2020-05-16T10:40:28\",\"2020-05-30T10:34:37\",\"2020-06-09T16:39:25\",\"2020-06-12T17:50:34\",\"2020-09-01T16:28:15\",\"2020-09-09T16:09:58\",\"2020-10-05T16:52:21\",\"2020-10-28T15:26:38\",\"2020-11-21T11:00:19\",\"2020-12-23T15:23:47\",\"2021-01-02T08:51:34\",\"2021-01-06T10:18:08\",\"2021-01-11T15:39:23\",\"2021-01-23T15:14:22\",\"2021-02-13T14:34:47\",\"2021-02-17T15:50:03\",\"2021-03-24T16:20:53\",\"2021-04-18T08:06:03\",\"2021-07-06T16:51:04\",\"2021-07-17T08:38:13\",\"2021-10-11T07:42:00\",\"2021-10-27T16:06:28\",\"2022-01-07T14:22:18\",\"2022-02-09T16:34:47\",\"2022-02-19T09:38:20\",\"2022-03-30T15:56:40\",\"2022-04-12T15:43:11\",\"2022-04-24T17:21:13\",\"2022-05-06T16:09:21\",\"2022-07-20T11:04:35\",\"2022-07-22T07:54:00\",\"2022-08-25T17:27:59\",\"2022-09-01T16:40:10\",\"2022-10-25T15:31:18\",\"2023-01-08T14:18:44\",\"2023-02-05T14:42:47\",\"2023-02-25T08:56:55\",\"2023-03-05T09:42:52\",\"2023-03-22T16:19:07\",\"2023-03-29T16:05:01\",\"2023-04-12T15:21:28\",\"2023-06-04T16:44:19\",\"2023-07-28T17:16:41\",\"2023-08-08T17:14:14\",\"2023-08-20T06:21:37\",\"2023-08-21T17:16:47\",\"2023-08-30T15:58:50\"],\"xaxis\":\"x\",\"y\":[22.447402296459856,22.44739487160188,22.383974570289922,22.36927979967689,22.356901920813815,22.315169556136162,22.20610251972432,22.164595851825677,22.16440307856824,22.1636821217082,22.162888533564196,22.14520882301794,22.14431000562794,21.902346013910215,21.901244498947666,21.899358049423814,21.89666038953293,21.895831493931336,21.889628082852997,21.87692864567823,21.867625120101714,21.864858189541508,21.791413416294912,21.78416600927401,21.760547788098613,21.739732382546652,21.718123409854527,21.688921684979295,21.68009516714553,21.676411156355126,21.671671902065032,21.66079927400613,21.641769531044503,21.638092640556376,21.606315403630592,21.583943056820488,21.51193032548846,21.502259852298735,21.42426180327675,21.4094260758833,21.34416136423629,21.314134808002798,21.305323559961813,21.26969789417424,21.25791063283268,21.246960469092823,21.23611736193317,21.168256953543914,21.16656231110079,21.13535019303292,21.1290287613691,21.080074393816858,21.012067672667598,20.986646271698042,20.968716888487684,20.96142900706418,20.945754102688717,20.939411425639204,20.926735743809193,20.878593143225785,20.82957498700686,20.81959550530075,20.809118337569917,20.80779814111142,20.799680965013337],\"yaxis\":\"y\",\"type\":\"scatter\"},{\"customdata\":[[\"Ciclismo a la hora del almuerzo\",32.21930078125,160.089599609375],[\"Ciclismo por la tarde\",53.6323984375,433.38873291015625],[\"Ciclismo al anochecer\",38.82719921875,222.1921844482422],[\"Ciclismo al anochecer\",30.581099609375,190.3143615722656],[\"Entrenamiento a la hora del almuerzo\",44.5956015625,290.0],[\"Ciclismo a la hora del almuerzo\",35.64919921875,219.6205902099609],[\"Entrenamiento a la hora del almuerzo\",48.4255,445.0],[\"Entrenamiento a la hora del almuerzo\",45.66,306.0],[\"Entrenamiento a la hora del almuerzo\",29.790400390625,192.0],[\"Ciclismo por la ma\\u00f1ana\",35.00719921875,280.0],[\"Ciclismo al anochecer\",55.6026015625,463.0],[\"Ciclismo al anochecer\",32.40330078125,157.0],[\"Ciclismo al anochecer\",31.004099609375,164.0],[\"Ciclismo al anochecer\",30.962,141.0],[\"Entrenamiento a la hora del almuerzo\",52.82419921875,1579.0],[\"Ciclismo al anochecer\",30.65969921875,150.0],[\"Ciclismo al anochecer\",42.711,234.0],[\"Ciclismo al anochecer\",30.66869921875,151.0],[\"Ciclismo al anochecer\",30.77019921875,156.0],[\"Ciclismo por la ma\\u00f1ana\",51.1936015625,193.0],[\"Ciclismo al anochecer\",31.19880078125,157.0],[\"Ciclismo al anochecer\",31.000900390625,139.0],[\"Ciclismo al anochecer\",56.6575,416.0],[\"Ciclismo por la tarde\",46.05780078125,263.0],[\"Ciclismo al anochecer\",30.927099609375,144.0],[\"Ciclismo al anochecer\",54.7233984375,282.0],[\"Ciclismo al anochecer\",32.232599609375,204.0],[\"Ciclismo al anochecer\",33.67619921875,184.0],[\"Ciclismo al anochecer\",30.036599609375,169.0],[\"Ciclismo al anochecer\",42.69980078125,230.0],[\"Ciclismo por la ma\\u00f1ana\",46.3601015625,279.0],[\"Ciclismo por la ma\\u00f1ana\",50.9595,197.0],[\"Ciclismo por la ma\\u00f1ana\",54.45930078125,358.0],[\"Actividad\",32.152099609375,172.0],[\"Ciclismo al anochecer\",45.044,277.0],[\"Ciclismo al anochecer\",37.6678984375,205.0],[\"Ciclismo por la tarde\",53.0186015625,391.0],[\"Ciclismo por la ma\\u00f1ana\",36.0363984375,163.0],[\"Ciclismo al anochecer\",34.87680078125,195.0],[\"Ciclismo al anochecer\",32.76119921875,661.0],[\"Ciclismo por la ma\\u00f1ana\",56.3845,1414.0],[\"Ciclismo por la ma\\u00f1ana\",39.33530078125,1329.0],[\"Ciclismo al anochecer\",41.3451015625,1260.0],[\"Ciclismo por la tarde\",43.0446015625,776.0],[\"Entrenamiento a la hora del almuerzo\",35.3788984375,281.0],[\"Ciclismo por la tarde\",50.887,193.0],[\"Ciclismo al anochecer\",53.56730078125,409.0],[\"Ciclismo al anochecer\",31.008900390625,148.0],[\"Ciclismo por la tarde\",33.14819921875,507.0],[\"Ciclismo por la ma\\u00f1ana\",48.80869921875,577.0],[\"Ciclismo por la ma\\u00f1ana\",51.48069921875,1236.0],[\"Ciclismo por la ma\\u00f1ana\",49.2525,1358.0],[\"Ciclismo a la hora del almuerzo\",34.41230078125,161.90960693359375],[\"Ciclismo por la ma\\u00f1ana\",50.8405,758.0],[\"Ciclismo por la tarde\",35.4308984375,285.0],[\"Ciclismo por la ma\\u00f1ana\",47.81,511.0],[\"Ciclismo por la tarde\",32.40280078125,257.0],[\"Bicicleta por la tarde\",46.7696015625,490.0],[\"Bicicleta por la ma\\u00f1ana\",35.91819921875,937.0],[\"Bicicleta por la tarde\",38.0711015625,764.0],[\"Bicicleta por la ma\\u00f1ana\",50.30969921875,416.0],[\"Bicicleta a la hora del almuerzo\",39.0088984375,274.0],[\"Bicicleta por la ma\\u00f1ana\",45.8948984375,1306.0],[\"Bicicleta por la ma\\u00f1ana\",56.7711015625,370.0],[\"Bicicleta al anochecer\",31.975900390625,721.0],[\"Bicicleta por la ma\\u00f1ana\",45.6306015625,1028.66552734375],[\"Bicicleta al anochecer\",35.62980078125,335.7300109863281],[\"Bicicleta por la ma\\u00f1ana\",55.08369921875,273.6499938964844],[\"Bicicleta al anochecer\",34.3328984375,179.9199981689453],[\"Bicicleta al anochecer\",52.52069921875,420.0],[\"Bicicleta al anochecer\",43.5828984375,268.0],[\"Bicicleta al anochecer\",47.43530078125,300.0],[\"Bicicleta al anochecer\",37.0003984375,211.0],[\"Bicicleta al anochecer\",35.69780078125,210.0],[\"Bicicleta por la tarde\",31.00380078125,155.0],[\"Bicicleta por la ma\\u00f1ana\",43.36430078125,262.0],[\"Bicicleta al anochecer\",51.02180078125,421.0],[\"Bicicleta por la ma\\u00f1ana\",31.3465,1111.0],[\"Bicicleta por la ma\\u00f1ana\",38.7355,1203.0],[\"Bicicleta al anochecer\",30.604099609375,153.0],[\"Bicicleta por la tarde\",31.231099609375,1242.0],[\"Bicicleta por la ma\\u00f1ana\",55.6443515625,308.0],[\"Bicicleta por la ma\\u00f1ana\",52.575609375,396.320556640625],[\"Bicicleta por la ma\\u00f1ana\",51.50462109375,191.6266632080078],[\"Bicicleta por la ma\\u00f1ana\",53.201109375,456.0],[\"Bicicleta por la tarde\",39.91233984375,409.0],[\"Bicicleta por la tarde\",53.4072890625,410.0],[\"Bicicleta por la tarde\",36.656421875,192.0],[\"Bicicleta por la ma\\u00f1ana\",47.6435,379.0],[\"Bicicleta a la hora del almuerzo\",45.5241484375,296.0],[\"Bicicleta a la hora del almuerzo\",53.007421875,430.0],[\"Bicicleta por la tarde\",53.014421875,365.0],[\"Bicicleta por la ma\\u00f1ana\",37.24248828125,240.0],[\"Bicicleta por la tarde\",35.22501171875,269.0],[\"Bicicleta por la ma\\u00f1ana\",51.00826953125,220.0],[\"Bicicleta por la tarde\",31.702259765625,202.0],[\"Bicicleta por la ma\\u00f1ana\",30.632220703125,943.0],[\"Bicicleta por la ma\\u00f1ana\",32.2244296875,699.0],[\"Bicicleta por la ma\\u00f1ana\",31.31916015625,296.0],[\"Bicicleta por la tarde\",36.9294296875,218.0],[\"Bicicleta al anochecer\",32.079970703125,166.0],[\"Bicicleta al anochecer\",55.6470390625,414.0],[\"Bicicleta a la hora del almuerzo\",55.51246875,549.0],[\"Bicicleta por la ma\\u00f1ana\",54.0318984375,1560.0],[\"Bicicleta al anochecer\",40.08766015625,507.0],[\"Bicicleta por la tarde\",37.35826953125,601.0],[\"Bicicleta al anochecer\",43.80475,265.0],[\"Bicicleta al anochecer\",41.10048828125,327.0],[\"Bicicleta al anochecer\",34.49412109375,263.0],[\"Bicicleta a la hora del almuerzo\",30.507330078125,799.0],[\"Bicicleta al anochecer\",36.241390625,206.0],[\"Bicicleta al anochecer\",46.1795,357.0],[\"Bicicleta al anochecer\",51.84251171875,414.0],[\"Bicicleta por la tarde\",40.25337890625,246.0],[\"Bicicleta al anochecer\",33.3977109375,311.0],[\"Bicicleta al anochecer\",30.83155078125,190.0],[\"Bicicleta por la ma\\u00f1ana\",45.89155078125,251.0],[\"Bicicleta por la ma\\u00f1ana\",53.28678125,395.26666259765625],[\"Bicicleta a la hora del almuerzo\",36.4998515625,174.53500366210938],[\"Carrera de ma\\u00f1ana\",45.02212109375,287.50225830078125],[\"Bicicleta por la ma\\u00f1ana\",49.98901171875,388.336669921875],[\"Bicicleta por la ma\\u00f1ana\",49.1138203125,1060.2401123046875],[\"Bicicleta por la ma\\u00f1ana\",34.39930859375,367.8414611816406],[\"Bicicleta por la ma\\u00f1ana\",40.72021875,315.1576232910156],[\"Bicicleta al anochecer\",39.7340625,184.50582885742188],[\"Bicicleta por la ma\\u00f1ana\",49.50704296875,774.0],[\"Bicicleta al anochecer\",36.858078125,814.0],[\"Bicicleta por la tarde\",55.4427578125,1353.0],[\"Bicicleta por la tarde\",32.4074609375,162.0],[\"Bicicleta por la ma\\u00f1ana\",56.7165625,467.0],[\"Bicicleta al anochecer\",40.73880078125,921.0],[\"Bicicleta por la ma\\u00f1ana\",36.87551171875,176.75999450683594],[\"Bicicleta por la tarde\",55.57026953125,1230.0],[\"Bicicleta por la ma\\u00f1ana\",53.2650703125,418.0],[\"Bicicleta al anochecer\",37.99469921875,205.0],[\"Bicicleta por la tarde\",50.06526953125,240.0],[\"Bicicleta a la hora del almuerzo\",44.45294921875,1087.0]],\"hovertemplate\":\"Activity Name: %{customdata[0]}\\u003cbr\\u003eActivity date: %{x|%Y-%m-%d}\\u003cbr\\u003eDistance (km): %{customdata[1]:.1f}\\u003cbr\\u003eAverage speed (km\\u002fhr): %{y:.1f}\\u003cbr\\u003eElevation gain: %{customdata[2]:.1f}\",\"legendgroup\":\"\",\"marker\":{\"color\":[32.21930078125,53.6323984375,38.82719921875,30.581099609375,44.5956015625,35.64919921875,48.4255,45.66,29.790400390625,35.00719921875,55.6026015625,32.40330078125,31.004099609375,30.962,52.82419921875,30.65969921875,42.711,30.66869921875,30.77019921875,51.1936015625,31.19880078125,31.000900390625,56.6575,46.05780078125,30.927099609375,54.7233984375,32.232599609375,33.67619921875,30.036599609375,42.69980078125,46.3601015625,50.9595,54.45930078125,32.152099609375,45.044,37.6678984375,53.0186015625,36.0363984375,34.87680078125,32.76119921875,56.3845,39.33530078125,41.3451015625,43.0446015625,35.3788984375,50.887,53.56730078125,31.008900390625,33.14819921875,48.80869921875,51.48069921875,49.2525,34.41230078125,50.8405,35.4308984375,47.81,32.40280078125,46.7696015625,35.91819921875,38.0711015625,50.30969921875,39.0088984375,45.8948984375,56.7711015625,31.975900390625,45.6306015625,35.62980078125,55.08369921875,34.3328984375,52.52069921875,43.5828984375,47.43530078125,37.0003984375,35.69780078125,31.00380078125,43.36430078125,51.02180078125,31.3465,38.7355,30.604099609375,31.231099609375,55.6443515625,52.575609375,51.50462109375,53.201109375,39.91233984375,53.4072890625,36.656421875,47.6435,45.5241484375,53.007421875,53.014421875,37.24248828125,35.22501171875,51.00826953125,31.702259765625,30.632220703125,32.2244296875,31.31916015625,36.9294296875,32.079970703125,55.6470390625,55.51246875,54.0318984375,40.08766015625,37.35826953125,43.80475,41.10048828125,34.49412109375,30.507330078125,36.241390625,46.1795,51.84251171875,40.25337890625,33.3977109375,30.83155078125,45.89155078125,53.28678125,36.4998515625,45.02212109375,49.98901171875,49.1138203125,34.39930859375,40.72021875,39.7340625,49.50704296875,36.858078125,55.4427578125,32.4074609375,56.7165625,40.73880078125,36.87551171875,55.57026953125,53.2650703125,37.99469921875,50.06526953125,44.45294921875],\"coloraxis\":\"coloraxis\",\"symbol\":\"circle\"},\"mode\":\"markers\",\"name\":\"\",\"orientation\":\"v\",\"showlegend\":false,\"x\":[\"2018-09-10T09:44:29\",\"2018-09-14T15:54:16\",\"2018-09-23T16:27:56\",\"2018-09-29T17:00:38\",\"2019-01-31T11:01:02\",\"2019-03-31T09:10:27\",\"2019-05-19T09:00:27\",\"2019-03-03T10:29:08\",\"2019-02-09T10:14:33\",\"2019-06-01T07:55:05\",\"2019-06-21T16:34:11\",\"2019-07-07T17:38:56\",\"2019-06-23T16:40:57\",\"2019-08-06T16:12:44\",\"2019-08-10T09:15:44\",\"2019-08-12T17:46:43\",\"2019-08-18T17:05:22\",\"2019-09-21T16:24:33\",\"2020-05-13T16:09:15\",\"2019-10-19T08:43:29\",\"2020-05-18T16:28:32\",\"2020-05-22T17:51:43\",\"2020-05-25T16:32:34\",\"2020-07-05T13:51:38\",\"2020-07-02T16:31:52\",\"2020-06-15T16:37:09\",\"2020-07-11T17:13:54\",\"2020-07-09T17:24:01\",\"2020-07-07T18:14:50\",\"2020-07-14T17:10:28\",\"2020-07-25T08:29:11\",\"2020-08-03T07:10:15\",\"2020-08-04T07:19:02\",\"2020-08-17T17:45:55\",\"2020-08-14T16:53:38\",\"2020-08-12T17:47:51\",\"2020-08-19T15:56:13\",\"2020-08-23T08:44:13\",\"2020-08-25T17:08:04\",\"2020-09-02T16:10:10\",\"2020-09-05T08:11:04\",\"2020-09-06T07:08:23\",\"2020-09-15T16:01:44\",\"2020-09-17T15:32:00\",\"2020-09-19T09:40:42\",\"2020-09-20T14:51:27\",\"2020-09-22T16:16:19\",\"2020-09-29T16:18:03\",\"2020-10-17T15:50:36\",\"2020-10-24T08:11:27\",\"2020-11-01T09:12:53\",\"2020-11-08T09:09:23\",\"2020-12-06T10:35:52\",\"2020-12-29T08:50:07\",\"2021-01-06T15:09:36\",\"2021-01-16T09:23:39\",\"2021-02-02T15:22:21\",\"2021-03-09T15:40:51\",\"2021-03-06T09:59:51\",\"2021-03-17T15:47:00\",\"2021-03-28T08:36:02\",\"2021-04-02T10:00:59\",\"2021-04-03T08:07:20\",\"2021-04-05T07:06:32\",\"2021-04-13T16:16:23\",\"2021-04-25T07:55:08\",\"2021-04-30T16:22:18\",\"2021-05-01T07:24:08\",\"2021-05-04T17:11:52\",\"2021-05-31T16:50:37\",\"2021-06-03T17:10:37\",\"2021-06-06T16:28:15\",\"2021-06-07T17:12:38\",\"2021-07-07T16:59:09\",\"2021-07-21T15:20:46\",\"2021-07-24T08:52:03\",\"2021-08-10T16:51:41\",\"2021-08-15T08:50:07\",\"2021-08-22T08:38:16\",\"2021-08-24T16:33:29\",\"2021-10-09T13:07:15\",\"2021-11-06T09:05:10\",\"2021-11-13T09:14:59\",\"2021-11-21T09:32:29\",\"2021-12-04T09:24:42\",\"2021-12-13T15:06:25\",\"2022-01-29T14:45:46\",\"2022-01-30T15:05:49\",\"2022-02-05T09:36:49\",\"2022-02-13T10:02:13\",\"2022-02-20T10:02:52\",\"2022-03-05T14:31:24\",\"2022-03-06T09:19:43\",\"2022-03-09T16:16:55\",\"2022-03-12T09:36:44\",\"2022-03-27T14:02:22\",\"2022-04-16T07:30:15\",\"2022-04-15T07:13:57\",\"2022-04-23T08:22:25\",\"2022-04-21T15:59:01\",\"2022-05-03T16:02:46\",\"2022-05-19T16:25:05\",\"2022-05-21T09:22:53\",\"2022-06-12T07:39:05\",\"2022-06-23T16:34:26\",\"2022-06-20T14:03:45\",\"2022-07-07T16:34:33\",\"2022-08-22T16:37:27\",\"2022-08-17T16:35:54\",\"2022-07-21T09:41:29\",\"2022-08-31T16:59:57\",\"2022-08-26T16:34:38\",\"2022-09-06T16:27:35\",\"2022-09-20T15:59:41\",\"2022-09-17T16:25:18\",\"2022-09-11T16:27:13\",\"2022-10-01T08:14:08\",\"2022-10-16T08:54:17\",\"2022-11-19T10:12:09\",\"2022-12-04T09:20:02\",\"2023-01-02T09:17:15\",\"2023-01-15T09:58:26\",\"2023-02-12T09:16:33\",\"2023-04-02T07:05:02\",\"2023-04-04T16:34:37\",\"2023-04-23T08:59:21\",\"2023-04-26T16:11:46\",\"2023-05-03T15:46:05\",\"2023-05-14T13:00:58\",\"2023-05-20T08:51:05\",\"2023-05-29T16:05:55\",\"2023-06-10T08:01:09\",\"2023-06-26T15:03:15\",\"2023-07-01T08:35:01\",\"2023-07-04T16:52:58\",\"2023-07-24T15:07:07\",\"2023-08-13T09:34:26\"],\"xaxis\":\"x2\",\"y\":[26.89923070790816,27.20922130425592,24.94252626472163,28.722138949582572,23.805481261121,16.153192849276273,22.905242412297987,24.475282906491955,23.57560813502968,23.50352800960463,25.22295433782762,24.909648262331842,22.430618688454583,26.633978494623655,15.99925266595154,26.001158348056535,26.999051799824407,30.157693850723845,29.634220756420547,27.41290578982597,29.839448143597238,30.434480885260427,27.746837165011563,28.22265239361702,27.88318522257701,26.712438559322035,27.907012648809523,25.474746204559782,26.451017268529842,30.08205143101761,26.733359863046612,27.054151305117237,24.92416511727689,26.30626331676136,25.78854961832061,27.472535327188005,28.52166252615063,20.88057852486721,24.503607106264635,19.725759690165578,18.952773109243697,15.66970043294235,18.528864138553466,22.22931654353751,24.26906142816311,26.751343457943925,26.0175772817728,33.41276306682131,24.8352793314256,18.21031373069748,19.582683557428147,18.494732450192966,18.130291645324164,17.46929464541376,24.690521559233446,23.83547985043623,27.356961259967168,25.93108973124904,18.879473965177397,21.604029890447666,26.195388658880532,28.17657190509631,17.44684629091869,24.769841913101445,18.797067505919333,19.710843007559394,23.03237256464356,23.556820763542408,25.46321268541409,24.635116245928337,25.47466055772041,25.34388287511131,23.315497002450552,24.948958029994177,31.7445059193686,26.667489376921765,24.267206079072533,14.774469756480753,17.19454993834772,27.647367275721454,13.097851653512349,26.192424898666317,24.12339966224828,26.571601596087707,22.90135044242497,27.223270829386127,26.23004646998636,24.023870152921898,23.146639676113363,25.599333704311153,23.526904050055478,27.33484943425952,24.20089491200361,24.1819302417048,25.603704728457892,26.116278067791765,12.197322700060834,14.192310603743577,18.63311461948438,23.50945125994695,25.155280882433022,23.501799697911775,26.448502845420858,17.468777222721148,18.120991532207437,22.91918376150307,25.398147849895313,18.75069798663034,16.519733395969137,14.637663372151142,26.528874796665313,24.868541510845173,26.815092268318967,27.44028859354289,18.389684823340474,27.46006502041069,16.052233075446946,28.907837929475587,23.08493774156711,22.102773208441295,22.57972925815558,19.795091035042542,19.217490834497205,23.686021570528357,24.020591939546602,21.779952913051446,21.322365619476138,20.963546699401324,34.103145096463024,26.662264951684516,20.749813640704584,24.34473540940766,20.24622713414634,31.189696344339623,25.619201570987077,28.87455467999039,20.383469263469625],\"yaxis\":\"y2\",\"type\":\"scatter\"},{\"hovertemplate\":\"Activity Name: %{customdata[0]}\\u003cbr\\u003eActivity date: %{x|%Y-%m-%d}\\u003cbr\\u003eDistance (km): %{customdata[1]:.1f}\\u003cbr\\u003eAverage speed (km\\u002fhr): %{y:.1f}\\u003cbr\\u003eElevation gain: %{customdata[2]:.1f}\",\"legendgroup\":\"\",\"line\":{\"color\":\"black\"},\"marker\":{\"symbol\":\"circle\"},\"mode\":\"lines\",\"name\":\"\",\"showlegend\":false,\"x\":[\"2018-09-10T09:44:29\",\"2018-09-14T15:54:16\",\"2018-09-23T16:27:56\",\"2018-09-29T17:00:38\",\"2019-01-31T11:01:02\",\"2019-02-09T10:14:33\",\"2019-03-03T10:29:08\",\"2019-03-31T09:10:27\",\"2019-05-19T09:00:27\",\"2019-06-01T07:55:05\",\"2019-06-21T16:34:11\",\"2019-06-23T16:40:57\",\"2019-07-07T17:38:56\",\"2019-08-06T16:12:44\",\"2019-08-10T09:15:44\",\"2019-08-12T17:46:43\",\"2019-08-18T17:05:22\",\"2019-09-21T16:24:33\",\"2019-10-19T08:43:29\",\"2020-05-13T16:09:15\",\"2020-05-18T16:28:32\",\"2020-05-22T17:51:43\",\"2020-05-25T16:32:34\",\"2020-06-15T16:37:09\",\"2020-07-02T16:31:52\",\"2020-07-05T13:51:38\",\"2020-07-07T18:14:50\",\"2020-07-09T17:24:01\",\"2020-07-11T17:13:54\",\"2020-07-14T17:10:28\",\"2020-07-25T08:29:11\",\"2020-08-03T07:10:15\",\"2020-08-04T07:19:02\",\"2020-08-12T17:47:51\",\"2020-08-14T16:53:38\",\"2020-08-17T17:45:55\",\"2020-08-19T15:56:13\",\"2020-08-23T08:44:13\",\"2020-08-25T17:08:04\",\"2020-09-02T16:10:10\",\"2020-09-05T08:11:04\",\"2020-09-06T07:08:23\",\"2020-09-15T16:01:44\",\"2020-09-17T15:32:00\",\"2020-09-19T09:40:42\",\"2020-09-20T14:51:27\",\"2020-09-22T16:16:19\",\"2020-09-29T16:18:03\",\"2020-10-17T15:50:36\",\"2020-10-24T08:11:27\",\"2020-11-01T09:12:53\",\"2020-11-08T09:09:23\",\"2020-12-06T10:35:52\",\"2020-12-29T08:50:07\",\"2021-01-06T15:09:36\",\"2021-01-16T09:23:39\",\"2021-02-02T15:22:21\",\"2021-03-06T09:59:51\",\"2021-03-09T15:40:51\",\"2021-03-17T15:47:00\",\"2021-03-28T08:36:02\",\"2021-04-02T10:00:59\",\"2021-04-03T08:07:20\",\"2021-04-05T07:06:32\",\"2021-04-13T16:16:23\",\"2021-04-25T07:55:08\",\"2021-04-30T16:22:18\",\"2021-05-01T07:24:08\",\"2021-05-04T17:11:52\",\"2021-05-31T16:50:37\",\"2021-06-03T17:10:37\",\"2021-06-06T16:28:15\",\"2021-06-07T17:12:38\",\"2021-07-07T16:59:09\",\"2021-07-21T15:20:46\",\"2021-07-24T08:52:03\",\"2021-08-10T16:51:41\",\"2021-08-15T08:50:07\",\"2021-08-22T08:38:16\",\"2021-08-24T16:33:29\",\"2021-10-09T13:07:15\",\"2021-11-06T09:05:10\",\"2021-11-13T09:14:59\",\"2021-11-21T09:32:29\",\"2021-12-04T09:24:42\",\"2021-12-13T15:06:25\",\"2022-01-29T14:45:46\",\"2022-01-30T15:05:49\",\"2022-02-05T09:36:49\",\"2022-02-13T10:02:13\",\"2022-02-20T10:02:52\",\"2022-03-05T14:31:24\",\"2022-03-06T09:19:43\",\"2022-03-09T16:16:55\",\"2022-03-12T09:36:44\",\"2022-03-27T14:02:22\",\"2022-04-15T07:13:57\",\"2022-04-16T07:30:15\",\"2022-04-21T15:59:01\",\"2022-04-23T08:22:25\",\"2022-05-03T16:02:46\",\"2022-05-19T16:25:05\",\"2022-05-21T09:22:53\",\"2022-06-12T07:39:05\",\"2022-06-20T14:03:45\",\"2022-06-23T16:34:26\",\"2022-07-07T16:34:33\",\"2022-07-21T09:41:29\",\"2022-08-17T16:35:54\",\"2022-08-22T16:37:27\",\"2022-08-26T16:34:38\",\"2022-08-31T16:59:57\",\"2022-09-06T16:27:35\",\"2022-09-11T16:27:13\",\"2022-09-17T16:25:18\",\"2022-09-20T15:59:41\",\"2022-10-01T08:14:08\",\"2022-10-16T08:54:17\",\"2022-11-19T10:12:09\",\"2022-12-04T09:20:02\",\"2023-01-02T09:17:15\",\"2023-01-15T09:58:26\",\"2023-02-12T09:16:33\",\"2023-04-02T07:05:02\",\"2023-04-04T16:34:37\",\"2023-04-23T08:59:21\",\"2023-04-26T16:11:46\",\"2023-05-03T15:46:05\",\"2023-05-14T13:00:58\",\"2023-05-20T08:51:05\",\"2023-05-29T16:05:55\",\"2023-06-10T08:01:09\",\"2023-06-26T15:03:15\",\"2023-07-01T08:35:01\",\"2023-07-04T16:52:58\",\"2023-07-24T15:07:07\",\"2023-08-13T09:34:26\"],\"xaxis\":\"x2\",\"y\":[25.284099980162562,25.277845449685483,25.264587349071437,25.255738151062502,25.07391119695692,25.06073487747452,25.028395278073255,24.98733501087577,24.91534924871054,24.896314975168192,24.86639920253178,24.863453687312884,24.84282424805429,24.798833039651182,24.793381304325187,24.789921311132566,24.78114767011425,24.731232933094397,24.69056283110867,24.385961770308395,24.37859556743048,24.37263346954641,24.368306314061247,24.337446223591794,24.312473422273182,24.308229000247252,24.30502183302347,24.3021350730156,24.299206784722543,24.294802371661778,24.279171903984338,24.26602869489148,24.2645504273867,24.252154370304407,24.249271079489898,24.24480981587328,24.24198313753272,24.23654670747154,24.233093992782628,24.221398627729275,24.217479561621545,24.216074215200667,24.202306262204036,24.199397989796182,24.196817828254193,24.1950314487629,24.192006244131882,24.18171933756992,24.155299848609587,24.145483204811892,24.133666077874036,24.123384511148906,24.082155715979997,24.04846959339228,24.03632794382286,24.021987880027563,23.996643687955366,23.949954977646712,23.945199121694166,23.933438403160068,23.91771578078261,23.910282574856524,23.908929232324308,23.906052658820464,23.893737175454483,23.876616961323656,23.86875294620481,23.86783275967262,23.862825149119768,23.823175585185847,23.818747261900274,23.81438257450462,23.812867982504688,23.768802577578942,23.748332687203085,23.744321398371937,23.718853811853656,23.71199865176781,23.701725604973426,23.698302106334456,23.630924487310487,23.590030945464356,23.579735791065243,23.567963491547435,23.548870462794056,23.535298043058322,23.466261758474992,23.464771995015752,23.45629185795898,23.444511497668373,23.434225696486646,23.41485072774958,23.41369944872458,23.40886584202679,23.4048662532203,23.382555632657215,23.355055557989466,23.35356962084643,23.345703973166007,23.343231254583,23.328068481786513,23.30453682420259,23.302029005545613,23.26981019869541,23.257663260306707,23.253101594152923,23.232531199204804,23.212382396278848,23.172288299431393,23.164940190777656,23.15906584307851,23.151693484082973,23.14291067691162,23.13556452393061,23.12675064707169,23.122368868796997,23.106681533557857,23.0846009851366,23.034565149460384,23.012578745423568,22.969971728164197,22.950828736224132,22.90973092011031,22.837869147595907,22.834349361835418,22.806897090611432,22.802047957572782,22.791789025633722,22.775795142946254,22.767234279120522,22.753566847702007,22.736429814785737,22.71249023788288,22.705539845038203,22.700623844998177,22.67134574071138,22.64229908604024],\"yaxis\":\"y2\",\"type\":\"scatter\"},{\"customdata\":[[\"Ciclismo por la ma\\u00f1ana\",67.340703125,542.0],[\"Entrenamiento a la hora del almuerzo\",60.2775,1584.0],[\"Ciclismo por la ma\\u00f1ana\",67.855296875,1746.0],[\"Ciclismo por la ma\\u00f1ana\",58.6798984375,534.0],[\"Ciclismo por la ma\\u00f1ana\",71.770703125,1377.0],[\"Ciclismo por la ma\\u00f1ana\",74.7453984375,581.0],[\"Ciclismo por la ma\\u00f1ana\",73.25,536.0],[\"Ciclismo por la ma\\u00f1ana\",64.75969921875,746.0],[\"Ciclismo por la ma\\u00f1ana\",65.3668984375,1551.408203125],[\"Ciclismo por la ma\\u00f1ana\",63.3905,1100.0],[\"Ciclismo por la ma\\u00f1ana\",69.416703125,573.0],[\"Bicicleta por la ma\\u00f1ana\",67.7093984375,575.0],[\"Bicicleta por la ma\\u00f1ana\",74.258296875,437.73779296875],[\"Bicicleta por la ma\\u00f1ana\",73.5313984375,1187.0],[\"Bicicleta por la tarde\",73.558,1243.0],[\"Bicicleta por la ma\\u00f1ana\",71.1341015625,565.0],[\"Bicicleta por la ma\\u00f1ana\",60.87530078125,1100.0],[\"Bicicleta por la tarde\",59.0083984375,306.0],[\"Bicicleta por la tarde\",60.3531015625,1243.0],[\"Bicicleta a la hora del almuerzo\",58.4398984375,1489.0],[\"Bicicleta por la ma\\u00f1ana\",83.199296875,1824.0],[\"Bicicleta por la ma\\u00f1ana\",61.352,1476.0],[\"Bicicleta por la ma\\u00f1ana\",60.3568984375,2117.0],[\"Bicicleta por la ma\\u00f1ana\",58.254,487.8233337402344],[\"Bicicleta por la ma\\u00f1ana\",63.0083203125,564.0],[\"Bicicleta por la ma\\u00f1ana\",77.4442890625,2203.0],[\"Bicicleta por la ma\\u00f1ana\",70.00478125,387.0],[\"Bicicleta por la ma\\u00f1ana\",73.8341015625,425.0],[\"Bicicleta por la ma\\u00f1ana\",74.2136796875,583.0],[\"Bicicleta por la ma\\u00f1ana\",62.43001171875,1529.0],[\"Bicicleta por la ma\\u00f1ana\",69.504109375,392.0],[\"Bicicleta por la ma\\u00f1ana\",81.0296328125,551.0],[\"Bicicleta por la ma\\u00f1ana\",82.007,1634.0],[\"Bicicleta por la ma\\u00f1ana\",61.9149296875,1039.22607421875],[\"Bicicleta por la ma\\u00f1ana\",61.34462890625,835.37939453125],[\"Bicicleta por la ma\\u00f1ana\",73.076,1457.8424072265625],[\"Bicicleta por la ma\\u00f1ana\",63.25069140625,791.0],[\"Bicicleta por la ma\\u00f1ana\",75.441765625,1516.0],[\"Bicicleta por la ma\\u00f1ana\",66.4242265625,1425.0]],\"hovertemplate\":\"Activity Name: %{customdata[0]}\\u003cbr\\u003eActivity date: %{x|%Y-%m-%d}\\u003cbr\\u003eDistance (km): %{customdata[1]:.1f}\\u003cbr\\u003eAverage speed (km\\u002fhr): %{y:.1f}\\u003cbr\\u003eElevation gain: %{customdata[2]:.1f}\",\"legendgroup\":\"\",\"marker\":{\"color\":[67.340703125,60.2775,67.855296875,58.6798984375,71.770703125,74.7453984375,73.25,64.75969921875,65.3668984375,63.3905,69.416703125,67.7093984375,74.258296875,73.5313984375,73.558,71.1341015625,60.87530078125,59.0083984375,60.3531015625,58.4398984375,83.199296875,61.352,60.3568984375,58.254,63.0083203125,77.4442890625,70.00478125,73.8341015625,74.2136796875,62.43001171875,69.504109375,81.0296328125,82.007,61.9149296875,61.34462890625,73.076,63.25069140625,75.441765625,66.4242265625],\"coloraxis\":\"coloraxis\",\"symbol\":\"circle\"},\"mode\":\"markers\",\"name\":\"\",\"orientation\":\"v\",\"showlegend\":false,\"x\":[\"2019-05-26T08:58:36\",\"2019-07-14T09:54:30\",\"2019-08-25T08:06:33\",\"2020-08-21T08:22:20\",\"2020-08-29T07:23:09\",\"2020-10-03T08:25:13\",\"2020-10-10T07:01:46\",\"2020-10-18T08:18:43\",\"2020-11-14T09:04:17\",\"2020-11-28T09:06:30\",\"2021-01-30T09:17:11\",\"2021-04-10T07:51:51\",\"2021-05-02T07:35:41\",\"2021-05-09T08:03:57\",\"2021-05-19T14:04:05\",\"2021-05-29T07:13:17\",\"2021-06-26T08:18:16\",\"2021-06-30T15:38:50\",\"2021-08-05T14:27:28\",\"2021-08-21T09:18:29\",\"2021-09-18T07:57:21\",\"2021-09-25T07:03:24\",\"2021-10-10T08:33:03\",\"2021-10-16T08:08:27\",\"2021-10-24T07:53:42\",\"2022-04-30T07:55:23\",\"2022-05-07T08:30:19\",\"2022-05-15T07:15:04\",\"2022-05-22T08:03:07\",\"2022-06-04T07:44:28\",\"2022-05-29T07:45:22\",\"2022-07-10T07:19:56\",\"2022-10-12T07:27:32\",\"2023-03-18T09:00:10\",\"2023-03-25T06:27:06\",\"2023-04-09T06:30:27\",\"2023-05-20T05:36:32\",\"2023-08-10T08:56:44\",\"2023-08-12T08:01:28\"],\"xaxis\":\"x3\",\"y\":[22.731039029535868,17.743172526574,17.189435560481318,24.730465274525873,21.488234468562876,23.74754517474186,28.619492077273716,24.62085935024818,19.340908553875238,21.470110076206605,24.12163429054054,19.622752727016586,25.58180562200957,22.706556388317036,21.702081625962958,25.61083764626463,20.700017267639556,26.431533454647255,19.805940348678213,21.302514618772783,18.535643836252245,24.043892880470278,15.847482632557801,24.844734036251626,22.935283430232555,18.553233554601718,26.325834377937948,25.11838646994897,24.47053003068328,20.346554606871265,23.360544650359444,24.45357348688071,20.019339526683396,21.88236274052621,21.33107930672269,24.86048006048006,26.178717988330646,21.58048122765197,22.354605555295876],\"yaxis\":\"y3\",\"type\":\"scatter\"},{\"hovertemplate\":\"Activity Name: %{customdata[0]}\\u003cbr\\u003eActivity date: %{x|%Y-%m-%d}\\u003cbr\\u003eDistance (km): %{customdata[1]:.1f}\\u003cbr\\u003eAverage speed (km\\u002fhr): %{y:.1f}\\u003cbr\\u003eElevation gain: %{customdata[2]:.1f}\",\"legendgroup\":\"\",\"line\":{\"color\":\"black\"},\"marker\":{\"symbol\":\"circle\"},\"mode\":\"lines\",\"name\":\"\",\"showlegend\":false,\"x\":[\"2019-05-26T08:58:36\",\"2019-07-14T09:54:30\",\"2019-08-25T08:06:33\",\"2020-08-21T08:22:20\",\"2020-08-29T07:23:09\",\"2020-10-03T08:25:13\",\"2020-10-10T07:01:46\",\"2020-10-18T08:18:43\",\"2020-11-14T09:04:17\",\"2020-11-28T09:06:30\",\"2021-01-30T09:17:11\",\"2021-04-10T07:51:51\",\"2021-05-02T07:35:41\",\"2021-05-09T08:03:57\",\"2021-05-19T14:04:05\",\"2021-05-29T07:13:17\",\"2021-06-26T08:18:16\",\"2021-06-30T15:38:50\",\"2021-08-05T14:27:28\",\"2021-08-21T09:18:29\",\"2021-09-18T07:57:21\",\"2021-09-25T07:03:24\",\"2021-10-10T08:33:03\",\"2021-10-16T08:08:27\",\"2021-10-24T07:53:42\",\"2022-04-30T07:55:23\",\"2022-05-07T08:30:19\",\"2022-05-15T07:15:04\",\"2022-05-22T08:03:07\",\"2022-05-29T07:45:22\",\"2022-06-04T07:44:28\",\"2022-07-10T07:19:56\",\"2022-10-12T07:27:32\",\"2023-03-18T09:00:10\",\"2023-03-25T06:27:06\",\"2023-04-09T06:30:27\",\"2023-05-20T05:36:32\",\"2023-08-10T08:56:44\",\"2023-08-12T08:01:28\"],\"xaxis\":\"x3\",\"y\":[21.487070157315213,21.544103692317517,21.592863694340235,22.013892687885537,22.023149114391657,22.063905233700794,22.07197903272236,22.081345408478317,22.112783974990503,22.12906816155447,22.20234757318379,22.28369063425897,22.309264199797664,22.317428227739615,22.329349375542098,22.340647872450784,22.373265149303577,22.378273089951755,22.420084468992993,22.4384433688257,22.470942633304183,22.479040258252812,22.49655808939938,22.503516390822412,22.512808704289853,22.731459384976137,22.739628797308384,22.748872247433887,22.75705225355404,22.765179115741976,22.77215655867251,22.814005763055576,22.92333656182438,23.10600682163528,23.114024394161184,23.131472524375372,23.179113138577566,23.274643152735564,23.276924572747753],\"yaxis\":\"y3\",\"type\":\"scatter\"},{\"customdata\":[[\"Ciclismo por la ma\\u00f1ana\",87.3881015625,546.0],[\"Ciclismo por la ma\\u00f1ana\",98.7153984375,2120.0],[\"Ciclismo por la tarde\",103.180796875,448.0],[\"Ciclismo por la ma\\u00f1ana\",103.504703125,2254.0],[\"Ciclismo por la ma\\u00f1ana\",108.461203125,1285.653564453125],[\"Ciclismo por la ma\\u00f1ana\",114.0403984375,980.0],[\"Bicicleta por la ma\\u00f1ana\",107.265296875,959.0],[\"Bicicleta por la tarde\",91.1555,1169.0],[\"Bicicleta por la ma\\u00f1ana\",98.8685,793.0],[\"Bicicleta por la ma\\u00f1ana\",108.196828125,2826.0],[\"Bicicleta por la ma\\u00f1ana\",108.8397578125,1348.0],[\"Bicicleta por la ma\\u00f1ana\",115.0466796875,1940.0],[\"Bicicleta por la ma\\u00f1ana\",101.607359375,688.0],[\"Bicicleta por la tarde\",95.635765625,1154.0],[\"Bicicleta por la ma\\u00f1ana\",100.07021875,2136.0]],\"hovertemplate\":\"Activity Name: %{customdata[0]}\\u003cbr\\u003eActivity date: %{x|%Y-%m-%d}\\u003cbr\\u003eDistance (km): %{customdata[1]:.1f}\\u003cbr\\u003eAverage speed (km\\u002fhr): %{y:.1f}\\u003cbr\\u003eElevation gain: %{customdata[2]:.1f}\",\"legendgroup\":\"\",\"marker\":{\"color\":[87.3881015625,98.7153984375,103.180796875,103.504703125,108.461203125,114.0403984375,107.265296875,91.1555,98.8685,108.196828125,108.8397578125,115.0466796875,101.607359375,95.635765625,100.07021875],\"coloraxis\":\"coloraxis\",\"symbol\":\"circle\"},\"mode\":\"markers\",\"name\":\"\",\"orientation\":\"v\",\"showlegend\":false,\"x\":[\"2019-09-01T06:28:57\",\"2019-09-08T05:03:13\",\"2020-08-27T14:09:38\",\"2020-09-26T07:14:56\",\"2020-12-10T07:51:48\",\"2021-02-20T08:53:47\",\"2021-03-20T08:30:40\",\"2021-05-12T13:55:44\",\"2021-09-11T06:04:41\",\"2022-06-19T08:19:31\",\"2022-08-15T06:18:48\",\"2023-04-22T06:00:42\",\"2023-05-07T07:50:44\",\"2023-07-29T11:39:03\",\"2023-08-11T08:16:33\"],\"xaxis\":\"x4\",\"y\":[25.41172581785137,20.78340454851161,28.129562192351383,21.166605956032722,20.35874296105115,23.944093921322757,23.99372864110849,24.234532161583342,25.350897435897437,19.455001311123322,24.542632516442218,23.476252515304385,30.00709546759639,25.890265923447135,20.025168843802113],\"yaxis\":\"y4\",\"type\":\"scatter\"},{\"hovertemplate\":\"Activity Name: %{customdata[0]}\\u003cbr\\u003eActivity date: %{x|%Y-%m-%d}\\u003cbr\\u003eDistance (km): %{customdata[1]:.1f}\\u003cbr\\u003eAverage speed (km\\u002fhr): %{y:.1f}\\u003cbr\\u003eElevation gain: %{customdata[2]:.1f}\",\"legendgroup\":\"\",\"line\":{\"color\":\"black\"},\"marker\":{\"symbol\":\"circle\"},\"mode\":\"lines\",\"name\":\"\",\"showlegend\":false,\"x\":[\"2019-09-01T06:28:57\",\"2019-09-08T05:03:13\",\"2020-08-27T14:09:38\",\"2020-09-26T07:14:56\",\"2020-12-10T07:51:48\",\"2021-02-20T08:53:47\",\"2021-03-20T08:30:40\",\"2021-05-12T13:55:44\",\"2021-09-11T06:04:41\",\"2022-06-19T08:19:31\",\"2022-08-15T06:18:48\",\"2023-04-22T06:00:42\",\"2023-05-07T07:50:44\",\"2023-07-29T11:39:03\",\"2023-08-11T08:16:33\"],\"xaxis\":\"x4\",\"y\":[23.223128402249564,23.228287422554324,23.49170656605313,23.513792251657392,23.569560664426966,23.623112067078413,23.64391323701603,23.683477265911886,23.773919772678312,23.982863725613527,24.02517094243919,24.210992873490888,24.222199548929837,24.28401338857897,24.293572084747446],\"yaxis\":\"y4\",\"type\":\"scatter\"}],                        {\"template\":{\"data\":{\"barpolar\":[{\"marker\":{\"line\":{\"color\":\"rgb(234,234,242)\",\"width\":0.5},\"pattern\":{\"fillmode\":\"overlay\",\"size\":10,\"solidity\":0.2}},\"type\":\"barpolar\"}],\"bar\":[{\"error_x\":{\"color\":\"rgb(36,36,36)\"},\"error_y\":{\"color\":\"rgb(36,36,36)\"},\"marker\":{\"line\":{\"color\":\"rgb(234,234,242)\",\"width\":0.5},\"pattern\":{\"fillmode\":\"overlay\",\"size\":10,\"solidity\":0.2}},\"type\":\"bar\"}],\"carpet\":[{\"aaxis\":{\"endlinecolor\":\"rgb(36,36,36)\",\"gridcolor\":\"white\",\"linecolor\":\"white\",\"minorgridcolor\":\"white\",\"startlinecolor\":\"rgb(36,36,36)\"},\"baxis\":{\"endlinecolor\":\"rgb(36,36,36)\",\"gridcolor\":\"white\",\"linecolor\":\"white\",\"minorgridcolor\":\"white\",\"startlinecolor\":\"rgb(36,36,36)\"},\"type\":\"carpet\"}],\"choropleth\":[{\"colorbar\":{\"outlinewidth\":0,\"tickcolor\":\"rgb(36,36,36)\",\"ticklen\":8,\"ticks\":\"outside\",\"tickwidth\":2},\"type\":\"choropleth\"}],\"contourcarpet\":[{\"colorbar\":{\"outlinewidth\":0,\"tickcolor\":\"rgb(36,36,36)\",\"ticklen\":8,\"ticks\":\"outside\",\"tickwidth\":2},\"type\":\"contourcarpet\"}],\"contour\":[{\"colorbar\":{\"outlinewidth\":0,\"tickcolor\":\"rgb(36,36,36)\",\"ticklen\":8,\"ticks\":\"outside\",\"tickwidth\":2},\"colorscale\":[[0.0,\"rgb(2,4,25)\"],[0.06274509803921569,\"rgb(24,15,41)\"],[0.12549019607843137,\"rgb(47,23,57)\"],[0.18823529411764706,\"rgb(71,28,72)\"],[0.25098039215686274,\"rgb(97,30,82)\"],[0.3137254901960784,\"rgb(123,30,89)\"],[0.3764705882352941,\"rgb(150,27,91)\"],[0.4392156862745098,\"rgb(177,22,88)\"],[0.5019607843137255,\"rgb(203,26,79)\"],[0.5647058823529412,\"rgb(223,47,67)\"],[0.6274509803921569,\"rgb(236,76,61)\"],[0.6901960784313725,\"rgb(242,107,73)\"],[0.7529411764705882,\"rgb(244,135,95)\"],[0.8156862745098039,\"rgb(245,162,122)\"],[0.8784313725490196,\"rgb(246,188,153)\"],[0.9411764705882353,\"rgb(247,212,187)\"],[1.0,\"rgb(250,234,220)\"]],\"type\":\"contour\"}],\"heatmapgl\":[{\"colorbar\":{\"outlinewidth\":0,\"tickcolor\":\"rgb(36,36,36)\",\"ticklen\":8,\"ticks\":\"outside\",\"tickwidth\":2},\"colorscale\":[[0.0,\"rgb(2,4,25)\"],[0.06274509803921569,\"rgb(24,15,41)\"],[0.12549019607843137,\"rgb(47,23,57)\"],[0.18823529411764706,\"rgb(71,28,72)\"],[0.25098039215686274,\"rgb(97,30,82)\"],[0.3137254901960784,\"rgb(123,30,89)\"],[0.3764705882352941,\"rgb(150,27,91)\"],[0.4392156862745098,\"rgb(177,22,88)\"],[0.5019607843137255,\"rgb(203,26,79)\"],[0.5647058823529412,\"rgb(223,47,67)\"],[0.6274509803921569,\"rgb(236,76,61)\"],[0.6901960784313725,\"rgb(242,107,73)\"],[0.7529411764705882,\"rgb(244,135,95)\"],[0.8156862745098039,\"rgb(245,162,122)\"],[0.8784313725490196,\"rgb(246,188,153)\"],[0.9411764705882353,\"rgb(247,212,187)\"],[1.0,\"rgb(250,234,220)\"]],\"type\":\"heatmapgl\"}],\"heatmap\":[{\"colorbar\":{\"outlinewidth\":0,\"tickcolor\":\"rgb(36,36,36)\",\"ticklen\":8,\"ticks\":\"outside\",\"tickwidth\":2},\"colorscale\":[[0.0,\"rgb(2,4,25)\"],[0.06274509803921569,\"rgb(24,15,41)\"],[0.12549019607843137,\"rgb(47,23,57)\"],[0.18823529411764706,\"rgb(71,28,72)\"],[0.25098039215686274,\"rgb(97,30,82)\"],[0.3137254901960784,\"rgb(123,30,89)\"],[0.3764705882352941,\"rgb(150,27,91)\"],[0.4392156862745098,\"rgb(177,22,88)\"],[0.5019607843137255,\"rgb(203,26,79)\"],[0.5647058823529412,\"rgb(223,47,67)\"],[0.6274509803921569,\"rgb(236,76,61)\"],[0.6901960784313725,\"rgb(242,107,73)\"],[0.7529411764705882,\"rgb(244,135,95)\"],[0.8156862745098039,\"rgb(245,162,122)\"],[0.8784313725490196,\"rgb(246,188,153)\"],[0.9411764705882353,\"rgb(247,212,187)\"],[1.0,\"rgb(250,234,220)\"]],\"type\":\"heatmap\"}],\"histogram2dcontour\":[{\"colorbar\":{\"outlinewidth\":0,\"tickcolor\":\"rgb(36,36,36)\",\"ticklen\":8,\"ticks\":\"outside\",\"tickwidth\":2},\"colorscale\":[[0.0,\"rgb(2,4,25)\"],[0.06274509803921569,\"rgb(24,15,41)\"],[0.12549019607843137,\"rgb(47,23,57)\"],[0.18823529411764706,\"rgb(71,28,72)\"],[0.25098039215686274,\"rgb(97,30,82)\"],[0.3137254901960784,\"rgb(123,30,89)\"],[0.3764705882352941,\"rgb(150,27,91)\"],[0.4392156862745098,\"rgb(177,22,88)\"],[0.5019607843137255,\"rgb(203,26,79)\"],[0.5647058823529412,\"rgb(223,47,67)\"],[0.6274509803921569,\"rgb(236,76,61)\"],[0.6901960784313725,\"rgb(242,107,73)\"],[0.7529411764705882,\"rgb(244,135,95)\"],[0.8156862745098039,\"rgb(245,162,122)\"],[0.8784313725490196,\"rgb(246,188,153)\"],[0.9411764705882353,\"rgb(247,212,187)\"],[1.0,\"rgb(250,234,220)\"]],\"type\":\"histogram2dcontour\"}],\"histogram2d\":[{\"colorbar\":{\"outlinewidth\":0,\"tickcolor\":\"rgb(36,36,36)\",\"ticklen\":8,\"ticks\":\"outside\",\"tickwidth\":2},\"colorscale\":[[0.0,\"rgb(2,4,25)\"],[0.06274509803921569,\"rgb(24,15,41)\"],[0.12549019607843137,\"rgb(47,23,57)\"],[0.18823529411764706,\"rgb(71,28,72)\"],[0.25098039215686274,\"rgb(97,30,82)\"],[0.3137254901960784,\"rgb(123,30,89)\"],[0.3764705882352941,\"rgb(150,27,91)\"],[0.4392156862745098,\"rgb(177,22,88)\"],[0.5019607843137255,\"rgb(203,26,79)\"],[0.5647058823529412,\"rgb(223,47,67)\"],[0.6274509803921569,\"rgb(236,76,61)\"],[0.6901960784313725,\"rgb(242,107,73)\"],[0.7529411764705882,\"rgb(244,135,95)\"],[0.8156862745098039,\"rgb(245,162,122)\"],[0.8784313725490196,\"rgb(246,188,153)\"],[0.9411764705882353,\"rgb(247,212,187)\"],[1.0,\"rgb(250,234,220)\"]],\"type\":\"histogram2d\"}],\"histogram\":[{\"marker\":{\"pattern\":{\"fillmode\":\"overlay\",\"size\":10,\"solidity\":0.2}},\"type\":\"histogram\"}],\"mesh3d\":[{\"colorbar\":{\"outlinewidth\":0,\"tickcolor\":\"rgb(36,36,36)\",\"ticklen\":8,\"ticks\":\"outside\",\"tickwidth\":2},\"type\":\"mesh3d\"}],\"parcoords\":[{\"line\":{\"colorbar\":{\"outlinewidth\":0,\"tickcolor\":\"rgb(36,36,36)\",\"ticklen\":8,\"ticks\":\"outside\",\"tickwidth\":2}},\"type\":\"parcoords\"}],\"pie\":[{\"automargin\":true,\"type\":\"pie\"}],\"scatter3d\":[{\"line\":{\"colorbar\":{\"outlinewidth\":0,\"tickcolor\":\"rgb(36,36,36)\",\"ticklen\":8,\"ticks\":\"outside\",\"tickwidth\":2}},\"marker\":{\"colorbar\":{\"outlinewidth\":0,\"tickcolor\":\"rgb(36,36,36)\",\"ticklen\":8,\"ticks\":\"outside\",\"tickwidth\":2}},\"type\":\"scatter3d\"}],\"scattercarpet\":[{\"marker\":{\"colorbar\":{\"outlinewidth\":0,\"tickcolor\":\"rgb(36,36,36)\",\"ticklen\":8,\"ticks\":\"outside\",\"tickwidth\":2}},\"type\":\"scattercarpet\"}],\"scattergeo\":[{\"marker\":{\"colorbar\":{\"outlinewidth\":0,\"tickcolor\":\"rgb(36,36,36)\",\"ticklen\":8,\"ticks\":\"outside\",\"tickwidth\":2}},\"type\":\"scattergeo\"}],\"scattergl\":[{\"marker\":{\"colorbar\":{\"outlinewidth\":0,\"tickcolor\":\"rgb(36,36,36)\",\"ticklen\":8,\"ticks\":\"outside\",\"tickwidth\":2}},\"type\":\"scattergl\"}],\"scattermapbox\":[{\"marker\":{\"colorbar\":{\"outlinewidth\":0,\"tickcolor\":\"rgb(36,36,36)\",\"ticklen\":8,\"ticks\":\"outside\",\"tickwidth\":2}},\"type\":\"scattermapbox\"}],\"scatterpolargl\":[{\"marker\":{\"colorbar\":{\"outlinewidth\":0,\"tickcolor\":\"rgb(36,36,36)\",\"ticklen\":8,\"ticks\":\"outside\",\"tickwidth\":2}},\"type\":\"scatterpolargl\"}],\"scatterpolar\":[{\"marker\":{\"colorbar\":{\"outlinewidth\":0,\"tickcolor\":\"rgb(36,36,36)\",\"ticklen\":8,\"ticks\":\"outside\",\"tickwidth\":2}},\"type\":\"scatterpolar\"}],\"scatter\":[{\"fillpattern\":{\"fillmode\":\"overlay\",\"size\":10,\"solidity\":0.2},\"type\":\"scatter\"}],\"scatterternary\":[{\"marker\":{\"colorbar\":{\"outlinewidth\":0,\"tickcolor\":\"rgb(36,36,36)\",\"ticklen\":8,\"ticks\":\"outside\",\"tickwidth\":2}},\"type\":\"scatterternary\"}],\"surface\":[{\"colorbar\":{\"outlinewidth\":0,\"tickcolor\":\"rgb(36,36,36)\",\"ticklen\":8,\"ticks\":\"outside\",\"tickwidth\":2},\"colorscale\":[[0.0,\"rgb(2,4,25)\"],[0.06274509803921569,\"rgb(24,15,41)\"],[0.12549019607843137,\"rgb(47,23,57)\"],[0.18823529411764706,\"rgb(71,28,72)\"],[0.25098039215686274,\"rgb(97,30,82)\"],[0.3137254901960784,\"rgb(123,30,89)\"],[0.3764705882352941,\"rgb(150,27,91)\"],[0.4392156862745098,\"rgb(177,22,88)\"],[0.5019607843137255,\"rgb(203,26,79)\"],[0.5647058823529412,\"rgb(223,47,67)\"],[0.6274509803921569,\"rgb(236,76,61)\"],[0.6901960784313725,\"rgb(242,107,73)\"],[0.7529411764705882,\"rgb(244,135,95)\"],[0.8156862745098039,\"rgb(245,162,122)\"],[0.8784313725490196,\"rgb(246,188,153)\"],[0.9411764705882353,\"rgb(247,212,187)\"],[1.0,\"rgb(250,234,220)\"]],\"type\":\"surface\"}],\"table\":[{\"cells\":{\"fill\":{\"color\":\"rgb(231,231,240)\"},\"line\":{\"color\":\"white\"}},\"header\":{\"fill\":{\"color\":\"rgb(183,183,191)\"},\"line\":{\"color\":\"white\"}},\"type\":\"table\"}]},\"layout\":{\"annotationdefaults\":{\"arrowcolor\":\"rgb(67,103,167)\"},\"autotypenumbers\":\"strict\",\"coloraxis\":{\"colorbar\":{\"outlinewidth\":0,\"tickcolor\":\"rgb(36,36,36)\",\"ticklen\":8,\"ticks\":\"outside\",\"tickwidth\":2}},\"colorscale\":{\"sequential\":[[0.0,\"rgb(2,4,25)\"],[0.06274509803921569,\"rgb(24,15,41)\"],[0.12549019607843137,\"rgb(47,23,57)\"],[0.18823529411764706,\"rgb(71,28,72)\"],[0.25098039215686274,\"rgb(97,30,82)\"],[0.3137254901960784,\"rgb(123,30,89)\"],[0.3764705882352941,\"rgb(150,27,91)\"],[0.4392156862745098,\"rgb(177,22,88)\"],[0.5019607843137255,\"rgb(203,26,79)\"],[0.5647058823529412,\"rgb(223,47,67)\"],[0.6274509803921569,\"rgb(236,76,61)\"],[0.6901960784313725,\"rgb(242,107,73)\"],[0.7529411764705882,\"rgb(244,135,95)\"],[0.8156862745098039,\"rgb(245,162,122)\"],[0.8784313725490196,\"rgb(246,188,153)\"],[0.9411764705882353,\"rgb(247,212,187)\"],[1.0,\"rgb(250,234,220)\"]],\"sequentialminus\":[[0.0,\"rgb(2,4,25)\"],[0.06274509803921569,\"rgb(24,15,41)\"],[0.12549019607843137,\"rgb(47,23,57)\"],[0.18823529411764706,\"rgb(71,28,72)\"],[0.25098039215686274,\"rgb(97,30,82)\"],[0.3137254901960784,\"rgb(123,30,89)\"],[0.3764705882352941,\"rgb(150,27,91)\"],[0.4392156862745098,\"rgb(177,22,88)\"],[0.5019607843137255,\"rgb(203,26,79)\"],[0.5647058823529412,\"rgb(223,47,67)\"],[0.6274509803921569,\"rgb(236,76,61)\"],[0.6901960784313725,\"rgb(242,107,73)\"],[0.7529411764705882,\"rgb(244,135,95)\"],[0.8156862745098039,\"rgb(245,162,122)\"],[0.8784313725490196,\"rgb(246,188,153)\"],[0.9411764705882353,\"rgb(247,212,187)\"],[1.0,\"rgb(250,234,220)\"]]},\"colorway\":[\"rgb(76,114,176)\",\"rgb(221,132,82)\",\"rgb(85,168,104)\",\"rgb(196,78,82)\",\"rgb(129,114,179)\",\"rgb(147,120,96)\",\"rgb(218,139,195)\",\"rgb(140,140,140)\",\"rgb(204,185,116)\",\"rgb(100,181,205)\"],\"font\":{\"color\":\"rgb(36,36,36)\"},\"geo\":{\"bgcolor\":\"white\",\"lakecolor\":\"white\",\"landcolor\":\"rgb(234,234,242)\",\"showlakes\":true,\"showland\":true,\"subunitcolor\":\"white\"},\"hoverlabel\":{\"align\":\"left\"},\"hovermode\":\"closest\",\"paper_bgcolor\":\"white\",\"plot_bgcolor\":\"rgb(234,234,242)\",\"polar\":{\"angularaxis\":{\"gridcolor\":\"white\",\"linecolor\":\"white\",\"showgrid\":true,\"ticks\":\"\"},\"bgcolor\":\"rgb(234,234,242)\",\"radialaxis\":{\"gridcolor\":\"white\",\"linecolor\":\"white\",\"showgrid\":true,\"ticks\":\"\"}},\"scene\":{\"xaxis\":{\"backgroundcolor\":\"rgb(234,234,242)\",\"gridcolor\":\"white\",\"gridwidth\":2,\"linecolor\":\"white\",\"showbackground\":true,\"showgrid\":true,\"ticks\":\"\",\"zerolinecolor\":\"white\"},\"yaxis\":{\"backgroundcolor\":\"rgb(234,234,242)\",\"gridcolor\":\"white\",\"gridwidth\":2,\"linecolor\":\"white\",\"showbackground\":true,\"showgrid\":true,\"ticks\":\"\",\"zerolinecolor\":\"white\"},\"zaxis\":{\"backgroundcolor\":\"rgb(234,234,242)\",\"gridcolor\":\"white\",\"gridwidth\":2,\"linecolor\":\"white\",\"showbackground\":true,\"showgrid\":true,\"ticks\":\"\",\"zerolinecolor\":\"white\"}},\"shapedefaults\":{\"fillcolor\":\"rgb(67,103,167)\",\"line\":{\"width\":0},\"opacity\":0.5},\"ternary\":{\"aaxis\":{\"gridcolor\":\"white\",\"linecolor\":\"white\",\"showgrid\":true,\"ticks\":\"\"},\"baxis\":{\"gridcolor\":\"white\",\"linecolor\":\"white\",\"showgrid\":true,\"ticks\":\"\"},\"bgcolor\":\"rgb(234,234,242)\",\"caxis\":{\"gridcolor\":\"white\",\"linecolor\":\"white\",\"showgrid\":true,\"ticks\":\"\"}},\"xaxis\":{\"automargin\":true,\"gridcolor\":\"white\",\"linecolor\":\"white\",\"showgrid\":true,\"ticks\":\"\",\"title\":{\"standoff\":15},\"zerolinecolor\":\"white\"},\"yaxis\":{\"automargin\":true,\"gridcolor\":\"white\",\"linecolor\":\"white\",\"showgrid\":true,\"ticks\":\"\",\"title\":{\"standoff\":15},\"zerolinecolor\":\"white\"}}},\"xaxis\":{\"anchor\":\"y\",\"domain\":[0.0,0.235],\"title\":{\"text\":\"\"},\"tickangle\":-45},\"yaxis\":{\"anchor\":\"x\",\"domain\":[0.0,1.0],\"title\":{\"text\":\"Average Speed (km\\u002fhr)\"}},\"xaxis2\":{\"anchor\":\"y2\",\"domain\":[0.255,0.49],\"matches\":\"x\",\"title\":{\"text\":\"\"},\"tickangle\":-45},\"yaxis2\":{\"anchor\":\"x2\",\"domain\":[0.0,1.0],\"matches\":\"y\",\"showticklabels\":false},\"xaxis3\":{\"anchor\":\"y3\",\"domain\":[0.51,0.745],\"matches\":\"x\",\"title\":{\"text\":\"\"},\"tickangle\":-45},\"yaxis3\":{\"anchor\":\"x3\",\"domain\":[0.0,1.0],\"matches\":\"y\",\"showticklabels\":false},\"xaxis4\":{\"anchor\":\"y4\",\"domain\":[0.7649999999999999,0.9999999999999999],\"matches\":\"x\",\"title\":{\"text\":\"\"},\"tickangle\":-45},\"yaxis4\":{\"anchor\":\"x4\",\"domain\":[0.0,1.0],\"matches\":\"y\",\"showticklabels\":false},\"annotations\":[{\"font\":{\"size\":10},\"showarrow\":false,\"text\":\"1-30km bicicletas\",\"x\":0.1175,\"xanchor\":\"center\",\"xref\":\"paper\",\"y\":1.0,\"yanchor\":\"bottom\",\"yref\":\"paper\"},{\"font\":{\"size\":10},\"showarrow\":false,\"text\":\"30-58km bicicletas\",\"x\":0.3725,\"xanchor\":\"center\",\"xref\":\"paper\",\"y\":1.0,\"yanchor\":\"bottom\",\"yref\":\"paper\"},{\"font\":{\"size\":10},\"showarrow\":false,\"text\":\"58-87km bicicletas\",\"x\":0.6275,\"xanchor\":\"center\",\"xref\":\"paper\",\"y\":1.0,\"yanchor\":\"bottom\",\"yref\":\"paper\"},{\"font\":{\"size\":10},\"showarrow\":false,\"text\":\"87-115km bicicletas\",\"x\":0.8824999999999998,\"xanchor\":\"center\",\"xref\":\"paper\",\"y\":1.0,\"yanchor\":\"bottom\",\"yref\":\"paper\"}],\"coloraxis\":{\"colorbar\":{\"title\":{\"text\":\"km\",\"font\":{\"size\":12}},\"tickfont\":{\"size\":10},\"thickness\":15,\"ticklen\":3},\"colorscale\":[[0.0,\"rgb(3, 35, 51)\"],[0.09090909090909091,\"rgb(13, 48, 100)\"],[0.18181818181818182,\"rgb(53, 50, 155)\"],[0.2727272727272727,\"rgb(93, 62, 153)\"],[0.36363636363636365,\"rgb(126, 77, 143)\"],[0.45454545454545453,\"rgb(158, 89, 135)\"],[0.5454545454545454,\"rgb(193, 100, 121)\"],[0.6363636363636364,\"rgb(225, 113, 97)\"],[0.7272727272727273,\"rgb(246, 139, 69)\"],[0.8181818181818182,\"rgb(251, 173, 60)\"],[0.9090909090909091,\"rgb(246, 211, 70)\"],[1.0,\"rgb(231, 250, 90)\"]]},\"legend\":{\"tracegroupgap\":0},\"title\":{\"text\":\"My average speed on bicicletas\"},\"autosize\":false,\"width\":700,\"height\":600},                        {\"responsive\": true}                    ).then(function(){\n",
       "                            \n",
       "var gd = document.getElementById('e71e15fd-15c4-43ed-9acd-7e22f3fdd298');\n",
       "var x = new MutationObserver(function (mutations, observer) {{\n",
       "        var display = window.getComputedStyle(gd).display;\n",
       "        if (!display || display === 'none') {{\n",
       "            console.log([gd, 'removed!']);\n",
       "            Plotly.purge(gd);\n",
       "            observer.disconnect();\n",
       "        }}\n",
       "}});\n",
       "\n",
       "// Listen for the removal of the full notebook cells\n",
       "var notebookContainer = gd.closest('#notebook-container');\n",
       "if (notebookContainer) {{\n",
       "    x.observe(notebookContainer, {childList: true});\n",
       "}}\n",
       "\n",
       "// Listen for the clearing of the current output cell\n",
       "var outputEl = gd.closest('.output');\n",
       "if (outputEl) {{\n",
       "    x.observe(outputEl, {childList: true});\n",
       "}}\n",
       "\n",
       "                        })                };                });            </script>        </div>"
      ]
     },
     "metadata": {},
     "output_type": "display_data"
    }
   ],
   "source": [
    "# Find the activity with the most kms\n",
    "most_kms = (\n",
    "    df_km.groupby(by=[\"Activity Type\"], as_index=False)\n",
    "    .sum()\n",
    "    .sort_values(by=\"total_distance_km\")\n",
    ")\n",
    "\n",
    "# Define an activity here\n",
    "activity = most_kms[\"Activity Type\"].values[-1]\n",
    "\n",
    "# Generating four bins based on the Distance column\n",
    "speed = df.loc[df[\"Activity Type\"] == activity]\n",
    "cats, bins = pd.cut(speed[\"Distance (km)\"], 4, precision=0, retbins=True)\n",
    "bins = np.around(bins, 0).astype(int)\n",
    "bin_labels = []\n",
    "for i in range(0, 4):\n",
    "    bin_labels.append(\n",
    "        f\"{bins[i]}-{str(bins[i + 1])}km {activity.lower()}s\"\n",
    "    )\n",
    "speed.insert(\n",
    "    0, \"distance_bin\", pd.cut(speed[\"Distance (km)\"], 4, precision=0, labels=bin_labels)\n",
    ")\n",
    "\n",
    "# Create a scatter plot with four subplots\n",
    "fig_s = px.scatter(\n",
    "    speed,\n",
    "    x=\"Activity Date\",\n",
    "    y=\"Average Speed (km/hr)\",\n",
    "    facet_col=\"distance_bin\",\n",
    "    color=\"Distance (km)\",\n",
    "    trendline=\"ols\",  # Add a black trend line\n",
    "    trendline_color_override=\"black\",\n",
    "    color_continuous_scale=\"thermal\",  # Define a color scale\n",
    "    title=\"My average speed on \" + activity.lower() + \"s\",  # Set title text\n",
    "    category_orders={\"distance_bin\": bin_labels},  # Ascending order\n",
    "    custom_data=[\"Activity Name\", \"Distance (km)\", \"Elevation Gain\"],  # Variables for the hover text\n",
    ")\n",
    "\n",
    "# Customize the hover text\n",
    "fig_s.update_traces(\n",
    "    hovertemplate=\"Activity Name: %{customdata[0]}<br>\"\n",
    "    \"Activity date: %{x|%Y-%m-%d}<br>\"\n",
    "    \"Distance (km): %{customdata[1]:.1f}<br>\"\n",
    "    \"Average speed (km/hr): %{y:.1f}<br>\"\n",
    "    \"Elevation gain: %{customdata[2]:.1f}\"\n",
    ")\n",
    "\n",
    "# Adjust the size and layout\n",
    "fig_s.update_layout(\n",
    "    autosize=False,\n",
    "    width=700,\n",
    "    height=600,\n",
    "    template=\"seaborn\",  # Others options: \"plotly\", \"plotly_dark\", \"ggplot2\", \"seaborn\", \"simple_white\"\n",
    ")\n",
    "\n",
    "# Hide subplot annotations and x-axis titles\n",
    "fig_s.for_each_annotation(lambda a: a.update(text=a.text.split(\"=\")[-1]))\n",
    "for axis in fig_s.layout:\n",
    "    if type(fig_s.layout[axis]) == go.layout.XAxis:\n",
    "        fig_s.layout[axis].title.text = \"\"\n",
    "\n",
    "# Rotate xtick labels\n",
    "fig_s.update_xaxes(tickangle=-45)\n",
    "\n",
    "# Set size of bin labels\n",
    "fig_s.update_annotations(font=dict(size=10))\n",
    "\n",
    "# Make the color bar smaller\n",
    "fig_s.update_coloraxes(\n",
    "    colorbar_thickness=15,\n",
    "    colorbar_title_text=\"km\",\n",
    "    colorbar_title_font_size=12,\n",
    "    colorbar_tickfont_size=10,\n",
    "    colorbar_ticklen=3,\n",
    ")\n",
    "\n",
    "fig_s.show()"
   ]
  },
  {
   "cell_type": "code",
   "execution_count": 35,
   "metadata": {},
   "outputs": [
    {
     "data": {
      "application/vnd.plotly.v1+json": {
       "config": {
        "plotlyServerURL": "https://plot.ly"
       },
       "data": [
        {
         "customdata": [
          [
           40.8667106628418,
           "2018-09-09T17:26:30"
          ],
          [
           17.375,
           "2018-09-09T17:38:17"
          ],
          [
           160.089599609375,
           "2018-09-10T09:44:29"
          ],
          [
           433.38873291015625,
           "2018-09-14T15:54:16"
          ],
          [
           222.1921844482422,
           "2018-09-23T16:27:56"
          ],
          [
           190.3143615722656,
           "2018-09-29T17:00:38"
          ],
          [
           133.75616455078125,
           "2018-11-18T15:07:01"
          ],
          [
           27.51551818847656,
           "2018-12-04T19:47:47"
          ],
          [
           109.98186492919922,
           "2018-12-18T11:11:37"
          ],
          [
           290,
           "2019-01-31T11:01:02"
          ],
          [
           219.6205902099609,
           "2019-03-31T09:10:27"
          ],
          [
           445,
           "2019-05-19T09:00:27"
          ],
          [
           306,
           "2019-03-03T10:29:08"
          ],
          [
           192,
           "2019-02-09T10:14:33"
          ],
          [
           172,
           "2019-02-02T11:01:21"
          ],
          [
           542,
           "2019-05-26T08:58:36"
          ],
          [
           280,
           "2019-06-01T07:55:05"
          ],
          [
           463,
           "2019-06-21T16:34:11"
          ],
          [
           45,
           "2019-06-02T15:51:58"
          ],
          [
           1584,
           "2019-07-14T09:54:30"
          ],
          [
           157,
           "2019-07-07T17:38:56"
          ],
          [
           164,
           "2019-06-23T16:40:57"
          ],
          [
           1161,
           "2019-07-20T06:53:03"
          ],
          [
           518,
           "2019-07-19T09:53:37"
          ],
          [
           64,
           "2019-07-18T14:49:27"
          ],
          [
           788,
           "2019-07-18T09:43:31"
          ],
          [
           90,
           "2019-08-09T18:17:23"
          ],
          [
           29,
           "2019-08-08T18:30:57"
          ],
          [
           141,
           "2019-08-06T16:12:44"
          ],
          [
           1579,
           "2019-08-10T09:15:44"
          ],
          [
           150,
           "2019-08-12T17:46:43"
          ],
          [
           234,
           "2019-08-18T17:05:22"
          ],
          [
           1746,
           "2019-08-25T08:06:33"
          ],
          [
           546,
           "2019-09-01T06:28:57"
          ],
          [
           2120,
           "2019-09-08T05:03:13"
          ],
          [
           151,
           "2019-09-21T16:24:33"
          ],
          [
           129,
           "2020-05-02T10:16:58"
          ],
          [
           108,
           "2020-05-03T15:25:05"
          ],
          [
           53,
           "2020-05-05T17:18:54"
          ],
          [
           105,
           "2020-05-08T16:40:07"
          ],
          [
           156,
           "2020-05-13T16:09:15"
          ],
          [
           32,
           "2020-05-09T14:35:35"
          ],
          [
           193,
           "2019-10-19T08:43:29"
          ],
          [
           157,
           "2020-05-18T16:28:32"
          ],
          [
           70,
           "2020-05-16T10:40:28"
          ],
          [
           139,
           "2020-05-22T17:51:43"
          ],
          [
           416,
           "2020-05-25T16:32:34"
          ],
          [
           263,
           "2020-07-05T13:51:38"
          ],
          [
           144,
           "2020-07-02T16:31:52"
          ],
          [
           282,
           "2020-06-15T16:37:09"
          ],
          [
           33,
           "2020-06-12T17:50:34"
          ],
          [
           58,
           "2020-06-09T16:39:25"
          ],
          [
           107,
           "2020-05-30T10:34:37"
          ],
          [
           204,
           "2020-07-11T17:13:54"
          ],
          [
           184,
           "2020-07-09T17:24:01"
          ],
          [
           169,
           "2020-07-07T18:14:50"
          ],
          [
           230,
           "2020-07-14T17:10:28"
          ],
          [
           279,
           "2020-07-25T08:29:11"
          ],
          [
           197,
           "2020-08-03T07:10:15"
          ],
          [
           358,
           "2020-08-04T07:19:02"
          ],
          [
           172,
           "2020-08-17T17:45:55"
          ],
          [
           277,
           "2020-08-14T16:53:38"
          ],
          [
           205,
           "2020-08-12T17:47:51"
          ],
          [
           391,
           "2020-08-19T15:56:13"
          ],
          [
           534,
           "2020-08-21T08:22:20"
          ],
          [
           163,
           "2020-08-23T08:44:13"
          ],
          [
           195,
           "2020-08-25T17:08:04"
          ],
          [
           448,
           "2020-08-27T14:09:38"
          ],
          [
           1377,
           "2020-08-29T07:23:09"
          ],
          [
           769,
           "2020-09-01T16:28:15"
          ],
          [
           661,
           "2020-09-02T16:10:10"
          ],
          [
           1414,
           "2020-09-05T08:11:04"
          ],
          [
           1329,
           "2020-09-06T07:08:23"
          ],
          [
           724,
           "2020-09-09T16:09:58"
          ],
          [
           1260,
           "2020-09-15T16:01:44"
          ],
          [
           776,
           "2020-09-17T15:32:00"
          ],
          [
           281,
           "2020-09-19T09:40:42"
          ],
          [
           193,
           "2020-09-20T14:51:27"
          ],
          [
           409,
           "2020-09-22T16:16:19"
          ],
          [
           2254,
           "2020-09-26T07:14:56"
          ],
          [
           148,
           "2020-09-29T16:18:03"
          ],
          [
           581,
           "2020-10-03T08:25:13"
          ],
          [
           536,
           "2020-10-10T07:01:46"
          ],
          [
           135,
           "2020-10-05T16:52:21"
          ],
          [
           507,
           "2020-10-17T15:50:36"
          ],
          [
           746,
           "2020-10-18T08:18:43"
          ],
          [
           586,
           "2020-10-28T15:26:38"
          ],
          [
           577,
           "2020-10-24T08:11:27"
          ],
          [
           1236,
           "2020-11-01T09:12:53"
          ],
          [
           1358,
           "2020-11-08T09:09:23"
          ],
          [
           1551.408203125,
           "2020-11-14T09:04:17"
          ],
          [
           502.6546936035156,
           "2020-11-21T11:00:19"
          ],
          [
           1100,
           "2020-11-28T09:06:30"
          ],
          [
           161.90960693359375,
           "2020-12-06T10:35:52"
          ],
          [
           1285.653564453125,
           "2020-12-10T07:51:48"
          ],
          [
           100.1999969482422,
           "2020-12-23T15:23:47"
          ],
          [
           758,
           "2020-12-29T08:50:07"
          ],
          [
           727,
           "2021-01-02T08:51:34"
          ],
          [
           285,
           "2021-01-06T15:09:36"
          ],
          [
           44,
           "2021-01-06T10:18:08"
          ],
          [
           99,
           "2021-01-11T15:39:23"
          ],
          [
           511,
           "2021-01-16T09:23:39"
          ],
          [
           724,
           "2021-01-23T15:14:22"
          ],
          [
           573,
           "2021-01-30T09:17:11"
          ],
          [
           257,
           "2021-02-02T15:22:21"
          ],
          [
           395,
           "2021-02-13T14:34:47"
          ],
          [
           980,
           "2021-02-20T08:53:47"
          ],
          [
           177,
           "2021-02-17T15:50:03"
          ],
          [
           490,
           "2021-03-09T15:40:51"
          ],
          [
           937,
           "2021-03-06T09:59:51"
          ],
          [
           764,
           "2021-03-17T15:47:00"
          ],
          [
           959,
           "2021-03-20T08:30:40"
          ],
          [
           104,
           "2021-03-24T16:20:53"
          ],
          [
           416,
           "2021-03-28T08:36:02"
          ],
          [
           274,
           "2021-04-02T10:00:59"
          ],
          [
           1306,
           "2021-04-03T08:07:20"
          ],
          [
           370,
           "2021-04-05T07:06:32"
          ],
          [
           721,
           "2021-04-13T16:16:23"
          ],
          [
           575,
           "2021-04-10T07:51:51"
          ],
          [
           436,
           "2021-04-18T08:06:03"
          ],
          [
           1028.66552734375,
           "2021-04-25T07:55:08"
          ],
          [
           335.7300109863281,
           "2021-04-30T16:22:18"
          ],
          [
           273.6499938964844,
           "2021-05-01T07:24:08"
          ],
          [
           437.73779296875,
           "2021-05-02T07:35:41"
          ],
          [
           179.9199981689453,
           "2021-05-04T17:11:52"
          ],
          [
           1187,
           "2021-05-09T08:03:57"
          ],
          [
           1169,
           "2021-05-12T13:55:44"
          ],
          [
           1243,
           "2021-05-19T14:04:05"
          ],
          [
           565,
           "2021-05-29T07:13:17"
          ],
          [
           420,
           "2021-05-31T16:50:37"
          ],
          [
           268,
           "2021-06-03T17:10:37"
          ],
          [
           300,
           "2021-06-06T16:28:15"
          ],
          [
           211,
           "2021-06-07T17:12:38"
          ],
          [
           1100,
           "2021-06-26T08:18:16"
          ],
          [
           306,
           "2021-06-30T15:38:50"
          ],
          [
           43.28333282470703,
           "2021-07-06T16:51:04"
          ],
          [
           1407,
           "2021-07-17T08:38:13"
          ],
          [
           210,
           "2021-07-07T16:59:09"
          ],
          [
           155,
           "2021-07-21T15:20:46"
          ],
          [
           262,
           "2021-07-24T08:52:03"
          ],
          [
           1243,
           "2021-08-05T14:27:28"
          ],
          [
           421,
           "2021-08-10T16:51:41"
          ],
          [
           1111,
           "2021-08-15T08:50:07"
          ],
          [
           1489,
           "2021-08-21T09:18:29"
          ],
          [
           1203,
           "2021-08-22T08:38:16"
          ],
          [
           153,
           "2021-08-24T16:33:29"
          ],
          [
           793,
           "2021-09-11T06:04:41"
          ],
          [
           1824,
           "2021-09-18T07:57:21"
          ],
          [
           1476,
           "2021-09-25T07:03:24"
          ],
          [
           1242,
           "2021-10-09T13:07:15"
          ],
          [
           729,
           "2021-10-11T07:42:00"
          ],
          [
           2117,
           "2021-10-10T08:33:03"
          ],
          [
           487.8233337402344,
           "2021-10-16T08:08:27"
          ],
          [
           564,
           "2021-10-24T07:53:42"
          ],
          [
           308,
           "2021-11-06T09:05:10"
          ],
          [
           396.320556640625,
           "2021-11-13T09:14:59"
          ],
          [
           191.6266632080078,
           "2021-11-21T09:32:29"
          ],
          [
           456,
           "2021-12-04T09:24:42"
          ],
          [
           409,
           "2021-12-13T15:06:25"
          ],
          [
           95,
           "2022-01-07T14:22:18"
          ],
          [
           410,
           "2022-01-29T14:45:46"
          ],
          [
           192,
           "2022-01-30T15:05:49"
          ],
          [
           379,
           "2022-02-05T09:36:49"
          ],
          [
           62.31476211547852,
           "2022-02-09T16:34:47"
          ],
          [
           296,
           "2022-02-13T10:02:13"
          ],
          [
           45,
           "2022-02-19T09:38:20"
          ],
          [
           430,
           "2022-02-20T10:02:52"
          ],
          [
           365,
           "2022-03-05T14:31:24"
          ],
          [
           240,
           "2022-03-06T09:19:43"
          ],
          [
           269,
           "2022-03-09T16:16:55"
          ],
          [
           220,
           "2022-03-12T09:36:44"
          ],
          [
           202,
           "2022-03-27T14:02:22"
          ],
          [
           55.77190399169922,
           "2022-03-30T15:56:40"
          ],
          [
           943,
           "2022-04-16T07:30:15"
          ],
          [
           699,
           "2022-04-15T07:13:57"
          ],
          [
           29,
           "2022-04-12T15:43:11"
          ],
          [
           296,
           "2022-04-23T08:22:25"
          ],
          [
           218,
           "2022-04-21T15:59:01"
          ],
          [
           109,
           "2022-04-24T17:21:13"
          ],
          [
           2203,
           "2022-04-30T07:55:23"
          ],
          [
           166,
           "2022-05-03T16:02:46"
          ],
          [
           150,
           "2022-05-06T16:09:21"
          ],
          [
           387,
           "2022-05-07T08:30:19"
          ],
          [
           425,
           "2022-05-15T07:15:04"
          ],
          [
           414,
           "2022-05-19T16:25:05"
          ],
          [
           549,
           "2022-05-21T09:22:53"
          ],
          [
           583,
           "2022-05-22T08:03:07"
          ],
          [
           1529,
           "2022-06-04T07:44:28"
          ],
          [
           392,
           "2022-05-29T07:45:22"
          ],
          [
           1560,
           "2022-06-12T07:39:05"
          ],
          [
           2826,
           "2022-06-19T08:19:31"
          ],
          [
           507,
           "2022-06-23T16:34:26"
          ],
          [
           601,
           "2022-06-20T14:03:45"
          ],
          [
           551,
           "2022-07-10T07:19:56"
          ],
          [
           265,
           "2022-07-07T16:34:33"
          ],
          [
           1385,
           "2022-07-22T07:54:00"
          ],
          [
           1348,
           "2022-08-15T06:18:48"
          ],
          [
           106,
           "2022-08-25T17:27:59"
          ],
          [
           327,
           "2022-08-22T16:37:27"
          ],
          [
           31,
           "2021-10-27T16:06:28"
          ],
          [
           674,
           "2022-07-20T11:04:35"
          ],
          [
           263,
           "2022-08-17T16:35:54"
          ],
          [
           799,
           "2022-07-21T09:41:29"
          ],
          [
           146,
           "2022-09-01T16:40:10"
          ],
          [
           206,
           "2022-08-31T16:59:57"
          ],
          [
           357,
           "2022-08-26T16:34:38"
          ],
          [
           414,
           "2022-09-06T16:27:35"
          ],
          [
           246,
           "2022-09-20T15:59:41"
          ],
          [
           311,
           "2022-09-17T16:25:18"
          ],
          [
           190,
           "2022-09-11T16:27:13"
          ],
          [
           1634,
           "2022-10-12T07:27:32"
          ],
          [
           251,
           "2022-10-01T08:14:08"
          ],
          [
           395.26666259765625,
           "2022-10-16T08:54:17"
          ],
          [
           98.47000122070312,
           "2022-10-25T15:31:18"
          ],
          [
           174.53500366210938,
           "2022-11-19T10:12:09"
          ],
          [
           287.50225830078125,
           "2022-12-04T09:20:02"
          ],
          [
           384.8787841796875,
           "2023-01-08T14:18:44"
          ],
          [
           185.98838806152344,
           "2023-02-05T14:42:47"
          ],
          [
           388.336669921875,
           "2023-01-02T09:17:15"
          ],
          [
           1060.2401123046875,
           "2023-01-15T09:58:26"
          ],
          [
           367.8414611816406,
           "2023-02-12T09:16:33"
          ],
          [
           203.52932739257807,
           "2023-03-05T09:42:52"
          ],
          [
           583.3316650390625,
           "2023-02-25T08:56:55"
          ],
          [
           1039.22607421875,
           "2023-03-18T09:00:10"
          ],
          [
           386.4044494628906,
           "2023-03-22T16:19:07"
          ],
          [
           835.37939453125,
           "2023-03-25T06:27:06"
          ],
          [
           567.7510375976562,
           "2023-03-29T16:05:01"
          ],
          [
           315.1576232910156,
           "2023-04-02T07:05:02"
          ],
          [
           184.50582885742188,
           "2023-04-04T16:34:37"
          ],
          [
           1457.8424072265625,
           "2023-04-09T06:30:27"
          ],
          [
           42.50785827636719,
           "2023-04-12T15:21:28"
          ],
          [
           1940,
           "2023-04-22T06:00:42"
          ],
          [
           774,
           "2023-04-23T08:59:21"
          ],
          [
           814,
           "2023-04-26T16:11:46"
          ],
          [
           1353,
           "2023-05-03T15:46:05"
          ],
          [
           688,
           "2023-05-07T07:50:44"
          ],
          [
           162,
           "2023-05-14T13:00:58"
          ],
          [
           791,
           "2023-05-20T05:36:32"
          ],
          [
           467,
           "2023-05-20T08:51:05"
          ],
          [
           921,
           "2023-05-29T16:05:55"
          ],
          [
           92.38333129882812,
           "2023-06-04T16:44:19"
          ],
          [
           176.75999450683594,
           "2023-06-10T08:01:09"
          ],
          [
           1230,
           "2023-06-26T15:03:15"
          ],
          [
           418,
           "2023-07-01T08:35:01"
          ],
          [
           205,
           "2023-07-04T16:52:58"
          ],
          [
           240,
           "2023-07-24T15:07:07"
          ],
          [
           68,
           "2023-07-28T17:16:41"
          ],
          [
           1154,
           "2023-07-29T11:39:03"
          ],
          [
           54,
           "2023-08-08T17:14:14"
          ],
          [
           1516,
           "2023-08-10T08:56:44"
          ],
          [
           2136,
           "2023-08-11T08:16:33"
          ],
          [
           1425,
           "2023-08-12T08:01:28"
          ],
          [
           1087,
           "2023-08-13T09:34:26"
          ],
          [
           535,
           "2023-08-20T06:21:37"
          ],
          [
           62,
           "2023-08-21T17:16:47"
          ],
          [
           667,
           "2023-08-30T15:58:50"
          ]
         ],
         "hovertemplate": "Activity Date: %{customdata[1]|%Y-%m-%d}<br>Distance (km): %{x:.1f}<br>Average speed (km/hr): %{y:.1f}<br>Elevation gain: %{customdata[0]:.1f}",
         "legendgroup": "",
         "marker": {
          "color": [
           2.54410009765625,
           1.271,
           32.21930078125,
           53.6323984375,
           38.82719921875,
           30.581099609375,
           25.858400390625,
           1.296,
           24.02380078125,
           44.5956015625,
           35.64919921875,
           48.4255,
           45.66,
           29.790400390625,
           12.888900390625,
           67.340703125,
           35.00719921875,
           55.6026015625,
           9.7805,
           60.2775,
           32.40330078125,
           31.004099609375,
           25.105599609375,
           14.607,
           13.7212001953125,
           18.23280078125,
           18.39480078125,
           9.992,
           30.962,
           52.82419921875,
           30.65969921875,
           42.711,
           67.855296875,
           87.3881015625,
           98.7153984375,
           30.66869921875,
           20.30369921875,
           12.4655,
           15.0322001953125,
           21.19419921875,
           30.77019921875,
           9.000400390625,
           51.1936015625,
           31.19880078125,
           8.3495,
           31.000900390625,
           56.6575,
           46.05780078125,
           30.927099609375,
           54.7233984375,
           6.8172001953125,
           11.8765,
           22.067900390625,
           32.232599609375,
           33.67619921875,
           30.036599609375,
           42.69980078125,
           46.3601015625,
           50.9595,
           54.45930078125,
           32.152099609375,
           45.044,
           37.6678984375,
           53.0186015625,
           58.6798984375,
           36.0363984375,
           34.87680078125,
           103.180796875,
           71.770703125,
           26.187400390625,
           32.76119921875,
           56.3845,
           39.33530078125,
           28.84519921875,
           41.3451015625,
           43.0446015625,
           35.3788984375,
           50.887,
           53.56730078125,
           103.504703125,
           31.008900390625,
           74.7453984375,
           73.25,
           24.42719921875,
           33.14819921875,
           64.75969921875,
           25.54030078125,
           48.80869921875,
           51.48069921875,
           49.2525,
           65.3668984375,
           21.63969921875,
           63.3905,
           34.41230078125,
           108.461203125,
           17.324900390625,
           50.8405,
           25.8655,
           35.4308984375,
           4.3195,
           22.99269921875,
           47.81,
           23.22030078125,
           69.416703125,
           32.40280078125,
           19.401599609375,
           114.0403984375,
           28.8555,
           46.7696015625,
           35.91819921875,
           38.0711015625,
           107.265296875,
           14.2677998046875,
           50.30969921875,
           39.0088984375,
           45.8948984375,
           56.7711015625,
           31.975900390625,
           67.7093984375,
           23.623400390625,
           45.6306015625,
           35.62980078125,
           55.08369921875,
           74.258296875,
           34.3328984375,
           73.5313984375,
           91.1555,
           73.558,
           71.1341015625,
           52.52069921875,
           43.5828984375,
           47.43530078125,
           37.0003984375,
           60.87530078125,
           59.0083984375,
           5.17960009765625,
           28.05980078125,
           35.69780078125,
           31.00380078125,
           43.36430078125,
           60.3531015625,
           51.02180078125,
           31.3465,
           58.4398984375,
           38.7355,
           30.604099609375,
           98.8685,
           83.199296875,
           61.352,
           31.231099609375,
           17.477900390625,
           60.3568984375,
           58.254,
           63.0083203125,
           55.6443515625,
           52.575609375,
           51.50462109375,
           53.201109375,
           39.91233984375,
           15.491490234375,
           53.4072890625,
           36.656421875,
           47.6435,
           14.3784892578125,
           45.5241484375,
           15.0199404296875,
           53.007421875,
           53.014421875,
           37.24248828125,
           35.22501171875,
           51.00826953125,
           31.702259765625,
           15.3052900390625,
           30.632220703125,
           32.2244296875,
           10.04076953125,
           31.31916015625,
           36.9294296875,
           22.519419921875,
           77.4442890625,
           32.079970703125,
           18.955490234375,
           70.00478125,
           73.8341015625,
           55.6470390625,
           55.51246875,
           74.2136796875,
           62.43001171875,
           69.504109375,
           54.0318984375,
           108.196828125,
           40.08766015625,
           37.35826953125,
           81.0296328125,
           43.80475,
           20.023,
           108.8397578125,
           22.754109375,
           41.10048828125,
           3.289550048828125,
           10.399080078125,
           34.49412109375,
           30.507330078125,
           25.100720703125,
           36.241390625,
           46.1795,
           51.84251171875,
           40.25337890625,
           33.3977109375,
           30.83155078125,
           82.007,
           45.89155078125,
           53.28678125,
           22.749080078125,
           36.4998515625,
           45.02212109375,
           24.118029296875,
           27.615140625,
           49.98901171875,
           49.1138203125,
           34.39930859375,
           28.683490234375,
           28.1405390625,
           61.9149296875,
           20.008271484375,
           61.34462890625,
           25.56583984375,
           40.72021875,
           39.7340625,
           73.076,
           22.86941015625,
           115.0466796875,
           49.50704296875,
           36.858078125,
           55.4427578125,
           101.607359375,
           32.4074609375,
           63.25069140625,
           56.7165625,
           40.73880078125,
           15.57008984375,
           36.87551171875,
           55.57026953125,
           53.2650703125,
           37.99469921875,
           50.06526953125,
           27.338478515625,
           95.635765625,
           4.06381005859375,
           75.441765625,
           100.07021875,
           66.4242265625,
           44.45294921875,
           24.721830078125,
           25.06733984375,
           29.676060546875
          ],
          "coloraxis": "coloraxis",
          "symbol": "circle"
         },
         "mode": "markers",
         "name": "",
         "orientation": "v",
         "showlegend": false,
         "type": "scatter",
         "x": [
          40.8667106628418,
          17.375,
          160.089599609375,
          433.38873291015625,
          222.1921844482422,
          190.3143615722656,
          133.75616455078125,
          27.51551818847656,
          109.98186492919922,
          290,
          219.6205902099609,
          445,
          306,
          192,
          172,
          542,
          280,
          463,
          45,
          1584,
          157,
          164,
          1161,
          518,
          64,
          788,
          90,
          29,
          141,
          1579,
          150,
          234,
          1746,
          546,
          2120,
          151,
          129,
          108,
          53,
          105,
          156,
          32,
          193,
          157,
          70,
          139,
          416,
          263,
          144,
          282,
          33,
          58,
          107,
          204,
          184,
          169,
          230,
          279,
          197,
          358,
          172,
          277,
          205,
          391,
          534,
          163,
          195,
          448,
          1377,
          769,
          661,
          1414,
          1329,
          724,
          1260,
          776,
          281,
          193,
          409,
          2254,
          148,
          581,
          536,
          135,
          507,
          746,
          586,
          577,
          1236,
          1358,
          1551.408203125,
          502.6546936035156,
          1100,
          161.90960693359375,
          1285.653564453125,
          100.1999969482422,
          758,
          727,
          285,
          44,
          99,
          511,
          724,
          573,
          257,
          395,
          980,
          177,
          490,
          937,
          764,
          959,
          104,
          416,
          274,
          1306,
          370,
          721,
          575,
          436,
          1028.66552734375,
          335.7300109863281,
          273.6499938964844,
          437.73779296875,
          179.9199981689453,
          1187,
          1169,
          1243,
          565,
          420,
          268,
          300,
          211,
          1100,
          306,
          43.28333282470703,
          1407,
          210,
          155,
          262,
          1243,
          421,
          1111,
          1489,
          1203,
          153,
          793,
          1824,
          1476,
          1242,
          729,
          2117,
          487.8233337402344,
          564,
          308,
          396.320556640625,
          191.6266632080078,
          456,
          409,
          95,
          410,
          192,
          379,
          62.31476211547852,
          296,
          45,
          430,
          365,
          240,
          269,
          220,
          202,
          55.77190399169922,
          943,
          699,
          29,
          296,
          218,
          109,
          2203,
          166,
          150,
          387,
          425,
          414,
          549,
          583,
          1529,
          392,
          1560,
          2826,
          507,
          601,
          551,
          265,
          1385,
          1348,
          106,
          327,
          31,
          674,
          263,
          799,
          146,
          206,
          357,
          414,
          246,
          311,
          190,
          1634,
          251,
          395.26666259765625,
          98.47000122070312,
          174.53500366210938,
          287.50225830078125,
          384.8787841796875,
          185.98838806152344,
          388.336669921875,
          1060.2401123046875,
          367.8414611816406,
          203.52932739257807,
          583.3316650390625,
          1039.22607421875,
          386.4044494628906,
          835.37939453125,
          567.7510375976562,
          315.1576232910156,
          184.50582885742188,
          1457.8424072265625,
          42.50785827636719,
          1940,
          774,
          814,
          1353,
          688,
          162,
          791,
          467,
          921,
          92.38333129882812,
          176.75999450683594,
          1230,
          418,
          205,
          240,
          68,
          1154,
          54,
          1516,
          2136,
          1425,
          1087,
          535,
          62,
          667
         ],
         "xaxis": "x",
         "y": [
          21.151871481668593,
          20.98899082568807,
          26.89923070790816,
          27.20922130425592,
          24.94252626472163,
          28.722138949582572,
          26.43858034826754,
          12.817582417582418,
          26.057753182434467,
          23.805481261121,
          16.153192849276273,
          22.905242412297987,
          24.475282906491955,
          23.57560813502968,
          16.58921752100465,
          22.731039029535868,
          23.50352800960463,
          25.22295433782762,
          29.78832487309645,
          17.743172526574,
          24.909648262331842,
          22.430618688454583,
          12.42509741459307,
          14.655852842809363,
          24.202018962824596,
          12.04368491972477,
          24.150723126367616,
          31.333797909407668,
          26.633978494623655,
          15.99925266595154,
          26.001158348056535,
          26.999051799824407,
          17.189435560481318,
          25.41172581785137,
          20.78340454851161,
          30.157693850723845,
          23.654795206310684,
          16.794835329341318,
          30.097842437778084,
          29.72306863556681,
          29.634220756420547,
          29.75338972107438,
          27.41290578982597,
          29.839448143597238,
          15.234769386720732,
          30.434480885260427,
          27.746837165011563,
          28.22265239361702,
          27.88318522257701,
          26.712438559322035,
          26.70502796857998,
          25.209551886792454,
          29.478456922541742,
          27.907012648809523,
          25.474746204559782,
          26.451017268529842,
          30.08205143101761,
          26.733359863046612,
          27.054151305117237,
          24.92416511727689,
          26.30626331676136,
          25.78854961832061,
          27.472535327188005,
          28.52166252615063,
          24.730465274525873,
          20.88057852486721,
          24.503607106264635,
          28.129562192351383,
          21.488234468562876,
          17.89571780680524,
          19.725759690165578,
          18.952773109243697,
          15.66970043294235,
          19.70450041508539,
          18.528864138553466,
          22.22931654353751,
          24.26906142816311,
          26.751343457943925,
          26.0175772817728,
          21.166605956032722,
          33.41276306682131,
          23.74754517474186,
          28.619492077273716,
          30.29208308215639,
          24.8352793314256,
          24.62085935024818,
          19.888618389033095,
          18.21031373069748,
          19.582683557428147,
          18.494732450192966,
          19.340908553875238,
          20.12995276162791,
          21.470110076206605,
          18.130291645324164,
          20.35874296105115,
          18.414420255757307,
          17.46929464541376,
          14.179351301964367,
          24.690521559233446,
          22.569230769230767,
          26.857143798669696,
          23.83547985043623,
          18.081999310512654,
          24.12163429054054,
          27.356961259967168,
          19.88208328885568,
          23.944093921322757,
          29.261915492957744,
          25.93108973124904,
          18.879473965177397,
          21.604029890447666,
          23.99372864110849,
          28.23753672175646,
          26.195388658880532,
          28.17657190509631,
          17.44684629091869,
          24.769841913101445,
          18.797067505919333,
          19.622752727016586,
          20.267931698343663,
          19.710843007559394,
          23.03237256464356,
          23.556820763542408,
          25.58180562200957,
          25.46321268541409,
          22.706556388317036,
          24.234532161583342,
          21.702081625962958,
          25.61083764626463,
          24.635116245928337,
          25.47466055772041,
          25.34388287511131,
          23.315497002450552,
          20.700017267639556,
          26.431533454647255,
          20.904215640765134,
          12.191079267740767,
          24.948958029994177,
          31.7445059193686,
          26.667489376921765,
          19.805940348678213,
          24.267206079072533,
          14.774469756480753,
          21.302514618772783,
          17.19454993834772,
          27.647367275721454,
          25.350897435897437,
          18.535643836252245,
          24.043892880470278,
          13.097851653512349,
          14.952576379812262,
          15.847482632557801,
          24.844734036251626,
          22.935283430232555,
          26.192424898666317,
          24.12339966224828,
          26.571601596087707,
          22.90135044242497,
          27.223270829386127,
          26.182800396126762,
          26.23004646998636,
          24.023870152921898,
          23.146639676113363,
          22.158630705532964,
          25.599333704311153,
          24.5334780158235,
          23.526904050055478,
          27.33484943425952,
          24.20089491200361,
          24.1819302417048,
          25.603704728457892,
          26.116278067791765,
          16.253405351216813,
          12.197322700060834,
          14.192310603743577,
          28.26174379397967,
          18.63311461948438,
          23.50945125994695,
          29.151352649676376,
          18.553233554601718,
          25.155280882433022,
          19.825614422937242,
          26.325834377937948,
          25.11838646994897,
          23.501799697911775,
          26.448502845420858,
          24.47053003068328,
          20.346554606871265,
          23.360544650359444,
          17.468777222721148,
          19.455001311123322,
          18.120991532207437,
          22.91918376150307,
          24.45357348688071,
          25.398147849895313,
          9.426284817575521,
          24.542632516442218,
          33.217677919708024,
          18.75069798663034,
          19.903159959296218,
          9.317244470196615,
          16.519733395969137,
          14.637663372151142,
          17.971876398418853,
          26.528874796665313,
          24.868541510845173,
          26.815092268318967,
          27.44028859354289,
          18.389684823340474,
          27.46006502041069,
          20.019339526683396,
          16.052233075446946,
          28.907837929475587,
          28.24997871033115,
          23.08493774156711,
          22.102773208441295,
          19.00720347389448,
          20.523225898018165,
          22.57972925815558,
          19.795091035042542,
          19.217490834497205,
          21.186000173112433,
          19.006743081613507,
          21.88236274052621,
          18.910416735035444,
          21.33107930672269,
          18.925976442011102,
          23.686021570528357,
          24.020591939546602,
          24.86048006048006,
          20.582469140625,
          23.476252515304385,
          21.779952913051446,
          21.322365619476138,
          20.963546699401324,
          30.00709546759639,
          34.103145096463024,
          26.178717988330646,
          26.662264951684516,
          20.749813640704584,
          23.821641919889505,
          24.34473540940766,
          20.24622713414634,
          31.189696344339623,
          25.619201570987077,
          28.87455467999039,
          15.220928341517165,
          25.890265923447135,
          27.919305746063934,
          21.58048122765197,
          20.025168843802113,
          22.354605555295876,
          20.383469263469625,
          20.891687389964787,
          17.83447103507905,
          21.005469518039718
         ],
         "yaxis": "y"
        },
        {
         "hovertemplate": "Activity Date: %{customdata[1]|%Y-%m-%d}<br>Distance (km): %{x:.1f}<br>Average speed (km/hr): %{y:.1f}<br>Elevation gain: %{customdata[0]:.1f}",
         "legendgroup": "",
         "line": {
          "color": "black"
         },
         "marker": {
          "symbol": "circle"
         },
         "mode": "lines",
         "name": "",
         "showlegend": false,
         "type": "scatter",
         "x": [
          17.375,
          27.51551818847656,
          29,
          29,
          31,
          32,
          33,
          40.8667106628418,
          42.50785827636719,
          43.28333282470703,
          44,
          45,
          45,
          53,
          54,
          55.77190399169922,
          58,
          62,
          62.31476211547852,
          64,
          68,
          70,
          90,
          92.38333129882812,
          95,
          98.47000122070312,
          99,
          100.1999969482422,
          104,
          105,
          106,
          107,
          108,
          109,
          109.98186492919922,
          129,
          133.75616455078125,
          135,
          139,
          141,
          144,
          146,
          148,
          150,
          150,
          151,
          153,
          155,
          156,
          157,
          157,
          160.089599609375,
          161.90960693359375,
          162,
          163,
          164,
          166,
          169,
          172,
          172,
          174.53500366210938,
          176.75999450683594,
          177,
          179.9199981689453,
          184,
          184.50582885742188,
          185.98838806152344,
          190,
          190.3143615722656,
          191.6266632080078,
          192,
          192,
          193,
          193,
          195,
          197,
          202,
          203.52932739257807,
          204,
          205,
          205,
          206,
          210,
          211,
          218,
          219.6205902099609,
          220,
          222.1921844482422,
          230,
          234,
          240,
          240,
          246,
          251,
          257,
          262,
          263,
          263,
          265,
          268,
          269,
          273.6499938964844,
          274,
          277,
          279,
          280,
          281,
          282,
          285,
          287.50225830078125,
          290,
          296,
          296,
          300,
          306,
          306,
          308,
          311,
          315.1576232910156,
          327,
          335.7300109863281,
          357,
          358,
          365,
          367.8414611816406,
          370,
          379,
          384.8787841796875,
          386.4044494628906,
          387,
          388.336669921875,
          391,
          392,
          395,
          395.26666259765625,
          396.320556640625,
          409,
          409,
          410,
          414,
          414,
          416,
          416,
          418,
          420,
          421,
          425,
          430,
          433.38873291015625,
          436,
          437.73779296875,
          445,
          448,
          456,
          463,
          467,
          487.8233337402344,
          490,
          502.6546936035156,
          507,
          507,
          511,
          518,
          534,
          535,
          536,
          542,
          546,
          549,
          551,
          564,
          565,
          567.7510375976562,
          573,
          575,
          577,
          581,
          583,
          583.3316650390625,
          586,
          601,
          661,
          667,
          674,
          688,
          699,
          721,
          724,
          724,
          727,
          729,
          746,
          758,
          764,
          769,
          774,
          776,
          788,
          791,
          793,
          799,
          814,
          835.37939453125,
          921,
          937,
          943,
          959,
          980,
          1028.66552734375,
          1039.22607421875,
          1060.2401123046875,
          1087,
          1100,
          1100,
          1111,
          1154,
          1161,
          1169,
          1187,
          1203,
          1230,
          1236,
          1242,
          1243,
          1243,
          1260,
          1285.653564453125,
          1306,
          1329,
          1348,
          1353,
          1358,
          1377,
          1385,
          1407,
          1414,
          1425,
          1457.8424072265625,
          1476,
          1489,
          1516,
          1529,
          1551.408203125,
          1560,
          1579,
          1584,
          1634,
          1746,
          1824,
          1940,
          2117,
          2120,
          2136,
          2203,
          2254,
          2826
         ],
         "xaxis": "x",
         "y": [
          25.15982435813128,
          25.11935748649462,
          25.113433495846675,
          25.113433495846675,
          25.105452272227815,
          25.101461660418387,
          25.09747104860896,
          25.066078060136466,
          25.059528877088916,
          25.056434259198397,
          25.053574318705245,
          25.049583706895817,
          25.049583706895817,
          25.017658812420386,
          25.013668200610958,
          25.00659721961651,
          24.997705753373243,
          24.981743306135527,
          24.980487212720337,
          24.973762082516668,
          24.957799635278956,
          24.949818411660097,
          24.870006175471524,
          24.860495225444637,
          24.85005311642438,
          24.83620568857431,
          24.834090669186665,
          24.82930194719373,
          24.81413761013952,
          24.810146998330094,
          24.806156386520666,
          24.802165774711234,
          24.798175162901806,
          24.79418455109238,
          24.790266309310653,
          24.714372314903805,
          24.69539230847987,
          24.69042864404723,
          24.67446619680952,
          24.66648497319066,
          24.654513137762375,
          24.646531914143516,
          24.63855069052466,
          24.6305694669058,
          24.6305694669058,
          24.626578855096373,
          24.618597631477517,
          24.610616407858657,
          24.60662579604923,
          24.6026351842398,
          24.6026351842398,
          24.590305791552222,
          24.58304284883095,
          24.582682125192658,
          24.57869151338323,
          24.5747009015738,
          24.566719677954943,
          24.554747842526655,
          24.54277600709837,
          24.54277600709837,
          24.532659791547413,
          24.523780716806574,
          24.52282294805123,
          24.511170368874723,
          24.494888665385226,
          24.49287009877325,
          24.486953780505182,
          24.470944994528654,
          24.46969049952594,
          24.464453613120813,
          24.462963770909795,
          24.462963770909795,
          24.458973159100367,
          24.458973159100367,
          24.45099193548151,
          24.44301071186265,
          24.42305765281551,
          24.416954700862206,
          24.415076429196652,
          24.411085817387224,
          24.411085817387224,
          24.407095205577797,
          24.39113275834008,
          24.38714214653065,
          24.35920786386465,
          24.352740717434536,
          24.351226640245795,
          24.34247848309819,
          24.311320522151505,
          24.295358074913793,
          24.271414404057218,
          24.271414404057218,
          24.247470733200647,
          24.227517674153503,
          24.203574003296932,
          24.18362094424979,
          24.179630332440357,
          24.179630332440357,
          24.1716491088215,
          24.159677273393214,
          24.155686661583786,
          24.137130341026705,
          24.135733602536643,
          24.123761767108356,
          24.1157805434895,
          24.11178993168007,
          24.107799319870644,
          24.103808708061212,
          24.09183687263293,
          24.08185133110759,
          24.071883813585785,
          24.04794014272921,
          24.04794014272921,
          24.0319776954915,
          24.008034024634924,
          24.008034024634924,
          24.000052801016068,
          23.98808096558778,
          23.9714895049835,
          23.924231176636923,
          23.889393091698437,
          23.804512822354063,
          23.80052221054463,
          23.772587927878632,
          23.761248759331142,
          23.75263486883149,
          23.71671936254663,
          23.693259416974087,
          23.6871710790777,
          23.6847944680712,
          23.67946033729566,
          23.668832020833484,
          23.664841409024056,
          23.652869573595773,
          23.65180542668443,
          23.647599744670675,
          23.59700100826377,
          23.59700100826377,
          23.59301039645434,
          23.577047949216627,
          23.577047949216627,
          23.569066725597768,
          23.569066725597768,
          23.561085501978912,
          23.553104278360053,
          23.549113666550625,
          23.53315121931291,
          23.513198160265766,
          23.499675042695497,
          23.489254489409195,
          23.48231963226576,
          23.453338983124336,
          23.44136714769605,
          23.40944225322062,
          23.38150797055462,
          23.365545523316904,
          23.282447681781452,
          23.273761451700047,
          23.223261481961153,
          23.205921050939757,
          23.205921050939757,
          23.189958603702042,
          23.162024321036043,
          23.09817453208518,
          23.094183920275754,
          23.090193308466326,
          23.06624963760975,
          23.05028719037204,
          23.03831535494375,
          23.030334131324896,
          22.97845617780232,
          22.974465565992894,
          22.963487242867505,
          22.942540671517463,
          22.934559447898607,
          22.926578224279748,
          22.910615777042032,
          22.902634553423177,
          22.901311007001517,
          22.89066271799489,
          22.83080354085346,
          22.591366832287736,
          22.567423161431165,
          22.539488878765166,
          22.483620313433164,
          22.439723583529446,
          22.351930123722017,
          22.33995828829373,
          22.33995828829373,
          22.327986452865446,
          22.320005229246586,
          22.2521648284863,
          22.204277486773154,
          22.180333815916583,
          22.16038075686944,
          22.140427697822297,
          22.132446474203437,
          22.084559132490295,
          22.072587297062007,
          22.06460607344315,
          22.040662402586577,
          21.980803225445147,
          21.895486361150304,
          21.553807761836275,
          21.489957972885417,
          21.466014302028846,
          21.402164513077985,
          21.318361665079983,
          21.12415643694994,
          21.08201339387654,
          20.998154525327013,
          20.891366201471115,
          20.83948824794854,
          20.83948824794854,
          20.795591518044823,
          20.62399521023939,
          20.59606092757339,
          20.56413603309796,
          20.492305020528242,
          20.428455231577384,
          20.32070871272281,
          20.296765041866237,
          20.272821371009666,
          20.268830759200235,
          20.268830759200235,
          20.20099035843995,
          20.09861694117937,
          20.017422215206228,
          19.925638143589367,
          19.849816519210222,
          19.82986346016308,
          19.809910401115935,
          19.73408877673679,
          19.70216388226136,
          19.61437042245393,
          19.586436139787928,
          19.542539409884213,
          19.411478111755827,
          19.33901820760335,
          19.287140254080775,
          19.179393735226203,
          19.12751578170363,
          19.038093341684927,
          19.00380681561134,
          18.927985191232196,
          18.90803213218505,
          18.708501541713616,
          18.2615530190576,
          17.950285297922164,
          17.487374328028434,
          16.781036037759556,
          16.769064202331272,
          16.70521441338041,
          16.43784342214869,
          16.234322219867824,
          13.951692264874609
         ],
         "yaxis": "y"
        }
       ],
       "layout": {
        "autosize": false,
        "coloraxis": {
         "colorbar": {
          "thickness": 15,
          "tickfont": {
           "size": 10
          },
          "ticklen": 3,
          "title": {
           "font": {
            "size": 12
           },
           "text": "Elevation gain"
          }
         },
         "colorscale": [
          [
           0,
           "rgb(3, 35, 51)"
          ],
          [
           0.09090909090909091,
           "rgb(13, 48, 100)"
          ],
          [
           0.18181818181818182,
           "rgb(53, 50, 155)"
          ],
          [
           0.2727272727272727,
           "rgb(93, 62, 153)"
          ],
          [
           0.36363636363636365,
           "rgb(126, 77, 143)"
          ],
          [
           0.45454545454545453,
           "rgb(158, 89, 135)"
          ],
          [
           0.5454545454545454,
           "rgb(193, 100, 121)"
          ],
          [
           0.6363636363636364,
           "rgb(225, 113, 97)"
          ],
          [
           0.7272727272727273,
           "rgb(246, 139, 69)"
          ],
          [
           0.8181818181818182,
           "rgb(251, 173, 60)"
          ],
          [
           0.9090909090909091,
           "rgb(246, 211, 70)"
          ],
          [
           1,
           "rgb(231, 250, 90)"
          ]
         ]
        },
        "height": 600,
        "legend": {
         "tracegroupgap": 0
        },
        "template": {
         "data": {
          "bar": [
           {
            "error_x": {
             "color": "rgb(36,36,36)"
            },
            "error_y": {
             "color": "rgb(36,36,36)"
            },
            "marker": {
             "line": {
              "color": "rgb(234,234,242)",
              "width": 0.5
             },
             "pattern": {
              "fillmode": "overlay",
              "size": 10,
              "solidity": 0.2
             }
            },
            "type": "bar"
           }
          ],
          "barpolar": [
           {
            "marker": {
             "line": {
              "color": "rgb(234,234,242)",
              "width": 0.5
             },
             "pattern": {
              "fillmode": "overlay",
              "size": 10,
              "solidity": 0.2
             }
            },
            "type": "barpolar"
           }
          ],
          "carpet": [
           {
            "aaxis": {
             "endlinecolor": "rgb(36,36,36)",
             "gridcolor": "white",
             "linecolor": "white",
             "minorgridcolor": "white",
             "startlinecolor": "rgb(36,36,36)"
            },
            "baxis": {
             "endlinecolor": "rgb(36,36,36)",
             "gridcolor": "white",
             "linecolor": "white",
             "minorgridcolor": "white",
             "startlinecolor": "rgb(36,36,36)"
            },
            "type": "carpet"
           }
          ],
          "choropleth": [
           {
            "colorbar": {
             "outlinewidth": 0,
             "tickcolor": "rgb(36,36,36)",
             "ticklen": 8,
             "ticks": "outside",
             "tickwidth": 2
            },
            "type": "choropleth"
           }
          ],
          "contour": [
           {
            "colorbar": {
             "outlinewidth": 0,
             "tickcolor": "rgb(36,36,36)",
             "ticklen": 8,
             "ticks": "outside",
             "tickwidth": 2
            },
            "colorscale": [
             [
              0,
              "rgb(2,4,25)"
             ],
             [
              0.06274509803921569,
              "rgb(24,15,41)"
             ],
             [
              0.12549019607843137,
              "rgb(47,23,57)"
             ],
             [
              0.18823529411764706,
              "rgb(71,28,72)"
             ],
             [
              0.25098039215686274,
              "rgb(97,30,82)"
             ],
             [
              0.3137254901960784,
              "rgb(123,30,89)"
             ],
             [
              0.3764705882352941,
              "rgb(150,27,91)"
             ],
             [
              0.4392156862745098,
              "rgb(177,22,88)"
             ],
             [
              0.5019607843137255,
              "rgb(203,26,79)"
             ],
             [
              0.5647058823529412,
              "rgb(223,47,67)"
             ],
             [
              0.6274509803921569,
              "rgb(236,76,61)"
             ],
             [
              0.6901960784313725,
              "rgb(242,107,73)"
             ],
             [
              0.7529411764705882,
              "rgb(244,135,95)"
             ],
             [
              0.8156862745098039,
              "rgb(245,162,122)"
             ],
             [
              0.8784313725490196,
              "rgb(246,188,153)"
             ],
             [
              0.9411764705882353,
              "rgb(247,212,187)"
             ],
             [
              1,
              "rgb(250,234,220)"
             ]
            ],
            "type": "contour"
           }
          ],
          "contourcarpet": [
           {
            "colorbar": {
             "outlinewidth": 0,
             "tickcolor": "rgb(36,36,36)",
             "ticklen": 8,
             "ticks": "outside",
             "tickwidth": 2
            },
            "type": "contourcarpet"
           }
          ],
          "heatmap": [
           {
            "colorbar": {
             "outlinewidth": 0,
             "tickcolor": "rgb(36,36,36)",
             "ticklen": 8,
             "ticks": "outside",
             "tickwidth": 2
            },
            "colorscale": [
             [
              0,
              "rgb(2,4,25)"
             ],
             [
              0.06274509803921569,
              "rgb(24,15,41)"
             ],
             [
              0.12549019607843137,
              "rgb(47,23,57)"
             ],
             [
              0.18823529411764706,
              "rgb(71,28,72)"
             ],
             [
              0.25098039215686274,
              "rgb(97,30,82)"
             ],
             [
              0.3137254901960784,
              "rgb(123,30,89)"
             ],
             [
              0.3764705882352941,
              "rgb(150,27,91)"
             ],
             [
              0.4392156862745098,
              "rgb(177,22,88)"
             ],
             [
              0.5019607843137255,
              "rgb(203,26,79)"
             ],
             [
              0.5647058823529412,
              "rgb(223,47,67)"
             ],
             [
              0.6274509803921569,
              "rgb(236,76,61)"
             ],
             [
              0.6901960784313725,
              "rgb(242,107,73)"
             ],
             [
              0.7529411764705882,
              "rgb(244,135,95)"
             ],
             [
              0.8156862745098039,
              "rgb(245,162,122)"
             ],
             [
              0.8784313725490196,
              "rgb(246,188,153)"
             ],
             [
              0.9411764705882353,
              "rgb(247,212,187)"
             ],
             [
              1,
              "rgb(250,234,220)"
             ]
            ],
            "type": "heatmap"
           }
          ],
          "heatmapgl": [
           {
            "colorbar": {
             "outlinewidth": 0,
             "tickcolor": "rgb(36,36,36)",
             "ticklen": 8,
             "ticks": "outside",
             "tickwidth": 2
            },
            "colorscale": [
             [
              0,
              "rgb(2,4,25)"
             ],
             [
              0.06274509803921569,
              "rgb(24,15,41)"
             ],
             [
              0.12549019607843137,
              "rgb(47,23,57)"
             ],
             [
              0.18823529411764706,
              "rgb(71,28,72)"
             ],
             [
              0.25098039215686274,
              "rgb(97,30,82)"
             ],
             [
              0.3137254901960784,
              "rgb(123,30,89)"
             ],
             [
              0.3764705882352941,
              "rgb(150,27,91)"
             ],
             [
              0.4392156862745098,
              "rgb(177,22,88)"
             ],
             [
              0.5019607843137255,
              "rgb(203,26,79)"
             ],
             [
              0.5647058823529412,
              "rgb(223,47,67)"
             ],
             [
              0.6274509803921569,
              "rgb(236,76,61)"
             ],
             [
              0.6901960784313725,
              "rgb(242,107,73)"
             ],
             [
              0.7529411764705882,
              "rgb(244,135,95)"
             ],
             [
              0.8156862745098039,
              "rgb(245,162,122)"
             ],
             [
              0.8784313725490196,
              "rgb(246,188,153)"
             ],
             [
              0.9411764705882353,
              "rgb(247,212,187)"
             ],
             [
              1,
              "rgb(250,234,220)"
             ]
            ],
            "type": "heatmapgl"
           }
          ],
          "histogram": [
           {
            "marker": {
             "pattern": {
              "fillmode": "overlay",
              "size": 10,
              "solidity": 0.2
             }
            },
            "type": "histogram"
           }
          ],
          "histogram2d": [
           {
            "colorbar": {
             "outlinewidth": 0,
             "tickcolor": "rgb(36,36,36)",
             "ticklen": 8,
             "ticks": "outside",
             "tickwidth": 2
            },
            "colorscale": [
             [
              0,
              "rgb(2,4,25)"
             ],
             [
              0.06274509803921569,
              "rgb(24,15,41)"
             ],
             [
              0.12549019607843137,
              "rgb(47,23,57)"
             ],
             [
              0.18823529411764706,
              "rgb(71,28,72)"
             ],
             [
              0.25098039215686274,
              "rgb(97,30,82)"
             ],
             [
              0.3137254901960784,
              "rgb(123,30,89)"
             ],
             [
              0.3764705882352941,
              "rgb(150,27,91)"
             ],
             [
              0.4392156862745098,
              "rgb(177,22,88)"
             ],
             [
              0.5019607843137255,
              "rgb(203,26,79)"
             ],
             [
              0.5647058823529412,
              "rgb(223,47,67)"
             ],
             [
              0.6274509803921569,
              "rgb(236,76,61)"
             ],
             [
              0.6901960784313725,
              "rgb(242,107,73)"
             ],
             [
              0.7529411764705882,
              "rgb(244,135,95)"
             ],
             [
              0.8156862745098039,
              "rgb(245,162,122)"
             ],
             [
              0.8784313725490196,
              "rgb(246,188,153)"
             ],
             [
              0.9411764705882353,
              "rgb(247,212,187)"
             ],
             [
              1,
              "rgb(250,234,220)"
             ]
            ],
            "type": "histogram2d"
           }
          ],
          "histogram2dcontour": [
           {
            "colorbar": {
             "outlinewidth": 0,
             "tickcolor": "rgb(36,36,36)",
             "ticklen": 8,
             "ticks": "outside",
             "tickwidth": 2
            },
            "colorscale": [
             [
              0,
              "rgb(2,4,25)"
             ],
             [
              0.06274509803921569,
              "rgb(24,15,41)"
             ],
             [
              0.12549019607843137,
              "rgb(47,23,57)"
             ],
             [
              0.18823529411764706,
              "rgb(71,28,72)"
             ],
             [
              0.25098039215686274,
              "rgb(97,30,82)"
             ],
             [
              0.3137254901960784,
              "rgb(123,30,89)"
             ],
             [
              0.3764705882352941,
              "rgb(150,27,91)"
             ],
             [
              0.4392156862745098,
              "rgb(177,22,88)"
             ],
             [
              0.5019607843137255,
              "rgb(203,26,79)"
             ],
             [
              0.5647058823529412,
              "rgb(223,47,67)"
             ],
             [
              0.6274509803921569,
              "rgb(236,76,61)"
             ],
             [
              0.6901960784313725,
              "rgb(242,107,73)"
             ],
             [
              0.7529411764705882,
              "rgb(244,135,95)"
             ],
             [
              0.8156862745098039,
              "rgb(245,162,122)"
             ],
             [
              0.8784313725490196,
              "rgb(246,188,153)"
             ],
             [
              0.9411764705882353,
              "rgb(247,212,187)"
             ],
             [
              1,
              "rgb(250,234,220)"
             ]
            ],
            "type": "histogram2dcontour"
           }
          ],
          "mesh3d": [
           {
            "colorbar": {
             "outlinewidth": 0,
             "tickcolor": "rgb(36,36,36)",
             "ticklen": 8,
             "ticks": "outside",
             "tickwidth": 2
            },
            "type": "mesh3d"
           }
          ],
          "parcoords": [
           {
            "line": {
             "colorbar": {
              "outlinewidth": 0,
              "tickcolor": "rgb(36,36,36)",
              "ticklen": 8,
              "ticks": "outside",
              "tickwidth": 2
             }
            },
            "type": "parcoords"
           }
          ],
          "pie": [
           {
            "automargin": true,
            "type": "pie"
           }
          ],
          "scatter": [
           {
            "fillpattern": {
             "fillmode": "overlay",
             "size": 10,
             "solidity": 0.2
            },
            "type": "scatter"
           }
          ],
          "scatter3d": [
           {
            "line": {
             "colorbar": {
              "outlinewidth": 0,
              "tickcolor": "rgb(36,36,36)",
              "ticklen": 8,
              "ticks": "outside",
              "tickwidth": 2
             }
            },
            "marker": {
             "colorbar": {
              "outlinewidth": 0,
              "tickcolor": "rgb(36,36,36)",
              "ticklen": 8,
              "ticks": "outside",
              "tickwidth": 2
             }
            },
            "type": "scatter3d"
           }
          ],
          "scattercarpet": [
           {
            "marker": {
             "colorbar": {
              "outlinewidth": 0,
              "tickcolor": "rgb(36,36,36)",
              "ticklen": 8,
              "ticks": "outside",
              "tickwidth": 2
             }
            },
            "type": "scattercarpet"
           }
          ],
          "scattergeo": [
           {
            "marker": {
             "colorbar": {
              "outlinewidth": 0,
              "tickcolor": "rgb(36,36,36)",
              "ticklen": 8,
              "ticks": "outside",
              "tickwidth": 2
             }
            },
            "type": "scattergeo"
           }
          ],
          "scattergl": [
           {
            "marker": {
             "colorbar": {
              "outlinewidth": 0,
              "tickcolor": "rgb(36,36,36)",
              "ticklen": 8,
              "ticks": "outside",
              "tickwidth": 2
             }
            },
            "type": "scattergl"
           }
          ],
          "scattermapbox": [
           {
            "marker": {
             "colorbar": {
              "outlinewidth": 0,
              "tickcolor": "rgb(36,36,36)",
              "ticklen": 8,
              "ticks": "outside",
              "tickwidth": 2
             }
            },
            "type": "scattermapbox"
           }
          ],
          "scatterpolar": [
           {
            "marker": {
             "colorbar": {
              "outlinewidth": 0,
              "tickcolor": "rgb(36,36,36)",
              "ticklen": 8,
              "ticks": "outside",
              "tickwidth": 2
             }
            },
            "type": "scatterpolar"
           }
          ],
          "scatterpolargl": [
           {
            "marker": {
             "colorbar": {
              "outlinewidth": 0,
              "tickcolor": "rgb(36,36,36)",
              "ticklen": 8,
              "ticks": "outside",
              "tickwidth": 2
             }
            },
            "type": "scatterpolargl"
           }
          ],
          "scatterternary": [
           {
            "marker": {
             "colorbar": {
              "outlinewidth": 0,
              "tickcolor": "rgb(36,36,36)",
              "ticklen": 8,
              "ticks": "outside",
              "tickwidth": 2
             }
            },
            "type": "scatterternary"
           }
          ],
          "surface": [
           {
            "colorbar": {
             "outlinewidth": 0,
             "tickcolor": "rgb(36,36,36)",
             "ticklen": 8,
             "ticks": "outside",
             "tickwidth": 2
            },
            "colorscale": [
             [
              0,
              "rgb(2,4,25)"
             ],
             [
              0.06274509803921569,
              "rgb(24,15,41)"
             ],
             [
              0.12549019607843137,
              "rgb(47,23,57)"
             ],
             [
              0.18823529411764706,
              "rgb(71,28,72)"
             ],
             [
              0.25098039215686274,
              "rgb(97,30,82)"
             ],
             [
              0.3137254901960784,
              "rgb(123,30,89)"
             ],
             [
              0.3764705882352941,
              "rgb(150,27,91)"
             ],
             [
              0.4392156862745098,
              "rgb(177,22,88)"
             ],
             [
              0.5019607843137255,
              "rgb(203,26,79)"
             ],
             [
              0.5647058823529412,
              "rgb(223,47,67)"
             ],
             [
              0.6274509803921569,
              "rgb(236,76,61)"
             ],
             [
              0.6901960784313725,
              "rgb(242,107,73)"
             ],
             [
              0.7529411764705882,
              "rgb(244,135,95)"
             ],
             [
              0.8156862745098039,
              "rgb(245,162,122)"
             ],
             [
              0.8784313725490196,
              "rgb(246,188,153)"
             ],
             [
              0.9411764705882353,
              "rgb(247,212,187)"
             ],
             [
              1,
              "rgb(250,234,220)"
             ]
            ],
            "type": "surface"
           }
          ],
          "table": [
           {
            "cells": {
             "fill": {
              "color": "rgb(231,231,240)"
             },
             "line": {
              "color": "white"
             }
            },
            "header": {
             "fill": {
              "color": "rgb(183,183,191)"
             },
             "line": {
              "color": "white"
             }
            },
            "type": "table"
           }
          ]
         },
         "layout": {
          "annotationdefaults": {
           "arrowcolor": "rgb(67,103,167)"
          },
          "autotypenumbers": "strict",
          "coloraxis": {
           "colorbar": {
            "outlinewidth": 0,
            "tickcolor": "rgb(36,36,36)",
            "ticklen": 8,
            "ticks": "outside",
            "tickwidth": 2
           }
          },
          "colorscale": {
           "sequential": [
            [
             0,
             "rgb(2,4,25)"
            ],
            [
             0.06274509803921569,
             "rgb(24,15,41)"
            ],
            [
             0.12549019607843137,
             "rgb(47,23,57)"
            ],
            [
             0.18823529411764706,
             "rgb(71,28,72)"
            ],
            [
             0.25098039215686274,
             "rgb(97,30,82)"
            ],
            [
             0.3137254901960784,
             "rgb(123,30,89)"
            ],
            [
             0.3764705882352941,
             "rgb(150,27,91)"
            ],
            [
             0.4392156862745098,
             "rgb(177,22,88)"
            ],
            [
             0.5019607843137255,
             "rgb(203,26,79)"
            ],
            [
             0.5647058823529412,
             "rgb(223,47,67)"
            ],
            [
             0.6274509803921569,
             "rgb(236,76,61)"
            ],
            [
             0.6901960784313725,
             "rgb(242,107,73)"
            ],
            [
             0.7529411764705882,
             "rgb(244,135,95)"
            ],
            [
             0.8156862745098039,
             "rgb(245,162,122)"
            ],
            [
             0.8784313725490196,
             "rgb(246,188,153)"
            ],
            [
             0.9411764705882353,
             "rgb(247,212,187)"
            ],
            [
             1,
             "rgb(250,234,220)"
            ]
           ],
           "sequentialminus": [
            [
             0,
             "rgb(2,4,25)"
            ],
            [
             0.06274509803921569,
             "rgb(24,15,41)"
            ],
            [
             0.12549019607843137,
             "rgb(47,23,57)"
            ],
            [
             0.18823529411764706,
             "rgb(71,28,72)"
            ],
            [
             0.25098039215686274,
             "rgb(97,30,82)"
            ],
            [
             0.3137254901960784,
             "rgb(123,30,89)"
            ],
            [
             0.3764705882352941,
             "rgb(150,27,91)"
            ],
            [
             0.4392156862745098,
             "rgb(177,22,88)"
            ],
            [
             0.5019607843137255,
             "rgb(203,26,79)"
            ],
            [
             0.5647058823529412,
             "rgb(223,47,67)"
            ],
            [
             0.6274509803921569,
             "rgb(236,76,61)"
            ],
            [
             0.6901960784313725,
             "rgb(242,107,73)"
            ],
            [
             0.7529411764705882,
             "rgb(244,135,95)"
            ],
            [
             0.8156862745098039,
             "rgb(245,162,122)"
            ],
            [
             0.8784313725490196,
             "rgb(246,188,153)"
            ],
            [
             0.9411764705882353,
             "rgb(247,212,187)"
            ],
            [
             1,
             "rgb(250,234,220)"
            ]
           ]
          },
          "colorway": [
           "rgb(76,114,176)",
           "rgb(221,132,82)",
           "rgb(85,168,104)",
           "rgb(196,78,82)",
           "rgb(129,114,179)",
           "rgb(147,120,96)",
           "rgb(218,139,195)",
           "rgb(140,140,140)",
           "rgb(204,185,116)",
           "rgb(100,181,205)"
          ],
          "font": {
           "color": "rgb(36,36,36)"
          },
          "geo": {
           "bgcolor": "white",
           "lakecolor": "white",
           "landcolor": "rgb(234,234,242)",
           "showlakes": true,
           "showland": true,
           "subunitcolor": "white"
          },
          "hoverlabel": {
           "align": "left"
          },
          "hovermode": "closest",
          "paper_bgcolor": "white",
          "plot_bgcolor": "rgb(234,234,242)",
          "polar": {
           "angularaxis": {
            "gridcolor": "white",
            "linecolor": "white",
            "showgrid": true,
            "ticks": ""
           },
           "bgcolor": "rgb(234,234,242)",
           "radialaxis": {
            "gridcolor": "white",
            "linecolor": "white",
            "showgrid": true,
            "ticks": ""
           }
          },
          "scene": {
           "xaxis": {
            "backgroundcolor": "rgb(234,234,242)",
            "gridcolor": "white",
            "gridwidth": 2,
            "linecolor": "white",
            "showbackground": true,
            "showgrid": true,
            "ticks": "",
            "zerolinecolor": "white"
           },
           "yaxis": {
            "backgroundcolor": "rgb(234,234,242)",
            "gridcolor": "white",
            "gridwidth": 2,
            "linecolor": "white",
            "showbackground": true,
            "showgrid": true,
            "ticks": "",
            "zerolinecolor": "white"
           },
           "zaxis": {
            "backgroundcolor": "rgb(234,234,242)",
            "gridcolor": "white",
            "gridwidth": 2,
            "linecolor": "white",
            "showbackground": true,
            "showgrid": true,
            "ticks": "",
            "zerolinecolor": "white"
           }
          },
          "shapedefaults": {
           "fillcolor": "rgb(67,103,167)",
           "line": {
            "width": 0
           },
           "opacity": 0.5
          },
          "ternary": {
           "aaxis": {
            "gridcolor": "white",
            "linecolor": "white",
            "showgrid": true,
            "ticks": ""
           },
           "baxis": {
            "gridcolor": "white",
            "linecolor": "white",
            "showgrid": true,
            "ticks": ""
           },
           "bgcolor": "rgb(234,234,242)",
           "caxis": {
            "gridcolor": "white",
            "linecolor": "white",
            "showgrid": true,
            "ticks": ""
           }
          },
          "xaxis": {
           "automargin": true,
           "gridcolor": "white",
           "linecolor": "white",
           "showgrid": true,
           "ticks": "",
           "title": {
            "standoff": 15
           },
           "zerolinecolor": "white"
          },
          "yaxis": {
           "automargin": true,
           "gridcolor": "white",
           "linecolor": "white",
           "showgrid": true,
           "ticks": "",
           "title": {
            "standoff": 15
           },
           "zerolinecolor": "white"
          }
         }
        },
        "title": {
         "text": "My average speed on bicicletas"
        },
        "width": 700,
        "xaxis": {
         "anchor": "y",
         "domain": [
          0,
          1
         ],
         "tickangle": -45,
         "title": {
          "text": "Elevation Gain"
         }
        },
        "yaxis": {
         "anchor": "x",
         "domain": [
          0,
          1
         ],
         "title": {
          "text": "Average Speed (km/hr)"
         }
        }
       }
      },
      "text/html": [
       "<div>                            <div id=\"38bdcd82-1aa4-4e59-968e-772fec26efe8\" class=\"plotly-graph-div\" style=\"height:600px; width:700px;\"></div>            <script type=\"text/javascript\">                require([\"plotly\"], function(Plotly) {                    window.PLOTLYENV=window.PLOTLYENV || {};                                    if (document.getElementById(\"38bdcd82-1aa4-4e59-968e-772fec26efe8\")) {                    Plotly.newPlot(                        \"38bdcd82-1aa4-4e59-968e-772fec26efe8\",                        [{\"customdata\":[[40.8667106628418,\"2018-09-09T17:26:30\"],[17.375,\"2018-09-09T17:38:17\"],[160.089599609375,\"2018-09-10T09:44:29\"],[433.38873291015625,\"2018-09-14T15:54:16\"],[222.1921844482422,\"2018-09-23T16:27:56\"],[190.3143615722656,\"2018-09-29T17:00:38\"],[133.75616455078125,\"2018-11-18T15:07:01\"],[27.51551818847656,\"2018-12-04T19:47:47\"],[109.98186492919922,\"2018-12-18T11:11:37\"],[290.0,\"2019-01-31T11:01:02\"],[219.6205902099609,\"2019-03-31T09:10:27\"],[445.0,\"2019-05-19T09:00:27\"],[306.0,\"2019-03-03T10:29:08\"],[192.0,\"2019-02-09T10:14:33\"],[172.0,\"2019-02-02T11:01:21\"],[542.0,\"2019-05-26T08:58:36\"],[280.0,\"2019-06-01T07:55:05\"],[463.0,\"2019-06-21T16:34:11\"],[45.0,\"2019-06-02T15:51:58\"],[1584.0,\"2019-07-14T09:54:30\"],[157.0,\"2019-07-07T17:38:56\"],[164.0,\"2019-06-23T16:40:57\"],[1161.0,\"2019-07-20T06:53:03\"],[518.0,\"2019-07-19T09:53:37\"],[64.0,\"2019-07-18T14:49:27\"],[788.0,\"2019-07-18T09:43:31\"],[90.0,\"2019-08-09T18:17:23\"],[29.0,\"2019-08-08T18:30:57\"],[141.0,\"2019-08-06T16:12:44\"],[1579.0,\"2019-08-10T09:15:44\"],[150.0,\"2019-08-12T17:46:43\"],[234.0,\"2019-08-18T17:05:22\"],[1746.0,\"2019-08-25T08:06:33\"],[546.0,\"2019-09-01T06:28:57\"],[2120.0,\"2019-09-08T05:03:13\"],[151.0,\"2019-09-21T16:24:33\"],[129.0,\"2020-05-02T10:16:58\"],[108.0,\"2020-05-03T15:25:05\"],[53.0,\"2020-05-05T17:18:54\"],[105.0,\"2020-05-08T16:40:07\"],[156.0,\"2020-05-13T16:09:15\"],[32.0,\"2020-05-09T14:35:35\"],[193.0,\"2019-10-19T08:43:29\"],[157.0,\"2020-05-18T16:28:32\"],[70.0,\"2020-05-16T10:40:28\"],[139.0,\"2020-05-22T17:51:43\"],[416.0,\"2020-05-25T16:32:34\"],[263.0,\"2020-07-05T13:51:38\"],[144.0,\"2020-07-02T16:31:52\"],[282.0,\"2020-06-15T16:37:09\"],[33.0,\"2020-06-12T17:50:34\"],[58.0,\"2020-06-09T16:39:25\"],[107.0,\"2020-05-30T10:34:37\"],[204.0,\"2020-07-11T17:13:54\"],[184.0,\"2020-07-09T17:24:01\"],[169.0,\"2020-07-07T18:14:50\"],[230.0,\"2020-07-14T17:10:28\"],[279.0,\"2020-07-25T08:29:11\"],[197.0,\"2020-08-03T07:10:15\"],[358.0,\"2020-08-04T07:19:02\"],[172.0,\"2020-08-17T17:45:55\"],[277.0,\"2020-08-14T16:53:38\"],[205.0,\"2020-08-12T17:47:51\"],[391.0,\"2020-08-19T15:56:13\"],[534.0,\"2020-08-21T08:22:20\"],[163.0,\"2020-08-23T08:44:13\"],[195.0,\"2020-08-25T17:08:04\"],[448.0,\"2020-08-27T14:09:38\"],[1377.0,\"2020-08-29T07:23:09\"],[769.0,\"2020-09-01T16:28:15\"],[661.0,\"2020-09-02T16:10:10\"],[1414.0,\"2020-09-05T08:11:04\"],[1329.0,\"2020-09-06T07:08:23\"],[724.0,\"2020-09-09T16:09:58\"],[1260.0,\"2020-09-15T16:01:44\"],[776.0,\"2020-09-17T15:32:00\"],[281.0,\"2020-09-19T09:40:42\"],[193.0,\"2020-09-20T14:51:27\"],[409.0,\"2020-09-22T16:16:19\"],[2254.0,\"2020-09-26T07:14:56\"],[148.0,\"2020-09-29T16:18:03\"],[581.0,\"2020-10-03T08:25:13\"],[536.0,\"2020-10-10T07:01:46\"],[135.0,\"2020-10-05T16:52:21\"],[507.0,\"2020-10-17T15:50:36\"],[746.0,\"2020-10-18T08:18:43\"],[586.0,\"2020-10-28T15:26:38\"],[577.0,\"2020-10-24T08:11:27\"],[1236.0,\"2020-11-01T09:12:53\"],[1358.0,\"2020-11-08T09:09:23\"],[1551.408203125,\"2020-11-14T09:04:17\"],[502.6546936035156,\"2020-11-21T11:00:19\"],[1100.0,\"2020-11-28T09:06:30\"],[161.90960693359375,\"2020-12-06T10:35:52\"],[1285.653564453125,\"2020-12-10T07:51:48\"],[100.1999969482422,\"2020-12-23T15:23:47\"],[758.0,\"2020-12-29T08:50:07\"],[727.0,\"2021-01-02T08:51:34\"],[285.0,\"2021-01-06T15:09:36\"],[44.0,\"2021-01-06T10:18:08\"],[99.0,\"2021-01-11T15:39:23\"],[511.0,\"2021-01-16T09:23:39\"],[724.0,\"2021-01-23T15:14:22\"],[573.0,\"2021-01-30T09:17:11\"],[257.0,\"2021-02-02T15:22:21\"],[395.0,\"2021-02-13T14:34:47\"],[980.0,\"2021-02-20T08:53:47\"],[177.0,\"2021-02-17T15:50:03\"],[490.0,\"2021-03-09T15:40:51\"],[937.0,\"2021-03-06T09:59:51\"],[764.0,\"2021-03-17T15:47:00\"],[959.0,\"2021-03-20T08:30:40\"],[104.0,\"2021-03-24T16:20:53\"],[416.0,\"2021-03-28T08:36:02\"],[274.0,\"2021-04-02T10:00:59\"],[1306.0,\"2021-04-03T08:07:20\"],[370.0,\"2021-04-05T07:06:32\"],[721.0,\"2021-04-13T16:16:23\"],[575.0,\"2021-04-10T07:51:51\"],[436.0,\"2021-04-18T08:06:03\"],[1028.66552734375,\"2021-04-25T07:55:08\"],[335.7300109863281,\"2021-04-30T16:22:18\"],[273.6499938964844,\"2021-05-01T07:24:08\"],[437.73779296875,\"2021-05-02T07:35:41\"],[179.9199981689453,\"2021-05-04T17:11:52\"],[1187.0,\"2021-05-09T08:03:57\"],[1169.0,\"2021-05-12T13:55:44\"],[1243.0,\"2021-05-19T14:04:05\"],[565.0,\"2021-05-29T07:13:17\"],[420.0,\"2021-05-31T16:50:37\"],[268.0,\"2021-06-03T17:10:37\"],[300.0,\"2021-06-06T16:28:15\"],[211.0,\"2021-06-07T17:12:38\"],[1100.0,\"2021-06-26T08:18:16\"],[306.0,\"2021-06-30T15:38:50\"],[43.28333282470703,\"2021-07-06T16:51:04\"],[1407.0,\"2021-07-17T08:38:13\"],[210.0,\"2021-07-07T16:59:09\"],[155.0,\"2021-07-21T15:20:46\"],[262.0,\"2021-07-24T08:52:03\"],[1243.0,\"2021-08-05T14:27:28\"],[421.0,\"2021-08-10T16:51:41\"],[1111.0,\"2021-08-15T08:50:07\"],[1489.0,\"2021-08-21T09:18:29\"],[1203.0,\"2021-08-22T08:38:16\"],[153.0,\"2021-08-24T16:33:29\"],[793.0,\"2021-09-11T06:04:41\"],[1824.0,\"2021-09-18T07:57:21\"],[1476.0,\"2021-09-25T07:03:24\"],[1242.0,\"2021-10-09T13:07:15\"],[729.0,\"2021-10-11T07:42:00\"],[2117.0,\"2021-10-10T08:33:03\"],[487.8233337402344,\"2021-10-16T08:08:27\"],[564.0,\"2021-10-24T07:53:42\"],[308.0,\"2021-11-06T09:05:10\"],[396.320556640625,\"2021-11-13T09:14:59\"],[191.6266632080078,\"2021-11-21T09:32:29\"],[456.0,\"2021-12-04T09:24:42\"],[409.0,\"2021-12-13T15:06:25\"],[95.0,\"2022-01-07T14:22:18\"],[410.0,\"2022-01-29T14:45:46\"],[192.0,\"2022-01-30T15:05:49\"],[379.0,\"2022-02-05T09:36:49\"],[62.31476211547852,\"2022-02-09T16:34:47\"],[296.0,\"2022-02-13T10:02:13\"],[45.0,\"2022-02-19T09:38:20\"],[430.0,\"2022-02-20T10:02:52\"],[365.0,\"2022-03-05T14:31:24\"],[240.0,\"2022-03-06T09:19:43\"],[269.0,\"2022-03-09T16:16:55\"],[220.0,\"2022-03-12T09:36:44\"],[202.0,\"2022-03-27T14:02:22\"],[55.77190399169922,\"2022-03-30T15:56:40\"],[943.0,\"2022-04-16T07:30:15\"],[699.0,\"2022-04-15T07:13:57\"],[29.0,\"2022-04-12T15:43:11\"],[296.0,\"2022-04-23T08:22:25\"],[218.0,\"2022-04-21T15:59:01\"],[109.0,\"2022-04-24T17:21:13\"],[2203.0,\"2022-04-30T07:55:23\"],[166.0,\"2022-05-03T16:02:46\"],[150.0,\"2022-05-06T16:09:21\"],[387.0,\"2022-05-07T08:30:19\"],[425.0,\"2022-05-15T07:15:04\"],[414.0,\"2022-05-19T16:25:05\"],[549.0,\"2022-05-21T09:22:53\"],[583.0,\"2022-05-22T08:03:07\"],[1529.0,\"2022-06-04T07:44:28\"],[392.0,\"2022-05-29T07:45:22\"],[1560.0,\"2022-06-12T07:39:05\"],[2826.0,\"2022-06-19T08:19:31\"],[507.0,\"2022-06-23T16:34:26\"],[601.0,\"2022-06-20T14:03:45\"],[551.0,\"2022-07-10T07:19:56\"],[265.0,\"2022-07-07T16:34:33\"],[1385.0,\"2022-07-22T07:54:00\"],[1348.0,\"2022-08-15T06:18:48\"],[106.0,\"2022-08-25T17:27:59\"],[327.0,\"2022-08-22T16:37:27\"],[31.0,\"2021-10-27T16:06:28\"],[674.0,\"2022-07-20T11:04:35\"],[263.0,\"2022-08-17T16:35:54\"],[799.0,\"2022-07-21T09:41:29\"],[146.0,\"2022-09-01T16:40:10\"],[206.0,\"2022-08-31T16:59:57\"],[357.0,\"2022-08-26T16:34:38\"],[414.0,\"2022-09-06T16:27:35\"],[246.0,\"2022-09-20T15:59:41\"],[311.0,\"2022-09-17T16:25:18\"],[190.0,\"2022-09-11T16:27:13\"],[1634.0,\"2022-10-12T07:27:32\"],[251.0,\"2022-10-01T08:14:08\"],[395.26666259765625,\"2022-10-16T08:54:17\"],[98.47000122070312,\"2022-10-25T15:31:18\"],[174.53500366210938,\"2022-11-19T10:12:09\"],[287.50225830078125,\"2022-12-04T09:20:02\"],[384.8787841796875,\"2023-01-08T14:18:44\"],[185.98838806152344,\"2023-02-05T14:42:47\"],[388.336669921875,\"2023-01-02T09:17:15\"],[1060.2401123046875,\"2023-01-15T09:58:26\"],[367.8414611816406,\"2023-02-12T09:16:33\"],[203.52932739257807,\"2023-03-05T09:42:52\"],[583.3316650390625,\"2023-02-25T08:56:55\"],[1039.22607421875,\"2023-03-18T09:00:10\"],[386.4044494628906,\"2023-03-22T16:19:07\"],[835.37939453125,\"2023-03-25T06:27:06\"],[567.7510375976562,\"2023-03-29T16:05:01\"],[315.1576232910156,\"2023-04-02T07:05:02\"],[184.50582885742188,\"2023-04-04T16:34:37\"],[1457.8424072265625,\"2023-04-09T06:30:27\"],[42.50785827636719,\"2023-04-12T15:21:28\"],[1940.0,\"2023-04-22T06:00:42\"],[774.0,\"2023-04-23T08:59:21\"],[814.0,\"2023-04-26T16:11:46\"],[1353.0,\"2023-05-03T15:46:05\"],[688.0,\"2023-05-07T07:50:44\"],[162.0,\"2023-05-14T13:00:58\"],[791.0,\"2023-05-20T05:36:32\"],[467.0,\"2023-05-20T08:51:05\"],[921.0,\"2023-05-29T16:05:55\"],[92.38333129882812,\"2023-06-04T16:44:19\"],[176.75999450683594,\"2023-06-10T08:01:09\"],[1230.0,\"2023-06-26T15:03:15\"],[418.0,\"2023-07-01T08:35:01\"],[205.0,\"2023-07-04T16:52:58\"],[240.0,\"2023-07-24T15:07:07\"],[68.0,\"2023-07-28T17:16:41\"],[1154.0,\"2023-07-29T11:39:03\"],[54.0,\"2023-08-08T17:14:14\"],[1516.0,\"2023-08-10T08:56:44\"],[2136.0,\"2023-08-11T08:16:33\"],[1425.0,\"2023-08-12T08:01:28\"],[1087.0,\"2023-08-13T09:34:26\"],[535.0,\"2023-08-20T06:21:37\"],[62.0,\"2023-08-21T17:16:47\"],[667.0,\"2023-08-30T15:58:50\"]],\"hovertemplate\":\"Activity Date: %{customdata[1]|%Y-%m-%d}\\u003cbr\\u003eDistance (km): %{x:.1f}\\u003cbr\\u003eAverage speed (km\\u002fhr): %{y:.1f}\\u003cbr\\u003eElevation gain: %{customdata[0]:.1f}\",\"legendgroup\":\"\",\"marker\":{\"color\":[2.54410009765625,1.271,32.21930078125,53.6323984375,38.82719921875,30.581099609375,25.858400390625,1.296,24.02380078125,44.5956015625,35.64919921875,48.4255,45.66,29.790400390625,12.888900390625,67.340703125,35.00719921875,55.6026015625,9.7805,60.2775,32.40330078125,31.004099609375,25.105599609375,14.607,13.7212001953125,18.23280078125,18.39480078125,9.992,30.962,52.82419921875,30.65969921875,42.711,67.855296875,87.3881015625,98.7153984375,30.66869921875,20.30369921875,12.4655,15.0322001953125,21.19419921875,30.77019921875,9.000400390625,51.1936015625,31.19880078125,8.3495,31.000900390625,56.6575,46.05780078125,30.927099609375,54.7233984375,6.8172001953125,11.8765,22.067900390625,32.232599609375,33.67619921875,30.036599609375,42.69980078125,46.3601015625,50.9595,54.45930078125,32.152099609375,45.044,37.6678984375,53.0186015625,58.6798984375,36.0363984375,34.87680078125,103.180796875,71.770703125,26.187400390625,32.76119921875,56.3845,39.33530078125,28.84519921875,41.3451015625,43.0446015625,35.3788984375,50.887,53.56730078125,103.504703125,31.008900390625,74.7453984375,73.25,24.42719921875,33.14819921875,64.75969921875,25.54030078125,48.80869921875,51.48069921875,49.2525,65.3668984375,21.63969921875,63.3905,34.41230078125,108.461203125,17.324900390625,50.8405,25.8655,35.4308984375,4.3195,22.99269921875,47.81,23.22030078125,69.416703125,32.40280078125,19.401599609375,114.0403984375,28.8555,46.7696015625,35.91819921875,38.0711015625,107.265296875,14.2677998046875,50.30969921875,39.0088984375,45.8948984375,56.7711015625,31.975900390625,67.7093984375,23.623400390625,45.6306015625,35.62980078125,55.08369921875,74.258296875,34.3328984375,73.5313984375,91.1555,73.558,71.1341015625,52.52069921875,43.5828984375,47.43530078125,37.0003984375,60.87530078125,59.0083984375,5.17960009765625,28.05980078125,35.69780078125,31.00380078125,43.36430078125,60.3531015625,51.02180078125,31.3465,58.4398984375,38.7355,30.604099609375,98.8685,83.199296875,61.352,31.231099609375,17.477900390625,60.3568984375,58.254,63.0083203125,55.6443515625,52.575609375,51.50462109375,53.201109375,39.91233984375,15.491490234375,53.4072890625,36.656421875,47.6435,14.3784892578125,45.5241484375,15.0199404296875,53.007421875,53.014421875,37.24248828125,35.22501171875,51.00826953125,31.702259765625,15.3052900390625,30.632220703125,32.2244296875,10.04076953125,31.31916015625,36.9294296875,22.519419921875,77.4442890625,32.079970703125,18.955490234375,70.00478125,73.8341015625,55.6470390625,55.51246875,74.2136796875,62.43001171875,69.504109375,54.0318984375,108.196828125,40.08766015625,37.35826953125,81.0296328125,43.80475,20.023,108.8397578125,22.754109375,41.10048828125,3.289550048828125,10.399080078125,34.49412109375,30.507330078125,25.100720703125,36.241390625,46.1795,51.84251171875,40.25337890625,33.3977109375,30.83155078125,82.007,45.89155078125,53.28678125,22.749080078125,36.4998515625,45.02212109375,24.118029296875,27.615140625,49.98901171875,49.1138203125,34.39930859375,28.683490234375,28.1405390625,61.9149296875,20.008271484375,61.34462890625,25.56583984375,40.72021875,39.7340625,73.076,22.86941015625,115.0466796875,49.50704296875,36.858078125,55.4427578125,101.607359375,32.4074609375,63.25069140625,56.7165625,40.73880078125,15.57008984375,36.87551171875,55.57026953125,53.2650703125,37.99469921875,50.06526953125,27.338478515625,95.635765625,4.06381005859375,75.441765625,100.07021875,66.4242265625,44.45294921875,24.721830078125,25.06733984375,29.676060546875],\"coloraxis\":\"coloraxis\",\"symbol\":\"circle\"},\"mode\":\"markers\",\"name\":\"\",\"orientation\":\"v\",\"showlegend\":false,\"x\":[40.8667106628418,17.375,160.089599609375,433.38873291015625,222.1921844482422,190.3143615722656,133.75616455078125,27.51551818847656,109.98186492919922,290.0,219.6205902099609,445.0,306.0,192.0,172.0,542.0,280.0,463.0,45.0,1584.0,157.0,164.0,1161.0,518.0,64.0,788.0,90.0,29.0,141.0,1579.0,150.0,234.0,1746.0,546.0,2120.0,151.0,129.0,108.0,53.0,105.0,156.0,32.0,193.0,157.0,70.0,139.0,416.0,263.0,144.0,282.0,33.0,58.0,107.0,204.0,184.0,169.0,230.0,279.0,197.0,358.0,172.0,277.0,205.0,391.0,534.0,163.0,195.0,448.0,1377.0,769.0,661.0,1414.0,1329.0,724.0,1260.0,776.0,281.0,193.0,409.0,2254.0,148.0,581.0,536.0,135.0,507.0,746.0,586.0,577.0,1236.0,1358.0,1551.408203125,502.6546936035156,1100.0,161.90960693359375,1285.653564453125,100.1999969482422,758.0,727.0,285.0,44.0,99.0,511.0,724.0,573.0,257.0,395.0,980.0,177.0,490.0,937.0,764.0,959.0,104.0,416.0,274.0,1306.0,370.0,721.0,575.0,436.0,1028.66552734375,335.7300109863281,273.6499938964844,437.73779296875,179.9199981689453,1187.0,1169.0,1243.0,565.0,420.0,268.0,300.0,211.0,1100.0,306.0,43.28333282470703,1407.0,210.0,155.0,262.0,1243.0,421.0,1111.0,1489.0,1203.0,153.0,793.0,1824.0,1476.0,1242.0,729.0,2117.0,487.8233337402344,564.0,308.0,396.320556640625,191.6266632080078,456.0,409.0,95.0,410.0,192.0,379.0,62.31476211547852,296.0,45.0,430.0,365.0,240.0,269.0,220.0,202.0,55.77190399169922,943.0,699.0,29.0,296.0,218.0,109.0,2203.0,166.0,150.0,387.0,425.0,414.0,549.0,583.0,1529.0,392.0,1560.0,2826.0,507.0,601.0,551.0,265.0,1385.0,1348.0,106.0,327.0,31.0,674.0,263.0,799.0,146.0,206.0,357.0,414.0,246.0,311.0,190.0,1634.0,251.0,395.26666259765625,98.47000122070312,174.53500366210938,287.50225830078125,384.8787841796875,185.98838806152344,388.336669921875,1060.2401123046875,367.8414611816406,203.52932739257807,583.3316650390625,1039.22607421875,386.4044494628906,835.37939453125,567.7510375976562,315.1576232910156,184.50582885742188,1457.8424072265625,42.50785827636719,1940.0,774.0,814.0,1353.0,688.0,162.0,791.0,467.0,921.0,92.38333129882812,176.75999450683594,1230.0,418.0,205.0,240.0,68.0,1154.0,54.0,1516.0,2136.0,1425.0,1087.0,535.0,62.0,667.0],\"xaxis\":\"x\",\"y\":[21.151871481668593,20.98899082568807,26.89923070790816,27.20922130425592,24.94252626472163,28.722138949582572,26.43858034826754,12.817582417582418,26.057753182434467,23.805481261121,16.153192849276273,22.905242412297987,24.475282906491955,23.57560813502968,16.58921752100465,22.731039029535868,23.50352800960463,25.22295433782762,29.78832487309645,17.743172526574,24.909648262331842,22.430618688454583,12.42509741459307,14.655852842809363,24.202018962824596,12.04368491972477,24.150723126367616,31.333797909407668,26.633978494623655,15.99925266595154,26.001158348056535,26.999051799824407,17.189435560481318,25.41172581785137,20.78340454851161,30.157693850723845,23.654795206310684,16.794835329341318,30.097842437778084,29.72306863556681,29.634220756420547,29.75338972107438,27.41290578982597,29.839448143597238,15.234769386720732,30.434480885260427,27.746837165011563,28.22265239361702,27.88318522257701,26.712438559322035,26.70502796857998,25.209551886792454,29.478456922541742,27.907012648809523,25.474746204559782,26.451017268529842,30.08205143101761,26.733359863046612,27.054151305117237,24.92416511727689,26.30626331676136,25.78854961832061,27.472535327188005,28.52166252615063,24.730465274525873,20.88057852486721,24.503607106264635,28.129562192351383,21.488234468562876,17.89571780680524,19.725759690165578,18.952773109243697,15.66970043294235,19.70450041508539,18.528864138553466,22.22931654353751,24.26906142816311,26.751343457943925,26.0175772817728,21.166605956032722,33.41276306682131,23.74754517474186,28.619492077273716,30.29208308215639,24.8352793314256,24.62085935024818,19.888618389033095,18.21031373069748,19.582683557428147,18.494732450192966,19.340908553875238,20.12995276162791,21.470110076206605,18.130291645324164,20.35874296105115,18.414420255757307,17.46929464541376,14.179351301964367,24.690521559233446,22.569230769230767,26.857143798669696,23.83547985043623,18.081999310512654,24.12163429054054,27.356961259967168,19.88208328885568,23.944093921322757,29.261915492957744,25.93108973124904,18.879473965177397,21.604029890447666,23.99372864110849,28.23753672175646,26.195388658880532,28.17657190509631,17.44684629091869,24.769841913101445,18.797067505919333,19.622752727016586,20.267931698343663,19.710843007559394,23.03237256464356,23.556820763542408,25.58180562200957,25.46321268541409,22.706556388317036,24.234532161583342,21.702081625962958,25.61083764626463,24.635116245928337,25.47466055772041,25.34388287511131,23.315497002450552,20.700017267639556,26.431533454647255,20.904215640765134,12.191079267740767,24.948958029994177,31.7445059193686,26.667489376921765,19.805940348678213,24.267206079072533,14.774469756480753,21.302514618772783,17.19454993834772,27.647367275721454,25.350897435897437,18.535643836252245,24.043892880470278,13.097851653512349,14.952576379812262,15.847482632557801,24.844734036251626,22.935283430232555,26.192424898666317,24.12339966224828,26.571601596087707,22.90135044242497,27.223270829386127,26.182800396126762,26.23004646998636,24.023870152921898,23.146639676113363,22.158630705532964,25.599333704311153,24.5334780158235,23.526904050055478,27.33484943425952,24.20089491200361,24.1819302417048,25.603704728457892,26.116278067791765,16.253405351216813,12.197322700060834,14.192310603743577,28.26174379397967,18.63311461948438,23.50945125994695,29.151352649676376,18.553233554601718,25.155280882433022,19.825614422937242,26.325834377937948,25.11838646994897,23.501799697911775,26.448502845420858,24.47053003068328,20.346554606871265,23.360544650359444,17.468777222721148,19.455001311123322,18.120991532207437,22.91918376150307,24.45357348688071,25.398147849895313,9.426284817575521,24.542632516442218,33.217677919708024,18.75069798663034,19.903159959296218,9.317244470196615,16.519733395969137,14.637663372151142,17.971876398418853,26.528874796665313,24.868541510845173,26.815092268318967,27.44028859354289,18.389684823340474,27.46006502041069,20.019339526683396,16.052233075446946,28.907837929475587,28.24997871033115,23.08493774156711,22.102773208441295,19.00720347389448,20.523225898018165,22.57972925815558,19.795091035042542,19.217490834497205,21.186000173112433,19.006743081613507,21.88236274052621,18.910416735035444,21.33107930672269,18.925976442011102,23.686021570528357,24.020591939546602,24.86048006048006,20.582469140625,23.476252515304385,21.779952913051446,21.322365619476138,20.963546699401324,30.00709546759639,34.103145096463024,26.178717988330646,26.662264951684516,20.749813640704584,23.821641919889505,24.34473540940766,20.24622713414634,31.189696344339623,25.619201570987077,28.87455467999039,15.220928341517165,25.890265923447135,27.919305746063934,21.58048122765197,20.025168843802113,22.354605555295876,20.383469263469625,20.891687389964787,17.83447103507905,21.005469518039718],\"yaxis\":\"y\",\"type\":\"scatter\"},{\"hovertemplate\":\"Activity Date: %{customdata[1]|%Y-%m-%d}\\u003cbr\\u003eDistance (km): %{x:.1f}\\u003cbr\\u003eAverage speed (km\\u002fhr): %{y:.1f}\\u003cbr\\u003eElevation gain: %{customdata[0]:.1f}\",\"legendgroup\":\"\",\"line\":{\"color\":\"black\"},\"marker\":{\"symbol\":\"circle\"},\"mode\":\"lines\",\"name\":\"\",\"showlegend\":false,\"x\":[17.375,27.51551818847656,29.0,29.0,31.0,32.0,33.0,40.8667106628418,42.50785827636719,43.28333282470703,44.0,45.0,45.0,53.0,54.0,55.77190399169922,58.0,62.0,62.31476211547852,64.0,68.0,70.0,90.0,92.38333129882812,95.0,98.47000122070312,99.0,100.1999969482422,104.0,105.0,106.0,107.0,108.0,109.0,109.98186492919922,129.0,133.75616455078125,135.0,139.0,141.0,144.0,146.0,148.0,150.0,150.0,151.0,153.0,155.0,156.0,157.0,157.0,160.089599609375,161.90960693359375,162.0,163.0,164.0,166.0,169.0,172.0,172.0,174.53500366210938,176.75999450683594,177.0,179.9199981689453,184.0,184.50582885742188,185.98838806152344,190.0,190.3143615722656,191.6266632080078,192.0,192.0,193.0,193.0,195.0,197.0,202.0,203.52932739257807,204.0,205.0,205.0,206.0,210.0,211.0,218.0,219.6205902099609,220.0,222.1921844482422,230.0,234.0,240.0,240.0,246.0,251.0,257.0,262.0,263.0,263.0,265.0,268.0,269.0,273.6499938964844,274.0,277.0,279.0,280.0,281.0,282.0,285.0,287.50225830078125,290.0,296.0,296.0,300.0,306.0,306.0,308.0,311.0,315.1576232910156,327.0,335.7300109863281,357.0,358.0,365.0,367.8414611816406,370.0,379.0,384.8787841796875,386.4044494628906,387.0,388.336669921875,391.0,392.0,395.0,395.26666259765625,396.320556640625,409.0,409.0,410.0,414.0,414.0,416.0,416.0,418.0,420.0,421.0,425.0,430.0,433.38873291015625,436.0,437.73779296875,445.0,448.0,456.0,463.0,467.0,487.8233337402344,490.0,502.6546936035156,507.0,507.0,511.0,518.0,534.0,535.0,536.0,542.0,546.0,549.0,551.0,564.0,565.0,567.7510375976562,573.0,575.0,577.0,581.0,583.0,583.3316650390625,586.0,601.0,661.0,667.0,674.0,688.0,699.0,721.0,724.0,724.0,727.0,729.0,746.0,758.0,764.0,769.0,774.0,776.0,788.0,791.0,793.0,799.0,814.0,835.37939453125,921.0,937.0,943.0,959.0,980.0,1028.66552734375,1039.22607421875,1060.2401123046875,1087.0,1100.0,1100.0,1111.0,1154.0,1161.0,1169.0,1187.0,1203.0,1230.0,1236.0,1242.0,1243.0,1243.0,1260.0,1285.653564453125,1306.0,1329.0,1348.0,1353.0,1358.0,1377.0,1385.0,1407.0,1414.0,1425.0,1457.8424072265625,1476.0,1489.0,1516.0,1529.0,1551.408203125,1560.0,1579.0,1584.0,1634.0,1746.0,1824.0,1940.0,2117.0,2120.0,2136.0,2203.0,2254.0,2826.0],\"xaxis\":\"x\",\"y\":[25.15982435813128,25.11935748649462,25.113433495846675,25.113433495846675,25.105452272227815,25.101461660418387,25.09747104860896,25.066078060136466,25.059528877088916,25.056434259198397,25.053574318705245,25.049583706895817,25.049583706895817,25.017658812420386,25.013668200610958,25.00659721961651,24.997705753373243,24.981743306135527,24.980487212720337,24.973762082516668,24.957799635278956,24.949818411660097,24.870006175471524,24.860495225444637,24.85005311642438,24.83620568857431,24.834090669186665,24.82930194719373,24.81413761013952,24.810146998330094,24.806156386520666,24.802165774711234,24.798175162901806,24.79418455109238,24.790266309310653,24.714372314903805,24.69539230847987,24.69042864404723,24.67446619680952,24.66648497319066,24.654513137762375,24.646531914143516,24.63855069052466,24.6305694669058,24.6305694669058,24.626578855096373,24.618597631477517,24.610616407858657,24.60662579604923,24.6026351842398,24.6026351842398,24.590305791552222,24.58304284883095,24.582682125192658,24.57869151338323,24.5747009015738,24.566719677954943,24.554747842526655,24.54277600709837,24.54277600709837,24.532659791547413,24.523780716806574,24.52282294805123,24.511170368874723,24.494888665385226,24.49287009877325,24.486953780505182,24.470944994528654,24.46969049952594,24.464453613120813,24.462963770909795,24.462963770909795,24.458973159100367,24.458973159100367,24.45099193548151,24.44301071186265,24.42305765281551,24.416954700862206,24.415076429196652,24.411085817387224,24.411085817387224,24.407095205577797,24.39113275834008,24.38714214653065,24.35920786386465,24.352740717434536,24.351226640245795,24.34247848309819,24.311320522151505,24.295358074913793,24.271414404057218,24.271414404057218,24.247470733200647,24.227517674153503,24.203574003296932,24.18362094424979,24.179630332440357,24.179630332440357,24.1716491088215,24.159677273393214,24.155686661583786,24.137130341026705,24.135733602536643,24.123761767108356,24.1157805434895,24.11178993168007,24.107799319870644,24.103808708061212,24.09183687263293,24.08185133110759,24.071883813585785,24.04794014272921,24.04794014272921,24.0319776954915,24.008034024634924,24.008034024634924,24.000052801016068,23.98808096558778,23.9714895049835,23.924231176636923,23.889393091698437,23.804512822354063,23.80052221054463,23.772587927878632,23.761248759331142,23.75263486883149,23.71671936254663,23.693259416974087,23.6871710790777,23.6847944680712,23.67946033729566,23.668832020833484,23.664841409024056,23.652869573595773,23.65180542668443,23.647599744670675,23.59700100826377,23.59700100826377,23.59301039645434,23.577047949216627,23.577047949216627,23.569066725597768,23.569066725597768,23.561085501978912,23.553104278360053,23.549113666550625,23.53315121931291,23.513198160265766,23.499675042695497,23.489254489409195,23.48231963226576,23.453338983124336,23.44136714769605,23.40944225322062,23.38150797055462,23.365545523316904,23.282447681781452,23.273761451700047,23.223261481961153,23.205921050939757,23.205921050939757,23.189958603702042,23.162024321036043,23.09817453208518,23.094183920275754,23.090193308466326,23.06624963760975,23.05028719037204,23.03831535494375,23.030334131324896,22.97845617780232,22.974465565992894,22.963487242867505,22.942540671517463,22.934559447898607,22.926578224279748,22.910615777042032,22.902634553423177,22.901311007001517,22.89066271799489,22.83080354085346,22.591366832287736,22.567423161431165,22.539488878765166,22.483620313433164,22.439723583529446,22.351930123722017,22.33995828829373,22.33995828829373,22.327986452865446,22.320005229246586,22.2521648284863,22.204277486773154,22.180333815916583,22.16038075686944,22.140427697822297,22.132446474203437,22.084559132490295,22.072587297062007,22.06460607344315,22.040662402586577,21.980803225445147,21.895486361150304,21.553807761836275,21.489957972885417,21.466014302028846,21.402164513077985,21.318361665079983,21.12415643694994,21.08201339387654,20.998154525327013,20.891366201471115,20.83948824794854,20.83948824794854,20.795591518044823,20.62399521023939,20.59606092757339,20.56413603309796,20.492305020528242,20.428455231577384,20.32070871272281,20.296765041866237,20.272821371009666,20.268830759200235,20.268830759200235,20.20099035843995,20.09861694117937,20.017422215206228,19.925638143589367,19.849816519210222,19.82986346016308,19.809910401115935,19.73408877673679,19.70216388226136,19.61437042245393,19.586436139787928,19.542539409884213,19.411478111755827,19.33901820760335,19.287140254080775,19.179393735226203,19.12751578170363,19.038093341684927,19.00380681561134,18.927985191232196,18.90803213218505,18.708501541713616,18.2615530190576,17.950285297922164,17.487374328028434,16.781036037759556,16.769064202331272,16.70521441338041,16.43784342214869,16.234322219867824,13.951692264874609],\"yaxis\":\"y\",\"type\":\"scatter\"}],                        {\"template\":{\"data\":{\"barpolar\":[{\"marker\":{\"line\":{\"color\":\"rgb(234,234,242)\",\"width\":0.5},\"pattern\":{\"fillmode\":\"overlay\",\"size\":10,\"solidity\":0.2}},\"type\":\"barpolar\"}],\"bar\":[{\"error_x\":{\"color\":\"rgb(36,36,36)\"},\"error_y\":{\"color\":\"rgb(36,36,36)\"},\"marker\":{\"line\":{\"color\":\"rgb(234,234,242)\",\"width\":0.5},\"pattern\":{\"fillmode\":\"overlay\",\"size\":10,\"solidity\":0.2}},\"type\":\"bar\"}],\"carpet\":[{\"aaxis\":{\"endlinecolor\":\"rgb(36,36,36)\",\"gridcolor\":\"white\",\"linecolor\":\"white\",\"minorgridcolor\":\"white\",\"startlinecolor\":\"rgb(36,36,36)\"},\"baxis\":{\"endlinecolor\":\"rgb(36,36,36)\",\"gridcolor\":\"white\",\"linecolor\":\"white\",\"minorgridcolor\":\"white\",\"startlinecolor\":\"rgb(36,36,36)\"},\"type\":\"carpet\"}],\"choropleth\":[{\"colorbar\":{\"outlinewidth\":0,\"tickcolor\":\"rgb(36,36,36)\",\"ticklen\":8,\"ticks\":\"outside\",\"tickwidth\":2},\"type\":\"choropleth\"}],\"contourcarpet\":[{\"colorbar\":{\"outlinewidth\":0,\"tickcolor\":\"rgb(36,36,36)\",\"ticklen\":8,\"ticks\":\"outside\",\"tickwidth\":2},\"type\":\"contourcarpet\"}],\"contour\":[{\"colorbar\":{\"outlinewidth\":0,\"tickcolor\":\"rgb(36,36,36)\",\"ticklen\":8,\"ticks\":\"outside\",\"tickwidth\":2},\"colorscale\":[[0.0,\"rgb(2,4,25)\"],[0.06274509803921569,\"rgb(24,15,41)\"],[0.12549019607843137,\"rgb(47,23,57)\"],[0.18823529411764706,\"rgb(71,28,72)\"],[0.25098039215686274,\"rgb(97,30,82)\"],[0.3137254901960784,\"rgb(123,30,89)\"],[0.3764705882352941,\"rgb(150,27,91)\"],[0.4392156862745098,\"rgb(177,22,88)\"],[0.5019607843137255,\"rgb(203,26,79)\"],[0.5647058823529412,\"rgb(223,47,67)\"],[0.6274509803921569,\"rgb(236,76,61)\"],[0.6901960784313725,\"rgb(242,107,73)\"],[0.7529411764705882,\"rgb(244,135,95)\"],[0.8156862745098039,\"rgb(245,162,122)\"],[0.8784313725490196,\"rgb(246,188,153)\"],[0.9411764705882353,\"rgb(247,212,187)\"],[1.0,\"rgb(250,234,220)\"]],\"type\":\"contour\"}],\"heatmapgl\":[{\"colorbar\":{\"outlinewidth\":0,\"tickcolor\":\"rgb(36,36,36)\",\"ticklen\":8,\"ticks\":\"outside\",\"tickwidth\":2},\"colorscale\":[[0.0,\"rgb(2,4,25)\"],[0.06274509803921569,\"rgb(24,15,41)\"],[0.12549019607843137,\"rgb(47,23,57)\"],[0.18823529411764706,\"rgb(71,28,72)\"],[0.25098039215686274,\"rgb(97,30,82)\"],[0.3137254901960784,\"rgb(123,30,89)\"],[0.3764705882352941,\"rgb(150,27,91)\"],[0.4392156862745098,\"rgb(177,22,88)\"],[0.5019607843137255,\"rgb(203,26,79)\"],[0.5647058823529412,\"rgb(223,47,67)\"],[0.6274509803921569,\"rgb(236,76,61)\"],[0.6901960784313725,\"rgb(242,107,73)\"],[0.7529411764705882,\"rgb(244,135,95)\"],[0.8156862745098039,\"rgb(245,162,122)\"],[0.8784313725490196,\"rgb(246,188,153)\"],[0.9411764705882353,\"rgb(247,212,187)\"],[1.0,\"rgb(250,234,220)\"]],\"type\":\"heatmapgl\"}],\"heatmap\":[{\"colorbar\":{\"outlinewidth\":0,\"tickcolor\":\"rgb(36,36,36)\",\"ticklen\":8,\"ticks\":\"outside\",\"tickwidth\":2},\"colorscale\":[[0.0,\"rgb(2,4,25)\"],[0.06274509803921569,\"rgb(24,15,41)\"],[0.12549019607843137,\"rgb(47,23,57)\"],[0.18823529411764706,\"rgb(71,28,72)\"],[0.25098039215686274,\"rgb(97,30,82)\"],[0.3137254901960784,\"rgb(123,30,89)\"],[0.3764705882352941,\"rgb(150,27,91)\"],[0.4392156862745098,\"rgb(177,22,88)\"],[0.5019607843137255,\"rgb(203,26,79)\"],[0.5647058823529412,\"rgb(223,47,67)\"],[0.6274509803921569,\"rgb(236,76,61)\"],[0.6901960784313725,\"rgb(242,107,73)\"],[0.7529411764705882,\"rgb(244,135,95)\"],[0.8156862745098039,\"rgb(245,162,122)\"],[0.8784313725490196,\"rgb(246,188,153)\"],[0.9411764705882353,\"rgb(247,212,187)\"],[1.0,\"rgb(250,234,220)\"]],\"type\":\"heatmap\"}],\"histogram2dcontour\":[{\"colorbar\":{\"outlinewidth\":0,\"tickcolor\":\"rgb(36,36,36)\",\"ticklen\":8,\"ticks\":\"outside\",\"tickwidth\":2},\"colorscale\":[[0.0,\"rgb(2,4,25)\"],[0.06274509803921569,\"rgb(24,15,41)\"],[0.12549019607843137,\"rgb(47,23,57)\"],[0.18823529411764706,\"rgb(71,28,72)\"],[0.25098039215686274,\"rgb(97,30,82)\"],[0.3137254901960784,\"rgb(123,30,89)\"],[0.3764705882352941,\"rgb(150,27,91)\"],[0.4392156862745098,\"rgb(177,22,88)\"],[0.5019607843137255,\"rgb(203,26,79)\"],[0.5647058823529412,\"rgb(223,47,67)\"],[0.6274509803921569,\"rgb(236,76,61)\"],[0.6901960784313725,\"rgb(242,107,73)\"],[0.7529411764705882,\"rgb(244,135,95)\"],[0.8156862745098039,\"rgb(245,162,122)\"],[0.8784313725490196,\"rgb(246,188,153)\"],[0.9411764705882353,\"rgb(247,212,187)\"],[1.0,\"rgb(250,234,220)\"]],\"type\":\"histogram2dcontour\"}],\"histogram2d\":[{\"colorbar\":{\"outlinewidth\":0,\"tickcolor\":\"rgb(36,36,36)\",\"ticklen\":8,\"ticks\":\"outside\",\"tickwidth\":2},\"colorscale\":[[0.0,\"rgb(2,4,25)\"],[0.06274509803921569,\"rgb(24,15,41)\"],[0.12549019607843137,\"rgb(47,23,57)\"],[0.18823529411764706,\"rgb(71,28,72)\"],[0.25098039215686274,\"rgb(97,30,82)\"],[0.3137254901960784,\"rgb(123,30,89)\"],[0.3764705882352941,\"rgb(150,27,91)\"],[0.4392156862745098,\"rgb(177,22,88)\"],[0.5019607843137255,\"rgb(203,26,79)\"],[0.5647058823529412,\"rgb(223,47,67)\"],[0.6274509803921569,\"rgb(236,76,61)\"],[0.6901960784313725,\"rgb(242,107,73)\"],[0.7529411764705882,\"rgb(244,135,95)\"],[0.8156862745098039,\"rgb(245,162,122)\"],[0.8784313725490196,\"rgb(246,188,153)\"],[0.9411764705882353,\"rgb(247,212,187)\"],[1.0,\"rgb(250,234,220)\"]],\"type\":\"histogram2d\"}],\"histogram\":[{\"marker\":{\"pattern\":{\"fillmode\":\"overlay\",\"size\":10,\"solidity\":0.2}},\"type\":\"histogram\"}],\"mesh3d\":[{\"colorbar\":{\"outlinewidth\":0,\"tickcolor\":\"rgb(36,36,36)\",\"ticklen\":8,\"ticks\":\"outside\",\"tickwidth\":2},\"type\":\"mesh3d\"}],\"parcoords\":[{\"line\":{\"colorbar\":{\"outlinewidth\":0,\"tickcolor\":\"rgb(36,36,36)\",\"ticklen\":8,\"ticks\":\"outside\",\"tickwidth\":2}},\"type\":\"parcoords\"}],\"pie\":[{\"automargin\":true,\"type\":\"pie\"}],\"scatter3d\":[{\"line\":{\"colorbar\":{\"outlinewidth\":0,\"tickcolor\":\"rgb(36,36,36)\",\"ticklen\":8,\"ticks\":\"outside\",\"tickwidth\":2}},\"marker\":{\"colorbar\":{\"outlinewidth\":0,\"tickcolor\":\"rgb(36,36,36)\",\"ticklen\":8,\"ticks\":\"outside\",\"tickwidth\":2}},\"type\":\"scatter3d\"}],\"scattercarpet\":[{\"marker\":{\"colorbar\":{\"outlinewidth\":0,\"tickcolor\":\"rgb(36,36,36)\",\"ticklen\":8,\"ticks\":\"outside\",\"tickwidth\":2}},\"type\":\"scattercarpet\"}],\"scattergeo\":[{\"marker\":{\"colorbar\":{\"outlinewidth\":0,\"tickcolor\":\"rgb(36,36,36)\",\"ticklen\":8,\"ticks\":\"outside\",\"tickwidth\":2}},\"type\":\"scattergeo\"}],\"scattergl\":[{\"marker\":{\"colorbar\":{\"outlinewidth\":0,\"tickcolor\":\"rgb(36,36,36)\",\"ticklen\":8,\"ticks\":\"outside\",\"tickwidth\":2}},\"type\":\"scattergl\"}],\"scattermapbox\":[{\"marker\":{\"colorbar\":{\"outlinewidth\":0,\"tickcolor\":\"rgb(36,36,36)\",\"ticklen\":8,\"ticks\":\"outside\",\"tickwidth\":2}},\"type\":\"scattermapbox\"}],\"scatterpolargl\":[{\"marker\":{\"colorbar\":{\"outlinewidth\":0,\"tickcolor\":\"rgb(36,36,36)\",\"ticklen\":8,\"ticks\":\"outside\",\"tickwidth\":2}},\"type\":\"scatterpolargl\"}],\"scatterpolar\":[{\"marker\":{\"colorbar\":{\"outlinewidth\":0,\"tickcolor\":\"rgb(36,36,36)\",\"ticklen\":8,\"ticks\":\"outside\",\"tickwidth\":2}},\"type\":\"scatterpolar\"}],\"scatter\":[{\"fillpattern\":{\"fillmode\":\"overlay\",\"size\":10,\"solidity\":0.2},\"type\":\"scatter\"}],\"scatterternary\":[{\"marker\":{\"colorbar\":{\"outlinewidth\":0,\"tickcolor\":\"rgb(36,36,36)\",\"ticklen\":8,\"ticks\":\"outside\",\"tickwidth\":2}},\"type\":\"scatterternary\"}],\"surface\":[{\"colorbar\":{\"outlinewidth\":0,\"tickcolor\":\"rgb(36,36,36)\",\"ticklen\":8,\"ticks\":\"outside\",\"tickwidth\":2},\"colorscale\":[[0.0,\"rgb(2,4,25)\"],[0.06274509803921569,\"rgb(24,15,41)\"],[0.12549019607843137,\"rgb(47,23,57)\"],[0.18823529411764706,\"rgb(71,28,72)\"],[0.25098039215686274,\"rgb(97,30,82)\"],[0.3137254901960784,\"rgb(123,30,89)\"],[0.3764705882352941,\"rgb(150,27,91)\"],[0.4392156862745098,\"rgb(177,22,88)\"],[0.5019607843137255,\"rgb(203,26,79)\"],[0.5647058823529412,\"rgb(223,47,67)\"],[0.6274509803921569,\"rgb(236,76,61)\"],[0.6901960784313725,\"rgb(242,107,73)\"],[0.7529411764705882,\"rgb(244,135,95)\"],[0.8156862745098039,\"rgb(245,162,122)\"],[0.8784313725490196,\"rgb(246,188,153)\"],[0.9411764705882353,\"rgb(247,212,187)\"],[1.0,\"rgb(250,234,220)\"]],\"type\":\"surface\"}],\"table\":[{\"cells\":{\"fill\":{\"color\":\"rgb(231,231,240)\"},\"line\":{\"color\":\"white\"}},\"header\":{\"fill\":{\"color\":\"rgb(183,183,191)\"},\"line\":{\"color\":\"white\"}},\"type\":\"table\"}]},\"layout\":{\"annotationdefaults\":{\"arrowcolor\":\"rgb(67,103,167)\"},\"autotypenumbers\":\"strict\",\"coloraxis\":{\"colorbar\":{\"outlinewidth\":0,\"tickcolor\":\"rgb(36,36,36)\",\"ticklen\":8,\"ticks\":\"outside\",\"tickwidth\":2}},\"colorscale\":{\"sequential\":[[0.0,\"rgb(2,4,25)\"],[0.06274509803921569,\"rgb(24,15,41)\"],[0.12549019607843137,\"rgb(47,23,57)\"],[0.18823529411764706,\"rgb(71,28,72)\"],[0.25098039215686274,\"rgb(97,30,82)\"],[0.3137254901960784,\"rgb(123,30,89)\"],[0.3764705882352941,\"rgb(150,27,91)\"],[0.4392156862745098,\"rgb(177,22,88)\"],[0.5019607843137255,\"rgb(203,26,79)\"],[0.5647058823529412,\"rgb(223,47,67)\"],[0.6274509803921569,\"rgb(236,76,61)\"],[0.6901960784313725,\"rgb(242,107,73)\"],[0.7529411764705882,\"rgb(244,135,95)\"],[0.8156862745098039,\"rgb(245,162,122)\"],[0.8784313725490196,\"rgb(246,188,153)\"],[0.9411764705882353,\"rgb(247,212,187)\"],[1.0,\"rgb(250,234,220)\"]],\"sequentialminus\":[[0.0,\"rgb(2,4,25)\"],[0.06274509803921569,\"rgb(24,15,41)\"],[0.12549019607843137,\"rgb(47,23,57)\"],[0.18823529411764706,\"rgb(71,28,72)\"],[0.25098039215686274,\"rgb(97,30,82)\"],[0.3137254901960784,\"rgb(123,30,89)\"],[0.3764705882352941,\"rgb(150,27,91)\"],[0.4392156862745098,\"rgb(177,22,88)\"],[0.5019607843137255,\"rgb(203,26,79)\"],[0.5647058823529412,\"rgb(223,47,67)\"],[0.6274509803921569,\"rgb(236,76,61)\"],[0.6901960784313725,\"rgb(242,107,73)\"],[0.7529411764705882,\"rgb(244,135,95)\"],[0.8156862745098039,\"rgb(245,162,122)\"],[0.8784313725490196,\"rgb(246,188,153)\"],[0.9411764705882353,\"rgb(247,212,187)\"],[1.0,\"rgb(250,234,220)\"]]},\"colorway\":[\"rgb(76,114,176)\",\"rgb(221,132,82)\",\"rgb(85,168,104)\",\"rgb(196,78,82)\",\"rgb(129,114,179)\",\"rgb(147,120,96)\",\"rgb(218,139,195)\",\"rgb(140,140,140)\",\"rgb(204,185,116)\",\"rgb(100,181,205)\"],\"font\":{\"color\":\"rgb(36,36,36)\"},\"geo\":{\"bgcolor\":\"white\",\"lakecolor\":\"white\",\"landcolor\":\"rgb(234,234,242)\",\"showlakes\":true,\"showland\":true,\"subunitcolor\":\"white\"},\"hoverlabel\":{\"align\":\"left\"},\"hovermode\":\"closest\",\"paper_bgcolor\":\"white\",\"plot_bgcolor\":\"rgb(234,234,242)\",\"polar\":{\"angularaxis\":{\"gridcolor\":\"white\",\"linecolor\":\"white\",\"showgrid\":true,\"ticks\":\"\"},\"bgcolor\":\"rgb(234,234,242)\",\"radialaxis\":{\"gridcolor\":\"white\",\"linecolor\":\"white\",\"showgrid\":true,\"ticks\":\"\"}},\"scene\":{\"xaxis\":{\"backgroundcolor\":\"rgb(234,234,242)\",\"gridcolor\":\"white\",\"gridwidth\":2,\"linecolor\":\"white\",\"showbackground\":true,\"showgrid\":true,\"ticks\":\"\",\"zerolinecolor\":\"white\"},\"yaxis\":{\"backgroundcolor\":\"rgb(234,234,242)\",\"gridcolor\":\"white\",\"gridwidth\":2,\"linecolor\":\"white\",\"showbackground\":true,\"showgrid\":true,\"ticks\":\"\",\"zerolinecolor\":\"white\"},\"zaxis\":{\"backgroundcolor\":\"rgb(234,234,242)\",\"gridcolor\":\"white\",\"gridwidth\":2,\"linecolor\":\"white\",\"showbackground\":true,\"showgrid\":true,\"ticks\":\"\",\"zerolinecolor\":\"white\"}},\"shapedefaults\":{\"fillcolor\":\"rgb(67,103,167)\",\"line\":{\"width\":0},\"opacity\":0.5},\"ternary\":{\"aaxis\":{\"gridcolor\":\"white\",\"linecolor\":\"white\",\"showgrid\":true,\"ticks\":\"\"},\"baxis\":{\"gridcolor\":\"white\",\"linecolor\":\"white\",\"showgrid\":true,\"ticks\":\"\"},\"bgcolor\":\"rgb(234,234,242)\",\"caxis\":{\"gridcolor\":\"white\",\"linecolor\":\"white\",\"showgrid\":true,\"ticks\":\"\"}},\"xaxis\":{\"automargin\":true,\"gridcolor\":\"white\",\"linecolor\":\"white\",\"showgrid\":true,\"ticks\":\"\",\"title\":{\"standoff\":15},\"zerolinecolor\":\"white\"},\"yaxis\":{\"automargin\":true,\"gridcolor\":\"white\",\"linecolor\":\"white\",\"showgrid\":true,\"ticks\":\"\",\"title\":{\"standoff\":15},\"zerolinecolor\":\"white\"}}},\"xaxis\":{\"anchor\":\"y\",\"domain\":[0.0,1.0],\"title\":{\"text\":\"Elevation Gain\"},\"tickangle\":-45},\"yaxis\":{\"anchor\":\"x\",\"domain\":[0.0,1.0],\"title\":{\"text\":\"Average Speed (km\\u002fhr)\"}},\"coloraxis\":{\"colorbar\":{\"title\":{\"text\":\"Elevation gain\",\"font\":{\"size\":12}},\"tickfont\":{\"size\":10},\"thickness\":15,\"ticklen\":3},\"colorscale\":[[0.0,\"rgb(3, 35, 51)\"],[0.09090909090909091,\"rgb(13, 48, 100)\"],[0.18181818181818182,\"rgb(53, 50, 155)\"],[0.2727272727272727,\"rgb(93, 62, 153)\"],[0.36363636363636365,\"rgb(126, 77, 143)\"],[0.45454545454545453,\"rgb(158, 89, 135)\"],[0.5454545454545454,\"rgb(193, 100, 121)\"],[0.6363636363636364,\"rgb(225, 113, 97)\"],[0.7272727272727273,\"rgb(246, 139, 69)\"],[0.8181818181818182,\"rgb(251, 173, 60)\"],[0.9090909090909091,\"rgb(246, 211, 70)\"],[1.0,\"rgb(231, 250, 90)\"]]},\"legend\":{\"tracegroupgap\":0},\"title\":{\"text\":\"My average speed on bicicletas\"},\"autosize\":false,\"width\":700,\"height\":600},                        {\"responsive\": true}                    ).then(function(){\n",
       "                            \n",
       "var gd = document.getElementById('38bdcd82-1aa4-4e59-968e-772fec26efe8');\n",
       "var x = new MutationObserver(function (mutations, observer) {{\n",
       "        var display = window.getComputedStyle(gd).display;\n",
       "        if (!display || display === 'none') {{\n",
       "            console.log([gd, 'removed!']);\n",
       "            Plotly.purge(gd);\n",
       "            observer.disconnect();\n",
       "        }}\n",
       "}});\n",
       "\n",
       "// Listen for the removal of the full notebook cells\n",
       "var notebookContainer = gd.closest('#notebook-container');\n",
       "if (notebookContainer) {{\n",
       "    x.observe(notebookContainer, {childList: true});\n",
       "}}\n",
       "\n",
       "// Listen for the clearing of the current output cell\n",
       "var outputEl = gd.closest('.output');\n",
       "if (outputEl) {{\n",
       "    x.observe(outputEl, {childList: true});\n",
       "}}\n",
       "\n",
       "                        })                };                });            </script>        </div>"
      ]
     },
     "metadata": {},
     "output_type": "display_data"
    }
   ],
   "source": [
    "# Find the activity with the most kms\n",
    "most_kms = (\n",
    "    df_km.groupby(by=[\"Activity Type\"], as_index=False)\n",
    "    .sum()\n",
    "    .sort_values(by=\"total_distance_km\")\n",
    ")\n",
    "\n",
    "# Define an activity here\n",
    "activity = most_kms[\"Activity Type\"].values[-1]\n",
    "\n",
    "# Generating four bins based on the Distance column\n",
    "speed = df.loc[df[\"Activity Type\"] == activity]\n",
    "cats, bins = pd.cut(speed[\"Distance (km)\"], 4, precision=0, retbins=True)\n",
    "bins = np.around(bins, 0).astype(int)\n",
    "bin_labels = []\n",
    "for i in range(0, 4):\n",
    "    bin_labels.append(\n",
    "        f\"{bins[i]}-{str(bins[i + 1])}km {activity.lower()}s\"\n",
    "    )\n",
    "speed.insert(\n",
    "    0, \"distance_bin\", pd.cut(speed[\"Distance (km)\"], 4, precision=0, labels=bin_labels)\n",
    ")\n",
    "\n",
    "# Create a scatter plot with four subplots\n",
    "fig_s = px.scatter(\n",
    "    speed,\n",
    "    x=\"Elevation Gain\",\n",
    "    y=\"Average Speed (km/hr)\",\n",
    "    color=\"Distance (km)\",\n",
    "    trendline=\"ols\",  # Add a black trend line\n",
    "    trendline_color_override=\"black\",\n",
    "    color_continuous_scale=\"thermal\",  # Define a color scale\n",
    "    title=\"My average speed on \" + activity.lower() + \"s\",  # Set title text\n",
    "    custom_data=[\"Elevation Gain\", \"Activity Date\"],  # Variables for the hover text\n",
    ")\n",
    "\n",
    "# Customize the hover text\n",
    "fig_s.update_traces(\n",
    "    hovertemplate=\n",
    "    \"Activity Date: %{customdata[1]|%Y-%m-%d}<br>\"\n",
    "    \"Distance (km): %{x:.1f}<br>\"\n",
    "    \"Average speed (km/hr): %{y:.1f}<br>\"\n",
    "    \"Elevation gain: %{customdata[0]:.1f}\"\n",
    ")\n",
    "\n",
    "# Adjust the size and layout\n",
    "fig_s.update_layout(\n",
    "    autosize=False,\n",
    "    width=700,\n",
    "    height=600,\n",
    "    template=\"seaborn\",  # Others options: \"plotly\", \"plotly_dark\", \"ggplot2\", \"seaborn\", \"simple_white\"\n",
    ")\n",
    "\n",
    "\n",
    "# Rotate xtick labels\n",
    "fig_s.update_xaxes(tickangle=-45)\n",
    "\n",
    "# Set size of bin labels\n",
    "fig_s.update_annotations(font=dict(size=10))\n",
    "\n",
    "# Make the color bar smaller\n",
    "fig_s.update_coloraxes(\n",
    "    colorbar_thickness=15,\n",
    "    colorbar_title_text=\"Elevation gain\",\n",
    "    colorbar_title_font_size=12,\n",
    "    colorbar_tickfont_size=10,\n",
    "    colorbar_ticklen=3,\n",
    ")\n",
    "\n",
    "fig_s.show()"
   ]
  },
  {
   "cell_type": "code",
   "execution_count": null,
   "metadata": {},
   "outputs": [],
   "source": []
  }
 ],
 "metadata": {
  "kernelspec": {
   "display_name": "Python 3",
   "language": "python",
   "name": "python3"
  },
  "language_info": {
   "codemirror_mode": {
    "name": "ipython",
    "version": 3
   },
   "file_extension": ".py",
   "mimetype": "text/x-python",
   "name": "python",
   "nbconvert_exporter": "python",
   "pygments_lexer": "ipython3",
   "version": "3.10.8"
  },
  "orig_nbformat": 4
 },
 "nbformat": 4,
 "nbformat_minor": 2
}
